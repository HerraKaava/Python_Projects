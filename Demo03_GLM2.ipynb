{
 "cells": [
  {
   "cell_type": "code",
   "execution_count": 1,
   "id": "88ae44be",
   "metadata": {},
   "outputs": [],
   "source": [
    "import pandas as pd\n",
    "import numpy as np\n",
    "import scipy\n",
    "import matplotlib.pyplot as plt"
   ]
  },
  {
   "cell_type": "markdown",
   "id": "e5ad79ad",
   "metadata": {},
   "source": [
    "**Tehtävä 1**"
   ]
  },
  {
   "cell_type": "markdown",
   "id": "9577309e",
   "metadata": {},
   "source": [
    "Palataan vielä lineaarisen mallin tapaukseen ja regressioestimaattien luottamusvälien laskemiseen bootstrap-menetelmällä."
   ]
  },
  {
   "cell_type": "markdown",
   "id": "80416d48",
   "metadata": {},
   "source": [
    "a) Käy läpi bootsrap-algoritmit kurssin luentomonisteesta"
   ]
  },
  {
   "cell_type": "markdown",
   "id": "0df05a99",
   "metadata": {},
   "source": [
    "b) Poimi Moodlen tiedostosta Rharjoituksia1.R koodit, jotka laskevat PISA-dataan sovitetun mallin regressioestimaattien $ 95 \\% $:n luottamusvälit käyttäen \n",
    "- parametritonta bootstrap-menetelmää\n",
    "- parametrista bootsrap-menetelmää\n",
    "- estimaattien t-jakaumaoletusta"
   ]
  },
  {
   "cell_type": "code",
   "execution_count": 2,
   "id": "09ae4163",
   "metadata": {},
   "outputs": [],
   "source": [
    "pisa = pd.read_csv(\"C:/Users/testi/Desktop/excel_files/pisa_demo02.csv\", \n",
    "                   index_col=0)"
   ]
  },
  {
   "cell_type": "code",
   "execution_count": 3,
   "id": "4a558141",
   "metadata": {},
   "outputs": [
    {
     "data": {
      "text/html": [
       "<div>\n",
       "<style scoped>\n",
       "    .dataframe tbody tr th:only-of-type {\n",
       "        vertical-align: middle;\n",
       "    }\n",
       "\n",
       "    .dataframe tbody tr th {\n",
       "        vertical-align: top;\n",
       "    }\n",
       "\n",
       "    .dataframe thead th {\n",
       "        text-align: right;\n",
       "    }\n",
       "</style>\n",
       "<table border=\"1\" class=\"dataframe\">\n",
       "  <thead>\n",
       "    <tr style=\"text-align: right;\">\n",
       "      <th></th>\n",
       "      <th>mpist</th>\n",
       "      <th>sukup</th>\n",
       "      <th>SES</th>\n",
       "      <th>koulusij</th>\n",
       "      <th>koulualue</th>\n",
       "      <th>matem</th>\n",
       "      <th>aidink</th>\n",
       "    </tr>\n",
       "  </thead>\n",
       "  <tbody>\n",
       "    <tr>\n",
       "      <th>107</th>\n",
       "      <td>569.254</td>\n",
       "      <td>poika</td>\n",
       "      <td>0.1322</td>\n",
       "      <td>kaupunki</td>\n",
       "      <td>Etela-Suomi</td>\n",
       "      <td>9</td>\n",
       "      <td>7</td>\n",
       "    </tr>\n",
       "    <tr>\n",
       "      <th>1261</th>\n",
       "      <td>631.804</td>\n",
       "      <td>poika</td>\n",
       "      <td>1.1144</td>\n",
       "      <td>kaupunki</td>\n",
       "      <td>Etela-Suomi</td>\n",
       "      <td>8</td>\n",
       "      <td>8</td>\n",
       "    </tr>\n",
       "  </tbody>\n",
       "</table>\n",
       "</div>"
      ],
      "text/plain": [
       "        mpist  sukup     SES  koulusij    koulualue  matem  aidink\n",
       "107   569.254  poika  0.1322  kaupunki  Etela-Suomi      9       7\n",
       "1261  631.804  poika  1.1144  kaupunki  Etela-Suomi      8       8"
      ]
     },
     "execution_count": 3,
     "metadata": {},
     "output_type": "execute_result"
    }
   ],
   "source": [
    "pisa.head(2)"
   ]
  },
  {
   "cell_type": "code",
   "execution_count": 4,
   "id": "c429e0be",
   "metadata": {},
   "outputs": [],
   "source": [
    "# Luodaan deisgn-matriisi.\n",
    "\n",
    "mat = pisa[\"matem\"].values\n",
    "\n",
    "sp = pisa[\"sukup\"].replace({\"poika\": 0, \"tytto\": 1}).values\n",
    "\n",
    "sij = pisa[\"koulusij\"].replace({\"kaupunki\": 0, \"maaseutu\": 1}).values\n",
    "\n",
    "ita = np.where(pisa[\"koulualue\"] == \"Ita-Suomi\", 1, 0)\n",
    "\n",
    "lansi = np.where(pisa[\"koulualue\"] == \"Lansi-Suomi\", 1, 0)\n",
    "\n",
    "pohjoinen = np.where(pisa[\"koulualue\"] == \"Pohjois-Suomi\", 1, 0)\n",
    "\n",
    "intercept = np.ones(200, dtype=int)\n",
    "\n",
    "X = pd.DataFrame({\"intercept\": intercept,\n",
    "                  \"mat\": mat,\n",
    "                  \"sp\": sp,\n",
    "                  \"sij\": sij,\n",
    "                  \"ita\": ita,\n",
    "                  \"lansi\": lansi,\n",
    "                  \"pohjoinen\": pohjoinen})\n",
    "\n",
    "X.index += 1"
   ]
  },
  {
   "cell_type": "code",
   "execution_count": 5,
   "id": "60a37444",
   "metadata": {},
   "outputs": [
    {
     "data": {
      "text/html": [
       "<div>\n",
       "<style scoped>\n",
       "    .dataframe tbody tr th:only-of-type {\n",
       "        vertical-align: middle;\n",
       "    }\n",
       "\n",
       "    .dataframe tbody tr th {\n",
       "        vertical-align: top;\n",
       "    }\n",
       "\n",
       "    .dataframe thead th {\n",
       "        text-align: right;\n",
       "    }\n",
       "</style>\n",
       "<table border=\"1\" class=\"dataframe\">\n",
       "  <thead>\n",
       "    <tr style=\"text-align: right;\">\n",
       "      <th></th>\n",
       "      <th>intercept</th>\n",
       "      <th>mat</th>\n",
       "      <th>sp</th>\n",
       "      <th>sij</th>\n",
       "      <th>ita</th>\n",
       "      <th>lansi</th>\n",
       "      <th>pohjoinen</th>\n",
       "    </tr>\n",
       "  </thead>\n",
       "  <tbody>\n",
       "    <tr>\n",
       "      <th>1</th>\n",
       "      <td>1</td>\n",
       "      <td>9</td>\n",
       "      <td>0</td>\n",
       "      <td>0</td>\n",
       "      <td>0</td>\n",
       "      <td>0</td>\n",
       "      <td>0</td>\n",
       "    </tr>\n",
       "    <tr>\n",
       "      <th>2</th>\n",
       "      <td>1</td>\n",
       "      <td>8</td>\n",
       "      <td>0</td>\n",
       "      <td>0</td>\n",
       "      <td>0</td>\n",
       "      <td>0</td>\n",
       "      <td>0</td>\n",
       "    </tr>\n",
       "    <tr>\n",
       "      <th>3</th>\n",
       "      <td>1</td>\n",
       "      <td>7</td>\n",
       "      <td>1</td>\n",
       "      <td>0</td>\n",
       "      <td>0</td>\n",
       "      <td>0</td>\n",
       "      <td>0</td>\n",
       "    </tr>\n",
       "    <tr>\n",
       "      <th>4</th>\n",
       "      <td>1</td>\n",
       "      <td>8</td>\n",
       "      <td>1</td>\n",
       "      <td>0</td>\n",
       "      <td>0</td>\n",
       "      <td>0</td>\n",
       "      <td>0</td>\n",
       "    </tr>\n",
       "    <tr>\n",
       "      <th>5</th>\n",
       "      <td>1</td>\n",
       "      <td>6</td>\n",
       "      <td>1</td>\n",
       "      <td>0</td>\n",
       "      <td>0</td>\n",
       "      <td>1</td>\n",
       "      <td>0</td>\n",
       "    </tr>\n",
       "  </tbody>\n",
       "</table>\n",
       "</div>"
      ],
      "text/plain": [
       "   intercept  mat  sp  sij  ita  lansi  pohjoinen\n",
       "1          1    9   0    0    0      0          0\n",
       "2          1    8   0    0    0      0          0\n",
       "3          1    7   1    0    0      0          0\n",
       "4          1    8   1    0    0      0          0\n",
       "5          1    6   1    0    0      1          0"
      ]
     },
     "execution_count": 5,
     "metadata": {},
     "output_type": "execute_result"
    }
   ],
   "source": [
    "X.head()"
   ]
  },
  {
   "cell_type": "code",
   "execution_count": 6,
   "id": "083b6567",
   "metadata": {},
   "outputs": [],
   "source": [
    "# Selittävien muuttujien arvot\n",
    "\n",
    "X = X.values"
   ]
  },
  {
   "cell_type": "code",
   "execution_count": 7,
   "id": "d0170c68",
   "metadata": {},
   "outputs": [],
   "source": [
    "# Vastemuuttujan arvot\n",
    "\n",
    "y = pisa[\"mpist\"].values"
   ]
  },
  {
   "cell_type": "code",
   "execution_count": 8,
   "id": "380327be",
   "metadata": {},
   "outputs": [
    {
     "data": {
      "text/plain": [
       "(200,)"
      ]
     },
     "execution_count": 8,
     "metadata": {},
     "output_type": "execute_result"
    }
   ],
   "source": [
    "y.shape"
   ]
  },
  {
   "cell_type": "code",
   "execution_count": null,
   "id": "208df2bb",
   "metadata": {},
   "outputs": [],
   "source": []
  },
  {
   "cell_type": "code",
   "execution_count": null,
   "id": "74cd029a",
   "metadata": {},
   "outputs": [],
   "source": []
  },
  {
   "cell_type": "code",
   "execution_count": null,
   "id": "6c2bf099",
   "metadata": {},
   "outputs": [],
   "source": []
  },
  {
   "cell_type": "markdown",
   "id": "3bd00b36",
   "metadata": {},
   "source": [
    "**Luottamusvälit *parametrittomalla* bootstrap-menetelmällä**"
   ]
  },
  {
   "cell_type": "markdown",
   "id": "48959a05",
   "metadata": {},
   "source": [
    "Jos on syytä epäillä, että mallin virhetermien normaalisuusoletus ei\n",
    "päde, luottamusvälit voidaan laskea parametrittomalla\n",
    "bootstrap-menetelmällä, jonka algoritmi on seuraavanlainen:"
   ]
  },
  {
   "cell_type": "markdown",
   "id": "4eb28d25",
   "metadata": {},
   "source": [
    "1. Poimi satunnaisesti indeksit $ i_1 \\, ,..., \\, i_n $ takaisinpalauttaen joukosta $ \\{1, 2,...,n\\}. $\n",
    "2. Poimi bootstrap-otos $ (y_{ij}^*, x_{ij}^*), \\, j = 1,...,n. $\n",
    "3. Laske otoksesta bootstrap-estimaatti $ \\hat{\\beta}^*. $\n",
    "4. Toista kohtia 1-3 $ M $ kertaa. Tällöin saat estimaatit $ \\hat{\\beta}_1^*,...,\\hat{\\beta}_M^*. $\n",
    "5. Etsi bootstrap-estimaattien $ \\large\\frac{\\alpha}{2} $ ja $ 1 - \\large\\frac{\\alpha}{2} $ kvantiilit. Nämä antavat luottamusvälit, joiden peittotodennäköisyys on likimäärin $ 1 - \\alpha. $"
   ]
  },
  {
   "cell_type": "code",
   "execution_count": 9,
   "id": "cd476e16",
   "metadata": {},
   "outputs": [],
   "source": [
    "from sklearn.linear_model import LinearRegression"
   ]
  },
  {
   "cell_type": "code",
   "execution_count": 10,
   "id": "8581e6c1",
   "metadata": {},
   "outputs": [],
   "source": [
    "def bootstrap(y, X):\n",
    "    n = len(y)\n",
    "    s = np.random.choice(np.arange(n), size=n, replace=True)\n",
    "    model = LinearRegression(fit_intercept=False).fit(X[s], y[s])\n",
    "    return model.coef_"
   ]
  },
  {
   "cell_type": "code",
   "execution_count": 11,
   "id": "75413dec",
   "metadata": {},
   "outputs": [],
   "source": [
    "M = 5000\n",
    "# Taulukon dimensioiden täytyy olla (7, M), koska jokainen bootstrapping tuottaa 7 kerrointa,\n",
    "# jotka sijoitetaan sarakvektoreiksi.\n",
    "bs_arr = np.zeros((X.shape[1], M))\n",
    "\n",
    "for i in range(M):\n",
    "    bs_arr[:, i] = bootstrap(y, X)"
   ]
  },
  {
   "cell_type": "markdown",
   "id": "ea45ef70",
   "metadata": {},
   "source": [
    "Kolme ensimmäistä saraketta. Huomaa, että kukin bootstrapping tuottaa oman sarakevektorinsa."
   ]
  },
  {
   "cell_type": "code",
   "execution_count": 12,
   "id": "39d8d27c",
   "metadata": {},
   "outputs": [
    {
     "data": {
      "text/plain": [
       "array([[347.41569604, 337.14338264, 302.65675933],\n",
       "       [ 28.72969278,  29.12785987,  33.50277994],\n",
       "       [-16.72902347, -13.7770715 , -16.61935165],\n",
       "       [ 30.93051868,  20.08829295,  25.09677367],\n",
       "       [-17.28859656, -20.44655521, -11.59356704],\n",
       "       [-48.43010665, -16.36896679, -20.48163083],\n",
       "       [-28.82319129, -19.87148732, -10.58868926]])"
      ]
     },
     "execution_count": 12,
     "metadata": {},
     "output_type": "execute_result"
    }
   ],
   "source": [
    "bs_arr[:, 0:3]"
   ]
  },
  {
   "cell_type": "markdown",
   "id": "d22ef283",
   "metadata": {},
   "source": [
    "Luottamusvälit saadaan prosenttipistemenetelmällä (algoritmin kohta 5)."
   ]
  },
  {
   "cell_type": "code",
   "execution_count": 13,
   "id": "2c645a3d",
   "metadata": {},
   "outputs": [],
   "source": [
    "bs_quantiles = np.percentile(bs_arr, q=[2.5, 97.5], axis=1).T"
   ]
  },
  {
   "cell_type": "code",
   "execution_count": 14,
   "id": "b2665df3",
   "metadata": {},
   "outputs": [],
   "source": [
    "df_quantiles = pd.DataFrame({\"lower ci\": bs_quantiles[:, 0],\n",
    "                             \"upper ci\": bs_quantiles[:, 1]},\n",
    "                             index=[\"intercept\", \"mat\", \"sp\", \"sij\", \"ita\", \"lansi\", \"pohjoinen\"])"
   ]
  },
  {
   "cell_type": "code",
   "execution_count": 15,
   "id": "5164e3bc",
   "metadata": {},
   "outputs": [
    {
     "data": {
      "text/html": [
       "<div>\n",
       "<style scoped>\n",
       "    .dataframe tbody tr th:only-of-type {\n",
       "        vertical-align: middle;\n",
       "    }\n",
       "\n",
       "    .dataframe tbody tr th {\n",
       "        vertical-align: top;\n",
       "    }\n",
       "\n",
       "    .dataframe thead th {\n",
       "        text-align: right;\n",
       "    }\n",
       "</style>\n",
       "<table border=\"1\" class=\"dataframe\">\n",
       "  <thead>\n",
       "    <tr style=\"text-align: right;\">\n",
       "      <th></th>\n",
       "      <th>lower ci</th>\n",
       "      <th>upper ci</th>\n",
       "    </tr>\n",
       "  </thead>\n",
       "  <tbody>\n",
       "    <tr>\n",
       "      <th>intercept</th>\n",
       "      <td>283.079443</td>\n",
       "      <td>383.782570</td>\n",
       "    </tr>\n",
       "    <tr>\n",
       "      <th>mat</th>\n",
       "      <td>23.554707</td>\n",
       "      <td>36.662792</td>\n",
       "    </tr>\n",
       "    <tr>\n",
       "      <th>sp</th>\n",
       "      <td>-34.878846</td>\n",
       "      <td>0.484101</td>\n",
       "    </tr>\n",
       "    <tr>\n",
       "      <th>sij</th>\n",
       "      <td>-4.277258</td>\n",
       "      <td>34.681058</td>\n",
       "    </tr>\n",
       "    <tr>\n",
       "      <th>ita</th>\n",
       "      <td>-34.252844</td>\n",
       "      <td>27.486721</td>\n",
       "    </tr>\n",
       "    <tr>\n",
       "      <th>lansi</th>\n",
       "      <td>-51.966756</td>\n",
       "      <td>-11.585128</td>\n",
       "    </tr>\n",
       "    <tr>\n",
       "      <th>pohjoinen</th>\n",
       "      <td>-51.088550</td>\n",
       "      <td>26.384949</td>\n",
       "    </tr>\n",
       "  </tbody>\n",
       "</table>\n",
       "</div>"
      ],
      "text/plain": [
       "             lower ci    upper ci\n",
       "intercept  283.079443  383.782570\n",
       "mat         23.554707   36.662792\n",
       "sp         -34.878846    0.484101\n",
       "sij         -4.277258   34.681058\n",
       "ita        -34.252844   27.486721\n",
       "lansi      -51.966756  -11.585128\n",
       "pohjoinen  -51.088550   26.384949"
      ]
     },
     "execution_count": 15,
     "metadata": {},
     "output_type": "execute_result"
    }
   ],
   "source": [
    "df_quantiles"
   ]
  },
  {
   "cell_type": "code",
   "execution_count": null,
   "id": "02eda1a4",
   "metadata": {},
   "outputs": [],
   "source": []
  },
  {
   "cell_type": "code",
   "execution_count": null,
   "id": "9e3e072c",
   "metadata": {},
   "outputs": [],
   "source": []
  },
  {
   "cell_type": "code",
   "execution_count": null,
   "id": "4202cb91",
   "metadata": {},
   "outputs": [],
   "source": []
  },
  {
   "cell_type": "markdown",
   "id": "ce7e8419",
   "metadata": {},
   "source": [
    "**Luottamusvälit *parametrisella* bootstrap-menetelmällä**"
   ]
  },
  {
   "cell_type": "code",
   "execution_count": 16,
   "id": "b018b20c",
   "metadata": {},
   "outputs": [],
   "source": [
    "import statsmodels.api as sm"
   ]
  },
  {
   "cell_type": "code",
   "execution_count": 17,
   "id": "ca8d4ac7",
   "metadata": {},
   "outputs": [],
   "source": [
    "def bs_parametric(y, X):\n",
    "    n = len(y)\n",
    "    s = np.random.choice(np.arange(n), size=n, replace=True)\n",
    "    fit0 = sm.OLS(y, X).fit()\n",
    "    eps = fit0.resid[s]\n",
    "    ys = np.matmul(X, fit0.params) + eps\n",
    "    fit = sm.OLS(ys, X).fit()\n",
    "    beta = pd.DataFrame({\"coeff\": fit.params, \"std_error\": fit.bse}).values\n",
    "    z = (beta[:, 0] - fit0.params) / beta[:, 1]\n",
    "    return z"
   ]
  },
  {
   "cell_type": "code",
   "execution_count": 18,
   "id": "94e04b11",
   "metadata": {},
   "outputs": [],
   "source": [
    "M = 5000\n",
    "bs_parametric_arr = np.zeros((X.shape[1], M))\n",
    "\n",
    "for i in range(M):\n",
    "    bs_parametric_arr[:, i] = bs_parametric(y, X)"
   ]
  },
  {
   "cell_type": "code",
   "execution_count": 19,
   "id": "c7f1cd83",
   "metadata": {},
   "outputs": [],
   "source": [
    "bs_parametric_quantiles = np.percentile(bs_parametric_arr, q=[2.5, 97.5], axis=1).T"
   ]
  },
  {
   "cell_type": "code",
   "execution_count": 20,
   "id": "c30369f9",
   "metadata": {},
   "outputs": [],
   "source": [
    "df = pd.DataFrame({\"97.5%\": bs_parametric_quantiles[:, 1],\n",
    "                   \"2.5%\": bs_parametric_quantiles[:, 0]},\n",
    "                   index=[\"intercept\", \"mat\", \"sp\", \"sij\", \"ita\", \"lansi\", \"pohjoinen\"])"
   ]
  },
  {
   "cell_type": "code",
   "execution_count": 21,
   "id": "31383eb4",
   "metadata": {},
   "outputs": [
    {
     "data": {
      "text/html": [
       "<div>\n",
       "<style scoped>\n",
       "    .dataframe tbody tr th:only-of-type {\n",
       "        vertical-align: middle;\n",
       "    }\n",
       "\n",
       "    .dataframe tbody tr th {\n",
       "        vertical-align: top;\n",
       "    }\n",
       "\n",
       "    .dataframe thead th {\n",
       "        text-align: right;\n",
       "    }\n",
       "</style>\n",
       "<table border=\"1\" class=\"dataframe\">\n",
       "  <thead>\n",
       "    <tr style=\"text-align: right;\">\n",
       "      <th></th>\n",
       "      <th>97.5%</th>\n",
       "      <th>2.5%</th>\n",
       "    </tr>\n",
       "  </thead>\n",
       "  <tbody>\n",
       "    <tr>\n",
       "      <th>intercept</th>\n",
       "      <td>1.967477</td>\n",
       "      <td>-2.003199</td>\n",
       "    </tr>\n",
       "    <tr>\n",
       "      <th>mat</th>\n",
       "      <td>1.989857</td>\n",
       "      <td>-1.929298</td>\n",
       "    </tr>\n",
       "    <tr>\n",
       "      <th>sp</th>\n",
       "      <td>2.008182</td>\n",
       "      <td>-1.977271</td>\n",
       "    </tr>\n",
       "    <tr>\n",
       "      <th>sij</th>\n",
       "      <td>2.003154</td>\n",
       "      <td>-1.962198</td>\n",
       "    </tr>\n",
       "    <tr>\n",
       "      <th>ita</th>\n",
       "      <td>1.925458</td>\n",
       "      <td>-2.023664</td>\n",
       "    </tr>\n",
       "    <tr>\n",
       "      <th>lansi</th>\n",
       "      <td>1.929731</td>\n",
       "      <td>-2.010159</td>\n",
       "    </tr>\n",
       "    <tr>\n",
       "      <th>pohjoinen</th>\n",
       "      <td>1.980317</td>\n",
       "      <td>-1.993310</td>\n",
       "    </tr>\n",
       "  </tbody>\n",
       "</table>\n",
       "</div>"
      ],
      "text/plain": [
       "              97.5%      2.5%\n",
       "intercept  1.967477 -2.003199\n",
       "mat        1.989857 -1.929298\n",
       "sp         2.008182 -1.977271\n",
       "sij        2.003154 -1.962198\n",
       "ita        1.925458 -2.023664\n",
       "lansi      1.929731 -2.010159\n",
       "pohjoinen  1.980317 -1.993310"
      ]
     },
     "execution_count": 21,
     "metadata": {},
     "output_type": "execute_result"
    }
   ],
   "source": [
    "df"
   ]
  },
  {
   "cell_type": "code",
   "execution_count": 22,
   "id": "82c11a07",
   "metadata": {},
   "outputs": [],
   "source": [
    "fit = sm.OLS(y, X).fit()"
   ]
  },
  {
   "cell_type": "code",
   "execution_count": 23,
   "id": "e9a26f7f",
   "metadata": {},
   "outputs": [],
   "source": [
    "ci = (fit.params.reshape(-1, 1) - bs_parametric_quantiles * fit.bse.reshape(-1, 1))"
   ]
  },
  {
   "cell_type": "code",
   "execution_count": 24,
   "id": "17c68b1a",
   "metadata": {},
   "outputs": [],
   "source": [
    "df2_quantiles = pd.DataFrame({\"lower ci\": ci[:, 1], \n",
    "                              \"upper ci\": ci[:, 0]},\n",
    "                              index=[\"intercept\", \"mat\", \"sp\", \"sij\", \"ita\", \"lansi\", \"pohjoinen\"])"
   ]
  },
  {
   "cell_type": "code",
   "execution_count": 25,
   "id": "28839f1f",
   "metadata": {},
   "outputs": [
    {
     "data": {
      "text/html": [
       "<div>\n",
       "<style scoped>\n",
       "    .dataframe tbody tr th:only-of-type {\n",
       "        vertical-align: middle;\n",
       "    }\n",
       "\n",
       "    .dataframe tbody tr th {\n",
       "        vertical-align: top;\n",
       "    }\n",
       "\n",
       "    .dataframe thead th {\n",
       "        text-align: right;\n",
       "    }\n",
       "</style>\n",
       "<table border=\"1\" class=\"dataframe\">\n",
       "  <thead>\n",
       "    <tr style=\"text-align: right;\">\n",
       "      <th></th>\n",
       "      <th>lower ci</th>\n",
       "      <th>upper ci</th>\n",
       "    </tr>\n",
       "  </thead>\n",
       "  <tbody>\n",
       "    <tr>\n",
       "      <th>intercept</th>\n",
       "      <td>286.065220</td>\n",
       "      <td>384.042068</td>\n",
       "    </tr>\n",
       "    <tr>\n",
       "      <th>mat</th>\n",
       "      <td>23.452197</td>\n",
       "      <td>36.282090</td>\n",
       "    </tr>\n",
       "    <tr>\n",
       "      <th>sp</th>\n",
       "      <td>-35.475772</td>\n",
       "      <td>0.511321</td>\n",
       "    </tr>\n",
       "    <tr>\n",
       "      <th>sij</th>\n",
       "      <td>-8.545552</td>\n",
       "      <td>38.271583</td>\n",
       "    </tr>\n",
       "    <tr>\n",
       "      <th>ita</th>\n",
       "      <td>-32.958028</td>\n",
       "      <td>27.298524</td>\n",
       "    </tr>\n",
       "    <tr>\n",
       "      <th>lansi</th>\n",
       "      <td>-52.307278</td>\n",
       "      <td>-9.416044</td>\n",
       "    </tr>\n",
       "    <tr>\n",
       "      <th>pohjoinen</th>\n",
       "      <td>-40.654218</td>\n",
       "      <td>17.058619</td>\n",
       "    </tr>\n",
       "  </tbody>\n",
       "</table>\n",
       "</div>"
      ],
      "text/plain": [
       "             lower ci    upper ci\n",
       "intercept  286.065220  384.042068\n",
       "mat         23.452197   36.282090\n",
       "sp         -35.475772    0.511321\n",
       "sij         -8.545552   38.271583\n",
       "ita        -32.958028   27.298524\n",
       "lansi      -52.307278   -9.416044\n",
       "pohjoinen  -40.654218   17.058619"
      ]
     },
     "execution_count": 25,
     "metadata": {},
     "output_type": "execute_result"
    }
   ],
   "source": [
    "df2_quantiles"
   ]
  },
  {
   "cell_type": "code",
   "execution_count": null,
   "id": "45198654",
   "metadata": {},
   "outputs": [],
   "source": []
  },
  {
   "cell_type": "code",
   "execution_count": null,
   "id": "f4de88bd",
   "metadata": {},
   "outputs": [],
   "source": []
  },
  {
   "cell_type": "code",
   "execution_count": null,
   "id": "cf9d12f1",
   "metadata": {},
   "outputs": [],
   "source": []
  },
  {
   "cell_type": "markdown",
   "id": "5596857c",
   "metadata": {},
   "source": [
    "**Luottamusvälit estimaattien t-jakaumaoletusta käyttäen**"
   ]
  },
  {
   "cell_type": "code",
   "execution_count": 26,
   "id": "fb38c830",
   "metadata": {},
   "outputs": [],
   "source": [
    "malli = sm.OLS(y, X).fit()"
   ]
  },
  {
   "cell_type": "code",
   "execution_count": 27,
   "id": "f9fe7e89",
   "metadata": {},
   "outputs": [],
   "source": [
    "n = len(y)"
   ]
  },
  {
   "cell_type": "code",
   "execution_count": 28,
   "id": "df99c7ac",
   "metadata": {},
   "outputs": [],
   "source": [
    "p = X.shape[1]"
   ]
  },
  {
   "cell_type": "code",
   "execution_count": 29,
   "id": "b65a918b",
   "metadata": {},
   "outputs": [],
   "source": [
    "ala = malli.params - scipy.stats.t.ppf(0.975, df=n-p-1) * malli.bse"
   ]
  },
  {
   "cell_type": "code",
   "execution_count": 30,
   "id": "9ba3c3a1",
   "metadata": {},
   "outputs": [],
   "source": [
    "yla = malli.params + scipy.stats.t.ppf(0.975, df=n-p-1) * malli.bse"
   ]
  },
  {
   "cell_type": "code",
   "execution_count": 31,
   "id": "465a5d89",
   "metadata": {},
   "outputs": [],
   "source": [
    "luottamusvalit = pd.DataFrame({\"alaraja\": ala,\n",
    "                               \"ylaraja\": yla},\n",
    "                               index=[\"intercept\", \"mat\", \"sp\", \"sij\", \"ita\", \"lansi\", \"pohjoinen\"])"
   ]
  },
  {
   "cell_type": "code",
   "execution_count": 32,
   "id": "29409f63",
   "metadata": {},
   "outputs": [
    {
     "data": {
      "text/html": [
       "<div>\n",
       "<style scoped>\n",
       "    .dataframe tbody tr th:only-of-type {\n",
       "        vertical-align: middle;\n",
       "    }\n",
       "\n",
       "    .dataframe tbody tr th {\n",
       "        vertical-align: top;\n",
       "    }\n",
       "\n",
       "    .dataframe thead th {\n",
       "        text-align: right;\n",
       "    }\n",
       "</style>\n",
       "<table border=\"1\" class=\"dataframe\">\n",
       "  <thead>\n",
       "    <tr style=\"text-align: right;\">\n",
       "      <th></th>\n",
       "      <th>alaraja</th>\n",
       "      <th>ylaraja</th>\n",
       "    </tr>\n",
       "  </thead>\n",
       "  <tbody>\n",
       "    <tr>\n",
       "      <th>intercept</th>\n",
       "      <td>285.943838</td>\n",
       "      <td>383.282019</td>\n",
       "    </tr>\n",
       "    <tr>\n",
       "      <th>mat</th>\n",
       "      <td>23.509356</td>\n",
       "      <td>36.423179</td>\n",
       "    </tr>\n",
       "    <tr>\n",
       "      <th>sp</th>\n",
       "      <td>-35.152642</td>\n",
       "      <td>0.467311</td>\n",
       "    </tr>\n",
       "    <tr>\n",
       "      <th>sij</th>\n",
       "      <td>-8.182413</td>\n",
       "      <td>38.391992</td>\n",
       "    </tr>\n",
       "    <tr>\n",
       "      <th>ita</th>\n",
       "      <td>-33.674219</td>\n",
       "      <td>26.516273</td>\n",
       "    </tr>\n",
       "    <tr>\n",
       "      <th>lansi</th>\n",
       "      <td>-52.771748</td>\n",
       "      <td>-9.827143</td>\n",
       "    </tr>\n",
       "    <tr>\n",
       "      <th>pohjoinen</th>\n",
       "      <td>-40.539174</td>\n",
       "      <td>16.754869</td>\n",
       "    </tr>\n",
       "  </tbody>\n",
       "</table>\n",
       "</div>"
      ],
      "text/plain": [
       "              alaraja     ylaraja\n",
       "intercept  285.943838  383.282019\n",
       "mat         23.509356   36.423179\n",
       "sp         -35.152642    0.467311\n",
       "sij         -8.182413   38.391992\n",
       "ita        -33.674219   26.516273\n",
       "lansi      -52.771748   -9.827143\n",
       "pohjoinen  -40.539174   16.754869"
      ]
     },
     "execution_count": 32,
     "metadata": {},
     "output_type": "execute_result"
    }
   ],
   "source": [
    "luottamusvalit"
   ]
  },
  {
   "cell_type": "code",
   "execution_count": null,
   "id": "7b0ecd4a",
   "metadata": {},
   "outputs": [],
   "source": []
  },
  {
   "cell_type": "code",
   "execution_count": null,
   "id": "dd01a62f",
   "metadata": {},
   "outputs": [],
   "source": []
  },
  {
   "cell_type": "code",
   "execution_count": null,
   "id": "8e8fcc66",
   "metadata": {},
   "outputs": [],
   "source": []
  },
  {
   "cell_type": "code",
   "execution_count": null,
   "id": "2a70eb85",
   "metadata": {},
   "outputs": [],
   "source": []
  },
  {
   "cell_type": "code",
   "execution_count": null,
   "id": "968c410c",
   "metadata": {},
   "outputs": [],
   "source": []
  },
  {
   "cell_type": "markdown",
   "id": "c0d36624",
   "metadata": {},
   "source": [
    "**Tehtävä 2**"
   ]
  },
  {
   "cell_type": "markdown",
   "id": "d92f997a",
   "metadata": {},
   "source": [
    "Bootstrap-menetelmää voidaan käyttää inferenssiin tilanteessa, jossa meillä ei\n",
    "ole käytössä estimaattoreiden otosjakaumatuloksia, tai kun otos on pieni ja esimerkiksi asymptoottisia tuloksia ei voida käyttää. Bootstrap-testien ja luottamusvälien laskeminen on myös todella helppoa. Miksi ei siis aina käytetä\n",
    "bootstrap-menetelmää? Mitä heikkouksia bootstrap-menetelmällä voi olla? Löydätkö vastauksen (luotettavista lähteistä)?"
   ]
  },
  {
   "cell_type": "markdown",
   "id": "cffd2091",
   "metadata": {},
   "source": [
    "Bootstrapping voi epäonnistua tilanteissa, joissa esimerkiksi\n",
    "- jakaumalla ei ole äärellisiä momentteja,\n",
    "- otoskoko on pieni,\n",
    "- estimoidaan ääriarvoja jakaumasta (estimating extreme values from the distribution),\n",
    "- kun estimoidaan varianssia isolla otoskoolla n otantatutkimuksessa, jossa populaation koko on N."
   ]
  },
  {
   "cell_type": "markdown",
   "id": "b224f9eb",
   "metadata": {},
   "source": [
    "Muita miinuksia ovat esimerkiksi\n",
    "- laskennallinen vaativuus isoilla otoskoilla tai monimutkaisilla malleilla,\n",
    "- bootstrapping perustuu satunnaisuuteen."
   ]
  },
  {
   "cell_type": "markdown",
   "id": "98730259",
   "metadata": {},
   "source": [
    "Lisäksi mielenkiintoinen seikka, joka nousi esiin useissa eri lähteissä oli se, että bootstrap-otos kykenee \"kertomaan\" asioita ainoastaan alkuperäisestä otoksesta ja ei täten tuota mitään uutta tietoa liittyen todelliseen populaatioon. Alla vielä englanninkielinen selitys tästä siltä varalta, että suomennos meni väärin.\n",
    "- A bootstrap sample can only tell you things about the original sample, and won't give you any new information about the real population. It is simply a method for constructing confidence intervals."
   ]
  }
 ],
 "metadata": {
  "kernelspec": {
   "display_name": "Python 3 (ipykernel)",
   "language": "python",
   "name": "python3"
  },
  "language_info": {
   "codemirror_mode": {
    "name": "ipython",
    "version": 3
   },
   "file_extension": ".py",
   "mimetype": "text/x-python",
   "name": "python",
   "nbconvert_exporter": "python",
   "pygments_lexer": "ipython3",
   "version": "3.9.12"
  }
 },
 "nbformat": 4,
 "nbformat_minor": 5
}
