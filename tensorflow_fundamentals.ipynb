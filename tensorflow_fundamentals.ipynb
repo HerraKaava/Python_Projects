{
  "nbformat": 4,
  "nbformat_minor": 0,
  "metadata": {
    "colab": {
      "provenance": [],
      "authorship_tag": "ABX9TyPcWoiNt27p+j9kOjZj2nLu",
      "include_colab_link": true
    },
    "kernelspec": {
      "name": "python3",
      "display_name": "Python 3"
    },
    "language_info": {
      "name": "python"
    }
  },
  "cells": [
    {
      "cell_type": "markdown",
      "metadata": {
        "id": "view-in-github",
        "colab_type": "text"
      },
      "source": [
        "<a href=\"https://colab.research.google.com/github/HerraKaava/Python_Projects/blob/main/tensorflow_fundamentals.ipynb\" target=\"_parent\"><img src=\"https://colab.research.google.com/assets/colab-badge.svg\" alt=\"Open In Colab\"/></a>"
      ]
    },
    {
      "cell_type": "markdown",
      "source": [
        "<h3 align=\"left\">Workflow</h3>\n",
        "\n",
        "In this notebook, we're going to cover some of the most fundamental concepts of tensors using TensorFlow\n",
        "\n",
        "More specifically, we're going to cover:\n",
        "\n",
        "* Introduction to tensors\n",
        "* Getting information from tensors\n",
        "* Manipulating tensors\n",
        "* Tensors & NumPy\n",
        "* Using @tf.function (a way to speed up your regular Python functions)\n",
        "* Using GPUs with TensorFlow (or TPUs)"
      ],
      "metadata": {
        "id": "Kt65jOQULAw6"
      }
    },
    {
      "cell_type": "code",
      "source": [
        "import tensorflow as tf\n",
        "import numpy as np"
      ],
      "metadata": {
        "id": "HVPIbqVn4TgY"
      },
      "execution_count": 79,
      "outputs": []
    },
    {
      "cell_type": "code",
      "source": [
        "print(tf.__version__)"
      ],
      "metadata": {
        "colab": {
          "base_uri": "https://localhost:8080/"
        },
        "id": "3sF26_KtrKDf",
        "outputId": "b0563f95-0a47-4ee7-eb01-79100650be1e"
      },
      "execution_count": 80,
      "outputs": [
        {
          "output_type": "stream",
          "name": "stdout",
          "text": [
            "2.15.0\n"
          ]
        }
      ]
    },
    {
      "cell_type": "markdown",
      "source": [
        "<br>"
      ],
      "metadata": {
        "id": "IIgCUzld4Ti9"
      }
    },
    {
      "cell_type": "markdown",
      "source": [
        "<h1 align\"center\"=>Introduction to Tensors</h1>"
      ],
      "metadata": {
        "id": "zbcOYXZWQTOv"
      }
    },
    {
      "cell_type": "markdown",
      "source": [
        "<h3>Creating tensors with tf.constant()</h3>"
      ],
      "metadata": {
        "id": "xx7d4geGWB_S"
      }
    },
    {
      "cell_type": "code",
      "source": [
        "scalar = tf.constant(7)\n",
        "scalar"
      ],
      "metadata": {
        "colab": {
          "base_uri": "https://localhost:8080/"
        },
        "id": "hN4AB6qfWKcs",
        "outputId": "07783dab-fda0-430e-8810-593fdcdd414a"
      },
      "execution_count": 8,
      "outputs": [
        {
          "output_type": "execute_result",
          "data": {
            "text/plain": [
              "<tf.Tensor: shape=(), dtype=int32, numpy=7>"
            ]
          },
          "metadata": {},
          "execution_count": 8
        }
      ]
    },
    {
      "cell_type": "code",
      "source": [
        "# Check the number of dimensions of a tensor\n",
        "\n",
        "scalar.ndim"
      ],
      "metadata": {
        "colab": {
          "base_uri": "https://localhost:8080/"
        },
        "id": "4ANzhe3zXhgD",
        "outputId": "9375171f-ef3a-4361-dd0e-54110ee427b8"
      },
      "execution_count": 9,
      "outputs": [
        {
          "output_type": "execute_result",
          "data": {
            "text/plain": [
              "0"
            ]
          },
          "metadata": {},
          "execution_count": 9
        }
      ]
    },
    {
      "cell_type": "code",
      "source": [
        "# Create a vector\n",
        "\n",
        "vector = tf.constant([10, 10])\n",
        "vector"
      ],
      "metadata": {
        "colab": {
          "base_uri": "https://localhost:8080/"
        },
        "id": "b7LA1Aj1Xkq-",
        "outputId": "f44b09e9-b495-4d29-8ad1-365f6ca99657"
      },
      "execution_count": 10,
      "outputs": [
        {
          "output_type": "execute_result",
          "data": {
            "text/plain": [
              "<tf.Tensor: shape=(2,), dtype=int32, numpy=array([10, 10], dtype=int32)>"
            ]
          },
          "metadata": {},
          "execution_count": 10
        }
      ]
    },
    {
      "cell_type": "code",
      "source": [
        "# Check the dimension of our vector\n",
        "\n",
        "vector.ndim"
      ],
      "metadata": {
        "colab": {
          "base_uri": "https://localhost:8080/"
        },
        "id": "8xR9kS5dXktg",
        "outputId": "8be352e2-2883-46a2-e425-c5684b5b85c9"
      },
      "execution_count": 11,
      "outputs": [
        {
          "output_type": "execute_result",
          "data": {
            "text/plain": [
              "1"
            ]
          },
          "metadata": {},
          "execution_count": 11
        }
      ]
    },
    {
      "cell_type": "code",
      "source": [
        "# Create a matrix\n",
        "\n",
        "matrix = tf.constant([[10, 7],\n",
        "                      [7, 10]])\n",
        "matrix"
      ],
      "metadata": {
        "colab": {
          "base_uri": "https://localhost:8080/"
        },
        "id": "h3aFEfFvXkwk",
        "outputId": "fdeb9171-1af9-4e34-938e-942731aa4c52"
      },
      "execution_count": 12,
      "outputs": [
        {
          "output_type": "execute_result",
          "data": {
            "text/plain": [
              "<tf.Tensor: shape=(2, 2), dtype=int32, numpy=\n",
              "array([[10,  7],\n",
              "       [ 7, 10]], dtype=int32)>"
            ]
          },
          "metadata": {},
          "execution_count": 12
        }
      ]
    },
    {
      "cell_type": "code",
      "source": [
        "matrix.ndim"
      ],
      "metadata": {
        "colab": {
          "base_uri": "https://localhost:8080/"
        },
        "id": "fTTwCTIPX6Sb",
        "outputId": "96f68922-5171-4a02-b988-7d0c4d034e32"
      },
      "execution_count": 14,
      "outputs": [
        {
          "output_type": "execute_result",
          "data": {
            "text/plain": [
              "2"
            ]
          },
          "metadata": {},
          "execution_count": 14
        }
      ]
    },
    {
      "cell_type": "code",
      "source": [
        "# Let's create another matrix with flaot16 dtype\n",
        "\n",
        "matrix2 = tf.constant([[10., 7.],\n",
        "                       [3., 2.],\n",
        "                       [8., 9.]],\n",
        "                      dtype=tf.float16)\n",
        "matrix2"
      ],
      "metadata": {
        "colab": {
          "base_uri": "https://localhost:8080/"
        },
        "id": "zYbJ7fRDX6Uh",
        "outputId": "0b67e82d-94e7-47b9-ca8e-8e625b223bca"
      },
      "execution_count": 15,
      "outputs": [
        {
          "output_type": "execute_result",
          "data": {
            "text/plain": [
              "<tf.Tensor: shape=(3, 2), dtype=float16, numpy=\n",
              "array([[10.,  7.],\n",
              "       [ 3.,  2.],\n",
              "       [ 8.,  9.]], dtype=float16)>"
            ]
          },
          "metadata": {},
          "execution_count": 15
        }
      ]
    },
    {
      "cell_type": "markdown",
      "source": [
        "* By default, dtype with tf.constant() is int32 (32-bit precision).\n",
        "* The higher the number of precision, the more exact these numbers are stored on your computer.\n",
        "* So float16 < float32 for the same number n.\n",
        "* This also means that the lower the precision, the less space it takes to store it on your computer."
      ],
      "metadata": {
        "id": "OU_O27GyZkZm"
      }
    },
    {
      "cell_type": "code",
      "source": [
        "matrix2.ndim"
      ],
      "metadata": {
        "colab": {
          "base_uri": "https://localhost:8080/"
        },
        "id": "uVHgIq2lX6W3",
        "outputId": "90742e3c-518f-41a6-c988-390c6536dc76"
      },
      "execution_count": 16,
      "outputs": [
        {
          "output_type": "execute_result",
          "data": {
            "text/plain": [
              "2"
            ]
          },
          "metadata": {},
          "execution_count": 16
        }
      ]
    },
    {
      "cell_type": "code",
      "source": [
        "# Let's create a tensor (ndim > 2)\n",
        "\n",
        "tensor = tf.constant([[[1, 2, 3],\n",
        "                       [4, 5, 6]],\n",
        "                     [[7, 8, 9],\n",
        "                      [10, 11, 12]]])\n",
        "tensor"
      ],
      "metadata": {
        "colab": {
          "base_uri": "https://localhost:8080/"
        },
        "id": "EpxsPVFFX6ZM",
        "outputId": "798b2a0d-a0ec-468d-efb0-87b23c833016"
      },
      "execution_count": 19,
      "outputs": [
        {
          "output_type": "execute_result",
          "data": {
            "text/plain": [
              "<tf.Tensor: shape=(2, 2, 3), dtype=int32, numpy=\n",
              "array([[[ 1,  2,  3],\n",
              "        [ 4,  5,  6]],\n",
              "\n",
              "       [[ 7,  8,  9],\n",
              "        [10, 11, 12]]], dtype=int32)>"
            ]
          },
          "metadata": {},
          "execution_count": 19
        }
      ]
    },
    {
      "cell_type": "code",
      "source": [
        "tensor.ndim"
      ],
      "metadata": {
        "colab": {
          "base_uri": "https://localhost:8080/"
        },
        "id": "bI55lqBdX6bZ",
        "outputId": "b992ca4d-f677-4a43-87f3-0aa0a6e0b64a"
      },
      "execution_count": 20,
      "outputs": [
        {
          "output_type": "execute_result",
          "data": {
            "text/plain": [
              "3"
            ]
          },
          "metadata": {},
          "execution_count": 20
        }
      ]
    },
    {
      "cell_type": "markdown",
      "source": [
        "* The number of elements in the shape object correspond to the number of dimensions in a tensor.\n",
        "* Notice that the dimensions of a tensor are affected by where you place the square brackets."
      ],
      "metadata": {
        "id": "d6BviCxYbS2O"
      }
    },
    {
      "cell_type": "markdown",
      "source": [
        "What we've created so far:\n",
        "\n",
        "* scalar: a single number\n",
        "* vector: a number with direction (e.g., wind speed and direction)\n",
        "* matrix: a 2-dimensional array of numbers\n",
        "* tensor: an n-dimensional array of numebrs\n"
      ],
      "metadata": {
        "id": "iXDu_XkMbhDl"
      }
    },
    {
      "cell_type": "markdown",
      "source": [
        "Notice that\n",
        "\n",
        "* 0-dimensional tensor is a scalar\n",
        "* 1-dimensional tensor is a vector\n",
        "* 2-dimensional tensor is a matrix"
      ],
      "metadata": {
        "id": "mfIWAis_b3tM"
      }
    },
    {
      "cell_type": "markdown",
      "source": [
        "<br>"
      ],
      "metadata": {
        "id": "YjUzy0qpcA7L"
      }
    },
    {
      "cell_type": "markdown",
      "source": [
        "<h3>Creating tensors with tf.Variable()</h3>"
      ],
      "metadata": {
        "id": "0YJooxeBcA-W"
      }
    },
    {
      "cell_type": "code",
      "source": [
        "changeable_tensor = tf.Variable([10, 7])\n",
        "unchangeable_tensor = tf.constant([10, 7])"
      ],
      "metadata": {
        "id": "XL4gMyorcKl5"
      },
      "execution_count": 21,
      "outputs": []
    },
    {
      "cell_type": "code",
      "source": [
        "# Let's try to change one of the elements in our changeable tensor\n",
        "\n",
        "changeable_tensor[0].assign(7)"
      ],
      "metadata": {
        "colab": {
          "base_uri": "https://localhost:8080/"
        },
        "id": "wFv9GsIUcNUZ",
        "outputId": "20f13e84-57bc-45b1-a05f-cf1455763934"
      },
      "execution_count": 38,
      "outputs": [
        {
          "output_type": "execute_result",
          "data": {
            "text/plain": [
              "<tf.Variable 'UnreadVariable' shape=(2,) dtype=int32, numpy=array([7, 7], dtype=int32)>"
            ]
          },
          "metadata": {},
          "execution_count": 38
        }
      ]
    },
    {
      "cell_type": "markdown",
      "source": [
        "* Notice that *tf.variable()* objects are **mutable**.\n",
        "* In Python, an object is considered mutable, if its value can be changed after creating it.\n",
        "* Notice that the assign() function assigns values in-place."
      ],
      "metadata": {
        "id": "r9iBEvVDcaIz"
      }
    },
    {
      "cell_type": "code",
      "source": [
        "# Uncomment and run to see the error message\n",
        "\n",
        "# unchangeable_tensor[0].assign(7)"
      ],
      "metadata": {
        "id": "QM-zV8qIc_HE"
      },
      "execution_count": 25,
      "outputs": []
    },
    {
      "cell_type": "markdown",
      "source": [
        "* AttributeError: 'tensorflow.python.framework.ops.EagerTensor' object has no attribute 'assign'\n",
        "* This is because *tf.constant()* objects are **immutable**.\n",
        "* In Python, an object is considered immutable, if its value cannot be changed after it has been created."
      ],
      "metadata": {
        "id": "73s_x2y_dHks"
      }
    },
    {
      "cell_type": "markdown",
      "source": [
        "**NOTE**\n",
        "\n",
        "* Rarely in practice you'll need to decide whether to use *tf.constant()* or *tf.variable()* to create tensors, as TensorFlow does this for you."
      ],
      "metadata": {
        "id": "vC_rU6-xdV3O"
      }
    },
    {
      "cell_type": "markdown",
      "source": [
        "<br>"
      ],
      "metadata": {
        "id": "Coiys47NdgrH"
      }
    },
    {
      "cell_type": "markdown",
      "source": [
        "<h3>Creating random tensors</h3>"
      ],
      "metadata": {
        "id": "ISsk9T--dg0z"
      }
    },
    {
      "cell_type": "markdown",
      "source": [
        "* Random tensors are tensors of some arbitrary size with random numbers."
      ],
      "metadata": {
        "id": "hex4oW_Adofs"
      }
    },
    {
      "cell_type": "code",
      "source": [
        "# Initialize a new random number generator using the seed value 42.\n",
        "# This part does not initialize any tensor values.\n",
        "# Here we only set up a generator that can be used to create random values\n",
        "\n",
        "rng = tf.random.Generator.from_seed(42)"
      ],
      "metadata": {
        "id": "9OsMFNtndzrF"
      },
      "execution_count": 35,
      "outputs": []
    },
    {
      "cell_type": "code",
      "source": [
        "# Assign random data from a standard normal distribution into the rng object\n",
        "\n",
        "rng = rng.normal(shape=(3,2))"
      ],
      "metadata": {
        "id": "BhAlMFHreJ8q"
      },
      "execution_count": 36,
      "outputs": []
    },
    {
      "cell_type": "code",
      "source": [
        "rng"
      ],
      "metadata": {
        "colab": {
          "base_uri": "https://localhost:8080/"
        },
        "id": "YtHoxsPTeFL6",
        "outputId": "e4fa9875-9432-4631-8b61-1a2b8cca44d9"
      },
      "execution_count": 37,
      "outputs": [
        {
          "output_type": "execute_result",
          "data": {
            "text/plain": [
              "<tf.Tensor: shape=(3, 2), dtype=float32, numpy=\n",
              "array([[-0.7565803 , -0.06854702],\n",
              "       [ 0.07595026, -1.2573844 ],\n",
              "       [-0.23193763, -1.8107855 ]], dtype=float32)>"
            ]
          },
          "metadata": {},
          "execution_count": 37
        }
      ]
    },
    {
      "cell_type": "code",
      "source": [
        "# Shuffle the order of elements in a tensor\n",
        "\n",
        "arr = tf.constant([[10,7],\n",
        "                   [3,4],\n",
        "                   [2,5]])\n",
        "\n",
        "tf.random.shuffle(arr)"
      ],
      "metadata": {
        "colab": {
          "base_uri": "https://localhost:8080/"
        },
        "id": "xOQsv7tYjCfA",
        "outputId": "31704e15-f0b7-4010-8b34-bc8a037244f5"
      },
      "execution_count": 46,
      "outputs": [
        {
          "output_type": "execute_result",
          "data": {
            "text/plain": [
              "<tf.Tensor: shape=(3, 2), dtype=int32, numpy=\n",
              "array([[ 3,  4],\n",
              "       [10,  7],\n",
              "       [ 2,  5]], dtype=int32)>"
            ]
          },
          "metadata": {},
          "execution_count": 46
        }
      ]
    },
    {
      "cell_type": "markdown",
      "source": [
        "* Note that random.shuffle() shuffles the elements along its first dimension.\n",
        "* Since the first dimension stands for rows (3), only the rows gets shuffled, and the order of the elements in the rows stays the same."
      ],
      "metadata": {
        "id": "KuH5OmOtmOUx"
      }
    },
    {
      "cell_type": "markdown",
      "source": [
        "If you want to get the same results for reproducibility, you'll have to set a global random seed."
      ],
      "metadata": {
        "id": "2ScJyDIWnzsc"
      }
    },
    {
      "cell_type": "code",
      "source": [
        "# Global random seed\n",
        "\n",
        "tf.random.set_seed(42)\n",
        "tf.random.shuffle(arr)"
      ],
      "metadata": {
        "colab": {
          "base_uri": "https://localhost:8080/"
        },
        "id": "mbK9egeimf9n",
        "outputId": "0bbd3066-6b52-40f0-a110-0e37fa7975a8"
      },
      "execution_count": 71,
      "outputs": [
        {
          "output_type": "execute_result",
          "data": {
            "text/plain": [
              "<tf.Tensor: shape=(3, 2), dtype=int32, numpy=\n",
              "array([[ 3,  4],\n",
              "       [ 2,  5],\n",
              "       [10,  7]], dtype=int32)>"
            ]
          },
          "metadata": {},
          "execution_count": 71
        }
      ]
    },
    {
      "cell_type": "markdown",
      "source": [
        "* This produces the same pseudo random numbers every time the code is ran."
      ],
      "metadata": {
        "id": "zhxLD_BfoKla"
      }
    },
    {
      "cell_type": "code",
      "source": [
        "tf.random.shuffle(arr, seed=42)"
      ],
      "metadata": {
        "colab": {
          "base_uri": "https://localhost:8080/"
        },
        "id": "M-_DM2MolWS9",
        "outputId": "5a3f79db-22f4-4b48-e2ae-56c946effb2c"
      },
      "execution_count": 74,
      "outputs": [
        {
          "output_type": "execute_result",
          "data": {
            "text/plain": [
              "<tf.Tensor: shape=(3, 2), dtype=int32, numpy=\n",
              "array([[ 2,  5],\n",
              "       [10,  7],\n",
              "       [ 3,  4]], dtype=int32)>"
            ]
          },
          "metadata": {},
          "execution_count": 74
        }
      ]
    },
    {
      "cell_type": "markdown",
      "source": [
        "* This does not produce the same pseudo random numbers, because specifying the seed number inside a function is an operation level seed (not global).\n",
        "* If both the global and the operation seed are set, both seeds are used in conjunction to determine the random sequence.\n",
        "* This means that specifying both global and operation level seeds will produce different pseudo random numbers than just specifying a global random seed.\n",
        "* [tf.random.set_seed](https://www.tensorflow.org/api_docs/python/tf/random/set_seed)"
      ],
      "metadata": {
        "id": "8eagL79AoVhC"
      }
    },
    {
      "cell_type": "markdown",
      "source": [
        "<br>"
      ],
      "metadata": {
        "id": "JpzyZM_1ocmo"
      }
    },
    {
      "cell_type": "markdown",
      "source": [
        "<h3>Creating tensors from NumPy arrays</h3>"
      ],
      "metadata": {
        "id": "i-y7S29MpJin"
      }
    },
    {
      "cell_type": "code",
      "source": [
        "# Create a tensor of ones\n",
        "\n",
        "tf.ones([4, 4])"
      ],
      "metadata": {
        "colab": {
          "base_uri": "https://localhost:8080/"
        },
        "id": "-tUW5-dKqX97",
        "outputId": "86141d03-45c4-4cd9-9cef-fe848e873f05"
      },
      "execution_count": 76,
      "outputs": [
        {
          "output_type": "execute_result",
          "data": {
            "text/plain": [
              "<tf.Tensor: shape=(4, 4), dtype=float32, numpy=\n",
              "array([[1., 1., 1., 1.],\n",
              "       [1., 1., 1., 1.],\n",
              "       [1., 1., 1., 1.],\n",
              "       [1., 1., 1., 1.]], dtype=float32)>"
            ]
          },
          "metadata": {},
          "execution_count": 76
        }
      ]
    },
    {
      "cell_type": "code",
      "source": [
        "# Create a tensor of zeros\n",
        "\n",
        "tf.zeros(shape=(4,4))"
      ],
      "metadata": {
        "colab": {
          "base_uri": "https://localhost:8080/"
        },
        "id": "z5SnEQpyqa6c",
        "outputId": "aa63eddf-781d-4778-842e-3a6f74b872df"
      },
      "execution_count": 78,
      "outputs": [
        {
          "output_type": "execute_result",
          "data": {
            "text/plain": [
              "<tf.Tensor: shape=(4, 4), dtype=float32, numpy=\n",
              "array([[0., 0., 0., 0.],\n",
              "       [0., 0., 0., 0.],\n",
              "       [0., 0., 0., 0.],\n",
              "       [0., 0., 0., 0.]], dtype=float32)>"
            ]
          },
          "metadata": {},
          "execution_count": 78
        }
      ]
    },
    {
      "cell_type": "markdown",
      "source": [
        "**Turning NumPy arrays into tensors**"
      ],
      "metadata": {
        "id": "XN0SUn29qpM9"
      }
    },
    {
      "cell_type": "markdown",
      "source": [
        "* The main difference between NumPy arrays and TensorFlow tensors is that tensors can be run on a GPU (much faster for numerical computing)."
      ],
      "metadata": {
        "id": "TFfg5qblqvrw"
      }
    },
    {
      "cell_type": "code",
      "source": [
        "numpy_arr = np.arange(1, 25, dtype=np.int32)"
      ],
      "metadata": {
        "id": "4FCVMRImreft"
      },
      "execution_count": 84,
      "outputs": []
    },
    {
      "cell_type": "code",
      "source": [
        "tf.constant(numpy_arr)"
      ],
      "metadata": {
        "colab": {
          "base_uri": "https://localhost:8080/"
        },
        "id": "78XdOQQdr0ef",
        "outputId": "baef2311-baf5-4ef9-cf21-151e653c3344"
      },
      "execution_count": 85,
      "outputs": [
        {
          "output_type": "execute_result",
          "data": {
            "text/plain": [
              "<tf.Tensor: shape=(24,), dtype=int32, numpy=\n",
              "array([ 1,  2,  3,  4,  5,  6,  7,  8,  9, 10, 11, 12, 13, 14, 15, 16, 17,\n",
              "       18, 19, 20, 21, 22, 23, 24], dtype=int32)>"
            ]
          },
          "metadata": {},
          "execution_count": 85
        }
      ]
    },
    {
      "cell_type": "markdown",
      "source": [
        "* As seen above, NumPy arrays can be directly converted into tf tensors.\n",
        "* We can also modify the shape of the converted numpy array as long as the size matches the new dimensions.\n",
        "* For example, since *numpy_arr* has size 24, we can change its shape into (2,3,4), because $2*3*4 = 24.$"
      ],
      "metadata": {
        "id": "mJe8TZCyr8CQ"
      }
    },
    {
      "cell_type": "code",
      "source": [
        "tf.constant(numpy_arr, shape=(2,3,4))"
      ],
      "metadata": {
        "colab": {
          "base_uri": "https://localhost:8080/"
        },
        "id": "cGq3dcFer0su",
        "outputId": "35cebd5c-b3b3-4c54-dce8-b3005ea6ad16"
      },
      "execution_count": 87,
      "outputs": [
        {
          "output_type": "execute_result",
          "data": {
            "text/plain": [
              "<tf.Tensor: shape=(2, 3, 4), dtype=int32, numpy=\n",
              "array([[[ 1,  2,  3,  4],\n",
              "        [ 5,  6,  7,  8],\n",
              "        [ 9, 10, 11, 12]],\n",
              "\n",
              "       [[13, 14, 15, 16],\n",
              "        [17, 18, 19, 20],\n",
              "        [21, 22, 23, 24]]], dtype=int32)>"
            ]
          },
          "metadata": {},
          "execution_count": 87
        }
      ]
    },
    {
      "cell_type": "code",
      "source": [],
      "metadata": {
        "id": "L970cXKnr0u7"
      },
      "execution_count": null,
      "outputs": []
    },
    {
      "cell_type": "code",
      "source": [],
      "metadata": {
        "id": "tEgRbR32r0xP"
      },
      "execution_count": null,
      "outputs": []
    }
  ]
}