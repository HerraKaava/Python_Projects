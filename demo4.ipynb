{
 "cells": [
  {
   "cell_type": "code",
   "execution_count": 1,
   "id": "d17bc4f6",
   "metadata": {},
   "outputs": [],
   "source": [
    "import pandas as pd\n",
    "import matplotlib.pyplot as plt\n",
    "import seaborn as sns\n",
    "import numpy as np\n",
    "from statsmodels.formula.api import logit"
   ]
  },
  {
   "cell_type": "code",
   "execution_count": 2,
   "id": "5dc24849",
   "metadata": {},
   "outputs": [],
   "source": [
    "# Task 1."
   ]
  },
  {
   "cell_type": "code",
   "execution_count": 3,
   "id": "20da30e1",
   "metadata": {},
   "outputs": [],
   "source": [
    "aineisto = pd.read_csv(\"C:/Users/testi/Desktop/excel_files/HealthData.csv\", index_col=0)"
   ]
  },
  {
   "cell_type": "code",
   "execution_count": 4,
   "id": "01292b13",
   "metadata": {},
   "outputs": [
    {
     "data": {
      "text/html": [
       "<div>\n",
       "<style scoped>\n",
       "    .dataframe tbody tr th:only-of-type {\n",
       "        vertical-align: middle;\n",
       "    }\n",
       "\n",
       "    .dataframe tbody tr th {\n",
       "        vertical-align: top;\n",
       "    }\n",
       "\n",
       "    .dataframe thead th {\n",
       "        text-align: right;\n",
       "    }\n",
       "</style>\n",
       "<table border=\"1\" class=\"dataframe\">\n",
       "  <thead>\n",
       "    <tr style=\"text-align: right;\">\n",
       "      <th></th>\n",
       "      <th>ID</th>\n",
       "      <th>Height</th>\n",
       "      <th>Weight</th>\n",
       "      <th>Syst1</th>\n",
       "      <th>Diast1</th>\n",
       "      <th>Syst2</th>\n",
       "      <th>Diast2</th>\n",
       "      <th>Sex</th>\n",
       "      <th>Mstatus</th>\n",
       "      <th>Income</th>\n",
       "      <th>VaricoseVenes</th>\n",
       "      <th>BMI</th>\n",
       "      <th>Age</th>\n",
       "      <th>Hstatus</th>\n",
       "    </tr>\n",
       "  </thead>\n",
       "  <tbody>\n",
       "    <tr>\n",
       "      <th>1</th>\n",
       "      <td>5513</td>\n",
       "      <td>170</td>\n",
       "      <td>80.5</td>\n",
       "      <td>164</td>\n",
       "      <td>92</td>\n",
       "      <td>156</td>\n",
       "      <td>92</td>\n",
       "      <td>1</td>\n",
       "      <td>1</td>\n",
       "      <td>3</td>\n",
       "      <td>1</td>\n",
       "      <td>27.854671</td>\n",
       "      <td>60</td>\n",
       "      <td>2</td>\n",
       "    </tr>\n",
       "    <tr>\n",
       "      <th>2</th>\n",
       "      <td>5521</td>\n",
       "      <td>163</td>\n",
       "      <td>59.6</td>\n",
       "      <td>132</td>\n",
       "      <td>72</td>\n",
       "      <td>126</td>\n",
       "      <td>68</td>\n",
       "      <td>2</td>\n",
       "      <td>1</td>\n",
       "      <td>6</td>\n",
       "      <td>1</td>\n",
       "      <td>22.432158</td>\n",
       "      <td>36</td>\n",
       "      <td>1</td>\n",
       "    </tr>\n",
       "    <tr>\n",
       "      <th>3</th>\n",
       "      <td>5590</td>\n",
       "      <td>158</td>\n",
       "      <td>60.0</td>\n",
       "      <td>120</td>\n",
       "      <td>70</td>\n",
       "      <td>120</td>\n",
       "      <td>72</td>\n",
       "      <td>2</td>\n",
       "      <td>1</td>\n",
       "      <td>3</td>\n",
       "      <td>1</td>\n",
       "      <td>24.034610</td>\n",
       "      <td>37</td>\n",
       "      <td>1</td>\n",
       "    </tr>\n",
       "    <tr>\n",
       "      <th>4</th>\n",
       "      <td>5646</td>\n",
       "      <td>158</td>\n",
       "      <td>57.4</td>\n",
       "      <td>118</td>\n",
       "      <td>66</td>\n",
       "      <td>120</td>\n",
       "      <td>72</td>\n",
       "      <td>2</td>\n",
       "      <td>1</td>\n",
       "      <td>4</td>\n",
       "      <td>1</td>\n",
       "      <td>22.993110</td>\n",
       "      <td>41</td>\n",
       "      <td>1</td>\n",
       "    </tr>\n",
       "    <tr>\n",
       "      <th>5</th>\n",
       "      <td>5658</td>\n",
       "      <td>165</td>\n",
       "      <td>73.5</td>\n",
       "      <td>170</td>\n",
       "      <td>74</td>\n",
       "      <td>166</td>\n",
       "      <td>80</td>\n",
       "      <td>1</td>\n",
       "      <td>2</td>\n",
       "      <td>1</td>\n",
       "      <td>1</td>\n",
       "      <td>26.997245</td>\n",
       "      <td>42</td>\n",
       "      <td>2</td>\n",
       "    </tr>\n",
       "  </tbody>\n",
       "</table>\n",
       "</div>"
      ],
      "text/plain": [
       "     ID  Height  Weight  Syst1  Diast1  Syst2  Diast2  Sex  Mstatus  Income  \\\n",
       "1  5513     170    80.5    164      92    156      92    1        1       3   \n",
       "2  5521     163    59.6    132      72    126      68    2        1       6   \n",
       "3  5590     158    60.0    120      70    120      72    2        1       3   \n",
       "4  5646     158    57.4    118      66    120      72    2        1       4   \n",
       "5  5658     165    73.5    170      74    166      80    1        2       1   \n",
       "\n",
       "   VaricoseVenes        BMI  Age  Hstatus  \n",
       "1              1  27.854671   60        2  \n",
       "2              1  22.432158   36        1  \n",
       "3              1  24.034610   37        1  \n",
       "4              1  22.993110   41        1  \n",
       "5              1  26.997245   42        2  "
      ]
     },
     "execution_count": 4,
     "metadata": {},
     "output_type": "execute_result"
    }
   ],
   "source": [
    "aineisto.head()"
   ]
  },
  {
   "cell_type": "code",
   "execution_count": 5,
   "id": "1ffb7b8c",
   "metadata": {},
   "outputs": [
    {
     "data": {
      "text/plain": [
       "1    257\n",
       "2    173\n",
       "3     43\n",
       "Name: Hstatus, dtype: int64"
      ]
     },
     "execution_count": 5,
     "metadata": {},
     "output_type": "execute_result"
    }
   ],
   "source": [
    "aineisto[\"Hstatus\"].value_counts()"
   ]
  },
  {
   "cell_type": "code",
   "execution_count": 6,
   "id": "6c406497",
   "metadata": {},
   "outputs": [],
   "source": [
    "aineisto[\"HBad\"] = np.where(aineisto[\"Hstatus\"] == 3, 1, 0)"
   ]
  },
  {
   "cell_type": "code",
   "execution_count": 7,
   "id": "26a11b35",
   "metadata": {},
   "outputs": [
    {
     "data": {
      "text/plain": [
       "0    430\n",
       "1     43\n",
       "Name: HBad, dtype: int64"
      ]
     },
     "execution_count": 7,
     "metadata": {},
     "output_type": "execute_result"
    }
   ],
   "source": [
    "aineisto[\"HBad\"].value_counts()"
   ]
  },
  {
   "cell_type": "code",
   "execution_count": 8,
   "id": "6beb240a",
   "metadata": {},
   "outputs": [],
   "source": [
    "health = aineisto[[\"HBad\", \"Age\", \"Sex\", \"Mstatus\"]].copy()"
   ]
  },
  {
   "cell_type": "code",
   "execution_count": 9,
   "id": "79c09edd",
   "metadata": {},
   "outputs": [
    {
     "data": {
      "text/html": [
       "<div>\n",
       "<style scoped>\n",
       "    .dataframe tbody tr th:only-of-type {\n",
       "        vertical-align: middle;\n",
       "    }\n",
       "\n",
       "    .dataframe tbody tr th {\n",
       "        vertical-align: top;\n",
       "    }\n",
       "\n",
       "    .dataframe thead th {\n",
       "        text-align: right;\n",
       "    }\n",
       "</style>\n",
       "<table border=\"1\" class=\"dataframe\">\n",
       "  <thead>\n",
       "    <tr style=\"text-align: right;\">\n",
       "      <th></th>\n",
       "      <th>HBad</th>\n",
       "      <th>Age</th>\n",
       "      <th>Sex</th>\n",
       "      <th>Mstatus</th>\n",
       "    </tr>\n",
       "  </thead>\n",
       "  <tbody>\n",
       "    <tr>\n",
       "      <th>1</th>\n",
       "      <td>0</td>\n",
       "      <td>60</td>\n",
       "      <td>1</td>\n",
       "      <td>1</td>\n",
       "    </tr>\n",
       "    <tr>\n",
       "      <th>2</th>\n",
       "      <td>0</td>\n",
       "      <td>36</td>\n",
       "      <td>2</td>\n",
       "      <td>1</td>\n",
       "    </tr>\n",
       "    <tr>\n",
       "      <th>3</th>\n",
       "      <td>0</td>\n",
       "      <td>37</td>\n",
       "      <td>2</td>\n",
       "      <td>1</td>\n",
       "    </tr>\n",
       "    <tr>\n",
       "      <th>4</th>\n",
       "      <td>0</td>\n",
       "      <td>41</td>\n",
       "      <td>2</td>\n",
       "      <td>1</td>\n",
       "    </tr>\n",
       "    <tr>\n",
       "      <th>5</th>\n",
       "      <td>0</td>\n",
       "      <td>42</td>\n",
       "      <td>1</td>\n",
       "      <td>2</td>\n",
       "    </tr>\n",
       "  </tbody>\n",
       "</table>\n",
       "</div>"
      ],
      "text/plain": [
       "   HBad  Age  Sex  Mstatus\n",
       "1     0   60    1        1\n",
       "2     0   36    2        1\n",
       "3     0   37    2        1\n",
       "4     0   41    2        1\n",
       "5     0   42    1        2"
      ]
     },
     "execution_count": 9,
     "metadata": {},
     "output_type": "execute_result"
    }
   ],
   "source": [
    "health.head()"
   ]
  },
  {
   "cell_type": "code",
   "execution_count": 10,
   "id": "49bf2104",
   "metadata": {},
   "outputs": [
    {
     "data": {
      "text/plain": [
       "HBad       int32\n",
       "Age        int64\n",
       "Sex        int64\n",
       "Mstatus    int64\n",
       "dtype: object"
      ]
     },
     "execution_count": 10,
     "metadata": {},
     "output_type": "execute_result"
    }
   ],
   "source": [
    "health.dtypes"
   ]
  },
  {
   "cell_type": "code",
   "execution_count": 11,
   "id": "c1e123cf",
   "metadata": {},
   "outputs": [],
   "source": [
    "l = [\"Mstatus\"]\n",
    "\n",
    "for i in l:\n",
    "    health[i] = health[i].astype(\"category\")"
   ]
  },
  {
   "cell_type": "code",
   "execution_count": 12,
   "id": "37b98150",
   "metadata": {},
   "outputs": [
    {
     "data": {
      "text/plain": [
       "HBad          int32\n",
       "Age           int64\n",
       "Sex           int64\n",
       "Mstatus    category\n",
       "dtype: object"
      ]
     },
     "execution_count": 12,
     "metadata": {},
     "output_type": "execute_result"
    }
   ],
   "source": [
    "health.dtypes"
   ]
  },
  {
   "cell_type": "code",
   "execution_count": 13,
   "id": "f50db9d5",
   "metadata": {},
   "outputs": [],
   "source": [
    "# Task 2."
   ]
  },
  {
   "cell_type": "code",
   "execution_count": 14,
   "id": "c3b549dd",
   "metadata": {},
   "outputs": [],
   "source": [
    "health[\"Age40\"] = health[\"Age\"] - 40"
   ]
  },
  {
   "cell_type": "code",
   "execution_count": 15,
   "id": "8d5defaf",
   "metadata": {},
   "outputs": [
    {
     "data": {
      "text/html": [
       "<div>\n",
       "<style scoped>\n",
       "    .dataframe tbody tr th:only-of-type {\n",
       "        vertical-align: middle;\n",
       "    }\n",
       "\n",
       "    .dataframe tbody tr th {\n",
       "        vertical-align: top;\n",
       "    }\n",
       "\n",
       "    .dataframe thead th {\n",
       "        text-align: right;\n",
       "    }\n",
       "</style>\n",
       "<table border=\"1\" class=\"dataframe\">\n",
       "  <thead>\n",
       "    <tr style=\"text-align: right;\">\n",
       "      <th></th>\n",
       "      <th>HBad</th>\n",
       "      <th>Age</th>\n",
       "      <th>Sex</th>\n",
       "      <th>Mstatus</th>\n",
       "      <th>Age40</th>\n",
       "    </tr>\n",
       "  </thead>\n",
       "  <tbody>\n",
       "    <tr>\n",
       "      <th>1</th>\n",
       "      <td>0</td>\n",
       "      <td>60</td>\n",
       "      <td>1</td>\n",
       "      <td>1</td>\n",
       "      <td>20</td>\n",
       "    </tr>\n",
       "    <tr>\n",
       "      <th>2</th>\n",
       "      <td>0</td>\n",
       "      <td>36</td>\n",
       "      <td>2</td>\n",
       "      <td>1</td>\n",
       "      <td>-4</td>\n",
       "    </tr>\n",
       "    <tr>\n",
       "      <th>3</th>\n",
       "      <td>0</td>\n",
       "      <td>37</td>\n",
       "      <td>2</td>\n",
       "      <td>1</td>\n",
       "      <td>-3</td>\n",
       "    </tr>\n",
       "    <tr>\n",
       "      <th>4</th>\n",
       "      <td>0</td>\n",
       "      <td>41</td>\n",
       "      <td>2</td>\n",
       "      <td>1</td>\n",
       "      <td>1</td>\n",
       "    </tr>\n",
       "    <tr>\n",
       "      <th>5</th>\n",
       "      <td>0</td>\n",
       "      <td>42</td>\n",
       "      <td>1</td>\n",
       "      <td>2</td>\n",
       "      <td>2</td>\n",
       "    </tr>\n",
       "  </tbody>\n",
       "</table>\n",
       "</div>"
      ],
      "text/plain": [
       "   HBad  Age  Sex Mstatus  Age40\n",
       "1     0   60    1       1     20\n",
       "2     0   36    2       1     -4\n",
       "3     0   37    2       1     -3\n",
       "4     0   41    2       1      1\n",
       "5     0   42    1       2      2"
      ]
     },
     "execution_count": 15,
     "metadata": {},
     "output_type": "execute_result"
    }
   ],
   "source": [
    "health.head()"
   ]
  },
  {
   "cell_type": "code",
   "execution_count": 16,
   "id": "c41793bf",
   "metadata": {},
   "outputs": [
    {
     "name": "stdout",
     "output_type": "stream",
     "text": [
      "Optimization terminated successfully.\n",
      "         Current function value: 0.271738\n",
      "         Iterations 7\n"
     ]
    }
   ],
   "source": [
    "model1 = logit(\"HBad ~ Age40\", data=health).fit()"
   ]
  },
  {
   "cell_type": "code",
   "execution_count": 17,
   "id": "1253198e",
   "metadata": {},
   "outputs": [
    {
     "data": {
      "text/plain": [
       "Intercept   -2.995607\n",
       "Age40        0.086084\n",
       "dtype: float64"
      ]
     },
     "execution_count": 17,
     "metadata": {},
     "output_type": "execute_result"
    }
   ],
   "source": [
    "model1.params"
   ]
  },
  {
   "cell_type": "markdown",
   "id": "b1015ce8",
   "metadata": {},
   "source": [
    "$ logit(\\pi_{HBad}) = \\beta_0 + \\beta_1 * Age40 $"
   ]
  },
  {
   "cell_type": "code",
   "execution_count": null,
   "id": "11e0ceeb",
   "metadata": {},
   "outputs": [],
   "source": []
  },
  {
   "cell_type": "code",
   "execution_count": 18,
   "id": "809501f2",
   "metadata": {},
   "outputs": [],
   "source": [
    "# Task 3."
   ]
  },
  {
   "cell_type": "code",
   "execution_count": 19,
   "id": "1fe8cbe5",
   "metadata": {},
   "outputs": [],
   "source": [
    "# Let's make a function to calculate probabilities."
   ]
  },
  {
   "cell_type": "code",
   "execution_count": 20,
   "id": "3f7c2f57",
   "metadata": {},
   "outputs": [],
   "source": [
    "def invlogit(x):\n",
    "    e = np.exp(x) / (1 + np.exp(x))\n",
    "    return e"
   ]
  },
  {
   "cell_type": "code",
   "execution_count": 21,
   "id": "1584a33a",
   "metadata": {},
   "outputs": [],
   "source": [
    "b = model1.params"
   ]
  },
  {
   "cell_type": "code",
   "execution_count": 22,
   "id": "e6de9f0d",
   "metadata": {},
   "outputs": [
    {
     "data": {
      "text/plain": [
       "0.6101051031487589"
      ]
     },
     "execution_count": 22,
     "metadata": {},
     "output_type": "execute_result"
    }
   ],
   "source": [
    "invlogit(b[0] + b[1] * 40)\n",
    "\n",
    "# The probability of being in bad health status at age 40."
   ]
  },
  {
   "cell_type": "code",
   "execution_count": 23,
   "id": "b7f8515c",
   "metadata": {},
   "outputs": [
    {
     "data": {
      "text/plain": [
       "0.787277828288247"
      ]
     },
     "execution_count": 23,
     "metadata": {},
     "output_type": "execute_result"
    }
   ],
   "source": [
    "invlogit(b[0] + b[1] * 50)\n",
    "\n",
    "# The probability of being in bad health status at age 50."
   ]
  },
  {
   "cell_type": "code",
   "execution_count": null,
   "id": "60deda5c",
   "metadata": {},
   "outputs": [],
   "source": []
  },
  {
   "cell_type": "code",
   "execution_count": 24,
   "id": "e24cf253",
   "metadata": {},
   "outputs": [],
   "source": [
    "# Task 4."
   ]
  },
  {
   "cell_type": "code",
   "execution_count": 25,
   "id": "90ccc1df",
   "metadata": {},
   "outputs": [
    {
     "data": {
      "text/plain": [
       "0.23458731485200274"
      ]
     },
     "execution_count": 25,
     "metadata": {},
     "output_type": "execute_result"
    }
   ],
   "source": [
    "max(invlogit(b[0] + b[1] * health[\"Age40\"] + 1) - invlogit(b[0] + b[1] * health[\"Age40\"]))\n",
    "\n",
    "# Maximum difference in probability of bad health status when age differs by one year."
   ]
  },
  {
   "cell_type": "code",
   "execution_count": 26,
   "id": "8129eb62",
   "metadata": {},
   "outputs": [
    {
     "data": {
      "text/plain": [
       "0.9866103735217656"
      ]
     },
     "execution_count": 26,
     "metadata": {},
     "output_type": "execute_result"
    }
   ],
   "source": [
    "max(invlogit(b[0] + b[1] * health[\"Age40\"] + 10) - invlogit(b[0] + b[1] * health[\"Age40\"]))\n",
    "\n",
    "# Maximum difference in probability of bad health status when age differs by ten years."
   ]
  },
  {
   "cell_type": "code",
   "execution_count": null,
   "id": "dfc60ad0",
   "metadata": {},
   "outputs": [],
   "source": []
  },
  {
   "cell_type": "code",
   "execution_count": 27,
   "id": "368203f0",
   "metadata": {},
   "outputs": [],
   "source": [
    "# Task 5."
   ]
  },
  {
   "cell_type": "code",
   "execution_count": 28,
   "id": "99374eeb",
   "metadata": {},
   "outputs": [],
   "source": [
    "age_unique = np.unique(health[\"Age40\"].values)\n",
    "age_unique_df = pd.DataFrame({\"Age40\": age_unique})"
   ]
  },
  {
   "cell_type": "code",
   "execution_count": 29,
   "id": "c618d86d",
   "metadata": {},
   "outputs": [],
   "source": [
    "pred = model1.predict(age_unique_df)"
   ]
  },
  {
   "cell_type": "code",
   "execution_count": 30,
   "id": "c3d4d632",
   "metadata": {},
   "outputs": [],
   "source": [
    "pd.set_option(\"display.max_rows\", None)\n",
    "table = health[\"Age\"].groupby(health[\"HBad\"]).value_counts().sort_index()"
   ]
  },
  {
   "cell_type": "code",
   "execution_count": 31,
   "id": "0bdbdcbf",
   "metadata": {},
   "outputs": [
    {
     "data": {
      "text/plain": [
       "Age\n",
       "16    0.000000\n",
       "17    0.000000\n",
       "18    0.000000\n",
       "19    0.000000\n",
       "20    0.000000\n",
       "21    0.000000\n",
       "22    0.333333\n",
       "23    0.000000\n",
       "24    0.000000\n",
       "25    0.000000\n",
       "26    0.000000\n",
       "27    0.000000\n",
       "28    0.000000\n",
       "29    0.000000\n",
       "30    0.000000\n",
       "31    0.000000\n",
       "32    0.090909\n",
       "33    0.111111\n",
       "34    0.000000\n",
       "35    0.052632\n",
       "36    0.000000\n",
       "37    0.071429\n",
       "38    0.000000\n",
       "39    0.000000\n",
       "40    0.000000\n",
       "41    0.125000\n",
       "42    0.000000\n",
       "43    0.000000\n",
       "44    0.000000\n",
       "45    0.117647\n",
       "46    0.000000\n",
       "47    0.000000\n",
       "48    0.133333\n",
       "49    0.090909\n",
       "50    0.083333\n",
       "51    0.076923\n",
       "52    0.166667\n",
       "53    0.000000\n",
       "54    0.125000\n",
       "55    0.181818\n",
       "56    0.000000\n",
       "57    0.285714\n",
       "58    0.333333\n",
       "59    0.352941\n",
       "60    0.000000\n",
       "61    0.250000\n",
       "62    0.000000\n",
       "63    0.375000\n",
       "64    0.250000\n",
       "Name: Age, dtype: float64"
      ]
     },
     "execution_count": 31,
     "metadata": {},
     "output_type": "execute_result"
    }
   ],
   "source": [
    "suhtfrek = (table[1] / (table[1]  + table[0])).fillna(0)\n",
    "suhtfrek"
   ]
  },
  {
   "cell_type": "code",
   "execution_count": 32,
   "id": "da741ce9",
   "metadata": {},
   "outputs": [
    {
     "data": {
      "image/png": "[encoded data removed]",
      "text/plain": [
       "<Figure size 432x288 with 1 Axes>"
      ]
     },
     "metadata": {},
     "output_type": "display_data"
    }
   ],
   "source": [
    "sns.set_style(\"darkgrid\")\n",
    "plt.scatter(age_unique, suhtfrek)\n",
    "plt.plot(age_unique, pred, color=\"red\")\n",
    "plt.title(\"Probability of bad health vs. Age40\", size=15)\n",
    "plt.xlabel(\"Age40\", size=12)\n",
    "plt.ylabel(\"Probability of bad health\", size=12);"
   ]
  },
  {
   "cell_type": "code",
   "execution_count": null,
   "id": "b4922c28",
   "metadata": {},
   "outputs": [],
   "source": []
  },
  {
   "cell_type": "code",
   "execution_count": 33,
   "id": "eadb3a93",
   "metadata": {},
   "outputs": [],
   "source": [
    "# Task 6."
   ]
  },
  {
   "cell_type": "code",
   "execution_count": 34,
   "id": "75331f4e",
   "metadata": {},
   "outputs": [
    {
     "data": {
      "text/plain": [
       "0.17958648570402322"
      ]
     },
     "execution_count": 34,
     "metadata": {},
     "output_type": "execute_result"
    }
   ],
   "source": [
    "invlogit(b[0] + b[1] * (20+10)) - invlogit(b[0] + b[1] * (20))\n",
    "\n",
    "# The predicted difference for having a bad health at the age 30 vs. 20 is approx. 18 %."
   ]
  },
  {
   "cell_type": "code",
   "execution_count": 35,
   "id": "64f745ec",
   "metadata": {},
   "outputs": [
    {
     "data": {
      "text/plain": [
       "0.2119327591464794"
      ]
     },
     "execution_count": 35,
     "metadata": {},
     "output_type": "execute_result"
    }
   ],
   "source": [
    "invlogit(b[0] + b[1] * (30+10)) - invlogit(b[0] + b[1] * (30))\n",
    "\n",
    "# The predicted difference for having bad health at the age 40 vs. 30 is approx. 21.2 %."
   ]
  },
  {
   "cell_type": "code",
   "execution_count": 36,
   "id": "fd6038df",
   "metadata": {},
   "outputs": [
    {
     "data": {
      "text/plain": [
       "0.17717272513948812"
      ]
     },
     "execution_count": 36,
     "metadata": {},
     "output_type": "execute_result"
    }
   ],
   "source": [
    "invlogit(b[0] + b[1] * (40+10)) - invlogit(b[0] + b[1] * (40))\n",
    "\n",
    "# The predicted difference for having bad health at the age 50 vs. 40 is approx. 17.7 %."
   ]
  },
  {
   "cell_type": "code",
   "execution_count": 37,
   "id": "e56f2a2e",
   "metadata": {},
   "outputs": [
    {
     "data": {
      "text/plain": [
       "0.11019311157117906"
      ]
     },
     "execution_count": 37,
     "metadata": {},
     "output_type": "execute_result"
    }
   ],
   "source": [
    "invlogit(b[0] + b[1] * (50+10)) - invlogit(b[0] + b[1] * (50))\n",
    "\n",
    "# The predicted difference for having bad health at the age 50 vs. 40 is approx. 11 %."
   ]
  },
  {
   "cell_type": "code",
   "execution_count": null,
   "id": "10f4620f",
   "metadata": {},
   "outputs": [],
   "source": []
  },
  {
   "cell_type": "code",
   "execution_count": 38,
   "id": "f118194f",
   "metadata": {},
   "outputs": [],
   "source": [
    "# Task 7."
   ]
  },
  {
   "cell_type": "code",
   "execution_count": 39,
   "id": "709f4842",
   "metadata": {},
   "outputs": [],
   "source": [
    "# In logistic regression, we can interpret our model's coefficients with probabilities or odds.\n",
    "# Let's interpret our model coefficients using the odds."
   ]
  },
  {
   "cell_type": "code",
   "execution_count": 40,
   "id": "183a8ed0",
   "metadata": {},
   "outputs": [
    {
     "data": {
      "text/plain": [
       "0.050006272435088366"
      ]
     },
     "execution_count": 40,
     "metadata": {},
     "output_type": "execute_result"
    }
   ],
   "source": [
    "odds = np.exp(b[0])\n",
    "odds\n",
    "\n",
    "# The intercept term b_0 gets a interpretation by setting the predictor variable Age40 to zero.\n",
    "# This cancels the b_1 * Age40 term, leaving just the b_0 term.\n",
    "# This gives us an odds value of 0.05.\n",
    "\n",
    "# The interpretation for odds itself is: probability of getting x / probability of not getting x\n",
    "# or P(x) / (1 - P(x))."
   ]
  },
  {
   "cell_type": "code",
   "execution_count": 41,
   "id": "c01d2572",
   "metadata": {},
   "outputs": [
    {
     "data": {
      "text/plain": [
       "1.0898978995253343"
      ]
     },
     "execution_count": 41,
     "metadata": {},
     "output_type": "execute_result"
    }
   ],
   "source": [
    "np.exp(b[1])\n",
    "\n",
    "# The interpretation of the slope term b_1:\n",
    "# When comparing two people, who's age differ by one year, then the person who is one year older \\\n",
    "# is 1.09 times more likely to have a bad health status than the person who is one year younger.\n",
    "# If this value would be exactly one, then the two people would have exactly the same odds of having \\\n",
    "# a bad health status."
   ]
  },
  {
   "cell_type": "code",
   "execution_count": null,
   "id": "3d7a7ce0",
   "metadata": {},
   "outputs": [],
   "source": []
  },
  {
   "cell_type": "code",
   "execution_count": 42,
   "id": "07aad6d3",
   "metadata": {},
   "outputs": [],
   "source": [
    "# Task 8."
   ]
  },
  {
   "cell_type": "code",
   "execution_count": 43,
   "id": "87c1dc58",
   "metadata": {},
   "outputs": [
    {
     "name": "stdout",
     "output_type": "stream",
     "text": [
      "Optimization terminated successfully.\n",
      "         Current function value: 0.265326\n",
      "         Iterations 7\n"
     ]
    },
    {
     "data": {
      "text/plain": [
       "Intercept      -2.340376\n",
       "Mstatus[T.2]    0.685021\n",
       "Mstatus[T.3]    0.437117\n",
       "Mstatus[T.4]   -0.488341\n",
       "Age40           0.099724\n",
       "Sex            -0.611334\n",
       "dtype: float64"
      ]
     },
     "execution_count": 43,
     "metadata": {},
     "output_type": "execute_result"
    }
   ],
   "source": [
    "model2 = logit(\"HBad ~ Age40 + Sex + Mstatus\", data=health).fit()\n",
    "model2.params"
   ]
  },
  {
   "cell_type": "markdown",
   "id": "fb69c976",
   "metadata": {},
   "source": [
    "$ logit(\\pi_{HBad}) = \\beta_0 + \\beta_1 * Age40 + \\beta_2 * Sex + \\beta_3 * Mstatus $"
   ]
  },
  {
   "cell_type": "code",
   "execution_count": null,
   "id": "77e827aa",
   "metadata": {},
   "outputs": [],
   "source": []
  },
  {
   "cell_type": "code",
   "execution_count": 44,
   "id": "750cbf98",
   "metadata": {},
   "outputs": [],
   "source": [
    "# Task 9."
   ]
  },
  {
   "cell_type": "code",
   "execution_count": 45,
   "id": "6d21b0cb",
   "metadata": {},
   "outputs": [
    {
     "name": "stdout",
     "output_type": "stream",
     "text": [
      "   Age40  Sex  Mstatus\n",
      "0     45    2        1\n",
      "   Age40  Sex  Mstatus\n",
      "0     60    1        3\n"
     ]
    }
   ],
   "source": [
    "x1 = pd.DataFrame({\"Age40\": [45],\n",
    "                   \"Sex\": [2],\n",
    "                   \"Mstatus\": [1]})\n",
    "\n",
    "x2 = pd.DataFrame({\"Age40\": [60],\n",
    "                   \"Sex\": [1],\n",
    "                   \"Mstatus\": [3]})\n",
    "print(x1)\n",
    "print(x2)"
   ]
  },
  {
   "cell_type": "code",
   "execution_count": 46,
   "id": "09331612",
   "metadata": {},
   "outputs": [
    {
     "data": {
      "text/plain": [
       "0    0.715968\n",
       "dtype: float64"
      ]
     },
     "execution_count": 46,
     "metadata": {},
     "output_type": "execute_result"
    }
   ],
   "source": [
    "pred_x1 = model2.predict(x1)\n",
    "pred_x1\n",
    "\n",
    "# The probability for a bad health status when one is 45 years old, female, and in relationship."
   ]
  },
  {
   "cell_type": "code",
   "execution_count": 47,
   "id": "223f498d",
   "metadata": {},
   "outputs": [
    {
     "data": {
      "text/plain": [
       "0    0.969789\n",
       "dtype: float64"
      ]
     },
     "execution_count": 47,
     "metadata": {},
     "output_type": "execute_result"
    }
   ],
   "source": [
    "pred_x2 = model2.predict(x2)\n",
    "pred_x2\n",
    "\n",
    "# The probability for a bad health status when one is 60 years old, male, and seperated."
   ]
  },
  {
   "cell_type": "code",
   "execution_count": null,
   "id": "90b3afcb",
   "metadata": {},
   "outputs": [],
   "source": []
  },
  {
   "cell_type": "code",
   "execution_count": 48,
   "id": "d4b63700",
   "metadata": {},
   "outputs": [],
   "source": [
    "# Task 11."
   ]
  },
  {
   "cell_type": "code",
   "execution_count": 50,
   "id": "48c6d0c6",
   "metadata": {},
   "outputs": [
    {
     "data": {
      "text/html": [
       "<table class=\"simpletable\">\n",
       "<caption>Logit Regression Results</caption>\n",
       "<tr>\n",
       "  <th>Dep. Variable:</th>         <td>HBad</td>       <th>  No. Observations:  </th>  <td>   473</td>  \n",
       "</tr>\n",
       "<tr>\n",
       "  <th>Model:</th>                 <td>Logit</td>      <th>  Df Residuals:      </th>  <td>   467</td>  \n",
       "</tr>\n",
       "<tr>\n",
       "  <th>Method:</th>                 <td>MLE</td>       <th>  Df Model:          </th>  <td>     5</td>  \n",
       "</tr>\n",
       "<tr>\n",
       "  <th>Date:</th>            <td>Sat, 08 Oct 2022</td> <th>  Pseudo R-squ.:     </th>  <td>0.1290</td>  \n",
       "</tr>\n",
       "<tr>\n",
       "  <th>Time:</th>                <td>18:18:27</td>     <th>  Log-Likelihood:    </th> <td> -125.50</td> \n",
       "</tr>\n",
       "<tr>\n",
       "  <th>converged:</th>             <td>True</td>       <th>  LL-Null:           </th> <td> -144.09</td> \n",
       "</tr>\n",
       "<tr>\n",
       "  <th>Covariance Type:</th>     <td>nonrobust</td>    <th>  LLR p-value:       </th> <td>5.493e-07</td>\n",
       "</tr>\n",
       "</table>\n",
       "<table class=\"simpletable\">\n",
       "<tr>\n",
       "        <td></td>          <th>coef</th>     <th>std err</th>      <th>z</th>      <th>P>|z|</th>  <th>[0.025</th>    <th>0.975]</th>  \n",
       "</tr>\n",
       "<tr>\n",
       "  <th>Intercept</th>    <td>   -2.3404</td> <td>    0.542</td> <td>   -4.316</td> <td> 0.000</td> <td>   -3.403</td> <td>   -1.278</td>\n",
       "</tr>\n",
       "<tr>\n",
       "  <th>Mstatus[T.2]</th> <td>    0.6850</td> <td>    0.514</td> <td>    1.332</td> <td> 0.183</td> <td>   -0.323</td> <td>    1.693</td>\n",
       "</tr>\n",
       "<tr>\n",
       "  <th>Mstatus[T.3]</th> <td>    0.4371</td> <td>    0.678</td> <td>    0.645</td> <td> 0.519</td> <td>   -0.891</td> <td>    1.765</td>\n",
       "</tr>\n",
       "<tr>\n",
       "  <th>Mstatus[T.4]</th> <td>   -0.4883</td> <td>    0.670</td> <td>   -0.729</td> <td> 0.466</td> <td>   -1.802</td> <td>    0.825</td>\n",
       "</tr>\n",
       "<tr>\n",
       "  <th>Age40</th>        <td>    0.0997</td> <td>    0.019</td> <td>    5.185</td> <td> 0.000</td> <td>    0.062</td> <td>    0.137</td>\n",
       "</tr>\n",
       "<tr>\n",
       "  <th>Sex</th>          <td>   -0.6113</td> <td>    0.353</td> <td>   -1.732</td> <td> 0.083</td> <td>   -1.303</td> <td>    0.080</td>\n",
       "</tr>\n",
       "</table>"
      ],
      "text/plain": [
       "<class 'statsmodels.iolib.summary.Summary'>\n",
       "\"\"\"\n",
       "                           Logit Regression Results                           \n",
       "==============================================================================\n",
       "Dep. Variable:                   HBad   No. Observations:                  473\n",
       "Model:                          Logit   Df Residuals:                      467\n",
       "Method:                           MLE   Df Model:                            5\n",
       "Date:                Sat, 08 Oct 2022   Pseudo R-squ.:                  0.1290\n",
       "Time:                        18:18:27   Log-Likelihood:                -125.50\n",
       "converged:                       True   LL-Null:                       -144.09\n",
       "Covariance Type:            nonrobust   LLR p-value:                 5.493e-07\n",
       "================================================================================\n",
       "                   coef    std err          z      P>|z|      [0.025      0.975]\n",
       "--------------------------------------------------------------------------------\n",
       "Intercept       -2.3404      0.542     -4.316      0.000      -3.403      -1.278\n",
       "Mstatus[T.2]     0.6850      0.514      1.332      0.183      -0.323       1.693\n",
       "Mstatus[T.3]     0.4371      0.678      0.645      0.519      -0.891       1.765\n",
       "Mstatus[T.4]    -0.4883      0.670     -0.729      0.466      -1.802       0.825\n",
       "Age40            0.0997      0.019      5.185      0.000       0.062       0.137\n",
       "Sex             -0.6113      0.353     -1.732      0.083      -1.303       0.080\n",
       "================================================================================\n",
       "\"\"\""
      ]
     },
     "execution_count": 50,
     "metadata": {},
     "output_type": "execute_result"
    }
   ],
   "source": [
    "model2.summary()"
   ]
  },
  {
   "cell_type": "code",
   "execution_count": null,
   "id": "8e6958ec",
   "metadata": {},
   "outputs": [],
   "source": [
    "# 1. standard error\n",
    "# 2. Log-Likelihood\n",
    "# 3. Method\n",
    "# 4. Covariance Type"
   ]
  },
  {
   "cell_type": "code",
   "execution_count": null,
   "id": "3ec406c9",
   "metadata": {},
   "outputs": [],
   "source": []
  },
  {
   "cell_type": "code",
   "execution_count": null,
   "id": "bea76b7c",
   "metadata": {},
   "outputs": [],
   "source": []
  }
 ],
 "metadata": {
  "kernelspec": {
   "display_name": "Python 3 (ipykernel)",
   "language": "python",
   "name": "python3"
  },
  "language_info": {
   "codemirror_mode": {
    "name": "ipython",
    "version": 3
   },
   "file_extension": ".py",
   "mimetype": "text/x-python",
   "name": "python",
   "nbconvert_exporter": "python",
   "pygments_lexer": "ipython3",
   "version": "3.9.12"
  }
 },
 "nbformat": 4,
 "nbformat_minor": 5
}
