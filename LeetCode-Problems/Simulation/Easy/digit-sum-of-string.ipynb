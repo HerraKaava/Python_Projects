{
 "cells": [
  {
   "cell_type": "code",
   "execution_count": 45,
   "id": "193939af",
   "metadata": {},
   "outputs": [],
   "source": [
    "class Solution:\n",
    "    def digitSum(self, s: str, k: int) -> str:\n",
    "        \"\"\"\n",
    "        Calculates the digit sum of a given string 's' in the following manner.\n",
    "\n",
    "        1. 's' is divided into consecutive groups of size k such that the first k\n",
    "        characters are in the first group, the next k characters are in the second group, and so on.\n",
    "        Note that the size of the last group can be smaller than k.\n",
    "\n",
    "        2. Replace each group of 's' with a string representing the sum of all its digits.\n",
    "        For example, \"346\" is replaced with \"13\" because 3 + 4 + 6 = 13.\n",
    "\n",
    "        3. Merge consecutive groups together to form a new string.\n",
    "        If the length of the string is greater than k, repeat from step 1.\n",
    "        \n",
    "        Example:\n",
    "        \n",
    "            Input: s = \"11111222223\", k = 3\n",
    "            Output: \"135\"\n",
    "            \n",
    "            Explanation:\n",
    "                For the first round, we divide s into groups of size 3: \"111\", \"112\", \"222\", and \"23\".\n",
    "                Then we calculate the digit sum of each group: \n",
    "                1+1+1=3, 1+1+2=4, 2+2+2=6, and 2+3=5. \n",
    "                So, s becomes \"3\" + \"4\" + \"6\" + \"5\" = \"3465\" after the first round.\n",
    "                For the second round, we divide s into \"346\" and \"5\".\n",
    "                Then we calculate the digit sum of each group: 3+4+6=13, 5=5. \n",
    "                So, s becomes \"13\" + \"5\" = \"135\" after second round. \n",
    "                Now, s.length <= k, so we return \"135\" as the answer.\n",
    "        \"\"\"\n",
    "        def divide_to_groups(s: str) -> list[str]:\n",
    "            return [s[i:i+k] for i in range(0, len(s), k)]\n",
    "        \n",
    "        def group_digit_sum(arr: list[str]) -> list[int]:\n",
    "            return [sum([int(i) for i in string]) for string in arr]\n",
    "        \n",
    "        def new_str(s: str) -> str:\n",
    "            groups_of_k = divide_to_groups(s)\n",
    "            sum_of_groups = group_digit_sum(groups_of_k)\n",
    "            string = ''.join([str(i) for i in sum_of_groups])\n",
    "            if len(string) <= k:\n",
    "                return string\n",
    "            else:\n",
    "                return new_str(string)\n",
    "            \n",
    "        return new_str(s)"
   ]
  },
  {
   "cell_type": "code",
   "execution_count": 46,
   "id": "6148f9d1",
   "metadata": {},
   "outputs": [],
   "source": [
    "s = '11111222223'\n",
    "k = 3\n",
    "sol = Solution()"
   ]
  },
  {
   "cell_type": "code",
   "execution_count": 47,
   "id": "3e9e8390",
   "metadata": {},
   "outputs": [
    {
     "data": {
      "text/plain": [
       "'135'"
      ]
     },
     "execution_count": 47,
     "metadata": {},
     "output_type": "execute_result"
    }
   ],
   "source": [
    "sol.digitSum(s, k)"
   ]
  }
 ],
 "metadata": {
  "kernelspec": {
   "display_name": "Python 3 (ipykernel)",
   "language": "python",
   "name": "python3"
  },
  "language_info": {
   "codemirror_mode": {
    "name": "ipython",
    "version": 3
   },
   "file_extension": ".py",
   "mimetype": "text/x-python",
   "name": "python",
   "nbconvert_exporter": "python",
   "pygments_lexer": "ipython3",
   "version": "3.11.5"
  }
 },
 "nbformat": 4,
 "nbformat_minor": 5
}
