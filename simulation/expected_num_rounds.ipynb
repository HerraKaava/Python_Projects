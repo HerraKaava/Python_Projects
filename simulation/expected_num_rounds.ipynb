{
 "cells": [
  {
   "cell_type": "code",
   "execution_count": 1,
   "id": "7dcf8640",
   "metadata": {},
   "outputs": [],
   "source": [
    "import numpy as np\n",
    "import matplotlib.pyplot as plt"
   ]
  },
  {
   "cell_type": "markdown",
   "id": "40bd1778",
   "metadata": {},
   "source": [
    "Suppose one plays a game where $\\, P(\\text{win}) = p \\,$ for each round. Game ends when one lose 2 times **in a row**. What is the expected number of rounds played?"
   ]
  },
  {
   "cell_type": "code",
   "execution_count": 2,
   "id": "930a4a9d",
   "metadata": {},
   "outputs": [],
   "source": [
    "def expected_num_rounds(m, p):\n",
    "    res = np.zeros(m)\n",
    "    for i in range(m):\n",
    "        loss_count = 0\n",
    "        rounds = 0\n",
    "        while loss_count != 2:\n",
    "            u = np.random.uniform(low=0.0, high=1.0, size=1)    # Play one round\n",
    "            rounds += 1\n",
    "            if p < u:    # If p < u, player loses ==> increase the loss count by 1\n",
    "                loss_count += 1\n",
    "            else:\n",
    "                # If p >= u, player wins ==> reset the loss count\n",
    "                loss_count = 0\n",
    "        res[i] = rounds\n",
    "    return np.mean(res)"
   ]
  },
  {
   "cell_type": "code",
   "execution_count": 4,
   "id": "21930e18",
   "metadata": {},
   "outputs": [],
   "source": [
    "def analytical_solution(p):\n",
    "    return (2 - p) / (1 - p)**2"
   ]
  },
  {
   "cell_type": "code",
   "execution_count": 8,
   "id": "4163ec07",
   "metadata": {},
   "outputs": [
    {
     "name": "stdout",
     "output_type": "stream",
     "text": [
      "p = 0.2\n",
      "Simulation result: 2.81260\n",
      "Analytical result: 2.81250\n",
      "\n",
      "p = 0.3\n",
      "Simulation result: 3.46701\n",
      "Analytical result: 3.46939\n",
      "\n",
      "p = 0.4\n",
      "Simulation result: 4.46131\n",
      "Analytical result: 4.44444\n",
      "\n",
      "p = 0.5\n",
      "Simulation result: 6.01342\n",
      "Analytical result: 6.00000\n",
      "\n",
      "p = 0.6\n",
      "Simulation result: 8.72446\n",
      "Analytical result: 8.75000\n",
      "\n",
      "p = 0.7\n",
      "Simulation result: 14.51601\n",
      "Analytical result: 14.44444\n",
      "\n",
      "p = 0.8\n",
      "Simulation result: 29.85170\n",
      "Analytical result: 30.00000\n",
      "\n"
     ]
    }
   ],
   "source": [
    "for p in np.linspace(0.2, 0.8, 7):\n",
    "    simulation_result = expected_num_rounds(m=100000, p=p)\n",
    "    analytical_result = analytical_solution(p=p)\n",
    "    print(f'p = {p:.1f}')\n",
    "    print(f'Simulation result: {simulation_result:.5f}')\n",
    "    print(f'Analytical result: {analytical_result:.5f}')\n",
    "    print()"
   ]
  }
 ],
 "metadata": {
  "kernelspec": {
   "display_name": "Python 3 (ipykernel)",
   "language": "python",
   "name": "python3"
  },
  "language_info": {
   "codemirror_mode": {
    "name": "ipython",
    "version": 3
   },
   "file_extension": ".py",
   "mimetype": "text/x-python",
   "name": "python",
   "nbconvert_exporter": "python",
   "pygments_lexer": "ipython3",
   "version": "3.13.2"
  }
 },
 "nbformat": 4,
 "nbformat_minor": 5
}
