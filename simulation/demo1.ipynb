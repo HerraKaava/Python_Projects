{
 "cells": [
  {
   "cell_type": "code",
   "execution_count": 1,
   "id": "725d6e9a",
   "metadata": {},
   "outputs": [],
   "source": [
    "import numpy as np"
   ]
  },
  {
   "cell_type": "markdown",
   "id": "96ffba76",
   "metadata": {},
   "source": [
    "<h2>Task 1</h2>"
   ]
  },
  {
   "cell_type": "markdown",
   "id": "aa5ce6c3",
   "metadata": {},
   "source": [
    "**(a)**"
   ]
  },
  {
   "cell_type": "code",
   "execution_count": 2,
   "id": "4e4b0bf1",
   "metadata": {},
   "outputs": [],
   "source": [
    "arrival_times = [12, 31, 63, 95, 99, 154, 198, 221, 304, 346, 411, 455, 537]\n",
    "service_times = [40, 32, 55, 48, 18, 50, 47, 18, 28, 54, 40, 72, 12]"
   ]
  },
  {
   "cell_type": "code",
   "execution_count": 3,
   "id": "1325ded0",
   "metadata": {},
   "outputs": [],
   "source": [
    "def f1(A, S):\n",
    "    \"\"\"\n",
    "    First in, first out.\n",
    "    \n",
    "    Args:\n",
    "        A: arrival times\n",
    "        S: service times\n",
    "        \n",
    "    Returns:\n",
    "        D: departure times.\n",
    "    \"\"\"\n",
    "    # Initialize a list to store the departure times\n",
    "    D = []\n",
    "    \n",
    "    # The first customer can start service upon arrival\n",
    "    T1 = A[0]\n",
    "    D1 = T1 + S[0]\n",
    "    D.append(D1)\n",
    "    \n",
    "    # Each subsequent customer handled in the loop\n",
    "    for i in range(1, len(A)):\n",
    "        Ti = max(A[i], D[i-1])    # The time the service begins for the ith customer\n",
    "        Di = Ti + S[i]            # The departure time for the ith customer\n",
    "        D.append(Di)\n",
    "    return D"
   ]
  },
  {
   "cell_type": "code",
   "execution_count": 4,
   "id": "62fe7a6d",
   "metadata": {},
   "outputs": [
    {
     "data": {
      "text/plain": [
       "[52, 84, 139, 187, 205, 255, 302, 320, 348, 402, 451, 527, 549]"
      ]
     },
     "execution_count": 4,
     "metadata": {},
     "output_type": "execute_result"
    }
   ],
   "source": [
    "f1(arrival_times, service_times)"
   ]
  },
  {
   "cell_type": "markdown",
   "id": "914bb798",
   "metadata": {},
   "source": [
    "**(b)**"
   ]
  },
  {
   "cell_type": "code",
   "execution_count": 5,
   "id": "d9c0d5c0",
   "metadata": {},
   "outputs": [],
   "source": [
    "def f2(A, S):\n",
    "    # Helper variables to track the next available time for each server\n",
    "    server1 = 0\n",
    "    server2 = 0\n",
    "    \n",
    "    # Initialize a list to store the departure times\n",
    "    D = []    \n",
    "    \n",
    "    for i in range(len(A)):\n",
    "        Ai = A[i]\n",
    "        Si = S[i] \n",
    "        Ti = max(Ai, min(server1, server2))  \n",
    "        Di = Ti + S[i]\n",
    "        D.append(Di)\n",
    "        \n",
    "        # Update the next available free times for the servers\n",
    "        if server1 <= server2:\n",
    "            # The next free service time for server 1\n",
    "            server1 = Di\n",
    "        else:\n",
    "            # The next free service time for server 2\n",
    "            server2 = Di\n",
    "            \n",
    "    return D"
   ]
  },
  {
   "cell_type": "code",
   "execution_count": 6,
   "id": "7feae032",
   "metadata": {},
   "outputs": [
    {
     "data": {
      "text/plain": [
       "[52, 63, 118, 143, 136, 204, 245, 239, 332, 400, 451, 527, 549]"
      ]
     },
     "execution_count": 6,
     "metadata": {},
     "output_type": "execute_result"
    }
   ],
   "source": [
    "f2(arrival_times, service_times)"
   ]
  },
  {
   "cell_type": "markdown",
   "id": "ed6a1dae",
   "metadata": {},
   "source": [
    "<h2>Task 2</h2>"
   ]
  },
  {
   "cell_type": "markdown",
   "id": "a3a1ee05",
   "metadata": {},
   "source": [
    "**(a)**"
   ]
  },
  {
   "cell_type": "code",
   "execution_count": 9,
   "id": "c2b12648",
   "metadata": {},
   "outputs": [],
   "source": [
    "def WSPT(p, w):\n",
    "    \"\"\"\n",
    "    Implement weighted shortest processing time (WSPT).\n",
    "    \n",
    "    Args:\n",
    "        w: weights\n",
    "        p: processing times\n",
    "    \"\"\"\n",
    "    # Determine the optimal order\n",
    "    priority = p / w\n",
    "    p_sorted = p[np.argsort(priority)]\n",
    "    w_sorted = w[np.argsort(priority)]\n",
    "    \n",
    "    t = 0    # Current time \n",
    "    total_weighted_d_time = 0\n",
    "    \n",
    "    for i in range(len(p)):\n",
    "        total_weighted_d_time += w_sorted[i] * (t + p_sorted[i])\n",
    "        t += p_sorted[i]\n",
    "    \n",
    "    print(f'Optimal order: {np.argsort(priority) + 1}')\n",
    "    print(f'Total weighted departure time: {total_weighted_d_time.item()}')"
   ]
  },
  {
   "cell_type": "code",
   "execution_count": 10,
   "id": "f8856f81",
   "metadata": {},
   "outputs": [],
   "source": [
    "processing_times = np.array([3, 5, 7, 4])\n",
    "weights = np.array([6, 11, 9, 5])"
   ]
  },
  {
   "cell_type": "code",
   "execution_count": 11,
   "id": "a2f44f66",
   "metadata": {},
   "outputs": [
    {
     "name": "stdout",
     "output_type": "stream",
     "text": [
      "Optimal order: [2 1 3 4]\n",
      "Total weighted departure time: 333\n"
     ]
    }
   ],
   "source": [
    "WSPT(processing_times, weights)"
   ]
  },
  {
   "cell_type": "markdown",
   "id": "0fad561a",
   "metadata": {},
   "source": [
    "<h2>Task 3</h2>"
   ]
  },
  {
   "cell_type": "markdown",
   "id": "9dd32ec7",
   "metadata": {},
   "source": [
    "**(a)**"
   ]
  },
  {
   "cell_type": "code",
   "execution_count": 13,
   "id": "6cde74a0",
   "metadata": {},
   "outputs": [],
   "source": [
    "def EDD(p, d):\n",
    "    # Determine the optimal order\n",
    "    p_sorted = p[np.argsort(d)]\n",
    "    d_sorted = d[np.argsort(d)]\n",
    "    \n",
    "    t = 0     # Current time\n",
    "    L = []    # For storing the lateness of each job   \n",
    "    \n",
    "    for i in range(len(p)):\n",
    "        t += p[i]\n",
    "        Li = max(0, t - d[i])\n",
    "        L.append(Li)\n",
    "        \n",
    "    print(f'Optimal order: {np.argsort(d)}')\n",
    "    print(f'Maximum lateness (minimized): {max(L)}')"
   ]
  },
  {
   "cell_type": "code",
   "execution_count": 14,
   "id": "c780f84d",
   "metadata": {},
   "outputs": [],
   "source": [
    "process_times = np.array([5, 4, 3, 6])\n",
    "due_dates = np.array([3, 5, 11, 12])"
   ]
  },
  {
   "cell_type": "code",
   "execution_count": 15,
   "id": "57cc99e3",
   "metadata": {},
   "outputs": [
    {
     "name": "stdout",
     "output_type": "stream",
     "text": [
      "Optimal order: [0 1 2 3]\n",
      "Maximum lateness (minimized): 6\n"
     ]
    }
   ],
   "source": [
    "EDD(process_times, due_dates)"
   ]
  }
 ],
 "metadata": {
  "kernelspec": {
   "display_name": "Python 3 (ipykernel)",
   "language": "python",
   "name": "python3"
  },
  "language_info": {
   "codemirror_mode": {
    "name": "ipython",
    "version": 3
   },
   "file_extension": ".py",
   "mimetype": "text/x-python",
   "name": "python",
   "nbconvert_exporter": "python",
   "pygments_lexer": "ipython3",
   "version": "3.13.2"
  }
 },
 "nbformat": 4,
 "nbformat_minor": 5
}
