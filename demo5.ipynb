{
 "cells": [
  {
   "cell_type": "code",
   "execution_count": 1,
   "id": "6b4fbc4c",
   "metadata": {},
   "outputs": [],
   "source": [
    "import pandas as pd\n",
    "import matplotlib.pyplot as plt\n",
    "import seaborn as sns\n",
    "import numpy as np\n",
    "from statsmodels.formula.api import logit"
   ]
  },
  {
   "cell_type": "markdown",
   "id": "d011eaed",
   "metadata": {},
   "source": [
    "**Task 1**"
   ]
  },
  {
   "cell_type": "code",
   "execution_count": 2,
   "id": "d9cf0b0c",
   "metadata": {},
   "outputs": [],
   "source": [
    "aineisto = pd.read_csv(\"C:/Users/testi/Desktop/excel_files/HealthData.csv\", index_col=0)"
   ]
  },
  {
   "cell_type": "code",
   "execution_count": 3,
   "id": "5a7e7e9f",
   "metadata": {},
   "outputs": [],
   "source": [
    "aineisto[\"HBad\"] = np.where(aineisto[\"Hstatus\"] == 3, 1, 0)"
   ]
  },
  {
   "cell_type": "code",
   "execution_count": 4,
   "id": "7eb23165",
   "metadata": {},
   "outputs": [],
   "source": [
    "health = aineisto[[\"HBad\", \"Age\", \"Sex\", \"Mstatus\"]].copy()"
   ]
  },
  {
   "cell_type": "code",
   "execution_count": 5,
   "id": "29f4da14",
   "metadata": {},
   "outputs": [
    {
     "data": {
      "text/plain": [
       "HBad       int32\n",
       "Age        int64\n",
       "Sex        int64\n",
       "Mstatus    int64\n",
       "dtype: object"
      ]
     },
     "execution_count": 5,
     "metadata": {},
     "output_type": "execute_result"
    }
   ],
   "source": [
    "health.dtypes"
   ]
  },
  {
   "cell_type": "code",
   "execution_count": 6,
   "id": "5c73cd1c",
   "metadata": {},
   "outputs": [],
   "source": [
    "l = [\"Sex\", \"Mstatus\"]"
   ]
  },
  {
   "cell_type": "code",
   "execution_count": 7,
   "id": "cb6de0da",
   "metadata": {},
   "outputs": [],
   "source": [
    "for i in l:\n",
    "    health[i] = health[i].astype(\"category\")"
   ]
  },
  {
   "cell_type": "code",
   "execution_count": 8,
   "id": "70a62869",
   "metadata": {},
   "outputs": [
    {
     "data": {
      "text/plain": [
       "HBad          int32\n",
       "Age           int64\n",
       "Sex        category\n",
       "Mstatus    category\n",
       "dtype: object"
      ]
     },
     "execution_count": 8,
     "metadata": {},
     "output_type": "execute_result"
    }
   ],
   "source": [
    "health.dtypes"
   ]
  },
  {
   "cell_type": "code",
   "execution_count": 9,
   "id": "c98cd4fb",
   "metadata": {},
   "outputs": [],
   "source": [
    "d = {1: \"Male\", 2: \"Female\"}"
   ]
  },
  {
   "cell_type": "code",
   "execution_count": 10,
   "id": "e0c22ad2",
   "metadata": {},
   "outputs": [],
   "source": [
    "health[\"Sex\"] = health[\"Sex\"].map(d)"
   ]
  },
  {
   "cell_type": "code",
   "execution_count": 11,
   "id": "c0467138",
   "metadata": {},
   "outputs": [],
   "source": [
    "d2 = {1: \"Relationship\", 2: \"Single\", 3: \"Seperated\", 4: \"Widowed\"}"
   ]
  },
  {
   "cell_type": "code",
   "execution_count": 12,
   "id": "0e6bf715",
   "metadata": {},
   "outputs": [],
   "source": [
    "health[\"Mstatus\"] = health[\"Mstatus\"].map(d2)"
   ]
  },
  {
   "cell_type": "code",
   "execution_count": 13,
   "id": "8812965e",
   "metadata": {},
   "outputs": [
    {
     "data": {
      "text/html": [
       "<div>\n",
       "<style scoped>\n",
       "    .dataframe tbody tr th:only-of-type {\n",
       "        vertical-align: middle;\n",
       "    }\n",
       "\n",
       "    .dataframe tbody tr th {\n",
       "        vertical-align: top;\n",
       "    }\n",
       "\n",
       "    .dataframe thead th {\n",
       "        text-align: right;\n",
       "    }\n",
       "</style>\n",
       "<table border=\"1\" class=\"dataframe\">\n",
       "  <thead>\n",
       "    <tr style=\"text-align: right;\">\n",
       "      <th></th>\n",
       "      <th>HBad</th>\n",
       "      <th>Age</th>\n",
       "      <th>Sex</th>\n",
       "      <th>Mstatus</th>\n",
       "    </tr>\n",
       "  </thead>\n",
       "  <tbody>\n",
       "    <tr>\n",
       "      <th>1</th>\n",
       "      <td>0</td>\n",
       "      <td>60</td>\n",
       "      <td>Male</td>\n",
       "      <td>Relationship</td>\n",
       "    </tr>\n",
       "    <tr>\n",
       "      <th>2</th>\n",
       "      <td>0</td>\n",
       "      <td>36</td>\n",
       "      <td>Female</td>\n",
       "      <td>Relationship</td>\n",
       "    </tr>\n",
       "    <tr>\n",
       "      <th>3</th>\n",
       "      <td>0</td>\n",
       "      <td>37</td>\n",
       "      <td>Female</td>\n",
       "      <td>Relationship</td>\n",
       "    </tr>\n",
       "    <tr>\n",
       "      <th>4</th>\n",
       "      <td>0</td>\n",
       "      <td>41</td>\n",
       "      <td>Female</td>\n",
       "      <td>Relationship</td>\n",
       "    </tr>\n",
       "    <tr>\n",
       "      <th>5</th>\n",
       "      <td>0</td>\n",
       "      <td>42</td>\n",
       "      <td>Male</td>\n",
       "      <td>Single</td>\n",
       "    </tr>\n",
       "  </tbody>\n",
       "</table>\n",
       "</div>"
      ],
      "text/plain": [
       "   HBad  Age     Sex       Mstatus\n",
       "1     0   60    Male  Relationship\n",
       "2     0   36  Female  Relationship\n",
       "3     0   37  Female  Relationship\n",
       "4     0   41  Female  Relationship\n",
       "5     0   42    Male        Single"
      ]
     },
     "execution_count": 13,
     "metadata": {},
     "output_type": "execute_result"
    }
   ],
   "source": [
    "health.head()"
   ]
  },
  {
   "cell_type": "code",
   "execution_count": null,
   "id": "2d156f88",
   "metadata": {},
   "outputs": [],
   "source": []
  },
  {
   "cell_type": "code",
   "execution_count": null,
   "id": "5e4ff75b",
   "metadata": {},
   "outputs": [],
   "source": []
  },
  {
   "cell_type": "code",
   "execution_count": null,
   "id": "a6bb68c6",
   "metadata": {},
   "outputs": [],
   "source": []
  },
  {
   "cell_type": "code",
   "execution_count": null,
   "id": "6d603461",
   "metadata": {},
   "outputs": [],
   "source": []
  },
  {
   "cell_type": "code",
   "execution_count": null,
   "id": "059574aa",
   "metadata": {},
   "outputs": [],
   "source": []
  },
  {
   "cell_type": "markdown",
   "id": "30bf476c",
   "metadata": {},
   "source": [
    "**Task 2**"
   ]
  },
  {
   "cell_type": "code",
   "execution_count": 14,
   "id": "34ec3041",
   "metadata": {},
   "outputs": [
    {
     "name": "stdout",
     "output_type": "stream",
     "text": [
      "Optimization terminated successfully.\n",
      "         Current function value: 0.265326\n",
      "         Iterations 8\n"
     ]
    }
   ],
   "source": [
    "model1 = logit(\"HBad ~ Age + Sex + Mstatus\", data=health).fit()"
   ]
  },
  {
   "cell_type": "markdown",
   "id": "f5938a8e",
   "metadata": {},
   "source": [
    "$ logit(\\pi_{HBad}) = \\beta_0 + \\beta_1 * Sex[Female] + \\beta_2 * Mstatus[Single] + \\beta_3 * Mstatus[Seperated] + \\beta_4 * Mstatus[Widowed] + \\beta_5 * Age $"
   ]
  },
  {
   "cell_type": "code",
   "execution_count": 15,
   "id": "dfd79c1d",
   "metadata": {},
   "outputs": [
    {
     "data": {
      "text/plain": [
       "Intercept              -6.940682\n",
       "Sex[T.Female]          -0.611334\n",
       "Mstatus[T.Single]       0.685021\n",
       "Mstatus[T.Seperated]    0.437117\n",
       "Mstatus[T.Widowed]     -0.488341\n",
       "Age                     0.099724\n",
       "dtype: float64"
      ]
     },
     "execution_count": 15,
     "metadata": {},
     "output_type": "execute_result"
    }
   ],
   "source": [
    "model1.params"
   ]
  },
  {
   "cell_type": "code",
   "execution_count": null,
   "id": "ca90fba2",
   "metadata": {},
   "outputs": [],
   "source": []
  },
  {
   "cell_type": "code",
   "execution_count": null,
   "id": "ab0d2bc3",
   "metadata": {},
   "outputs": [],
   "source": []
  },
  {
   "cell_type": "code",
   "execution_count": null,
   "id": "7ce8a1b6",
   "metadata": {},
   "outputs": [],
   "source": []
  },
  {
   "cell_type": "code",
   "execution_count": null,
   "id": "2c620bbf",
   "metadata": {},
   "outputs": [],
   "source": []
  },
  {
   "cell_type": "code",
   "execution_count": null,
   "id": "81c49c84",
   "metadata": {},
   "outputs": [],
   "source": []
  },
  {
   "cell_type": "markdown",
   "id": "be962981",
   "metadata": {},
   "source": [
    "**Task 3**"
   ]
  },
  {
   "cell_type": "markdown",
   "id": "52442946",
   "metadata": {},
   "source": [
    "The intercept term can be interpreted with odds, and the rest of the coefficients can be interpreted with a ratio of odds."
   ]
  },
  {
   "cell_type": "markdown",
   "id": "302e4644",
   "metadata": {},
   "source": [
    "**Odds** = $\\Large\\frac{\\theta}{1 - \\theta}$"
   ]
  },
  {
   "cell_type": "markdown",
   "id": "379b1d4e",
   "metadata": {},
   "source": [
    "**Ratio of Odds** = $\\Large\\frac{Odds_1}{Odds_2}$"
   ]
  },
  {
   "cell_type": "markdown",
   "id": "6009aaf3",
   "metadata": {},
   "source": [
    "For the intercept term $ \\beta_0 $ we'll get an interpretation by setting the variables Sex, Mstatus, and Age to zero."
   ]
  },
  {
   "cell_type": "code",
   "execution_count": 16,
   "id": "8463d5d8",
   "metadata": {},
   "outputs": [],
   "source": [
    "b = model1.params"
   ]
  },
  {
   "cell_type": "code",
   "execution_count": 29,
   "id": "266a4312",
   "metadata": {},
   "outputs": [
    {
     "data": {
      "text/plain": [
       "0.0009676091714895831"
      ]
     },
     "execution_count": 29,
     "metadata": {},
     "output_type": "execute_result"
    }
   ],
   "source": [
    "np.exp(b[0])"
   ]
  },
  {
   "cell_type": "markdown",
   "id": "24c52e72",
   "metadata": {},
   "source": [
    "- So this tells us that, for a Male, who's marital status is \"Relationship\" and Age is zero, the odds for bad health is 0.00097."
   ]
  },
  {
   "cell_type": "markdown",
   "id": "c6421327",
   "metadata": {},
   "source": [
    "- The explanation for the interpretation of $ \\beta_0 $ comes from the fact that when we want to interpret only a specific $ \\beta $ value, we have to \"fix\" the other variables by setting them to zero. Zero in terms of categorical variables means that we are at the reference category, which is \"Male\" for Sex variable, and \"Relationship\" for Mstatus variable. Age being continuous variable is trivial; when Age is zero, a person is zero years old."
   ]
  },
  {
   "cell_type": "markdown",
   "id": "3be82ba1",
   "metadata": {},
   "source": [
    "- Here of course the intercept value $ \\beta_0 $ does not have a meaningful interpretation. It is not possible to have a person who is zero years old and has a marital status of \"Relationship\".\n",
    "- This problem could be tackled with centering the Age variable, which would then yield a meaningful interpretation for the intercept term."
   ]
  },
  {
   "cell_type": "code",
   "execution_count": 30,
   "id": "466eb9b5",
   "metadata": {},
   "outputs": [
    {
     "data": {
      "text/plain": [
       "0.5426267558228862"
      ]
     },
     "execution_count": 30,
     "metadata": {},
     "output_type": "execute_result"
    }
   ],
   "source": [
    "np.exp(b[1])"
   ]
  },
  {
   "cell_type": "markdown",
   "id": "c4aa8dd2",
   "metadata": {},
   "source": [
    "- The odds of having bad health for women is 0.543-fold compared to men, when marital status and age are adjusted.\n",
    "- By adjusting the variables we are essentially just controlling them. So here the adjusting of the predictor variables Mstatus and Age means that the comparison above is eligible for women and men with the same marital status and age."
   ]
  },
  {
   "cell_type": "code",
   "execution_count": 35,
   "id": "768e581b",
   "metadata": {},
   "outputs": [
    {
     "name": "stdout",
     "output_type": "stream",
     "text": [
      "1.9838136247234983\n",
      "1.5482373740769326\n",
      "0.6136434042568708\n"
     ]
    }
   ],
   "source": [
    "print(np.exp(b[2]))\n",
    "print(np.exp(b[3]))\n",
    "print(np.exp(b[4]))"
   ]
  },
  {
   "cell_type": "markdown",
   "id": "076f0514",
   "metadata": {},
   "source": [
    "- All of the coefficients related to marital status ($\\beta_2, \\beta_3, \\beta_4$) are presented above."
   ]
  },
  {
   "cell_type": "markdown",
   "id": "537a70e9",
   "metadata": {},
   "source": [
    "The interpretation for all of them is the same:\n",
    "- When comparing to the reference category (Mstatus[Relationship]), and the predictors Sex and Age are adjusted, then the odds for bad health is the corresponding ratio in favor of the reference group."
   ]
  },
  {
   "cell_type": "code",
   "execution_count": 55,
   "id": "ba5ea506",
   "metadata": {},
   "outputs": [
    {
     "data": {
      "text/plain": [
       "1.1048662750024658"
      ]
     },
     "execution_count": 55,
     "metadata": {},
     "output_type": "execute_result"
    }
   ],
   "source": [
    "np.exp(b[5])"
   ]
  },
  {
   "cell_type": "markdown",
   "id": "a834bc97",
   "metadata": {},
   "source": [
    "- When comparing people of the same sex and marital status, who's age differ by one year, then the person who's one year older has a 1.105-fold odds of having bad health status compared to the younger person."
   ]
  },
  {
   "cell_type": "code",
   "execution_count": null,
   "id": "0ec25b91",
   "metadata": {},
   "outputs": [],
   "source": []
  },
  {
   "cell_type": "code",
   "execution_count": null,
   "id": "e2514eba",
   "metadata": {},
   "outputs": [],
   "source": []
  },
  {
   "cell_type": "code",
   "execution_count": null,
   "id": "bd1be741",
   "metadata": {},
   "outputs": [],
   "source": []
  },
  {
   "cell_type": "code",
   "execution_count": null,
   "id": "93ad0b2f",
   "metadata": {},
   "outputs": [],
   "source": []
  },
  {
   "cell_type": "code",
   "execution_count": null,
   "id": "f7d23198",
   "metadata": {},
   "outputs": [],
   "source": []
  },
  {
   "cell_type": "markdown",
   "id": "2e592c28",
   "metadata": {},
   "source": [
    "**Task 4**"
   ]
  },
  {
   "cell_type": "markdown",
   "id": "d3aeb61d",
   "metadata": {},
   "source": [
    "Let's present all of the ratios of odds and the corresponding confidence intervals in a Pandas DataFrame."
   ]
  },
  {
   "cell_type": "code",
   "execution_count": 59,
   "id": "5a520601",
   "metadata": {},
   "outputs": [],
   "source": [
    "e_ci = np.exp(pd.DataFrame({\"OR\": model1.params,\n",
    "                            \"Lower CI\": model1.conf_int(alpha=0.05)[0],\n",
    "                            \"Upper CI\": model1.conf_int(alpha=0.05)[1]}))"
   ]
  },
  {
   "cell_type": "code",
   "execution_count": 60,
   "id": "3e59f73d",
   "metadata": {},
   "outputs": [
    {
     "data": {
      "text/html": [
       "<div>\n",
       "<style scoped>\n",
       "    .dataframe tbody tr th:only-of-type {\n",
       "        vertical-align: middle;\n",
       "    }\n",
       "\n",
       "    .dataframe tbody tr th {\n",
       "        vertical-align: top;\n",
       "    }\n",
       "\n",
       "    .dataframe thead th {\n",
       "        text-align: right;\n",
       "    }\n",
       "</style>\n",
       "<table border=\"1\" class=\"dataframe\">\n",
       "  <thead>\n",
       "    <tr style=\"text-align: right;\">\n",
       "      <th></th>\n",
       "      <th>OR</th>\n",
       "      <th>Lower CI</th>\n",
       "      <th>Upper CI</th>\n",
       "    </tr>\n",
       "  </thead>\n",
       "  <tbody>\n",
       "    <tr>\n",
       "      <th>Intercept</th>\n",
       "      <td>0.000968</td>\n",
       "      <td>0.000130</td>\n",
       "      <td>0.007208</td>\n",
       "    </tr>\n",
       "    <tr>\n",
       "      <th>Sex[T.Female]</th>\n",
       "      <td>0.542627</td>\n",
       "      <td>0.271717</td>\n",
       "      <td>1.083641</td>\n",
       "    </tr>\n",
       "    <tr>\n",
       "      <th>Mstatus[T.Single]</th>\n",
       "      <td>1.983814</td>\n",
       "      <td>0.724103</td>\n",
       "      <td>5.435020</td>\n",
       "    </tr>\n",
       "    <tr>\n",
       "      <th>Mstatus[T.Seperated]</th>\n",
       "      <td>1.548237</td>\n",
       "      <td>0.410293</td>\n",
       "      <td>5.842257</td>\n",
       "    </tr>\n",
       "    <tr>\n",
       "      <th>Mstatus[T.Widowed]</th>\n",
       "      <td>0.613643</td>\n",
       "      <td>0.165042</td>\n",
       "      <td>2.281586</td>\n",
       "    </tr>\n",
       "    <tr>\n",
       "      <th>Age</th>\n",
       "      <td>1.104866</td>\n",
       "      <td>1.063989</td>\n",
       "      <td>1.147314</td>\n",
       "    </tr>\n",
       "  </tbody>\n",
       "</table>\n",
       "</div>"
      ],
      "text/plain": [
       "                            OR  Lower CI  Upper CI\n",
       "Intercept             0.000968  0.000130  0.007208\n",
       "Sex[T.Female]         0.542627  0.271717  1.083641\n",
       "Mstatus[T.Single]     1.983814  0.724103  5.435020\n",
       "Mstatus[T.Seperated]  1.548237  0.410293  5.842257\n",
       "Mstatus[T.Widowed]    0.613643  0.165042  2.281586\n",
       "Age                   1.104866  1.063989  1.147314"
      ]
     },
     "execution_count": 60,
     "metadata": {},
     "output_type": "execute_result"
    }
   ],
   "source": [
    "e_ci"
   ]
  },
  {
   "cell_type": "code",
   "execution_count": null,
   "id": "d1f83d2a",
   "metadata": {},
   "outputs": [],
   "source": []
  },
  {
   "cell_type": "code",
   "execution_count": null,
   "id": "4f605b16",
   "metadata": {},
   "outputs": [],
   "source": []
  },
  {
   "cell_type": "code",
   "execution_count": null,
   "id": "a47d99e7",
   "metadata": {},
   "outputs": [],
   "source": []
  },
  {
   "cell_type": "code",
   "execution_count": null,
   "id": "564cc6bd",
   "metadata": {},
   "outputs": [],
   "source": []
  },
  {
   "cell_type": "code",
   "execution_count": null,
   "id": "92f41c59",
   "metadata": {},
   "outputs": [],
   "source": []
  },
  {
   "cell_type": "markdown",
   "id": "8ee9a2de",
   "metadata": {},
   "source": [
    "**Task 5**"
   ]
  },
  {
   "cell_type": "markdown",
   "id": "19989584",
   "metadata": {},
   "source": [
    "Lets add an interaction for Sex and Mstatus to the model."
   ]
  },
  {
   "cell_type": "code",
   "execution_count": 66,
   "id": "d23fccf7",
   "metadata": {},
   "outputs": [
    {
     "name": "stdout",
     "output_type": "stream",
     "text": [
      "Optimization terminated successfully.\n",
      "         Current function value: 0.264750\n",
      "         Iterations 8\n"
     ]
    }
   ],
   "source": [
    "model2 = logit(\"HBad ~ Age + Sex + Mstatus + Sex:Mstatus\", data=health).fit()"
   ]
  },
  {
   "cell_type": "code",
   "execution_count": 63,
   "id": "c2597b20",
   "metadata": {},
   "outputs": [
    {
     "data": {
      "text/plain": [
       "Intercept                            -7.025919\n",
       "Sex[T.Female]                        -0.480747\n",
       "Mstatus[T.Single]                     0.989813\n",
       "Mstatus[T.Seperated]                  0.506012\n",
       "Mstatus[T.Widowed]                   -0.436354\n",
       "Sex[T.Female]:Mstatus[T.Single]      -0.738791\n",
       "Sex[T.Female]:Mstatus[T.Seperated]   -0.190660\n",
       "Sex[T.Female]:Mstatus[T.Widowed]     -0.145242\n",
       "Age                                   0.100464\n",
       "dtype: float64"
      ]
     },
     "execution_count": 63,
     "metadata": {},
     "output_type": "execute_result"
    }
   ],
   "source": [
    "model2.params"
   ]
  },
  {
   "cell_type": "code",
   "execution_count": null,
   "id": "c9d47b6b",
   "metadata": {},
   "outputs": [],
   "source": []
  },
  {
   "cell_type": "code",
   "execution_count": null,
   "id": "ed045a4f",
   "metadata": {},
   "outputs": [],
   "source": []
  },
  {
   "cell_type": "code",
   "execution_count": null,
   "id": "a2a73941",
   "metadata": {},
   "outputs": [],
   "source": []
  },
  {
   "cell_type": "code",
   "execution_count": null,
   "id": "f1f37b18",
   "metadata": {},
   "outputs": [],
   "source": []
  },
  {
   "cell_type": "markdown",
   "id": "d6d68074",
   "metadata": {},
   "source": [
    "**Task 6**"
   ]
  },
  {
   "cell_type": "code",
   "execution_count": 71,
   "id": "daa9db4b",
   "metadata": {},
   "outputs": [],
   "source": [
    "beta = model2.params"
   ]
  },
  {
   "cell_type": "markdown",
   "id": "cd4aa593",
   "metadata": {},
   "source": [
    "Odds ratios (OR) related to covariate Mstatus for a male can be achieved by setting Sex[Female] to zero, and adjusting for the Age variable."
   ]
  },
  {
   "cell_type": "code",
   "execution_count": 75,
   "id": "62ddf264",
   "metadata": {},
   "outputs": [
    {
     "data": {
      "text/plain": [
       "2.690731745663582"
      ]
     },
     "execution_count": 75,
     "metadata": {},
     "output_type": "execute_result"
    }
   ],
   "source": [
    "np.exp(beta[2])"
   ]
  },
  {
   "cell_type": "markdown",
   "id": "b43a2a65",
   "metadata": {},
   "source": [
    "- When comparing men in relationship and single, the odds for bad health are 2.69-fold for men in relationship."
   ]
  },
  {
   "cell_type": "code",
   "execution_count": 76,
   "id": "40ee918d",
   "metadata": {},
   "outputs": [
    {
     "data": {
      "text/plain": [
       "1.6586639193585422"
      ]
     },
     "execution_count": 76,
     "metadata": {},
     "output_type": "execute_result"
    }
   ],
   "source": [
    "np.exp(beta[3])"
   ]
  },
  {
   "cell_type": "markdown",
   "id": "5b1b17f8",
   "metadata": {},
   "source": [
    "- When comparing men in relationship and seperated, the odds for bad health is 1.66-fold for men in relationship"
   ]
  },
  {
   "cell_type": "code",
   "execution_count": 77,
   "id": "3d5f7b55",
   "metadata": {},
   "outputs": [
    {
     "data": {
      "text/plain": [
       "0.6463890371048546"
      ]
     },
     "execution_count": 77,
     "metadata": {},
     "output_type": "execute_result"
    }
   ],
   "source": [
    "np.exp(beta[4])"
   ]
  },
  {
   "cell_type": "markdown",
   "id": "b4e84597",
   "metadata": {},
   "source": [
    "- When comparing men in relationship and widowed, the odds for bad health is 0.65-fold for men in relationship."
   ]
  },
  {
   "cell_type": "code",
   "execution_count": null,
   "id": "b6ad3f9c",
   "metadata": {},
   "outputs": [],
   "source": []
  },
  {
   "cell_type": "code",
   "execution_count": null,
   "id": "4df0db73",
   "metadata": {},
   "outputs": [],
   "source": []
  },
  {
   "cell_type": "code",
   "execution_count": null,
   "id": "0a838f0e",
   "metadata": {},
   "outputs": [],
   "source": []
  },
  {
   "cell_type": "code",
   "execution_count": null,
   "id": "f70e2e0e",
   "metadata": {},
   "outputs": [],
   "source": []
  },
  {
   "cell_type": "code",
   "execution_count": null,
   "id": "654fb24a",
   "metadata": {},
   "outputs": [],
   "source": []
  },
  {
   "cell_type": "markdown",
   "id": "b1667ac6",
   "metadata": {},
   "source": [
    "**Task 7**"
   ]
  },
  {
   "cell_type": "markdown",
   "id": "bc06a79a",
   "metadata": {},
   "source": [
    "- Now, when interpreting the odds ratios (OR) related to covariate Mstatus for a female, we'll have to take the interaction term into account."
   ]
  },
  {
   "cell_type": "code",
   "execution_count": 78,
   "id": "cc9a91cc",
   "metadata": {},
   "outputs": [
    {
     "data": {
      "text/plain": [
       "Intercept                            -7.025919\n",
       "Sex[T.Female]                        -0.480747\n",
       "Mstatus[T.Single]                     0.989813\n",
       "Mstatus[T.Seperated]                  0.506012\n",
       "Mstatus[T.Widowed]                   -0.436354\n",
       "Sex[T.Female]:Mstatus[T.Single]      -0.738791\n",
       "Sex[T.Female]:Mstatus[T.Seperated]   -0.190660\n",
       "Sex[T.Female]:Mstatus[T.Widowed]     -0.145242\n",
       "Age                                   0.100464\n",
       "dtype: float64"
      ]
     },
     "execution_count": 78,
     "metadata": {},
     "output_type": "execute_result"
    }
   ],
   "source": [
    "model2.params"
   ]
  },
  {
   "cell_type": "code",
   "execution_count": 80,
   "id": "92e1e192",
   "metadata": {},
   "outputs": [
    {
     "data": {
      "text/plain": [
       "1.2853380250316329"
      ]
     },
     "execution_count": 80,
     "metadata": {},
     "output_type": "execute_result"
    }
   ],
   "source": [
    "np.exp(beta[2] + beta[5])"
   ]
  },
  {
   "cell_type": "markdown",
   "id": "6e055598",
   "metadata": {},
   "source": [
    "- When comparing women in relationship and single, the odds for bad health is 1.29-fold for women in relationship."
   ]
  },
  {
   "cell_type": "code",
   "execution_count": 81,
   "id": "f6a6cb26",
   "metadata": {},
   "outputs": [
    {
     "data": {
      "text/plain": [
       "1.3707416111231967"
      ]
     },
     "execution_count": 81,
     "metadata": {},
     "output_type": "execute_result"
    }
   ],
   "source": [
    "np.exp(beta[3] + beta[6])"
   ]
  },
  {
   "cell_type": "markdown",
   "id": "4bd41c1d",
   "metadata": {},
   "source": [
    "- When comparing women in relationship and seperated, the odds for bad health is 1.371-fold for women in relationship."
   ]
  },
  {
   "cell_type": "code",
   "execution_count": 82,
   "id": "a3759e7a",
   "metadata": {},
   "outputs": [
    {
     "data": {
      "text/plain": [
       "0.559005547417022"
      ]
     },
     "execution_count": 82,
     "metadata": {},
     "output_type": "execute_result"
    }
   ],
   "source": [
    "np.exp(beta[4] + beta[7])"
   ]
  },
  {
   "cell_type": "markdown",
   "id": "448ff2dc",
   "metadata": {},
   "source": [
    "- When comparing women in relationship and widowed, the odds for bad health is 0.56-fold for women in relationship."
   ]
  },
  {
   "cell_type": "markdown",
   "id": "aae11c62",
   "metadata": {},
   "source": [
    "Note that all of the results above (in task 7) assumes that the variable Age is held constant, meaning that we are comparing people with the same age."
   ]
  },
  {
   "cell_type": "code",
   "execution_count": null,
   "id": "7c54de6e",
   "metadata": {},
   "outputs": [],
   "source": []
  },
  {
   "cell_type": "code",
   "execution_count": null,
   "id": "a67a007c",
   "metadata": {},
   "outputs": [],
   "source": []
  },
  {
   "cell_type": "code",
   "execution_count": null,
   "id": "08729778",
   "metadata": {},
   "outputs": [],
   "source": []
  },
  {
   "cell_type": "code",
   "execution_count": null,
   "id": "096f042a",
   "metadata": {},
   "outputs": [],
   "source": []
  },
  {
   "cell_type": "code",
   "execution_count": null,
   "id": "8ec7e4b5",
   "metadata": {},
   "outputs": [],
   "source": []
  },
  {
   "cell_type": "markdown",
   "id": "dd787afa",
   "metadata": {},
   "source": [
    "**Task 8**"
   ]
  },
  {
   "cell_type": "markdown",
   "id": "096977f5",
   "metadata": {},
   "source": [
    "Next we'll calculate the 95 % confidence intervals for the ratios of odds calculated in task 6."
   ]
  },
  {
   "cell_type": "code",
   "execution_count": 91,
   "id": "d40fc502",
   "metadata": {},
   "outputs": [],
   "source": [
    "e_ci2 = np.exp(pd.DataFrame({\"OR\": model2.params[2:5],\n",
    "                             \"Lower CI\": model2.conf_int(alpha=0.05)[0][2:5],\n",
    "                             \"Upper CI\": model2.conf_int(alpha=0.05)[1][2:5]}))"
   ]
  },
  {
   "cell_type": "code",
   "execution_count": 92,
   "id": "e45ba142",
   "metadata": {},
   "outputs": [
    {
     "data": {
      "text/html": [
       "<div>\n",
       "<style scoped>\n",
       "    .dataframe tbody tr th:only-of-type {\n",
       "        vertical-align: middle;\n",
       "    }\n",
       "\n",
       "    .dataframe tbody tr th {\n",
       "        vertical-align: top;\n",
       "    }\n",
       "\n",
       "    .dataframe thead th {\n",
       "        text-align: right;\n",
       "    }\n",
       "</style>\n",
       "<table border=\"1\" class=\"dataframe\">\n",
       "  <thead>\n",
       "    <tr style=\"text-align: right;\">\n",
       "      <th></th>\n",
       "      <th>OR</th>\n",
       "      <th>Lower CI</th>\n",
       "      <th>Upper CI</th>\n",
       "    </tr>\n",
       "  </thead>\n",
       "  <tbody>\n",
       "    <tr>\n",
       "      <th>Mstatus[T.Single]</th>\n",
       "      <td>2.690732</td>\n",
       "      <td>0.762216</td>\n",
       "      <td>9.498673</td>\n",
       "    </tr>\n",
       "    <tr>\n",
       "      <th>Mstatus[T.Seperated]</th>\n",
       "      <td>1.658664</td>\n",
       "      <td>0.317041</td>\n",
       "      <td>8.677622</td>\n",
       "    </tr>\n",
       "    <tr>\n",
       "      <th>Mstatus[T.Widowed]</th>\n",
       "      <td>0.646389</td>\n",
       "      <td>0.066635</td>\n",
       "      <td>6.270278</td>\n",
       "    </tr>\n",
       "  </tbody>\n",
       "</table>\n",
       "</div>"
      ],
      "text/plain": [
       "                            OR  Lower CI  Upper CI\n",
       "Mstatus[T.Single]     2.690732  0.762216  9.498673\n",
       "Mstatus[T.Seperated]  1.658664  0.317041  8.677622\n",
       "Mstatus[T.Widowed]    0.646389  0.066635  6.270278"
      ]
     },
     "execution_count": 92,
     "metadata": {},
     "output_type": "execute_result"
    }
   ],
   "source": [
    "e_ci2"
   ]
  },
  {
   "cell_type": "markdown",
   "id": "3c754aa0",
   "metadata": {},
   "source": [
    "- Since all of the confidence intervals include 1, we can conclude that none of the results are statistically significant"
   ]
  },
  {
   "cell_type": "code",
   "execution_count": null,
   "id": "f6457af1",
   "metadata": {},
   "outputs": [],
   "source": []
  },
  {
   "cell_type": "code",
   "execution_count": null,
   "id": "23b9d954",
   "metadata": {},
   "outputs": [],
   "source": []
  },
  {
   "cell_type": "code",
   "execution_count": null,
   "id": "bb418507",
   "metadata": {},
   "outputs": [],
   "source": []
  },
  {
   "cell_type": "code",
   "execution_count": null,
   "id": "a70b8813",
   "metadata": {},
   "outputs": [],
   "source": []
  },
  {
   "cell_type": "code",
   "execution_count": null,
   "id": "224ecbd2",
   "metadata": {},
   "outputs": [],
   "source": []
  },
  {
   "cell_type": "markdown",
   "id": "e439052c",
   "metadata": {},
   "source": [
    "**Task 10**"
   ]
  },
  {
   "cell_type": "code",
   "execution_count": 2,
   "id": "c82fd681",
   "metadata": {},
   "outputs": [
    {
     "data": {
      "image/png": "[encoded data removed]",
      "text/plain": [
       "<PIL.PngImagePlugin.PngImageFile image mode=P size=332x398 at 0x227877B1BB0>"
      ]
     },
     "execution_count": 2,
     "metadata": {},
     "output_type": "execute_result"
    }
   ],
   "source": [
    "from PIL import Image\n",
    "img = Image.open(\"qresiduals.png\")\n",
    "img"
   ]
  },
  {
   "cell_type": "markdown",
   "id": "ddef1064",
   "metadata": {},
   "source": [
    "The randomized quantile residuals for the interaction model does look normally distributed."
   ]
  },
  {
   "cell_type": "code",
   "execution_count": null,
   "id": "38bdf793",
   "metadata": {},
   "outputs": [],
   "source": []
  },
  {
   "cell_type": "code",
   "execution_count": null,
   "id": "a273363a",
   "metadata": {},
   "outputs": [],
   "source": []
  },
  {
   "cell_type": "code",
   "execution_count": null,
   "id": "388ad0e9",
   "metadata": {},
   "outputs": [],
   "source": []
  },
  {
   "cell_type": "code",
   "execution_count": null,
   "id": "6df54b25",
   "metadata": {},
   "outputs": [],
   "source": []
  },
  {
   "cell_type": "code",
   "execution_count": null,
   "id": "84cdec50",
   "metadata": {},
   "outputs": [],
   "source": []
  },
  {
   "cell_type": "markdown",
   "id": "c9bfef2c",
   "metadata": {},
   "source": [
    "**Task 11**"
   ]
  },
  {
   "cell_type": "markdown",
   "id": "d4270b6c",
   "metadata": {},
   "source": [
    "Well probably the easiest way to choose if a covariate should be taken into the model as a predictor is to simply seperate the data available into training and test set. Then we train the model with and without the covariate. Whichever model does a better job predicting the test data should be used. This can then be repeated for n covariates. Over-fitting should be taken into account here."
   ]
  }
 ],
 "metadata": {
  "kernelspec": {
   "display_name": "Python 3 (ipykernel)",
   "language": "python",
   "name": "python3"
  },
  "language_info": {
   "codemirror_mode": {
    "name": "ipython",
    "version": 3
   },
   "file_extension": ".py",
   "mimetype": "text/x-python",
   "name": "python",
   "nbconvert_exporter": "python",
   "pygments_lexer": "ipython3",
   "version": "3.9.12"
  }
 },
 "nbformat": 4,
 "nbformat_minor": 5
}
