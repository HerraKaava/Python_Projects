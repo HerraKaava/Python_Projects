{
 "cells": [
  {
   "cell_type": "markdown",
   "id": "c55f7a18",
   "metadata": {},
   "source": [
    "# <center>Predicting Wine Quality<center>"
   ]
  },
  {
   "cell_type": "markdown",
   "id": "435f9b62",
   "metadata": {},
   "source": [
    "This project was done as part of a course called Introduction to Machine Learning, organized by the university of Jyväskylä."
   ]
  },
  {
   "cell_type": "markdown",
   "id": "3e432ff2",
   "metadata": {},
   "source": [
    "In this project my goal is to develop a machine learning model that predicts the quality of wine. The data set consists of 30 000 different wine samples described by 11 objectively measured physiochemical input variables. The response variable represents the quality of the wine and is assessed through a scoring system provided by experts."
   ]
  },
  {
   "cell_type": "markdown",
   "id": "0d73acd0",
   "metadata": {},
   "source": [
    "<br>"
   ]
  },
  {
   "cell_type": "markdown",
   "id": "2360d9d6",
   "metadata": {},
   "source": [
    "# <center>Exploratory Data Analysis<center>"
   ]
  },
  {
   "cell_type": "code",
   "execution_count": 1,
   "id": "4330f219",
   "metadata": {},
   "outputs": [],
   "source": [
    "import pandas as pd\n",
    "import numpy as np\n",
    "import matplotlib.pyplot as plt\n",
    "import seaborn as sns"
   ]
  },
  {
   "cell_type": "code",
   "execution_count": 2,
   "id": "c0ddd040",
   "metadata": {},
   "outputs": [],
   "source": [
    "df = pd.read_csv(\"C:/Users/testi/Desktop/ML perusteet/train_set_ht.csv\", index_col=0)"
   ]
  },
  {
   "cell_type": "code",
   "execution_count": 3,
   "id": "2e6167fe",
   "metadata": {},
   "outputs": [
    {
     "data": {
      "text/html": [
       "<div>\n",
       "<style scoped>\n",
       "    .dataframe tbody tr th:only-of-type {\n",
       "        vertical-align: middle;\n",
       "    }\n",
       "\n",
       "    .dataframe tbody tr th {\n",
       "        vertical-align: top;\n",
       "    }\n",
       "\n",
       "    .dataframe thead th {\n",
       "        text-align: right;\n",
       "    }\n",
       "</style>\n",
       "<table border=\"1\" class=\"dataframe\">\n",
       "  <thead>\n",
       "    <tr style=\"text-align: right;\">\n",
       "      <th></th>\n",
       "      <th>x1</th>\n",
       "      <th>x2</th>\n",
       "      <th>x3</th>\n",
       "      <th>x4</th>\n",
       "      <th>x5</th>\n",
       "      <th>x6</th>\n",
       "      <th>x7</th>\n",
       "      <th>x8</th>\n",
       "      <th>x9</th>\n",
       "      <th>x10</th>\n",
       "      <th>x11</th>\n",
       "      <th>y</th>\n",
       "    </tr>\n",
       "  </thead>\n",
       "  <tbody>\n",
       "    <tr>\n",
       "      <th>0</th>\n",
       "      <td>62.80</td>\n",
       "      <td>6.15</td>\n",
       "      <td>10.96</td>\n",
       "      <td>22.4</td>\n",
       "      <td>5.155</td>\n",
       "      <td>68.5</td>\n",
       "      <td>730.8</td>\n",
       "      <td>17.930763</td>\n",
       "      <td>24.48</td>\n",
       "      <td>7.50</td>\n",
       "      <td>36.6</td>\n",
       "      <td>5.0</td>\n",
       "    </tr>\n",
       "    <tr>\n",
       "      <th>1</th>\n",
       "      <td>59.76</td>\n",
       "      <td>6.20</td>\n",
       "      <td>10.16</td>\n",
       "      <td>76.8</td>\n",
       "      <td>5.235</td>\n",
       "      <td>792.5</td>\n",
       "      <td>1455.3</td>\n",
       "      <td>17.936658</td>\n",
       "      <td>25.74</td>\n",
       "      <td>7.35</td>\n",
       "      <td>34.8</td>\n",
       "      <td>7.0</td>\n",
       "    </tr>\n",
       "    <tr>\n",
       "      <th>2</th>\n",
       "      <td>61.84</td>\n",
       "      <td>5.80</td>\n",
       "      <td>10.00</td>\n",
       "      <td>90.4</td>\n",
       "      <td>5.235</td>\n",
       "      <td>209.0</td>\n",
       "      <td>1292.4</td>\n",
       "      <td>17.967024</td>\n",
       "      <td>25.20</td>\n",
       "      <td>7.00</td>\n",
       "      <td>31.8</td>\n",
       "      <td>6.0</td>\n",
       "    </tr>\n",
       "    <tr>\n",
       "      <th>3</th>\n",
       "      <td>60.64</td>\n",
       "      <td>6.40</td>\n",
       "      <td>10.32</td>\n",
       "      <td>91.2</td>\n",
       "      <td>5.275</td>\n",
       "      <td>263.5</td>\n",
       "      <td>1818.0</td>\n",
       "      <td>17.953479</td>\n",
       "      <td>25.86</td>\n",
       "      <td>7.35</td>\n",
       "      <td>34.5</td>\n",
       "      <td>6.0</td>\n",
       "    </tr>\n",
       "    <tr>\n",
       "      <th>4</th>\n",
       "      <td>70.72</td>\n",
       "      <td>8.35</td>\n",
       "      <td>10.32</td>\n",
       "      <td>28.8</td>\n",
       "      <td>5.160</td>\n",
       "      <td>15.0</td>\n",
       "      <td>664.2</td>\n",
       "      <td>17.916048</td>\n",
       "      <td>24.30</td>\n",
       "      <td>6.45</td>\n",
       "      <td>39.6</td>\n",
       "      <td>5.0</td>\n",
       "    </tr>\n",
       "  </tbody>\n",
       "</table>\n",
       "</div>"
      ],
      "text/plain": [
       "      x1    x2     x3    x4     x5     x6      x7         x8     x9   x10  \\\n",
       "0  62.80  6.15  10.96  22.4  5.155   68.5   730.8  17.930763  24.48  7.50   \n",
       "1  59.76  6.20  10.16  76.8  5.235  792.5  1455.3  17.936658  25.74  7.35   \n",
       "2  61.84  5.80  10.00  90.4  5.235  209.0  1292.4  17.967024  25.20  7.00   \n",
       "3  60.64  6.40  10.32  91.2  5.275  263.5  1818.0  17.953479  25.86  7.35   \n",
       "4  70.72  8.35  10.32  28.8  5.160   15.0   664.2  17.916048  24.30  6.45   \n",
       "\n",
       "    x11    y  \n",
       "0  36.6  5.0  \n",
       "1  34.8  7.0  \n",
       "2  31.8  6.0  \n",
       "3  34.5  6.0  \n",
       "4  39.6  5.0  "
      ]
     },
     "execution_count": 3,
     "metadata": {},
     "output_type": "execute_result"
    }
   ],
   "source": [
    "df.head()"
   ]
  },
  {
   "cell_type": "code",
   "execution_count": 4,
   "id": "243f5941",
   "metadata": {},
   "outputs": [
    {
     "data": {
      "text/plain": [
       "(30000, 12)"
      ]
     },
     "execution_count": 4,
     "metadata": {},
     "output_type": "execute_result"
    }
   ],
   "source": [
    "df.shape"
   ]
  },
  {
   "cell_type": "code",
   "execution_count": 5,
   "id": "073d315f",
   "metadata": {},
   "outputs": [
    {
     "name": "stdout",
     "output_type": "stream",
     "text": [
      "3.0\n",
      "8.0\n"
     ]
    }
   ],
   "source": [
    "# Range of the response variable\n",
    "print(df[\"y\"].min())\n",
    "print(df[\"y\"].max())"
   ]
  },
  {
   "cell_type": "code",
   "execution_count": 6,
   "id": "4556313e",
   "metadata": {},
   "outputs": [
    {
     "name": "stdout",
     "output_type": "stream",
     "text": [
      "<class 'pandas.core.frame.DataFrame'>\n",
      "Int64Index: 30000 entries, 0 to 29999\n",
      "Data columns (total 12 columns):\n",
      " #   Column  Non-Null Count  Dtype  \n",
      "---  ------  --------------  -----  \n",
      " 0   x1      29695 non-null  float64\n",
      " 1   x2      29699 non-null  float64\n",
      " 2   x3      29679 non-null  float64\n",
      " 3   x4      29698 non-null  float64\n",
      " 4   x5      29681 non-null  float64\n",
      " 5   x6      29725 non-null  float64\n",
      " 6   x7      29694 non-null  float64\n",
      " 7   x8      29691 non-null  float64\n",
      " 8   x9      29684 non-null  float64\n",
      " 9   x10     29712 non-null  float64\n",
      " 10  x11     29703 non-null  float64\n",
      " 11  y       29685 non-null  float64\n",
      "dtypes: float64(12)\n",
      "memory usage: 3.0 MB\n"
     ]
    }
   ],
   "source": [
    "df.info()"
   ]
  },
  {
   "cell_type": "code",
   "execution_count": 7,
   "id": "0c9abe5e",
   "metadata": {},
   "outputs": [
    {
     "data": {
      "image/png": "[encoded data removed]",
      "text/plain": [
       "<Figure size 2400x1600 with 11 Axes>"
      ]
     },
     "metadata": {
      "needs_background": "light"
     },
     "output_type": "display_data"
    }
   ],
   "source": [
    "# Check the shapes of the distributions of each column\n",
    "\n",
    "cols = [\"x1\", \"x2\", \"x3\", \"x4\", \"x5\", \"x6\", \"x7\", \"x8\", \"x9\", \"x10\", \"x11\"]\n",
    "fig, ax = plt.subplots(nrows=3, ncols=4, figsize=(12, 8), dpi=200)\n",
    "ax = ax.flatten()\n",
    "i = 0\n",
    "\n",
    "for j in cols:\n",
    "    sns.histplot(df[j], ax=ax[i])\n",
    "    i += 1\n",
    "    \n",
    "fig.delaxes(ax[11])\n",
    "plt.tight_layout()"
   ]
  },
  {
   "cell_type": "code",
   "execution_count": 8,
   "id": "bcba7891",
   "metadata": {},
   "outputs": [
    {
     "data": {
      "image/png": "[encoded data removed]",
      "text/plain": [
       "<Figure size 600x400 with 1 Axes>"
      ]
     },
     "metadata": {
      "needs_background": "light"
     },
     "output_type": "display_data"
    }
   ],
   "source": [
    "plt.figure(figsize=(6, 4), dpi=100)\n",
    "sns.countplot(x=\"y\", data=df)\n",
    "plt.xlabel(\"Quality of wine (score)\", size=12);"
   ]
  },
  {
   "cell_type": "code",
   "execution_count": 9,
   "id": "4225d3ae",
   "metadata": {},
   "outputs": [
    {
     "data": {
      "image/png": "[encoded data removed]",
      "text/plain": [
       "<Figure size 1400x800 with 2 Axes>"
      ]
     },
     "metadata": {
      "needs_background": "light"
     },
     "output_type": "display_data"
    }
   ],
   "source": [
    "# A heatmap of the correlations between the variables\n",
    "plt.figure(figsize=(14, 8), dpi=100)\n",
    "corr_arr = df.corr()\n",
    "mask = np.triu(np.ones_like(corr_arr, dtype=bool))\n",
    "sns.heatmap(corr_arr, annot=True, cmap=\"coolwarm\", mask=mask)\n",
    "plt.yticks(rotation=45);"
   ]
  },
  {
   "cell_type": "code",
   "execution_count": 10,
   "id": "d9bbbe73",
   "metadata": {},
   "outputs": [
    {
     "data": {
      "text/plain": [
       "x1     305\n",
       "x2     301\n",
       "x3     321\n",
       "x4     302\n",
       "x5     319\n",
       "x6     275\n",
       "x7     306\n",
       "x8     309\n",
       "x9     316\n",
       "x10    288\n",
       "x11    297\n",
       "y      315\n",
       "dtype: int64"
      ]
     },
     "execution_count": 10,
     "metadata": {},
     "output_type": "execute_result"
    }
   ],
   "source": [
    "# Check how many missing values each column of the dataframe has\n",
    "df.isnull().sum()"
   ]
  },
  {
   "cell_type": "code",
   "execution_count": 11,
   "id": "8bb1fe1c",
   "metadata": {},
   "outputs": [],
   "source": [
    "def percent_missing(df):\n",
    "    \"\"\"\n",
    "    Calculate the percentage of missing values for each column in the DataFrame.\n",
    "    \n",
    "    Parameters:\n",
    "        df (pandas.DataFrame): The input DataFrame.\n",
    "        \n",
    "    Returns:\n",
    "        pandas.Series: A Series containing the percentage of missing values for each column.\n",
    "        \n",
    "    \"\"\"\n",
    "    percent_nan = (df.isnull().sum() / len(df)) * 100\n",
    "    return percent_nan"
   ]
  },
  {
   "cell_type": "code",
   "execution_count": 12,
   "id": "a1425b9a",
   "metadata": {},
   "outputs": [
    {
     "data": {
      "text/plain": [
       "x1     1.016667\n",
       "x2     1.003333\n",
       "x3     1.070000\n",
       "x4     1.006667\n",
       "x5     1.063333\n",
       "x6     0.916667\n",
       "x7     1.020000\n",
       "x8     1.030000\n",
       "x9     1.053333\n",
       "x10    0.960000\n",
       "x11    0.990000\n",
       "y      1.050000\n",
       "dtype: float64"
      ]
     },
     "execution_count": 12,
     "metadata": {},
     "output_type": "execute_result"
    }
   ],
   "source": [
    "percent_missing(df)"
   ]
  },
  {
   "cell_type": "markdown",
   "id": "30197a44",
   "metadata": {},
   "source": [
    "- Each column seems to be missing about 1% of the values."
   ]
  },
  {
   "cell_type": "markdown",
   "id": "6037ed51",
   "metadata": {},
   "source": [
    "Typically, missing data values are **imputed** into the data, which means **estimating their values from the available data**. An extreme case would be to remove all incomplete observations, but this often leads to significant data loss, especially if there are many variables. Complete-case analysis (i.e. using only data points that have complete information) is a simple method, but it has some risks. In particular, if the variables under analysis are statistically related to the missingess, then ignoring the missing data (i.e. deleting it) will include bias in one's inferences.\n",
    "The simplest imputation method would be just to replace the missing values with variable-specific summary statistics calculated from the available values, such as mean, median, or mode. This method of replacing the missing values with summary statistics from the available values, however, can lead to severely biased estimates.\n",
    "\n",
    "The missingness of the data can have different underlying mechanisms, which can be categorized into three types:\n",
    "\n",
    "**MCAR** (*missing completely at random*)\n",
    "- The probability that a variable value is missing does not depend on the observed data values nor on the missing data values [i.e. P(missing | complete data) = P(missing)]. The missingness results from a process completely unrelated to the variables in one's analyses, or from a completely random process (similar to flipping a coin or rolling a die). MCAR is the easiest case for machine learning models because there is no systematic mechanism behind it, and the missing values occur randomly regardless of their own or other variable values. \n",
    "\n",
    "\n",
    "**MAR** (*missing at random*)\n",
    "- The probability that a variable value is missing partly depends on other data that are observed in the dataset, but does not depend on any of the values that are missing [i.e. P(missing | complete data) = P(missing | observed data)].\n",
    "\n",
    "**MNAR** (*missing not at random*)\n",
    "- The probability that a variable value is missing depends on the missing data values themselves \\\n",
    "[i.e. P(missing | complete data) $\\ne$ P(missing | observed data)]. MNAR is the most challenging case because the missingness depends on the variable itself.\n",
    "\n",
    "Since *MCAR* is the easiest case to deal with in machine learning, one should start by determining whether or not the missing values are *MCAR*. This can be done by using **Little's MCAR test.**"
   ]
  },
  {
   "cell_type": "markdown",
   "id": "7b91fd11",
   "metadata": {},
   "source": [
    "<br>"
   ]
  },
  {
   "cell_type": "markdown",
   "id": "4ddfd2d9",
   "metadata": {},
   "source": [
    "**Little's MCAR Test**"
   ]
  },
  {
   "cell_type": "markdown",
   "id": "fece1a37",
   "metadata": {},
   "source": [
    "As far as i know, Python does not provide a function for Little's MCAR test. Therefore, i used R's **naniar** package which comes with a **mcar_test** function. Below is the implementation of it (description of the Little's MCAR test and the respective results)."
   ]
  },
  {
   "attachments": {
    "MCAR_test_description.png": {
     "image/png": "[encoded data removed]"
    }
   },
   "cell_type": "markdown",
   "id": "6599cb94",
   "metadata": {},
   "source": [
    "![MCAR_test_description.png](attachment:MCAR_test_description.png)"
   ]
  },
  {
   "attachments": {
    "MCAR_test_results.png": {
     "image/png": "[encoded data removed]"
    }
   },
   "cell_type": "markdown",
   "id": "76456a3e",
   "metadata": {},
   "source": [
    "![MCAR_test_results.png](attachment:MCAR_test_results.png)"
   ]
  },
  {
   "cell_type": "markdown",
   "id": "587a2933",
   "metadata": {},
   "source": [
    "In Little's MCAR test the hypotheses are\n",
    "\n",
    "$H_0 : \\,$ The data are MCAR \\\n",
    "$H_1 : \\,$ The data are not MCAR\n",
    "\n",
    "$\\boldsymbol{\\rightarrow}$ Since the **p-value of 0.146** is clearly larger than any commonly used threshold for rejecting the null hypothesis \\\n",
    "(i.e. the large p-value indicates that there is not enough evidence to reject the null hypothesis), it is safe to assume that **the data are MCAR.**\n",
    "\n",
    "In the cases where the data are *MCAR*, one can for example use the **kNN imputation method**.\n",
    "\n",
    "The k-Nearest Neighbors (kNN) imputation method is a technique used to fill in missing values in a dataset by leveraging the values of its nearest neighbors. The fundamental idea behind this method is to impute missing values based on observations that are most similar to the one with the missing value.\n",
    "\n",
    "In the cases of continuous variables, the distance is typically calculated using the Euclidean distance. The distance can be calculated based on the available values. The missing values can be replaced by the average of the available values of the k nearest neighbors or weighted average based on the distances to the neighbors.\n",
    "\n",
    "If there are multiple missing values in the same input vector, different sets of nearest neighbors may be needed to impute them, as the neighbors themselves may have missing values. If a variable has missing values in all input vectors, the variable needs to be effectively removed.\n",
    "\n",
    "It is crucial to assess the quality and reliability of the imputed values after completing the imputation process. The assessment involves considering the overall distribution of the imputed data and comparing it to the original data. Evaluating the imputed values allows for identifying potential biases or anomalies that may have been introduced during the imputation.\n",
    "\n",
    "Scikit-learn's impute module has a KNNImputer class, which can be used for the kNN imputation."
   ]
  },
  {
   "cell_type": "code",
   "execution_count": 13,
   "id": "5ce74319",
   "metadata": {},
   "outputs": [],
   "source": [
    "from sklearn.model_selection import train_test_split\n",
    "from sklearn.preprocessing import StandardScaler\n",
    "from sklearn.linear_model import LinearRegression\n",
    "from sklearn.impute import KNNImputer\n",
    "from sklearn.metrics import mean_squared_error"
   ]
  },
  {
   "cell_type": "markdown",
   "id": "af58c2da",
   "metadata": {},
   "source": [
    "Let's try out 50 different K values and see which one produces the smallest error when fitting the linear regression model and evaluating its performance.\n",
    "\n",
    "$\\boldsymbol{\\rightarrow} \\,$ We will choose the K value for the KNNImputer that produces the smallest error when evaluating the performance of the fitted model (where the data was imputed using the respective K value)."
   ]
  },
  {
   "cell_type": "code",
   "execution_count": 14,
   "id": "3d1ee851",
   "metadata": {},
   "outputs": [],
   "source": [
    "error_rates = []\n",
    "\n",
    "for k in range(1, 51):\n",
    "    \n",
    "    # The data frame needs to be returned to its original form after imputating it with \\\n",
    "    # each K value (otherwise there is nothing to imputate after the first iteration).\n",
    "    df = pd.read_csv(\"C:/Users/testi/Desktop/ML perusteet/train_set_ht.csv\", index_col=0)\n",
    "\n",
    "    # Create the kNN imputation object with K=k\n",
    "    imputer = KNNImputer(n_neighbors=k, weights=\"uniform\")\n",
    "\n",
    "    # Impute the data\n",
    "    df = imputer.fit_transform(df)\n",
    "\n",
    "    # Create a scaler object\n",
    "    scaler = StandardScaler()\n",
    "\n",
    "    # Design matrix\n",
    "    X = df[:, :-1]\n",
    "\n",
    "    # Response variable\n",
    "    y = df[:, -1]\n",
    "\n",
    "    # Perform train test split\n",
    "    X_train, X_test, y_train, y_test = train_test_split(X, \n",
    "                                                        y, \n",
    "                                                        test_size=0.3, \n",
    "                                                        random_state=42)\n",
    "\n",
    "    # Fit the scaler to the TRAINING data\n",
    "    scaler.fit(X_train)\n",
    "\n",
    "    # We scale the feature values (X_train and X_test), but not the label values (y_train and y_test)\n",
    "    scaled_X_train = scaler.transform(X_train)\n",
    "    scaled_X_test = scaler.transform(X_test)\n",
    "\n",
    "    # Create a linear regression object\n",
    "    model = LinearRegression()\n",
    "\n",
    "    # Fit the model on the TRAINING data\n",
    "    model.fit(scaled_X_train, y_train)\n",
    "\n",
    "    # Make predictions for performance evaluation.\n",
    "    # Note that the predictions are made using the test data.\n",
    "    y_pred = model.predict(scaled_X_test)\n",
    "    \n",
    "    # Evaluate the performance (calculate the error)\n",
    "    error = mean_squared_error(y_test, y_pred)\n",
    "    \n",
    "    # Append the error and the corresponding K value (as a tuple) to the error_rates list\n",
    "    error_rates.append((f\"K={k}\", f\"MSE={error}\"))"
   ]
  },
  {
   "cell_type": "code",
   "execution_count": 15,
   "id": "afb06dd1",
   "metadata": {},
   "outputs": [
    {
     "data": {
      "text/plain": [
       "[('K=1', 'MSE=0.35038506654801954'),\n",
       " ('K=2', 'MSE=0.3467768030072405'),\n",
       " ('K=3', 'MSE=0.3451081085309281'),\n",
       " ('K=4', 'MSE=0.34434642248983055'),\n",
       " ('K=5', 'MSE=0.34387560828317115'),\n",
       " ('K=6', 'MSE=0.3430859012763758'),\n",
       " ('K=7', 'MSE=0.3429283913728718'),\n",
       " ('K=8', 'MSE=0.34266904029852047'),\n",
       " ('K=9', 'MSE=0.34247822912205944'),\n",
       " ('K=10', 'MSE=0.3423784768426797'),\n",
       " ('K=11', 'MSE=0.342468388573408'),\n",
       " ('K=12', 'MSE=0.3425045181274263'),\n",
       " ('K=13', 'MSE=0.34247872349603825'),\n",
       " ('K=14', 'MSE=0.34240259039022597'),\n",
       " ('K=15', 'MSE=0.34233601717295253'),\n",
       " ('K=16', 'MSE=0.3423315604945196'),\n",
       " ('K=17', 'MSE=0.34231685391336286'),\n",
       " ('K=18', 'MSE=0.34242615818584693'),\n",
       " ('K=19', 'MSE=0.3425069713267092'),\n",
       " ('K=20', 'MSE=0.3424961427466384'),\n",
       " ('K=21', 'MSE=0.34245552398421497'),\n",
       " ('K=22', 'MSE=0.34251528594860065'),\n",
       " ('K=23', 'MSE=0.3424913730241531'),\n",
       " ('K=24', 'MSE=0.3424219502400784'),\n",
       " ('K=25', 'MSE=0.34242143775560485'),\n",
       " ('K=26', 'MSE=0.3424778307945375'),\n",
       " ('K=27', 'MSE=0.3424778490302413'),\n",
       " ('K=28', 'MSE=0.3425024556566945'),\n",
       " ('K=29', 'MSE=0.34243199204541924'),\n",
       " ('K=30', 'MSE=0.34237424985281134'),\n",
       " ('K=31', 'MSE=0.34237031574538157'),\n",
       " ('K=32', 'MSE=0.34242163786371654'),\n",
       " ('K=33', 'MSE=0.34253984687620515'),\n",
       " ('K=34', 'MSE=0.342568850643731'),\n",
       " ('K=35', 'MSE=0.34256967098849017'),\n",
       " ('K=36', 'MSE=0.3425404042292798'),\n",
       " ('K=37', 'MSE=0.34248914867817487'),\n",
       " ('K=38', 'MSE=0.3424546634838468'),\n",
       " ('K=39', 'MSE=0.3424495145344975'),\n",
       " ('K=40', 'MSE=0.3424529771919839'),\n",
       " ('K=41', 'MSE=0.3424468613669468'),\n",
       " ('K=42', 'MSE=0.3424493608686689'),\n",
       " ('K=43', 'MSE=0.342438663852106'),\n",
       " ('K=44', 'MSE=0.34245014553110104'),\n",
       " ('K=45', 'MSE=0.3424605949983172'),\n",
       " ('K=46', 'MSE=0.34246607777817634'),\n",
       " ('K=47', 'MSE=0.342453285031146'),\n",
       " ('K=48', 'MSE=0.34242981540944567'),\n",
       " ('K=49', 'MSE=0.34243258610526606'),\n",
       " ('K=50', 'MSE=0.34244075898319565')]"
      ]
     },
     "execution_count": 15,
     "metadata": {},
     "output_type": "execute_result"
    }
   ],
   "source": [
    "error_rates"
   ]
  },
  {
   "cell_type": "code",
   "execution_count": 16,
   "id": "6f63768a",
   "metadata": {},
   "outputs": [
    {
     "data": {
      "text/plain": [
       "('K=17', 'MSE=0.34231685391336286')"
      ]
     },
     "execution_count": 16,
     "metadata": {},
     "output_type": "execute_result"
    }
   ],
   "source": [
    "# We want to minimize the error, \n",
    "# so we use min() together with lambda function to return the smallest error.\n",
    "min(error_rates, key=lambda x: x[1])"
   ]
  },
  {
   "cell_type": "markdown",
   "id": "226d01f0",
   "metadata": {},
   "source": [
    "- It seems that the smallest error is achieved when the number of neighbors is 17.\n",
    "- However, as one can see, the differences between the errors are not significant.\n",
    "- Therefore, it is probably not worth to choose K=17, since this adds unwanted complexity to the model.\n",
    "- Let's choose K=5."
   ]
  },
  {
   "cell_type": "markdown",
   "id": "d0cf9ebc",
   "metadata": {},
   "source": [
    "<br>"
   ]
  },
  {
   "cell_type": "markdown",
   "id": "58709b07",
   "metadata": {},
   "source": [
    "# <center>Linear Regression<center>"
   ]
  },
  {
   "cell_type": "markdown",
   "id": "7c2b8491",
   "metadata": {},
   "source": [
    "Now, since we have the K value chosen for the KNNImputation, let's imputate the whole data set."
   ]
  },
  {
   "cell_type": "code",
   "execution_count": 17,
   "id": "632d7d7a",
   "metadata": {},
   "outputs": [],
   "source": [
    "# Change the data frame back to its original form\n",
    "# (currently it is imputed with K=50).\n",
    "df = pd.read_csv(\"C:/Users/testi/Desktop/ML perusteet/train_set_ht.csv\", index_col=0)"
   ]
  },
  {
   "cell_type": "code",
   "execution_count": 18,
   "id": "b9551627",
   "metadata": {},
   "outputs": [],
   "source": [
    "Imputer = KNNImputer(n_neighbors=5, weights=\"uniform\")"
   ]
  },
  {
   "cell_type": "code",
   "execution_count": 19,
   "id": "67aca62b",
   "metadata": {},
   "outputs": [],
   "source": [
    "df = Imputer.fit_transform(df)"
   ]
  },
  {
   "cell_type": "code",
   "execution_count": 20,
   "id": "8cb335df",
   "metadata": {},
   "outputs": [
    {
     "data": {
      "text/plain": [
       "False"
      ]
     },
     "execution_count": 20,
     "metadata": {},
     "output_type": "execute_result"
    }
   ],
   "source": [
    "np.isnan(df).any()"
   ]
  },
  {
   "cell_type": "code",
   "execution_count": 21,
   "id": "3ceae1ca",
   "metadata": {},
   "outputs": [],
   "source": [
    "# Design matrix\n",
    "X = df[:, :-1]\n",
    "\n",
    "# Response variable\n",
    "y = df[:, -1]"
   ]
  },
  {
   "cell_type": "code",
   "execution_count": 22,
   "id": "6adf7ea5",
   "metadata": {},
   "outputs": [],
   "source": [
    "# Perform train test split\n",
    "X_train, X_test, y_train, y_test = train_test_split(X, \n",
    "                                                    y, \n",
    "                                                    test_size=0.3, \n",
    "                                                    random_state=42)"
   ]
  },
  {
   "cell_type": "code",
   "execution_count": 23,
   "id": "79b965b4",
   "metadata": {},
   "outputs": [
    {
     "name": "stdout",
     "output_type": "stream",
     "text": [
      "X_train dimensions: (21000, 11)\n",
      "y_train dimensions: (21000,)\n",
      "X_test dimensions: (9000, 11)\n",
      "y_test dimensions: (9000,)\n"
     ]
    }
   ],
   "source": [
    "print(f\"X_train dimensions: {X_train.shape}\")\n",
    "print(f\"y_train dimensions: {y_train.shape}\")\n",
    "print(f\"X_test dimensions: {X_test.shape}\")\n",
    "print(f\"y_test dimensions: {y_test.shape}\")"
   ]
  },
  {
   "cell_type": "code",
   "execution_count": 24,
   "id": "d744a3a1",
   "metadata": {},
   "outputs": [],
   "source": [
    "# SCALE THE DATA\n",
    "\n",
    "# Create the scaler object\n",
    "scaler = StandardScaler()\n",
    "\n",
    "# Since we don't want to assume any information about the test set,\n",
    "# we fit the scaler object only to the TRAINING data.\n",
    "scaler.fit(X_train)\n",
    "\n",
    "# Transform the feature data. \n",
    "# Note that as said before, we don't scale the label data.\n",
    "X_train = scaler.transform(X_train)\n",
    "X_test = scaler.transform(X_test)"
   ]
  },
  {
   "cell_type": "markdown",
   "id": "1854b880",
   "metadata": {},
   "source": [
    "<br>"
   ]
  },
  {
   "cell_type": "markdown",
   "id": "3832f24b",
   "metadata": {},
   "source": [
    "**<center>Determining the regularization technique for linear regression<center>**"
   ]
  },
  {
   "cell_type": "markdown",
   "id": "6bebd7e3",
   "metadata": {},
   "source": [
    "**L2 Regularization (Ridge regression)**."
   ]
  },
  {
   "cell_type": "markdown",
   "id": "d99355d3",
   "metadata": {},
   "source": [
    "L2 regularization adds a penalty equal to the **square** of the magnitude of the coefficients.\n",
    "- All coefficients are shrunk by the same factor.\n",
    "- This does not necessarily eliminate the coefficients (they don't necessarily become zero).\n",
    "- The goal of ridge regression is to help prevent overfitting by adding an additional penalty term to RSS.\n",
    "\n",
    "Mathematically L2 regularization can be written as\n",
    "\n",
    "$$ \\displaystyle \\large {\\sum_{i=1}^{n}} \\left(y_i - \\beta_0 - \\sum_{j=1}^p \\beta_jx_{ij}\\right)^2 + \\lambda {\\sum_{j=1}^{p}} \\beta_j^2 = RSS + \\lambda {\\sum_{j=1}^{p}} \\beta_j^2 $$\n",
    "\n",
    "where $ \\displaystyle \\lambda {\\sum_{j=1}^{p}} \\beta_j^2 $ is the **penalty term**, and RSS is the residual sum of squares.\n",
    "\n",
    "It is clear that $\\, \\boldsymbol{\\lambda} \\,$ determines how severe the penalty is. In theory, $\\, \\boldsymbol{\\lambda} \\,$ can take any value between **0** and $\\boldsymbol{\\infty}.$ \\\n",
    "If $\\, \\boldsymbol{\\lambda} = 0 \\,$, then the task simply reverts back to minimizing RSS (because the penalty term becomes zero). \\\n",
    "To choose the best value for $\\, \\lambda \\,$ we simply use **cross-validation** to explore multiple options for $\\, \\lambda \\,$, and then choose the best one.\n",
    "\n",
    "- Note that scikit-learn refers to $\\, \\large\\lambda \\,$ as **alpha** parameter within the class call."
   ]
  },
  {
   "cell_type": "code",
   "execution_count": 25,
   "id": "a8ba8d40",
   "metadata": {},
   "outputs": [],
   "source": [
    "from sklearn.linear_model import RidgeCV"
   ]
  },
  {
   "cell_type": "markdown",
   "id": "251dbfc2",
   "metadata": {},
   "source": [
    "- https://scikit-learn.org/stable/modules/generated/sklearn.linear_model.RidgeCV.html"
   ]
  },
  {
   "cell_type": "code",
   "execution_count": 26,
   "id": "2d26be60",
   "metadata": {},
   "outputs": [],
   "source": [
    "ridge_cv_model = RidgeCV(alphas=(1e-3, 1e-2, 1e-1, 1), \n",
    "                         scoring=\"neg_mean_absolute_error\",\n",
    "                         cv=None)"
   ]
  },
  {
   "cell_type": "markdown",
   "id": "e0aa9209",
   "metadata": {},
   "source": [
    "- When **cv=None**, scikit-learn automatically uses the efficient **Leave-One-Out cross-validation.** \n",
    "\n",
    "**Important note!**\n",
    "- For cross-validation metrics, sklearn uses a **scorer object**.\n",
    "- All scorer objects follow the convention that **higher** return values are **better** than lower return values.\n",
    "- For example higher accuracy (correct predictions in a classification task) is obviously better, but higher MSE is actually worse. \n",
    "- So how does sklearn deal with this? Well in the case of MSE for example, sklearn simply uses a negative MSE."
   ]
  },
  {
   "cell_type": "code",
   "execution_count": 27,
   "id": "806cc31d",
   "metadata": {},
   "outputs": [
    {
     "data": {
      "text/plain": [
       "RidgeCV(alphas=array([0.001, 0.01 , 0.1  , 1.   ]),\n",
       "        scoring='neg_mean_absolute_error')"
      ]
     },
     "execution_count": 27,
     "metadata": {},
     "output_type": "execute_result"
    }
   ],
   "source": [
    "#  Fit the ridge regression to the training data.\n",
    "# Recall that X_train is already scaled.\n",
    "ridge_cv_model.fit(X_train, y_train)"
   ]
  },
  {
   "cell_type": "markdown",
   "id": "6b0891cc",
   "metadata": {},
   "source": [
    "- To check that which alpha parameter performed the best, one can use the **alpha_** attribute of the fitted ridge regression model."
   ]
  },
  {
   "cell_type": "code",
   "execution_count": 28,
   "id": "9afd9581",
   "metadata": {},
   "outputs": [
    {
     "data": {
      "text/plain": [
       "0.001"
      ]
     },
     "execution_count": 28,
     "metadata": {},
     "output_type": "execute_result"
    }
   ],
   "source": [
    "ridge_cv_model.alpha_"
   ]
  },
  {
   "cell_type": "code",
   "execution_count": 29,
   "id": "ac3988e2",
   "metadata": {},
   "outputs": [],
   "source": [
    "# Let's predict the label values based on new unseen data (X_test).\n",
    "# Recall that X_test is already scaled.\n",
    "ridge_cv_preds = ridge_cv_model.predict(X_test)"
   ]
  },
  {
   "cell_type": "markdown",
   "id": "89b63e77",
   "metadata": {},
   "source": [
    "- NOTE that ridge_cv_model automatically uses the best alpha value found in the cross validation process."
   ]
  },
  {
   "cell_type": "code",
   "execution_count": 30,
   "id": "eb929f88",
   "metadata": {},
   "outputs": [
    {
     "data": {
      "text/plain": [
       "0.34387560853505533"
      ]
     },
     "execution_count": 30,
     "metadata": {},
     "output_type": "execute_result"
    }
   ],
   "source": [
    "# Evaluate performance\n",
    "mean_squared_error(y_test, ridge_cv_preds)"
   ]
  },
  {
   "cell_type": "markdown",
   "id": "59369902",
   "metadata": {},
   "source": [
    "- Note that this performance evaluation is not based on the scorer metrics anymore. \n",
    "\n",
    "    $\\boldsymbol{\\rightarrow} \\,$ Therefore, a lower MSE indicates a better fit to the data."
   ]
  },
  {
   "cell_type": "markdown",
   "id": "770cdc9c",
   "metadata": {},
   "source": [
    "<br>"
   ]
  },
  {
   "cell_type": "markdown",
   "id": "ad5becda",
   "metadata": {},
   "source": [
    "**L1 Regularization (LASSO Regression)**"
   ]
  },
  {
   "cell_type": "markdown",
   "id": "137dde48",
   "metadata": {},
   "source": [
    "LASSO is an acronym for \"least absolute shrinkage and selection operator\".\n",
    "\n",
    "L1 regularization adds a penalty equal to the **absolute value** of the magnitude of the coefficients.\n",
    "- This limits the size of the coefficients, and can yield sparse models where some of the coefficients can become zero \\\n",
    "(i.e. LASSO can force some of the coefficient estimates to be exactly equal to zero, when the tuning parameter $\\boldsymbol{\\lambda}$ is sufficiently large)\n",
    "    \n",
    "    $\\, \\boldsymbol{\\rightarrow} \\,$ Models generated from the LASSO are generally much easier to interpret.\n",
    "    \n",
    "Mathematically L1 Regularization looks as follows\n",
    "\n",
    "$$ \\displaystyle \\large {\\sum_{i=1}^{n}} \\left(y_i - \\beta_0 - \\sum_{j=1}^p \\beta_jx_{ij}\\right)^2 + \\lambda {\\sum_{j=1}^{p}} |\\beta_j| = RSS + \\lambda {\\sum_{j=1}^{p}} |\\beta_j| $$\n",
    "\n",
    "where $ \\displaystyle \\lambda {\\sum_{j=1}^{p}} |\\beta_j| $ is the **penalty term**, and RSS is the residual sum of squares.\n",
    "\n",
    "In L1 regularization, similar to L2 regularization, the process of finding the best penalty hyperparameter involves tuning the $\\boldsymbol{\\lambda}$ coefficient."
   ]
  },
  {
   "cell_type": "code",
   "execution_count": 31,
   "id": "6ea4f3e5",
   "metadata": {},
   "outputs": [],
   "source": [
    "from sklearn.linear_model import LassoCV"
   ]
  },
  {
   "cell_type": "markdown",
   "id": "1f96f38f",
   "metadata": {},
   "source": [
    "- Like in RidgeCV, one can provide the alpha values directly to LassoCV as a list. \n",
    "- However, if one does not provide these alpha values, they are set automatically within a range.\n",
    "- To modify the range and the number of alpha values to check, one can alter the **eps** and **n_alphas** parameter. \n",
    "- For more information on this, check the link below.\n",
    "- https://scikit-learn.org/stable/modules/generated/sklearn.linear_model.LassoCV.html"
   ]
  },
  {
   "cell_type": "code",
   "execution_count": 32,
   "id": "481380da",
   "metadata": {},
   "outputs": [],
   "source": [
    "lasso_cv_model = LassoCV(eps=0.1, n_alphas=100, cv=5, max_iter=10000)"
   ]
  },
  {
   "cell_type": "code",
   "execution_count": 33,
   "id": "97925fdf",
   "metadata": {},
   "outputs": [
    {
     "data": {
      "text/plain": [
       "LassoCV(cv=5, eps=0.1, max_iter=10000)"
      ]
     },
     "execution_count": 33,
     "metadata": {},
     "output_type": "execute_result"
    }
   ],
   "source": [
    "lasso_cv_model.fit(X_train, y_train)"
   ]
  },
  {
   "cell_type": "code",
   "execution_count": 34,
   "id": "bdc09aad",
   "metadata": {},
   "outputs": [
    {
     "data": {
      "text/plain": [
       "0.037103932126597884"
      ]
     },
     "execution_count": 34,
     "metadata": {},
     "output_type": "execute_result"
    }
   ],
   "source": [
    "lasso_cv_model.alpha_"
   ]
  },
  {
   "cell_type": "code",
   "execution_count": 35,
   "id": "eb43fe9d",
   "metadata": {},
   "outputs": [],
   "source": [
    "lasso_cv_preds = lasso_cv_model.predict(X_test)"
   ]
  },
  {
   "cell_type": "code",
   "execution_count": 36,
   "id": "418fc409",
   "metadata": {},
   "outputs": [
    {
     "data": {
      "text/plain": [
       "0.3639258450525791"
      ]
     },
     "execution_count": 36,
     "metadata": {},
     "output_type": "execute_result"
    }
   ],
   "source": [
    "mean_squared_error(y_test, lasso_cv_preds)"
   ]
  },
  {
   "cell_type": "code",
   "execution_count": 37,
   "id": "97ab1b01",
   "metadata": {},
   "outputs": [
    {
     "name": "stdout",
     "output_type": "stream",
     "text": [
      "Ridge regression MSE: 0.34387560853505533\n",
      "LASSO regression MSE: 0.3639258450525791\n"
     ]
    }
   ],
   "source": [
    "print(f\"Ridge regression MSE: {mean_squared_error(y_test, ridge_cv_preds)}\")\n",
    "print(f\"LASSO regression MSE: {mean_squared_error(y_test, lasso_cv_preds)}\")"
   ]
  },
  {
   "cell_type": "markdown",
   "id": "a75ff89e",
   "metadata": {},
   "source": [
    "- Ridge regression performs slightly better."
   ]
  },
  {
   "cell_type": "markdown",
   "id": "42bab316",
   "metadata": {},
   "source": [
    "<br>"
   ]
  },
  {
   "cell_type": "markdown",
   "id": "3a8e846c",
   "metadata": {},
   "source": [
    "**Combining L1 and L2 (Elastic Net)**"
   ]
  },
  {
   "cell_type": "markdown",
   "id": "8ac557c7",
   "metadata": {},
   "source": [
    "$$ \\displaystyle\\large\\frac{{\\sum_{i=1}^{n} (y_i - x_i^J\\hat{\\beta})^2}} {2n} + \\lambda \\left(\\frac{1 - \\alpha} {2} \\sum_{j=1}^{m} \\hat{\\beta}_j^2 + \\alpha \\sum_{j=1}^{m} |\\hat{\\beta_j}| \\right) $$"
   ]
  },
  {
   "cell_type": "markdown",
   "id": "58ea50c2",
   "metadata": {},
   "source": [
    "The Elastic Net model is a linear regression model that combines the L1 regularization (LASSO) and L2 regularization (Ridge) techniques. \n",
    "\n",
    "\n",
    "The Elastic Net model adds a penalty term to the traditional linear regression objective function (RSS, the Residual Sum of Squares, which linear regression aims to minimize), which consists of two components: the L1 norm of the regression coefficients and the L2 norm of the regression coefficients. \n",
    "- The L1 norm encourages sparsity in the model by shrinking some coefficients to exactly zero, effectively performing feature selection. \n",
    "\n",
    "\n",
    "- The L2 norm encourages small but non-zero coefficients, which helps in handling multicollinearity and stabilizing the model.\n",
    "    \n",
    "The Elastic Net model introduces two hyperparameters, **alpha** ($\\boldsymbol{\\alpha}$) and **lambda** ($\\boldsymbol{\\lambda}$). \n",
    "- The $\\boldsymbol{\\alpha}$ parameter controls the mixture between L1 and L2 regularization, with a value of 1 representing pure LASSO regression and a value of 0 representing pure Ridge regression.\n",
    "\n",
    "Since with **elastic net** we have multiple (two) hyperparameters to adjust, let's use **grid search**.\n",
    "- A **grid search** is a way of training and validating a model on every possible combination of multiple hyperparameter options.\n",
    "- Scikit-Learn includes a **GridSearchCV** class that is capable of testing a dictionary of multiple hyperparameter options through cross-validation.\n",
    "- This allows for both cross-validation and a grid search to be performed in a generalized way for any model."
   ]
  },
  {
   "cell_type": "code",
   "execution_count": 38,
   "id": "3baccb7f",
   "metadata": {},
   "outputs": [],
   "source": [
    "from sklearn.linear_model import ElasticNet"
   ]
  },
  {
   "cell_type": "markdown",
   "id": "a5c615e2",
   "metadata": {},
   "source": [
    "- https://scikit-learn.org/stable/modules/generated/sklearn.linear_model.ElasticNet.html\n",
    "\n",
    "\n",
    "- **IMPORTANT!!** In Sklearn's ElasticNet class, **alpha** parameter is the $\\, \\large \\boldsymbol{\\lambda} \\,$ constant that controls the overall strength of the regularization (see Elastic Net's equation above), and the value(**s**) of **l1_ratio** parameter controls the mixture between L1 and L2 regularization."
   ]
  },
  {
   "cell_type": "code",
   "execution_count": 39,
   "id": "3298a1a7",
   "metadata": {},
   "outputs": [],
   "source": [
    "elastic_net_model = ElasticNet()"
   ]
  },
  {
   "cell_type": "code",
   "execution_count": 40,
   "id": "d5e3370c",
   "metadata": {},
   "outputs": [],
   "source": [
    "# Pass the hyperparameters that you want to tune from the ElasticNet class in to a dictionary as keys.\n",
    "# Note that the keys (as strings) need to match exactly the parameters from the ElasticNet class call.\n",
    "# Then you pass in the values that you want to check.\n",
    "# Note that alpha=lambda, l1_ratio=the ratio of how much to use L1 (LASSO) and L2 (Ridge).\n",
    "# The closer l1_ratio is to 0, the more you use L2 penalty (Ridge).\n",
    "# Likewise, the closer l1_ratio is to 1, the more you use L1 penalty (LASSO).\n",
    "# You can pass in a list of values between 0 and 1 to l1_ratio.\n",
    "# Likewise for the alpha (lambda) parameter you can pass a list of values.\n",
    "\n",
    "param_grid = {\"alpha\":[0.1, 1, 5, 10, 50, 100], \n",
    "              \"l1_ratio\": [0.1, 0.5, 0.7, 0.95, 0.99, 1]}"
   ]
  },
  {
   "cell_type": "code",
   "execution_count": 41,
   "id": "5e1c39aa",
   "metadata": {},
   "outputs": [],
   "source": [
    "from sklearn.model_selection import GridSearchCV"
   ]
  },
  {
   "cell_type": "markdown",
   "id": "b48c2dd0",
   "metadata": {},
   "source": [
    "- So what Grid search does, it tries every single combination of the values  that we provided.\n",
    "- For example, it's going to try the alpha value of 0.1 with all of the l1_ratio values: 0.1, 0.5, 0.7, 0.95, 0.99 and 1."
   ]
  },
  {
   "cell_type": "code",
   "execution_count": 42,
   "id": "9a67ba47",
   "metadata": {},
   "outputs": [],
   "source": [
    "# Create the Grid model\n",
    "grid_model = GridSearchCV(elastic_net_model,\n",
    "                          param_grid=param_grid,\n",
    "                          scoring=\"neg_mean_squared_error\",\n",
    "                          cv=5)"
   ]
  },
  {
   "cell_type": "code",
   "execution_count": 43,
   "id": "792f99f9",
   "metadata": {},
   "outputs": [
    {
     "data": {
      "text/plain": [
       "GridSearchCV(cv=5, estimator=ElasticNet(),\n",
       "             param_grid={'alpha': [0.1, 1, 5, 10, 50, 100],\n",
       "                         'l1_ratio': [0.1, 0.5, 0.7, 0.95, 0.99, 1]},\n",
       "             scoring='neg_mean_squared_error')"
      ]
     },
     "execution_count": 43,
     "metadata": {},
     "output_type": "execute_result"
    }
   ],
   "source": [
    "# Fit the Grid model on the training data\n",
    "grid_model.fit(X_train, y_train)"
   ]
  },
  {
   "cell_type": "code",
   "execution_count": 44,
   "id": "916d54bc",
   "metadata": {},
   "outputs": [
    {
     "data": {
      "text/plain": [
       "ElasticNet(alpha=0.1, l1_ratio=0.1)"
      ]
     },
     "execution_count": 44,
     "metadata": {},
     "output_type": "execute_result"
    }
   ],
   "source": [
    "# Fetch the best performing model\n",
    "grid_model.best_estimator_"
   ]
  },
  {
   "cell_type": "markdown",
   "id": "001dba6b",
   "metadata": {},
   "source": [
    "- The **best model** was obtained using an **alpha (lambda) value of 0.1**, and **l1_ratio of 0.1**."
   ]
  },
  {
   "cell_type": "code",
   "execution_count": 45,
   "id": "8faba19d",
   "metadata": {},
   "outputs": [
    {
     "data": {
      "text/html": [
       "<div>\n",
       "<style scoped>\n",
       "    .dataframe tbody tr th:only-of-type {\n",
       "        vertical-align: middle;\n",
       "    }\n",
       "\n",
       "    .dataframe tbody tr th {\n",
       "        vertical-align: top;\n",
       "    }\n",
       "\n",
       "    .dataframe thead th {\n",
       "        text-align: right;\n",
       "    }\n",
       "</style>\n",
       "<table border=\"1\" class=\"dataframe\">\n",
       "  <thead>\n",
       "    <tr style=\"text-align: right;\">\n",
       "      <th></th>\n",
       "      <th>mean_fit_time</th>\n",
       "      <th>std_fit_time</th>\n",
       "      <th>mean_score_time</th>\n",
       "      <th>std_score_time</th>\n",
       "      <th>param_alpha</th>\n",
       "      <th>param_l1_ratio</th>\n",
       "      <th>params</th>\n",
       "      <th>split0_test_score</th>\n",
       "      <th>split1_test_score</th>\n",
       "      <th>split2_test_score</th>\n",
       "      <th>split3_test_score</th>\n",
       "      <th>split4_test_score</th>\n",
       "      <th>mean_test_score</th>\n",
       "      <th>std_test_score</th>\n",
       "      <th>rank_test_score</th>\n",
       "    </tr>\n",
       "  </thead>\n",
       "  <tbody>\n",
       "    <tr>\n",
       "      <th>0</th>\n",
       "      <td>0.003590</td>\n",
       "      <td>7.979871e-04</td>\n",
       "      <td>0.000000</td>\n",
       "      <td>0.000000</td>\n",
       "      <td>0.1</td>\n",
       "      <td>0.1</td>\n",
       "      <td>{'alpha': 0.1, 'l1_ratio': 0.1}</td>\n",
       "      <td>-0.357106</td>\n",
       "      <td>-0.370210</td>\n",
       "      <td>-0.358887</td>\n",
       "      <td>-0.363431</td>\n",
       "      <td>-0.357015</td>\n",
       "      <td>-0.361330</td>\n",
       "      <td>0.005014</td>\n",
       "      <td>1</td>\n",
       "    </tr>\n",
       "    <tr>\n",
       "      <th>1</th>\n",
       "      <td>0.002793</td>\n",
       "      <td>3.990650e-04</td>\n",
       "      <td>0.000200</td>\n",
       "      <td>0.000399</td>\n",
       "      <td>0.1</td>\n",
       "      <td>0.5</td>\n",
       "      <td>{'alpha': 0.1, 'l1_ratio': 0.5}</td>\n",
       "      <td>-0.382091</td>\n",
       "      <td>-0.397682</td>\n",
       "      <td>-0.384751</td>\n",
       "      <td>-0.392718</td>\n",
       "      <td>-0.385469</td>\n",
       "      <td>-0.388542</td>\n",
       "      <td>0.005769</td>\n",
       "      <td>2</td>\n",
       "    </tr>\n",
       "    <tr>\n",
       "      <th>2</th>\n",
       "      <td>0.003192</td>\n",
       "      <td>3.989458e-04</td>\n",
       "      <td>0.000199</td>\n",
       "      <td>0.000399</td>\n",
       "      <td>0.1</td>\n",
       "      <td>0.7</td>\n",
       "      <td>{'alpha': 0.1, 'l1_ratio': 0.7}</td>\n",
       "      <td>-0.395620</td>\n",
       "      <td>-0.413825</td>\n",
       "      <td>-0.399596</td>\n",
       "      <td>-0.408323</td>\n",
       "      <td>-0.399397</td>\n",
       "      <td>-0.403352</td>\n",
       "      <td>0.006692</td>\n",
       "      <td>3</td>\n",
       "    </tr>\n",
       "    <tr>\n",
       "      <th>3</th>\n",
       "      <td>0.002992</td>\n",
       "      <td>1.784161e-07</td>\n",
       "      <td>0.000399</td>\n",
       "      <td>0.000488</td>\n",
       "      <td>0.1</td>\n",
       "      <td>0.95</td>\n",
       "      <td>{'alpha': 0.1, 'l1_ratio': 0.95}</td>\n",
       "      <td>-0.414665</td>\n",
       "      <td>-0.435041</td>\n",
       "      <td>-0.421125</td>\n",
       "      <td>-0.431419</td>\n",
       "      <td>-0.418826</td>\n",
       "      <td>-0.424215</td>\n",
       "      <td>0.007732</td>\n",
       "      <td>4</td>\n",
       "    </tr>\n",
       "    <tr>\n",
       "      <th>4</th>\n",
       "      <td>0.003391</td>\n",
       "      <td>4.885777e-04</td>\n",
       "      <td>0.000598</td>\n",
       "      <td>0.000489</td>\n",
       "      <td>0.1</td>\n",
       "      <td>0.99</td>\n",
       "      <td>{'alpha': 0.1, 'l1_ratio': 0.99}</td>\n",
       "      <td>-0.417213</td>\n",
       "      <td>-0.437941</td>\n",
       "      <td>-0.424010</td>\n",
       "      <td>-0.434584</td>\n",
       "      <td>-0.421418</td>\n",
       "      <td>-0.427033</td>\n",
       "      <td>0.007913</td>\n",
       "      <td>5</td>\n",
       "    </tr>\n",
       "    <tr>\n",
       "      <th>5</th>\n",
       "      <td>0.003195</td>\n",
       "      <td>7.458207e-04</td>\n",
       "      <td>0.000399</td>\n",
       "      <td>0.000489</td>\n",
       "      <td>0.1</td>\n",
       "      <td>1</td>\n",
       "      <td>{'alpha': 0.1, 'l1_ratio': 1}</td>\n",
       "      <td>-0.417869</td>\n",
       "      <td>-0.438685</td>\n",
       "      <td>-0.424751</td>\n",
       "      <td>-0.435396</td>\n",
       "      <td>-0.422085</td>\n",
       "      <td>-0.427757</td>\n",
       "      <td>0.007959</td>\n",
       "      <td>6</td>\n",
       "    </tr>\n",
       "    <tr>\n",
       "      <th>6</th>\n",
       "      <td>0.002994</td>\n",
       "      <td>6.322194e-04</td>\n",
       "      <td>0.000501</td>\n",
       "      <td>0.000446</td>\n",
       "      <td>1</td>\n",
       "      <td>0.1</td>\n",
       "      <td>{'alpha': 1, 'l1_ratio': 0.1}</td>\n",
       "      <td>-0.497453</td>\n",
       "      <td>-0.526000</td>\n",
       "      <td>-0.508688</td>\n",
       "      <td>-0.522331</td>\n",
       "      <td>-0.505910</td>\n",
       "      <td>-0.512077</td>\n",
       "      <td>0.010605</td>\n",
       "      <td>7</td>\n",
       "    </tr>\n",
       "    <tr>\n",
       "      <th>7</th>\n",
       "      <td>0.002295</td>\n",
       "      <td>3.998357e-04</td>\n",
       "      <td>0.000301</td>\n",
       "      <td>0.000400</td>\n",
       "      <td>1</td>\n",
       "      <td>0.5</td>\n",
       "      <td>{'alpha': 1, 'l1_ratio': 0.5}</td>\n",
       "      <td>-0.675475</td>\n",
       "      <td>-0.714438</td>\n",
       "      <td>-0.691531</td>\n",
       "      <td>-0.705907</td>\n",
       "      <td>-0.686527</td>\n",
       "      <td>-0.694775</td>\n",
       "      <td>0.013868</td>\n",
       "      <td>8</td>\n",
       "    </tr>\n",
       "    <tr>\n",
       "      <th>8</th>\n",
       "      <td>0.002099</td>\n",
       "      <td>4.866484e-04</td>\n",
       "      <td>0.000797</td>\n",
       "      <td>0.000399</td>\n",
       "      <td>1</td>\n",
       "      <td>0.7</td>\n",
       "      <td>{'alpha': 1, 'l1_ratio': 0.7}</td>\n",
       "      <td>-0.675475</td>\n",
       "      <td>-0.714438</td>\n",
       "      <td>-0.691531</td>\n",
       "      <td>-0.705907</td>\n",
       "      <td>-0.686527</td>\n",
       "      <td>-0.694775</td>\n",
       "      <td>0.013868</td>\n",
       "      <td>8</td>\n",
       "    </tr>\n",
       "    <tr>\n",
       "      <th>9</th>\n",
       "      <td>0.002095</td>\n",
       "      <td>2.026331e-04</td>\n",
       "      <td>0.000899</td>\n",
       "      <td>0.000197</td>\n",
       "      <td>1</td>\n",
       "      <td>0.95</td>\n",
       "      <td>{'alpha': 1, 'l1_ratio': 0.95}</td>\n",
       "      <td>-0.675475</td>\n",
       "      <td>-0.714438</td>\n",
       "      <td>-0.691531</td>\n",
       "      <td>-0.705907</td>\n",
       "      <td>-0.686527</td>\n",
       "      <td>-0.694775</td>\n",
       "      <td>0.013868</td>\n",
       "      <td>8</td>\n",
       "    </tr>\n",
       "    <tr>\n",
       "      <th>10</th>\n",
       "      <td>0.002001</td>\n",
       "      <td>7.522248e-06</td>\n",
       "      <td>0.000199</td>\n",
       "      <td>0.000399</td>\n",
       "      <td>1</td>\n",
       "      <td>0.99</td>\n",
       "      <td>{'alpha': 1, 'l1_ratio': 0.99}</td>\n",
       "      <td>-0.675475</td>\n",
       "      <td>-0.714438</td>\n",
       "      <td>-0.691531</td>\n",
       "      <td>-0.705907</td>\n",
       "      <td>-0.686527</td>\n",
       "      <td>-0.694775</td>\n",
       "      <td>0.013868</td>\n",
       "      <td>8</td>\n",
       "    </tr>\n",
       "    <tr>\n",
       "      <th>11</th>\n",
       "      <td>0.002096</td>\n",
       "      <td>2.019406e-04</td>\n",
       "      <td>0.000000</td>\n",
       "      <td>0.000000</td>\n",
       "      <td>1</td>\n",
       "      <td>1</td>\n",
       "      <td>{'alpha': 1, 'l1_ratio': 1}</td>\n",
       "      <td>-0.675475</td>\n",
       "      <td>-0.714438</td>\n",
       "      <td>-0.691531</td>\n",
       "      <td>-0.705907</td>\n",
       "      <td>-0.686527</td>\n",
       "      <td>-0.694775</td>\n",
       "      <td>0.013868</td>\n",
       "      <td>8</td>\n",
       "    </tr>\n",
       "    <tr>\n",
       "      <th>12</th>\n",
       "      <td>0.002897</td>\n",
       "      <td>1.990105e-04</td>\n",
       "      <td>0.000101</td>\n",
       "      <td>0.000203</td>\n",
       "      <td>5</td>\n",
       "      <td>0.1</td>\n",
       "      <td>{'alpha': 5, 'l1_ratio': 0.1}</td>\n",
       "      <td>-0.675475</td>\n",
       "      <td>-0.714438</td>\n",
       "      <td>-0.691531</td>\n",
       "      <td>-0.705907</td>\n",
       "      <td>-0.686527</td>\n",
       "      <td>-0.694775</td>\n",
       "      <td>0.013868</td>\n",
       "      <td>8</td>\n",
       "    </tr>\n",
       "    <tr>\n",
       "      <th>13</th>\n",
       "      <td>0.002693</td>\n",
       "      <td>3.984644e-04</td>\n",
       "      <td>0.000301</td>\n",
       "      <td>0.000400</td>\n",
       "      <td>5</td>\n",
       "      <td>0.5</td>\n",
       "      <td>{'alpha': 5, 'l1_ratio': 0.5}</td>\n",
       "      <td>-0.675475</td>\n",
       "      <td>-0.714438</td>\n",
       "      <td>-0.691531</td>\n",
       "      <td>-0.705907</td>\n",
       "      <td>-0.686527</td>\n",
       "      <td>-0.694775</td>\n",
       "      <td>0.013868</td>\n",
       "      <td>8</td>\n",
       "    </tr>\n",
       "    <tr>\n",
       "      <th>14</th>\n",
       "      <td>0.002001</td>\n",
       "      <td>7.357213e-06</td>\n",
       "      <td>0.000000</td>\n",
       "      <td>0.000000</td>\n",
       "      <td>5</td>\n",
       "      <td>0.7</td>\n",
       "      <td>{'alpha': 5, 'l1_ratio': 0.7}</td>\n",
       "      <td>-0.675475</td>\n",
       "      <td>-0.714438</td>\n",
       "      <td>-0.691531</td>\n",
       "      <td>-0.705907</td>\n",
       "      <td>-0.686527</td>\n",
       "      <td>-0.694775</td>\n",
       "      <td>0.013868</td>\n",
       "      <td>8</td>\n",
       "    </tr>\n",
       "    <tr>\n",
       "      <th>15</th>\n",
       "      <td>0.002196</td>\n",
       "      <td>3.973540e-04</td>\n",
       "      <td>0.000399</td>\n",
       "      <td>0.000489</td>\n",
       "      <td>5</td>\n",
       "      <td>0.95</td>\n",
       "      <td>{'alpha': 5, 'l1_ratio': 0.95}</td>\n",
       "      <td>-0.675475</td>\n",
       "      <td>-0.714438</td>\n",
       "      <td>-0.691531</td>\n",
       "      <td>-0.705907</td>\n",
       "      <td>-0.686527</td>\n",
       "      <td>-0.694775</td>\n",
       "      <td>0.013868</td>\n",
       "      <td>8</td>\n",
       "    </tr>\n",
       "    <tr>\n",
       "      <th>16</th>\n",
       "      <td>0.002095</td>\n",
       "      <td>2.034257e-04</td>\n",
       "      <td>0.000301</td>\n",
       "      <td>0.000400</td>\n",
       "      <td>5</td>\n",
       "      <td>0.99</td>\n",
       "      <td>{'alpha': 5, 'l1_ratio': 0.99}</td>\n",
       "      <td>-0.675475</td>\n",
       "      <td>-0.714438</td>\n",
       "      <td>-0.691531</td>\n",
       "      <td>-0.705907</td>\n",
       "      <td>-0.686527</td>\n",
       "      <td>-0.694775</td>\n",
       "      <td>0.013868</td>\n",
       "      <td>8</td>\n",
       "    </tr>\n",
       "    <tr>\n",
       "      <th>17</th>\n",
       "      <td>0.002000</td>\n",
       "      <td>6.403481e-06</td>\n",
       "      <td>0.000199</td>\n",
       "      <td>0.000399</td>\n",
       "      <td>5</td>\n",
       "      <td>1</td>\n",
       "      <td>{'alpha': 5, 'l1_ratio': 1}</td>\n",
       "      <td>-0.675475</td>\n",
       "      <td>-0.714438</td>\n",
       "      <td>-0.691531</td>\n",
       "      <td>-0.705907</td>\n",
       "      <td>-0.686527</td>\n",
       "      <td>-0.694775</td>\n",
       "      <td>0.013868</td>\n",
       "      <td>8</td>\n",
       "    </tr>\n",
       "    <tr>\n",
       "      <th>18</th>\n",
       "      <td>0.001896</td>\n",
       "      <td>1.977921e-04</td>\n",
       "      <td>0.000500</td>\n",
       "      <td>0.000446</td>\n",
       "      <td>10</td>\n",
       "      <td>0.1</td>\n",
       "      <td>{'alpha': 10, 'l1_ratio': 0.1}</td>\n",
       "      <td>-0.675475</td>\n",
       "      <td>-0.714438</td>\n",
       "      <td>-0.691531</td>\n",
       "      <td>-0.705907</td>\n",
       "      <td>-0.686527</td>\n",
       "      <td>-0.694775</td>\n",
       "      <td>0.013868</td>\n",
       "      <td>8</td>\n",
       "    </tr>\n",
       "    <tr>\n",
       "      <th>19</th>\n",
       "      <td>0.002095</td>\n",
       "      <td>2.022762e-04</td>\n",
       "      <td>0.000200</td>\n",
       "      <td>0.000399</td>\n",
       "      <td>10</td>\n",
       "      <td>0.5</td>\n",
       "      <td>{'alpha': 10, 'l1_ratio': 0.5}</td>\n",
       "      <td>-0.675475</td>\n",
       "      <td>-0.714438</td>\n",
       "      <td>-0.691531</td>\n",
       "      <td>-0.705907</td>\n",
       "      <td>-0.686527</td>\n",
       "      <td>-0.694775</td>\n",
       "      <td>0.013868</td>\n",
       "      <td>8</td>\n",
       "    </tr>\n",
       "    <tr>\n",
       "      <th>20</th>\n",
       "      <td>0.002199</td>\n",
       "      <td>3.964330e-04</td>\n",
       "      <td>0.000200</td>\n",
       "      <td>0.000399</td>\n",
       "      <td>10</td>\n",
       "      <td>0.7</td>\n",
       "      <td>{'alpha': 10, 'l1_ratio': 0.7}</td>\n",
       "      <td>-0.675475</td>\n",
       "      <td>-0.714438</td>\n",
       "      <td>-0.691531</td>\n",
       "      <td>-0.705907</td>\n",
       "      <td>-0.686527</td>\n",
       "      <td>-0.694775</td>\n",
       "      <td>0.013868</td>\n",
       "      <td>8</td>\n",
       "    </tr>\n",
       "    <tr>\n",
       "      <th>21</th>\n",
       "      <td>0.001997</td>\n",
       "      <td>4.840778e-06</td>\n",
       "      <td>0.000399</td>\n",
       "      <td>0.000489</td>\n",
       "      <td>10</td>\n",
       "      <td>0.95</td>\n",
       "      <td>{'alpha': 10, 'l1_ratio': 0.95}</td>\n",
       "      <td>-0.675475</td>\n",
       "      <td>-0.714438</td>\n",
       "      <td>-0.691531</td>\n",
       "      <td>-0.705907</td>\n",
       "      <td>-0.686527</td>\n",
       "      <td>-0.694775</td>\n",
       "      <td>0.013868</td>\n",
       "      <td>8</td>\n",
       "    </tr>\n",
       "    <tr>\n",
       "      <th>22</th>\n",
       "      <td>0.002096</td>\n",
       "      <td>4.875862e-04</td>\n",
       "      <td>0.000199</td>\n",
       "      <td>0.000399</td>\n",
       "      <td>10</td>\n",
       "      <td>0.99</td>\n",
       "      <td>{'alpha': 10, 'l1_ratio': 0.99}</td>\n",
       "      <td>-0.675475</td>\n",
       "      <td>-0.714438</td>\n",
       "      <td>-0.691531</td>\n",
       "      <td>-0.705907</td>\n",
       "      <td>-0.686527</td>\n",
       "      <td>-0.694775</td>\n",
       "      <td>0.013868</td>\n",
       "      <td>8</td>\n",
       "    </tr>\n",
       "    <tr>\n",
       "      <th>23</th>\n",
       "      <td>0.002099</td>\n",
       "      <td>2.021768e-04</td>\n",
       "      <td>0.000301</td>\n",
       "      <td>0.000400</td>\n",
       "      <td>10</td>\n",
       "      <td>1</td>\n",
       "      <td>{'alpha': 10, 'l1_ratio': 1}</td>\n",
       "      <td>-0.675475</td>\n",
       "      <td>-0.714438</td>\n",
       "      <td>-0.691531</td>\n",
       "      <td>-0.705907</td>\n",
       "      <td>-0.686527</td>\n",
       "      <td>-0.694775</td>\n",
       "      <td>0.013868</td>\n",
       "      <td>8</td>\n",
       "    </tr>\n",
       "    <tr>\n",
       "      <th>24</th>\n",
       "      <td>0.001997</td>\n",
       "      <td>5.810765e-06</td>\n",
       "      <td>0.000399</td>\n",
       "      <td>0.000489</td>\n",
       "      <td>50</td>\n",
       "      <td>0.1</td>\n",
       "      <td>{'alpha': 50, 'l1_ratio': 0.1}</td>\n",
       "      <td>-0.675475</td>\n",
       "      <td>-0.714438</td>\n",
       "      <td>-0.691531</td>\n",
       "      <td>-0.705907</td>\n",
       "      <td>-0.686527</td>\n",
       "      <td>-0.694775</td>\n",
       "      <td>0.013868</td>\n",
       "      <td>8</td>\n",
       "    </tr>\n",
       "    <tr>\n",
       "      <th>25</th>\n",
       "      <td>0.001997</td>\n",
       "      <td>4.866076e-06</td>\n",
       "      <td>0.000399</td>\n",
       "      <td>0.000489</td>\n",
       "      <td>50</td>\n",
       "      <td>0.5</td>\n",
       "      <td>{'alpha': 50, 'l1_ratio': 0.5}</td>\n",
       "      <td>-0.675475</td>\n",
       "      <td>-0.714438</td>\n",
       "      <td>-0.691531</td>\n",
       "      <td>-0.705907</td>\n",
       "      <td>-0.686527</td>\n",
       "      <td>-0.694775</td>\n",
       "      <td>0.013868</td>\n",
       "      <td>8</td>\n",
       "    </tr>\n",
       "    <tr>\n",
       "      <th>26</th>\n",
       "      <td>0.002095</td>\n",
       "      <td>4.875574e-04</td>\n",
       "      <td>0.000101</td>\n",
       "      <td>0.000202</td>\n",
       "      <td>50</td>\n",
       "      <td>0.7</td>\n",
       "      <td>{'alpha': 50, 'l1_ratio': 0.7}</td>\n",
       "      <td>-0.675475</td>\n",
       "      <td>-0.714438</td>\n",
       "      <td>-0.691531</td>\n",
       "      <td>-0.705907</td>\n",
       "      <td>-0.686527</td>\n",
       "      <td>-0.694775</td>\n",
       "      <td>0.013868</td>\n",
       "      <td>8</td>\n",
       "    </tr>\n",
       "    <tr>\n",
       "      <th>27</th>\n",
       "      <td>0.002297</td>\n",
       "      <td>3.964801e-04</td>\n",
       "      <td>0.000399</td>\n",
       "      <td>0.000489</td>\n",
       "      <td>50</td>\n",
       "      <td>0.95</td>\n",
       "      <td>{'alpha': 50, 'l1_ratio': 0.95}</td>\n",
       "      <td>-0.675475</td>\n",
       "      <td>-0.714438</td>\n",
       "      <td>-0.691531</td>\n",
       "      <td>-0.705907</td>\n",
       "      <td>-0.686527</td>\n",
       "      <td>-0.694775</td>\n",
       "      <td>0.013868</td>\n",
       "      <td>8</td>\n",
       "    </tr>\n",
       "    <tr>\n",
       "      <th>28</th>\n",
       "      <td>0.001997</td>\n",
       "      <td>5.557966e-06</td>\n",
       "      <td>0.000199</td>\n",
       "      <td>0.000399</td>\n",
       "      <td>50</td>\n",
       "      <td>0.99</td>\n",
       "      <td>{'alpha': 50, 'l1_ratio': 0.99}</td>\n",
       "      <td>-0.675475</td>\n",
       "      <td>-0.714438</td>\n",
       "      <td>-0.691531</td>\n",
       "      <td>-0.705907</td>\n",
       "      <td>-0.686527</td>\n",
       "      <td>-0.694775</td>\n",
       "      <td>0.013868</td>\n",
       "      <td>8</td>\n",
       "    </tr>\n",
       "    <tr>\n",
       "      <th>29</th>\n",
       "      <td>0.001998</td>\n",
       "      <td>8.024477e-06</td>\n",
       "      <td>0.000500</td>\n",
       "      <td>0.000446</td>\n",
       "      <td>50</td>\n",
       "      <td>1</td>\n",
       "      <td>{'alpha': 50, 'l1_ratio': 1}</td>\n",
       "      <td>-0.675475</td>\n",
       "      <td>-0.714438</td>\n",
       "      <td>-0.691531</td>\n",
       "      <td>-0.705907</td>\n",
       "      <td>-0.686527</td>\n",
       "      <td>-0.694775</td>\n",
       "      <td>0.013868</td>\n",
       "      <td>8</td>\n",
       "    </tr>\n",
       "    <tr>\n",
       "      <th>30</th>\n",
       "      <td>0.001997</td>\n",
       "      <td>5.564099e-06</td>\n",
       "      <td>0.000798</td>\n",
       "      <td>0.000399</td>\n",
       "      <td>100</td>\n",
       "      <td>0.1</td>\n",
       "      <td>{'alpha': 100, 'l1_ratio': 0.1}</td>\n",
       "      <td>-0.675475</td>\n",
       "      <td>-0.714438</td>\n",
       "      <td>-0.691531</td>\n",
       "      <td>-0.705907</td>\n",
       "      <td>-0.686527</td>\n",
       "      <td>-0.694775</td>\n",
       "      <td>0.013868</td>\n",
       "      <td>8</td>\n",
       "    </tr>\n",
       "    <tr>\n",
       "      <th>31</th>\n",
       "      <td>0.002099</td>\n",
       "      <td>2.032183e-04</td>\n",
       "      <td>0.000102</td>\n",
       "      <td>0.000203</td>\n",
       "      <td>100</td>\n",
       "      <td>0.5</td>\n",
       "      <td>{'alpha': 100, 'l1_ratio': 0.5}</td>\n",
       "      <td>-0.675475</td>\n",
       "      <td>-0.714438</td>\n",
       "      <td>-0.691531</td>\n",
       "      <td>-0.705907</td>\n",
       "      <td>-0.686527</td>\n",
       "      <td>-0.694775</td>\n",
       "      <td>0.013868</td>\n",
       "      <td>8</td>\n",
       "    </tr>\n",
       "    <tr>\n",
       "      <th>32</th>\n",
       "      <td>0.001995</td>\n",
       "      <td>4.422006e-07</td>\n",
       "      <td>0.000598</td>\n",
       "      <td>0.000489</td>\n",
       "      <td>100</td>\n",
       "      <td>0.7</td>\n",
       "      <td>{'alpha': 100, 'l1_ratio': 0.7}</td>\n",
       "      <td>-0.675475</td>\n",
       "      <td>-0.714438</td>\n",
       "      <td>-0.691531</td>\n",
       "      <td>-0.705907</td>\n",
       "      <td>-0.686527</td>\n",
       "      <td>-0.694775</td>\n",
       "      <td>0.013868</td>\n",
       "      <td>8</td>\n",
       "    </tr>\n",
       "    <tr>\n",
       "      <th>33</th>\n",
       "      <td>0.001995</td>\n",
       "      <td>2.431402e-07</td>\n",
       "      <td>0.000598</td>\n",
       "      <td>0.000489</td>\n",
       "      <td>100</td>\n",
       "      <td>0.95</td>\n",
       "      <td>{'alpha': 100, 'l1_ratio': 0.95}</td>\n",
       "      <td>-0.675475</td>\n",
       "      <td>-0.714438</td>\n",
       "      <td>-0.691531</td>\n",
       "      <td>-0.705907</td>\n",
       "      <td>-0.686527</td>\n",
       "      <td>-0.694775</td>\n",
       "      <td>0.013868</td>\n",
       "      <td>8</td>\n",
       "    </tr>\n",
       "    <tr>\n",
       "      <th>34</th>\n",
       "      <td>0.002793</td>\n",
       "      <td>3.992321e-04</td>\n",
       "      <td>0.000000</td>\n",
       "      <td>0.000000</td>\n",
       "      <td>100</td>\n",
       "      <td>0.99</td>\n",
       "      <td>{'alpha': 100, 'l1_ratio': 0.99}</td>\n",
       "      <td>-0.675475</td>\n",
       "      <td>-0.714438</td>\n",
       "      <td>-0.691531</td>\n",
       "      <td>-0.705907</td>\n",
       "      <td>-0.686527</td>\n",
       "      <td>-0.694775</td>\n",
       "      <td>0.013868</td>\n",
       "      <td>8</td>\n",
       "    </tr>\n",
       "    <tr>\n",
       "      <th>35</th>\n",
       "      <td>0.002393</td>\n",
       "      <td>4.887139e-04</td>\n",
       "      <td>0.000798</td>\n",
       "      <td>0.000399</td>\n",
       "      <td>100</td>\n",
       "      <td>1</td>\n",
       "      <td>{'alpha': 100, 'l1_ratio': 1}</td>\n",
       "      <td>-0.675475</td>\n",
       "      <td>-0.714438</td>\n",
       "      <td>-0.691531</td>\n",
       "      <td>-0.705907</td>\n",
       "      <td>-0.686527</td>\n",
       "      <td>-0.694775</td>\n",
       "      <td>0.013868</td>\n",
       "      <td>8</td>\n",
       "    </tr>\n",
       "  </tbody>\n",
       "</table>\n",
       "</div>"
      ],
      "text/plain": [
       "    mean_fit_time  std_fit_time  mean_score_time  std_score_time param_alpha  \\\n",
       "0        0.003590  7.979871e-04         0.000000        0.000000         0.1   \n",
       "1        0.002793  3.990650e-04         0.000200        0.000399         0.1   \n",
       "2        0.003192  3.989458e-04         0.000199        0.000399         0.1   \n",
       "3        0.002992  1.784161e-07         0.000399        0.000488         0.1   \n",
       "4        0.003391  4.885777e-04         0.000598        0.000489         0.1   \n",
       "5        0.003195  7.458207e-04         0.000399        0.000489         0.1   \n",
       "6        0.002994  6.322194e-04         0.000501        0.000446           1   \n",
       "7        0.002295  3.998357e-04         0.000301        0.000400           1   \n",
       "8        0.002099  4.866484e-04         0.000797        0.000399           1   \n",
       "9        0.002095  2.026331e-04         0.000899        0.000197           1   \n",
       "10       0.002001  7.522248e-06         0.000199        0.000399           1   \n",
       "11       0.002096  2.019406e-04         0.000000        0.000000           1   \n",
       "12       0.002897  1.990105e-04         0.000101        0.000203           5   \n",
       "13       0.002693  3.984644e-04         0.000301        0.000400           5   \n",
       "14       0.002001  7.357213e-06         0.000000        0.000000           5   \n",
       "15       0.002196  3.973540e-04         0.000399        0.000489           5   \n",
       "16       0.002095  2.034257e-04         0.000301        0.000400           5   \n",
       "17       0.002000  6.403481e-06         0.000199        0.000399           5   \n",
       "18       0.001896  1.977921e-04         0.000500        0.000446          10   \n",
       "19       0.002095  2.022762e-04         0.000200        0.000399          10   \n",
       "20       0.002199  3.964330e-04         0.000200        0.000399          10   \n",
       "21       0.001997  4.840778e-06         0.000399        0.000489          10   \n",
       "22       0.002096  4.875862e-04         0.000199        0.000399          10   \n",
       "23       0.002099  2.021768e-04         0.000301        0.000400          10   \n",
       "24       0.001997  5.810765e-06         0.000399        0.000489          50   \n",
       "25       0.001997  4.866076e-06         0.000399        0.000489          50   \n",
       "26       0.002095  4.875574e-04         0.000101        0.000202          50   \n",
       "27       0.002297  3.964801e-04         0.000399        0.000489          50   \n",
       "28       0.001997  5.557966e-06         0.000199        0.000399          50   \n",
       "29       0.001998  8.024477e-06         0.000500        0.000446          50   \n",
       "30       0.001997  5.564099e-06         0.000798        0.000399         100   \n",
       "31       0.002099  2.032183e-04         0.000102        0.000203         100   \n",
       "32       0.001995  4.422006e-07         0.000598        0.000489         100   \n",
       "33       0.001995  2.431402e-07         0.000598        0.000489         100   \n",
       "34       0.002793  3.992321e-04         0.000000        0.000000         100   \n",
       "35       0.002393  4.887139e-04         0.000798        0.000399         100   \n",
       "\n",
       "   param_l1_ratio                            params  split0_test_score  \\\n",
       "0             0.1   {'alpha': 0.1, 'l1_ratio': 0.1}          -0.357106   \n",
       "1             0.5   {'alpha': 0.1, 'l1_ratio': 0.5}          -0.382091   \n",
       "2             0.7   {'alpha': 0.1, 'l1_ratio': 0.7}          -0.395620   \n",
       "3            0.95  {'alpha': 0.1, 'l1_ratio': 0.95}          -0.414665   \n",
       "4            0.99  {'alpha': 0.1, 'l1_ratio': 0.99}          -0.417213   \n",
       "5               1     {'alpha': 0.1, 'l1_ratio': 1}          -0.417869   \n",
       "6             0.1     {'alpha': 1, 'l1_ratio': 0.1}          -0.497453   \n",
       "7             0.5     {'alpha': 1, 'l1_ratio': 0.5}          -0.675475   \n",
       "8             0.7     {'alpha': 1, 'l1_ratio': 0.7}          -0.675475   \n",
       "9            0.95    {'alpha': 1, 'l1_ratio': 0.95}          -0.675475   \n",
       "10           0.99    {'alpha': 1, 'l1_ratio': 0.99}          -0.675475   \n",
       "11              1       {'alpha': 1, 'l1_ratio': 1}          -0.675475   \n",
       "12            0.1     {'alpha': 5, 'l1_ratio': 0.1}          -0.675475   \n",
       "13            0.5     {'alpha': 5, 'l1_ratio': 0.5}          -0.675475   \n",
       "14            0.7     {'alpha': 5, 'l1_ratio': 0.7}          -0.675475   \n",
       "15           0.95    {'alpha': 5, 'l1_ratio': 0.95}          -0.675475   \n",
       "16           0.99    {'alpha': 5, 'l1_ratio': 0.99}          -0.675475   \n",
       "17              1       {'alpha': 5, 'l1_ratio': 1}          -0.675475   \n",
       "18            0.1    {'alpha': 10, 'l1_ratio': 0.1}          -0.675475   \n",
       "19            0.5    {'alpha': 10, 'l1_ratio': 0.5}          -0.675475   \n",
       "20            0.7    {'alpha': 10, 'l1_ratio': 0.7}          -0.675475   \n",
       "21           0.95   {'alpha': 10, 'l1_ratio': 0.95}          -0.675475   \n",
       "22           0.99   {'alpha': 10, 'l1_ratio': 0.99}          -0.675475   \n",
       "23              1      {'alpha': 10, 'l1_ratio': 1}          -0.675475   \n",
       "24            0.1    {'alpha': 50, 'l1_ratio': 0.1}          -0.675475   \n",
       "25            0.5    {'alpha': 50, 'l1_ratio': 0.5}          -0.675475   \n",
       "26            0.7    {'alpha': 50, 'l1_ratio': 0.7}          -0.675475   \n",
       "27           0.95   {'alpha': 50, 'l1_ratio': 0.95}          -0.675475   \n",
       "28           0.99   {'alpha': 50, 'l1_ratio': 0.99}          -0.675475   \n",
       "29              1      {'alpha': 50, 'l1_ratio': 1}          -0.675475   \n",
       "30            0.1   {'alpha': 100, 'l1_ratio': 0.1}          -0.675475   \n",
       "31            0.5   {'alpha': 100, 'l1_ratio': 0.5}          -0.675475   \n",
       "32            0.7   {'alpha': 100, 'l1_ratio': 0.7}          -0.675475   \n",
       "33           0.95  {'alpha': 100, 'l1_ratio': 0.95}          -0.675475   \n",
       "34           0.99  {'alpha': 100, 'l1_ratio': 0.99}          -0.675475   \n",
       "35              1     {'alpha': 100, 'l1_ratio': 1}          -0.675475   \n",
       "\n",
       "    split1_test_score  split2_test_score  split3_test_score  \\\n",
       "0           -0.370210          -0.358887          -0.363431   \n",
       "1           -0.397682          -0.384751          -0.392718   \n",
       "2           -0.413825          -0.399596          -0.408323   \n",
       "3           -0.435041          -0.421125          -0.431419   \n",
       "4           -0.437941          -0.424010          -0.434584   \n",
       "5           -0.438685          -0.424751          -0.435396   \n",
       "6           -0.526000          -0.508688          -0.522331   \n",
       "7           -0.714438          -0.691531          -0.705907   \n",
       "8           -0.714438          -0.691531          -0.705907   \n",
       "9           -0.714438          -0.691531          -0.705907   \n",
       "10          -0.714438          -0.691531          -0.705907   \n",
       "11          -0.714438          -0.691531          -0.705907   \n",
       "12          -0.714438          -0.691531          -0.705907   \n",
       "13          -0.714438          -0.691531          -0.705907   \n",
       "14          -0.714438          -0.691531          -0.705907   \n",
       "15          -0.714438          -0.691531          -0.705907   \n",
       "16          -0.714438          -0.691531          -0.705907   \n",
       "17          -0.714438          -0.691531          -0.705907   \n",
       "18          -0.714438          -0.691531          -0.705907   \n",
       "19          -0.714438          -0.691531          -0.705907   \n",
       "20          -0.714438          -0.691531          -0.705907   \n",
       "21          -0.714438          -0.691531          -0.705907   \n",
       "22          -0.714438          -0.691531          -0.705907   \n",
       "23          -0.714438          -0.691531          -0.705907   \n",
       "24          -0.714438          -0.691531          -0.705907   \n",
       "25          -0.714438          -0.691531          -0.705907   \n",
       "26          -0.714438          -0.691531          -0.705907   \n",
       "27          -0.714438          -0.691531          -0.705907   \n",
       "28          -0.714438          -0.691531          -0.705907   \n",
       "29          -0.714438          -0.691531          -0.705907   \n",
       "30          -0.714438          -0.691531          -0.705907   \n",
       "31          -0.714438          -0.691531          -0.705907   \n",
       "32          -0.714438          -0.691531          -0.705907   \n",
       "33          -0.714438          -0.691531          -0.705907   \n",
       "34          -0.714438          -0.691531          -0.705907   \n",
       "35          -0.714438          -0.691531          -0.705907   \n",
       "\n",
       "    split4_test_score  mean_test_score  std_test_score  rank_test_score  \n",
       "0           -0.357015        -0.361330        0.005014                1  \n",
       "1           -0.385469        -0.388542        0.005769                2  \n",
       "2           -0.399397        -0.403352        0.006692                3  \n",
       "3           -0.418826        -0.424215        0.007732                4  \n",
       "4           -0.421418        -0.427033        0.007913                5  \n",
       "5           -0.422085        -0.427757        0.007959                6  \n",
       "6           -0.505910        -0.512077        0.010605                7  \n",
       "7           -0.686527        -0.694775        0.013868                8  \n",
       "8           -0.686527        -0.694775        0.013868                8  \n",
       "9           -0.686527        -0.694775        0.013868                8  \n",
       "10          -0.686527        -0.694775        0.013868                8  \n",
       "11          -0.686527        -0.694775        0.013868                8  \n",
       "12          -0.686527        -0.694775        0.013868                8  \n",
       "13          -0.686527        -0.694775        0.013868                8  \n",
       "14          -0.686527        -0.694775        0.013868                8  \n",
       "15          -0.686527        -0.694775        0.013868                8  \n",
       "16          -0.686527        -0.694775        0.013868                8  \n",
       "17          -0.686527        -0.694775        0.013868                8  \n",
       "18          -0.686527        -0.694775        0.013868                8  \n",
       "19          -0.686527        -0.694775        0.013868                8  \n",
       "20          -0.686527        -0.694775        0.013868                8  \n",
       "21          -0.686527        -0.694775        0.013868                8  \n",
       "22          -0.686527        -0.694775        0.013868                8  \n",
       "23          -0.686527        -0.694775        0.013868                8  \n",
       "24          -0.686527        -0.694775        0.013868                8  \n",
       "25          -0.686527        -0.694775        0.013868                8  \n",
       "26          -0.686527        -0.694775        0.013868                8  \n",
       "27          -0.686527        -0.694775        0.013868                8  \n",
       "28          -0.686527        -0.694775        0.013868                8  \n",
       "29          -0.686527        -0.694775        0.013868                8  \n",
       "30          -0.686527        -0.694775        0.013868                8  \n",
       "31          -0.686527        -0.694775        0.013868                8  \n",
       "32          -0.686527        -0.694775        0.013868                8  \n",
       "33          -0.686527        -0.694775        0.013868                8  \n",
       "34          -0.686527        -0.694775        0.013868                8  \n",
       "35          -0.686527        -0.694775        0.013868                8  "
      ]
     },
     "execution_count": 45,
     "metadata": {},
     "output_type": "execute_result"
    }
   ],
   "source": [
    "# Info on all of the different combinations of alpha and l1_ratio values\n",
    "pd.DataFrame(grid_model.cv_results_)"
   ]
  },
  {
   "cell_type": "code",
   "execution_count": 46,
   "id": "6d68de69",
   "metadata": {},
   "outputs": [],
   "source": [
    "elastic_net_model_preds = grid_model.predict(X_test)"
   ]
  },
  {
   "cell_type": "code",
   "execution_count": 47,
   "id": "82d17c7e",
   "metadata": {},
   "outputs": [
    {
     "name": "stdout",
     "output_type": "stream",
     "text": [
      "Ridge regression MSE: 0.34387560853505533\n",
      "LASSO regression MSE: 0.3639258450525791\n",
      "Elastic Net regression MSE: 0.3519661379600024\n"
     ]
    }
   ],
   "source": [
    "print(f\"Ridge regression MSE: {mean_squared_error(y_test, ridge_cv_preds)}\")\n",
    "print(f\"LASSO regression MSE: {mean_squared_error(y_test, lasso_cv_preds)}\")\n",
    "print(f\"Elastic Net regression MSE: {mean_squared_error(y_test, elastic_net_model_preds)}\")"
   ]
  },
  {
   "cell_type": "markdown",
   "id": "cc5ac6ae",
   "metadata": {},
   "source": [
    "- **Ridge** regression seems to have the lowest error."
   ]
  },
  {
   "cell_type": "markdown",
   "id": "ad692dcf",
   "metadata": {},
   "source": [
    "<br>"
   ]
  },
  {
   "cell_type": "markdown",
   "id": "aff1b0e6",
   "metadata": {},
   "source": [
    "# <center>Polynomial Regression<center>"
   ]
  },
  {
   "cell_type": "markdown",
   "id": "3c13201b",
   "metadata": {},
   "source": [
    "While polynomial regression is considered a form of linear regression in terms of the relationship between the coefficients and the variables, it can model non-linear relationships between the independent variable(s) and the dependent variable. The term \"linear\" in this context refers to the linearity of the coefficients, not the shape of the regression curve (which is not linear for degree > 1).\n",
    "\n",
    "Scikit-learn comes with a preprocessing library containing many useful tools to apply to the original data set **before** training the model. One of these tools is the **PolynomialFeatures**, which automatically creates both higher order feature polynomials, and the interaction terms between all the feature combinations.\n",
    "- With an interaction term we can try and answer the question \"what happens if two features are only significant when they're in sync with one another?\".\n",
    "- https://scikit-learn.org/stable/modules/generated/sklearn.preprocessing.PolynomialFeatures.html"
   ]
  },
  {
   "cell_type": "markdown",
   "id": "363e6191",
   "metadata": {},
   "source": [
    "**Choosing the Degree of Polynomial**"
   ]
  },
  {
   "cell_type": "markdown",
   "id": "bf51eed8",
   "metadata": {},
   "source": [
    "We can create a loop that creates all those different models for the various polynomial degrees, train them, calculate the error metrics (for both our training data and test data), and then visually see where we begin to spike on the test error and where we continue to decline on the training error.\n",
    "- This way we can choose the optimal polynomial degree without accidentally overfitting."
   ]
  },
  {
   "cell_type": "code",
   "execution_count": 48,
   "id": "fa5d8473",
   "metadata": {},
   "outputs": [],
   "source": [
    "from sklearn.preprocessing import PolynomialFeatures\n",
    "from sklearn.preprocessing import StandardScaler\n",
    "from sklearn.model_selection import train_test_split\n",
    "from sklearn.linear_model import LinearRegression\n",
    "from sklearn.metrics import mean_squared_error\n",
    "\n",
    "# input variables\n",
    "X = df[:, :-1]\n",
    "# output variable\n",
    "y = df[:, -1]\n",
    "\n",
    "train_errors = []\n",
    "test_errors = []\n",
    "\n",
    "for d in range(1, 6):\n",
    "    \n",
    "    p_converter = PolynomialFeatures(degree=d, include_bias=False)\n",
    "    p_features = p_converter.fit_transform(X)\n",
    "    \n",
    "    X_train, X_test, y_train, y_test = train_test_split(p_features, \n",
    "                                                        y, \n",
    "                                                        test_size=0.3, \n",
    "                                                        random_state=42)\n",
    "    \n",
    "    scaler = StandardScaler()\n",
    "    scaler.fit(X_train)\n",
    "    X_train = scaler.transform(X_train)\n",
    "    X_test = scaler.transform(X_test)\n",
    "    \n",
    "    polynomial_model = LinearRegression()\n",
    "    polynomial_model.fit(X_train, y_train)\n",
    "    \n",
    "    train_pred = polynomial_model.predict(X_train)\n",
    "    test_pred = polynomial_model.predict(X_test)\n",
    "    \n",
    "    train_mse = mean_squared_error(y_train, train_pred)\n",
    "    test_mse = mean_squared_error(y_test, test_pred)\n",
    "    \n",
    "    train_errors.append(train_mse)\n",
    "    test_errors.append(test_mse)"
   ]
  },
  {
   "cell_type": "code",
   "execution_count": 49,
   "id": "f0ae25d2",
   "metadata": {},
   "outputs": [
    {
     "data": {
      "image/png": "[encoded data removed]",
      "text/plain": [
       "<Figure size 600x400 with 1 Axes>"
      ]
     },
     "metadata": {
      "needs_background": "light"
     },
     "output_type": "display_data"
    }
   ],
   "source": [
    "plt.figure(figsize=(6, 4), dpi=100)\n",
    "\n",
    "plt.plot(range(1, 6) ,train_errors, label=\"TRAIN MSE\")\n",
    "plt.plot(range(1, 6) ,test_errors, label=\"TEST MSE\")\n",
    "\n",
    "plt.xlim(1, 5)\n",
    "plt.ylabel(\"MSE\")\n",
    "plt.xlabel(\"Degree of Polynomial\")\n",
    "plt.legend();"
   ]
  },
  {
   "cell_type": "markdown",
   "id": "fc3e7ac5",
   "metadata": {},
   "source": [
    "- It looks like that when the degree of the polynomial is around 4, the test MSE begins to spike.\n",
    "    \n",
    "    $\\boldsymbol{\\rightarrow} \\,$ Let's choose 4 as the degree of the polynomial for the model."
   ]
  },
  {
   "cell_type": "code",
   "execution_count": 50,
   "id": "124f984f",
   "metadata": {},
   "outputs": [],
   "source": [
    "final_p_converter = PolynomialFeatures(degree=4, include_bias=False)"
   ]
  },
  {
   "cell_type": "code",
   "execution_count": 51,
   "id": "eb365bb4",
   "metadata": {},
   "outputs": [],
   "source": [
    "final_p_model = LinearRegression()"
   ]
  },
  {
   "cell_type": "code",
   "execution_count": 52,
   "id": "28a51a3a",
   "metadata": {},
   "outputs": [],
   "source": [
    "converted_X = final_p_converter.fit_transform(X)"
   ]
  },
  {
   "cell_type": "code",
   "execution_count": 53,
   "id": "fff404f4",
   "metadata": {},
   "outputs": [
    {
     "name": "stdout",
     "output_type": "stream",
     "text": [
      "(30000, 11)\n",
      "(30000, 1364)\n"
     ]
    }
   ],
   "source": [
    "print(X.shape)\n",
    "print(converted_X.shape)"
   ]
  },
  {
   "cell_type": "markdown",
   "id": "6016fec6",
   "metadata": {},
   "source": [
    "- As seen above, when degree=4, a large amount of features are generated."
   ]
  },
  {
   "cell_type": "code",
   "execution_count": 54,
   "id": "d88b486f",
   "metadata": {},
   "outputs": [],
   "source": [
    "X_train, X_test, y_train, y_test = train_test_split(converted_X, \n",
    "                                                    y, \n",
    "                                                    test_size=0.3, \n",
    "                                                    random_state=42)"
   ]
  },
  {
   "cell_type": "code",
   "execution_count": 55,
   "id": "382c5c8e",
   "metadata": {},
   "outputs": [
    {
     "name": "stdout",
     "output_type": "stream",
     "text": [
      "X_train dimensions: (21000, 1364)\n",
      "y_train dimensions: (21000,)\n",
      "X_test dimensions: (9000, 1364)\n",
      "y_test dimensions: (9000,)\n"
     ]
    }
   ],
   "source": [
    "print(f\"X_train dimensions: {X_train.shape}\")\n",
    "print(f\"y_train dimensions: {y_train.shape}\")\n",
    "print(f\"X_test dimensions: {X_test.shape}\")\n",
    "print(f\"y_test dimensions: {y_test.shape}\")"
   ]
  },
  {
   "cell_type": "code",
   "execution_count": 56,
   "id": "c3d099b4",
   "metadata": {},
   "outputs": [
    {
     "data": {
      "text/plain": [
       "LinearRegression()"
      ]
     },
     "execution_count": 56,
     "metadata": {},
     "output_type": "execute_result"
    }
   ],
   "source": [
    "final_p_model.fit(X_train, y_train)"
   ]
  },
  {
   "cell_type": "code",
   "execution_count": 57,
   "id": "1bffb175",
   "metadata": {},
   "outputs": [],
   "source": [
    "label_pred = final_p_model.predict(X_test)"
   ]
  },
  {
   "cell_type": "code",
   "execution_count": 58,
   "id": "7a0154b2",
   "metadata": {},
   "outputs": [
    {
     "data": {
      "text/plain": [
       "0.5965946288172969"
      ]
     },
     "execution_count": 58,
     "metadata": {},
     "output_type": "execute_result"
    }
   ],
   "source": [
    "mean_squared_error(y_test, label_pred)"
   ]
  },
  {
   "cell_type": "code",
   "execution_count": 59,
   "id": "56320888",
   "metadata": {},
   "outputs": [
    {
     "name": "stdout",
     "output_type": "stream",
     "text": [
      "Ridge regression MSE: 0.34387560853505533\n",
      "LASSO regression MSE: 0.3639258450525791\n",
      "Elastic Net regression MSE: 0.3519661379600024\n",
      "Polynomial regression MSE: 0.5965946288172969\n"
     ]
    }
   ],
   "source": [
    "print(f\"Ridge regression MSE: {mean_squared_error(y_test, ridge_cv_preds)}\")\n",
    "print(f\"LASSO regression MSE: {mean_squared_error(y_test, lasso_cv_preds)}\")\n",
    "print(f\"Elastic Net regression MSE: {mean_squared_error(y_test, elastic_net_model_preds)}\")\n",
    "print(f\"Polynomial regression MSE: {mean_squared_error(y_test, label_pred)}\")"
   ]
  },
  {
   "cell_type": "markdown",
   "id": "9a8f247a",
   "metadata": {},
   "source": [
    "- The polynomial regression performs the worst."
   ]
  },
  {
   "cell_type": "markdown",
   "id": "a367217e",
   "metadata": {},
   "source": [
    "So far we've evaluated the performances of linear models. Next, we're going to evaluate non-linear models."
   ]
  },
  {
   "cell_type": "markdown",
   "id": "d61d9404",
   "metadata": {},
   "source": [
    "<br>"
   ]
  },
  {
   "cell_type": "markdown",
   "id": "2ce9941d",
   "metadata": {},
   "source": [
    "# <center>Support Vector Regression<center>"
   ]
  },
  {
   "cell_type": "markdown",
   "id": "f28e4958",
   "metadata": {},
   "source": [
    "**Support Vector Regression (SVR)** is a type of machine learning algorithm used for regression analysis. The goal of SVR is to find a function that approximates the relationship between the input variables and a continuous target variable, while minimizing the prediction error."
   ]
  },
  {
   "cell_type": "code",
   "execution_count": 63,
   "id": "3768dfde",
   "metadata": {},
   "outputs": [],
   "source": [
    "X = df[:, :-1]\n",
    "y = df[:, -1]"
   ]
  },
  {
   "cell_type": "code",
   "execution_count": 70,
   "id": "4e06c6f9",
   "metadata": {},
   "outputs": [],
   "source": [
    "X_train, X_test, y_train, y_test = train_test_split(X, \n",
    "                                                    y, \n",
    "                                                    test_size=0.3, \n",
    "                                                    random_state=42)"
   ]
  },
  {
   "cell_type": "code",
   "execution_count": 71,
   "id": "18e01f21",
   "metadata": {},
   "outputs": [
    {
     "name": "stdout",
     "output_type": "stream",
     "text": [
      "Shape of X_train: (21000, 11)\n",
      "Shape of y_train: (21000,)\n",
      "Shape of X_test: (9000, 11)\n",
      "Shape of y_test: (9000,)\n"
     ]
    }
   ],
   "source": [
    "print(f\"Shape of X_train: {X_train.shape}\")\n",
    "print(f\"Shape of y_train: {y_train.shape}\")\n",
    "print(f\"Shape of X_test: {X_test.shape}\")\n",
    "print(f\"Shape of y_test: {y_test.shape}\")"
   ]
  },
  {
   "cell_type": "code",
   "execution_count": 74,
   "id": "17c4fbb4",
   "metadata": {},
   "outputs": [],
   "source": [
    "# SCALING\n",
    "\n",
    "scaler = StandardScaler()\n",
    "scaler.fit(X_train)\n",
    "\n",
    "scaled_X_train = scaler.transform(X_train)\n",
    "scaled_X_test = scaler.transform(X_test)"
   ]
  },
  {
   "cell_type": "code",
   "execution_count": 77,
   "id": "3c9fc53b",
   "metadata": {},
   "outputs": [],
   "source": [
    "# If you already know that you're going to use a linear kernel,\n",
    "# then you should use LinearSVR, since it's computationally faster than SVR for linear kernel.\n",
    "# The downside is that you can't explore any other kernel functions with LinearSVR.\n",
    "from sklearn.svm import SVR"
   ]
  },
  {
   "cell_type": "code",
   "execution_count": 78,
   "id": "f2475544",
   "metadata": {},
   "outputs": [],
   "source": [
    "# Let's create a base model for SVR with the default parameters\n",
    "base_svr = SVR()"
   ]
  },
  {
   "cell_type": "code",
   "execution_count": 79,
   "id": "bfbedf36",
   "metadata": {},
   "outputs": [
    {
     "data": {
      "text/plain": [
       "SVR()"
      ]
     },
     "execution_count": 79,
     "metadata": {},
     "output_type": "execute_result"
    }
   ],
   "source": [
    "# Fit the model on the TRAINING data\n",
    "base_svr.fit(scaled_X_train, y_train)"
   ]
  },
  {
   "cell_type": "code",
   "execution_count": 81,
   "id": "7787e310",
   "metadata": {},
   "outputs": [],
   "source": [
    "base_preds = base_svr.predict(scaled_X_test)"
   ]
  },
  {
   "cell_type": "code",
   "execution_count": 82,
   "id": "209d1534",
   "metadata": {},
   "outputs": [
    {
     "data": {
      "text/plain": [
       "0.2840899189291586"
      ]
     },
     "execution_count": 82,
     "metadata": {},
     "output_type": "execute_result"
    }
   ],
   "source": [
    "# Evaluate performance\n",
    "mean_squared_error(y_test, base_preds)"
   ]
  },
  {
   "cell_type": "markdown",
   "id": "6c9343a3",
   "metadata": {},
   "source": [
    "- As one can see, SVR with the default settings (without grid search) performs better than any of the linear models.\n",
    "- Now, since this was just the base model, we're going to want to improve on this by performing grid search."
   ]
  },
  {
   "cell_type": "code",
   "execution_count": 91,
   "id": "faf5ecc4",
   "metadata": {},
   "outputs": [],
   "source": [
    "parameter_grid = {\"C\": [0.001, 0.01, 0.1, 0.5, 1],\n",
    "                  \"kernel\": [\"rbf\", \"poly\", \"sigmoid\"],\n",
    "                  \"gamma\": [\"scale\", \"auto\"],\n",
    "                  \"degree\": [2, 3, 4],\n",
    "                  \"epsilon\": [0, 0.01, 0.1, 0.5, 1, 2]}"
   ]
  },
  {
   "cell_type": "markdown",
   "id": "bb5d2cc7",
   "metadata": {},
   "source": [
    "- Note that only the *polynomial kernel* is going to use the **degree** hyperparameter.\n",
    "- **epsilon** is the error you're willing to allow per training data instance (you typically want to start with small epsilon values and gradually work up to some higher values)."
   ]
  },
  {
   "cell_type": "code",
   "execution_count": 86,
   "id": "16f8c339",
   "metadata": {},
   "outputs": [],
   "source": [
    "from sklearn.model_selection import GridSearchCV"
   ]
  },
  {
   "cell_type": "code",
   "execution_count": 92,
   "id": "530573cd",
   "metadata": {},
   "outputs": [],
   "source": [
    "svr = SVR()"
   ]
  },
  {
   "cell_type": "code",
   "execution_count": 93,
   "id": "dfeaa6c3",
   "metadata": {},
   "outputs": [],
   "source": [
    "grid_svr = GridSearchCV(svr, parameter_grid)"
   ]
  },
  {
   "cell_type": "code",
   "execution_count": 94,
   "id": "b3f4975a",
   "metadata": {},
   "outputs": [
    {
     "data": {
      "text/plain": [
       "GridSearchCV(estimator=SVR(),\n",
       "             param_grid={'C': [0.001, 0.01, 0.1, 0.5, 1], 'degree': [2, 3, 4],\n",
       "                         'epsilon': [0, 0.01, 0.1, 0.5, 1, 2],\n",
       "                         'gamma': ['scale', 'auto'],\n",
       "                         'kernel': ['rbf', 'poly', 'sigmoid']})"
      ]
     },
     "execution_count": 94,
     "metadata": {},
     "output_type": "execute_result"
    }
   ],
   "source": [
    "grid_svr.fit(scaled_X_train, y_train)"
   ]
  },
  {
   "cell_type": "code",
   "execution_count": 95,
   "id": "df65c3ca",
   "metadata": {},
   "outputs": [
    {
     "data": {
      "text/plain": [
       "{'C': 1, 'degree': 2, 'epsilon': 0.1, 'gamma': 'auto', 'kernel': 'rbf'}"
      ]
     },
     "execution_count": 95,
     "metadata": {},
     "output_type": "execute_result"
    }
   ],
   "source": [
    "# Check the best parameters\n",
    "grid_svr.best_params_"
   ]
  },
  {
   "cell_type": "code",
   "execution_count": 97,
   "id": "e12a2b1e",
   "metadata": {},
   "outputs": [],
   "source": [
    "grid_svr_preds = grid_svr.predict(scaled_X_test)"
   ]
  },
  {
   "cell_type": "code",
   "execution_count": 98,
   "id": "cc937357",
   "metadata": {},
   "outputs": [
    {
     "data": {
      "text/plain": [
       "0.28408991892799473"
      ]
     },
     "execution_count": 98,
     "metadata": {},
     "output_type": "execute_result"
    }
   ],
   "source": [
    "mean_squared_error(y_test, grid_svr_preds)"
   ]
  },
  {
   "cell_type": "markdown",
   "id": "2c63a820",
   "metadata": {},
   "source": [
    "- Technically this error acquired using grid search and cross validation is smaller than the one acquired using the default settings.\n",
    "- However, the reason why *base_svr* and *grid_svr* have so similar errors is that if you take a look at the best parameters found using GridSearchCV, they are basically the **default** parameters (gamma is \"scale\" on default, but GridSearchCV found that \"auto\" performs betters. Other than that, GridSearchCV returned the default parameters)."
   ]
  },
  {
   "cell_type": "code",
   "execution_count": 99,
   "id": "7ab51e84",
   "metadata": {},
   "outputs": [
    {
     "name": "stdout",
     "output_type": "stream",
     "text": [
      "Ridge regression MSE: 0.34387560853505533\n",
      "LASSO regression MSE: 0.3639258450525791\n",
      "Elastic Net regression MSE: 0.3519661379600024\n",
      "Polynomial regression MSE: 0.5965946288172969\n",
      "SVR (default settings) MSE: 0.2840899189291586\n",
      "SVR (GridSearchCV) MSE: 0.28408991892799473\n"
     ]
    }
   ],
   "source": [
    "print(f\"Ridge regression MSE: {mean_squared_error(y_test, ridge_cv_preds)}\")\n",
    "print(f\"LASSO regression MSE: {mean_squared_error(y_test, lasso_cv_preds)}\")\n",
    "print(f\"Elastic Net regression MSE: {mean_squared_error(y_test, elastic_net_model_preds)}\")\n",
    "print(f\"Polynomial regression MSE: {mean_squared_error(y_test, label_pred)}\")\n",
    "print(f\"SVR (default settings) MSE: {mean_squared_error(y_test, base_preds)}\")\n",
    "print(f\"SVR (GridSearchCV) MSE: {mean_squared_error(y_test, grid_svr_preds)}\")"
   ]
  },
  {
   "cell_type": "markdown",
   "id": "aaccdbb8",
   "metadata": {},
   "source": [
    "- These are all the models that were trained in order to predict the quality of wine.\n",
    "- The performance evaluation was conducted using mean squared error (MSE).\n",
    "- The best model was found using a non-linear method (**SVR**)."
   ]
  },
  {
   "cell_type": "markdown",
   "id": "08b62a26",
   "metadata": {},
   "source": [
    "**Saving and loading the best model**"
   ]
  },
  {
   "cell_type": "code",
   "execution_count": 101,
   "id": "0b87e6cc",
   "metadata": {},
   "outputs": [],
   "source": [
    "from joblib import dump, load"
   ]
  },
  {
   "cell_type": "markdown",
   "id": "948e37e5",
   "metadata": {},
   "source": [
    "- https://scikit-learn.org/stable/model_persistence.html"
   ]
  },
  {
   "cell_type": "code",
   "execution_count": 105,
   "id": "0f6254c5",
   "metadata": {},
   "outputs": [
    {
     "data": {
      "text/plain": [
       "['Kiukkonen_Jamin.joblib']"
      ]
     },
     "execution_count": 105,
     "metadata": {},
     "output_type": "execute_result"
    }
   ],
   "source": [
    "dump(grid_svr, \"Kiukkonen_Jamin.joblib\")"
   ]
  },
  {
   "cell_type": "code",
   "execution_count": 106,
   "id": "7e0e4885",
   "metadata": {},
   "outputs": [],
   "source": [
    "loaded_model = load(\"Kiukkonen_Jamin.joblib\")"
   ]
  },
  {
   "cell_type": "code",
   "execution_count": 107,
   "id": "20655741",
   "metadata": {},
   "outputs": [
    {
     "data": {
      "text/plain": [
       "GridSearchCV(estimator=SVR(),\n",
       "             param_grid={'C': [0.001, 0.01, 0.1, 0.5, 1], 'degree': [2, 3, 4],\n",
       "                         'epsilon': [0, 0.01, 0.1, 0.5, 1, 2],\n",
       "                         'gamma': ['scale', 'auto'],\n",
       "                         'kernel': ['rbf', 'poly', 'sigmoid']})"
      ]
     },
     "execution_count": 107,
     "metadata": {},
     "output_type": "execute_result"
    }
   ],
   "source": [
    "loaded_model"
   ]
  },
  {
   "cell_type": "markdown",
   "id": "74ab0c1b",
   "metadata": {},
   "source": [
    "# Summary"
   ]
  },
  {
   "cell_type": "markdown",
   "id": "1f9bac37",
   "metadata": {},
   "source": [
    "Among the linear regression models, Ridge regression achieved the lowest MSE (0.3439), indicating relatively low average squared difference between the predicted and actual values. LASSO regression had a slightly higher MSE (0.3639) compared to Ridge regression, while Elastic Net regression performed similarly to LASSO regression with a slightly lower MSE (0.3520). Polynomial regression performed by far the worst among the linear regression models with an MSE value of 0.5966. As for the non-linear regression, Support Vector Regression (SVR) was used. SVR performed the best, indicating that a non-linear curve might be a better fit to the data compared to a linear curve."
   ]
  }
 ],
 "metadata": {
  "kernelspec": {
   "display_name": "Python 3 (ipykernel)",
   "language": "python",
   "name": "python3"
  },
  "language_info": {
   "codemirror_mode": {
    "name": "ipython",
    "version": 3
   },
   "file_extension": ".py",
   "mimetype": "text/x-python",
   "name": "python",
   "nbconvert_exporter": "python",
   "pygments_lexer": "ipython3",
   "version": "3.9.12"
  }
 },
 "nbformat": 4,
 "nbformat_minor": 5
}
