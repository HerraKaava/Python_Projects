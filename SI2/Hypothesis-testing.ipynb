{
 "cells": [
  {
   "cell_type": "markdown",
   "id": "dc58671c",
   "metadata": {},
   "source": [
    "<h1 align=\"center\">Statistical Inference 2, Demo 4</h1>"
   ]
  },
  {
   "cell_type": "markdown",
   "id": "092dc56d",
   "metadata": {},
   "source": [
    "<br>"
   ]
  },
  {
   "cell_type": "code",
   "execution_count": 139,
   "id": "b494d297",
   "metadata": {},
   "outputs": [],
   "source": [
    "import pandas as pd\n",
    "import numpy as np\n",
    "import matplotlib.pyplot as plt\n",
    "import seaborn as sns\n",
    "import scipy as sp"
   ]
  },
  {
   "cell_type": "markdown",
   "id": "d8a3bf25",
   "metadata": {},
   "source": [
    "<h3 allign=\"left\">Task 1</h3>\n",
    "\n",
    "Let's examine a situation where the number of independent tests is *m* and the null hypothesis is valid in all tests. What is the probability that in at least one test, a p-value smaller than 0.05 is observed when...\n",
    "\n",
    "a) no multiple testing correction is used \\\n",
    "b) Bonferroni correction is used\n",
    "\n",
    "Draw the graphs of the probabilities of parts a) and b) on the same chart for $\\, m = 1,2,...,100. \\,$"
   ]
  },
  {
   "cell_type": "markdown",
   "id": "b4244aeb",
   "metadata": {},
   "source": [
    "**Solution (a):**\n",
    "\n",
    "The significance level $\\, \\alpha \\,$ directly corresponds to the probability of observing a p-value less than $\\, \\alpha \\,$ purely by chance, even when the null hypothesis is true (i.e., when there is actually no effect). Therefore, if the null hypothesis is true for a given test, the probability of obtaining a p-value less than $\\, \\alpha \\,$ (and thus incorrectly concluding that there is a significant effect) is $\\, \\alpha. \\,$\n",
    "\n",
    "\n",
    "The probability that a p-value greater than 0.05 is obtained is $\\, (1 - 0.05) = 0.95. \\,$\n",
    "\n",
    "Since the tests are independent, the probability that **none** of the tests show a p-value smaller than 0.05 is $\\, (1 - 0.05)^m. \\,$\n",
    "\n",
    "By the complement rule, the probability that at least one of the tests show a p-value smaller than 0.05 is $\\, 1 - (1 - 0.05)^m \\,$"
   ]
  },
  {
   "cell_type": "code",
   "execution_count": 47,
   "id": "f6608221",
   "metadata": {},
   "outputs": [
    {
     "data": {
      "text/plain": [
       "0.994079470779666"
      ]
     },
     "execution_count": 47,
     "metadata": {},
     "output_type": "execute_result"
    }
   ],
   "source": [
    "m = 100\n",
    "1 - (1 - 0.05)**m"
   ]
  },
  {
   "cell_type": "markdown",
   "id": "98fe9465",
   "metadata": {},
   "source": [
    "<br>"
   ]
  },
  {
   "cell_type": "markdown",
   "id": "2f25a915",
   "metadata": {},
   "source": [
    "**Solution (b):**"
   ]
  },
  {
   "cell_type": "markdown",
   "id": "54468f9c",
   "metadata": {},
   "source": [
    "The probability that atleast one of the tests show a p-value smaller than 0.05 using a [Bonferroni correction](https://en.wikipedia.org/wiki/Bonferroni_correction) is\n",
    "\n",
    "\\begin{align*}\n",
    "    1 - \\left(1 - \\frac{0.05}{m} \\right)^m\n",
    "\\end{align*}"
   ]
  },
  {
   "cell_type": "code",
   "execution_count": 48,
   "id": "e2ff26fb",
   "metadata": {},
   "outputs": [
    {
     "data": {
      "text/plain": [
       "0.04878246975766576"
      ]
     },
     "execution_count": 48,
     "metadata": {},
     "output_type": "execute_result"
    }
   ],
   "source": [
    "1 - (1 - (0.05/m))**m"
   ]
  },
  {
   "cell_type": "code",
   "execution_count": 60,
   "id": "0278706e",
   "metadata": {},
   "outputs": [
    {
     "data": {
      "image/png": "[encoded data removed]",
      "text/plain": [
       "<Figure size 600x400 with 1 Axes>"
      ]
     },
     "metadata": {},
     "output_type": "display_data"
    }
   ],
   "source": [
    "sns.set_style('whitegrid')\n",
    "fig, ax = plt.subplots(figsize=(6, 4), dpi=100)\n",
    "m_vals = np.arange(1, 101)\n",
    "pr_no_correction = 1 - (1 - 0.05)**m_vals\n",
    "pr_bonferroni_correction = 1 - (1 - (0.05/m))**m_vals\n",
    "\n",
    "ax.plot(m_vals, pr_no_correction, label='no correction', color='blue')\n",
    "ax.plot(m_vals, pr_bonferroni_correction, label='Bonferroni correction', color='red')\n",
    "ax.set_ylabel('Probability of atleast one p < 0.05')\n",
    "ax.set_xlabel('Number of tests (m)')\n",
    "ax.legend(loc=(0.59, 0.6));"
   ]
  },
  {
   "cell_type": "markdown",
   "id": "c7bac2ef",
   "metadata": {},
   "source": [
    "<br>"
   ]
  },
  {
   "cell_type": "markdown",
   "id": "2a28af6c",
   "metadata": {},
   "source": [
    "<br>"
   ]
  },
  {
   "cell_type": "markdown",
   "id": "f5e214ec",
   "metadata": {},
   "source": [
    "<h3 align=\"left\">Task 2</h3>\n",
    "\n",
    "Test statistic $\\, Z_k \\sim N(0,1), \\,$ $\\, k = 1,2,...,m, \\,$ under the null hypothesis. Under the alternative hypothesis, $\\, Z_k \\sim N(3,1). \\,$ The hypotheses are independent of each other. In a multiple testing situation, assume that the number of hypotheses being tested is $\\, m = 100000 \\,$ and $\\, 0.1 \\% \\,$ of the cases are such that the alternative hypothesis is true. Initialize the random number generator with the R command *set.seed(2019)* and simulate this multiple testing situation. For the analysis, use...\n",
    "\n",
    "a) a significance level of $\\, \\alpha = 0.05 \\,$ and Bonferroni correction \\\n",
    "b) a false discovery rate of 20 %\n",
    "\n",
    "Compare the results to the actual number of the alternative hypotheses."
   ]
  },
  {
   "cell_type": "markdown",
   "id": "7a49712d",
   "metadata": {},
   "source": [
    "**Solution (a):**\n",
    "\n",
    "Since $\\, m = 100 000 \\,$ hypotheses are being tested, and for $\\, 0.1 \\% \\,$ of them the alternative hypothesis is true, it means that $\\, 100 000 * 0.001 = 100 \\,$ hypotheses are true under the alternative hypothesis.\n",
    "\n",
    "For the $\\, H_0, \\, 100 000 - 100 = 99 900 \\,$ test statistics should be simulated from $\\, N(0,1). \\,$\n",
    "\n",
    "For the $\\, H_1, \\,$ 100 test statistics should be simulated from $\\, N(3,1). \\,$\n",
    "\n",
    "Since [Bonferroni correction](https://en.wikipedia.org/wiki/Bonferroni_correction) is to be used, the significance level $\\, \\alpha = 0.05 \\,$ should be adjusted by dividing it by the number of hypotheses *m*.\n",
    "\n",
    "The Bonferroni correction is a method used to control the **family-wise error rate (FWER).** \\\n",
    "The FWER is the probability of incorrectly rejecting at least one true $\\, H_1, \\,$ that is, making at least one *type I error* (false positive). The Bonferroni correction rejects the null hypothesis for each $\\, p_i \\le \\large\\frac{\\alpha}{m}, \\,$ thereby controlling the FWER at $\\, \\le \\alpha. \\,$\n",
    "\n",
    "Since Python and R does not share the same random number generator (i.e., set.seed(2019) will produce different numbers in Python and R), the data was simulated in R in the following way:\n",
    "\n",
    "$\\quad \\quad \\quad \\quad \\quad \\quad \\quad \\quad \\quad \\quad$ set.seed(2019) \\\n",
    "$\\quad \\quad \\quad \\quad \\quad \\quad \\quad \\quad \\quad \\quad$  m <- 100000 \\\n",
    "$\\quad \\quad \\quad \\quad \\quad \\quad \\quad \\quad \\quad \\quad$  m1 <- m * 0.001 \\\n",
    "$\\quad \\quad \\quad \\quad \\quad \\quad \\quad \\quad \\quad \\quad$  m0 <- m - m1 \\\n",
    "$\\quad \\quad \\quad \\quad \\quad \\quad \\quad \\quad \\quad \\quad$  z_null <- rnorm(m0, mean = 0, sd = 1) \\\n",
    "$\\quad \\quad \\quad \\quad \\quad \\quad \\quad \\quad \\quad \\quad$  z_alt <- rnorm(m1, mean = 3, sd = 1) \\\n",
    "$\\quad \\quad \\quad \\quad \\quad \\quad \\quad \\quad \\quad \\quad$  z_combined <- c(z_null, z_alt) \\\n",
    "$\\quad \\quad \\quad \\quad \\quad \\quad \\quad \\quad \\quad \\quad$  write.csv(z_combined, file = 'seed-2019.csv')"
   ]
  },
  {
   "cell_type": "markdown",
   "id": "451f9768",
   "metadata": {},
   "source": [
    "A p-value measures the probability of observing a test statistic as extreme as, or more extreme than, the value actually observed, under the assumption that the null hypothesis is true.\n",
    "\n",
    "Simulating a dataset with a known proportion of true null and true alternative cases enables the evaluation of how different correction methods affect the balance between identifying true effects and controlling these error rates.\n",
    "\n",
    "A z-score is a measure that describes a data point's position in terms of how many standard deviations it is from the mean of its distribution (i.e., a z-score indicates how many standard deviations the corresponding original score is from the original mean).\n",
    "\n",
    "For example, a z-score of -2.5 indicates that the original score was 2.5 standard deviations below the original mean.\n",
    "\n",
    "The [survival function](https://en.wikipedia.org/wiki/Survival_function)\n",
    "\n",
    "\\begin{align*}\n",
    "    SF(x) = 1 - CDF(x)\n",
    "\\end{align*}\n",
    "\n",
    "calculates the probability that a random variable takes a value greater than x. Therefore, using SF with z-scores gives a p-value for a right-tailed test, where we're interested in the probability of observing a test statistic as large as or larger than the observed value. This is particularly relevant if the alternative hypothesis posits that the true mean is greater than the null hypothesis mean (i.e., a right-tailed test), which is the case in the task at hand."
   ]
  },
  {
   "cell_type": "code",
   "execution_count": 188,
   "id": "21a65a72",
   "metadata": {},
   "outputs": [],
   "source": [
    "z = pd.read_csv('/Users/herrakaava/Documents/SI2/data-sets/seed-2019.csv', \n",
    "                index_col=0)"
   ]
  },
  {
   "cell_type": "code",
   "execution_count": 192,
   "id": "b911778a",
   "metadata": {},
   "outputs": [],
   "source": [
    "p_values = sp.stats.norm.sf(z)"
   ]
  },
  {
   "cell_type": "code",
   "execution_count": 194,
   "id": "53277a91",
   "metadata": {},
   "outputs": [
    {
     "data": {
      "text/plain": [
       "False    99998\n",
       "True         2\n",
       "Name: count, dtype: int64"
      ]
     },
     "execution_count": 194,
     "metadata": {},
     "output_type": "execute_result"
    }
   ],
   "source": [
    "# Significant p-values using a Bonferroni correction\n",
    "m = 100000\n",
    "a = 0.05\n",
    "p_vals_significant_bonferroni = p_values < (a / m)\n",
    "pd.Series(p_vals_significant_bonferroni.flatten()).value_counts()"
   ]
  },
  {
   "cell_type": "markdown",
   "id": "520cb3a7",
   "metadata": {},
   "source": [
    "<br>"
   ]
  },
  {
   "cell_type": "markdown",
   "id": "78516f1b",
   "metadata": {},
   "source": [
    "**Solution (b):**\n",
    "\n",
    "In the *False Discovery Rate* (**FDR**) procedure, the desired proportion of false discoveries $\\, q^* \\,$ is first selected, after which the largest index *k* is found from the set of ordered p-values $\\, p_{1} \\le p_{2} \\le \\, ... \\, \\le p_{m}, \\,$ for which it holds that\n",
    "\n",
    "\\begin{align*}\n",
    "    p_{k} \\le \\frac{k}{m} \\, q^*\n",
    "\\end{align*}\n",
    "\n",
    "and the null hypotheses corresponding to the *k* smallest p-values are rejected. These are results of interest for further research, some of which are false discoveries such that the expected proportion of false discoveries is $\\, q^*. \\,$ For example, if $\\, q^* = 0.2 \\,$ has been selected, it can be expected that about 20% of the findings will be incorrect."
   ]
  },
  {
   "cell_type": "code",
   "execution_count": 260,
   "id": "375bc192",
   "metadata": {},
   "outputs": [],
   "source": [
    "def FDR(q, p_vals):\n",
    "    \"\"\"\n",
    "    Calculates the threshold below which p-values are rejected\n",
    "    (i.e., the corresponding null hypotheses are rejected).\n",
    "    \n",
    "    Args:\n",
    "        q: Expected proportion of false discoveries. For example, if q = 0.2,\n",
    "           it is expected that about 20% of discoveries will be false.\n",
    "        p_values: List of p-values.\n",
    "        \n",
    "    Returns:\n",
    "        A list of p-values that are below the threshold \n",
    "        (and whose null hypotheses are thus rejected).\n",
    "    \"\"\"\n",
    "    p_vals = np.array(p_vals)\n",
    "    m = len(p_vals)\n",
    "    p_vals_sorted = np.sort(p_vals)\n",
    "    thresholds = [(k/m)*q for k in range(1, m+1)]\n",
    "    \n",
    "    # Find the largest k where p_{k} <= (k/m)*q\n",
    "    k_largest = 0\n",
    "    for k, (p, threshold) in enumerate(zip(p_vals_sorted, thresholds)):\n",
    "        if p <= threshold:\n",
    "            k_largest = k\n",
    "         \n",
    "    threshold_val = p_vals_sorted[k_largest]\n",
    "    \n",
    "    # Return the original p-values that are below the calculated threshold\n",
    "    # as well as the threshold value.\n",
    "    return p_vals[p_vals <= threshold_val], threshold_val"
   ]
  },
  {
   "cell_type": "code",
   "execution_count": 263,
   "id": "fb556778",
   "metadata": {},
   "outputs": [],
   "source": [
    "BH, threshold_value = FDR(0.2, p_values)"
   ]
  },
  {
   "cell_type": "code",
   "execution_count": 276,
   "id": "31b2be95",
   "metadata": {},
   "outputs": [
    {
     "data": {
      "text/plain": [
       "0     0.000026\n",
       "1     0.000070\n",
       "2     0.000014\n",
       "3     0.000119\n",
       "4     0.000115\n",
       "5     0.000134\n",
       "6     0.000008\n",
       "7     0.000044\n",
       "8     0.000108\n",
       "9     0.000022\n",
       "10    0.000168\n",
       "11    0.000034\n",
       "12    0.000033\n",
       "13    0.000128\n",
       "14    0.000098\n",
       "15    0.000035\n",
       "16    0.000123\n",
       "17    0.000024\n",
       "18    0.000001\n",
       "19    0.000138\n",
       "20    0.000000\n",
       "21    0.000016\n",
       "22    0.000019\n",
       "23    0.000072\n",
       "24    0.000038\n",
       "25    0.000106\n",
       "26    0.000000\n",
       "27    0.000043\n",
       "28    0.000114\n",
       "29    0.000047\n",
       "30    0.000088\n",
       "31    0.000107\n",
       "32    0.000013\n",
       "33    0.000082\n",
       "34    0.000019\n",
       "35    0.000039\n",
       "36    0.000010\n",
       "37    0.000002\n",
       "38    0.000011\n",
       "39    0.000170\n",
       "dtype: float64"
      ]
     },
     "execution_count": 276,
     "metadata": {},
     "output_type": "execute_result"
    }
   ],
   "source": [
    "pd.Series(np.round(BH, 6))"
   ]
  },
  {
   "cell_type": "markdown",
   "id": "37f386db",
   "metadata": {},
   "source": [
    "- The null hypotheses corresponding to these **40** smallest p-values are rejected."
   ]
  },
  {
   "cell_type": "code",
   "execution_count": 271,
   "id": "18705ad1",
   "metadata": {},
   "outputs": [
    {
     "data": {
      "text/plain": [
       "array([0.00017007])"
      ]
     },
     "execution_count": 271,
     "metadata": {},
     "output_type": "execute_result"
    }
   ],
   "source": [
    "threshold_value"
   ]
  },
  {
   "cell_type": "markdown",
   "id": "eece05a5",
   "metadata": {},
   "source": [
    "- This is the largest p-value that satisfies the equation\n",
    "\n",
    "\\begin{align*}\n",
    "    p_{k} \\le \\frac{k}{m} \\, q^*\n",
    "\\end{align*}"
   ]
  },
  {
   "cell_type": "markdown",
   "id": "679d47e6",
   "metadata": {},
   "source": [
    "<br>"
   ]
  },
  {
   "cell_type": "markdown",
   "id": "3aa6391d",
   "metadata": {},
   "source": [
    "<br>"
   ]
  },
  {
   "cell_type": "markdown",
   "id": "673d8d34",
   "metadata": {},
   "source": [
    "<h3 align=\"left\">Task 3</h3>\n",
    "\n",
    "We are investigating the prevalence of a disease in a population using a diagnostic test that gives a false positive result (i.e., in the situation where the person being tested does not have the disease, the test returns a positive result) with a probability of 0.04 and a false negative result (i.e., in the situation where the person being tested does have the disease, the test returns a negative result) with a probability of 0.15. In other words, the test's sensitivity is 1 − 0.15 = 0.85 and the test's specificity is 1 − 0.04 = 0.96. 1000 tests are conducted, and 100 positive test results are observed. Calculate the posterior expectation value for the number of disease carriers in the tested group of 1000 people, given the prior probability of the disease is...\n",
    "\n",
    "a) $\\, p_0 = 0.01 \\,$ \\\n",
    "b) $\\, p_1 = 0.1 \\,$"
   ]
  },
  {
   "cell_type": "markdown",
   "id": "fdff0ff0",
   "metadata": {},
   "source": [
    "**Solution:**\n",
    "\n",
    "*Sensitivity:*\n",
    "- Sensitivity (true positive rate) is the probability of a positive test result, conditioned on the individual truly being positive.\n",
    "\n",
    "*Specificity:*\n",
    "- Specificity (true negative rate) is the probability of a negative test result, conditioned on the individual truly being negative.\n",
    "\n",
    "Let \n",
    "\n",
    "\\begin{align*}\n",
    "    \\text{A} &= \\text{\"a person has the disease\"} \\\\\n",
    "    \\text{B} &= \\text{\"a positive test result\"}\n",
    "\\end{align*}\n",
    "\n",
    "Now,\n",
    "\n",
    "\\begin{align*}\n",
    "    P(A) &= 0.01 \\quad (prior) \\\\\n",
    "    P(B|A) & = 0.85 \\quad (sensitivity) \\\\\n",
    "    P(B^C|A^C) &= 0.96 \\quad (specificity) \\\\\n",
    "    P(B|A^C) &= 0.04 \\quad (\\text{false positive}) \\\\\n",
    "    P(B^C|A) &= 0.15 \\quad (\\text{false negative})\n",
    "\\end{align*}"
   ]
  },
  {
   "cell_type": "markdown",
   "id": "9e31e0ae",
   "metadata": {},
   "source": [
    "If we assume that the tests are independent of each other, the expected number of disease carriers in the group of 1000 tested people is\n",
    "\n",
    "\\begin{align*}\n",
    "    E \\, [\\text{true positives}] &= P(A | B) \\, * \\, 1000 \\\\\n",
    "    &= \\frac{P(B|A) \\, P(A)}{P(B)} \\, * \\, 1000\n",
    "\\end{align*}"
   ]
  },
  {
   "cell_type": "code",
   "execution_count": 2,
   "id": "47d534ca",
   "metadata": {},
   "outputs": [],
   "source": [
    "def posterior_expectation(prior: float, sens: float, spes: float, n_pos: int) -> list[int]:\n",
    "    \"\"\"\n",
    "    Calculates the expected value of true positives among people, \n",
    "    who got a positive test result.\n",
    "    \n",
    "    Args:\n",
    "        prior: Prior probability.\n",
    "        sens: Sensitivity of the test.\n",
    "        spes: Specificity of the test.\n",
    "        n_pos: The number of positive test results.\n",
    "        \n",
    "    Returns:\n",
    "        The expected number of true positives among people,\n",
    "        who got a positive test result.\n",
    "    \"\"\"\n",
    "    FPR = 1 - spes\n",
    "    posterior_prob = (sens * prior) / (sens * prior + FPR * (1 - prior))\n",
    "    return posterior_prob * n_pos"
   ]
  },
  {
   "cell_type": "markdown",
   "id": "37897739",
   "metadata": {},
   "source": [
    "**a)**"
   ]
  },
  {
   "cell_type": "code",
   "execution_count": 24,
   "id": "95b664e8",
   "metadata": {},
   "outputs": [
    {
     "data": {
      "text/plain": [
       "17.67151767151766"
      ]
     },
     "execution_count": 24,
     "metadata": {},
     "output_type": "execute_result"
    }
   ],
   "source": [
    "posterior_expectation(prior=0.01, sens=0.85, spes=0.96, n_pos=100)"
   ]
  },
  {
   "cell_type": "markdown",
   "id": "def503bd",
   "metadata": {},
   "source": [
    "**b)**"
   ]
  },
  {
   "cell_type": "code",
   "execution_count": 26,
   "id": "3a894850",
   "metadata": {},
   "outputs": [
    {
     "data": {
      "text/plain": [
       "70.24793388429751"
      ]
     },
     "execution_count": 26,
     "metadata": {},
     "output_type": "execute_result"
    }
   ],
   "source": [
    "posterior_expectation(prior=0.1, sens=0.85, spes=0.96, n_pos=100)"
   ]
  },
  {
   "cell_type": "markdown",
   "id": "2d75b32b",
   "metadata": {},
   "source": [
    "<br>"
   ]
  },
  {
   "cell_type": "markdown",
   "id": "82867269",
   "metadata": {},
   "source": [
    "<br>"
   ]
  },
  {
   "cell_type": "markdown",
   "id": "9090a6c0",
   "metadata": {},
   "source": [
    "<h3 align=\"left\">Task 4</h3>\n",
    "\n",
    "Simulate the data as follows:\n",
    "\n",
    "\n",
    "$\\quad \\quad \\quad \\quad \\quad \\quad \\quad \\quad \\quad \\quad$ set.seed(20190109) \\\n",
    "$\\quad \\quad \\quad \\quad \\quad \\quad \\quad \\quad \\quad \\quad$  x <- rexp(45, rate=1.6) \n",
    "\n",
    "Estimate the exponential distribution parameter $\\, \\theta \\,$ (the inverse of the mean) using the maximum likelihood method, and test the null hypothesis $\\, \\theta = 1.2 \\,$ with...\n",
    "\n",
    "a) The likelihood ratio test \\\n",
    "b) The Wald's test \\\n",
    "c) The Rao's score test\n",
    "\n",
    "Use the asymptotic distributions of the test statistics."
   ]
  },
  {
   "cell_type": "code",
   "execution_count": 190,
   "id": "15825fbb",
   "metadata": {},
   "outputs": [],
   "source": [
    "x = pd.read_csv(\"/Users/herrakaava/Documents/SI2/simulated-data-R/random-exp.csv\",\n",
    "                index_col=0).values"
   ]
  },
  {
   "cell_type": "markdown",
   "id": "0b436d09",
   "metadata": {},
   "source": [
    "**Solution (a):**\n",
    "\n",
    "The likelihood ratio test is based on the comparison of the values $\\, L(\\hat\\theta) \\,$ and $\\, L(\\theta_0), \\,$ where\n",
    "- $\\, L(\\hat\\theta) \\,$ is the likelihood of the observed data given the parameter estimate $\\, \\hat\\theta, \\,$ where $\\, \\hat\\theta \\,$ is estimated using the MLE method.\n",
    "- $\\, L(\\theta_0) \\,$ is the likelihood of the observed data under the null hypothesis $\\, (\\text{i.e.,} \\, \\, \\theta$ is equal to some specific value $\\, \\theta_0). \\,$\n",
    "\n",
    "The likelihood ratio itself is a ratio of these two likelihoods:\n",
    "\n",
    "\\begin{align*}\n",
    "    L_R(\\theta) = \\frac{L(\\theta)}{L(\\hat\\theta)}.\n",
    "\\end{align*}\n",
    "\n",
    "The test statistic is given by\n",
    "\n",
    "\\begin{align*}\n",
    "    D = -2[l(\\theta_0 - l(\\hat\\theta)].\n",
    "\\end{align*}\n",
    "\n",
    "Given the null hypothesis $\\, \\theta = \\theta_0, \\,$ the test statistic $\\, D \\sim \\chi^2(1) \\,$ (asymptotic distribution)."
   ]
  },
  {
   "cell_type": "markdown",
   "id": "549bdba7",
   "metadata": {},
   "source": [
    "Let $\\, X_1,...,X_n \\sim Exp(\\theta). \\,$ Assume that $\\, X_1,...,X_n \\,$ are i.i.d.\n",
    "\n",
    "Now, the pdf is\n",
    "\n",
    "\\begin{align*}\n",
    "    \\large f(x) = \\large\\theta e^{-\\theta x}\n",
    "\\end{align*}\n",
    "\n",
    "from which it follows that the likelihood is\n",
    "\n",
    "\\begin{align*}\n",
    "    \\large L(\\theta) &= \\large\\prod_{i=1}^{n}\\theta e^{-\\theta x_i} \\\\\n",
    "    \\large L(\\theta) &= \\large\\theta^n \\, e^{-\\theta\\sum_{i=1}^{n} x_i}\n",
    "\\end{align*}\n",
    "\n",
    "and the logarithmic likelihood is\n",
    "\n",
    "\\begin{align*}\n",
    "    \\large l(\\theta) &= \\large log(L(\\theta)) \\\\\n",
    "    &= \\large n \\, log(\\theta) - \\theta \\displaystyle \\sum_{i=1}^{n} x_i \\\\\n",
    "    &= \\large n \\, log(\\theta) - \\theta \\, n \\, \\bar{x}\n",
    "\\end{align*}\n",
    "\n",
    "The score function is\n",
    "\n",
    "\\begin{align*}\n",
    "    \\large \\frac{d \\, l(\\theta)}{d \\, \\theta} & = \\large\\frac{n}{\\theta} - n \\, \\bar{x}\n",
    "\\end{align*}\n",
    "\n",
    "and the MLE for $\\, \\theta \\,$ is\n",
    "\n",
    "\\begin{align*}\n",
    "    \\large\\frac{n}{\\theta} - n \\, \\bar{x} &= \\large 0 \\\\\n",
    "    \\large \\hat{\\theta} &= \\large\\frac{1}{\\bar{x}}\n",
    "\\end{align*}"
   ]
  },
  {
   "cell_type": "markdown",
   "id": "b82702de",
   "metadata": {},
   "source": [
    "The observed test statistic:\n",
    "\n",
    "\\begin{align*}\n",
    "    D_{obs} &= -2 \\, [l(1.2) - l(\\hat\\theta] \\\\\n",
    "    &= -2 \\, \\left[(n \\, log(1.2) - 1.2 \\, n \\, \\bar{x}) - \\left(n \\, log \\left(\\frac{1}{\\bar{x}} \\right) - \\frac{1}{\\bar{x}} \\, n \\, \\bar{x} \\right) \\right]\n",
    "\\end{align*}"
   ]
  },
  {
   "cell_type": "code",
   "execution_count": 191,
   "id": "32f7c94d",
   "metadata": {},
   "outputs": [
    {
     "name": "stdout",
     "output_type": "stream",
     "text": [
      "The MLE for theta, given the data, is: 1.7134823819491094\n"
     ]
    }
   ],
   "source": [
    "n = len(x)\n",
    "x_mean = np.mean(x)\n",
    "theta_hat = 1 / x_mean\n",
    "theta0 = 1.2\n",
    "print(f'The MLE for theta, given the data, is: {theta_hat}')"
   ]
  },
  {
   "cell_type": "code",
   "execution_count": 192,
   "id": "2118d8e8",
   "metadata": {},
   "outputs": [],
   "source": [
    "l_theta0 = n * np.log(theta0) - theta0 * n * x_mean\n",
    "l_theta_hat = n * np.log(theta_hat) - theta_hat * n * x_mean\n",
    "D_obs = -2 * (l_theta0 - l_theta_hat)\n",
    "p_val_D = sp.stats.chi2.sf(D_obs, 1)"
   ]
  },
  {
   "cell_type": "code",
   "execution_count": 193,
   "id": "b77c2a95",
   "metadata": {},
   "outputs": [
    {
     "name": "stdout",
     "output_type": "stream",
     "text": [
      "The observed test statistic is: 5.088096426307104\n",
      "The p-value is: 0.024090621150521352\n"
     ]
    }
   ],
   "source": [
    "print(f'The observed test statistic is: {D_obs}')\n",
    "print(f'The p-value is: {p_value}')"
   ]
  },
  {
   "cell_type": "markdown",
   "id": "da51e445",
   "metadata": {},
   "source": [
    "- Given the small p-value, there is evidence against the $\\, H_0 \\,$\n",
    "\n",
    "$\\, \\quad\\quad\\rightarrow \\,$ The data at hand does not agree with $\\, \\theta = 1.2 \\,$ (the null hypothesis)"
   ]
  },
  {
   "cell_type": "markdown",
   "id": "917eb682",
   "metadata": {},
   "source": [
    "<br>"
   ]
  },
  {
   "cell_type": "markdown",
   "id": "7e3d27f4",
   "metadata": {},
   "source": [
    "**Solution (b):**\n",
    "\n",
    "The test statistic for [Wald's test](https://en.wikipedia.org/wiki/Wald_test) and its asymptotic distribution:\n",
    "\n",
    "\\begin{align*}\n",
    "    W = (\\hat\\theta - \\theta_0)^T \\, J(\\hat\\theta) \\, (\\hat\\theta - \\theta_0) \\quad \\sim \\chi^2(p),\n",
    "\\end{align*}\n",
    "\n",
    "where *p* is the number of parameters being tested."
   ]
  },
  {
   "cell_type": "markdown",
   "id": "4fab2ddc",
   "metadata": {},
   "source": [
    "For the Fisher information, calculate the second derivate of the logarithmic likelihood.\n",
    "\n",
    "\n",
    "$l(\\theta) = n \\, log(\\theta) - \\theta \\, n \\, \\bar{x}$\n",
    "\n",
    "\n",
    "$\\large\\frac{d \\, l(\\theta)}{d \\, \\theta} = \\frac{n}{\\theta} - n \\, \\bar{x}$\n",
    "\n",
    "\n",
    "$\\large\\frac{d^2 \\, l(\\theta)}{d \\theta^2} = - \\frac{n}{\\theta^2}$\n"
   ]
  },
  {
   "cell_type": "markdown",
   "id": "95cd9659",
   "metadata": {},
   "source": [
    "The Fisher information is:\n",
    "\n",
    "\\begin{align*}\n",
    "    J(\\theta) &= \\boldsymbol{E} \\left(-\\frac{d^2 \\, l(\\theta)}{d \\theta^2} \\right) \\\\\n",
    "    &= \\boldsymbol{E}\\left(\\frac{n}{\\theta^2} \\right) \\\\\n",
    "    &= \\frac{n}{\\theta^2}\n",
    "\\end{align*}"
   ]
  },
  {
   "cell_type": "markdown",
   "id": "55d482d2",
   "metadata": {},
   "source": [
    "- Fisher information is the expected value of the observed information.\n",
    "- The observed information is calculated from the data that is actually observed, and it is defined as the (negative) second derivative of the log-likelihood function with respect to the parameter(s) of interest.\n",
    "- If The observed information does not depend on the observations $\\, x_i, \\,$ Fisher information = Observed information."
   ]
  },
  {
   "cell_type": "code",
   "execution_count": 194,
   "id": "83874a05",
   "metadata": {},
   "outputs": [],
   "source": [
    "n = len(x)\n",
    "x_mean = np.mean(x)\n",
    "theta_hat = 1 / x_mean\n",
    "theta0 = 1.2\n",
    "Fisher_info = n / theta_hat**2"
   ]
  },
  {
   "cell_type": "code",
   "execution_count": 195,
   "id": "01265987",
   "metadata": {},
   "outputs": [],
   "source": [
    "W_obs = (theta_hat - theta0) * Fisher_info * (theta_hat - theta0)\n",
    "p_val_W = sp.stats.chi2.sf(W_obs, 1)"
   ]
  },
  {
   "cell_type": "code",
   "execution_count": 197,
   "id": "9d1ba2f0",
   "metadata": {},
   "outputs": [
    {
     "name": "stdout",
     "output_type": "stream",
     "text": [
      "The observed test statistic is: 4.041143955311276\n",
      "The p-value is: 0.04440371257735858\n"
     ]
    }
   ],
   "source": [
    "print(f'The observed test statistic is: {W_obs}')\n",
    "print(f'The p-value is: {p_Wald}')"
   ]
  },
  {
   "cell_type": "markdown",
   "id": "2e27f90e",
   "metadata": {},
   "source": [
    "- Given the small p-value, there is evidence against the $\\, H_0 \\,$\n",
    "\n",
    "$\\, \\quad\\quad\\rightarrow \\,$ The data at hand does not agree with $\\, \\theta = 1.2 \\,$ (the null hypothesis)"
   ]
  },
  {
   "cell_type": "markdown",
   "id": "45b6b371",
   "metadata": {},
   "source": [
    "<br>"
   ]
  },
  {
   "cell_type": "markdown",
   "id": "2c4aef7c",
   "metadata": {},
   "source": [
    "**Solution (c):**"
   ]
  },
  {
   "cell_type": "markdown",
   "id": "c8665c4f",
   "metadata": {},
   "source": [
    "The test statistic for Rao's score test and its asymptotic distribution:\n",
    "\n",
    "\\begin{align*}\n",
    "    S = V(\\theta_0)^T \\, J(\\theta_0)^{-1} \\, V(\\theta_0) \\quad \\sim \\chi^2(p),\n",
    "\\end{align*}\n",
    "\n",
    "where V is the *score function*.\n",
    "\n",
    "The score function is\n",
    "\n",
    "\\begin{align*}\n",
    "    \\frac{d \\, l(\\theta)}{d \\, \\theta} & = \\frac{n}{\\theta} - n \\, \\bar{x}\n",
    "\\end{align*}"
   ]
  },
  {
   "cell_type": "code",
   "execution_count": 198,
   "id": "5280bfb9",
   "metadata": {},
   "outputs": [],
   "source": [
    "n = len(x)\n",
    "x_mean = np.mean(x)\n",
    "theta_hat = 1 / x_mean\n",
    "theta0 = 1.2\n",
    "Fisher_info = n / theta_hat**2\n",
    "Score = (n / theta0) - n * x_mean"
   ]
  },
  {
   "cell_type": "code",
   "execution_count": 199,
   "id": "d5dfe195",
   "metadata": {},
   "outputs": [],
   "source": [
    "S_obs = Score * (1 / Fisher_info) * Score\n",
    "p_val_S = sp.stats.chi2.sf(S_obs, 1)"
   ]
  },
  {
   "cell_type": "code",
   "execution_count": 200,
   "id": "29d6b448",
   "metadata": {},
   "outputs": [
    {
     "name": "stdout",
     "output_type": "stream",
     "text": [
      "The observed test statistic is: 8.239504892879097\n",
      "The p-value is: 0.00409883116912793\n"
     ]
    }
   ],
   "source": [
    "print(f'The observed test statistic is: {S_obs}')\n",
    "print(f'The p-value is: {p_Rao}')"
   ]
  },
  {
   "cell_type": "markdown",
   "id": "088db417",
   "metadata": {},
   "source": [
    "- Given the small p-value, there is evidence against the $\\, H_0 \\,$\n",
    "\n",
    "$\\, \\quad\\quad\\rightarrow \\,$ The data at hand does not agree with $\\, \\theta = 1.2 \\,$ (the null hypothesis)"
   ]
  },
  {
   "cell_type": "markdown",
   "id": "f08dba62",
   "metadata": {},
   "source": [
    "<br>"
   ]
  },
  {
   "cell_type": "markdown",
   "id": "68baf180",
   "metadata": {},
   "source": [
    "<br>"
   ]
  },
  {
   "cell_type": "markdown",
   "id": "c2967ba0",
   "metadata": {},
   "source": [
    "<h3 align=\"left\">Task 5</h3>\n",
    "\n",
    "Repeat task 4 by simulating the distributions of the test statistics instead of using the asymptotic distributions."
   ]
  },
  {
   "cell_type": "markdown",
   "id": "1d2f6a8f",
   "metadata": {},
   "source": [
    "**Solution:**"
   ]
  },
  {
   "cell_type": "code",
   "execution_count": 211,
   "id": "eb4b8f04",
   "metadata": {},
   "outputs": [],
   "source": [
    "num_simulations = 10000\n",
    "sample_size = 45\n",
    "theta0 = 1.2\n",
    "D_sim = np.zeros(num_simulations)\n",
    "W_sim = np.zeros(num_simulations)\n",
    "S_sim = np.zeros(num_simulations)\n",
    "\n",
    "for i in range(num_simulations):\n",
    "    \n",
    "    # Generate sample under H_0\n",
    "    X = sp.stats.expon.rvs(scale=1/theta0, size=sample_size)\n",
    "    \n",
    "    # Estimate theta_hat using MLE for the simulated sample\n",
    "    theta_hat = 1 / np.mean(X)\n",
    "    \n",
    "    # Caculculate log-likelihood for theta_hat and theta0\n",
    "    ll_theta_hat = np.sum(sp.stats.expon.logpdf(x, scale=1/theta_hat))\n",
    "    ll_theta0 = np.sum(sp.stats.expon.logpdf(x, scale=1/theta0))\n",
    "    \n",
    "    # Fisher info\n",
    "    J = sample_size / theta_hat**2\n",
    "    \n",
    "    # Score function\n",
    "    Score = (sample_size / theta0) - sample_size * np.mean(X)\n",
    "    \n",
    "    # Calculate the test statistics\n",
    "    D_sim[i] = -2 * (ll_theta0 - ll_theta_hat)\n",
    "    W_sim[i] = (theta_hat - theta0)**2 * J\n",
    "    S_sim[i] = Score**2 * (1/J)  "
   ]
  },
  {
   "cell_type": "code",
   "execution_count": 212,
   "id": "f1a49314",
   "metadata": {},
   "outputs": [],
   "source": [
    "# Compare the test statistic calculated from the observed data\n",
    "# to the test statistics calculated from the simulated data.\n",
    "# e.g., if the observed test statistic D is bigger than 99 %\n",
    "# of the simulated test statistics, then the simulated p-value is p=0.01.\n",
    "\n",
    "n = len(x)\n",
    "x_mean = np.mean(x)\n",
    "theta_hat = 1 / x_mean\n",
    "theta0 = 1.2\n",
    "Fisher_info = n / theta_hat**2\n",
    "Score = (n / theta0) - n * x_mean\n",
    "l_theta0 = n * np.log(theta0) - theta0 * n * x_mean\n",
    "l_theta_hat = n * np.log(theta_hat) - theta_hat * n * x_mean\n",
    "\n",
    "D_obs = -2 * (l_theta0 - l_theta_hat)\n",
    "W_obs = (theta_hat - theta0) * Fisher_info * (theta_hat - theta0)\n",
    "S_obs = Score * (1 / Fisher_info) * Score\n",
    "\n",
    "p_val_D_sim = 1 - sum(D_obs >= D_sim) / (len(D_sim))\n",
    "p_val_W_sim = np.mean(W_sim >= W_obs)\n",
    "p_val_S_sim = np.mean(S_sim >= S_obs)"
   ]
  },
  {
   "cell_type": "code",
   "execution_count": 213,
   "id": "fe35c234",
   "metadata": {},
   "outputs": [
    {
     "name": "stdout",
     "output_type": "stream",
     "text": [
      "The simulated p-value associated with the likelihood ratio test: 0.0\n",
      "The simulated p-value associated with the Wald's test: 0.0429\n",
      "The simulated p-value associated with the Rao's score test: 0.0153\n"
     ]
    }
   ],
   "source": [
    "print(f'The simulated p-value associated with the likelihood ratio test: {p_val_D_sim}')\n",
    "print(f\"The simulated p-value associated with the Wald's test: {p_val_W_sim}\")\n",
    "print(f\"The simulated p-value associated with the Rao's score test: {p_val_S_sim}\")"
   ]
  }
 ],
 "metadata": {
  "kernelspec": {
   "display_name": "Python 3 (ipykernel)",
   "language": "python",
   "name": "python3"
  },
  "language_info": {
   "codemirror_mode": {
    "name": "ipython",
    "version": 3
   },
   "file_extension": ".py",
   "mimetype": "text/x-python",
   "name": "python",
   "nbconvert_exporter": "python",
   "pygments_lexer": "ipython3",
   "version": "3.11.7"
  }
 },
 "nbformat": 4,
 "nbformat_minor": 5
}
