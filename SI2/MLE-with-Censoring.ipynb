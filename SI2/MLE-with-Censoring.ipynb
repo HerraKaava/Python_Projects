{
 "cells": [
  {
   "cell_type": "markdown",
   "id": "6fea3910",
   "metadata": {},
   "source": [
    "<h1 align=\"center\">Statistical Inference 2, Demo 1</h1>"
   ]
  },
  {
   "cell_type": "markdown",
   "id": "7a0d963b",
   "metadata": {},
   "source": [
    "<br>"
   ]
  },
  {
   "cell_type": "code",
   "execution_count": 1,
   "id": "2e8b0c74",
   "metadata": {},
   "outputs": [],
   "source": [
    "import numpy as np\n",
    "import pandas as pd\n",
    "import statsmodels.api as sm\n",
    "from scipy.optimize import minimize\n",
    "from scipy.stats import norm\n",
    "from scipy.stats import laplace"
   ]
  },
  {
   "cell_type": "markdown",
   "id": "5d58d753",
   "metadata": {},
   "source": [
    "<h3 align=\"left\">Task 3</h3>\n",
    "\n",
    "The concentrations of a certain compound are measured with a device that involves independent normally distributed measurement errors. The variance of the measurement error $\\, \\sigma^2 \\,$ is unknown. If the device's reading (concentration + measurement error) exceeds a known limit 𝑐 = 80, the device only reports that the result is greater than 80. There are 10 samples available, which are known to have the same unknown concentration $\\, \\mu \\,$. The device reports the result $\\, y_i \\,$ for six samples and indicates that the reading is greater than 80 for the remaining four samples. The available measurement results are 71.2, 67.5, 77.6, 67.3, 77.7, 67.1. Determine numerically the maximum likelihood estimates for the parameters $\\, \\mu \\,$ and $\\, \\sigma^2. \\,$"
   ]
  },
  {
   "cell_type": "markdown",
   "id": "6604434c",
   "metadata": {},
   "source": [
    "**Solution:**"
   ]
  },
  {
   "cell_type": "code",
   "execution_count": 109,
   "id": "214080f3",
   "metadata": {},
   "outputs": [],
   "source": [
    "data = np.array([71.2, 67.5, 77.6, 67.3, 77.7, 67.1])\n",
    "n = 10\n",
    "m = 6"
   ]
  },
  {
   "cell_type": "code",
   "execution_count": 110,
   "id": "279ae053",
   "metadata": {},
   "outputs": [],
   "source": [
    "def log_likelihood(params: list[float], c = 80) -> float:\n",
    "    \"\"\"\n",
    "    Calculate the negative logarithmic likelihood for a set of observations \n",
    "    following a normal distribution, considering both known values and censored data.\n",
    "    \n",
    "     This function assumes that the data consists of two parts:\n",
    "        1. Known measurements: These are directly used to calculate the \n",
    "           log-likelihood using the normal distribution's probability density function.\n",
    "        2. Censored measurements: These are observations that exceed a certain threshold.\n",
    "           For these, the log-likelihood is computed using the complementary cumulative\n",
    "           distribution function (survival function) of the normal distribution.\n",
    "       \n",
    "    Args:\n",
    "        params: A list containing two elements:\n",
    "            1. mu: The mean of the normal distribution.\n",
    "            2. sigma: The standard deviation of the normal distribution (>=0).\n",
    "        \n",
    "    Returns:\n",
    "        The negative of the total logarithmic likelihood for both known \n",
    "        and censored observations.\n",
    "        \n",
    "    Notes:\n",
    "        - Note that mathematically speaking, maximizing the function f(x)\n",
    "        is the same as minimizing the function -f(x).\n",
    "    \"\"\"\n",
    "    mu, sigma = params\n",
    "    \n",
    "    # Calculate the logarithm of the probability density function \n",
    "    # of a normal distribution for each value in the given array and sum them up\n",
    "    # (i.e.compute the log-likelihood of observing the data\n",
    "    # under the assumption that these data points are drawn \n",
    "    # from a normal distribution with a mean of mu and a standard deviation of sigma).\n",
    "    log_likelihood_known = np.sum(norm.logpdf(x=data, loc=mu, scale=sigma))\n",
    "    \n",
    "    # Censored log-likelihood can be calculated using the survival function.\n",
    "    log_likelihood_censored = (n-m) * norm.logsf(x=c, loc=mu, scale=sigma)\n",
    "    \n",
    "    # (negative) total log-likelihood\n",
    "    return -(log_likelihood_known + log_likelihood_censored)"
   ]
  },
  {
   "cell_type": "code",
   "execution_count": 111,
   "id": "1e72e82e",
   "metadata": {},
   "outputs": [],
   "source": [
    "init_vals = [np.mean(data), np.std(data)]"
   ]
  },
  {
   "cell_type": "code",
   "execution_count": 112,
   "id": "91ba2ed4",
   "metadata": {},
   "outputs": [],
   "source": [
    "# Maximize the log-likelihood\n",
    "result = minimize(log_likelihood, init_vals, method='Nelder-Mead')"
   ]
  },
  {
   "cell_type": "code",
   "execution_count": 113,
   "id": "9a5fedf1",
   "metadata": {},
   "outputs": [],
   "source": [
    "mu_hat, sigma_hat = result.x[0], result.x[1]**2"
   ]
  },
  {
   "cell_type": "code",
   "execution_count": 114,
   "id": "b37028a6",
   "metadata": {},
   "outputs": [
    {
     "name": "stdout",
     "output_type": "stream",
     "text": [
      "MLE for mu: 77.15357507694819\n",
      "MLE for sigma^2: 70.92748610686299\n"
     ]
    }
   ],
   "source": [
    "print(f'MLE for mu: {mu_hat}')\n",
    "print(f'MLE for sigma^2: {sigma_hat}')"
   ]
  },
  {
   "cell_type": "markdown",
   "id": "6d99b3e4",
   "metadata": {},
   "source": [
    "<br>"
   ]
  },
  {
   "cell_type": "markdown",
   "id": "8c38c37c",
   "metadata": {},
   "source": [
    "<h3 align=\"left\">Task 4</h3>\n",
    "\n",
    "Concentrations of a certain compound are measured with a device that involves independent Laplace-distributed measurement errors with a mean of 0. The scale parameter b of the Laplace distribution is not known. If the device's reading (concentration + measurement error) exceeds a known limit c=80, the device only reports that the result is greater than 80. There are 10 samples available, which are known to have the same unknown concentration $\\, \\mu. \\,$ The device reports the result $\\, y_i \\,$ for seven samples and indicates that the reading is greater than 80 for the remaining three samples. The available measurement results are 70.3, 73.1, 75.1, 76.8, 77.8, 78.2, 78.6. Determine the maximum likelihood estimates for the parameters  $\\, \\mu \\,$ and b."
   ]
  },
  {
   "cell_type": "markdown",
   "id": "276a1702",
   "metadata": {},
   "source": [
    "**Solution:**"
   ]
  },
  {
   "cell_type": "code",
   "execution_count": 101,
   "id": "5490c44c",
   "metadata": {},
   "outputs": [],
   "source": [
    "data = np.array([70.3, 73.1, 75.1, 76.8, 77.8, 78.2, 78.6])\n",
    "a = 80    # Threshold for censoring\n",
    "n = 10    # Total number of samples\n",
    "m = 7     # Number of observed samples"
   ]
  },
  {
   "cell_type": "code",
   "execution_count": 102,
   "id": "cc359814",
   "metadata": {},
   "outputs": [],
   "source": [
    "def ll(params: list[int]) -> float:\n",
    "    \"\"\"\n",
    "    Calculate the negative logarithmic likelihood for a set of observations \n",
    "    following a normal distribution, considering both known values and censored data.\n",
    "    \n",
    "    This function assumes that the data consists of two parts:\n",
    "        1. Known measurements: These are directly used to calculate the \n",
    "           log-likelihood using the laplace distribution's probability density function.\n",
    "        2. Censored measurements: These are observations that exceed a certain threshold.\n",
    "           For these, the log-likelihood is computed using the complementary cumulative\n",
    "           distribution function (survival function) of the laplace distribution.\n",
    "           \n",
    "    Args:\n",
    "        params: A list containing two elements:\n",
    "            1. mu: The location parameter of the laplace distribution.\n",
    "            2. b: The scale parameter of the laplace distribution  (>=0).\n",
    "    \n",
    "    Returns:\n",
    "        The negative of the total logarithmic likelihood for both known \n",
    "        and censored observations.\n",
    "        \n",
    "    Notes:\n",
    "        - Note that mathematically speaking, maximizing the function f(x)\n",
    "            is the same as minimizing the function -f(x).\n",
    "        - The function name 'll' stands for logarithmic likelihood.\n",
    "    \"\"\"\n",
    "    mu, b = params\n",
    "    ll_uncensored = np.sum(laplace.logpdf(x=data, loc=mu, scale=b))\n",
    "    ll_censored = (n-m) * laplace.logsf(x=a, loc=mu, scale=b)\n",
    "    return -(ll_uncensored + ll_censored)"
   ]
  },
  {
   "cell_type": "code",
   "execution_count": 103,
   "id": "aa335c27",
   "metadata": {},
   "outputs": [],
   "source": [
    "init_vals = [np.mean(data), np.std(data)]\n",
    "result = minimize(ll, init_vals, method='Nelder-Mead')"
   ]
  },
  {
   "cell_type": "code",
   "execution_count": 94,
   "id": "735ad3d4",
   "metadata": {},
   "outputs": [
    {
     "name": "stdout",
     "output_type": "stream",
     "text": [
      "MLE for mu: 78.15047140900046\n",
      "MLE for b: 3.385714301931162\n"
     ]
    }
   ],
   "source": [
    "mu_hat, b_hat = result.x\n",
    "print(f'MLE for mu: {mu_hat}')\n",
    "print(f'MLE for b: {b_hat}')"
   ]
  },
  {
   "cell_type": "markdown",
   "id": "b21abca2",
   "metadata": {},
   "source": [
    "<br>"
   ]
  },
  {
   "cell_type": "markdown",
   "id": "7d4fda70",
   "metadata": {},
   "source": [
    "<h3 align=\"left\">Task 5</h3>\n",
    "\n",
    "The concentrations of a compound are measured with a measuring device, which involves both bias and independent normally distributed measurement errors. It is assumed that the relationship between the concentration and the measurement result is described by a linear regression model\n",
    "\n",
    "$$y_i = a + bx_i + \\epsilon,$$\n",
    "\n",
    "where a and b are unknown parameters and $\\, \\epsilon \\sim N(0, \\sigma^2). \\,$\n",
    "The variance of the measurement error $\\, \\sigma^2 \\,$ is not known. If the reading of the measuring device exceeds a known limit 𝑐 = 80, the device only indicates that the result is greater than 80. There are a total of 25 samples available, such that from each of five different concentrations $\\, x_1,...,x_5 \\,$ there are five samples. Compute the maximum likelihood estimates for the parameters a, b, and $\\, \\sigma^2 \\,$ numerically."
   ]
  },
  {
   "cell_type": "markdown",
   "id": "5617129e",
   "metadata": {},
   "source": [
    "**Solution:**"
   ]
  },
  {
   "cell_type": "code",
   "execution_count": 2,
   "id": "3c4f610e",
   "metadata": {},
   "outputs": [],
   "source": [
    "data = pd.read_csv(\"/Users/herrakaava/Documents/SI2/data-sets/mittalaite.csv\")"
   ]
  },
  {
   "cell_type": "code",
   "execution_count": 3,
   "id": "55adf8f7",
   "metadata": {},
   "outputs": [],
   "source": [
    "data.rename(columns={'ylirajan': 'censored'}, inplace=True)"
   ]
  },
  {
   "cell_type": "code",
   "execution_count": 4,
   "id": "3706132a",
   "metadata": {},
   "outputs": [
    {
     "data": {
      "text/html": [
       "<div>\n",
       "<style scoped>\n",
       "    .dataframe tbody tr th:only-of-type {\n",
       "        vertical-align: middle;\n",
       "    }\n",
       "\n",
       "    .dataframe tbody tr th {\n",
       "        vertical-align: top;\n",
       "    }\n",
       "\n",
       "    .dataframe thead th {\n",
       "        text-align: right;\n",
       "    }\n",
       "</style>\n",
       "<table border=\"1\" class=\"dataframe\">\n",
       "  <thead>\n",
       "    <tr style=\"text-align: right;\">\n",
       "      <th></th>\n",
       "      <th>x</th>\n",
       "      <th>y</th>\n",
       "      <th>censored</th>\n",
       "    </tr>\n",
       "  </thead>\n",
       "  <tbody>\n",
       "    <tr>\n",
       "      <th>0</th>\n",
       "      <td>60</td>\n",
       "      <td>64.6</td>\n",
       "      <td>0</td>\n",
       "    </tr>\n",
       "    <tr>\n",
       "      <th>1</th>\n",
       "      <td>65</td>\n",
       "      <td>50.8</td>\n",
       "      <td>0</td>\n",
       "    </tr>\n",
       "    <tr>\n",
       "      <th>2</th>\n",
       "      <td>70</td>\n",
       "      <td>66.2</td>\n",
       "      <td>0</td>\n",
       "    </tr>\n",
       "    <tr>\n",
       "      <th>3</th>\n",
       "      <td>75</td>\n",
       "      <td>71.7</td>\n",
       "      <td>0</td>\n",
       "    </tr>\n",
       "    <tr>\n",
       "      <th>4</th>\n",
       "      <td>80</td>\n",
       "      <td>80.0</td>\n",
       "      <td>1</td>\n",
       "    </tr>\n",
       "  </tbody>\n",
       "</table>\n",
       "</div>"
      ],
      "text/plain": [
       "    x     y  censored\n",
       "0  60  64.6         0\n",
       "1  65  50.8         0\n",
       "2  70  66.2         0\n",
       "3  75  71.7         0\n",
       "4  80  80.0         1"
      ]
     },
     "execution_count": 4,
     "metadata": {},
     "output_type": "execute_result"
    }
   ],
   "source": [
    "data.head()"
   ]
  },
  {
   "cell_type": "code",
   "execution_count": 5,
   "id": "449649d8",
   "metadata": {},
   "outputs": [
    {
     "name": "stdout",
     "output_type": "stream",
     "text": [
      "<class 'pandas.core.frame.DataFrame'>\n",
      "RangeIndex: 25 entries, 0 to 24\n",
      "Data columns (total 3 columns):\n",
      " #   Column    Non-Null Count  Dtype  \n",
      "---  ------    --------------  -----  \n",
      " 0   x         25 non-null     int64  \n",
      " 1   y         25 non-null     float64\n",
      " 2   censored  25 non-null     int64  \n",
      "dtypes: float64(1), int64(2)\n",
      "memory usage: 732.0 bytes\n"
     ]
    }
   ],
   "source": [
    "data.info()"
   ]
  },
  {
   "cell_type": "code",
   "execution_count": 7,
   "id": "2c4a5c55",
   "metadata": {},
   "outputs": [
    {
     "data": {
      "text/plain": [
       "x\n",
       "60    5\n",
       "65    5\n",
       "70    5\n",
       "75    5\n",
       "80    5\n",
       "Name: count, dtype: int64"
      ]
     },
     "execution_count": 7,
     "metadata": {},
     "output_type": "execute_result"
    }
   ],
   "source": [
    "data['x'].value_counts()"
   ]
  },
  {
   "cell_type": "code",
   "execution_count": 62,
   "id": "6bab3d2e",
   "metadata": {},
   "outputs": [],
   "source": [
    "x_uncens = data[data['censored'] == 0]['x'].values\n",
    "y_uncens = data[data['censored'] == 0]['y'].values\n",
    "\n",
    "n = len(data)    # Total\n",
    "m = len(data[data['censored'] == 0])    # Observed"
   ]
  },
  {
   "cell_type": "code",
   "execution_count": 63,
   "id": "872211c7",
   "metadata": {},
   "outputs": [],
   "source": [
    "def ll_reg(params: list[int], c=80) -> float:  \n",
    "    a, b, sigma = params\n",
    "    mu = a + b*x\n",
    "    ll_uncensored = np.sum(norm.logpdf(y_uncens, mu, sigma))\n",
    "    ll_censored = (n-m) * norm.logsf(c, a + b*c, sigma)\n",
    "    return -(ll_uncensored + ll_censored)"
   ]
  },
  {
   "cell_type": "code",
   "execution_count": 64,
   "id": "a450fe85",
   "metadata": {},
   "outputs": [],
   "source": [
    "init_vals = [1, 1, 1]\n",
    "result = minimize(ll_reg, init_vals, method='Nelder-Mead')"
   ]
  },
  {
   "cell_type": "code",
   "execution_count": 65,
   "id": "57b46d52",
   "metadata": {},
   "outputs": [
    {
     "data": {
      "text/plain": [
       "array([-11.37681763,   1.22875447,   6.4576462 ])"
      ]
     },
     "execution_count": 65,
     "metadata": {},
     "output_type": "execute_result"
    }
   ],
   "source": [
    "result.x"
   ]
  }
 ],
 "metadata": {
  "kernelspec": {
   "display_name": "Python 3 (ipykernel)",
   "language": "python",
   "name": "python3"
  },
  "language_info": {
   "codemirror_mode": {
    "name": "ipython",
    "version": 3
   },
   "file_extension": ".py",
   "mimetype": "text/x-python",
   "name": "python",
   "nbconvert_exporter": "python",
   "pygments_lexer": "ipython3",
   "version": "3.11.7"
  }
 },
 "nbformat": 4,
 "nbformat_minor": 5
}
