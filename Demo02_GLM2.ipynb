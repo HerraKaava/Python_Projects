{
 "cells": [
  {
   "cell_type": "code",
   "execution_count": 1,
   "id": "9e595c02",
   "metadata": {},
   "outputs": [],
   "source": [
    "import pandas as pd\n",
    "import numpy as np\n",
    "import sympy as sp\n",
    "import scipy\n",
    "import matplotlib.pyplot as plt\n",
    "from statsmodels.formula.api import ols"
   ]
  },
  {
   "cell_type": "markdown",
   "id": "6125edb1",
   "metadata": {},
   "source": [
    "**Tehtävä 6**"
   ]
  },
  {
   "cell_type": "markdown",
   "id": "c1b636db",
   "metadata": {},
   "source": [
    "Tarkastellaan luentomonisteen esimerkin 13. lineaarista regressiomallia"
   ]
  },
  {
   "cell_type": "markdown",
   "id": "1eb13d1c",
   "metadata": {},
   "source": [
    "$ mpist_i = \\beta_0 \\, + \\, \\beta_1 \\, matem_i \\, + \\, \\beta_2 \\, sukup_i \\, + \\, \\beta_3 \\, koulusij_i \\, \\\\ + \\, \\beta_4 \\, koulualue\\_ita_i \\, + \\,       \\beta_5 \\, koulualue\\_lansi_i \\, + \\, \\beta_6 \\, koulualue\\_pohj_i \\, + \\,     \\epsilon_i $"
   ]
  },
  {
   "cell_type": "markdown",
   "id": "7b1ce0a9",
   "metadata": {},
   "source": [
    "Lue aineisto Pythoniin ja laske käyttäen hyväksi luentomonisteen analyyttisiä tuloksia"
   ]
  },
  {
   "cell_type": "markdown",
   "id": "193f2801",
   "metadata": {},
   "source": [
    "- Parametrivektorin β suurimman uskottavuuden estimaatti\n",
    "-  Mallin keskivirhe $ \\mathbf{\\hat{\\sigma}} $\n",
    "- Suurimman uskottavuuden estimaattien $ \\mathbf{\\hat{\\beta}} $ keskivirheet\n",
    "- Mallin selitysaste $ \\mathbf{R^2} $"
   ]
  },
  {
   "cell_type": "code",
   "execution_count": 3,
   "id": "f6496474",
   "metadata": {},
   "outputs": [],
   "source": [
    "pisa = pd.read_csv(\"C:/Users/testi/Desktop/excel_files/pisa_demo02.csv\", \n",
    "                   index_col=0)"
   ]
  },
  {
   "cell_type": "code",
   "execution_count": 4,
   "id": "1f04280b",
   "metadata": {},
   "outputs": [
    {
     "data": {
      "text/html": [
       "<div>\n",
       "<style scoped>\n",
       "    .dataframe tbody tr th:only-of-type {\n",
       "        vertical-align: middle;\n",
       "    }\n",
       "\n",
       "    .dataframe tbody tr th {\n",
       "        vertical-align: top;\n",
       "    }\n",
       "\n",
       "    .dataframe thead th {\n",
       "        text-align: right;\n",
       "    }\n",
       "</style>\n",
       "<table border=\"1\" class=\"dataframe\">\n",
       "  <thead>\n",
       "    <tr style=\"text-align: right;\">\n",
       "      <th></th>\n",
       "      <th>mpist</th>\n",
       "      <th>sukup</th>\n",
       "      <th>SES</th>\n",
       "      <th>koulusij</th>\n",
       "      <th>koulualue</th>\n",
       "      <th>matem</th>\n",
       "      <th>aidink</th>\n",
       "    </tr>\n",
       "  </thead>\n",
       "  <tbody>\n",
       "    <tr>\n",
       "      <th>107</th>\n",
       "      <td>569.254</td>\n",
       "      <td>poika</td>\n",
       "      <td>0.1322</td>\n",
       "      <td>kaupunki</td>\n",
       "      <td>Etela-Suomi</td>\n",
       "      <td>9</td>\n",
       "      <td>7</td>\n",
       "    </tr>\n",
       "    <tr>\n",
       "      <th>1261</th>\n",
       "      <td>631.804</td>\n",
       "      <td>poika</td>\n",
       "      <td>1.1144</td>\n",
       "      <td>kaupunki</td>\n",
       "      <td>Etela-Suomi</td>\n",
       "      <td>8</td>\n",
       "      <td>8</td>\n",
       "    </tr>\n",
       "    <tr>\n",
       "      <th>381</th>\n",
       "      <td>521.582</td>\n",
       "      <td>tytto</td>\n",
       "      <td>0.4400</td>\n",
       "      <td>kaupunki</td>\n",
       "      <td>Etela-Suomi</td>\n",
       "      <td>7</td>\n",
       "      <td>9</td>\n",
       "    </tr>\n",
       "  </tbody>\n",
       "</table>\n",
       "</div>"
      ],
      "text/plain": [
       "        mpist  sukup     SES  koulusij    koulualue  matem  aidink\n",
       "107   569.254  poika  0.1322  kaupunki  Etela-Suomi      9       7\n",
       "1261  631.804  poika  1.1144  kaupunki  Etela-Suomi      8       8\n",
       "381   521.582  tytto  0.4400  kaupunki  Etela-Suomi      7       9"
      ]
     },
     "execution_count": 4,
     "metadata": {},
     "output_type": "execute_result"
    }
   ],
   "source": [
    "pisa.head(3)"
   ]
  },
  {
   "cell_type": "markdown",
   "id": "9d3990d5",
   "metadata": {},
   "source": [
    "Luodaan design-matriisi X demolapussa olevan vihjeen avulla."
   ]
  },
  {
   "cell_type": "code",
   "execution_count": 5,
   "id": "568aeb01",
   "metadata": {},
   "outputs": [],
   "source": [
    "# Luodaan deisgn-matriisi.\n",
    "\n",
    "mat = pisa[\"matem\"].values\n",
    "\n",
    "sp = pisa[\"sukup\"].replace({\"poika\": 0, \"tytto\": 1}).values\n",
    "\n",
    "sij = pisa[\"koulusij\"].replace({\"kaupunki\": 0, \"maaseutu\": 1}).values\n",
    "\n",
    "ita = np.where(pisa[\"koulualue\"] == \"Ita-Suomi\", 1, 0)\n",
    "\n",
    "lansi = np.where(pisa[\"koulualue\"] == \"Lansi-Suomi\", 1, 0)\n",
    "\n",
    "pohjoinen = np.where(pisa[\"koulualue\"] == \"Pohjois-Suomi\", 1, 0)\n",
    "\n",
    "intercept = np.ones(200, dtype=int)\n",
    "\n",
    "X = pd.DataFrame({\"intercept\": intercept,\n",
    "                  \"mat\": mat,\n",
    "                  \"sp\": sp,\n",
    "                  \"sij\": sij,\n",
    "                  \"ita\": ita,\n",
    "                  \"lansi\": lansi,\n",
    "                  \"pohjoinen\": pohjoinen})\n",
    "\n",
    "X.index += 1"
   ]
  },
  {
   "cell_type": "code",
   "execution_count": 6,
   "id": "f70f3fb1",
   "metadata": {},
   "outputs": [
    {
     "data": {
      "text/html": [
       "<div>\n",
       "<style scoped>\n",
       "    .dataframe tbody tr th:only-of-type {\n",
       "        vertical-align: middle;\n",
       "    }\n",
       "\n",
       "    .dataframe tbody tr th {\n",
       "        vertical-align: top;\n",
       "    }\n",
       "\n",
       "    .dataframe thead th {\n",
       "        text-align: right;\n",
       "    }\n",
       "</style>\n",
       "<table border=\"1\" class=\"dataframe\">\n",
       "  <thead>\n",
       "    <tr style=\"text-align: right;\">\n",
       "      <th></th>\n",
       "      <th>intercept</th>\n",
       "      <th>mat</th>\n",
       "      <th>sp</th>\n",
       "      <th>sij</th>\n",
       "      <th>ita</th>\n",
       "      <th>lansi</th>\n",
       "      <th>pohjoinen</th>\n",
       "    </tr>\n",
       "  </thead>\n",
       "  <tbody>\n",
       "    <tr>\n",
       "      <th>1</th>\n",
       "      <td>1</td>\n",
       "      <td>9</td>\n",
       "      <td>0</td>\n",
       "      <td>0</td>\n",
       "      <td>0</td>\n",
       "      <td>0</td>\n",
       "      <td>0</td>\n",
       "    </tr>\n",
       "    <tr>\n",
       "      <th>2</th>\n",
       "      <td>1</td>\n",
       "      <td>8</td>\n",
       "      <td>0</td>\n",
       "      <td>0</td>\n",
       "      <td>0</td>\n",
       "      <td>0</td>\n",
       "      <td>0</td>\n",
       "    </tr>\n",
       "    <tr>\n",
       "      <th>3</th>\n",
       "      <td>1</td>\n",
       "      <td>7</td>\n",
       "      <td>1</td>\n",
       "      <td>0</td>\n",
       "      <td>0</td>\n",
       "      <td>0</td>\n",
       "      <td>0</td>\n",
       "    </tr>\n",
       "    <tr>\n",
       "      <th>4</th>\n",
       "      <td>1</td>\n",
       "      <td>8</td>\n",
       "      <td>1</td>\n",
       "      <td>0</td>\n",
       "      <td>0</td>\n",
       "      <td>0</td>\n",
       "      <td>0</td>\n",
       "    </tr>\n",
       "    <tr>\n",
       "      <th>5</th>\n",
       "      <td>1</td>\n",
       "      <td>6</td>\n",
       "      <td>1</td>\n",
       "      <td>0</td>\n",
       "      <td>0</td>\n",
       "      <td>1</td>\n",
       "      <td>0</td>\n",
       "    </tr>\n",
       "  </tbody>\n",
       "</table>\n",
       "</div>"
      ],
      "text/plain": [
       "   intercept  mat  sp  sij  ita  lansi  pohjoinen\n",
       "1          1    9   0    0    0      0          0\n",
       "2          1    8   0    0    0      0          0\n",
       "3          1    7   1    0    0      0          0\n",
       "4          1    8   1    0    0      0          0\n",
       "5          1    6   1    0    0      1          0"
      ]
     },
     "execution_count": 6,
     "metadata": {},
     "output_type": "execute_result"
    }
   ],
   "source": [
    "X.head()"
   ]
  },
  {
   "cell_type": "code",
   "execution_count": null,
   "id": "28f647a0",
   "metadata": {},
   "outputs": [],
   "source": []
  },
  {
   "cell_type": "code",
   "execution_count": null,
   "id": "bd81e4b5",
   "metadata": {},
   "outputs": [],
   "source": []
  },
  {
   "cell_type": "code",
   "execution_count": null,
   "id": "944f90e2",
   "metadata": {},
   "outputs": [],
   "source": []
  },
  {
   "cell_type": "markdown",
   "id": "969eec31",
   "metadata": {},
   "source": [
    "**Parametrivektorin β suurimman uskottavuuden estimaatti**"
   ]
  },
  {
   "cell_type": "code",
   "execution_count": 7,
   "id": "e6d24516",
   "metadata": {},
   "outputs": [],
   "source": [
    "X_arr = X.values"
   ]
  },
  {
   "cell_type": "code",
   "execution_count": 8,
   "id": "faa37fa6",
   "metadata": {},
   "outputs": [],
   "source": [
    "y = pisa[\"mpist\"].values"
   ]
  },
  {
   "cell_type": "code",
   "execution_count": 9,
   "id": "73a34449",
   "metadata": {},
   "outputs": [],
   "source": [
    "X_T_X = np.matmul(X_arr.T, X_arr)"
   ]
  },
  {
   "cell_type": "code",
   "execution_count": 10,
   "id": "4bf6fe9f",
   "metadata": {},
   "outputs": [],
   "source": [
    "X_T_y = np.matmul(X_arr.T, y)"
   ]
  },
  {
   "cell_type": "code",
   "execution_count": 11,
   "id": "5719c8e7",
   "metadata": {},
   "outputs": [],
   "source": [
    "betahat = np.matmul(np.linalg.inv(X_T_X), X_T_y)"
   ]
  },
  {
   "cell_type": "code",
   "execution_count": 12,
   "id": "da5de090",
   "metadata": {},
   "outputs": [
    {
     "data": {
      "text/plain": [
       "array([334.61292837,  29.96626779, -17.34266536,  15.10478975,\n",
       "        -3.57897317, -31.29944545, -11.89215235])"
      ]
     },
     "execution_count": 12,
     "metadata": {},
     "output_type": "execute_result"
    }
   ],
   "source": [
    "betahat"
   ]
  },
  {
   "cell_type": "code",
   "execution_count": 13,
   "id": "d7e934cf",
   "metadata": {},
   "outputs": [],
   "source": [
    "MLEs = pd.DataFrame({\"MLE\": betahat},\n",
    "                     index=[\"intercept\", \"mat\", \"sp\", \"sij\", \"ita\", \"lansi\", \"pohjoinen\"])"
   ]
  },
  {
   "cell_type": "code",
   "execution_count": 14,
   "id": "3a28126a",
   "metadata": {},
   "outputs": [
    {
     "data": {
      "text/html": [
       "<div>\n",
       "<style scoped>\n",
       "    .dataframe tbody tr th:only-of-type {\n",
       "        vertical-align: middle;\n",
       "    }\n",
       "\n",
       "    .dataframe tbody tr th {\n",
       "        vertical-align: top;\n",
       "    }\n",
       "\n",
       "    .dataframe thead th {\n",
       "        text-align: right;\n",
       "    }\n",
       "</style>\n",
       "<table border=\"1\" class=\"dataframe\">\n",
       "  <thead>\n",
       "    <tr style=\"text-align: right;\">\n",
       "      <th></th>\n",
       "      <th>MLE</th>\n",
       "    </tr>\n",
       "  </thead>\n",
       "  <tbody>\n",
       "    <tr>\n",
       "      <th>intercept</th>\n",
       "      <td>334.612928</td>\n",
       "    </tr>\n",
       "    <tr>\n",
       "      <th>mat</th>\n",
       "      <td>29.966268</td>\n",
       "    </tr>\n",
       "    <tr>\n",
       "      <th>sp</th>\n",
       "      <td>-17.342665</td>\n",
       "    </tr>\n",
       "    <tr>\n",
       "      <th>sij</th>\n",
       "      <td>15.104790</td>\n",
       "    </tr>\n",
       "    <tr>\n",
       "      <th>ita</th>\n",
       "      <td>-3.578973</td>\n",
       "    </tr>\n",
       "    <tr>\n",
       "      <th>lansi</th>\n",
       "      <td>-31.299445</td>\n",
       "    </tr>\n",
       "    <tr>\n",
       "      <th>pohjoinen</th>\n",
       "      <td>-11.892152</td>\n",
       "    </tr>\n",
       "  </tbody>\n",
       "</table>\n",
       "</div>"
      ],
      "text/plain": [
       "                  MLE\n",
       "intercept  334.612928\n",
       "mat         29.966268\n",
       "sp         -17.342665\n",
       "sij         15.104790\n",
       "ita         -3.578973\n",
       "lansi      -31.299445\n",
       "pohjoinen  -11.892152"
      ]
     },
     "execution_count": 14,
     "metadata": {},
     "output_type": "execute_result"
    }
   ],
   "source": [
    "MLEs"
   ]
  },
  {
   "cell_type": "code",
   "execution_count": null,
   "id": "c165d444",
   "metadata": {},
   "outputs": [],
   "source": []
  },
  {
   "cell_type": "code",
   "execution_count": null,
   "id": "63261028",
   "metadata": {},
   "outputs": [],
   "source": []
  },
  {
   "cell_type": "code",
   "execution_count": null,
   "id": "5d927141",
   "metadata": {},
   "outputs": [],
   "source": []
  },
  {
   "cell_type": "markdown",
   "id": "e15821e4",
   "metadata": {},
   "source": [
    "**Mallin keskivirhe** $ \\mathbf{\\hat{\\sigma}} \\, $ on"
   ]
  },
  {
   "cell_type": "markdown",
   "id": "86f1ecbc",
   "metadata": {},
   "source": [
    "$$ \\mathbf{\\hat{\\sigma}} = \\sqrt{\\frac{(y - X\\hat{\\beta})^T \\, (y - X\\hat{\\beta})}{n - p - 1}}. $$"
   ]
  },
  {
   "cell_type": "markdown",
   "id": "ee262d34",
   "metadata": {},
   "source": [
    "Mallin keskivirheen laskemiseksi tarvitaan jäännökset"
   ]
  },
  {
   "cell_type": "markdown",
   "id": "b82f52e9",
   "metadata": {},
   "source": [
    "$$ \\large\\mathbf{\\hat{\\epsilon}} = y - \\hat{y} $$"
   ]
  },
  {
   "cell_type": "markdown",
   "id": "91693bc3",
   "metadata": {},
   "source": [
    "missä $ \\mathbf{\\hat{y}} $ ovat mallin sovitteet, jotka saadaan kaavalla"
   ]
  },
  {
   "cell_type": "markdown",
   "id": "58f18da0",
   "metadata": {},
   "source": [
    "$$ \\large\\mathbf{\\hat{y}} = X\\hat{\\beta} $$"
   ]
  },
  {
   "cell_type": "markdown",
   "id": "59dbd311",
   "metadata": {},
   "source": [
    "missä X on design-matriisi ja $ \\mathbf{\\hat{\\beta}} $ on parametrivektori."
   ]
  },
  {
   "cell_type": "markdown",
   "id": "2aef7a97",
   "metadata": {},
   "source": [
    "- **Huomaa**, että keskivirheen kaavassa osoittajassa on residuaalivektorin transpoosi kertaa residuaalivektori.\n",
    "- p = parametrivektorin $ \\hat{\\beta} $ parametrien (kertoimien) lukumäärä. **Huomaa**, että tähän ei lasketa intercept-termiä mukaan!"
   ]
  },
  {
   "cell_type": "code",
   "execution_count": 15,
   "id": "bff507da",
   "metadata": {},
   "outputs": [],
   "source": [
    "resid = y - np.matmul(X, betahat)"
   ]
  },
  {
   "cell_type": "code",
   "execution_count": 16,
   "id": "0741b9fa",
   "metadata": {},
   "outputs": [],
   "source": [
    "n = len(X)"
   ]
  },
  {
   "cell_type": "code",
   "execution_count": 17,
   "id": "e319ca10",
   "metadata": {},
   "outputs": [],
   "source": [
    "p = betahat.shape[0] - 1"
   ]
  },
  {
   "cell_type": "code",
   "execution_count": 18,
   "id": "1e61242e",
   "metadata": {},
   "outputs": [],
   "source": [
    "sigmahat = np.sqrt((np.matmul(resid.T, resid)) / (n - p - 1))"
   ]
  },
  {
   "cell_type": "code",
   "execution_count": 40,
   "id": "85d78811",
   "metadata": {},
   "outputs": [
    {
     "name": "stdout",
     "output_type": "stream",
     "text": [
      "Mallin keskivirhe on: 63.400172849497096\n"
     ]
    }
   ],
   "source": [
    "print(f\"Mallin keskivirhe on: {sigmahat}\")"
   ]
  },
  {
   "cell_type": "code",
   "execution_count": null,
   "id": "73befe49",
   "metadata": {},
   "outputs": [],
   "source": []
  },
  {
   "cell_type": "code",
   "execution_count": null,
   "id": "7b8c5187",
   "metadata": {},
   "outputs": [],
   "source": []
  },
  {
   "cell_type": "code",
   "execution_count": null,
   "id": "26b3f5de",
   "metadata": {},
   "outputs": [],
   "source": []
  },
  {
   "cell_type": "markdown",
   "id": "e79b4658",
   "metadata": {},
   "source": [
    "**Suurimman uskottavuuden estimaattien $ \\mathbf{\\hat{\\beta}} $ keskivirheet**"
   ]
  },
  {
   "cell_type": "markdown",
   "id": "f1703032",
   "metadata": {},
   "source": [
    "Parametrien $ \\mathbf{\\hat{\\beta_j}} $ keskivirheet ovat"
   ]
  },
  {
   "cell_type": "markdown",
   "id": "6fe15716",
   "metadata": {},
   "source": [
    "$$ \\sqrt{\\widehat{Var}(\\hat{\\beta_j}}) = \\sqrt{[\\widehat{Cov}(\\hat{\\beta})}]_{jj} := se(\\hat{\\beta_j}), $$"
   ]
  },
  {
   "cell_type": "markdown",
   "id": "619f2fbd",
   "metadata": {},
   "source": [
    "$$ missä \\, \\widehat{Cov}(\\hat{\\beta}) = \\sigma^2(X^TX)^{-1}. $$"
   ]
  },
  {
   "cell_type": "code",
   "execution_count": 20,
   "id": "94a904c2",
   "metadata": {},
   "outputs": [],
   "source": [
    "covbeta = sigmahat**2 * np.linalg.inv(np.matmul(X_arr.T, X_arr))"
   ]
  },
  {
   "cell_type": "code",
   "execution_count": 21,
   "id": "ca2f5f74",
   "metadata": {},
   "outputs": [],
   "source": [
    "sdbeta = np.sqrt(np.diagonal(covbeta))"
   ]
  },
  {
   "cell_type": "code",
   "execution_count": 22,
   "id": "164912e5",
   "metadata": {},
   "outputs": [
    {
     "data": {
      "text/html": [
       "<div>\n",
       "<style scoped>\n",
       "    .dataframe tbody tr th:only-of-type {\n",
       "        vertical-align: middle;\n",
       "    }\n",
       "\n",
       "    .dataframe tbody tr th {\n",
       "        vertical-align: top;\n",
       "    }\n",
       "\n",
       "    .dataframe thead th {\n",
       "        text-align: right;\n",
       "    }\n",
       "</style>\n",
       "<table border=\"1\" class=\"dataframe\">\n",
       "  <thead>\n",
       "    <tr style=\"text-align: right;\">\n",
       "      <th></th>\n",
       "      <th>Standard error</th>\n",
       "    </tr>\n",
       "  </thead>\n",
       "  <tbody>\n",
       "    <tr>\n",
       "      <th>intercept</th>\n",
       "      <td>24.68</td>\n",
       "    </tr>\n",
       "    <tr>\n",
       "      <th>mat</th>\n",
       "      <td>3.27</td>\n",
       "    </tr>\n",
       "    <tr>\n",
       "      <th>sp</th>\n",
       "      <td>9.03</td>\n",
       "    </tr>\n",
       "    <tr>\n",
       "      <th>sij</th>\n",
       "      <td>11.81</td>\n",
       "    </tr>\n",
       "    <tr>\n",
       "      <th>ita</th>\n",
       "      <td>15.26</td>\n",
       "    </tr>\n",
       "    <tr>\n",
       "      <th>lansi</th>\n",
       "      <td>10.89</td>\n",
       "    </tr>\n",
       "    <tr>\n",
       "      <th>pohjoinen</th>\n",
       "      <td>14.52</td>\n",
       "    </tr>\n",
       "  </tbody>\n",
       "</table>\n",
       "</div>"
      ],
      "text/plain": [
       "           Standard error\n",
       "intercept           24.68\n",
       "mat                  3.27\n",
       "sp                   9.03\n",
       "sij                 11.81\n",
       "ita                 15.26\n",
       "lansi               10.89\n",
       "pohjoinen           14.52"
      ]
     },
     "execution_count": 22,
     "metadata": {},
     "output_type": "execute_result"
    }
   ],
   "source": [
    "pd.DataFrame({\"Standard error\": np.round(sdbeta, 2)},\n",
    "              index=[\"intercept\", \"mat\", \"sp\", \"sij\", \"ita\", \"lansi\", \"pohjoinen\"])"
   ]
  },
  {
   "cell_type": "code",
   "execution_count": null,
   "id": "f8bba8f6",
   "metadata": {},
   "outputs": [],
   "source": []
  },
  {
   "cell_type": "code",
   "execution_count": null,
   "id": "308f9ea7",
   "metadata": {},
   "outputs": [],
   "source": []
  },
  {
   "cell_type": "code",
   "execution_count": null,
   "id": "6400181d",
   "metadata": {},
   "outputs": [],
   "source": []
  },
  {
   "cell_type": "markdown",
   "id": "0a6f018e",
   "metadata": {},
   "source": [
    "**Mallin selitysaste** $ \\mathbf{R^2} $"
   ]
  },
  {
   "cell_type": "markdown",
   "id": "824fef83",
   "metadata": {},
   "source": [
    "$$ SST = \\sum_{i=1}^n (y_i - \\bar{y})^2 $$"
   ]
  },
  {
   "cell_type": "markdown",
   "id": "af141ced",
   "metadata": {},
   "source": [
    "$$ SSR = \\sum_{i=1}^n (\\hat{y_i} - \\bar{y})^2 $$"
   ]
  },
  {
   "cell_type": "markdown",
   "id": "f5eb8a2a",
   "metadata": {},
   "source": [
    "$$ SSE = \\sum_{i=1}^n (y_i - \\hat{y_i})^2 $$"
   ]
  },
  {
   "cell_type": "markdown",
   "id": "8d8a3def",
   "metadata": {},
   "source": [
    "$$ \\hat{y} = X\\hat{\\beta} $$"
   ]
  },
  {
   "cell_type": "markdown",
   "id": "66b939d0",
   "metadata": {},
   "source": [
    "- SST on vasteen kokonaisvaihtelu\n",
    "- SSR on regressiomallin selittämä vaihtelu\n",
    "- SSE on selittämätön vaihtelu (jäännösvaihtelu)"
   ]
  },
  {
   "cell_type": "markdown",
   "id": "72e02b8d",
   "metadata": {},
   "source": [
    "$$ R^2 = \\frac{SSR}{SST} = 1- \\frac{SSE}{SST} $$"
   ]
  },
  {
   "cell_type": "code",
   "execution_count": 23,
   "id": "57bd4838",
   "metadata": {},
   "outputs": [],
   "source": [
    "SST = sum((y - np.mean(y))**2)"
   ]
  },
  {
   "cell_type": "code",
   "execution_count": 24,
   "id": "2d6d79f3",
   "metadata": {},
   "outputs": [],
   "source": [
    "yhat = np.matmul(X_arr, betahat)"
   ]
  },
  {
   "cell_type": "code",
   "execution_count": 25,
   "id": "437f9708",
   "metadata": {},
   "outputs": [],
   "source": [
    "SSE = sum((y - yhat)**2)"
   ]
  },
  {
   "cell_type": "code",
   "execution_count": 26,
   "id": "109e1942",
   "metadata": {},
   "outputs": [],
   "source": [
    "Rsquared = 1 - (SSE / SST)"
   ]
  },
  {
   "cell_type": "code",
   "execution_count": 41,
   "id": "f4f49d59",
   "metadata": {},
   "outputs": [
    {
     "name": "stdout",
     "output_type": "stream",
     "text": [
      "Mallin selitysaste on: 0.3330070900240759\n"
     ]
    }
   ],
   "source": [
    "print(f\"Mallin selitysaste on: {Rsquared}\")"
   ]
  },
  {
   "cell_type": "code",
   "execution_count": null,
   "id": "36a72aa0",
   "metadata": {},
   "outputs": [],
   "source": []
  },
  {
   "cell_type": "code",
   "execution_count": null,
   "id": "e91f00c1",
   "metadata": {},
   "outputs": [],
   "source": []
  },
  {
   "cell_type": "code",
   "execution_count": null,
   "id": "f4dcd938",
   "metadata": {},
   "outputs": [],
   "source": []
  },
  {
   "cell_type": "code",
   "execution_count": null,
   "id": "92899b02",
   "metadata": {},
   "outputs": [],
   "source": []
  },
  {
   "cell_type": "code",
   "execution_count": null,
   "id": "8fd1edc8",
   "metadata": {},
   "outputs": [],
   "source": []
  },
  {
   "cell_type": "markdown",
   "id": "3a091c90",
   "metadata": {},
   "source": [
    "**Tehtävä 7**"
   ]
  },
  {
   "cell_type": "markdown",
   "id": "d6677a7e",
   "metadata": {},
   "source": [
    "Testaa t-testin avulla edellisen tehtävän lineaarisen mallin tapauksessa sukupuoleen liittyvää regressiokerrointa, eli nollahypoteesiä $ H_0 : \\beta_2 = 0. $"
   ]
  },
  {
   "cell_type": "markdown",
   "id": "5f0331c8",
   "metadata": {},
   "source": [
    "t-testisuure lineaarisen mallin yksittäiselle regressiokertoimelle saadaan kaavalla"
   ]
  },
  {
   "cell_type": "markdown",
   "id": "ee709ad4",
   "metadata": {},
   "source": [
    "$$ t = \\frac{\\hat{\\beta_j} - \\beta_j}{se(\\hat{\\beta_j})}. $$"
   ]
  },
  {
   "cell_type": "markdown",
   "id": "8178e24d",
   "metadata": {},
   "source": [
    "Huomaa, että $ \\mathbf{\\beta_j} $ on nollahypoteesin mukainen regressiokerroin (nolla) eli osoittajaan jää ainoastaan testattava regressiokerroin. "
   ]
  },
  {
   "cell_type": "code",
   "execution_count": 28,
   "id": "451082fb",
   "metadata": {},
   "outputs": [],
   "source": [
    "t = betahat[2] / sdbeta[2]"
   ]
  },
  {
   "cell_type": "code",
   "execution_count": 43,
   "id": "e5bcbaae",
   "metadata": {},
   "outputs": [
    {
     "name": "stdout",
     "output_type": "stream",
     "text": [
      "Testisuure on: -1.9206433364970659\n"
     ]
    }
   ],
   "source": [
    "print(f\"Testisuure on: {t}\")"
   ]
  },
  {
   "cell_type": "code",
   "execution_count": 30,
   "id": "376034d0",
   "metadata": {},
   "outputs": [],
   "source": [
    "p_value = 2 * (1 - scipy.stats.t.cdf(np.abs(t), n-p-1))"
   ]
  },
  {
   "cell_type": "code",
   "execution_count": 44,
   "id": "bdb42257",
   "metadata": {},
   "outputs": [
    {
     "name": "stdout",
     "output_type": "stream",
     "text": [
      "p-arvo on: 0.05625059985174641\n"
     ]
    }
   ],
   "source": [
    "print(f\"p-arvo on: {p_value}\")"
   ]
  },
  {
   "cell_type": "code",
   "execution_count": null,
   "id": "53395f42",
   "metadata": {},
   "outputs": [],
   "source": []
  },
  {
   "cell_type": "code",
   "execution_count": null,
   "id": "8c416683",
   "metadata": {},
   "outputs": [],
   "source": []
  },
  {
   "cell_type": "code",
   "execution_count": null,
   "id": "ce701e2e",
   "metadata": {},
   "outputs": [],
   "source": []
  },
  {
   "cell_type": "code",
   "execution_count": null,
   "id": "d3821414",
   "metadata": {},
   "outputs": [],
   "source": []
  },
  {
   "cell_type": "code",
   "execution_count": null,
   "id": "3f245034",
   "metadata": {},
   "outputs": [],
   "source": []
  },
  {
   "cell_type": "markdown",
   "id": "65f1b19c",
   "metadata": {},
   "source": [
    "**Tehtävä 8**"
   ]
  },
  {
   "cell_type": "markdown",
   "id": "9f9180f4",
   "metadata": {},
   "source": [
    "Testaa F-testin avulla seuraavia hypoteeseja.\n",
    "- $ H_0 : \\beta_1 = \\, ... \\, = \\beta_6 = 0 $ (keskiarvomalli on riittävä selittämään\n",
    "vasteen arvoissa esiintyvää vaihtelua).\n",
    "- $ H_1 : $ ainakin yksi regressiokerroin $ \\neq 0 $.\n",
    "- Tämän voidaan ajatella testaavan yleisesti regressiomallin merkitsevyyttä ja se voidaan laskea kaavalla"
   ]
  },
  {
   "cell_type": "markdown",
   "id": "98f154a9",
   "metadata": {},
   "source": [
    "$$ \\large F = \\frac{\\frac{R^2}{p - 1}}{\\frac{1 - R^2}{n - p}}, $$"
   ]
  },
  {
   "cell_type": "markdown",
   "id": "06a0d106",
   "metadata": {},
   "source": [
    "missä p on regressiokertoimien lukumäärä vakiotermi mukaan lukien."
   ]
  },
  {
   "cell_type": "code",
   "execution_count": 104,
   "id": "e9e0c674",
   "metadata": {},
   "outputs": [],
   "source": [
    "F1 = (Rsquared / (7 - 1)) / ((1 - Rsquared) / (n - 7))"
   ]
  },
  {
   "cell_type": "code",
   "execution_count": 105,
   "id": "4f302ff6",
   "metadata": {},
   "outputs": [
    {
     "data": {
      "text/plain": [
       "16.059733022990848"
      ]
     },
     "execution_count": 105,
     "metadata": {},
     "output_type": "execute_result"
    }
   ],
   "source": [
    "F1"
   ]
  },
  {
   "cell_type": "code",
   "execution_count": 108,
   "id": "5f0f0659",
   "metadata": {},
   "outputs": [],
   "source": [
    "critical_value1 = scipy.stats.f.ppf(0.99, 6, n-7)"
   ]
  },
  {
   "cell_type": "code",
   "execution_count": 109,
   "id": "951bd17d",
   "metadata": {},
   "outputs": [
    {
     "data": {
      "text/plain": [
       "2.896631146555669"
      ]
     },
     "execution_count": 109,
     "metadata": {},
     "output_type": "execute_result"
    }
   ],
   "source": [
    "critical_value1"
   ]
  },
  {
   "cell_type": "markdown",
   "id": "e4bc6df8",
   "metadata": {},
   "source": [
    "- Koska F-testisuureen arvo on suurempi kuin kriittinen arvo 1 %:n merkitsevyystasolla, nollahypoteesi voidaan hylätä ja todeta, että ainakin yksi regressiokerroin on nollasta poikkeava."
   ]
  },
  {
   "cell_type": "code",
   "execution_count": null,
   "id": "beccde7c",
   "metadata": {},
   "outputs": [],
   "source": []
  },
  {
   "cell_type": "code",
   "execution_count": null,
   "id": "f3f3d8e9",
   "metadata": {},
   "outputs": [],
   "source": []
  },
  {
   "cell_type": "code",
   "execution_count": null,
   "id": "3189bbca",
   "metadata": {},
   "outputs": [],
   "source": []
  },
  {
   "cell_type": "markdown",
   "id": "f8c9393f",
   "metadata": {},
   "source": [
    "- $ H_0 : \\beta_4 = \\beta_5 = \\beta_6 = 0 $"
   ]
  },
  {
   "cell_type": "markdown",
   "id": "485d0e06",
   "metadata": {},
   "source": [
    "Osittainen F-testi (partial F-test) voidaan laskea kaavalla"
   ]
  },
  {
   "cell_type": "markdown",
   "id": "b9dabf82",
   "metadata": {},
   "source": [
    "$$ \\large F = \\frac{\\frac{SSE_{reduced} - SSE_{full}}{k}}{\\frac{SSE_{full}}{n - p - 1}}, $$"
   ]
  },
  {
   "cell_type": "markdown",
   "id": "ecf6e7d2",
   "metadata": {},
   "source": [
    "missä k on niiden syötemuuttujien määrä, jotka poistettiin mallista ja p on regressiokertoimien lukumäärä."
   ]
  },
  {
   "cell_type": "markdown",
   "id": "997aa8fe",
   "metadata": {},
   "source": [
    "$$ SSE = \\sum_{i=1}^n (y_i - \\hat{y_i})^2 $$"
   ]
  },
  {
   "cell_type": "markdown",
   "id": "9dc493d3",
   "metadata": {},
   "source": [
    "$$ \\hat{y} = X\\hat{\\beta} $$"
   ]
  },
  {
   "cell_type": "code",
   "execution_count": 36,
   "id": "642676f7",
   "metadata": {},
   "outputs": [],
   "source": [
    "X_koulualue = X[[\"ita\", \"lansi\", \"pohjoinen\"]]"
   ]
  },
  {
   "cell_type": "code",
   "execution_count": 37,
   "id": "b51cba73",
   "metadata": {},
   "outputs": [],
   "source": [
    "betahat_koulualue = MLEs[4:7]"
   ]
  },
  {
   "cell_type": "code",
   "execution_count": 88,
   "id": "d92efd98",
   "metadata": {},
   "outputs": [],
   "source": [
    "yhat_koulualue = np.matmul(X_koulualue.values, betahat_koulualue.values.T.ravel())"
   ]
  },
  {
   "cell_type": "code",
   "execution_count": 90,
   "id": "8f46ac86",
   "metadata": {},
   "outputs": [
    {
     "data": {
      "text/plain": [
       "(200,)"
      ]
     },
     "execution_count": 90,
     "metadata": {},
     "output_type": "execute_result"
    }
   ],
   "source": [
    "yhat_koulualue.shape"
   ]
  },
  {
   "cell_type": "code",
   "execution_count": 92,
   "id": "3cb2bc2d",
   "metadata": {},
   "outputs": [],
   "source": [
    "SSE_koulualue = sum((y - yhat_koulualue)**2)"
   ]
  },
  {
   "cell_type": "code",
   "execution_count": 129,
   "id": "a8f0aaa3",
   "metadata": {},
   "outputs": [],
   "source": [
    "F_partial = ((SSE_koulualue - SSE) / 3) / (SSE / (n - 7))"
   ]
  },
  {
   "cell_type": "code",
   "execution_count": 130,
   "id": "89207739",
   "metadata": {},
   "outputs": [
    {
     "data": {
      "text/plain": [
       "5057.954804632745"
      ]
     },
     "execution_count": 130,
     "metadata": {},
     "output_type": "execute_result"
    }
   ],
   "source": [
    "F_partial"
   ]
  },
  {
   "cell_type": "code",
   "execution_count": 110,
   "id": "7bf13047",
   "metadata": {},
   "outputs": [],
   "source": [
    "critical_value2 = scipy.stats.f.ppf(0.99, 3, n-7)"
   ]
  },
  {
   "cell_type": "code",
   "execution_count": 112,
   "id": "6a507138",
   "metadata": {},
   "outputs": [
    {
     "data": {
      "text/plain": [
       "3.8846877608929344"
      ]
     },
     "execution_count": 112,
     "metadata": {},
     "output_type": "execute_result"
    }
   ],
   "source": [
    "critical_value2"
   ]
  },
  {
   "cell_type": "markdown",
   "id": "a504608a",
   "metadata": {},
   "source": [
    "- Koska F-testisuureen arvo on suurempi kuin kriittinen arvo 1 %:n merkitsevyystasolla, nollahypoteesi voidaan hylätä."
   ]
  },
  {
   "cell_type": "code",
   "execution_count": null,
   "id": "09eb7f76",
   "metadata": {},
   "outputs": [],
   "source": []
  },
  {
   "cell_type": "code",
   "execution_count": null,
   "id": "e2569d50",
   "metadata": {},
   "outputs": [],
   "source": []
  },
  {
   "cell_type": "code",
   "execution_count": null,
   "id": "aa683dbe",
   "metadata": {},
   "outputs": [],
   "source": []
  },
  {
   "cell_type": "markdown",
   "id": "829df488",
   "metadata": {},
   "source": [
    "- $ H_0 : \\beta_4 = \\beta_6 $\n",
    "- $ H_1 : \\beta_4 \\neq \\beta_6 $"
   ]
  },
  {
   "cell_type": "code",
   "execution_count": 113,
   "id": "9c709ad6",
   "metadata": {},
   "outputs": [],
   "source": [
    "X_ita_pohjoinen = X[[\"ita\", \"pohjoinen\"]]"
   ]
  },
  {
   "cell_type": "code",
   "execution_count": 117,
   "id": "d928e58b",
   "metadata": {},
   "outputs": [],
   "source": [
    "betahat_ita_pohjoinen = MLEs.loc[[\"ita\", \"pohjoinen\"]]"
   ]
  },
  {
   "cell_type": "code",
   "execution_count": 124,
   "id": "26a415f1",
   "metadata": {},
   "outputs": [],
   "source": [
    "yhat_ita_pohjoinen = np.matmul(X_ita_pohjoinen.values, \n",
    "                               betahat_ita_pohjoinen.values.T.ravel())"
   ]
  },
  {
   "cell_type": "code",
   "execution_count": 126,
   "id": "1ede3238",
   "metadata": {},
   "outputs": [
    {
     "data": {
      "text/plain": [
       "(200,)"
      ]
     },
     "execution_count": 126,
     "metadata": {},
     "output_type": "execute_result"
    }
   ],
   "source": [
    "yhat_ita_pohjoinen.shape"
   ]
  },
  {
   "cell_type": "code",
   "execution_count": 127,
   "id": "d98f3ebe",
   "metadata": {},
   "outputs": [],
   "source": [
    "SSE_ita_pohjoinen = sum((y - yhat_ita_pohjoinen)**2)"
   ]
  },
  {
   "cell_type": "code",
   "execution_count": 131,
   "id": "31c9494d",
   "metadata": {},
   "outputs": [],
   "source": [
    "F_partial2 = ((SSE_ita_pohjoinen - SSE) / 2) / (SSE / (n - 7))"
   ]
  },
  {
   "cell_type": "code",
   "execution_count": 134,
   "id": "16ad8b06",
   "metadata": {},
   "outputs": [
    {
     "data": {
      "text/plain": [
       "7370.66564927661"
      ]
     },
     "execution_count": 134,
     "metadata": {},
     "output_type": "execute_result"
    }
   ],
   "source": [
    "F_partial2"
   ]
  },
  {
   "cell_type": "code",
   "execution_count": 132,
   "id": "3cc23277",
   "metadata": {},
   "outputs": [],
   "source": [
    "critical_value3 = scipy.stats.f.ppf(0.99, 2, n-7)"
   ]
  },
  {
   "cell_type": "code",
   "execution_count": 133,
   "id": "b6a156aa",
   "metadata": {},
   "outputs": [
    {
     "data": {
      "text/plain": [
       "4.716823098028525"
      ]
     },
     "execution_count": 133,
     "metadata": {},
     "output_type": "execute_result"
    }
   ],
   "source": [
    "critical_value3"
   ]
  },
  {
   "cell_type": "markdown",
   "id": "c23f394e",
   "metadata": {},
   "source": [
    "- Koska F-testisuureen arvo on suurempi kuin kriittinen arvo 1 %:n merkitsevyystasolla, nollahypoteesi voidaan hylätä."
   ]
  },
  {
   "cell_type": "markdown",
   "id": "560e5d09",
   "metadata": {},
   "source": [
    "**Todennäköisesti en tehnyt tehtävän 8 kohdissa b ja c sitä, mitä pyydettiin.**\n",
    "- Ymmärtääkseni osittainen F-testi (partial F-test) vertaa pienempiä malleja (nested models) alkuperäiseen malliin, jossa on kaikki regressiokertoimet mukana.\n",
    "- Jos $ H_0 $ hylätään (testisuure > kriittinen arvo), niin voidaan todeta, että kyseessä oleva nested model ei ole riittävä / parempi verrattuna alkuperäiseen malliin, jossa on kaikki regressiokertoimet mukana.\n",
    "- Tämä ei mielestäni ole  verrattavissa demolapussa olevien sulkeiden sisältöön  tehtävien b ja c kohdalla."
   ]
  }
 ],
 "metadata": {
  "kernelspec": {
   "display_name": "Python 3 (ipykernel)",
   "language": "python",
   "name": "python3"
  },
  "language_info": {
   "codemirror_mode": {
    "name": "ipython",
    "version": 3
   },
   "file_extension": ".py",
   "mimetype": "text/x-python",
   "name": "python",
   "nbconvert_exporter": "python",
   "pygments_lexer": "ipython3",
   "version": "3.9.12"
  }
 },
 "nbformat": 4,
 "nbformat_minor": 5
}
