{
  "nbformat": 4,
  "nbformat_minor": 0,
  "metadata": {
    "colab": {
      "provenance": [],
      "authorship_tag": "ABX9TyOhk9cf4uwbCQNEoDOj77pG",
      "include_colab_link": true
    },
    "kernelspec": {
      "name": "python3",
      "display_name": "Python 3"
    },
    "language_info": {
      "name": "python"
    }
  },
  "cells": [
    {
      "cell_type": "markdown",
      "metadata": {
        "id": "view-in-github",
        "colab_type": "text"
      },
      "source": [
        "<a href=\"https://colab.research.google.com/github/HerraKaava/Python_Projects/blob/main/NN-Regression/Intro_to_NN_Regression.ipynb\" target=\"_parent\"><img src=\"https://colab.research.google.com/assets/colab-badge.svg\" alt=\"Open In Colab\"/></a>"
      ]
    },
    {
      "cell_type": "markdown",
      "source": [
        "<h3>Inputs and outputs of a neural network regression model</h3>"
      ],
      "metadata": {
        "id": "zEUBbu96e2F7"
      }
    },
    {
      "cell_type": "markdown",
      "source": [
        "* In statistical modeling, regression analysis is a set of statistical processes for estimating the relationships between a dependent variable (outcome variable) and one or more independent variables (predictors, covariates, features).\n",
        "* In a NN regression, the input features need to be numerically encoded (e.g., one-hot encoding)."
      ],
      "metadata": {
        "id": "je1Yd2wGgIgw"
      }
    },
    {
      "cell_type": "markdown",
      "source": [
        "<br>"
      ],
      "metadata": {
        "id": "Tff_E7E-i5vA"
      }
    },
    {
      "cell_type": "markdown",
      "source": [
        "<h3>Anatomy and architecture of a neural network regression model</h3>"
      ],
      "metadata": {
        "id": "hAYJxcroi5xr"
      }
    },
    {
      "cell_type": "markdown",
      "source": [
        "* Input layer $\\, \\boldsymbol{\\rightarrow} \\,$ Hidden layer(s) $\\, \\boldsymbol{\\rightarrow} \\,$ Output layer\n",
        "\n",
        "* *Input layer*\n",
        "  * the training data goes into this layer\n",
        "* *Hidden layer(s)*\n",
        "  * in the hidden layer(s), the NN learns the patterns in the data\n",
        "* *Output layer*\n",
        "  * outputs the prediction for the target variable"
      ],
      "metadata": {
        "id": "LO9gNuqijHh4"
      }
    },
    {
      "cell_type": "markdown",
      "source": [
        "<br>"
      ],
      "metadata": {
        "id": "bfWdlAUajbl5"
      }
    },
    {
      "cell_type": "markdown",
      "source": [
        "<table>\n",
        "  <tr>\n",
        "    <th>Hyperparameter</th>\n",
        "    <th>Typical value</th>\n",
        "  </tr>\n",
        "  <tr>\n",
        "    <td>Input layer shape</td>\n",
        "    <td>Same shape as the number of features</td>\n",
        "  </tr>\n",
        "  <tr>\n",
        "    <td>Hidden layer(s)</td>\n",
        "    <td>Problem specific, min=1, max=unlimited</td>\n",
        "  </tr>\n",
        "  <tr>\n",
        "    <td>Neurons per hidden layer</td>\n",
        "    <td>Problem specific, generally 10-100</td>\n",
        "  </tr>\n",
        "  <tr>\n",
        "    <td>Output layer shape</td>\n",
        "    <td>Same shape as the desired prediction shape</td>\n",
        "  </tr>\n",
        "  <tr>\n",
        "    <td>Hidden activation</td>\n",
        "    <td>Usually ReLU (rectified linear unit)</td>\n",
        "  </tr>\n",
        "  <tr>\n",
        "    <td>Output activation</td>\n",
        "    <td>None, ReLU, softmax, tanh</td>\n",
        "  </tr>\n",
        "  <tr>\n",
        "    <td>Loss function</td>\n",
        "    <td>MSE, MAE, Huber (combination of MSE and MAE)</td>\n",
        "  </tr>\n",
        "  <tr>\n",
        "    <td>Optimizer</td>\n",
        "    <td>SGD, Adam</td>\n",
        "  </tr>"
      ],
      "metadata": {
        "id": "EDbGU20vlah_"
      }
    },
    {
      "cell_type": "markdown",
      "source": [],
      "metadata": {
        "id": "tgxmP4vqnGaf"
      }
    }
  ]
}