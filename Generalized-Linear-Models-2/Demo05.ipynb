{
 "cells": [
  {
   "cell_type": "markdown",
   "id": "07255a09",
   "metadata": {},
   "source": [
    "<h1 align=\"center\">Generalized Linear Models 2, Demo 5</h1>"
   ]
  },
  {
   "cell_type": "markdown",
   "id": "d506ce8a",
   "metadata": {},
   "source": [
    "<br>"
   ]
  },
  {
   "cell_type": "code",
   "execution_count": 1,
   "id": "fa267629",
   "metadata": {},
   "outputs": [],
   "source": [
    "from statsmodels.formula.api import logit\n",
    "import pandas as pd\n",
    "import numpy as np\n",
    "import scipy"
   ]
  },
  {
   "cell_type": "markdown",
   "id": "1a65b808",
   "metadata": {},
   "source": [
    "<h3 align=\"left\">Tasks 3 & 4</h3>"
   ]
  },
  {
   "cell_type": "markdown",
   "id": "b77e931b",
   "metadata": {},
   "source": [
    "Fit a logistic regression model to the given data with the following formula\n",
    "\n",
    "$$ logit(\\pi_i) = \\beta_0 \\, + \\, \\beta_1 \\, tupak_i \\, + \\, \\beta_2 \\, lapsia2_i \\, + \\, \\beta_3 \\, lapsia3_i, \\: \\: \\: \\: \\: \\: i=1,...,n. \\,$$"
   ]
  },
  {
   "cell_type": "markdown",
   "id": "ccf7b70b",
   "metadata": {},
   "source": [
    "Estimate the regression coefficients $\\, \\boldsymbol{\\beta} = (\\beta_0, \\, \\beta_1, \\, \\beta_2, \\, \\beta_3)^T \\,$ with the **Fisher Scoring** algorithm. "
   ]
  },
  {
   "cell_type": "code",
   "execution_count": 138,
   "id": "fd977daa",
   "metadata": {},
   "outputs": [],
   "source": [
    "data = pd.read_csv(\"C:/Users/testi/Desktop/R_GLM2/korvatulehdus_data.csv\", index_col=0)"
   ]
  },
  {
   "cell_type": "code",
   "execution_count": 139,
   "id": "c1065463",
   "metadata": {},
   "outputs": [
    {
     "data": {
      "text/plain": [
       "(816, 3)"
      ]
     },
     "execution_count": 139,
     "metadata": {},
     "output_type": "execute_result"
    }
   ],
   "source": [
    "data.shape"
   ]
  },
  {
   "cell_type": "code",
   "execution_count": 140,
   "id": "39d4387f",
   "metadata": {},
   "outputs": [
    {
     "data": {
      "text/html": [
       "<div>\n",
       "<style scoped>\n",
       "    .dataframe tbody tr th:only-of-type {\n",
       "        vertical-align: middle;\n",
       "    }\n",
       "\n",
       "    .dataframe tbody tr th {\n",
       "        vertical-align: top;\n",
       "    }\n",
       "\n",
       "    .dataframe thead th {\n",
       "        text-align: right;\n",
       "    }\n",
       "</style>\n",
       "<table border=\"1\" class=\"dataframe\">\n",
       "  <thead>\n",
       "    <tr style=\"text-align: right;\">\n",
       "      <th></th>\n",
       "      <th>tulehdus</th>\n",
       "      <th>tupak</th>\n",
       "      <th>lapsia</th>\n",
       "    </tr>\n",
       "  </thead>\n",
       "  <tbody>\n",
       "    <tr>\n",
       "      <th>1</th>\n",
       "      <td>1</td>\n",
       "      <td>0</td>\n",
       "      <td>2</td>\n",
       "    </tr>\n",
       "    <tr>\n",
       "      <th>2</th>\n",
       "      <td>1</td>\n",
       "      <td>0</td>\n",
       "      <td>2</td>\n",
       "    </tr>\n",
       "    <tr>\n",
       "      <th>3</th>\n",
       "      <td>1</td>\n",
       "      <td>1</td>\n",
       "      <td>3</td>\n",
       "    </tr>\n",
       "    <tr>\n",
       "      <th>4</th>\n",
       "      <td>0</td>\n",
       "      <td>0</td>\n",
       "      <td>2</td>\n",
       "    </tr>\n",
       "    <tr>\n",
       "      <th>5</th>\n",
       "      <td>0</td>\n",
       "      <td>0</td>\n",
       "      <td>2</td>\n",
       "    </tr>\n",
       "  </tbody>\n",
       "</table>\n",
       "</div>"
      ],
      "text/plain": [
       "   tulehdus  tupak  lapsia\n",
       "1         1      0       2\n",
       "2         1      0       2\n",
       "3         1      1       3\n",
       "4         0      0       2\n",
       "5         0      0       2"
      ]
     },
     "execution_count": 140,
     "metadata": {},
     "output_type": "execute_result"
    }
   ],
   "source": [
    "data.head()"
   ]
  },
  {
   "cell_type": "code",
   "execution_count": 141,
   "id": "92a48e13",
   "metadata": {},
   "outputs": [
    {
     "data": {
      "text/plain": [
       "tulehdus    int64\n",
       "tupak       int64\n",
       "lapsia      int64\n",
       "dtype: object"
      ]
     },
     "execution_count": 141,
     "metadata": {},
     "output_type": "execute_result"
    }
   ],
   "source": [
    "data.dtypes"
   ]
  },
  {
   "cell_type": "code",
   "execution_count": 142,
   "id": "b1b2b566",
   "metadata": {},
   "outputs": [],
   "source": [
    "data[\"tupak\"] = data[\"tupak\"].astype(\"category\")\n",
    "data[\"lapsia\"] = data[\"lapsia\"].astype(\"category\")"
   ]
  },
  {
   "cell_type": "code",
   "execution_count": 143,
   "id": "99b80aa6",
   "metadata": {},
   "outputs": [
    {
     "data": {
      "text/plain": [
       "tulehdus       int64\n",
       "tupak       category\n",
       "lapsia      category\n",
       "dtype: object"
      ]
     },
     "execution_count": 143,
     "metadata": {},
     "output_type": "execute_result"
    }
   ],
   "source": [
    "data.dtypes"
   ]
  },
  {
   "cell_type": "code",
   "execution_count": 144,
   "id": "3639a9cb",
   "metadata": {},
   "outputs": [
    {
     "name": "stdout",
     "output_type": "stream",
     "text": [
      "Optimization terminated successfully.\n",
      "         Current function value: 0.671780\n",
      "         Iterations 5\n"
     ]
    }
   ],
   "source": [
    "model1 = logit(\"tulehdus ~ tupak + lapsia\", data=data).fit()"
   ]
  },
  {
   "cell_type": "markdown",
   "id": "7be7cf2f",
   "metadata": {},
   "source": [
    "<br>"
   ]
  },
  {
   "cell_type": "markdown",
   "id": "d38774cb",
   "metadata": {},
   "source": [
    "**Fisher Scoring algorithm**"
   ]
  },
  {
   "cell_type": "code",
   "execution_count": 145,
   "id": "a5d75d68",
   "metadata": {},
   "outputs": [],
   "source": [
    "# The response variable\n",
    "y = data[\"tulehdus\"].values\n",
    "\n",
    "# The design matrix\n",
    "X0 = np.ones(len(y))\n",
    "X1 = data[\"tupak\"].values\n",
    "X2 = np.where(data[\"lapsia\"] == 2, 1, 0)\n",
    "X3 = np.where(data[\"lapsia\"] == 3, 1, 0)\n",
    "X = pd.DataFrame({\"X0\": X0,\n",
    "                  \"X1\": X1,\n",
    "                  \"X2\": X2,\n",
    "                  \"X3\": X3})\n",
    "X = X.values\n",
    "\n",
    "# Initialize logistic function\n",
    "def pi(eta):\n",
    "    return (np.exp(eta) / (1 + np.exp(eta)))\n",
    "\n",
    "# Initialize beta and epsilon\n",
    "beta = np.zeros(np.shape(X)[1]).T\n",
    "eps = 0.001\n",
    "\n",
    "while eps > 1e-4:\n",
    "    # Compute the linear predictor\n",
    "    eta = X @ beta\n",
    "    \n",
    "    # Compute the predicted probabilities\n",
    "    mu = pi(eta)\n",
    "    \n",
    "    # Compute diagonal weight matrix\n",
    "    W = np.diag(mu * (1 - mu))\n",
    "    \n",
    "    # Calculate the score function (the first derivative of the log-likelihood) \n",
    "    # and the Fisher information matrix\n",
    "    Score = X.T @ (y - mu)\n",
    "    I = X.T @ W @ X\n",
    "    \n",
    "    # Iteration step\n",
    "    beta_new = beta + np.linalg.inv(I) @ Score\n",
    "    \n",
    "    # Update eps for the while loop threshold criteria\n",
    "    eps = (beta_new - beta).T @ (beta_new - beta)\n",
    "    \n",
    "    # Update beta\n",
    "    beta = beta_new"
   ]
  },
  {
   "cell_type": "markdown",
   "id": "1027d57b",
   "metadata": {},
   "source": [
    "Let's build up a dataframe and add two column vectors to it; the estimated $\\, \\mathbf{\\beta} \\,$ coefficients that we achieved using the **Fisher Scoring algorithm**, and the corresponding standard errors for the $\\, \\mathbf{\\beta} \\,$ coefficients.\n",
    "\n",
    "Note that the **standard errors** for the **$\\, \\mathbf{\\beta} \\,$ coefficients** can be achived by taking the **square root of the diagonal elements of the inverse of the Fisher Information matrix**."
   ]
  },
  {
   "cell_type": "code",
   "execution_count": 146,
   "id": "1d69ed58",
   "metadata": {},
   "outputs": [],
   "source": [
    "# Standard errors of the beta coefficients\n",
    "se = np.sqrt(np.diag(np.linalg.inv(I)))"
   ]
  },
  {
   "cell_type": "code",
   "execution_count": 147,
   "id": "b11ac7bd",
   "metadata": {},
   "outputs": [],
   "source": [
    "df = pd.DataFrame({\"Beta coeff\": beta,\n",
    "                   \"Standard error\": se},\n",
    "                   index=[\"intercept\", \"tupak\", \"lapsia2\", \"lapsia3\"])\n",
    "df = df.style.set_caption(\"Fisher Scoring algorithm\")"
   ]
  },
  {
   "cell_type": "code",
   "execution_count": 148,
   "id": "ccc7fcdc",
   "metadata": {},
   "outputs": [
    {
     "data": {
      "text/html": [
       "<style type=\"text/css\">\n",
       "</style>\n",
       "<table id=\"T_b02a7\">\n",
       "  <caption>Fisher Scoring algorithm</caption>\n",
       "  <thead>\n",
       "    <tr>\n",
       "      <th class=\"blank level0\" >&nbsp;</th>\n",
       "      <th id=\"T_b02a7_level0_col0\" class=\"col_heading level0 col0\" >Beta coeff</th>\n",
       "      <th id=\"T_b02a7_level0_col1\" class=\"col_heading level0 col1\" >Standard error</th>\n",
       "    </tr>\n",
       "  </thead>\n",
       "  <tbody>\n",
       "    <tr>\n",
       "      <th id=\"T_b02a7_level0_row0\" class=\"row_heading level0 row0\" >intercept</th>\n",
       "      <td id=\"T_b02a7_row0_col0\" class=\"data row0 col0\" >-0.422455</td>\n",
       "      <td id=\"T_b02a7_row0_col1\" class=\"data row0 col1\" >0.144169</td>\n",
       "    </tr>\n",
       "    <tr>\n",
       "      <th id=\"T_b02a7_level0_row1\" class=\"row_heading level0 row1\" >tupak</th>\n",
       "      <td id=\"T_b02a7_row1_col0\" class=\"data row1 col0\" >0.134568</td>\n",
       "      <td id=\"T_b02a7_row1_col1\" class=\"data row1 col1\" >0.196397</td>\n",
       "    </tr>\n",
       "    <tr>\n",
       "      <th id=\"T_b02a7_level0_row2\" class=\"row_heading level0 row2\" >lapsia2</th>\n",
       "      <td id=\"T_b02a7_row2_col0\" class=\"data row2 col0\" >0.593833</td>\n",
       "      <td id=\"T_b02a7_row2_col1\" class=\"data row2 col1\" >0.166635</td>\n",
       "    </tr>\n",
       "    <tr>\n",
       "      <th id=\"T_b02a7_level0_row3\" class=\"row_heading level0 row3\" >lapsia3</th>\n",
       "      <td id=\"T_b02a7_row3_col0\" class=\"data row3 col0\" >1.322418</td>\n",
       "      <td id=\"T_b02a7_row3_col1\" class=\"data row3 col1\" >0.249863</td>\n",
       "    </tr>\n",
       "  </tbody>\n",
       "</table>\n"
      ],
      "text/plain": [
       "<pandas.io.formats.style.Styler at 0x1a4d8ee28e0>"
      ]
     },
     "execution_count": 148,
     "metadata": {},
     "output_type": "execute_result"
    }
   ],
   "source": [
    "df"
   ]
  },
  {
   "cell_type": "markdown",
   "id": "97e45199",
   "metadata": {},
   "source": [
    "Now, let's compare these $\\, \\mathbf{\\beta} \\,$ coefficients and standard errors derived from the Fisher Scoring algorithm to the $\\, \\mathbf{\\beta} \\,$ coefficients and standard errors acquired from fitting the logistic regression model using the **logit** function from the **statsmodels** library."
   ]
  },
  {
   "cell_type": "code",
   "execution_count": 149,
   "id": "ad7e68db",
   "metadata": {},
   "outputs": [],
   "source": [
    "# Note that model1 was already fitted before\n",
    "df2 = pd.DataFrame({\"Beta coeff\": model1.params.values,\n",
    "                    \"Standard error\": model1.bse.values},\n",
    "                    index=[\"intercept\", \"tupak\", \"lapsia2\", \"lapsia3\"])\n",
    "df2 = df2.style.set_caption(\"logit function\")"
   ]
  },
  {
   "cell_type": "code",
   "execution_count": 150,
   "id": "d5fb9a6b",
   "metadata": {},
   "outputs": [
    {
     "data": {
      "text/html": [
       "<style type=\"text/css\">\n",
       "</style>\n",
       "<table id=\"T_16ff1\">\n",
       "  <caption>logit function</caption>\n",
       "  <thead>\n",
       "    <tr>\n",
       "      <th class=\"blank level0\" >&nbsp;</th>\n",
       "      <th id=\"T_16ff1_level0_col0\" class=\"col_heading level0 col0\" >Beta coeff</th>\n",
       "      <th id=\"T_16ff1_level0_col1\" class=\"col_heading level0 col1\" >Standard error</th>\n",
       "    </tr>\n",
       "  </thead>\n",
       "  <tbody>\n",
       "    <tr>\n",
       "      <th id=\"T_16ff1_level0_row0\" class=\"row_heading level0 row0\" >intercept</th>\n",
       "      <td id=\"T_16ff1_row0_col0\" class=\"data row0 col0\" >-0.422455</td>\n",
       "      <td id=\"T_16ff1_row0_col1\" class=\"data row0 col1\" >0.144169</td>\n",
       "    </tr>\n",
       "    <tr>\n",
       "      <th id=\"T_16ff1_level0_row1\" class=\"row_heading level0 row1\" >tupak</th>\n",
       "      <td id=\"T_16ff1_row1_col0\" class=\"data row1 col0\" >0.134568</td>\n",
       "      <td id=\"T_16ff1_row1_col1\" class=\"data row1 col1\" >0.196399</td>\n",
       "    </tr>\n",
       "    <tr>\n",
       "      <th id=\"T_16ff1_level0_row2\" class=\"row_heading level0 row2\" >lapsia2</th>\n",
       "      <td id=\"T_16ff1_row2_col0\" class=\"data row2 col0\" >0.593833</td>\n",
       "      <td id=\"T_16ff1_row2_col1\" class=\"data row2 col1\" >0.166635</td>\n",
       "    </tr>\n",
       "    <tr>\n",
       "      <th id=\"T_16ff1_level0_row3\" class=\"row_heading level0 row3\" >lapsia3</th>\n",
       "      <td id=\"T_16ff1_row3_col0\" class=\"data row3 col0\" >1.322418</td>\n",
       "      <td id=\"T_16ff1_row3_col1\" class=\"data row3 col1\" >0.249888</td>\n",
       "    </tr>\n",
       "  </tbody>\n",
       "</table>\n"
      ],
      "text/plain": [
       "<pandas.io.formats.style.Styler at 0x1a4d8e90bb0>"
      ]
     },
     "execution_count": 150,
     "metadata": {},
     "output_type": "execute_result"
    }
   ],
   "source": [
    "df2"
   ]
  },
  {
   "cell_type": "markdown",
   "id": "eee616a4",
   "metadata": {},
   "source": [
    "- The results are almost identical."
   ]
  },
  {
   "cell_type": "markdown",
   "id": "1bc542f3",
   "metadata": {},
   "source": [
    "<br>"
   ]
  },
  {
   "cell_type": "markdown",
   "id": "fd4ce7c0",
   "metadata": {},
   "source": [
    "<br>"
   ]
  },
  {
   "cell_type": "markdown",
   "id": "59f55430",
   "metadata": {},
   "source": [
    "<h3 align=\"left\">Task 5</h3>"
   ]
  },
  {
   "cell_type": "code",
   "execution_count": 151,
   "id": "fe42fc1a",
   "metadata": {},
   "outputs": [],
   "source": [
    "kids = pd.read_csv(\"C:/Users/testi/Desktop/R_GLM2/lapset_GLM2.csv\", index_col=0)"
   ]
  },
  {
   "cell_type": "code",
   "execution_count": 152,
   "id": "846a6a15",
   "metadata": {},
   "outputs": [
    {
     "data": {
      "text/html": [
       "<div>\n",
       "<style scoped>\n",
       "    .dataframe tbody tr th:only-of-type {\n",
       "        vertical-align: middle;\n",
       "    }\n",
       "\n",
       "    .dataframe tbody tr th {\n",
       "        vertical-align: top;\n",
       "    }\n",
       "\n",
       "    .dataframe thead th {\n",
       "        text-align: right;\n",
       "    }\n",
       "</style>\n",
       "<table border=\"1\" class=\"dataframe\">\n",
       "  <thead>\n",
       "    <tr style=\"text-align: right;\">\n",
       "      <th></th>\n",
       "      <th>aika</th>\n",
       "      <th>apit</th>\n",
       "      <th>apaino</th>\n",
       "      <th>tup</th>\n",
       "      <th>soslk</th>\n",
       "      <th>rviik</th>\n",
       "      <th>parit</th>\n",
       "      <th>sukup</th>\n",
       "      <th>syntpaino</th>\n",
       "    </tr>\n",
       "  </thead>\n",
       "  <tbody>\n",
       "    <tr>\n",
       "      <th>1</th>\n",
       "      <td>46</td>\n",
       "      <td>157</td>\n",
       "      <td>73</td>\n",
       "      <td>1</td>\n",
       "      <td>4</td>\n",
       "      <td>35</td>\n",
       "      <td>12</td>\n",
       "      <td>1</td>\n",
       "      <td>2480</td>\n",
       "    </tr>\n",
       "    <tr>\n",
       "      <th>2</th>\n",
       "      <td>27</td>\n",
       "      <td>160</td>\n",
       "      <td>58</td>\n",
       "      <td>0</td>\n",
       "      <td>3</td>\n",
       "      <td>33</td>\n",
       "      <td>1</td>\n",
       "      <td>1</td>\n",
       "      <td>3200</td>\n",
       "    </tr>\n",
       "    <tr>\n",
       "      <th>3</th>\n",
       "      <td>42</td>\n",
       "      <td>163</td>\n",
       "      <td>67</td>\n",
       "      <td>0</td>\n",
       "      <td>4</td>\n",
       "      <td>39</td>\n",
       "      <td>5</td>\n",
       "      <td>1</td>\n",
       "      <td>3300</td>\n",
       "    </tr>\n",
       "    <tr>\n",
       "      <th>4</th>\n",
       "      <td>32</td>\n",
       "      <td>164</td>\n",
       "      <td>56</td>\n",
       "      <td>0</td>\n",
       "      <td>3</td>\n",
       "      <td>38</td>\n",
       "      <td>1</td>\n",
       "      <td>1</td>\n",
       "      <td>3150</td>\n",
       "    </tr>\n",
       "    <tr>\n",
       "      <th>5</th>\n",
       "      <td>27</td>\n",
       "      <td>159</td>\n",
       "      <td>65</td>\n",
       "      <td>0</td>\n",
       "      <td>4</td>\n",
       "      <td>40</td>\n",
       "      <td>1</td>\n",
       "      <td>2</td>\n",
       "      <td>3350</td>\n",
       "    </tr>\n",
       "  </tbody>\n",
       "</table>\n",
       "</div>"
      ],
      "text/plain": [
       "   aika  apit  apaino  tup  soslk  rviik  parit  sukup  syntpaino\n",
       "1    46   157      73    1      4     35     12      1       2480\n",
       "2    27   160      58    0      3     33      1      1       3200\n",
       "3    42   163      67    0      4     39      5      1       3300\n",
       "4    32   164      56    0      3     38      1      1       3150\n",
       "5    27   159      65    0      4     40      1      2       3350"
      ]
     },
     "execution_count": 152,
     "metadata": {},
     "output_type": "execute_result"
    }
   ],
   "source": [
    "kids.head()"
   ]
  },
  {
   "cell_type": "markdown",
   "id": "a9468d5e",
   "metadata": {},
   "source": [
    "aika: mother's age \\\n",
    "moro"
   ]
  },
  {
   "cell_type": "markdown",
   "id": "eda4c2c5",
   "metadata": {},
   "source": [
    "Add two new columns (*lapsia* and *kesk*) to the dataframe based on existing columns such that\n",
    "\n",
    "lapsia: 0, if *parit* = 0 \\\n",
    "$\\: \\:  \\:  \\: \\: \\: \\:  \\:  \\:  \\: $ 1, if *parit* = 1 \\\n",
    "$\\: \\:  \\:  \\: \\: \\: \\:  \\:  \\:  \\: $ 2, otherwise\n",
    "\n",
    "kesk: 1, if syntpaino < 2500 \\\n",
    "$\\: \\: \\: \\: \\:  \\:  \\:  \\: $ 0, otherwise"
   ]
  },
  {
   "cell_type": "markdown",
   "id": "895e75fe",
   "metadata": {},
   "source": [
    "This can be easily achieved using the **apply function** together with the **lambda function**."
   ]
  },
  {
   "cell_type": "code",
   "execution_count": 153,
   "id": "8f6a28e3",
   "metadata": {},
   "outputs": [],
   "source": [
    "kids[\"lapsia\"] = kids[\"parit\"].apply(lambda x: 0 if x == 0 else 1 if x == 1 else 2)"
   ]
  },
  {
   "cell_type": "markdown",
   "id": "257594c1",
   "metadata": {},
   "source": [
    "Let's make sure that the numbers match."
   ]
  },
  {
   "cell_type": "code",
   "execution_count": 154,
   "id": "ee65e97b",
   "metadata": {},
   "outputs": [
    {
     "data": {
      "text/plain": [
       "0     636\n",
       "1     572\n",
       "2     355\n",
       "3     134\n",
       "4      89\n",
       "5      60\n",
       "6      45\n",
       "7      25\n",
       "8      15\n",
       "10      9\n",
       "9       9\n",
       "12      5\n",
       "11      2\n",
       "13      1\n",
       "20      1\n",
       "Name: parit, dtype: int64"
      ]
     },
     "execution_count": 154,
     "metadata": {},
     "output_type": "execute_result"
    }
   ],
   "source": [
    "counts = kids[\"parit\"].value_counts()\n",
    "counts"
   ]
  },
  {
   "cell_type": "code",
   "execution_count": 155,
   "id": "854a6814",
   "metadata": {},
   "outputs": [
    {
     "data": {
      "text/plain": [
       "0    636\n",
       "1    572\n",
       "Name: parit, dtype: int64"
      ]
     },
     "execution_count": 155,
     "metadata": {},
     "output_type": "execute_result"
    }
   ],
   "source": [
    "counts.loc[0:1]"
   ]
  },
  {
   "cell_type": "code",
   "execution_count": 156,
   "id": "4301f9c5",
   "metadata": {},
   "outputs": [
    {
     "data": {
      "text/plain": [
       "750"
      ]
     },
     "execution_count": 156,
     "metadata": {},
     "output_type": "execute_result"
    }
   ],
   "source": [
    "counts.loc[2:20].sum()"
   ]
  },
  {
   "cell_type": "code",
   "execution_count": 157,
   "id": "96df432b",
   "metadata": {},
   "outputs": [
    {
     "data": {
      "text/plain": [
       "2    750\n",
       "0    636\n",
       "1    572\n",
       "Name: lapsia, dtype: int64"
      ]
     },
     "execution_count": 157,
     "metadata": {},
     "output_type": "execute_result"
    }
   ],
   "source": [
    "kids[\"lapsia\"].value_counts()"
   ]
  },
  {
   "cell_type": "markdown",
   "id": "33e5ee89",
   "metadata": {},
   "source": [
    "- Ok."
   ]
  },
  {
   "cell_type": "markdown",
   "id": "50ef513b",
   "metadata": {},
   "source": [
    "<br>"
   ]
  },
  {
   "cell_type": "code",
   "execution_count": 158,
   "id": "46e5d995",
   "metadata": {},
   "outputs": [],
   "source": [
    "kids[\"kesk\"] = kids[\"syntpaino\"].apply(lambda x: 1 if x < 2500 else 0)"
   ]
  },
  {
   "cell_type": "markdown",
   "id": "64b53670",
   "metadata": {},
   "source": [
    "To ensure that the numbers match, one can compare the counts of the numbers in both the original and the new columns."
   ]
  },
  {
   "cell_type": "code",
   "execution_count": 159,
   "id": "3fa451a0",
   "metadata": {},
   "outputs": [
    {
     "data": {
      "text/plain": [
       "95"
      ]
     },
     "execution_count": 159,
     "metadata": {},
     "output_type": "execute_result"
    }
   ],
   "source": [
    "kids[kids[\"syntpaino\"] < 2500][\"syntpaino\"].count()"
   ]
  },
  {
   "cell_type": "code",
   "execution_count": 160,
   "id": "ef87d04d",
   "metadata": {},
   "outputs": [
    {
     "data": {
      "text/plain": [
       "1863"
      ]
     },
     "execution_count": 160,
     "metadata": {},
     "output_type": "execute_result"
    }
   ],
   "source": [
    "kids[kids[\"syntpaino\"] >= 2500][\"syntpaino\"].count()"
   ]
  },
  {
   "cell_type": "code",
   "execution_count": 161,
   "id": "94db8490",
   "metadata": {},
   "outputs": [
    {
     "data": {
      "text/plain": [
       "0    1863\n",
       "1      95\n",
       "Name: kesk, dtype: int64"
      ]
     },
     "execution_count": 161,
     "metadata": {},
     "output_type": "execute_result"
    }
   ],
   "source": [
    "kids[\"kesk\"].value_counts()"
   ]
  },
  {
   "cell_type": "markdown",
   "id": "466b3a11",
   "metadata": {},
   "source": [
    "- Ok."
   ]
  },
  {
   "cell_type": "code",
   "execution_count": 162,
   "id": "ab0d3c3f",
   "metadata": {},
   "outputs": [
    {
     "data": {
      "text/html": [
       "<div>\n",
       "<style scoped>\n",
       "    .dataframe tbody tr th:only-of-type {\n",
       "        vertical-align: middle;\n",
       "    }\n",
       "\n",
       "    .dataframe tbody tr th {\n",
       "        vertical-align: top;\n",
       "    }\n",
       "\n",
       "    .dataframe thead th {\n",
       "        text-align: right;\n",
       "    }\n",
       "</style>\n",
       "<table border=\"1\" class=\"dataframe\">\n",
       "  <thead>\n",
       "    <tr style=\"text-align: right;\">\n",
       "      <th></th>\n",
       "      <th>aika</th>\n",
       "      <th>apit</th>\n",
       "      <th>apaino</th>\n",
       "      <th>tup</th>\n",
       "      <th>soslk</th>\n",
       "      <th>rviik</th>\n",
       "      <th>parit</th>\n",
       "      <th>sukup</th>\n",
       "      <th>syntpaino</th>\n",
       "      <th>lapsia</th>\n",
       "      <th>kesk</th>\n",
       "    </tr>\n",
       "  </thead>\n",
       "  <tbody>\n",
       "    <tr>\n",
       "      <th>1</th>\n",
       "      <td>46</td>\n",
       "      <td>157</td>\n",
       "      <td>73</td>\n",
       "      <td>1</td>\n",
       "      <td>4</td>\n",
       "      <td>35</td>\n",
       "      <td>12</td>\n",
       "      <td>1</td>\n",
       "      <td>2480</td>\n",
       "      <td>2</td>\n",
       "      <td>1</td>\n",
       "    </tr>\n",
       "    <tr>\n",
       "      <th>2</th>\n",
       "      <td>27</td>\n",
       "      <td>160</td>\n",
       "      <td>58</td>\n",
       "      <td>0</td>\n",
       "      <td>3</td>\n",
       "      <td>33</td>\n",
       "      <td>1</td>\n",
       "      <td>1</td>\n",
       "      <td>3200</td>\n",
       "      <td>1</td>\n",
       "      <td>0</td>\n",
       "    </tr>\n",
       "    <tr>\n",
       "      <th>3</th>\n",
       "      <td>42</td>\n",
       "      <td>163</td>\n",
       "      <td>67</td>\n",
       "      <td>0</td>\n",
       "      <td>4</td>\n",
       "      <td>39</td>\n",
       "      <td>5</td>\n",
       "      <td>1</td>\n",
       "      <td>3300</td>\n",
       "      <td>2</td>\n",
       "      <td>0</td>\n",
       "    </tr>\n",
       "    <tr>\n",
       "      <th>4</th>\n",
       "      <td>32</td>\n",
       "      <td>164</td>\n",
       "      <td>56</td>\n",
       "      <td>0</td>\n",
       "      <td>3</td>\n",
       "      <td>38</td>\n",
       "      <td>1</td>\n",
       "      <td>1</td>\n",
       "      <td>3150</td>\n",
       "      <td>1</td>\n",
       "      <td>0</td>\n",
       "    </tr>\n",
       "    <tr>\n",
       "      <th>5</th>\n",
       "      <td>27</td>\n",
       "      <td>159</td>\n",
       "      <td>65</td>\n",
       "      <td>0</td>\n",
       "      <td>4</td>\n",
       "      <td>40</td>\n",
       "      <td>1</td>\n",
       "      <td>2</td>\n",
       "      <td>3350</td>\n",
       "      <td>1</td>\n",
       "      <td>0</td>\n",
       "    </tr>\n",
       "  </tbody>\n",
       "</table>\n",
       "</div>"
      ],
      "text/plain": [
       "   aika  apit  apaino  tup  soslk  rviik  parit  sukup  syntpaino  lapsia  \\\n",
       "1    46   157      73    1      4     35     12      1       2480       2   \n",
       "2    27   160      58    0      3     33      1      1       3200       1   \n",
       "3    42   163      67    0      4     39      5      1       3300       2   \n",
       "4    32   164      56    0      3     38      1      1       3150       1   \n",
       "5    27   159      65    0      4     40      1      2       3350       1   \n",
       "\n",
       "   kesk  \n",
       "1     1  \n",
       "2     0  \n",
       "3     0  \n",
       "4     0  \n",
       "5     0  "
      ]
     },
     "execution_count": 162,
     "metadata": {},
     "output_type": "execute_result"
    }
   ],
   "source": [
    "kids.head()"
   ]
  },
  {
   "cell_type": "markdown",
   "id": "892a4938",
   "metadata": {},
   "source": [
    "<br>"
   ]
  },
  {
   "cell_type": "markdown",
   "id": "129608df",
   "metadata": {},
   "source": [
    "<br>"
   ]
  },
  {
   "cell_type": "markdown",
   "id": "928e7967",
   "metadata": {},
   "source": [
    "<h3 align=\"left\">Task 6</h3>"
   ]
  },
  {
   "cell_type": "markdown",
   "id": "806552a1",
   "metadata": {},
   "source": [
    "Fit a logistic regression model to the data from the previous task such that *kesk* is the *output variable* and *tup, lapsia*, *sukup* and the interaction of the variables *tup* and *lapsia* are the input variables. Is the interaction term necessary? Choose the better model and carefully interpret the odds and ratio of odds. Compute the approximate $95 \\%$ confidence intervals for the ratio of odds."
   ]
  },
  {
   "cell_type": "code",
   "execution_count": 163,
   "id": "5e7ca807",
   "metadata": {},
   "outputs": [],
   "source": [
    "kids[\"tup\"] = kids[\"tup\"].astype(\"category\")\n",
    "kids[\"lapsia\"] = kids[\"lapsia\"].astype(\"category\")\n",
    "kids[\"sukup\"] = kids[\"sukup\"].astype(\"category\")"
   ]
  },
  {
   "cell_type": "code",
   "execution_count": 164,
   "id": "cab76fd3",
   "metadata": {},
   "outputs": [
    {
     "data": {
      "text/plain": [
       "kesk         int64\n",
       "tup       category\n",
       "lapsia    category\n",
       "sukup     category\n",
       "dtype: object"
      ]
     },
     "execution_count": 164,
     "metadata": {},
     "output_type": "execute_result"
    }
   ],
   "source": [
    "kids[[\"kesk\", \"tup\", \"lapsia\", \"sukup\"]].dtypes"
   ]
  },
  {
   "cell_type": "code",
   "execution_count": 165,
   "id": "7d62043b",
   "metadata": {},
   "outputs": [
    {
     "name": "stdout",
     "output_type": "stream",
     "text": [
      "Optimization terminated successfully.\n",
      "         Current function value: 0.190501\n",
      "         Iterations 7\n"
     ]
    }
   ],
   "source": [
    "fit = logit(\"kesk ~ tup + lapsia + sukup + tup*lapsia\", data=kids).fit()"
   ]
  },
  {
   "cell_type": "code",
   "execution_count": 166,
   "id": "9a6d16f1",
   "metadata": {},
   "outputs": [
    {
     "data": {
      "text/plain": [
       "Intercept              -2.923338\n",
       "tup[T.1]                0.694852\n",
       "tup[T.2]                0.614805\n",
       "lapsia[T.1]            -0.586760\n",
       "lapsia[T.2]            -0.193458\n",
       "sukup[T.2]              0.127473\n",
       "tup[T.1]:lapsia[T.1]   -0.691530\n",
       "tup[T.2]:lapsia[T.1]   -0.430774\n",
       "tup[T.1]:lapsia[T.2]   -0.811161\n",
       "tup[T.2]:lapsia[T.2]    0.469298\n",
       "dtype: float64"
      ]
     },
     "execution_count": 166,
     "metadata": {},
     "output_type": "execute_result"
    }
   ],
   "source": [
    "fit.params"
   ]
  },
  {
   "cell_type": "markdown",
   "id": "51db5079",
   "metadata": {},
   "source": [
    "<br>"
   ]
  },
  {
   "cell_type": "markdown",
   "id": "3148c8c6",
   "metadata": {},
   "source": [
    "To asses whether the interaction term is needed, one can perform the **deviance test**."
   ]
  },
  {
   "cell_type": "markdown",
   "id": "a20bb5dd",
   "metadata": {},
   "source": [
    "$H_0 :$ \"model $\\boldsymbol{fit_1}$ is the best model\"\n",
    "\n",
    "$H_1 :$ \"model $\\boldsymbol{fit_2}$ is the best model\","
   ]
  },
  {
   "cell_type": "markdown",
   "id": "d2653b41",
   "metadata": {},
   "source": [
    "where $\\, \\boldsymbol{fit_1} \\,$ is the model without the interaction term, and $\\, \\boldsymbol{fit_2} \\,$ is the same model with the added interaction term between *tup* and *lapsia*."
   ]
  },
  {
   "cell_type": "code",
   "execution_count": 167,
   "id": "9ac418de",
   "metadata": {},
   "outputs": [
    {
     "name": "stdout",
     "output_type": "stream",
     "text": [
      "Optimization terminated successfully.\n",
      "         Current function value: 0.191165\n",
      "         Iterations 7\n"
     ]
    }
   ],
   "source": [
    "fit1 = logit(\"kesk ~ tup + lapsia + sukup\", data=kids).fit()"
   ]
  },
  {
   "cell_type": "code",
   "execution_count": 168,
   "id": "80f28751",
   "metadata": {},
   "outputs": [
    {
     "name": "stdout",
     "output_type": "stream",
     "text": [
      "Optimization terminated successfully.\n",
      "         Current function value: 0.190501\n",
      "         Iterations 7\n"
     ]
    }
   ],
   "source": [
    "fit2 = logit(\"kesk ~ tup + lapsia + sukup + tup*lapsia\", data=kids).fit()"
   ]
  },
  {
   "cell_type": "markdown",
   "id": "b8e72090",
   "metadata": {},
   "source": [
    "The Deviance test statistic is given by"
   ]
  },
  {
   "cell_type": "markdown",
   "id": "9447ad05",
   "metadata": {},
   "source": [
    "$ D_{test} = D_1 - D_2 \\sim \\chi^2_{\\Delta \\, in \\, \\# \\, \\beta's} $\n",
    "\n",
    "\n",
    "where $\\, D_1 \\,$ and $\\, D_2 \\,$ are the Deviance residuals for the models $\\, \\boldsymbol{fit_1} \\,$ and $\\, \\boldsymbol{fit_2}. \\,$\n",
    "\n",
    "The **deviance residual** for a logistic regression model can be calculated as follows"
   ]
  },
  {
   "cell_type": "markdown",
   "id": "5a4799d9",
   "metadata": {},
   "source": [
    "\\begin{align*}\n",
    "Deviance_{residual} &= 2(LL(Saturated \\, model) - LL(Proposed \\, model)) \\\\\n",
    "&= 2(-LL(Proposed \\, model)),\n",
    "\\end{align*}"
   ]
  },
  {
   "cell_type": "markdown",
   "id": "f4152a44",
   "metadata": {},
   "source": [
    "<center>$ \\text{where} \\: \\, LL = \\text{Log-likelihood}$.</center>"
   ]
  },
  {
   "cell_type": "markdown",
   "id": "404a6cab",
   "metadata": {},
   "source": [
    "- The reason that the deviance residual equation simplifies to a form seen above is that **the saturated model is expected to have a deviance residual of zero**. This is because the saturated model is a model that includes all the possible predictors and has the **maximum possible fit to the data**. Therefore, it should be able to perfectly predict the response (output) variable for all observations, resulting in a deviance residual of zero."
   ]
  },
  {
   "cell_type": "markdown",
   "id": "22d97b8a",
   "metadata": {},
   "source": [
    "In the statsmodels library, a fitted logistic regression model has an attribute called $\\, \\boldsymbol{llf}, \\,$ which returns the **log-likelihood** value of the fitted model."
   ]
  },
  {
   "cell_type": "code",
   "execution_count": 169,
   "id": "15790686",
   "metadata": {},
   "outputs": [],
   "source": [
    "dev_fit1 = 2*(-fit1.llf)"
   ]
  },
  {
   "cell_type": "code",
   "execution_count": 170,
   "id": "b3b5c8f0",
   "metadata": {},
   "outputs": [],
   "source": [
    "dev_fit2 = 2*(-fit2.llf)"
   ]
  },
  {
   "cell_type": "code",
   "execution_count": 171,
   "id": "908acb37",
   "metadata": {},
   "outputs": [],
   "source": [
    "D_test = dev_fit1 - dev_fit2"
   ]
  },
  {
   "cell_type": "code",
   "execution_count": 172,
   "id": "622ac9d3",
   "metadata": {},
   "outputs": [
    {
     "data": {
      "text/plain": [
       "2.6025929720767635"
      ]
     },
     "execution_count": 172,
     "metadata": {},
     "output_type": "execute_result"
    }
   ],
   "source": [
    "D_test"
   ]
  },
  {
   "cell_type": "markdown",
   "id": "064ebed7",
   "metadata": {},
   "source": [
    "The degrees of freedom is the difference in the number of $\\, \\boldsymbol{\\beta} \\,$ coeffiecients between the models."
   ]
  },
  {
   "cell_type": "code",
   "execution_count": 173,
   "id": "4d9b564f",
   "metadata": {},
   "outputs": [
    {
     "data": {
      "text/plain": [
       "4"
      ]
     },
     "execution_count": 173,
     "metadata": {},
     "output_type": "execute_result"
    }
   ],
   "source": [
    "# Degrees of freedom\n",
    "df = abs(len(fit1.params) - len(fit2.params))\n",
    "df"
   ]
  },
  {
   "cell_type": "code",
   "execution_count": 174,
   "id": "1eaab794",
   "metadata": {},
   "outputs": [
    {
     "data": {
      "text/plain": [
       "0.6263638589971998"
      ]
     },
     "execution_count": 174,
     "metadata": {},
     "output_type": "execute_result"
    }
   ],
   "source": [
    "# P-value\n",
    "1 - scipy.stats.chi2.cdf(D_test, df)"
   ]
  },
  {
   "cell_type": "markdown",
   "id": "0279b69c",
   "metadata": {},
   "source": [
    "- Since the p-value is clearly larger than any commonly used threshold for rejecting the null hypothesis, it can be concluded that $\\, \\boldsymbol{fit_1} \\,$ is the better model and that the interaction term is not needed."
   ]
  },
  {
   "cell_type": "markdown",
   "id": "12bc318a",
   "metadata": {},
   "source": [
    "The **AIC** (Akaike Information Criterion) comparison is in line with this conclusion. The smaller the AIC, the better the model, and $\\, \\boldsymbol{fit_1} \\,$ has a smaller AIC value than $\\, \\boldsymbol{fit_2} \\,$."
   ]
  },
  {
   "cell_type": "code",
   "execution_count": 175,
   "id": "35af463a",
   "metadata": {},
   "outputs": [
    {
     "name": "stdout",
     "output_type": "stream",
     "text": [
      "fit1 AIC-value: 760.6028881255963\n",
      "fit2 AIC-value: 766.0002951535196\n"
     ]
    }
   ],
   "source": [
    "print(f\"fit1 AIC-value: {fit1.aic}\")\n",
    "print(f\"fit2 AIC-value: {fit2.aic}\")"
   ]
  },
  {
   "cell_type": "markdown",
   "id": "aa605902",
   "metadata": {},
   "source": [
    "<br>"
   ]
  },
  {
   "cell_type": "markdown",
   "id": "7d857eec",
   "metadata": {},
   "source": [
    "**Interpreting the odds and ratio of odds**"
   ]
  },
  {
   "cell_type": "markdown",
   "id": "c2f8ae9d",
   "metadata": {},
   "source": [
    "The intercept term $\\, \\beta_0 \\,$ can be interpreted with odds, and the rest of the $\\, \\beta \\,$ coefficients can be interpreted with a ratio of odds."
   ]
  },
  {
   "cell_type": "code",
   "execution_count": 176,
   "id": "e5d0828d",
   "metadata": {},
   "outputs": [],
   "source": [
    "b = fit1.params"
   ]
  },
  {
   "cell_type": "code",
   "execution_count": 177,
   "id": "26daafa8",
   "metadata": {},
   "outputs": [
    {
     "data": {
      "text/plain": [
       "Intercept     -2.858060\n",
       "tup[T.1]       0.341457\n",
       "tup[T.2]       0.653431\n",
       "lapsia[T.1]   -0.752659\n",
       "lapsia[T.2]   -0.265569\n",
       "sukup[T.2]     0.121064\n",
       "dtype: float64"
      ]
     },
     "execution_count": 177,
     "metadata": {},
     "output_type": "execute_result"
    }
   ],
   "source": [
    "b"
   ]
  },
  {
   "cell_type": "code",
   "execution_count": 178,
   "id": "a855093e",
   "metadata": {},
   "outputs": [
    {
     "data": {
      "text/plain": [
       "0.05737995023732782"
      ]
     },
     "execution_count": 178,
     "metadata": {},
     "output_type": "execute_result"
    }
   ],
   "source": [
    "np.exp(b[0])"
   ]
  },
  {
   "cell_type": "markdown",
   "id": "1d3a0661",
   "metadata": {},
   "source": [
    "- It can be inferred from the exponentiated value of $\\, \\boldsymbol{\\beta_0} \\,$ that the odds of being a premature baby for a first-born boy with a non-smoking mother is 0.054."
   ]
  },
  {
   "cell_type": "code",
   "execution_count": 179,
   "id": "62be63cb",
   "metadata": {},
   "outputs": [
    {
     "data": {
      "text/plain": [
       "1.4069954999212184"
      ]
     },
     "execution_count": 179,
     "metadata": {},
     "output_type": "execute_result"
    }
   ],
   "source": [
    "np.exp(b[1])"
   ]
  },
  {
   "cell_type": "markdown",
   "id": "20c67f27",
   "metadata": {},
   "source": [
    "- It can be inferred from the exponentiated value of $\\, \\boldsymbol{\\beta_1} \\,$ that the odds of being a premature baby for a child who's mother smokes a little is 1.401-fold compared to a child who's mother doesn't smoke at all, when adjusting for the other explanatory variables.\n",
    "- Note that adjusting for the other explanatory variables means that this comparison is eligible only for children who have the same gender and have the same amount of siblings."
   ]
  },
  {
   "cell_type": "code",
   "execution_count": 180,
   "id": "f6445b5b",
   "metadata": {},
   "outputs": [
    {
     "data": {
      "text/plain": [
       "1.9221244481092754"
      ]
     },
     "execution_count": 180,
     "metadata": {},
     "output_type": "execute_result"
    }
   ],
   "source": [
    "np.exp(b[2])"
   ]
  },
  {
   "cell_type": "markdown",
   "id": "02c993f5",
   "metadata": {},
   "source": [
    "- It can be inferred from the exponentiated value of $\\, \\boldsymbol{\\beta_2} \\,$ that the odds of being a premature baby for a child who's mother smokes a lot is 1.922-fold compared to a child who's mother doesn't smoke at all, when adjusting for the other explanatory variables."
   ]
  },
  {
   "cell_type": "code",
   "execution_count": 181,
   "id": "0669d535",
   "metadata": {},
   "outputs": [
    {
     "data": {
      "text/plain": [
       "0.4711121088074618"
      ]
     },
     "execution_count": 181,
     "metadata": {},
     "output_type": "execute_result"
    }
   ],
   "source": [
    "np.exp(b[3])"
   ]
  },
  {
   "cell_type": "markdown",
   "id": "8cbb9fef",
   "metadata": {},
   "source": [
    "- It can be inferred from the exponentiated value of $\\, \\boldsymbol{\\beta_3} \\,$ that the odds of being a premature baby for a second-born child is 0.471-fold compared to a first-born child, when adjusting for the other explanatory variables."
   ]
  },
  {
   "cell_type": "code",
   "execution_count": 182,
   "id": "797d2d16",
   "metadata": {},
   "outputs": [
    {
     "data": {
      "text/plain": [
       "0.7667698201695687"
      ]
     },
     "execution_count": 182,
     "metadata": {},
     "output_type": "execute_result"
    }
   ],
   "source": [
    "np.exp(b[4])"
   ]
  },
  {
   "cell_type": "markdown",
   "id": "c7c7e839",
   "metadata": {},
   "source": [
    "- It can be inferred from the exponentiated value of $\\, \\boldsymbol{\\beta_4} \\,$ that the odds of being a premature baby for a child who's mother has had atleast two pregnancies before is 0.767-fold compared to a first-born child, when adjusting for the other explanatory variables."
   ]
  },
  {
   "cell_type": "code",
   "execution_count": 183,
   "id": "a351b703",
   "metadata": {},
   "outputs": [
    {
     "data": {
      "text/plain": [
       "1.1286971108877104"
      ]
     },
     "execution_count": 183,
     "metadata": {},
     "output_type": "execute_result"
    }
   ],
   "source": [
    "np.exp(b[5])"
   ]
  },
  {
   "cell_type": "markdown",
   "id": "53504194",
   "metadata": {},
   "source": [
    "- It can be inferred from the exponentiated value of $\\, \\boldsymbol{\\beta_4} \\,$ that the odds of being a premature baby for a girl is 1.129-fold compared to a boy, when adjusting for the other explanatory variables."
   ]
  },
  {
   "cell_type": "code",
   "execution_count": null,
   "id": "7f8b6820",
   "metadata": {},
   "outputs": [],
   "source": []
  },
  {
   "cell_type": "code",
   "execution_count": null,
   "id": "61be40f5",
   "metadata": {},
   "outputs": [],
   "source": []
  },
  {
   "cell_type": "code",
   "execution_count": null,
   "id": "3a20021d",
   "metadata": {},
   "outputs": [],
   "source": []
  },
  {
   "cell_type": "markdown",
   "id": "2008c204",
   "metadata": {},
   "source": [
    "$\\boldsymbol{95 \\%}$ **confidence intervals for the ratio of odds.**"
   ]
  },
  {
   "cell_type": "code",
   "execution_count": 184,
   "id": "87e57764",
   "metadata": {},
   "outputs": [],
   "source": [
    "CI = np.exp(fit1.conf_int().iloc[1:, :])"
   ]
  },
  {
   "cell_type": "code",
   "execution_count": 185,
   "id": "622ec723",
   "metadata": {},
   "outputs": [],
   "source": [
    "CI_df = pd.DataFrame({\"Lower CI\": CI[0].values,\n",
    "                      \"Coeff\": np.exp(b.iloc[1:].values),\n",
    "                      \"Upper CI\": CI[1].values},\n",
    "                      index=[\"tup1\", \"tup2\", \"lapsia1\", \"lapsia2\", \"sukup[girl]\"])"
   ]
  },
  {
   "cell_type": "code",
   "execution_count": 186,
   "id": "3f2ce1c1",
   "metadata": {},
   "outputs": [
    {
     "data": {
      "text/html": [
       "<div>\n",
       "<style scoped>\n",
       "    .dataframe tbody tr th:only-of-type {\n",
       "        vertical-align: middle;\n",
       "    }\n",
       "\n",
       "    .dataframe tbody tr th {\n",
       "        vertical-align: top;\n",
       "    }\n",
       "\n",
       "    .dataframe thead th {\n",
       "        text-align: right;\n",
       "    }\n",
       "</style>\n",
       "<table border=\"1\" class=\"dataframe\">\n",
       "  <thead>\n",
       "    <tr style=\"text-align: right;\">\n",
       "      <th></th>\n",
       "      <th>Lower CI</th>\n",
       "      <th>Coeff</th>\n",
       "      <th>Upper CI</th>\n",
       "    </tr>\n",
       "  </thead>\n",
       "  <tbody>\n",
       "    <tr>\n",
       "      <th>tup1</th>\n",
       "      <td>0.776707</td>\n",
       "      <td>1.406995</td>\n",
       "      <td>2.548757</td>\n",
       "    </tr>\n",
       "    <tr>\n",
       "      <th>tup2</th>\n",
       "      <td>0.986374</td>\n",
       "      <td>1.922124</td>\n",
       "      <td>3.745601</td>\n",
       "    </tr>\n",
       "    <tr>\n",
       "      <th>lapsia1</th>\n",
       "      <td>0.267136</td>\n",
       "      <td>0.471112</td>\n",
       "      <td>0.830839</td>\n",
       "    </tr>\n",
       "    <tr>\n",
       "      <th>lapsia2</th>\n",
       "      <td>0.482190</td>\n",
       "      <td>0.766770</td>\n",
       "      <td>1.219304</td>\n",
       "    </tr>\n",
       "    <tr>\n",
       "      <th>sukup[girl]</th>\n",
       "      <td>0.745887</td>\n",
       "      <td>1.128697</td>\n",
       "      <td>1.707976</td>\n",
       "    </tr>\n",
       "  </tbody>\n",
       "</table>\n",
       "</div>"
      ],
      "text/plain": [
       "             Lower CI     Coeff  Upper CI\n",
       "tup1         0.776707  1.406995  2.548757\n",
       "tup2         0.986374  1.922124  3.745601\n",
       "lapsia1      0.267136  0.471112  0.830839\n",
       "lapsia2      0.482190  0.766770  1.219304\n",
       "sukup[girl]  0.745887  1.128697  1.707976"
      ]
     },
     "execution_count": 186,
     "metadata": {},
     "output_type": "execute_result"
    }
   ],
   "source": [
    "CI_df"
   ]
  },
  {
   "cell_type": "code",
   "execution_count": null,
   "id": "eb5bcddd",
   "metadata": {},
   "outputs": [],
   "source": []
  },
  {
   "cell_type": "code",
   "execution_count": null,
   "id": "66dfd0db",
   "metadata": {},
   "outputs": [],
   "source": []
  },
  {
   "cell_type": "code",
   "execution_count": null,
   "id": "11ad044c",
   "metadata": {},
   "outputs": [],
   "source": []
  },
  {
   "cell_type": "code",
   "execution_count": null,
   "id": "b10b475c",
   "metadata": {},
   "outputs": [],
   "source": []
  },
  {
   "cell_type": "code",
   "execution_count": null,
   "id": "2879830f",
   "metadata": {},
   "outputs": [],
   "source": []
  },
  {
   "cell_type": "markdown",
   "id": "91c022e5",
   "metadata": {},
   "source": [
    "**Task 7**"
   ]
  },
  {
   "cell_type": "markdown",
   "id": "7ef2c133",
   "metadata": {},
   "source": [
    "In the case of the previous task, present the results using probabilities. If possible, also provide the approximate $\\, 95 \\% \\,$ confidence intervals for the presented probabilities."
   ]
  },
  {
   "cell_type": "markdown",
   "id": "dd9ac8fb",
   "metadata": {},
   "source": [
    "In the case of Bernoulli and Binomial distributions, the natural parameter $\\, \\theta_i \\,$ is\n",
    "\n",
    "$$ \\theta_i = log\\left(\\frac{\\pi_i}{1 - \\pi_i}\\right). $$\n",
    "\n",
    "solving for $\\, \\boldsymbol{\\pi_i} \\,$ gives\n",
    "\n",
    "$$ \\pi_i = \\frac{e^{\\theta}}{1 + e^{\\theta}}, $$\n",
    "\n",
    "which is called the **inverse logit function**. The inverse logit function gives the probability of the positive outcome as a function of the linear combination of the predictor variables. It is the output of the logistic regression model and represents the estimated probability of the positive outcome given the values of the predictor variables."
   ]
  },
  {
   "cell_type": "code",
   "execution_count": 187,
   "id": "5318d5a7",
   "metadata": {},
   "outputs": [
    {
     "name": "stdout",
     "output_type": "stream",
     "text": [
      "Optimization terminated successfully.\n",
      "         Current function value: 0.191165\n",
      "         Iterations 7\n"
     ]
    }
   ],
   "source": [
    "fit1 = logit(\"kesk ~ tup + lapsia + sukup\", data=kids).fit()"
   ]
  },
  {
   "cell_type": "code",
   "execution_count": 188,
   "id": "053ef744",
   "metadata": {},
   "outputs": [],
   "source": [
    "b = fit1.params"
   ]
  },
  {
   "cell_type": "code",
   "execution_count": 189,
   "id": "641d07b9",
   "metadata": {},
   "outputs": [],
   "source": [
    "def invlogit(theta):\n",
    "    return (np.exp(theta) / (1 + np.exp(theta)))"
   ]
  },
  {
   "cell_type": "code",
   "execution_count": 190,
   "id": "1ee61ab9",
   "metadata": {},
   "outputs": [
    {
     "data": {
      "text/plain": [
       "Intercept     -2.858060\n",
       "tup[T.1]       0.341457\n",
       "tup[T.2]       0.653431\n",
       "lapsia[T.1]   -0.752659\n",
       "lapsia[T.2]   -0.265569\n",
       "sukup[T.2]     0.121064\n",
       "dtype: float64"
      ]
     },
     "execution_count": 190,
     "metadata": {},
     "output_type": "execute_result"
    }
   ],
   "source": [
    "b"
   ]
  },
  {
   "cell_type": "code",
   "execution_count": 191,
   "id": "78539c46",
   "metadata": {},
   "outputs": [
    {
     "data": {
      "text/plain": [
       "0.0542661606402211"
      ]
     },
     "execution_count": 191,
     "metadata": {},
     "output_type": "execute_result"
    }
   ],
   "source": [
    "invlogit(b[0])"
   ]
  },
  {
   "cell_type": "markdown",
   "id": "6514adf3",
   "metadata": {},
   "source": [
    "- Given that the mother does not smoke, a first-born boy has a probability of 0.054 of being born prematurely."
   ]
  },
  {
   "cell_type": "code",
   "execution_count": 192,
   "id": "bb27e9cf",
   "metadata": {},
   "outputs": [
    {
     "data": {
      "text/plain": [
       "0.5845443001315415"
      ]
     },
     "execution_count": 192,
     "metadata": {},
     "output_type": "execute_result"
    }
   ],
   "source": [
    "invlogit(b[1])"
   ]
  },
  {
   "cell_type": "markdown",
   "id": "99b4fca8",
   "metadata": {},
   "source": [
    "- Given that the mother smokes a little, a first-born boy has a probability of 0.585 of being born prematurely. "
   ]
  },
  {
   "cell_type": "code",
   "execution_count": 193,
   "id": "6f56f943",
   "metadata": {},
   "outputs": [
    {
     "data": {
      "text/plain": [
       "0.05539777408242127"
      ]
     },
     "execution_count": 193,
     "metadata": {},
     "output_type": "execute_result"
    }
   ],
   "source": [
    "invlogit(b[0] + b[5] + b[2] + b[3])"
   ]
  },
  {
   "cell_type": "markdown",
   "id": "af11c68b",
   "metadata": {},
   "source": [
    "- Given that the mother smokes a lot, a girl who's mother has had one pregnancy before, has a probability of 0.055 of being born prematurely."
   ]
  },
  {
   "cell_type": "code",
   "execution_count": 194,
   "id": "98801947",
   "metadata": {},
   "outputs": [
    {
     "data": {
      "text/plain": [
       "0.060825261307114756"
      ]
     },
     "execution_count": 194,
     "metadata": {},
     "output_type": "execute_result"
    }
   ],
   "source": [
    "invlogit(b[0] + b[5])"
   ]
  },
  {
   "cell_type": "markdown",
   "id": "0564446f",
   "metadata": {},
   "source": [
    "- Given that the mother does not smoke, a first-born girl has a probability of 0.061 of being born prematurely."
   ]
  }
 ],
 "metadata": {
  "kernelspec": {
   "display_name": "Python 3 (ipykernel)",
   "language": "python",
   "name": "python3"
  },
  "language_info": {
   "codemirror_mode": {
    "name": "ipython",
    "version": 3
   },
   "file_extension": ".py",
   "mimetype": "text/x-python",
   "name": "python",
   "nbconvert_exporter": "python",
   "pygments_lexer": "ipython3",
   "version": "3.9.12"
  }
 },
 "nbformat": 4,
 "nbformat_minor": 5
}
