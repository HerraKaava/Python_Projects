{
 "cells": [
  {
   "cell_type": "markdown",
   "id": "d3bb1cf2",
   "metadata": {},
   "source": [
    "<h1 align=\"center\">Computational Linear Algebra, Demo 3</h1>"
   ]
  },
  {
   "cell_type": "markdown",
   "id": "144b1796",
   "metadata": {},
   "source": [
    "<br>"
   ]
  },
  {
   "cell_type": "code",
   "execution_count": 2,
   "id": "b1c23beb",
   "metadata": {},
   "outputs": [],
   "source": [
    "import numpy as np\n",
    "import sympy as sp\n",
    "import scipy\n",
    "import matplotlib.pyplot as plt"
   ]
  },
  {
   "cell_type": "markdown",
   "id": "8e86a052",
   "metadata": {},
   "source": [
    "<h3 align=\"left\">Tehtävä 1</h3>"
   ]
  },
  {
   "cell_type": "markdown",
   "id": "f7491340",
   "metadata": {},
   "source": [
    "Määritä Pythonin avulla matriisin A ominaisarvot ja ominaisvektorit. Syötä ominaisarvoista koostuva (numpy)vektori muuttujaan x ja näitä vastaavat ominaisvektorit muuttuujiin v0, v1, v2."
   ]
  },
  {
   "cell_type": "markdown",
   "id": "0c36f99d",
   "metadata": {},
   "source": [
    "$$ A = \\begin{bmatrix}\n",
    "        1 & 0 & -1\\\\\n",
    "        2 & 3 & 0\\\\\n",
    "        -1 & 4 & 2\n",
    "        \\end{bmatrix} $$"
   ]
  },
  {
   "cell_type": "markdown",
   "id": "acc1d40b",
   "metadata": {},
   "source": [
    "- NumPy:ssä on valmiina funktio, jotka laskee annetun matriisin ominaisarvot ja -vektorit."
   ]
  },
  {
   "cell_type": "code",
   "execution_count": 17,
   "id": "53a53f07",
   "metadata": {},
   "outputs": [
    {
     "data": {
      "text/plain": [
       "array([[ 1,  0, -1],\n",
       "       [ 2,  3,  0],\n",
       "       [-1,  4,  2]])"
      ]
     },
     "execution_count": 17,
     "metadata": {},
     "output_type": "execute_result"
    }
   ],
   "source": [
    "A = np.array([[1, 0, -1], [2, 3, 0], [-1, 4, 2]])\n",
    "A"
   ]
  },
  {
   "cell_type": "code",
   "execution_count": 93,
   "id": "43489e80",
   "metadata": {},
   "outputs": [
    {
     "data": {
      "text/plain": [
       "array([-0.39842816+0.j        ,  3.19921408+1.52129656j,\n",
       "        3.19921408-1.52129656j])"
      ]
     },
     "execution_count": 93,
     "metadata": {},
     "output_type": "execute_result"
    }
   ],
   "source": [
    "np.linalg.eigvals(A)"
   ]
  },
  {
   "cell_type": "markdown",
   "id": "e329d3a4",
   "metadata": {},
   "source": [
    "- Palauttaa ainoastaan matriisin A ominaisarvot.\n",
    "- On kuitenkin olemassa myös funktio, joka palauttaa sekä ominaisarvot ja ominaisvektorit. Käytetään sitä!"
   ]
  },
  {
   "cell_type": "code",
   "execution_count": 94,
   "id": "2ecbfb47",
   "metadata": {},
   "outputs": [
    {
     "data": {
      "text/plain": [
       "(array([-0.39842816+0.j        ,  3.19921408+1.52129656j,\n",
       "         3.19921408-1.52129656j]),\n",
       " array([[-0.55031996+0.j        ,  0.26203981-0.18126487j,\n",
       "          0.26203981+0.18126487j],\n",
       "        [ 0.32386735+0.j        , -0.18993442-0.36936731j,\n",
       "         -0.18993442+0.36936731j],\n",
       "        [-0.76958293+0.j        , -0.85203925+0.j        ,\n",
       "         -0.85203925-0.j        ]]))"
      ]
     },
     "execution_count": 94,
     "metadata": {},
     "output_type": "execute_result"
    }
   ],
   "source": [
    "np.linalg.eig(A)"
   ]
  },
  {
   "cell_type": "markdown",
   "id": "6d541050",
   "metadata": {},
   "source": [
    "Palauttaa tuplen, jossa... \n",
    "- ensimmäisessä paikassa on vektori, jonka alkiot ovat anneutn matriisin A ominaisarvot.\n",
    "- toisessa paikassa on matriisi, jonka **sarakkeina** ovat matriisin A ominaisarvoja vastaavat normitetut ominaisvektorit."
   ]
  },
  {
   "cell_type": "code",
   "execution_count": 95,
   "id": "b6e1dc47",
   "metadata": {},
   "outputs": [],
   "source": [
    "x = np.linalg.eig(A)[0]"
   ]
  },
  {
   "cell_type": "code",
   "execution_count": 96,
   "id": "198f80f6",
   "metadata": {},
   "outputs": [],
   "source": [
    "P = np.linalg.eig(A)[1]"
   ]
  },
  {
   "cell_type": "code",
   "execution_count": 97,
   "id": "4d1d410c",
   "metadata": {},
   "outputs": [
    {
     "name": "stdout",
     "output_type": "stream",
     "text": [
      "[[-0.55031996+0.j          0.26203981-0.18126487j  0.26203981+0.18126487j]\n",
      " [ 0.32386735+0.j         -0.18993442-0.36936731j -0.18993442+0.36936731j]\n",
      " [-0.76958293+0.j         -0.85203925+0.j         -0.85203925-0.j        ]]\n"
     ]
    }
   ],
   "source": [
    "print(P)"
   ]
  },
  {
   "cell_type": "markdown",
   "id": "150170da",
   "metadata": {},
   "source": [
    "- Huomaa, että ominaisvektorit ovat matriisin P **sarakkeina**!!"
   ]
  },
  {
   "cell_type": "code",
   "execution_count": 98,
   "id": "1961fc37",
   "metadata": {},
   "outputs": [
    {
     "data": {
      "text/plain": [
       "array([-0.55031996+0.j,  0.32386735+0.j, -0.76958293+0.j])"
      ]
     },
     "execution_count": 98,
     "metadata": {},
     "output_type": "execute_result"
    }
   ],
   "source": [
    "v0 = P[:, 0]\n",
    "v0"
   ]
  },
  {
   "cell_type": "code",
   "execution_count": 99,
   "id": "3b813ab1",
   "metadata": {},
   "outputs": [
    {
     "data": {
      "text/plain": [
       "array([ 0.26203981-0.18126487j, -0.18993442-0.36936731j,\n",
       "       -0.85203925+0.j        ])"
      ]
     },
     "execution_count": 99,
     "metadata": {},
     "output_type": "execute_result"
    }
   ],
   "source": [
    "v1 = P[:, 1]\n",
    "v1"
   ]
  },
  {
   "cell_type": "code",
   "execution_count": 100,
   "id": "870431c2",
   "metadata": {},
   "outputs": [
    {
     "data": {
      "text/plain": [
       "array([ 0.26203981+0.18126487j, -0.18993442+0.36936731j,\n",
       "       -0.85203925-0.j        ])"
      ]
     },
     "execution_count": 100,
     "metadata": {},
     "output_type": "execute_result"
    }
   ],
   "source": [
    "v2 = P[:, 2]\n",
    "v2"
   ]
  },
  {
   "cell_type": "markdown",
   "id": "3f7fa4da",
   "metadata": {},
   "source": [
    "<br>"
   ]
  },
  {
   "cell_type": "markdown",
   "id": "f465a182",
   "metadata": {},
   "source": [
    "<br>"
   ]
  },
  {
   "cell_type": "markdown",
   "id": "ff580dfa",
   "metadata": {},
   "source": [
    "<h3 align=\"left\">Tehtävä 2</h3>"
   ]
  },
  {
   "cell_type": "markdown",
   "id": "e8b6c98e",
   "metadata": {},
   "source": [
    "Tee tämä tehtävä ilman NumPyn ominaisarvoihin liittyviä funktioita."
   ]
  },
  {
   "cell_type": "markdown",
   "id": "07776c48",
   "metadata": {},
   "source": [
    "Kirjoita alle funktio onko_ominaisarvo(A,r) jonka parametrit ovat matriisi A ja luku r. Funktion tulee testata onko luku r matriisin A ominaisarvo vai ei. Eli funktion tulee palauttaa 1 jos näin on ja 0 ellei näin ole."
   ]
  },
  {
   "cell_type": "markdown",
   "id": "d9671524",
   "metadata": {},
   "source": [
    "Alla linkki NumPyn taulukoihin liittyvistä vertailutavoista (jota ei tässä tehtävässä tarvinnut, mutta hyödyllinen linkki muuten).\n",
    "- https://numpy.org/doc/stable/reference/routines.logic.html#comparison"
   ]
  },
  {
   "cell_type": "markdown",
   "id": "7a6219ac",
   "metadata": {},
   "source": [
    "Alla linkki SymPyn matriisi-dokumentaatioon. Todella hyödyllinen linkki. Etsi esim. charpoly() -funktio.\n",
    "- https://docs.sympy.org/latest/tutorials/intro-tutorial/matrices.html"
   ]
  },
  {
   "cell_type": "code",
   "execution_count": 7,
   "id": "5a4c7e98",
   "metadata": {},
   "outputs": [],
   "source": [
    "def onko_ominaisarvo(A, r):\n",
    "    \n",
    "    \"\"\"\" Funktio tarkistaa, onko luku r annetun matriisin ominaisarvo \n",
    "    laskemalla matriisin A-λI karakteristisen polynomin det(A-λI). \n",
    "    λ (eli r) on matriisin A ominaisarvo jos ja vain jos det(A-λI) = 0. \"\"\"\n",
    "    \n",
    "    A_sympy = sp.Matrix(A)\n",
    "    char_poly = A_sympy.charpoly()\n",
    "    \n",
    "    if char_poly(r) == 0:\n",
    "        print(f\"{r} on matriisin A ominaisarvo\")\n",
    "        return 1\n",
    "    else:\n",
    "        print(f\"{r} ei ole matriisin A ominaisarvo\")\n",
    "        return 0"
   ]
  },
  {
   "cell_type": "code",
   "execution_count": 8,
   "id": "504834cb",
   "metadata": {},
   "outputs": [
    {
     "data": {
      "text/plain": [
       "array([[ 4,  8,  3],\n",
       "       [ 0, -1,  0],\n",
       "       [ 0, -2,  2]])"
      ]
     },
     "execution_count": 8,
     "metadata": {},
     "output_type": "execute_result"
    }
   ],
   "source": [
    "B = np.array([[4, 8, 3], [0, -1, 0], [0, -2, 2]])\n",
    "B"
   ]
  },
  {
   "cell_type": "code",
   "execution_count": 9,
   "id": "cce62c36",
   "metadata": {},
   "outputs": [
    {
     "data": {
      "text/plain": [
       "array([ 4.,  2., -1.])"
      ]
     },
     "execution_count": 9,
     "metadata": {},
     "output_type": "execute_result"
    }
   ],
   "source": [
    "# Matriisin ominaisarvot\n",
    "np.linalg.eigvals(B)"
   ]
  },
  {
   "cell_type": "code",
   "execution_count": 10,
   "id": "77622ad5",
   "metadata": {},
   "outputs": [
    {
     "name": "stdout",
     "output_type": "stream",
     "text": [
      "4 on matriisin A ominaisarvo\n"
     ]
    },
    {
     "data": {
      "text/plain": [
       "1"
      ]
     },
     "execution_count": 10,
     "metadata": {},
     "output_type": "execute_result"
    }
   ],
   "source": [
    "onko_ominaisarvo(B, 4)"
   ]
  },
  {
   "cell_type": "code",
   "execution_count": 11,
   "id": "ec5c8617",
   "metadata": {},
   "outputs": [
    {
     "name": "stdout",
     "output_type": "stream",
     "text": [
      "5 ei ole matriisin A ominaisarvo\n"
     ]
    },
    {
     "data": {
      "text/plain": [
       "0"
      ]
     },
     "execution_count": 11,
     "metadata": {},
     "output_type": "execute_result"
    }
   ],
   "source": [
    "onko_ominaisarvo(B, 5)"
   ]
  },
  {
   "cell_type": "markdown",
   "id": "1eadde82",
   "metadata": {},
   "source": [
    "Determinantti $ det(\\lambda I - A) $ on astetta n olevan muttujan $ \\lambda $ polynomi, ja sitä sanotaan **karakteristiseksi polynomiksi**."
   ]
  },
  {
   "cell_type": "markdown",
   "id": "df4898d0",
   "metadata": {},
   "source": [
    "Yhtälöä $ det(\\lambda I - A) = 0 $ puolestaan sanotaan **karakteristiseksi yhtälöksi.**"
   ]
  },
  {
   "cell_type": "markdown",
   "id": "83ad6716",
   "metadata": {},
   "source": [
    "Olkoon A n x n -matriisi. Luku $ \\mathbf{\\lambda} $ on matriisin A ominaisarvo jos ja vain jos"
   ]
  },
  {
   "cell_type": "markdown",
   "id": "1fa67627",
   "metadata": {},
   "source": [
    "$$ det(\\lambda I - A) = 0 $$"
   ]
  },
  {
   "cell_type": "code",
   "execution_count": 23,
   "id": "ae83fa99",
   "metadata": {},
   "outputs": [],
   "source": [
    "A = np.array([[1, 0, -1], [2, 3, 0], [-1, 4, 2]])"
   ]
  },
  {
   "cell_type": "code",
   "execution_count": 18,
   "id": "3e68dfbe",
   "metadata": {},
   "outputs": [],
   "source": [
    "A_sympy = sp.Matrix(A)"
   ]
  },
  {
   "cell_type": "code",
   "execution_count": 26,
   "id": "37cd7603",
   "metadata": {},
   "outputs": [
    {
     "data": {
      "text/latex": [
       "$\\displaystyle \\operatorname{PurePoly}{\\left( \\lambda^{3} - 6 \\lambda^{2} + 10 \\lambda + 5, \\lambda, domain=\\mathbb{Z} \\right)}$"
      ],
      "text/plain": [
       "PurePoly(lambda**3 - 6*lambda**2 + 10*lambda + 5, lambda, domain='ZZ')"
      ]
     },
     "execution_count": 26,
     "metadata": {},
     "output_type": "execute_result"
    }
   ],
   "source": [
    "cp = A_sympy.charpoly()\n",
    "cp"
   ]
  },
  {
   "cell_type": "code",
   "execution_count": 27,
   "id": "71525453",
   "metadata": {},
   "outputs": [
    {
     "data": {
      "text/plain": [
       "sympy.polys.polytools.PurePoly"
      ]
     },
     "execution_count": 27,
     "metadata": {},
     "output_type": "execute_result"
    }
   ],
   "source": [
    "type(cp)"
   ]
  },
  {
   "cell_type": "markdown",
   "id": "b9438333",
   "metadata": {},
   "source": [
    "- charpoly() -funktio palauttaa muuttujan $ \\mathbf{\\lambda} $ **karakteristisen polynomin.**\n",
    "- Huomaa, että funktion sisään voidaan laittaa mikä tahansa reaaliluku, jolloin funktio laskee karakteristisen polynomin arvon ko. arvolla."
   ]
  },
  {
   "cell_type": "code",
   "execution_count": 21,
   "id": "93192016",
   "metadata": {},
   "outputs": [
    {
     "data": {
      "text/plain": [
       "30"
      ]
     },
     "execution_count": 21,
     "metadata": {},
     "output_type": "execute_result"
    }
   ],
   "source": [
    "# Yllä olevan karakteristisen polynomin arvo, kun lambda=5.\n",
    "5**3 - 6 * 5**2 + 10*5 + 5"
   ]
  },
  {
   "cell_type": "code",
   "execution_count": 28,
   "id": "1588663a",
   "metadata": {},
   "outputs": [
    {
     "data": {
      "text/latex": [
       "$\\displaystyle 30$"
      ],
      "text/plain": [
       "30"
      ]
     },
     "execution_count": 28,
     "metadata": {},
     "output_type": "execute_result"
    }
   ],
   "source": [
    "# Sama arvo saadaan, kun syötetään lambda=5 argumentiksi cp-muuttujalle, \n",
    "# joka on sympyn PurePoly-objekti.\n",
    "cp(5)"
   ]
  },
  {
   "cell_type": "markdown",
   "id": "2e0d7789",
   "metadata": {},
   "source": [
    "<br>"
   ]
  },
  {
   "cell_type": "markdown",
   "id": "3170f7d7",
   "metadata": {},
   "source": [
    "<br>"
   ]
  },
  {
   "cell_type": "markdown",
   "id": "317a609b",
   "metadata": {},
   "source": [
    "<h3 align=\"left\">Tehtävä 3</h3>"
   ]
  },
  {
   "cell_type": "markdown",
   "id": "9eb27be4",
   "metadata": {},
   "source": [
    "Brittiläisen tilastotieteilijän ja biologin Ronald Fisherin luoma data kokoelma nimeltä \"Iris dataset\" sisältää Iris kukkien verho- ja terälehtien pituuksia ja leveyksiä. Tämä datasetti on ehkä eniten käytetty esimerkki datan käsittelyssä, etenkin koneoppimisen saralla. Tämän tehtävän tarkoituksena on tutkia osaa Iris datasta ja etsiä siihen sopiva uusi koordinaatisto, missä koordinaatiston akselisuunnat ovat sellaiset, että niiden suhteen datan muuttujien välinen korrelaatio olisi mahdollisimman pieni."
   ]
  },
  {
   "cell_type": "code",
   "execution_count": 62,
   "id": "5dcab239",
   "metadata": {},
   "outputs": [],
   "source": [
    "from sklearn import datasets"
   ]
  },
  {
   "cell_type": "code",
   "execution_count": 63,
   "id": "de49785a",
   "metadata": {},
   "outputs": [],
   "source": [
    "iris = datasets.load_iris()"
   ]
  },
  {
   "cell_type": "code",
   "execution_count": 76,
   "id": "e195ccfd",
   "metadata": {},
   "outputs": [],
   "source": [
    "X = iris.data[:,2] # Terälehtien pituudet\n",
    "y = iris.data[:,3] # Terälehtien leveydet"
   ]
  },
  {
   "cell_type": "code",
   "execution_count": 77,
   "id": "ad138c78",
   "metadata": {},
   "outputs": [
    {
     "data": {
      "image/png": "[encoded data removed]",
      "text/plain": [
       "<Figure size 432x288 with 1 Axes>"
      ]
     },
     "metadata": {
      "needs_background": "light"
     },
     "output_type": "display_data"
    }
   ],
   "source": [
    "plt.plot(X,y,'rx'); # Piirretään datapisteet"
   ]
  },
  {
   "cell_type": "markdown",
   "id": "afaf5f1a",
   "metadata": {},
   "source": [
    "**Tehtävät**"
   ]
  },
  {
   "cell_type": "markdown",
   "id": "be476131",
   "metadata": {},
   "source": [
    "- Sovita annettuun dataan PNS-suora ja tallenna suoraan liittyvät termit (kulmakerroin ja vakiotermi) muuttujiin alpha_1 ja beta_1."
   ]
  },
  {
   "cell_type": "markdown",
   "id": "3a9b56d7",
   "metadata": {},
   "source": [
    "- Sovita dataan PNS-mielessä suora, joka on kohtisuorassa edellä määriteltyä suoraa vastaan. Tallenna tämän suoran kulmakerroin ja vakiotermi muuttujiin alpha_2 ja beta_2."
   ]
  },
  {
   "cell_type": "markdown",
   "id": "2714581a",
   "metadata": {},
   "source": [
    "- Piirrä suorat yllä olevaan kuvaan."
   ]
  },
  {
   "cell_type": "markdown",
   "id": "0474275e",
   "metadata": {},
   "source": [
    "PNS-ratkaisu saadaan normaaliyhtälön avulla (kun $\\, A^T A \\,$ on kääntyvä)\n",
    "\n",
    "\\begin{align*}\n",
    "    A^T A \\bar{x} &= A^T \\bar{b} \\\\\n",
    "    \\bar{x} &= (A^T A)^{-1} A^T \\bar{b}\n",
    "\\end{align*}"
   ]
  },
  {
   "cell_type": "code",
   "execution_count": 78,
   "id": "8f6cd719",
   "metadata": {},
   "outputs": [],
   "source": [
    "unos = np.ones(len(X))"
   ]
  },
  {
   "cell_type": "code",
   "execution_count": 79,
   "id": "6c6063da",
   "metadata": {},
   "outputs": [],
   "source": [
    "X_design = np.zeros((len(X), 2))"
   ]
  },
  {
   "cell_type": "code",
   "execution_count": 80,
   "id": "c0683d03",
   "metadata": {},
   "outputs": [],
   "source": [
    "X_design[:, 0] = unos"
   ]
  },
  {
   "cell_type": "code",
   "execution_count": 81,
   "id": "62747867",
   "metadata": {},
   "outputs": [],
   "source": [
    "X_design[:, 1] = X"
   ]
  },
  {
   "cell_type": "code",
   "execution_count": 92,
   "id": "50713e3e",
   "metadata": {},
   "outputs": [],
   "source": [
    "alpha1, beta1 = np.linalg.inv(X_design.T @ X_design) @ X_design.T @ y"
   ]
  },
  {
   "cell_type": "code",
   "execution_count": 93,
   "id": "7c88139b",
   "metadata": {},
   "outputs": [
    {
     "name": "stdout",
     "output_type": "stream",
     "text": [
      "-0.36307552131903387\n",
      "0.4157554163524128\n"
     ]
    }
   ],
   "source": [
    "print(alpha1)\n",
    "print(beta1)"
   ]
  },
  {
   "cell_type": "markdown",
   "id": "8e87edf1",
   "metadata": {},
   "source": [
    "- Tarkistetaan, että saatiin oikeat kertoimet sovittamalla lineaarinen regressiomalli sklearnin avulla."
   ]
  },
  {
   "cell_type": "code",
   "execution_count": 85,
   "id": "7cce248a",
   "metadata": {},
   "outputs": [],
   "source": [
    "from sklearn.linear_model import LinearRegression"
   ]
  },
  {
   "cell_type": "code",
   "execution_count": 86,
   "id": "ec839a33",
   "metadata": {},
   "outputs": [],
   "source": [
    "model = LinearRegression().fit(X_design, y)"
   ]
  },
  {
   "cell_type": "code",
   "execution_count": 95,
   "id": "0bd1a77c",
   "metadata": {},
   "outputs": [
    {
     "name": "stdout",
     "output_type": "stream",
     "text": [
      "-0.3630755213190304\n",
      "0.41575541635241164\n"
     ]
    }
   ],
   "source": [
    "print(model.intercept_)\n",
    "print(model.coef_[1])"
   ]
  },
  {
   "cell_type": "markdown",
   "id": "e92e6bd3",
   "metadata": {},
   "source": [
    "<br>"
   ]
  },
  {
   "cell_type": "markdown",
   "id": "ec06246f",
   "metadata": {},
   "source": [
    "**Kohtisuora PNS-suora (TLS, Total Least Squares)**"
   ]
  },
  {
   "cell_type": "markdown",
   "id": "8fce93b9",
   "metadata": {},
   "source": [
    "Ks. Cross Validated -sivuston selitys TLS:stä. Muun muassa ero OLS:iin ja kuinka laskea TLS:stä kulmakerroin ja intercept (vakiotermi).\n",
    "- https://stats.stackexchange.com/questions/13152/how-to-perform-orthogonal-regression-total-least-squares-via-pca#:~:text=OLS%20fits%20the%20equation%20y,component%20of%20the%202D%20data."
   ]
  },
  {
   "cell_type": "markdown",
   "id": "27e6e66b",
   "metadata": {},
   "source": [
    "Nyt halutaan siis suora, joka on ortogonaalinen (kohtisuorassa) edellisessä kohdassa määritettyyn suoraan nähden. \n",
    "- Tämän ortogonaalisen suoran kulmakerroin saadaan yksinkertaisesti ottamalla aiemman PNS-suoran negatiivinen käänteisluku.\n",
    "- Jo lukiosta muistetaan, että kahden ortogonaalisen suoran kulmakertoimien tulo on -1."
   ]
  },
  {
   "cell_type": "code",
   "execution_count": 103,
   "id": "c3df0f4a",
   "metadata": {},
   "outputs": [
    {
     "data": {
      "text/plain": [
       "-2.405260306103518"
      ]
     },
     "execution_count": 103,
     "metadata": {},
     "output_type": "execute_result"
    }
   ],
   "source": [
    "beta2 = -1/PNS[1]\n",
    "beta2"
   ]
  },
  {
   "cell_type": "code",
   "execution_count": 102,
   "id": "e24febb3",
   "metadata": {},
   "outputs": [
    {
     "data": {
      "text/plain": [
       "-1.0"
      ]
     },
     "execution_count": 102,
     "metadata": {},
     "output_type": "execute_result"
    }
   ],
   "source": [
    "np.round(beta2 * beta1, 10)"
   ]
  },
  {
   "cell_type": "markdown",
   "id": "d3b3544a",
   "metadata": {},
   "source": [
    "- Kuten nähdään, kulmakertoimien tulo on -1."
   ]
  },
  {
   "cell_type": "markdown",
   "id": "4f3cf494",
   "metadata": {},
   "source": [
    "Intercept (vakiotermi) puolestaan saadaan ratkaistua regressiosuoran yhtälöstä. "
   ]
  },
  {
   "cell_type": "code",
   "execution_count": 104,
   "id": "918a3f10",
   "metadata": {},
   "outputs": [
    {
     "data": {
      "text/plain": [
       "10.238301563670355"
      ]
     },
     "execution_count": 104,
     "metadata": {},
     "output_type": "execute_result"
    }
   ],
   "source": [
    "alpha2 = np.mean(y) - beta*np.mean(X)\n",
    "alpha2"
   ]
  },
  {
   "cell_type": "markdown",
   "id": "380137d7",
   "metadata": {},
   "source": [
    "Piirretään vielä suorat datasetin kuvaan."
   ]
  },
  {
   "cell_type": "code",
   "execution_count": 107,
   "id": "342be92e",
   "metadata": {},
   "outputs": [
    {
     "data": {
      "image/png": "[encoded data removed]",
      "text/plain": [
       "<Figure size 300x500 with 1 Axes>"
      ]
     },
     "metadata": {
      "needs_background": "light"
     },
     "output_type": "display_data"
    }
   ],
   "source": [
    "plt.figure(figsize=(3, 5), dpi=100)\n",
    "\n",
    "plt.plot(X,y,'rx')\n",
    "plt.plot(X, alpha1 + X*beta1)\n",
    "plt.plot(X, alpha2 + X*beta2);"
   ]
  },
  {
   "cell_type": "markdown",
   "id": "d5c6441f",
   "metadata": {},
   "source": [
    "<br>"
   ]
  },
  {
   "cell_type": "markdown",
   "id": "e665d036",
   "metadata": {},
   "source": [
    "<br>"
   ]
  },
  {
   "cell_type": "markdown",
   "id": "74002725",
   "metadata": {},
   "source": [
    "<h3 align=\"left\">Tehtävä 4 (jatkoa edelliseen tehtävään)</h3>"
   ]
  },
  {
   "cell_type": "markdown",
   "id": "f303b2ce",
   "metadata": {},
   "source": [
    "Tehdään vastaavanlaisen koordinaatiston metsästys käyttäen apuna diagonalisointia sopivalle symmetriselle matriisille."
   ]
  },
  {
   "cell_type": "markdown",
   "id": "70d4244b",
   "metadata": {},
   "source": [
    "- Muokkaa annettua dataa sillä tavalla, että origo on x-arvojen ja y-arvojen keskiarvossa."
   ]
  },
  {
   "cell_type": "markdown",
   "id": "8144d50a",
   "metadata": {},
   "source": [
    "- Muodosta kovarianssimatriisi, joka koodaa tiedon siitä miten x ja y datapisteet muuttuvat suhteessa toisiinsa.\n",
    "\n",
    "$$ A = \\begin{bmatrix}\n",
    "    Cov(x, x) & Cov(x, y)\\\\\n",
    "    Cov(y, x) & Cov(y, y)\n",
    "\\end{bmatrix}. $$"
   ]
  },
  {
   "cell_type": "markdown",
   "id": "d9b8cf19",
   "metadata": {},
   "source": [
    "- Diagonalisoi tämä matriisi sekä syötä tarvittavat tiedot ominaisvektoreista."
   ]
  },
  {
   "cell_type": "code",
   "execution_count": 110,
   "id": "65efdc23",
   "metadata": {},
   "outputs": [],
   "source": [
    "X = iris.data[:,2] # Terälehtien pituudet\n",
    "y = iris.data[:,3] # Terälehtien leveydet"
   ]
  },
  {
   "cell_type": "code",
   "execution_count": 111,
   "id": "bd43f51f",
   "metadata": {},
   "outputs": [],
   "source": [
    "# Keskistys\n",
    "\n",
    "X_centered = X - np.mean(X)\n",
    "y_centered = y - np.mean(y)"
   ]
  },
  {
   "cell_type": "code",
   "execution_count": 112,
   "id": "fd12a853",
   "metadata": {},
   "outputs": [
    {
     "data": {
      "text/plain": [
       "array([[3.11627785, 1.2956094 ],\n",
       "       [1.2956094 , 0.58100626]])"
      ]
     },
     "execution_count": 112,
     "metadata": {},
     "output_type": "execute_result"
    }
   ],
   "source": [
    "cov_matrix = np.cov(X_centered, y_centered)\n",
    "cov_matrix"
   ]
  },
  {
   "cell_type": "markdown",
   "id": "6853fe79",
   "metadata": {},
   "source": [
    "- Huomaa, että tässä ei ole väliä syöttääkö keskistetyt vai alkuperäiset X:n ja y:n taulukot. Kovarianssi joka tapauksessa on sama."
   ]
  },
  {
   "attachments": {
    "Matriisin_diagonalisointi.png": {
     "image/png": "[encoded data removed]"
    }
   },
   "cell_type": "markdown",
   "id": "f0813d59",
   "metadata": {},
   "source": [
    "![Matriisin_diagonalisointi.png](attachment:Matriisin_diagonalisointi.png)"
   ]
  },
  {
   "cell_type": "code",
   "execution_count": 113,
   "id": "cec3528f",
   "metadata": {},
   "outputs": [],
   "source": [
    "# Kovarianssimatriisin ominaisarvot ja -vektorit.\n",
    "eigenvalues, eigenvectors = np.linalg.eig(cov_matrix)"
   ]
  },
  {
   "cell_type": "code",
   "execution_count": 114,
   "id": "d31d057b",
   "metadata": {},
   "outputs": [
    {
     "data": {
      "text/plain": [
       "array([3.66123805, 0.03604607])"
      ]
     },
     "execution_count": 114,
     "metadata": {},
     "output_type": "execute_result"
    }
   ],
   "source": [
    "eigenvalues"
   ]
  },
  {
   "cell_type": "code",
   "execution_count": 115,
   "id": "72b5eeec",
   "metadata": {},
   "outputs": [
    {
     "data": {
      "text/plain": [
       "array([[ 0.92177769, -0.38771882],\n",
       "       [ 0.38771882,  0.92177769]])"
      ]
     },
     "execution_count": 115,
     "metadata": {},
     "output_type": "execute_result"
    }
   ],
   "source": [
    "eigenvectors"
   ]
  },
  {
   "cell_type": "markdown",
   "id": "1fec0fdd",
   "metadata": {},
   "source": [
    "- Huomaa, että ominaisarvoa i vastaava ominaisvektori on **sarakevektorina**. \n",
    "- Huomaa myös, että ominaisvektorit ovat **normitettu**."
   ]
  },
  {
   "cell_type": "code",
   "execution_count": 116,
   "id": "e7208865",
   "metadata": {},
   "outputs": [],
   "source": [
    "# Muodostetaan diagonaalimatriisi D ominaisarvoista.\n",
    "D = np.diag(eigenvalues)"
   ]
  },
  {
   "cell_type": "code",
   "execution_count": 117,
   "id": "b81f9f06",
   "metadata": {},
   "outputs": [],
   "source": [
    "# Muodostetaan matriisi P, jossa sarakkeina ovat ominaisarovja vastaavat ominaisvektorit.\n",
    "P2 = eigenvectors"
   ]
  },
  {
   "cell_type": "markdown",
   "id": "082f4200",
   "metadata": {},
   "source": [
    "Tarkistetaan, menikö homma putkeen. Jos meni, niin $ A = PDP^-1 $."
   ]
  },
  {
   "cell_type": "code",
   "execution_count": 120,
   "id": "15a5378d",
   "metadata": {},
   "outputs": [
    {
     "data": {
      "text/plain": [
       "array([[3.11627785, 1.2956094 ],\n",
       "       [1.2956094 , 0.58100626]])"
      ]
     },
     "execution_count": 120,
     "metadata": {},
     "output_type": "execute_result"
    }
   ],
   "source": [
    "P2 @ D @ np.linalg.inv(P2)"
   ]
  },
  {
   "cell_type": "code",
   "execution_count": 119,
   "id": "ec9ce524",
   "metadata": {},
   "outputs": [
    {
     "data": {
      "text/plain": [
       "array([[3.11627785, 1.2956094 ],\n",
       "       [1.2956094 , 0.58100626]])"
      ]
     },
     "execution_count": 119,
     "metadata": {},
     "output_type": "execute_result"
    }
   ],
   "source": [
    "cov_matrix"
   ]
  },
  {
   "cell_type": "markdown",
   "id": "cc1d6ffb",
   "metadata": {},
   "source": [
    "- Putkeen meni!"
   ]
  },
  {
   "cell_type": "markdown",
   "id": "318c5e6b",
   "metadata": {},
   "source": [
    "<br>"
   ]
  },
  {
   "cell_type": "markdown",
   "id": "714ac181",
   "metadata": {},
   "source": [
    "Jos haluttaisiin esim. palauttaa pienempää ominaisarvoa vastaava ominaisvektori, se voitaisiin tehdä seuraavasti."
   ]
  },
  {
   "cell_type": "code",
   "execution_count": 141,
   "id": "1d65b2ae",
   "metadata": {},
   "outputs": [
    {
     "data": {
      "text/plain": [
       "array([3.66123805, 0.03604607])"
      ]
     },
     "execution_count": 141,
     "metadata": {},
     "output_type": "execute_result"
    }
   ],
   "source": [
    "eigenvalues"
   ]
  },
  {
   "cell_type": "code",
   "execution_count": 142,
   "id": "4648cb2c",
   "metadata": {},
   "outputs": [
    {
     "data": {
      "text/plain": [
       "array([[ 0.92177769, -0.38771882],\n",
       "       [ 0.38771882,  0.92177769]])"
      ]
     },
     "execution_count": 142,
     "metadata": {},
     "output_type": "execute_result"
    }
   ],
   "source": [
    "eigenvectors"
   ]
  },
  {
   "cell_type": "code",
   "execution_count": 124,
   "id": "85442102",
   "metadata": {},
   "outputs": [
    {
     "data": {
      "text/plain": [
       "array([-0.38771882,  0.92177769])"
      ]
     },
     "execution_count": 124,
     "metadata": {},
     "output_type": "execute_result"
    }
   ],
   "source": [
    "eigv1 = eigenvectors[:, np.argmin(eigenvalues)]\n",
    "eigv1"
   ]
  },
  {
   "cell_type": "code",
   "execution_count": 122,
   "id": "34b19c9b",
   "metadata": {},
   "outputs": [
    {
     "data": {
      "text/plain": [
       "-2.3774385946736496"
      ]
     },
     "execution_count": 122,
     "metadata": {},
     "output_type": "execute_result"
    }
   ],
   "source": [
    "# Lasketaan seuraavaksi pienempää ominaisarvoa vastaavan suoran kulmakerroin.\n",
    "alpha1 = eigv1[1] / eigv1[0]\n",
    "alpha1"
   ]
  },
  {
   "cell_type": "markdown",
   "id": "c8bb5756",
   "metadata": {},
   "source": [
    "Tässä linkissä näytetään, kuinka kulmakerroin saadaan laskettua ominaisvektorin avulla.\n",
    "- https://stats.stackexchange.com/questions/13152/how-to-perform-orthogonal-regression-total-least-squares-via-pca#:~:text=OLS%20fits%20the%20equation%20y,component%20of%20the%202D%20data."
   ]
  },
  {
   "cell_type": "markdown",
   "id": "93d0f916",
   "metadata": {},
   "source": [
    "<br>"
   ]
  },
  {
   "cell_type": "markdown",
   "id": "368ba37f",
   "metadata": {},
   "source": [
    "<br>"
   ]
  },
  {
   "cell_type": "markdown",
   "id": "29bd209d",
   "metadata": {},
   "source": [
    "<h3 align=\"left\">Tehtävä 5</h3>"
   ]
  },
  {
   "cell_type": "markdown",
   "id": "da1d9083",
   "metadata": {},
   "source": [
    "Sovelletaan tässä diagonalisointia matriisin potenssien laskemiseen. Ensimmäisenä tehtävänä on kirjoittaa ohjelma nimeltä potenssi(A,n), joka laskee neliömatriisin A korotettuna potenssiin n, eli kertoo matriisin A n kertaa itsellään. Seuraavassa vaiheessa tulee diagonalisoida matriisi A ja laskea tästä saadun esityksen $A=PDP^T$ avulla matriisin A potenssi $A^n$."
   ]
  },
  {
   "cell_type": "markdown",
   "id": "0f795eed",
   "metadata": {},
   "source": [
    "**Funktion toteutustapa 1** (käsin ilman valmista NumPyn funktiota)"
   ]
  },
  {
   "cell_type": "code",
   "execution_count": 27,
   "id": "fee0c5bf",
   "metadata": {},
   "outputs": [],
   "source": [
    "def potenssi(A, n):\n",
    "    \"\"\" \n",
    "    Funktio ottaa parametreina neliömatriisin A ja kokonaisluvun n.\n",
    "    \n",
    "    Args:\n",
    "        A: Matriisi.\n",
    "        n: Kokonaisluku (potenssiin korotuksien lukumäärä).\n",
    "        \n",
    "    Returns:\n",
    "        Funktio palauttaa uuden matriisin, joka on alkuperäinen matriisi potenssiin n.\n",
    "    \"\"\"\n",
    "    \n",
    "    # Alustetaan identiteettimatriisi result, jolla lähdetään kertomaan matriisia A.\n",
    "    # Tämä on sama asia kuin normaalissa kertolaskussa alustettaisiin apumuuttujan arvoksi 1,\n",
    "    # sillä x * 1 = x, AI = A.\n",
    "    result = np.eye(A.shape[0])\n",
    "    \n",
    "    for i in range(n):\n",
    "        result = np.dot(result, A)\n",
    "    \n",
    "    return result"
   ]
  },
  {
   "cell_type": "code",
   "execution_count": 147,
   "id": "a6a5863f",
   "metadata": {},
   "outputs": [],
   "source": [
    "C = np.array([[1, 0, -1], [2, 3, 0], [-1, 4, 2]])"
   ]
  },
  {
   "cell_type": "code",
   "execution_count": 148,
   "id": "9d1274c8",
   "metadata": {},
   "outputs": [
    {
     "data": {
      "text/plain": [
       "array([[-238., -364.,   17.],\n",
       "       [ 148., -181., -182.],\n",
       "       [ 745.,  660., -255.]])"
      ]
     },
     "execution_count": 148,
     "metadata": {},
     "output_type": "execute_result"
    }
   ],
   "source": [
    "potenssi(C, 5)"
   ]
  },
  {
   "cell_type": "markdown",
   "id": "f5f310a7",
   "metadata": {},
   "source": [
    "<br>"
   ]
  },
  {
   "cell_type": "markdown",
   "id": "5314185b",
   "metadata": {},
   "source": [
    "**Funktion toteutustapa 2** (NumPy-funktiolla)"
   ]
  },
  {
   "cell_type": "code",
   "execution_count": 149,
   "id": "e3a5bb97",
   "metadata": {},
   "outputs": [],
   "source": [
    "def potenssi2(A, n):\n",
    "    return np.linalg.matrix_power(A, n)"
   ]
  },
  {
   "cell_type": "code",
   "execution_count": 150,
   "id": "8ef8678d",
   "metadata": {},
   "outputs": [
    {
     "data": {
      "text/plain": [
       "array([[-238, -364,   17],\n",
       "       [ 148, -181, -182],\n",
       "       [ 745,  660, -255]])"
      ]
     },
     "execution_count": 150,
     "metadata": {},
     "output_type": "execute_result"
    }
   ],
   "source": [
    "potenssi2(C, 5)"
   ]
  },
  {
   "cell_type": "markdown",
   "id": "445a8bbc",
   "metadata": {},
   "source": [
    "- Sama tulos kuin yllä, kuten kuuluukin."
   ]
  },
  {
   "cell_type": "code",
   "execution_count": 151,
   "id": "9756a96e",
   "metadata": {},
   "outputs": [
    {
     "data": {
      "text/plain": [
       "True"
      ]
     },
     "execution_count": 151,
     "metadata": {},
     "output_type": "execute_result"
    }
   ],
   "source": [
    "np.allclose(potenssi(C, 8), potenssi2(C, 8))"
   ]
  },
  {
   "cell_type": "markdown",
   "id": "36631dd7",
   "metadata": {},
   "source": [
    "- Returns True if two arrays are element-wise equal within a tolerance"
   ]
  },
  {
   "cell_type": "markdown",
   "id": "2b8eed2a",
   "metadata": {},
   "source": [
    "<br>"
   ]
  },
  {
   "cell_type": "markdown",
   "id": "c6323858",
   "metadata": {},
   "source": [
    "**Neliömatriisista** voi luoda symmetrisen kaavalla $ \\, \\large\\frac{(A + A^T)}{2}. $"
   ]
  },
  {
   "cell_type": "markdown",
   "id": "938fdf8f",
   "metadata": {},
   "source": [
    "Matriisi on symmetrinen, jos ja vain jos $ A = A^T $."
   ]
  },
  {
   "cell_type": "code",
   "execution_count": 8,
   "id": "2136cd46",
   "metadata": {},
   "outputs": [
    {
     "data": {
      "text/plain": [
       "array([[ 3,  4,  1,  9,  1,  1],\n",
       "       [ 9,  3,  4,  5,  2, 10],\n",
       "       [ 2,  1,  3,  4,  4,  1],\n",
       "       [ 7,  1,  8,  8,  3,  8],\n",
       "       [10,  6,  2,  7, 10,  4],\n",
       "       [ 8,  8,  5,  9,  1,  8]])"
      ]
     },
     "execution_count": 8,
     "metadata": {},
     "output_type": "execute_result"
    }
   ],
   "source": [
    "M = np.random.randint(1, 11, size=(6, 6))\n",
    "M"
   ]
  },
  {
   "cell_type": "code",
   "execution_count": 9,
   "id": "875a0395",
   "metadata": {},
   "outputs": [],
   "source": [
    "Sym_M = (M + M.T) / 2"
   ]
  },
  {
   "cell_type": "code",
   "execution_count": 10,
   "id": "01ab35e5",
   "metadata": {},
   "outputs": [
    {
     "data": {
      "text/plain": [
       "array([[ 3. ,  6.5,  1.5,  8. ,  5.5,  4.5],\n",
       "       [ 6.5,  3. ,  2.5,  3. ,  4. ,  9. ],\n",
       "       [ 1.5,  2.5,  3. ,  6. ,  3. ,  3. ],\n",
       "       [ 8. ,  3. ,  6. ,  8. ,  5. ,  8.5],\n",
       "       [ 5.5,  4. ,  3. ,  5. , 10. ,  2.5],\n",
       "       [ 4.5,  9. ,  3. ,  8.5,  2.5,  8. ]])"
      ]
     },
     "execution_count": 10,
     "metadata": {},
     "output_type": "execute_result"
    }
   ],
   "source": [
    "Sym_M"
   ]
  },
  {
   "cell_type": "code",
   "execution_count": 11,
   "id": "55469cf1",
   "metadata": {},
   "outputs": [
    {
     "data": {
      "text/plain": [
       "array([[ 3. ,  6.5,  1.5,  8. ,  5.5,  4.5],\n",
       "       [ 6.5,  3. ,  2.5,  3. ,  4. ,  9. ],\n",
       "       [ 1.5,  2.5,  3. ,  6. ,  3. ,  3. ],\n",
       "       [ 8. ,  3. ,  6. ,  8. ,  5. ,  8.5],\n",
       "       [ 5.5,  4. ,  3. ,  5. , 10. ,  2.5],\n",
       "       [ 4.5,  9. ,  3. ,  8.5,  2.5,  8. ]])"
      ]
     },
     "execution_count": 11,
     "metadata": {},
     "output_type": "execute_result"
    }
   ],
   "source": [
    "Sym_M.T"
   ]
  },
  {
   "cell_type": "code",
   "execution_count": 13,
   "id": "4b46c3e8",
   "metadata": {},
   "outputs": [
    {
     "data": {
      "text/plain": [
       "True"
      ]
     },
     "execution_count": 13,
     "metadata": {},
     "output_type": "execute_result"
    }
   ],
   "source": [
    "# Palautuksena saadaan True, jos matriisien kaikki alkiot ovat samat.\n",
    "(Sym_M == Sym_M.T).all()"
   ]
  },
  {
   "cell_type": "markdown",
   "id": "d030738f",
   "metadata": {},
   "source": [
    "- Saatiin symmetrinen neliömatriisi (Sym_M)."
   ]
  },
  {
   "cell_type": "markdown",
   "id": "bb24c480",
   "metadata": {},
   "source": [
    "<br>"
   ]
  },
  {
   "cell_type": "markdown",
   "id": "b96a6406",
   "metadata": {},
   "source": [
    "Diagonalisoidaan yllä luotu symmetrinen neliömatriisi."
   ]
  },
  {
   "cell_type": "code",
   "execution_count": 14,
   "id": "40a4ba06",
   "metadata": {},
   "outputs": [],
   "source": [
    "eigvalues, eigvectors = np.linalg.eig(Sym_M)"
   ]
  },
  {
   "cell_type": "code",
   "execution_count": 15,
   "id": "aca0879a",
   "metadata": {
    "scrolled": true
   },
   "outputs": [
    {
     "name": "stdout",
     "output_type": "stream",
     "text": [
      "[[ 0.39524399  0.50127737 -0.50182734 -0.56579548 -0.08589425  0.11476129]\n",
      " [ 0.37514161 -0.58270699 -0.42896886  0.19951223  0.19567703  0.50755535]\n",
      " [ 0.25406561  0.20939281 -0.42904536  0.63626135 -0.02753879 -0.54948932]\n",
      " [ 0.50848118 -0.45257822  0.23807474 -0.38413237  0.07404308 -0.57175187]\n",
      " [ 0.38483765  0.01190085  0.29072752  0.19126956 -0.82642032  0.21836042]\n",
      " [ 0.48150649  0.40044917  0.4887464   0.22605334  0.51489938  0.22955922]]\n"
     ]
    }
   ],
   "source": [
    "P3 = eigvectors\n",
    "print(P3)"
   ]
  },
  {
   "cell_type": "code",
   "execution_count": 16,
   "id": "0d7de71b",
   "metadata": {},
   "outputs": [
    {
     "name": "stdout",
     "output_type": "stream",
     "text": [
      "[[31.26293352  0.          0.          0.          0.          0.        ]\n",
      " [ 0.         -7.42667468  0.          0.          0.          0.        ]\n",
      " [ 0.          0.         -1.52564509  0.          0.          0.        ]\n",
      " [ 0.          0.          0.          0.79534274  0.          0.        ]\n",
      " [ 0.          0.          0.          0.          7.71891233  0.        ]\n",
      " [ 0.          0.          0.          0.          0.          4.17513118]]\n"
     ]
    }
   ],
   "source": [
    "D3 = np.diag(eigvalues)\n",
    "print(D3)"
   ]
  },
  {
   "cell_type": "markdown",
   "id": "77907513",
   "metadata": {},
   "source": [
    "**5.3.4 Määritelmä**\n",
    "- Ortogonaalinen neliömatriisi P on kääntyvä ja $ P^{-1} = P^T $."
   ]
  },
  {
   "cell_type": "markdown",
   "id": "611040ce",
   "metadata": {},
   "source": [
    "Nyt siis A (Sym_M) on diagonalisoituva, jos ja vain jos $ A = PDP^T $."
   ]
  },
  {
   "cell_type": "code",
   "execution_count": 17,
   "id": "6593eab0",
   "metadata": {},
   "outputs": [
    {
     "data": {
      "text/plain": [
       "array([[ 3. ,  6.5,  1.5,  8. ,  5.5,  4.5],\n",
       "       [ 6.5,  3. ,  2.5,  3. ,  4. ,  9. ],\n",
       "       [ 1.5,  2.5,  3. ,  6. ,  3. ,  3. ],\n",
       "       [ 8. ,  3. ,  6. ,  8. ,  5. ,  8.5],\n",
       "       [ 5.5,  4. ,  3. ,  5. , 10. ,  2.5],\n",
       "       [ 4.5,  9. ,  3. ,  8.5,  2.5,  8. ]])"
      ]
     },
     "execution_count": 17,
     "metadata": {},
     "output_type": "execute_result"
    }
   ],
   "source": [
    "P3 @ D3 @ P3.T"
   ]
  },
  {
   "cell_type": "code",
   "execution_count": 23,
   "id": "cf92a321",
   "metadata": {},
   "outputs": [
    {
     "data": {
      "text/plain": [
       "array([[ 3. ,  6.5,  1.5,  8. ,  5.5,  4.5],\n",
       "       [ 6.5,  3. ,  2.5,  3. ,  4. ,  9. ],\n",
       "       [ 1.5,  2.5,  3. ,  6. ,  3. ,  3. ],\n",
       "       [ 8. ,  3. ,  6. ,  8. ,  5. ,  8.5],\n",
       "       [ 5.5,  4. ,  3. ,  5. , 10. ,  2.5],\n",
       "       [ 4.5,  9. ,  3. ,  8.5,  2.5,  8. ]])"
      ]
     },
     "execution_count": 23,
     "metadata": {},
     "output_type": "execute_result"
    }
   ],
   "source": [
    "Sym_M"
   ]
  },
  {
   "cell_type": "code",
   "execution_count": 25,
   "id": "2d9331ad",
   "metadata": {},
   "outputs": [
    {
     "data": {
      "text/plain": [
       "True"
      ]
     },
     "execution_count": 25,
     "metadata": {},
     "output_type": "execute_result"
    }
   ],
   "source": [
    "np.allclose(P3 @ D3 @ P3.T, Sym_M)"
   ]
  },
  {
   "cell_type": "markdown",
   "id": "a1530d79",
   "metadata": {},
   "source": [
    "- Siispä matriisi Sym_M on diagonalisoituva."
   ]
  },
  {
   "cell_type": "markdown",
   "id": "d4a9345f",
   "metadata": {},
   "source": [
    "<br>"
   ]
  },
  {
   "cell_type": "markdown",
   "id": "dcdbb833",
   "metadata": {},
   "source": [
    "Lasketaan $ A^8 $ ja $ PD^8 P^T $ ja verrataan tuloksia (niiden pitäisi olla samat)"
   ]
  },
  {
   "cell_type": "code",
   "execution_count": 28,
   "id": "0e3a6ab8",
   "metadata": {},
   "outputs": [
    {
     "data": {
      "text/plain": [
       "array([[1.42552795e+11, 1.35297258e+11, 9.16333777e+10, 1.83388795e+11,\n",
       "        1.38798133e+11, 1.73663478e+11],\n",
       "       [1.35297258e+11, 1.28422358e+11, 8.69706747e+10, 1.74066188e+11,\n",
       "        1.31735770e+11, 1.64828721e+11],\n",
       "       [9.16333777e+10, 8.69706747e+10, 5.89023820e+10, 1.17884136e+11,\n",
       "        8.92201010e+10, 1.11631851e+11],\n",
       "       [1.83388795e+11, 1.74066188e+11, 1.17884136e+11, 2.35934392e+11,\n",
       "        1.78561665e+11, 2.23415085e+11],\n",
       "       [1.38798133e+11, 1.31735770e+11, 8.92201010e+10, 1.78561665e+11,\n",
       "        1.35151416e+11, 1.69084526e+11],\n",
       "       [1.73663478e+11, 1.64828721e+11, 1.11631851e+11, 2.23415085e+11,\n",
       "        1.69084526e+11, 2.11568994e+11]])"
      ]
     },
     "execution_count": 28,
     "metadata": {},
     "output_type": "execute_result"
    }
   ],
   "source": [
    "A8 = potenssi(Sym_M, 8)\n",
    "A8"
   ]
  },
  {
   "cell_type": "code",
   "execution_count": 29,
   "id": "0ef8c874",
   "metadata": {},
   "outputs": [],
   "source": [
    "PD8 = P3 @ potenssi(D3, 8)"
   ]
  },
  {
   "cell_type": "code",
   "execution_count": 30,
   "id": "15ddd1ff",
   "metadata": {},
   "outputs": [
    {
     "data": {
      "text/plain": [
       "array([[1.42552795e+11, 1.35297258e+11, 9.16333777e+10, 1.83388795e+11,\n",
       "        1.38798133e+11, 1.73663478e+11],\n",
       "       [1.35297258e+11, 1.28422358e+11, 8.69706747e+10, 1.74066188e+11,\n",
       "        1.31735770e+11, 1.64828721e+11],\n",
       "       [9.16333777e+10, 8.69706747e+10, 5.89023820e+10, 1.17884136e+11,\n",
       "        8.92201010e+10, 1.11631851e+11],\n",
       "       [1.83388795e+11, 1.74066188e+11, 1.17884136e+11, 2.35934392e+11,\n",
       "        1.78561665e+11, 2.23415085e+11],\n",
       "       [1.38798133e+11, 1.31735770e+11, 8.92201010e+10, 1.78561665e+11,\n",
       "        1.35151416e+11, 1.69084526e+11],\n",
       "       [1.73663478e+11, 1.64828721e+11, 1.11631851e+11, 2.23415085e+11,\n",
       "        1.69084526e+11, 2.11568994e+11]])"
      ]
     },
     "execution_count": 30,
     "metadata": {},
     "output_type": "execute_result"
    }
   ],
   "source": [
    "PD8PT = PD8 @ P3.T\n",
    "PD8PT"
   ]
  },
  {
   "cell_type": "code",
   "execution_count": 31,
   "id": "40c9e670",
   "metadata": {},
   "outputs": [
    {
     "data": {
      "text/plain": [
       "True"
      ]
     },
     "execution_count": 31,
     "metadata": {},
     "output_type": "execute_result"
    }
   ],
   "source": [
    "np.allclose(A8, PD8PT)"
   ]
  },
  {
   "cell_type": "markdown",
   "id": "db33da31",
   "metadata": {},
   "source": [
    "- Tulos näyttäisi olevan sama!"
   ]
  },
  {
   "cell_type": "markdown",
   "id": "a14332b2",
   "metadata": {},
   "source": [
    "<br>"
   ]
  },
  {
   "cell_type": "markdown",
   "id": "12bbf030",
   "metadata": {},
   "source": [
    "<br>"
   ]
  },
  {
   "cell_type": "markdown",
   "id": "a3e62506",
   "metadata": {},
   "source": [
    "<h3 align=\"left\">Tehtävä 7</h3>"
   ]
  },
  {
   "cell_type": "markdown",
   "id": "d9ebafb2",
   "metadata": {},
   "source": [
    "Tässä tehtävässä harjoitellaan perusasioita singulaariarvohajotelmaan liittyen. Tarkastellaan matriisia\n",
    "\n",
    "$$ A = \\begin{bmatrix} \n",
    "        1 & 4 & 2\\\\\n",
    "        -1 & 0 & 2\\\\\n",
    "        5 & -1 & -11\\\\\n",
    "        0 & 2 & 2\\\\\n",
    "        1 & 1 & -1\n",
    "       \\end{bmatrix}. $$"
   ]
  },
  {
   "attachments": {
    "Singulaariarvohajotelma.png": {
     "image/png": "[encoded data removed]"
    }
   },
   "cell_type": "markdown",
   "id": "38a23f2b",
   "metadata": {},
   "source": [
    "![Singulaariarvohajotelma.png](attachment:Singulaariarvohajotelma.png)"
   ]
  },
  {
   "attachments": {
    "SVD_and_basis.png": {
     "image/png": "[encoded data removed]"
    }
   },
   "cell_type": "markdown",
   "id": "bff2a10e",
   "metadata": {},
   "source": [
    "![SVD_and_basis.png](attachment:SVD_and_basis.png)"
   ]
  },
  {
   "cell_type": "markdown",
   "id": "5399d27a",
   "metadata": {},
   "source": [
    "NumPyn $\\, np.linalg.svd() \\,$ palauttaa matriisin A singulaariarvohajotelman kolmen objektin muodossa. \\\n",
    "Sijoita ne muuttujiin U, S ja V.\n",
    "- Huomaa, että S on vektori, joka sisältää ainoastaan matriisin A singulaariarvot. Se täytyy siis muuntaa matriisiksi $\\mathbf{\\Sigma}$ (ei kuitenkaan tehdä sitä tässä, kun sitä ei tehtävässä pyydetty).\n",
    "- Huomaa, että matriisi V palautetaan valmiiksi transponoituna, joten sitä ei tarvitse matriisituloa laskiessa erikseen transponoida."
   ]
  },
  {
   "cell_type": "code",
   "execution_count": 223,
   "id": "62549aed",
   "metadata": {},
   "outputs": [],
   "source": [
    "A = np.array([[1, 4, 2], [-1, 0, 2], [5, -1, -11], [0, 2, 2], [1, 1, -1]])"
   ]
  },
  {
   "cell_type": "code",
   "execution_count": 253,
   "id": "c9b4fafc",
   "metadata": {},
   "outputs": [],
   "source": [
    "r = np.linalg.matrix_rank(A)"
   ]
  },
  {
   "cell_type": "code",
   "execution_count": 224,
   "id": "ec1beffc",
   "metadata": {},
   "outputs": [],
   "source": [
    "U, S, V = np.linalg.svd(A)"
   ]
  },
  {
   "cell_type": "code",
   "execution_count": 254,
   "id": "73dc47c0",
   "metadata": {},
   "outputs": [],
   "source": [
    "Null_Basis_A = V.T[:, r].reshape(-1, 1)"
   ]
  },
  {
   "cell_type": "code",
   "execution_count": 255,
   "id": "1c00ae89",
   "metadata": {},
   "outputs": [
    {
     "data": {
      "text/plain": [
       "array([[ 0.81649658],\n",
       "       [-0.40824829],\n",
       "       [ 0.40824829]])"
      ]
     },
     "execution_count": 255,
     "metadata": {},
     "output_type": "execute_result"
    }
   ],
   "source": [
    "Null_Basis_A"
   ]
  },
  {
   "cell_type": "markdown",
   "id": "1bd11308",
   "metadata": {},
   "source": [
    "- Huomaa, että matriisi V palautetaan transponoituna, joten jos se halutaan takaisin normaalimuotoon ($V^T$ $\\rightarrow$ $V$), niin siitä pitää ottaa uudestaan transpoosi.\n",
    "- Tämän jälkeen nolla-avaruuden $N(A)$ ortonormaali kanta voidaan poimia lauseiden **6.1.3** ja **6.1.5** mukaisesti sarakevektoreina.\n",
    "- $V.T[:, \\, 2]$ yksin palauttaa rivivektorin, joten jos se halutaan esittää sarakevektorina, se voidaan muokata sarakevektoriksi $reshape(-1, 1)$ -komennolla"
   ]
  },
  {
   "cell_type": "markdown",
   "id": "0fbf8dea",
   "metadata": {},
   "source": [
    "Tarkistetaan tulos SciPyn $null\\_space()$ -funktiolla, joka palauttaa matriisin $A$ nolla-avaruuden $N(A)$ ortonormaalin kannan."
   ]
  },
  {
   "cell_type": "code",
   "execution_count": 246,
   "id": "7ec43c68",
   "metadata": {},
   "outputs": [
    {
     "data": {
      "text/plain": [
       "array([[ 0.81649658],\n",
       "       [-0.40824829],\n",
       "       [ 0.40824829]])"
      ]
     },
     "execution_count": 246,
     "metadata": {},
     "output_type": "execute_result"
    }
   ],
   "source": [
    "scipy.linalg.null_space(A)"
   ]
  },
  {
   "cell_type": "markdown",
   "id": "1818de9b",
   "metadata": {},
   "source": [
    "<br>"
   ]
  },
  {
   "cell_type": "markdown",
   "id": "074db740",
   "metadata": {},
   "source": [
    "Matriisin $A$ sarakeavaruuden $C(A)$ ortonormaali kanta saadaan suoraan lauseiden **6.1.3** ja **6.1.5**  mukaisesti."
   ]
  },
  {
   "cell_type": "code",
   "execution_count": 256,
   "id": "8ee7c177",
   "metadata": {},
   "outputs": [],
   "source": [
    "Col_Basis_A = U[:, 0:r]"
   ]
  },
  {
   "cell_type": "code",
   "execution_count": 258,
   "id": "b4987c7c",
   "metadata": {},
   "outputs": [
    {
     "data": {
      "text/plain": [
       "array([[ 0.15896914,  0.85890385],\n",
       "       [ 0.17398385, -0.07378282],\n",
       "       [-0.95315751,  0.17263385],\n",
       "       [ 0.1664765 ,  0.39256051],\n",
       "       [-0.0907456 ,  0.27006308]])"
      ]
     },
     "execution_count": 258,
     "metadata": {},
     "output_type": "execute_result"
    }
   ],
   "source": [
    "Col_Basis_A"
   ]
  }
 ],
 "metadata": {
  "kernelspec": {
   "display_name": "Python 3 (ipykernel)",
   "language": "python",
   "name": "python3"
  },
  "language_info": {
   "codemirror_mode": {
    "name": "ipython",
    "version": 3
   },
   "file_extension": ".py",
   "mimetype": "text/x-python",
   "name": "python",
   "nbconvert_exporter": "python",
   "pygments_lexer": "ipython3",
   "version": "3.9.12"
  }
 },
 "nbformat": 4,
 "nbformat_minor": 5
}
