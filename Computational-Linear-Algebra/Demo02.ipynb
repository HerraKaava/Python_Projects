{
 "cells": [
  {
   "cell_type": "code",
   "execution_count": 1,
   "id": "6ce76ddc",
   "metadata": {},
   "outputs": [],
   "source": [
    "import numpy as np\n",
    "import sympy as sp\n",
    "import matplotlib.pyplot as plt\n",
    "import seaborn as sns\n",
    "import scipy\n",
    "import math"
   ]
  },
  {
   "cell_type": "markdown",
   "id": "3894b3cd",
   "metadata": {},
   "source": [
    "<h3 align=\"left\">Tehtävä 1</h3>"
   ]
  },
  {
   "cell_type": "markdown",
   "id": "24118ab2",
   "metadata": {},
   "source": [
    "- Muodosta funktio *cols_are_lin(A)*, missä parametri A on matriisi. \n",
    "- Funktio testaa, ovatko matriisin A sarakevektorit lineaarisesti riippumattomat.\n",
    "- Funtkion tulee palauttaa 1, jos sarakkeet ovat LI ja 0 jos ne ovat LD."
   ]
  },
  {
   "cell_type": "code",
   "execution_count": 2,
   "id": "6d61cfe1",
   "metadata": {},
   "outputs": [],
   "source": [
    "def cols_are_lin(A):\n",
    "\n",
    "    if np.linalg.matrix_rank(A) == A.shape[1]:\n",
    "        return 1\n",
    "    else:\n",
    "        return 0"
   ]
  },
  {
   "cell_type": "markdown",
   "id": "010e4b60",
   "metadata": {},
   "source": [
    "Funktion logiikka.\n",
    "- Matriisin A aste (rank) on sen lineaarisesti riippumattomien sarakevektoreiden lukumäärä.\n",
    "- np.linalg.matrix_rank(A) palauttaa matriisin A lineaarisesti riippumattomien sarakkeiden lukumäärän.\n",
    "- A.shape palauttaa tuplen; (rows, cols) $ \\rightarrow A.shape[1] $ palauttaa matriisin A sarakkeiden lukumäärän.\n",
    "- Matriisin A sarakevektorit ovat LI, jos rank A = n, missä n = sarakkeiden lukumäärä."
   ]
  },
  {
   "cell_type": "code",
   "execution_count": 4,
   "id": "9f6c3c60",
   "metadata": {},
   "outputs": [],
   "source": [
    "# Tämän matriisin sarakkeet ovat selvästi lineaarisesti riippumattomat\n",
    "M1 = np.array([[1, 0, 0], [0, 1, 0], [0, 0, 1]])\n",
    "\n",
    "# Tämä matriisin sarakkeet ovat lineaarisesti riippuvat (3. sarake on 1. ja 2. lineaarikombinaatio)\n",
    "M2 = np.array([[1, 2, 3], [2, 4, 6], [1, 2, 3]])"
   ]
  },
  {
   "cell_type": "code",
   "execution_count": 5,
   "id": "a52661c3",
   "metadata": {},
   "outputs": [
    {
     "data": {
      "text/plain": [
       "1"
      ]
     },
     "execution_count": 5,
     "metadata": {},
     "output_type": "execute_result"
    }
   ],
   "source": [
    "cols_are_lin(M1)"
   ]
  },
  {
   "cell_type": "code",
   "execution_count": 6,
   "id": "3f73f431",
   "metadata": {},
   "outputs": [
    {
     "data": {
      "text/plain": [
       "0"
      ]
     },
     "execution_count": 6,
     "metadata": {},
     "output_type": "execute_result"
    }
   ],
   "source": [
    "cols_are_lin(M2)"
   ]
  },
  {
   "cell_type": "markdown",
   "id": "35eee2c3",
   "metadata": {},
   "source": [
    "- Funktio toimii niin kuten pitääkin."
   ]
  },
  {
   "cell_type": "markdown",
   "id": "f1d5fc55",
   "metadata": {},
   "source": [
    "<br>"
   ]
  },
  {
   "cell_type": "markdown",
   "id": "af95f4f7",
   "metadata": {},
   "source": [
    "<br>"
   ]
  },
  {
   "cell_type": "markdown",
   "id": "4ef7439e",
   "metadata": {},
   "source": [
    "<h3 align=\"left\">Tehtävä 2</h3>"
   ]
  },
  {
   "cell_type": "markdown",
   "id": "7baf30c2",
   "metadata": {},
   "source": [
    "Olkoot A NumPy-matriisi. Kirjoita funktio onko_ratkaisua(A, b), joka palauttaa yhtälön yksikäsitteisen ratkaisun käänteismatriisin avulla, jos yhtälöllä"
   ]
  },
  {
   "cell_type": "markdown",
   "id": "b0185799",
   "metadata": {},
   "source": [
    "$$ \\large A\\vec x = \\vec b $$ "
   ]
  },
  {
   "cell_type": "markdown",
   "id": "5bdeb170",
   "metadata": {},
   "source": [
    "on olemassa ratkaisu. Mikäli yhtälöllä ei ole ratkaisua, käyttäjälle kerrotaan tästä valitsemallasi tulostuksella."
   ]
  },
  {
   "cell_type": "code",
   "execution_count": 62,
   "id": "9b5265ae",
   "metadata": {},
   "outputs": [],
   "source": [
    "def onko_ratkaisua(A, b):\n",
    "    \"\"\"\n",
    "    Funktio ratkaisee yhtälöryhmän Ax=b käänteismatriisin avulla.\n",
    "    \n",
    "    Args:\n",
    "        A: Matriisi A.\n",
    "        b: Vektori b.\n",
    "        \n",
    "    Returns:\n",
    "        Funktio palauttaa yhtälön yhtälön ratkaisun, mikäli se on olemassa.\n",
    "        Mikäli yhtälöllä ei ole ratkaisua, funktio tulostaa asianmukaisen viestin.\n",
    "    \"\"\"\n",
    "    # Jos A ei ole neliömatriisi, niin se ei ole kääntyvä.\n",
    "    if A.shape[0] != A.shape[1]:\n",
    "        print(\"A ei ole kääntyvä.\")\n",
    "    \n",
    "    # Jos determinantti on nollasta poikkeava, niin A on kääntyvä.\n",
    "    # Tällöin yhtälöllä Ax=b on yksikäsitteinen ratkaisu.\n",
    "    elif np.linalg.det(A) != 0:\n",
    "        return np.linalg.inv(A) @ b\n",
    "    \n",
    "    # Jos taas determinantti on nolla, niin A ei ole kääntyvä (sarakevektorit LI).\n",
    "    else:\n",
    "        print(\"A ei ole kääntyvä.\")"
   ]
  },
  {
   "cell_type": "code",
   "execution_count": 63,
   "id": "9138b813",
   "metadata": {},
   "outputs": [],
   "source": [
    "# A ei ole kääntyvä\n",
    "A1 = np.array([[1, 2, 3],\n",
    "               [4, 5, 6],\n",
    "               [7, 8, 9]])\n",
    "\n",
    "# A on kääntyvä\n",
    "A2 = np.array([[1, 2, 1],\n",
    "               [0, 7, 0],\n",
    "               [-1, 3, 0]])\n",
    "\n",
    "b1 = np.array([1, 2, 3])"
   ]
  },
  {
   "cell_type": "code",
   "execution_count": 64,
   "id": "42a3d05d",
   "metadata": {},
   "outputs": [
    {
     "name": "stdout",
     "output_type": "stream",
     "text": [
      "A ei ole kääntyvä.\n"
     ]
    }
   ],
   "source": [
    "onko_ratkaisua(A1, b1)"
   ]
  },
  {
   "cell_type": "code",
   "execution_count": 65,
   "id": "038de7ae",
   "metadata": {},
   "outputs": [
    {
     "data": {
      "text/plain": [
       "array([-2.14285714,  0.28571429,  2.57142857])"
      ]
     },
     "execution_count": 65,
     "metadata": {},
     "output_type": "execute_result"
    }
   ],
   "source": [
    "onko_ratkaisua(A2, b1)"
   ]
  },
  {
   "cell_type": "code",
   "execution_count": 66,
   "id": "2fe994fa",
   "metadata": {},
   "outputs": [
    {
     "data": {
      "text/plain": [
       "array([-2.14285714,  0.28571429,  2.57142857])"
      ]
     },
     "execution_count": 66,
     "metadata": {},
     "output_type": "execute_result"
    }
   ],
   "source": [
    "# Tarkistetaan, että ratkaisu on oikea.\n",
    "np.linalg.solve(A2, b1)"
   ]
  },
  {
   "cell_type": "markdown",
   "id": "f111960a",
   "metadata": {},
   "source": [
    "- Ok."
   ]
  },
  {
   "cell_type": "markdown",
   "id": "829d7a1d",
   "metadata": {},
   "source": [
    "<br>"
   ]
  },
  {
   "cell_type": "markdown",
   "id": "504fb9dd",
   "metadata": {},
   "source": [
    "np.newaxis -funktio lisää olemassa olevan matriisin dimensiota yhdellä."
   ]
  },
  {
   "cell_type": "code",
   "execution_count": 4,
   "id": "35815ad8",
   "metadata": {},
   "outputs": [
    {
     "name": "stdout",
     "output_type": "stream",
     "text": [
      "[1 2 3]\n"
     ]
    },
    {
     "data": {
      "text/plain": [
       "(3,)"
      ]
     },
     "execution_count": 4,
     "metadata": {},
     "output_type": "execute_result"
    }
   ],
   "source": [
    "a = np.array([1, 2, 3])\n",
    "print(a)\n",
    "a.shape"
   ]
  },
  {
   "cell_type": "code",
   "execution_count": 5,
   "id": "4490b1de",
   "metadata": {},
   "outputs": [
    {
     "name": "stdout",
     "output_type": "stream",
     "text": [
      "[[1]\n",
      " [2]\n",
      " [3]]\n"
     ]
    },
    {
     "data": {
      "text/plain": [
       "(3, 1)"
      ]
     },
     "execution_count": 5,
     "metadata": {},
     "output_type": "execute_result"
    }
   ],
   "source": [
    "a_new_dim = a[:, np.newaxis]\n",
    "print(a_new_dim)\n",
    "a_new_dim.shape"
   ]
  },
  {
   "cell_type": "code",
   "execution_count": 6,
   "id": "e7877ca7",
   "metadata": {},
   "outputs": [
    {
     "data": {
      "text/plain": [
       "array([[ 1,  2,  0],\n",
       "       [-1,  1, -2],\n",
       "       [-1,  4, -4]])"
      ]
     },
     "execution_count": 6,
     "metadata": {},
     "output_type": "execute_result"
    }
   ],
   "source": [
    "A = np.array([[1, 2, 0], [-1, 1, -2, ], [-1, 4, -4]])\n",
    "A"
   ]
  },
  {
   "cell_type": "code",
   "execution_count": 7,
   "id": "18016bdc",
   "metadata": {},
   "outputs": [
    {
     "data": {
      "text/plain": [
       "array([[ 1,  2,  0,  1],\n",
       "       [-1,  1, -2,  2],\n",
       "       [-1,  4, -4,  3]])"
      ]
     },
     "execution_count": 7,
     "metadata": {},
     "output_type": "execute_result"
    }
   ],
   "source": [
    "np.hstack((A, a_new_dim))"
   ]
  },
  {
   "cell_type": "markdown",
   "id": "79d7defa",
   "metadata": {},
   "source": [
    "- ks. docstring"
   ]
  },
  {
   "cell_type": "markdown",
   "id": "a4a68399",
   "metadata": {},
   "source": [
    "<br>"
   ]
  },
  {
   "cell_type": "markdown",
   "id": "c85e8f98",
   "metadata": {},
   "source": [
    "<br>"
   ]
  },
  {
   "cell_type": "markdown",
   "id": "f5d2c130",
   "metadata": {},
   "source": [
    "<h3 align=\"left\">Tehtävä 3</h3>"
   ]
  },
  {
   "cell_type": "markdown",
   "id": "d5ba0ca4",
   "metadata": {},
   "source": [
    "Luo funktio, joka vaihtaa annetun matriisin **A** rivit **a** ja **b** keskenään ja palauttaa näin saadun matriisin."
   ]
  },
  {
   "cell_type": "code",
   "execution_count": 8,
   "id": "e8bc5f12",
   "metadata": {},
   "outputs": [],
   "source": [
    "def Swap_rows(A, a, b):\n",
    "    \n",
    "    A[[a, b]] = A[[b, a]]\n",
    "    return A"
   ]
  },
  {
   "cell_type": "code",
   "execution_count": 9,
   "id": "8d103f9b",
   "metadata": {},
   "outputs": [
    {
     "data": {
      "text/plain": [
       "array([[ 1,  2,  0],\n",
       "       [-1,  1,  2]])"
      ]
     },
     "execution_count": 9,
     "metadata": {},
     "output_type": "execute_result"
    }
   ],
   "source": [
    "C = np.array([[1, 2, 0], [-1, 1, 2]])\n",
    "C"
   ]
  },
  {
   "cell_type": "code",
   "execution_count": 10,
   "id": "14992d4d",
   "metadata": {},
   "outputs": [
    {
     "data": {
      "text/plain": [
       "array([[-1,  1,  2],\n",
       "       [ 1,  2,  0]])"
      ]
     },
     "execution_count": 10,
     "metadata": {},
     "output_type": "execute_result"
    }
   ],
   "source": [
    "Swap_rows(C, 0, 1)"
   ]
  },
  {
   "cell_type": "markdown",
   "id": "69bad478",
   "metadata": {},
   "source": [
    "- Toimii!\n",
    "- Ks. alta selitys, kuinka rivien vaihto toimii matriiseissa indeksoinnin avulla."
   ]
  },
  {
   "cell_type": "markdown",
   "id": "d1bb7aea",
   "metadata": {},
   "source": [
    "<br>"
   ]
  },
  {
   "cell_type": "markdown",
   "id": "7432f919",
   "metadata": {},
   "source": [
    "Rivit voidaan vaihtaa seuraavasti käyttämällä indeksointia."
   ]
  },
  {
   "cell_type": "code",
   "execution_count": 11,
   "id": "8da9a954",
   "metadata": {},
   "outputs": [
    {
     "name": "stdout",
     "output_type": "stream",
     "text": [
      "[[ 1  2  0]\n",
      " [-1  1 -2]\n",
      " [ 2 -1  1]]\n"
     ]
    }
   ],
   "source": [
    "B = np.array([[1, 2, 0], [-1, 1, -2], [2, -1, 1]])\n",
    "print(B)"
   ]
  },
  {
   "cell_type": "code",
   "execution_count": 12,
   "id": "5492e9ea",
   "metadata": {},
   "outputs": [
    {
     "data": {
      "text/plain": [
       "array([[-1,  1, -2],\n",
       "       [ 2, -1,  1]])"
      ]
     },
     "execution_count": 12,
     "metadata": {},
     "output_type": "execute_result"
    }
   ],
   "source": [
    "B[[1, 2]]"
   ]
  },
  {
   "cell_type": "markdown",
   "id": "9f5f5666",
   "metadata": {},
   "source": [
    "- $ B[[1, 2]] $ (**huomaa tuplabraketit**) tulostaa matriisin B rivit 2 ja 3."
   ]
  },
  {
   "cell_type": "code",
   "execution_count": 13,
   "id": "e1c1e354",
   "metadata": {},
   "outputs": [
    {
     "name": "stdout",
     "output_type": "stream",
     "text": [
      "2\n",
      "2\n"
     ]
    }
   ],
   "source": [
    "print(B[0, 1])\n",
    "print(B[0][1])"
   ]
  },
  {
   "cell_type": "markdown",
   "id": "f2752888",
   "metadata": {},
   "source": [
    "- Sen sijaan $ B[0, 1] \\, \\, tai \\, \\, B[0][1] $ (**huomaa yksittäiset braketit**) tulostaa 1. rivin 2. alkion."
   ]
  },
  {
   "cell_type": "markdown",
   "id": "dfb174ac",
   "metadata": {},
   "source": [
    " Nyt, jos halutaan esim. vaihtaa rivien 1 ja 2 paikkoja, voidaan toimia seuraavasti."
   ]
  },
  {
   "cell_type": "code",
   "execution_count": 14,
   "id": "007b2f1a",
   "metadata": {},
   "outputs": [
    {
     "name": "stdout",
     "output_type": "stream",
     "text": [
      "[[ 1  2  0]\n",
      " [-1  1 -2]\n",
      " [ 2 -1  1]]\n"
     ]
    }
   ],
   "source": [
    "print(B)"
   ]
  },
  {
   "cell_type": "code",
   "execution_count": 15,
   "id": "f1e24e09",
   "metadata": {},
   "outputs": [],
   "source": [
    "B[[0, 1]] = B[[1, 0]]"
   ]
  },
  {
   "cell_type": "code",
   "execution_count": 16,
   "id": "4f14ee98",
   "metadata": {},
   "outputs": [
    {
     "name": "stdout",
     "output_type": "stream",
     "text": [
      "[[-1  1 -2]\n",
      " [ 1  2  0]\n",
      " [ 2 -1  1]]\n"
     ]
    }
   ],
   "source": [
    "print(B)"
   ]
  },
  {
   "cell_type": "markdown",
   "id": "1359faff",
   "metadata": {},
   "source": [
    "<br>"
   ]
  },
  {
   "cell_type": "markdown",
   "id": "cb57c397",
   "metadata": {},
   "source": [
    "<br>"
   ]
  },
  {
   "cell_type": "markdown",
   "id": "adf100ca",
   "metadata": {},
   "source": [
    "<h3 align=\"left\">Tehtävä 4</h3>"
   ]
  },
  {
   "cell_type": "markdown",
   "id": "6bea738b",
   "metadata": {},
   "source": [
    "Luo funktio, joka kertoo annetun matriisin **A** rivin **a** luvulla **r** ja palauttaa näin saadun matriisin."
   ]
  },
  {
   "cell_type": "code",
   "execution_count": 17,
   "id": "663febb3",
   "metadata": {},
   "outputs": [],
   "source": [
    "def multiply_row(A, a, r):\n",
    "    \n",
    "    A[a] = A[a] * r\n",
    "    return A"
   ]
  },
  {
   "cell_type": "code",
   "execution_count": 18,
   "id": "c42a40b0",
   "metadata": {},
   "outputs": [
    {
     "data": {
      "text/plain": [
       "array([[4, 2, 7],\n",
       "       [8, 3, 4],\n",
       "       [2, 2, 3]])"
      ]
     },
     "execution_count": 18,
     "metadata": {},
     "output_type": "execute_result"
    }
   ],
   "source": [
    "D = np.array([[4, 2, 7], [8, 3, 4], [2, 2, 3]])\n",
    "D"
   ]
  },
  {
   "cell_type": "code",
   "execution_count": 19,
   "id": "5c7dc2b4",
   "metadata": {},
   "outputs": [
    {
     "data": {
      "text/plain": [
       "array([[ 4,  2,  7],\n",
       "       [40, 15, 20],\n",
       "       [ 2,  2,  3]])"
      ]
     },
     "execution_count": 19,
     "metadata": {},
     "output_type": "execute_result"
    }
   ],
   "source": [
    "multiply_row(D, 1, 5)"
   ]
  },
  {
   "cell_type": "markdown",
   "id": "d0a1858b",
   "metadata": {},
   "source": [
    "- OK!"
   ]
  },
  {
   "cell_type": "markdown",
   "id": "6b81310a",
   "metadata": {},
   "source": [
    "<br>"
   ]
  },
  {
   "cell_type": "markdown",
   "id": "b3d4d6da",
   "metadata": {},
   "source": [
    "<br>"
   ]
  },
  {
   "cell_type": "markdown",
   "id": "b081683f",
   "metadata": {},
   "source": [
    "<h3 align=\"left\">Tehtävä 5</h3>"
   ]
  },
  {
   "cell_type": "markdown",
   "id": "367dbf70",
   "metadata": {},
   "source": [
    "Luo funktio, joka kertoo annetun matriisin **A** rivin **a** luvulla **r** ja lisää näin saadun rivin matriisin **A** riviin **b**. \\\n",
    "Fuktio palauttaa näin saadun matriisin."
   ]
  },
  {
   "cell_type": "code",
   "execution_count": 20,
   "id": "5e1322cd",
   "metadata": {},
   "outputs": [],
   "source": [
    "def new_M(A, a, r, b):\n",
    "    \n",
    "    # luodaan uusi vektori c, joka on matriisin A rivi a kerrottuna vakiolla r.\n",
    "    c = A[a] * r\n",
    "    # lisätään matriisin A riviin b vektori c.\n",
    "    A[b] = A[b] + c\n",
    "    # palautetaan matriisi A\n",
    "    return A"
   ]
  },
  {
   "cell_type": "code",
   "execution_count": 21,
   "id": "5fb0f44f",
   "metadata": {},
   "outputs": [
    {
     "data": {
      "text/plain": [
       "array([[ 1,  2,  0],\n",
       "       [-1,  1, -2],\n",
       "       [-1,  4, -4]])"
      ]
     },
     "execution_count": 21,
     "metadata": {},
     "output_type": "execute_result"
    }
   ],
   "source": [
    "A = np.array([[1, 2, 0], [-1, 1, -2, ], [-1, 4, -4]])\n",
    "A"
   ]
  },
  {
   "cell_type": "code",
   "execution_count": 22,
   "id": "35c9768d",
   "metadata": {},
   "outputs": [
    {
     "data": {
      "text/plain": [
       "array([[ 1,  2,  0],\n",
       "       [-1,  1, -2],\n",
       "       [ 4, 14, -4]])"
      ]
     },
     "execution_count": 22,
     "metadata": {},
     "output_type": "execute_result"
    }
   ],
   "source": [
    "new_M(A, 0, 5, 2)"
   ]
  },
  {
   "cell_type": "markdown",
   "id": "05906c6c",
   "metadata": {},
   "source": [
    "- OK!"
   ]
  },
  {
   "cell_type": "markdown",
   "id": "6118b416",
   "metadata": {},
   "source": [
    "<br>"
   ]
  },
  {
   "cell_type": "markdown",
   "id": "02f64580",
   "metadata": {},
   "source": [
    "<br>"
   ]
  },
  {
   "cell_type": "markdown",
   "id": "0bce33a4",
   "metadata": {},
   "source": [
    "<h3 align=\"left\">Tehtävä 6</h3>"
   ]
  },
  {
   "cell_type": "code",
   "execution_count": 73,
   "id": "c245d9be",
   "metadata": {},
   "outputs": [],
   "source": [
    "def Gauss(A, j):\n",
    "    \"\"\"\n",
    "    Nollaa sarakkeen j kaikilta riveiltä j+1 eteenpäin.\n",
    "    Oletetaan, että A on neliömatriisi ja että\n",
    "    Gauss-Jordan eliminointia on tehty vaiheeseen j asti.\n",
    "    \"\"\"\n",
    "    # Koska pythonissa indeksointi alkaa nollasta, \n",
    "    # siirretään indeksiä siten, että jos esim j=1,\n",
    "    # niin operoidaan ensimmäisessä sarakkeessa \n",
    "    # (muutoinhan operoitaisiin 2. sarakkeessa).\n",
    "    j = j-1\n",
    "    \n",
    "    # Tämä on tärkeä vaihe. \n",
    "    # Ilman tätä vaihetta, mikäli funktiolle syötetään matriisi, \n",
    "    # jossa on pelkkiä kokonaislukuja,\n",
    "    # niin palautettavassa matriisissa ei näytetä desimaalilukuja,\n",
    "    # vaikka niitä olisi (esim. 2.578 muutettaisiin luvuksi 2).\n",
    "    A = A.astype(float)\n",
    "    \n",
    "    n = A.shape[0]\n",
    "    for i in range(j+1, n):\n",
    "        # Nollataan sarakkeen j alkiot riveiltä j+1 eteenpäin\n",
    "        if A[i, j] != 0:\n",
    "            # Lineaarialgebran kursseilta tuttu tekniikka \\\n",
    "            # haluttujen alkioiden nollaamiseksi.\n",
    "            A[i] = A[i] - (A[i, j] / A[j, j]) * A[j]\n",
    "    return A"
   ]
  },
  {
   "cell_type": "code",
   "execution_count": 4,
   "id": "5c1970aa",
   "metadata": {},
   "outputs": [
    {
     "data": {
      "text/plain": [
       "array([[3, 2, 0],\n",
       "       [5, 1, 2],\n",
       "       [2, 4, 4]])"
      ]
     },
     "execution_count": 4,
     "metadata": {},
     "output_type": "execute_result"
    }
   ],
   "source": [
    "A = np.array([[3, 2, 0], [5, 1, 2, ], [2, 4, 4]])\n",
    "A"
   ]
  },
  {
   "cell_type": "code",
   "execution_count": 5,
   "id": "687221a9",
   "metadata": {},
   "outputs": [
    {
     "data": {
      "text/plain": [
       "array([[ 3.        ,  2.        ,  0.        ],\n",
       "       [ 0.        , -2.33333333,  2.        ],\n",
       "       [ 0.        ,  2.66666667,  4.        ]])"
      ]
     },
     "execution_count": 5,
     "metadata": {},
     "output_type": "execute_result"
    }
   ],
   "source": [
    "# Nollataan 1. sarakkeen rivien 2. ja 3. alkiot.\n",
    "Gauss(A, 1)"
   ]
  },
  {
   "cell_type": "markdown",
   "id": "46a63a69",
   "metadata": {},
   "source": [
    "Funktion logiikka. Olkoot $ \\mathbf{A_{3x3}} \\, \\, $-matriisi.\n",
    "\n",
    "$ n = A.shape[0] $ \n",
    "- ottaa talteen matriisin A rivien lukumäärän (3). Tätä tarvitaan silmukassa.\n",
    "\n",
    "*for i in range(j+1, n)*\n",
    "- **j** on tässä **pivot-alkio** (sekä **sarakkeen indeksi**, jossa ollaan).\n",
    "- **i** on rivin indeksi, jossa operoidaan sillä hetkellä.\n",
    "- koska Gauss-Jordan eliminoinnissa halutaan muuttaa aina pivot-alkion alapuoliset alkiot nolliksi, niin silmukan täytyy kulkea j:n jälkeiseltä riviltä vikalle riville asti."
   ]
  },
  {
   "cell_type": "markdown",
   "id": "000ae13f",
   "metadata": {},
   "source": [
    "<br>"
   ]
  },
  {
   "cell_type": "markdown",
   "id": "e8648680",
   "metadata": {},
   "source": [
    "<br>"
   ]
  },
  {
   "cell_type": "markdown",
   "id": "751de44b",
   "metadata": {},
   "source": [
    "<h3 align=\"left\">Tehtävä 7</h3>"
   ]
  },
  {
   "cell_type": "markdown",
   "id": "ffa0b6cc",
   "metadata": {},
   "source": [
    "- Oletetaan, että Gauss-Jordan on edennyt siihen vaiheeseen, että on saatu nollattua diagonaalin alapuoleiset alkiot ja muuten diagonaalilla on alkiot 1 tai 0. \n",
    "- Tee seuraavaksi funktio, joka tekee takaisin sijoitukset rivin j suhteen eli oleta, että rivillä j on alkio 1 sarakkeessa j ja 0 sarakkeissa 1, ... , j-1. Tarkoitus on nollata sarakkeessa j paikoissa 1, ... , j-1 olevat alkiot tämän avulla. \n",
    "- Palauta lopuksi saamasi matriisi"
   ]
  },
  {
   "cell_type": "code",
   "execution_count": 74,
   "id": "78e26f18",
   "metadata": {},
   "outputs": [],
   "source": [
    "def Jordan(A, j):\n",
    "    \n",
    "    n = A.shape[0]\n",
    "    A = A.astype(float)\n",
    "    j = j-1\n",
    "    \n",
    "    for i in range(0, j):\n",
    "        if A[i, j] != 0:\n",
    "            A[i] = A[i] - (A[i, j] / A[j, j]) * A[j]\n",
    "            \n",
    "    return A"
   ]
  },
  {
   "cell_type": "markdown",
   "id": "ffbf330e",
   "metadata": {},
   "source": [
    "- $ j = j-1 $ sen takia, että käyttäjä ei välttämättä tiedä Pythonissa indeksoinnin alkavan nollasta. Nyt, kun käyttäjä syöttää j = 3, niin kolmas sarake redusoidaan (jos ei määritettäisi $ j = j-1 $, niin j = 3 olisi out of range ja kolmannen sarakkeen redusoimiseksi täytyisi määrittää j = 2).\n",
    "- Alkioiden muuttaminen nollaksi for-silmukan sisällä tapahtuu normaalin algoritmin mukaan."
   ]
  },
  {
   "cell_type": "code",
   "execution_count": 41,
   "id": "33053f7b",
   "metadata": {},
   "outputs": [
    {
     "name": "stdout",
     "output_type": "stream",
     "text": [
      "[[1 5 4]\n",
      " [0 1 3]\n",
      " [0 0 1]]\n"
     ]
    }
   ],
   "source": [
    "m = np.array([[1, 5, 4], [0, 1, 3], [0, 0, 1]])\n",
    "print(m)"
   ]
  },
  {
   "cell_type": "code",
   "execution_count": 42,
   "id": "bb6465d5",
   "metadata": {},
   "outputs": [
    {
     "data": {
      "text/plain": [
       "array([[  1.,   0., -11.],\n",
       "       [  0.,   1.,   3.],\n",
       "       [  0.,   0.,   1.]])"
      ]
     },
     "execution_count": 42,
     "metadata": {},
     "output_type": "execute_result"
    }
   ],
   "source": [
    "m = Jordan(m, 2)\n",
    "m"
   ]
  },
  {
   "cell_type": "code",
   "execution_count": 43,
   "id": "bf3afd1a",
   "metadata": {},
   "outputs": [
    {
     "data": {
      "text/plain": [
       "array([[1., 0., 0.],\n",
       "       [0., 1., 0.],\n",
       "       [0., 0., 1.]])"
      ]
     },
     "execution_count": 43,
     "metadata": {},
     "output_type": "execute_result"
    }
   ],
   "source": [
    "m = Jordan(m, 3)\n",
    "m"
   ]
  },
  {
   "cell_type": "markdown",
   "id": "c422f42a",
   "metadata": {},
   "source": [
    "- Ok."
   ]
  },
  {
   "cell_type": "markdown",
   "id": "336bac6c",
   "metadata": {},
   "source": [
    "<br>"
   ]
  },
  {
   "cell_type": "markdown",
   "id": "4ea715de",
   "metadata": {},
   "source": [
    "<br>"
   ]
  },
  {
   "cell_type": "markdown",
   "id": "d318b678",
   "metadata": {},
   "source": [
    "<h3 align=\"left\">Tehtävä 8</h3>"
   ]
  },
  {
   "cell_type": "markdown",
   "id": "4076d9b3",
   "metadata": {},
   "source": [
    "Luo funktio, joka ottaa parametrina matriisin A ja palauttaa sen RREF-muodon.\n",
    "- Ts. siis luo funktio, joka suorittaa matriisille A **Gauss-Jordan transformaation**."
   ]
  },
  {
   "cell_type": "code",
   "execution_count": 112,
   "id": "afeb2f43",
   "metadata": {},
   "outputs": [],
   "source": [
    "def Gauss_Jordan(A):\n",
    "    \"\"\"\n",
    "    Funktio palauttaa parametrina annetun matriisin RREF-muodon. \n",
    "    (RREF = Reduced Row Echelon Form)\n",
    "    \"\"\"\n",
    "    \n",
    "    def Gauss(A, j):\n",
    "        \"\"\"\n",
    "        Nollaa sarakkeen j kaikilta riveiltä j+1 eteenpäin.\n",
    "        Oletetaan, että A on neliömatriisi ja että\n",
    "        Gauss-Jordan eliminointia on tehty vaiheeseen j asti.\n",
    "        \"\"\"\n",
    "        j = j-1\n",
    "        A = A.astype(float)\n",
    "        n = A.shape[0]\n",
    "        for i in range(j+1, n):\n",
    "            if A[i, j] != 0:\n",
    "                A[i] = A[i] - (A[i, j] / A[j, j]) * A[j]\n",
    "        return A\n",
    "    \n",
    "    \n",
    "    def jordan(A, j):\n",
    "        \"\"\"\n",
    "        Funktio nollaa sarakkeessa j paikoissa 1,...,j-1 olevat alkiot.\n",
    "        \n",
    "        Args:\n",
    "            A: Matriisi.\n",
    "            j: Sarake, jossa halutaan operoida.\n",
    "            \n",
    "        Returns:\n",
    "            Funktio palauttaa uuden matriisin A siten,\n",
    "            että sarakkeen j alkiot 1,...,j-1 ovat nollattu.\n",
    "        \"\"\"\n",
    "        n = A.shape[0]\n",
    "        A = A.astype(float)\n",
    "        j = j-1\n",
    "        for i in range(0, j):\n",
    "            if A[i, j] != 0:\n",
    "                A[i] = A[i] - (A[i, j] / A[j, j]) * A[j]      \n",
    "        return A\n",
    "\n",
    "    # Kaikkien pivot-sarakkeiden alapuoliset alkiot täytyy nollata (silmukka).\n",
    "    # Yllä määritelty Gauss-funktiohan tekee sen ainoastaan j:nnelle sarakkeelle,\n",
    "    # mutta silmukan avulla voidaan vaihtaa sen toiminnallisuutta siten,\n",
    "    # että saadaan yläkolmiomatriisi.\n",
    "    # Huomaa range-funktio. Olkoot A 3x3 -matriisi. Nyt:\n",
    "    # range(1, 3) (loppupää ei mukana) --> col saa silmukan aikana arvot 1 ja 2.\n",
    "    # Tämä sen takia, että yläkolmiomatriisia muodostettaessa viimeistä saraketta EI operoida.\n",
    "    for col in range(1, A.shape[0]):\n",
    "        A = Gauss(A, col)\n",
    "        A = np.round(A)\n",
    "        \n",
    "    # Kun Gauss-Jordan-eliminointi on edennyt siihen pisteeseen, \n",
    "    # että ollaan saatu muodostettua yläkolmiomatriisi (yllä olevan silmukan avulla),\n",
    "    # niin seuraavaksi halutaan redusoida diagonaalin yläpuoliset alkiot (alakolmiomatriisi).\n",
    "    # Tämän jälkeen ainoastaan diagonaalilla on nollasta poikkeavia alkioita.\n",
    "    # Huomaa, että toisin kuin yläkolmiomatriisia muodostettaessa,\n",
    "    # Huomaa range-funktio. Olkoot A 3x3 -matriisi. Nyt:\n",
    "    # range(2, 3+1) (loppupää ei mukana) --> col saa silmukan aikana arvot 2 ja 3.\n",
    "    # Tämä sen takia, että alakolmiomatriisia muodostettaessa ensimmäistä saraketta EI operoida.\n",
    "    for col in range(2, A.shape[0]+1):\n",
    "        A = Jordan(A, col)\n",
    "        A = np.round(A)\n",
    "        \n",
    "    # Muutetaan vielä matriisin A diagonaalin alkiot ykkösiksi, jolloin RREF-muoto on valmis.\n",
    "    # Apumuuttuja z silmukkaa varten (jotta päästään käsiksi diagonaaliin).\n",
    "    z = 0\n",
    "    for i in range(A.shape[0]):\n",
    "        # Jaetaan diagonaalin luvut itsellänsä, jolloin diagonaalille saadaan pelkkiä ykkösiä.\n",
    "        A[i, z] = A[i, z] / A[i, z]\n",
    "        z += 1\n",
    "        \n",
    "    return A"
   ]
  },
  {
   "cell_type": "code",
   "execution_count": 113,
   "id": "adee02e7",
   "metadata": {},
   "outputs": [
    {
     "data": {
      "text/plain": [
       "array([[3, 2, 0],\n",
       "       [5, 1, 2],\n",
       "       [2, 4, 4]])"
      ]
     },
     "execution_count": 113,
     "metadata": {},
     "output_type": "execute_result"
    }
   ],
   "source": [
    "A = np.array([[3, 2, 0], [5, 1, 2, ], [2, 4, 4]])\n",
    "A"
   ]
  },
  {
   "cell_type": "code",
   "execution_count": 114,
   "id": "226598a9",
   "metadata": {},
   "outputs": [
    {
     "data": {
      "text/plain": [
       "array([[1., 0., 0.],\n",
       "       [0., 1., 0.],\n",
       "       [0., 0., 1.]])"
      ]
     },
     "execution_count": 114,
     "metadata": {},
     "output_type": "execute_result"
    }
   ],
   "source": [
    "Gauss_Jordan(A)"
   ]
  },
  {
   "cell_type": "code",
   "execution_count": 118,
   "id": "5fb30840",
   "metadata": {},
   "outputs": [
    {
     "data": {
      "text/latex": [
       "$\\displaystyle \\left[\\begin{matrix}1 & 0 & 0\\\\0 & 1 & 0\\\\0 & 0 & 1\\end{matrix}\\right]$"
      ],
      "text/plain": [
       "Matrix([\n",
       "[1, 0, 0],\n",
       "[0, 1, 0],\n",
       "[0, 0, 1]])"
      ]
     },
     "execution_count": 118,
     "metadata": {},
     "output_type": "execute_result"
    }
   ],
   "source": [
    "# Huomaa, että SymPy-kirjastolla on valmis RREF-funktio\n",
    "sp.Matrix(A).rref()[0]"
   ]
  },
  {
   "cell_type": "markdown",
   "id": "9939ab24",
   "metadata": {},
   "source": [
    "<br>"
   ]
  },
  {
   "cell_type": "markdown",
   "id": "ec977128",
   "metadata": {},
   "source": [
    "<br>"
   ]
  },
  {
   "cell_type": "markdown",
   "id": "34d7f64d",
   "metadata": {},
   "source": [
    "<h3 align=\"left\">Tehtävä 9</h3>"
   ]
  },
  {
   "cell_type": "markdown",
   "id": "da06269a",
   "metadata": {},
   "source": [
    "Olkoot *A m x n -matriisi*. \n",
    "- Etsi sellainen *3 x 3 -matriisi* $\\, \\mathbf{E_{ij}} $, jolla vasemmalta kertominen vaihtaa oikeanpuoleisen matriisin rivit 1 ja 3 keskenään."
   ]
  },
  {
   "cell_type": "code",
   "execution_count": 26,
   "id": "820a6b0f",
   "metadata": {},
   "outputs": [
    {
     "name": "stdout",
     "output_type": "stream",
     "text": [
      "[[1 2 3]\n",
      " [4 5 6]\n",
      " [7 8 9]]\n"
     ]
    }
   ],
   "source": [
    "Matriisi = np.array([[1, 2, 3], [4, 5, 6], [7, 8, 9]])\n",
    "print(Matriisi)"
   ]
  },
  {
   "cell_type": "code",
   "execution_count": 27,
   "id": "2a7d2430",
   "metadata": {},
   "outputs": [
    {
     "name": "stdout",
     "output_type": "stream",
     "text": [
      "[[0 0 1]\n",
      " [0 1 0]\n",
      " [1 0 0]]\n"
     ]
    }
   ],
   "source": [
    "E = np.array([[0, 0, 1], [0, 1, 0], [1, 0, 0]])\n",
    "print(E)"
   ]
  },
  {
   "cell_type": "code",
   "execution_count": 28,
   "id": "7ff22303",
   "metadata": {},
   "outputs": [
    {
     "name": "stdout",
     "output_type": "stream",
     "text": [
      "[[7 8 9]\n",
      " [4 5 6]\n",
      " [1 2 3]]\n"
     ]
    }
   ],
   "source": [
    "print(np.matmul(E, Matriisi))"
   ]
  },
  {
   "cell_type": "markdown",
   "id": "7d670e9d",
   "metadata": {},
   "source": [
    "<br>"
   ]
  },
  {
   "cell_type": "markdown",
   "id": "49814db9",
   "metadata": {},
   "source": [
    "<br>"
   ]
  },
  {
   "cell_type": "markdown",
   "id": "2866fb3f",
   "metadata": {},
   "source": [
    "<h3 align=\"left\">Tehtävä 10</h3>"
   ]
  },
  {
   "cell_type": "markdown",
   "id": "b3a0b141",
   "metadata": {},
   "source": [
    "Olkoot *A m x n -matriisi*. \n",
    "- Etsi sellainen *3 x 3 -matriisi* $\\, \\mathbf{E_{ij}} $, jolla vasemmalta kertominen kertoo oikeanpuoleisen matriisin rivin 2 luvulla 6."
   ]
  },
  {
   "cell_type": "code",
   "execution_count": 29,
   "id": "210d298f",
   "metadata": {},
   "outputs": [
    {
     "name": "stdout",
     "output_type": "stream",
     "text": [
      "[[1 2 3]\n",
      " [4 5 6]\n",
      " [7 8 9]]\n"
     ]
    }
   ],
   "source": [
    "Matriisi2 = np.array([[1, 2, 3], [4, 5, 6], [7, 8, 9]])\n",
    "print(Matriisi2)"
   ]
  },
  {
   "cell_type": "code",
   "execution_count": 30,
   "id": "010cce9c",
   "metadata": {},
   "outputs": [],
   "source": [
    "E2 = np.array([[1, 0, 0], [0, 6, 0], [0, 0, 1]])"
   ]
  },
  {
   "cell_type": "code",
   "execution_count": 31,
   "id": "978e38cf",
   "metadata": {},
   "outputs": [
    {
     "name": "stdout",
     "output_type": "stream",
     "text": [
      "[[ 1  2  3]\n",
      " [24 30 36]\n",
      " [ 7  8  9]]\n"
     ]
    }
   ],
   "source": [
    "print(np.matmul(E2, Matriisi2))"
   ]
  },
  {
   "cell_type": "markdown",
   "id": "ce124eb1",
   "metadata": {},
   "source": [
    "<br>"
   ]
  },
  {
   "cell_type": "markdown",
   "id": "898405f5",
   "metadata": {},
   "source": [
    "<br>"
   ]
  },
  {
   "cell_type": "markdown",
   "id": "9ef2f82a",
   "metadata": {},
   "source": [
    "<h3 align=\"left\">Tehtävä 11</h3>"
   ]
  },
  {
   "cell_type": "markdown",
   "id": "124ee1ce",
   "metadata": {},
   "source": [
    "Olkoot *A m x n -matriisi*. \n",
    "- Etsi sellainen *3 x 3 -matriisi* $\\, \\mathbf{E_{ij}} $, jolla vasemmalta kertominen lisää oikeanpuoleisen matriisin rivin 1 kerrrottuna luvulla 2 sen riviin 3."
   ]
  },
  {
   "cell_type": "code",
   "execution_count": 121,
   "id": "940cdcfd",
   "metadata": {},
   "outputs": [
    {
     "name": "stdout",
     "output_type": "stream",
     "text": [
      "[[1 2 3]\n",
      " [4 5 6]\n",
      " [7 8 9]]\n"
     ]
    }
   ],
   "source": [
    "Matriisi3 = np.array([[1, 2, 3], [4, 5, 6], [7, 8, 9]])\n",
    "print(Matriisi3)"
   ]
  },
  {
   "cell_type": "code",
   "execution_count": 122,
   "id": "f9070784",
   "metadata": {},
   "outputs": [
    {
     "name": "stdout",
     "output_type": "stream",
     "text": [
      "[[1 0 0]\n",
      " [0 1 0]\n",
      " [2 0 1]]\n"
     ]
    }
   ],
   "source": [
    "E3 = np.array([[1, 0, 0], [0, 1, 0], [2, 0, 1]])\n",
    "print(E3)"
   ]
  },
  {
   "cell_type": "code",
   "execution_count": 124,
   "id": "65de44d3",
   "metadata": {},
   "outputs": [
    {
     "name": "stdout",
     "output_type": "stream",
     "text": [
      "[[ 1  2  3]\n",
      " [ 4  5  6]\n",
      " [ 9 12 15]]\n"
     ]
    }
   ],
   "source": [
    "print(E3 @ Matriisi3)"
   ]
  },
  {
   "cell_type": "markdown",
   "id": "14e42699",
   "metadata": {},
   "source": [
    "- Muuta matriisin E3 viimeistä riviä (2, 0, 1) ja huomaat, kuinka tämä logiikka toimii."
   ]
  },
  {
   "cell_type": "markdown",
   "id": "7681ea4a",
   "metadata": {},
   "source": [
    "- Jos vaikkapa haluttaisiin, että kun matriisi E kertoo matriisia A, niin tulomatriisi olisi matriisi muuten sama kuin matriiis A, mutta sen 3. riviin olisi lisätty sen 1. rivi kerrottuna luvulla 2 ja 2. rivi sellaisenaan, niin matriiisin E3 viimeistä riviä pitäisi muuttaa (2, 0, 1) $ \\mathbf{\\rightarrow} $ (2, 1, 1)"
   ]
  },
  {
   "cell_type": "markdown",
   "id": "76082dc1",
   "metadata": {},
   "source": [
    "- Jos haluttaisiin, että matriisin A 3. rivi \"tuplaantuu\", niin matriisin E3 viimeistä riviä täytyisi muuttaa (2, 0, 1) $ \\mathbf{\\rightarrow} $ (0, 0, 2)."
   ]
  },
  {
   "cell_type": "markdown",
   "id": "b2e539b2",
   "metadata": {},
   "source": [
    "<br>"
   ]
  },
  {
   "cell_type": "markdown",
   "id": "45eea1c0",
   "metadata": {},
   "source": [
    "<br>"
   ]
  },
  {
   "cell_type": "markdown",
   "id": "bc5f7d67",
   "metadata": {},
   "source": [
    "<h3 align=\"left\">Tehtävä 12</h3>"
   ]
  },
  {
   "cell_type": "markdown",
   "id": "752d13ff",
   "metadata": {},
   "source": [
    "Tutustutaan tässä tehtävässä ei-lineaariseen käyrän sovitusalgoritmiin.\n",
    "- Tällainen funktio löytyy scipy-paketista nimellä **optimize.curve_fit**"
   ]
  },
  {
   "cell_type": "markdown",
   "id": "f1b5d395",
   "metadata": {},
   "source": [
    "Määrittele Pythonin avulla funktio \n",
    "$$ f: \\mathbb{R} \\rightarrow \\mathbb{R} = ae^{bx} \\,\\, ,missä \\,\\, a, b \\in \\mathbb{R} $$"
   ]
  },
  {
   "cell_type": "markdown",
   "id": "662fcd25",
   "metadata": {},
   "source": [
    "ja tee toinen funktio, joka sovittaa tämän muotoa f olevan funktion parhaiten annettuun dataan."
   ]
  },
  {
   "cell_type": "code",
   "execution_count": 35,
   "id": "46441225",
   "metadata": {},
   "outputs": [],
   "source": [
    "def func(x, a, b):\n",
    "    return a*np.exp(b*x)"
   ]
  },
  {
   "cell_type": "code",
   "execution_count": 36,
   "id": "574be152",
   "metadata": {},
   "outputs": [],
   "source": [
    "def f_reg(f, x, y):\n",
    "    # Huomaa, että täällä kutsutaan funktiota func, joka tehtiin yllä.\n",
    "    return scipy.optimize.curve_fit(func, x, y)"
   ]
  },
  {
   "cell_type": "code",
   "execution_count": 37,
   "id": "9463bc5a",
   "metadata": {},
   "outputs": [],
   "source": [
    "x = np.linspace(0, 4, 50)"
   ]
  },
  {
   "cell_type": "code",
   "execution_count": 38,
   "id": "0a08cfa3",
   "metadata": {},
   "outputs": [],
   "source": [
    "y = func(x, 2.5, 1.5)"
   ]
  },
  {
   "cell_type": "code",
   "execution_count": 39,
   "id": "1713ecad",
   "metadata": {},
   "outputs": [],
   "source": [
    "# Huomaa, että funktion f_reg parametrina on funktio func.\n",
    "alpha, beta = f_reg(func, x, y)"
   ]
  },
  {
   "cell_type": "code",
   "execution_count": 40,
   "id": "5b249f6d",
   "metadata": {},
   "outputs": [
    {
     "data": {
      "text/plain": [
       "(2,)"
      ]
     },
     "execution_count": 40,
     "metadata": {},
     "output_type": "execute_result"
    }
   ],
   "source": [
    "alpha.shape"
   ]
  },
  {
   "cell_type": "code",
   "execution_count": 41,
   "id": "6aab94a8",
   "metadata": {},
   "outputs": [
    {
     "data": {
      "text/plain": [
       "(2, 2)"
      ]
     },
     "execution_count": 41,
     "metadata": {},
     "output_type": "execute_result"
    }
   ],
   "source": [
    "beta.shape"
   ]
  },
  {
   "cell_type": "code",
   "execution_count": 42,
   "id": "daa96924",
   "metadata": {},
   "outputs": [
    {
     "data": {
      "text/plain": [
       "(50,)"
      ]
     },
     "execution_count": 42,
     "metadata": {},
     "output_type": "execute_result"
    }
   ],
   "source": [
    "x.shape"
   ]
  },
  {
   "cell_type": "code",
   "execution_count": 43,
   "id": "882cd0cf",
   "metadata": {},
   "outputs": [
    {
     "data": {
      "image/png": "[encoded data removed]",
      "text/plain": [
       "<Figure size 432x288 with 1 Axes>"
      ]
     },
     "metadata": {
      "needs_background": "light"
     },
     "output_type": "display_data"
    }
   ],
   "source": [
    "plt.plot(x, func(x, alpha[0], alpha[1]));"
   ]
  }
 ],
 "metadata": {
  "kernelspec": {
   "display_name": "Python 3 (ipykernel)",
   "language": "python",
   "name": "python3"
  },
  "language_info": {
   "codemirror_mode": {
    "name": "ipython",
    "version": 3
   },
   "file_extension": ".py",
   "mimetype": "text/x-python",
   "name": "python",
   "nbconvert_exporter": "python",
   "pygments_lexer": "ipython3",
   "version": "3.9.12"
  }
 },
 "nbformat": 4,
 "nbformat_minor": 5
}
