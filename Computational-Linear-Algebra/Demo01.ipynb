{
 "cells": [
  {
   "cell_type": "markdown",
   "id": "bc57c663",
   "metadata": {},
   "source": [
    "<h1 align=\"center\">Computational Linear Algebra, Demo 1</h1>"
   ]
  },
  {
   "cell_type": "markdown",
   "id": "2b549044",
   "metadata": {},
   "source": [
    "<br>"
   ]
  },
  {
   "cell_type": "code",
   "execution_count": 1,
   "id": "7070c65e",
   "metadata": {},
   "outputs": [],
   "source": [
    "import numpy as np\n",
    "import sympy as sp\n",
    "import math\n",
    "import matplotlib.pyplot as plt"
   ]
  },
  {
   "cell_type": "markdown",
   "id": "5ba655af",
   "metadata": {},
   "source": [
    "<h3 align=\"left\">Tehtävä 1</h3>"
   ]
  },
  {
   "cell_type": "markdown",
   "id": "8810ecdd",
   "metadata": {},
   "source": [
    "Luo valmiilla NumPy-funktiolla taulukko, jossa on 4 riviä, 6 saraketta ja jonka jokainen alkio on vakio pii.\n"
   ]
  },
  {
   "cell_type": "code",
   "execution_count": 2,
   "id": "4b7ab626",
   "metadata": {},
   "outputs": [
    {
     "name": "stdout",
     "output_type": "stream",
     "text": [
      "[[3.14159265 3.14159265 3.14159265 3.14159265 3.14159265 3.14159265]\n",
      " [3.14159265 3.14159265 3.14159265 3.14159265 3.14159265 3.14159265]\n",
      " [3.14159265 3.14159265 3.14159265 3.14159265 3.14159265 3.14159265]\n",
      " [3.14159265 3.14159265 3.14159265 3.14159265 3.14159265 3.14159265]]\n"
     ]
    }
   ],
   "source": [
    "print(np.full((4, 6), np.pi))"
   ]
  },
  {
   "cell_type": "markdown",
   "id": "60d52374",
   "metadata": {},
   "source": [
    "<br>"
   ]
  },
  {
   "cell_type": "markdown",
   "id": "05f42a37",
   "metadata": {},
   "source": [
    "<br>"
   ]
  },
  {
   "cell_type": "markdown",
   "id": "298ec150",
   "metadata": {},
   "source": [
    "<h3 align=\"left\">Tehtävä 2</h3>"
   ]
  },
  {
   "cell_type": "markdown",
   "id": "360ef083",
   "metadata": {},
   "source": [
    "Etsi valmis funktio, jolla voi luoda taulukon, missä on kokonaislukuja annetulta väliltä annetulla välistyksellä (joka toinen, kolmas jne). "
   ]
  },
  {
   "cell_type": "code",
   "execution_count": 3,
   "id": "2da8d459",
   "metadata": {},
   "outputs": [
    {
     "name": "stdout",
     "output_type": "stream",
     "text": [
      "[   1    2    3 ... 1030 1031 1032]\n"
     ]
    }
   ],
   "source": [
    "print(np.arange(1, 1033, 1))"
   ]
  },
  {
   "cell_type": "code",
   "execution_count": 4,
   "id": "61324df5",
   "metadata": {},
   "outputs": [
    {
     "name": "stdout",
     "output_type": "stream",
     "text": [
      "[  2   5   8  11  14  17  20  23  26  29  32  35  38  41  44  47  50  53\n",
      "  56  59  62  65  68  71  74  77  80  83  86  89  92  95  98 101 104]\n"
     ]
    }
   ],
   "source": [
    "print(np.arange(2, 105, 3))\n"
   ]
  },
  {
   "cell_type": "markdown",
   "id": "7d35ff48",
   "metadata": {},
   "source": [
    "- np.arange() -funktio ottaa siis kolme parametria: start, stop (not inclusive) ja step (esim. joka toinen, joka kolmas jne...)"
   ]
  },
  {
   "cell_type": "markdown",
   "id": "7e1f32fd",
   "metadata": {},
   "source": [
    "<br>"
   ]
  },
  {
   "cell_type": "markdown",
   "id": "e634eb8b",
   "metadata": {},
   "source": [
    "<br>"
   ]
  },
  {
   "cell_type": "markdown",
   "id": "f3507465",
   "metadata": {},
   "source": [
    "<h3 align=\"left\">Tehtävä 3</h3>"
   ]
  },
  {
   "cell_type": "markdown",
   "id": "843edabf",
   "metadata": {},
   "source": [
    "Luo alakolmiomatriisi, jossa on ykkösiä päädiagonaalilla ja matriisin muut luvut ovat nollia."
   ]
  },
  {
   "cell_type": "markdown",
   "id": "d8d34793",
   "metadata": {},
   "source": [
    "- Alakolmiomatriisi on matriisi, jonka päädiagonaalin yläpuolella on pelkkiä nollia.\n",
    "- Yläkolmiomatriisi on vastaavasti matriisi, jonka päädiagonaalin alapuolella on pelkkiä nollia."
   ]
  },
  {
   "cell_type": "code",
   "execution_count": 5,
   "id": "2576f41b",
   "metadata": {},
   "outputs": [
    {
     "name": "stdout",
     "output_type": "stream",
     "text": [
      "[[1 0 0 0]\n",
      " [1 1 0 0]\n",
      " [1 1 1 0]]\n"
     ]
    }
   ],
   "source": [
    "print(np.tri(3, 4, dtype=int))"
   ]
  },
  {
   "cell_type": "code",
   "execution_count": 6,
   "id": "77fe1565",
   "metadata": {},
   "outputs": [
    {
     "name": "stdout",
     "output_type": "stream",
     "text": [
      "[[1 1 1]\n",
      " [0 1 1]\n",
      " [0 0 1]]\n"
     ]
    }
   ],
   "source": [
    "print(np.triu([1, 1, 1]))"
   ]
  },
  {
   "cell_type": "markdown",
   "id": "317d0c99",
   "metadata": {},
   "source": [
    "<br>"
   ]
  },
  {
   "cell_type": "markdown",
   "id": "90df8e71",
   "metadata": {},
   "source": [
    "<br>"
   ]
  },
  {
   "cell_type": "markdown",
   "id": "bf26511d",
   "metadata": {},
   "source": [
    "<h3 align=\"left\">Tehtävä 4</h3>"
   ]
  },
  {
   "cell_type": "markdown",
   "id": "64b8c1bd",
   "metadata": {},
   "source": [
    "Luo taulukko, jossa 3 riviä ja 3 saraketta"
   ]
  },
  {
   "cell_type": "code",
   "execution_count": 9,
   "id": "7e362379",
   "metadata": {},
   "outputs": [
    {
     "name": "stdout",
     "output_type": "stream",
     "text": [
      "[[1 1 1]\n",
      " [2 2 2]\n",
      " [3 3 3]]\n"
     ]
    }
   ],
   "source": [
    "A = np.array([[1, 1, 1], [2, 2, 2], [3, 3, 3]])\n",
    "print(A)"
   ]
  },
  {
   "cell_type": "markdown",
   "id": "bf173fd0",
   "metadata": {},
   "source": [
    "<br>"
   ]
  },
  {
   "cell_type": "markdown",
   "id": "b54a38e9",
   "metadata": {},
   "source": [
    "Luo rivivektori, jossa on 3 alkiota."
   ]
  },
  {
   "cell_type": "code",
   "execution_count": 10,
   "id": "58aa19ea",
   "metadata": {},
   "outputs": [
    {
     "name": "stdout",
     "output_type": "stream",
     "text": [
      "[1 1 1]\n"
     ]
    }
   ],
   "source": [
    "u = np.array([1, 1, 1])\n",
    "print(u)"
   ]
  },
  {
   "cell_type": "markdown",
   "id": "d56c6eba",
   "metadata": {},
   "source": [
    "<br>"
   ]
  },
  {
   "cell_type": "markdown",
   "id": "3d13973e",
   "metadata": {},
   "source": [
    "Laske taulukon A transpoosi."
   ]
  },
  {
   "cell_type": "code",
   "execution_count": 11,
   "id": "11cc5b09",
   "metadata": {},
   "outputs": [
    {
     "name": "stdout",
     "output_type": "stream",
     "text": [
      "[[1 2 3]\n",
      " [1 2 3]\n",
      " [1 2 3]]\n"
     ]
    }
   ],
   "source": [
    "x = A.T\n",
    "print(x)"
   ]
  },
  {
   "cell_type": "markdown",
   "id": "0c667580",
   "metadata": {},
   "source": [
    "<br>"
   ]
  },
  {
   "cell_type": "markdown",
   "id": "9942d90a",
   "metadata": {},
   "source": [
    "Laske $ 3A + A^T $"
   ]
  },
  {
   "cell_type": "code",
   "execution_count": 12,
   "id": "be9653e9",
   "metadata": {},
   "outputs": [
    {
     "name": "stdout",
     "output_type": "stream",
     "text": [
      "[[ 4  5  6]\n",
      " [ 7  8  9]\n",
      " [10 11 12]]\n"
     ]
    }
   ],
   "source": [
    "y = 3 * A + A.T\n",
    "print(y)"
   ]
  },
  {
   "cell_type": "markdown",
   "id": "d4da4c3f",
   "metadata": {},
   "source": [
    "<br>"
   ]
  },
  {
   "cell_type": "markdown",
   "id": "5ac30ffc",
   "metadata": {},
   "source": [
    "Laske matriisitulo Au"
   ]
  },
  {
   "cell_type": "code",
   "execution_count": 13,
   "id": "fe2b6e76",
   "metadata": {},
   "outputs": [
    {
     "name": "stdout",
     "output_type": "stream",
     "text": [
      "[3 6 9]\n"
     ]
    }
   ],
   "source": [
    "Au = np.matmul(A, u)\n",
    "print(Au)"
   ]
  },
  {
   "cell_type": "code",
   "execution_count": 14,
   "id": "07ba4738",
   "metadata": {},
   "outputs": [
    {
     "name": "stdout",
     "output_type": "stream",
     "text": [
      "[3 6 9]\n"
     ]
    }
   ],
   "source": [
    "print(np.dot(A, u))"
   ]
  },
  {
   "cell_type": "code",
   "execution_count": 16,
   "id": "08fc32cd",
   "metadata": {},
   "outputs": [
    {
     "name": "stdout",
     "output_type": "stream",
     "text": [
      "[3 6 9]\n"
     ]
    }
   ],
   "source": [
    "print(A @ u)"
   ]
  },
  {
   "cell_type": "markdown",
   "id": "1837c060",
   "metadata": {},
   "source": [
    "- Huomaa, että matriisitulon laskemiseksi voi käyttää joko np.matmul() tai np.dot() -funktioita tai **@**-merkkiä. "
   ]
  },
  {
   "cell_type": "markdown",
   "id": "0ae039cf",
   "metadata": {},
   "source": [
    "<br>"
   ]
  },
  {
   "cell_type": "markdown",
   "id": "949bf91e",
   "metadata": {},
   "source": [
    "Laske vektorin u pistetulo itsensä kanssa."
   ]
  },
  {
   "cell_type": "code",
   "execution_count": 13,
   "id": "3ec16e3f",
   "metadata": {},
   "outputs": [
    {
     "name": "stdout",
     "output_type": "stream",
     "text": [
      "3\n"
     ]
    }
   ],
   "source": [
    "print(np.dot(u, u))"
   ]
  },
  {
   "cell_type": "markdown",
   "id": "c9739e7e",
   "metadata": {},
   "source": [
    "<br>"
   ]
  },
  {
   "cell_type": "markdown",
   "id": "f3684a28",
   "metadata": {},
   "source": [
    "Poimi tähän (rivivektoriksi) taulukon A 3. sarake."
   ]
  },
  {
   "cell_type": "code",
   "execution_count": 14,
   "id": "686f54f2",
   "metadata": {},
   "outputs": [
    {
     "name": "stdout",
     "output_type": "stream",
     "text": [
      "[[1 1 1]\n",
      " [2 2 2]\n",
      " [3 3 3]]\n"
     ]
    }
   ],
   "source": [
    "print(A)"
   ]
  },
  {
   "cell_type": "code",
   "execution_count": 15,
   "id": "6c3e23f7",
   "metadata": {},
   "outputs": [
    {
     "data": {
      "text/plain": [
       "array([1, 2, 3])"
      ]
     },
     "execution_count": 15,
     "metadata": {},
     "output_type": "execute_result"
    }
   ],
   "source": [
    "A[:, 2]"
   ]
  },
  {
   "cell_type": "markdown",
   "id": "bcd4bd25",
   "metadata": {},
   "source": [
    "- Idenksointi toimii seuraavasti: ennen kaksoispistettä määritetään, mitkä rivit haetaan. \n",
    "- Jos rivejä ei määritä, niin otetaan kaikki rivit. \n",
    "- Kaksoispisteen jälkeen määritetäään, mitkä sarakkeet otetaan.\n",
    "- Eli yllä oleva komento sanoo selkokielellä \"ota kaikki rivit ja kolmas sarake\"."
   ]
  },
  {
   "cell_type": "markdown",
   "id": "7a32f75c",
   "metadata": {},
   "source": [
    "<br>"
   ]
  },
  {
   "cell_type": "markdown",
   "id": "de24d420",
   "metadata": {},
   "source": [
    "Poimi tähän (rivivektoriksi) taulukon A 2. rivi."
   ]
  },
  {
   "cell_type": "code",
   "execution_count": 16,
   "id": "f4c37aa1",
   "metadata": {},
   "outputs": [
    {
     "data": {
      "text/plain": [
       "array([2, 2, 2])"
      ]
     },
     "execution_count": 16,
     "metadata": {},
     "output_type": "execute_result"
    }
   ],
   "source": [
    "A[1]"
   ]
  },
  {
   "cell_type": "markdown",
   "id": "94ad653e",
   "metadata": {},
   "source": [
    "<br>"
   ]
  },
  {
   "cell_type": "markdown",
   "id": "a042dd84",
   "metadata": {},
   "source": [
    "<br>"
   ]
  },
  {
   "cell_type": "markdown",
   "id": "5e647de2",
   "metadata": {},
   "source": [
    "<h3 align=\"left\">Tehtävä 5</h3>"
   ]
  },
  {
   "cell_type": "markdown",
   "id": "adbd671c",
   "metadata": {},
   "source": [
    "Luo 3x3 -taulukko, jossa on satunnaiset alkiot väliltä [0,1) tasajakauman mukaisesti."
   ]
  },
  {
   "cell_type": "code",
   "execution_count": 17,
   "id": "cbc0d185",
   "metadata": {},
   "outputs": [
    {
     "name": "stdout",
     "output_type": "stream",
     "text": [
      "[[0.96752541 0.6588032  0.23227371]\n",
      " [0.56604941 0.42467127 0.22823213]\n",
      " [0.20291026 0.73908308 0.34646672]]\n"
     ]
    }
   ],
   "source": [
    "table1 = np.random.uniform(low=0.0, high=1.0, size=(3, 3))\n",
    "print(table1)"
   ]
  },
  {
   "cell_type": "markdown",
   "id": "07035b1b",
   "metadata": {},
   "source": [
    "https://numpy.org/doc/stable/reference/random/generated/numpy.random.uniform.html"
   ]
  },
  {
   "cell_type": "markdown",
   "id": "8fae57a7",
   "metadata": {},
   "source": [
    "<br>"
   ]
  },
  {
   "cell_type": "markdown",
   "id": "873b7ec2",
   "metadata": {},
   "source": [
    "Luo 3x3-taulukko, jossa on satunnaiset kokonaislukualkiot (tasajakauman mukaisesti) väliltä [4,11)."
   ]
  },
  {
   "cell_type": "code",
   "execution_count": 18,
   "id": "b24c13ab",
   "metadata": {},
   "outputs": [
    {
     "name": "stdout",
     "output_type": "stream",
     "text": [
      "[[6 9 7]\n",
      " [6 5 6]\n",
      " [6 7 9]]\n"
     ]
    }
   ],
   "source": [
    "table2 = np.random.randint(low=4, high=11, size=(3, 3))\n",
    "print(table2)"
   ]
  },
  {
   "cell_type": "markdown",
   "id": "30f1b99f",
   "metadata": {},
   "source": [
    "https://numpy.org/doc/stable/reference/random/generated/numpy.random.randint.html"
   ]
  },
  {
   "cell_type": "markdown",
   "id": "8bb43d1b",
   "metadata": {},
   "source": [
    "<br>"
   ]
  },
  {
   "cell_type": "markdown",
   "id": "f59a46ab",
   "metadata": {},
   "source": [
    "Luo 3x6 taulukko, joka saadaan lisäämällä (tehtävän 4) y:n sarakkeet x:n perään samassa järjestyksessä."
   ]
  },
  {
   "cell_type": "code",
   "execution_count": 19,
   "id": "d473ba82",
   "metadata": {},
   "outputs": [
    {
     "name": "stdout",
     "output_type": "stream",
     "text": [
      "[[ 1  2  3  4  5  6]\n",
      " [ 1  2  3  7  8  9]\n",
      " [ 1  2  3 10 11 12]]\n"
     ]
    }
   ],
   "source": [
    "x_concatenate_y = np.concatenate((x, y), axis=1)\n",
    "print(x_concatenate_y)"
   ]
  },
  {
   "cell_type": "markdown",
   "id": "97ac9dc4",
   "metadata": {},
   "source": [
    "https://numpy.org/doc/stable/reference/generated/numpy.concatenate.html"
   ]
  },
  {
   "cell_type": "markdown",
   "id": "9f7de282",
   "metadata": {},
   "source": [
    "<br>"
   ]
  },
  {
   "cell_type": "markdown",
   "id": "6e04df99",
   "metadata": {},
   "source": [
    "<br>"
   ]
  },
  {
   "cell_type": "markdown",
   "id": "00e8b1f1",
   "metadata": {},
   "source": [
    "<h3 align=\"left\">Tehtävä 6</h3>"
   ]
  },
  {
   "cell_type": "markdown",
   "id": "2b258ddc",
   "metadata": {},
   "source": [
    "Lineaarialgebran peruskurssilta muistetaan, että samankokoisille neliömatriiseille A ja B pätee ns. tulosääntö"
   ]
  },
  {
   "cell_type": "markdown",
   "id": "a27502c6",
   "metadata": {},
   "source": [
    "$$ (det A)(det B) = det(AB) $$"
   ]
  },
  {
   "cell_type": "markdown",
   "id": "8e2f8cca",
   "metadata": {},
   "source": [
    "- NumPystä determinantti löytyy NumPyn **linalg-laajennuksesta**."
   ]
  },
  {
   "cell_type": "markdown",
   "id": "9cbbac15",
   "metadata": {},
   "source": [
    "Luo kaksi 3x3 -taulukkoa, jossa on satunnaiset alkiot väliltä [0,1) tasajakauman mukaisesti ja laske niiden determinanttien tulo."
   ]
  },
  {
   "cell_type": "code",
   "execution_count": 20,
   "id": "430a075e",
   "metadata": {},
   "outputs": [],
   "source": [
    "m1 = np.random.uniform(low=0.0, high=1.0, size=(3, 3))\n",
    "m2 = np.random.uniform(low=0.0, high=1.0, size=(3, 3))"
   ]
  },
  {
   "cell_type": "code",
   "execution_count": 21,
   "id": "8fa85278",
   "metadata": {},
   "outputs": [],
   "source": [
    "det_m1 = np.linalg.det(m1)\n",
    "det_m2 = np.linalg.det(m2)"
   ]
  },
  {
   "cell_type": "code",
   "execution_count": 22,
   "id": "f4011896",
   "metadata": {},
   "outputs": [
    {
     "data": {
      "text/plain": [
       "0.011382984849472024"
      ]
     },
     "execution_count": 22,
     "metadata": {},
     "output_type": "execute_result"
    }
   ],
   "source": [
    "z = det_m1 * det_m2\n",
    "z"
   ]
  },
  {
   "cell_type": "markdown",
   "id": "b56bc964",
   "metadata": {},
   "source": [
    "<br>"
   ]
  },
  {
   "cell_type": "markdown",
   "id": "66f9d43b",
   "metadata": {},
   "source": [
    "Laske tulomatriisin m1m2 determinantti."
   ]
  },
  {
   "cell_type": "code",
   "execution_count": 23,
   "id": "94c2c3a9",
   "metadata": {},
   "outputs": [],
   "source": [
    "tulomatriisi = np.dot(m1, m2)"
   ]
  },
  {
   "cell_type": "code",
   "execution_count": 24,
   "id": "f72e4035",
   "metadata": {},
   "outputs": [
    {
     "data": {
      "text/plain": [
       "0.01138298484947203"
      ]
     },
     "execution_count": 24,
     "metadata": {},
     "output_type": "execute_result"
    }
   ],
   "source": [
    "w = np.linalg.det(tulomatriisi)\n",
    "w"
   ]
  },
  {
   "cell_type": "markdown",
   "id": "9f5a0ef4",
   "metadata": {},
   "source": [
    "- On sama kuin yllä oleva determinantti, kuten alussa määritellyn kaavan mukaan kuuluukin."
   ]
  },
  {
   "cell_type": "markdown",
   "id": "74147efb",
   "metadata": {},
   "source": [
    "<br>"
   ]
  },
  {
   "cell_type": "markdown",
   "id": "5991d432",
   "metadata": {},
   "source": [
    "Testaa ensin yhtäsuuruuden avulla, ovatko z ja w yhtäsuuret. Tämän jälkeen koita samaa math-paketin isclose() -funktion avulla."
   ]
  },
  {
   "cell_type": "code",
   "execution_count": 25,
   "id": "7ad60afe",
   "metadata": {},
   "outputs": [
    {
     "data": {
      "text/plain": [
       "False"
      ]
     },
     "execution_count": 25,
     "metadata": {},
     "output_type": "execute_result"
    }
   ],
   "source": [
    "z == w"
   ]
  },
  {
   "cell_type": "code",
   "execution_count": 26,
   "id": "5c128a23",
   "metadata": {},
   "outputs": [
    {
     "data": {
      "text/plain": [
       "True"
      ]
     },
     "execution_count": 26,
     "metadata": {},
     "output_type": "execute_result"
    }
   ],
   "source": [
    "math.isclose(z, w)"
   ]
  },
  {
   "cell_type": "markdown",
   "id": "048c471c",
   "metadata": {},
   "source": [
    "- Tässä nähdään ongelma float-tyyppien vertailussa. \n",
    "- Kun tarkistat ylhäältä, niin huomaat, että z ja w ovat 16. desimaaliin asti samat. Tämän takia Python antaa yhtäsuuruutta testattaessa False.\n",
    "- Liukulukujen (float) yhtäsuuruutta testattaessa kannattaa tästä syystä käyttää math-paketin isclose() -funktiota tai vaihtoehtoisesti pyöristää liukuluvut pienemmiksi."
   ]
  },
  {
   "cell_type": "code",
   "execution_count": 27,
   "id": "19599476",
   "metadata": {},
   "outputs": [
    {
     "data": {
      "text/plain": [
       "True"
      ]
     },
     "execution_count": 27,
     "metadata": {},
     "output_type": "execute_result"
    }
   ],
   "source": [
    "np.round(z, 5) == np.round(w, 5)"
   ]
  },
  {
   "cell_type": "markdown",
   "id": "1a35477e",
   "metadata": {},
   "source": [
    "<br>"
   ]
  },
  {
   "cell_type": "markdown",
   "id": "3433c8ee",
   "metadata": {},
   "source": [
    "<br>"
   ]
  },
  {
   "cell_type": "markdown",
   "id": "0eb97d86",
   "metadata": {},
   "source": [
    "<h3 align=\"left\">Tehtävä 7</h3>"
   ]
  },
  {
   "cell_type": "markdown",
   "id": "342cbe38",
   "metadata": {},
   "source": [
    "Piirrä kaikki seuraavat yhteen kuvaan käyttäen matplotlib-kirjaston pyplot-laajennusta."
   ]
  },
  {
   "cell_type": "markdown",
   "id": "e28625ce",
   "metadata": {},
   "source": [
    "- Piirrä funktion $f(x) = cos(x)$ kuvaaja välillä $[-\\pi,\\pi]$.\n",
    "- Piirrä samaan kuvaan vihreät rastit funktion f kuvaajalle, jotka kuvaavat funktion f arvoja pisteissä $ \\large\\frac{-\\pi}{3}$, 0 ja $ \\large\\frac{\\pi}{3}$.\n",
    "- Nimeä x-akseli nimellä \"Muuttujan arvo\".\n",
    "- Nimeä y akseli nimellä \"Funktion arvo\".\n",
    "- Aseta kuvalle otsikko \"Funktion $ f(x)=cos(x)$ kuvaaja\"."
   ]
  },
  {
   "cell_type": "code",
   "execution_count": 7,
   "id": "13d4720d",
   "metadata": {},
   "outputs": [
    {
     "data": {
      "image/png": "[encoded data removed]",
      "text/plain": [
       "<Figure size 600x400 with 1 Axes>"
      ]
     },
     "metadata": {
      "needs_background": "light"
     },
     "output_type": "display_data"
    }
   ],
   "source": [
    "plt.figure(dpi=100)\n",
    "x = np.linspace(-np.pi, np.pi, 100)\n",
    "y = np.cos(x)\n",
    "plt.plot(x, y)\n",
    "\n",
    "rastit = [-np.pi, 0, np.pi]\n",
    "plt.plot(rastit, np.cos(rastit), \"go\")\n",
    "\n",
    "plt.title(\"Funktion f(x) = cos(x) kuvaaja\", size=15)\n",
    "plt.xlabel(\"Muuttujan arvo\", labelpad=15, size=13)\n",
    "plt.ylabel(\"Funktion arvo\", labelpad=15, size=13);"
   ]
  },
  {
   "cell_type": "markdown",
   "id": "dd795972",
   "metadata": {},
   "source": [
    "- Jälkimmäisen plotin 3. argumentin \"go\" tarkoitus on kertoa, kuinka pisteet väritetään ja visualisoidaan.\n",
    "- **\"g\"** vastaa väriä green ja **\"o\"** vastaa palluratyyliä.\n",
    "- Huomaa, että ilman tätä kolmatta argumenttia matplotlib piirtää lineplotin normaalisti annetuilla pisteillä $ [-\\pi, 0, \\pi] $."
   ]
  },
  {
   "cell_type": "code",
   "execution_count": 29,
   "id": "7e35ff25",
   "metadata": {},
   "outputs": [
    {
     "data": {
      "image/png": "[encoded data removed]",
      "text/plain": [
       "<Figure size 432x288 with 1 Axes>"
      ]
     },
     "metadata": {
      "needs_background": "light"
     },
     "output_type": "display_data"
    }
   ],
   "source": [
    "x = np.linspace(-np.pi, np.pi, 100)\n",
    "y = np.cos(x)\n",
    "plt.plot(x, y)\n",
    "\n",
    "# Otetaan yllä olevan plotin kolmas argumentti \"go\" pois.\n",
    "rastit = [-np.pi, 0, np.pi]\n",
    "plt.plot(rastit, np.cos(rastit));"
   ]
  },
  {
   "cell_type": "markdown",
   "id": "718b6dd2",
   "metadata": {},
   "source": [
    "<br>"
   ]
  },
  {
   "cell_type": "markdown",
   "id": "4575f99a",
   "metadata": {},
   "source": [
    "<br>"
   ]
  },
  {
   "cell_type": "markdown",
   "id": "d0491c7c",
   "metadata": {},
   "source": [
    "<h3 align=\"left\">Tehtävä 8</h3>"
   ]
  },
  {
   "cell_type": "markdown",
   "id": "862a22cc",
   "metadata": {},
   "source": [
    "- Pythonin symbolisen laskennan laajennoksesta Symbolic Python (sympy) löytyy komento Matrix(taulukko), jolla voi muuntaa NumPy:n matriisin (edellä taulukko) sympyn ymmärtämäksi matriisiksi. SymPyn matriiseilla on metodi Matriisi.rref(), joka redusoi annetun Matriisin rivioperaatioilla redusoituun porrasmuotoon."
   ]
  },
  {
   "cell_type": "markdown",
   "id": "2be6ffc8",
   "metadata": {},
   "source": [
    "Tee funktio, joka ottaa parametriksi Numpy:n matriisin ja palautaa annetun matriisin riviredusoidun muodon (SymPy-matriisina)."
   ]
  },
  {
   "cell_type": "code",
   "execution_count": 30,
   "id": "bc2aa7c7",
   "metadata": {},
   "outputs": [],
   "source": [
    "def rref(array):\n",
    "    M = sp.Matrix(array)\n",
    "    return M.rref()[0]\n",
    "\n",
    "# rref() -metodi palauttaa tuplen --> (matrix, pivots).\n",
    "# Koska pyydetään nimenomaan pelkästään matriisia, \n",
    "# niin tuplesta täytyy indeksoida matriisi ulos."
   ]
  },
  {
   "cell_type": "code",
   "execution_count": 31,
   "id": "f4577a94",
   "metadata": {},
   "outputs": [
    {
     "name": "stdout",
     "output_type": "stream",
     "text": [
      "[[1 1 1]\n",
      " [2 2 2]\n",
      " [3 3 3]]\n"
     ]
    }
   ],
   "source": [
    "print(A)"
   ]
  },
  {
   "cell_type": "code",
   "execution_count": 32,
   "id": "4041cec2",
   "metadata": {},
   "outputs": [
    {
     "data": {
      "text/plain": [
       "numpy.ndarray"
      ]
     },
     "execution_count": 32,
     "metadata": {},
     "output_type": "execute_result"
    }
   ],
   "source": [
    "type(A)"
   ]
  },
  {
   "cell_type": "code",
   "execution_count": 33,
   "id": "8f43f5a1",
   "metadata": {},
   "outputs": [
    {
     "data": {
      "text/latex": [
       "$\\displaystyle \\left[\\begin{matrix}1 & 1 & 1\\\\0 & 0 & 0\\\\0 & 0 & 0\\end{matrix}\\right]$"
      ],
      "text/plain": [
       "Matrix([\n",
       "[1, 1, 1],\n",
       "[0, 0, 0],\n",
       "[0, 0, 0]])"
      ]
     },
     "execution_count": 33,
     "metadata": {},
     "output_type": "execute_result"
    }
   ],
   "source": [
    "C = rref(A)\n",
    "C"
   ]
  },
  {
   "cell_type": "code",
   "execution_count": 34,
   "id": "38d89485",
   "metadata": {},
   "outputs": [
    {
     "data": {
      "text/plain": [
       "sympy.matrices.dense.MutableDenseMatrix"
      ]
     },
     "execution_count": 34,
     "metadata": {},
     "output_type": "execute_result"
    }
   ],
   "source": [
    "type(C)"
   ]
  },
  {
   "cell_type": "markdown",
   "id": "eff943ef",
   "metadata": {},
   "source": [
    "<br>"
   ]
  },
  {
   "cell_type": "markdown",
   "id": "e204ed98",
   "metadata": {},
   "source": [
    "<br>"
   ]
  },
  {
   "cell_type": "markdown",
   "id": "f03912e3",
   "metadata": {},
   "source": [
    "<h3 align=\"left\">Tehtävä 9</h3>"
   ]
  },
  {
   "cell_type": "markdown",
   "id": "76705caf",
   "metadata": {},
   "source": [
    "Ratkaise lineaarinen yhtälöryhmä edellisessä tehtävässä tehdyn funktion **rref** avulla"
   ]
  },
  {
   "cell_type": "markdown",
   "id": "2cdfc0f8",
   "metadata": {},
   "source": [
    "$$  \\left\\{\n",
    "\\begin{array}{}\n",
    "\\begin{align}\n",
    "        2x_1 + x_2 - x_3 = 2 \\\\\n",
    "         x_1 - x_2 + 3x_3 = 0 \\\\\n",
    "         x_2 - x_3 = 1\\\\\n",
    "\\end{align}\n",
    "\\end{array}\n",
    "\\right. $$"
   ]
  },
  {
   "cell_type": "markdown",
   "id": "3c58dd0f",
   "metadata": {},
   "source": [
    "Lineaarinen yhtälöryhmä voidaan ratkaista Pythonissa NumPyn ja sen linalg-laajennuksen avulla seuraavasti.\n",
    "1. Luo lineaarisen yhtälöryhmän kerroinmatriisi A.\n",
    "2. Luo vektori B (ratkaisu).\n",
    "3. **linalg.solve(A, b)**."
   ]
  },
  {
   "cell_type": "code",
   "execution_count": 35,
   "id": "492d610c",
   "metadata": {},
   "outputs": [],
   "source": [
    "coeff_matrix = np.array([[2, 1, -1],\n",
    "                         [1, -1, 3],\n",
    "                         [0, 1, -1]])"
   ]
  },
  {
   "cell_type": "code",
   "execution_count": 36,
   "id": "28e0305f",
   "metadata": {},
   "outputs": [],
   "source": [
    "b = [2, 0, 1]"
   ]
  },
  {
   "cell_type": "code",
   "execution_count": 37,
   "id": "d37c8be9",
   "metadata": {},
   "outputs": [
    {
     "data": {
      "text/plain": [
       "array([0.5 , 1.25, 0.25])"
      ]
     },
     "execution_count": 37,
     "metadata": {},
     "output_type": "execute_result"
    }
   ],
   "source": [
    "v = np.linalg.solve(coeff_matrix, b)\n",
    "v"
   ]
  },
  {
   "cell_type": "markdown",
   "id": "030346fc",
   "metadata": {},
   "source": [
    "- Esitetään vastaus vielä hienosti pystyvektorina Sympy-paketin avulla."
   ]
  },
  {
   "cell_type": "code",
   "execution_count": 38,
   "id": "dec1dcaf",
   "metadata": {},
   "outputs": [
    {
     "data": {
      "text/latex": [
       "$\\displaystyle \\left[\\begin{matrix}0.5\\\\1.25\\\\0.25\\end{matrix}\\right]$"
      ],
      "text/plain": [
       "Matrix([\n",
       "[ 0.5],\n",
       "[1.25],\n",
       "[0.25]])"
      ]
     },
     "execution_count": 38,
     "metadata": {},
     "output_type": "execute_result"
    }
   ],
   "source": [
    "sp.Matrix(v)"
   ]
  },
  {
   "cell_type": "markdown",
   "id": "8a94d6c5",
   "metadata": {},
   "source": [
    "<br>"
   ]
  },
  {
   "cell_type": "markdown",
   "id": "23e967c1",
   "metadata": {},
   "source": [
    "Ratkaistaan kuitenkin tehtävä myös pyydetyllä tavalla, eli aiemmin määritellyn rref() -funktion avulla.\n",
    "1. Luo yhtälöryhmää vastaava laajennettu matriisi A, jossa viimeisenä sarakkeena on vektori b.\n",
    "2. Syötä laajennettu matriisi A rref() -funktion sisään, joka luotiin tehtävässä 5.\n",
    "5. Yhtälöryhmän ratkaisu on viimeisessä sarakkeessa."
   ]
  },
  {
   "cell_type": "code",
   "execution_count": 39,
   "id": "1d282651",
   "metadata": {},
   "outputs": [],
   "source": [
    "Augmented_matrix = np.array([[2, 1, -1, 2],\n",
    "                             [1, -1, 3, 0],\n",
    "                             [0, 1, -1, 1]])"
   ]
  },
  {
   "cell_type": "code",
   "execution_count": 40,
   "id": "d2539e0d",
   "metadata": {},
   "outputs": [
    {
     "data": {
      "text/plain": [
       "array([[ 2,  1, -1,  2],\n",
       "       [ 1, -1,  3,  0],\n",
       "       [ 0,  1, -1,  1]])"
      ]
     },
     "execution_count": 40,
     "metadata": {},
     "output_type": "execute_result"
    }
   ],
   "source": [
    "Augmented_matrix"
   ]
  },
  {
   "cell_type": "code",
   "execution_count": 41,
   "id": "aa3b0314",
   "metadata": {},
   "outputs": [],
   "source": [
    "# Käytetään edellisessä tehtävässä luotua funktiota rref\n",
    "reduced = rref(Augmented_matrix)"
   ]
  },
  {
   "cell_type": "code",
   "execution_count": 42,
   "id": "cd300bdf",
   "metadata": {},
   "outputs": [
    {
     "data": {
      "text/latex": [
       "$\\displaystyle \\left[\\begin{matrix}1 & 0 & 0 & \\frac{1}{2}\\\\0 & 1 & 0 & \\frac{5}{4}\\\\0 & 0 & 1 & \\frac{1}{4}\\end{matrix}\\right]$"
      ],
      "text/plain": [
       "Matrix([\n",
       "[1, 0, 0, 1/2],\n",
       "[0, 1, 0, 5/4],\n",
       "[0, 0, 1, 1/4]])"
      ]
     },
     "execution_count": 42,
     "metadata": {},
     "output_type": "execute_result"
    }
   ],
   "source": [
    "reduced"
   ]
  },
  {
   "cell_type": "code",
   "execution_count": 43,
   "id": "5a7a9f81",
   "metadata": {},
   "outputs": [
    {
     "data": {
      "text/latex": [
       "$\\displaystyle \\left[\\begin{matrix}\\frac{1}{2}\\\\\\frac{5}{4}\\\\\\frac{1}{4}\\end{matrix}\\right]$"
      ],
      "text/plain": [
       "Matrix([\n",
       "[1/2],\n",
       "[5/4],\n",
       "[1/4]])"
      ]
     },
     "execution_count": 43,
     "metadata": {},
     "output_type": "execute_result"
    }
   ],
   "source": [
    "reduced[:, -1]"
   ]
  },
  {
   "cell_type": "markdown",
   "id": "60b2287f",
   "metadata": {},
   "source": [
    "- Sama ratkaisu kuin np.lingalg.solve() -metodia käyttämällä."
   ]
  },
  {
   "cell_type": "markdown",
   "id": "53035f73",
   "metadata": {},
   "source": [
    "<br>"
   ]
  },
  {
   "cell_type": "markdown",
   "id": "94160240",
   "metadata": {},
   "source": [
    "<br>"
   ]
  },
  {
   "cell_type": "markdown",
   "id": "b0637358",
   "metadata": {},
   "source": [
    "<h3 align=\"left\">Tehtävä 10</h3>"
   ]
  },
  {
   "cell_type": "markdown",
   "id": "740151fd",
   "metadata": {},
   "source": [
    "Neliömatriisin A sanotaan olevan symmetrinen, jos"
   ]
  },
  {
   "cell_type": "markdown",
   "id": "6146dcac",
   "metadata": {},
   "source": [
    "$$ A^T = A. $$"
   ]
  },
  {
   "cell_type": "markdown",
   "id": "69835076",
   "metadata": {},
   "source": [
    "Lisäksi sanotaan, että matriisi A on antisymmetrinen, jos"
   ]
  },
  {
   "cell_type": "markdown",
   "id": "ebd3b9bf",
   "metadata": {},
   "source": [
    "$$ A^T = -A. $$"
   ]
  },
  {
   "cell_type": "code",
   "execution_count": 44,
   "id": "c18a9fe5",
   "metadata": {},
   "outputs": [],
   "source": [
    "def sym_vai_antisym(array):\n",
    "    \n",
    "    if (array.T == array).all() and (array.T == -array).all():\n",
    "        print(\"Matriisi A on sekä symmetrinen, että antisymmetrinen\")\n",
    "        return 0\n",
    "    \n",
    "    elif (array.T == array).all():\n",
    "        print(\"Matriisi A on symmetrinen\")\n",
    "        return 1\n",
    "    \n",
    "    elif (array.T == -array).all():\n",
    "        print(\"Matriisi A on antisymmetrinen\")\n",
    "        return 2\n",
    "    \n",
    "    else:\n",
    "        print(\"Matriisi A ei ole kumpaakaan\")\n",
    "        return -1"
   ]
  },
  {
   "cell_type": "code",
   "execution_count": 45,
   "id": "04589e55",
   "metadata": {},
   "outputs": [],
   "source": [
    "symmetric = np.array([[2, 1], [1, 5]])"
   ]
  },
  {
   "cell_type": "code",
   "execution_count": 46,
   "id": "b0135409",
   "metadata": {},
   "outputs": [
    {
     "name": "stdout",
     "output_type": "stream",
     "text": [
      "[[2 1]\n",
      " [1 5]]\n"
     ]
    }
   ],
   "source": [
    "print(symmetric)"
   ]
  },
  {
   "cell_type": "code",
   "execution_count": 47,
   "id": "77d384d3",
   "metadata": {},
   "outputs": [
    {
     "name": "stdout",
     "output_type": "stream",
     "text": [
      "Matriisi A on symmetrinen\n"
     ]
    },
    {
     "data": {
      "text/plain": [
       "1"
      ]
     },
     "execution_count": 47,
     "metadata": {},
     "output_type": "execute_result"
    }
   ],
   "source": [
    "sym_vai_antisym(symmetric)"
   ]
  },
  {
   "cell_type": "markdown",
   "id": "2b83f88b",
   "metadata": {},
   "source": [
    "https://note.nkmk.me/en/python-numpy-pandas-value-error-ambiguous/"
   ]
  },
  {
   "cell_type": "markdown",
   "id": "c607fe8d",
   "metadata": {},
   "source": [
    "- En saanut alussa tätä funktiota toimimaan, kun en käyttänyt .all() -metodia matriiseja vertailtaessa (yllä oleva linkki ratkaisi ongelman).\n",
    "\n",
    "$\\quad \\quad \\boldsymbol{\\rightarrow} \\,$ Jos matriiseja vertaillessa ei käytä .all() -metodia, niin usein tulee seuraava virhe: \\\n",
    "$\\quad \\quad \\quad \\quad$ *ValueError: The truth value of an array with more than one element is ambiguous*."
   ]
  },
  {
   "cell_type": "code",
   "execution_count": 48,
   "id": "f8e684fb",
   "metadata": {},
   "outputs": [
    {
     "name": "stdout",
     "output_type": "stream",
     "text": [
      "[[2 1]\n",
      " [1 5]]\n"
     ]
    }
   ],
   "source": [
    "print(symmetric)"
   ]
  },
  {
   "cell_type": "code",
   "execution_count": 49,
   "id": "ee77b0d5",
   "metadata": {},
   "outputs": [
    {
     "data": {
      "text/plain": [
       "array([[ True,  True],\n",
       "       [ True,  True]])"
      ]
     },
     "execution_count": 49,
     "metadata": {},
     "output_type": "execute_result"
    }
   ],
   "source": [
    "symmetric == symmetric"
   ]
  },
  {
   "cell_type": "markdown",
   "id": "e5a39be7",
   "metadata": {},
   "source": [
    "- Kun matriiseja vertailee sellaisenaan keskenään yhtäsuuruus-operaattorin avulla, palautuksena saadaan boolean-array. Tämä ilmeisesti saattaa nostaa tuon em. virheen.\n",
    "- Kun käytetään .all() -metodia, niin palautuksena saadaan yksi ainoa true, jos matriisin kaikki alkiot ovat yhtäsuuret, ja false muulloin."
   ]
  },
  {
   "cell_type": "code",
   "execution_count": 50,
   "id": "d70b474f",
   "metadata": {},
   "outputs": [
    {
     "data": {
      "text/plain": [
       "True"
      ]
     },
     "execution_count": 50,
     "metadata": {},
     "output_type": "execute_result"
    }
   ],
   "source": [
    "(symmetric == symmetric).all()"
   ]
  }
 ],
 "metadata": {
  "kernelspec": {
   "display_name": "Python 3 (ipykernel)",
   "language": "python",
   "name": "python3"
  },
  "language_info": {
   "codemirror_mode": {
    "name": "ipython",
    "version": 3
   },
   "file_extension": ".py",
   "mimetype": "text/x-python",
   "name": "python",
   "nbconvert_exporter": "python",
   "pygments_lexer": "ipython3",
   "version": "3.9.12"
  }
 },
 "nbformat": 4,
 "nbformat_minor": 5
}
