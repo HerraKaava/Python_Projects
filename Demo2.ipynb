{
 "cells": [
  {
   "cell_type": "code",
   "execution_count": 74,
   "id": "6e1b77e0",
   "metadata": {},
   "outputs": [],
   "source": [
    "import pandas as pd\n",
    "import matplotlib.pyplot as plt\n",
    "import seaborn as sns\n",
    "import numpy as np\n",
    "from statsmodels.formula.api import ols"
   ]
  },
  {
   "cell_type": "code",
   "execution_count": 3,
   "id": "8329447b",
   "metadata": {},
   "outputs": [],
   "source": [
    "# Task 1."
   ]
  },
  {
   "cell_type": "code",
   "execution_count": 4,
   "id": "816fe970",
   "metadata": {},
   "outputs": [],
   "source": [
    "health_data = pd.read_csv(\"C:/Users/testi/Desktop/excel_files/HealthData.csv\")"
   ]
  },
  {
   "cell_type": "code",
   "execution_count": 5,
   "id": "f1a06bcc",
   "metadata": {},
   "outputs": [
    {
     "data": {
      "text/html": [
       "<div>\n",
       "<style scoped>\n",
       "    .dataframe tbody tr th:only-of-type {\n",
       "        vertical-align: middle;\n",
       "    }\n",
       "\n",
       "    .dataframe tbody tr th {\n",
       "        vertical-align: top;\n",
       "    }\n",
       "\n",
       "    .dataframe thead th {\n",
       "        text-align: right;\n",
       "    }\n",
       "</style>\n",
       "<table border=\"1\" class=\"dataframe\">\n",
       "  <thead>\n",
       "    <tr style=\"text-align: right;\">\n",
       "      <th></th>\n",
       "      <th>Unnamed: 0</th>\n",
       "      <th>ID</th>\n",
       "      <th>Height</th>\n",
       "      <th>Weight</th>\n",
       "      <th>Syst1</th>\n",
       "      <th>Diast1</th>\n",
       "      <th>Syst2</th>\n",
       "      <th>Diast2</th>\n",
       "      <th>Sex</th>\n",
       "      <th>Mstatus</th>\n",
       "      <th>Income</th>\n",
       "      <th>VaricoseVenes</th>\n",
       "      <th>BMI</th>\n",
       "      <th>Age</th>\n",
       "      <th>Hstatus</th>\n",
       "    </tr>\n",
       "  </thead>\n",
       "  <tbody>\n",
       "    <tr>\n",
       "      <th>0</th>\n",
       "      <td>1</td>\n",
       "      <td>5513</td>\n",
       "      <td>170</td>\n",
       "      <td>80.5</td>\n",
       "      <td>164</td>\n",
       "      <td>92</td>\n",
       "      <td>156</td>\n",
       "      <td>92</td>\n",
       "      <td>1</td>\n",
       "      <td>1</td>\n",
       "      <td>3</td>\n",
       "      <td>1</td>\n",
       "      <td>27.854671</td>\n",
       "      <td>60</td>\n",
       "      <td>2</td>\n",
       "    </tr>\n",
       "    <tr>\n",
       "      <th>1</th>\n",
       "      <td>2</td>\n",
       "      <td>5521</td>\n",
       "      <td>163</td>\n",
       "      <td>59.6</td>\n",
       "      <td>132</td>\n",
       "      <td>72</td>\n",
       "      <td>126</td>\n",
       "      <td>68</td>\n",
       "      <td>2</td>\n",
       "      <td>1</td>\n",
       "      <td>6</td>\n",
       "      <td>1</td>\n",
       "      <td>22.432158</td>\n",
       "      <td>36</td>\n",
       "      <td>1</td>\n",
       "    </tr>\n",
       "    <tr>\n",
       "      <th>2</th>\n",
       "      <td>3</td>\n",
       "      <td>5590</td>\n",
       "      <td>158</td>\n",
       "      <td>60.0</td>\n",
       "      <td>120</td>\n",
       "      <td>70</td>\n",
       "      <td>120</td>\n",
       "      <td>72</td>\n",
       "      <td>2</td>\n",
       "      <td>1</td>\n",
       "      <td>3</td>\n",
       "      <td>1</td>\n",
       "      <td>24.034610</td>\n",
       "      <td>37</td>\n",
       "      <td>1</td>\n",
       "    </tr>\n",
       "    <tr>\n",
       "      <th>3</th>\n",
       "      <td>4</td>\n",
       "      <td>5646</td>\n",
       "      <td>158</td>\n",
       "      <td>57.4</td>\n",
       "      <td>118</td>\n",
       "      <td>66</td>\n",
       "      <td>120</td>\n",
       "      <td>72</td>\n",
       "      <td>2</td>\n",
       "      <td>1</td>\n",
       "      <td>4</td>\n",
       "      <td>1</td>\n",
       "      <td>22.993110</td>\n",
       "      <td>41</td>\n",
       "      <td>1</td>\n",
       "    </tr>\n",
       "    <tr>\n",
       "      <th>4</th>\n",
       "      <td>5</td>\n",
       "      <td>5658</td>\n",
       "      <td>165</td>\n",
       "      <td>73.5</td>\n",
       "      <td>170</td>\n",
       "      <td>74</td>\n",
       "      <td>166</td>\n",
       "      <td>80</td>\n",
       "      <td>1</td>\n",
       "      <td>2</td>\n",
       "      <td>1</td>\n",
       "      <td>1</td>\n",
       "      <td>26.997245</td>\n",
       "      <td>42</td>\n",
       "      <td>2</td>\n",
       "    </tr>\n",
       "  </tbody>\n",
       "</table>\n",
       "</div>"
      ],
      "text/plain": [
       "   Unnamed: 0    ID  Height  Weight  Syst1  Diast1  Syst2  Diast2  Sex  \\\n",
       "0           1  5513     170    80.5    164      92    156      92    1   \n",
       "1           2  5521     163    59.6    132      72    126      68    2   \n",
       "2           3  5590     158    60.0    120      70    120      72    2   \n",
       "3           4  5646     158    57.4    118      66    120      72    2   \n",
       "4           5  5658     165    73.5    170      74    166      80    1   \n",
       "\n",
       "   Mstatus  Income  VaricoseVenes        BMI  Age  Hstatus  \n",
       "0        1       3              1  27.854671   60        2  \n",
       "1        1       6              1  22.432158   36        1  \n",
       "2        1       3              1  24.034610   37        1  \n",
       "3        1       4              1  22.993110   41        1  \n",
       "4        2       1              1  26.997245   42        2  "
      ]
     },
     "execution_count": 5,
     "metadata": {},
     "output_type": "execute_result"
    }
   ],
   "source": [
    "health_data.head()"
   ]
  },
  {
   "cell_type": "code",
   "execution_count": 6,
   "id": "115c81a4",
   "metadata": {},
   "outputs": [],
   "source": [
    "df = health_data[[\"Syst2\", \"Age\", \"Sex\"]].copy()"
   ]
  },
  {
   "cell_type": "code",
   "execution_count": 7,
   "id": "ac2c39f8",
   "metadata": {},
   "outputs": [],
   "source": [
    "df[\"Sex\"] = df[\"Sex\"].astype(\"category\")"
   ]
  },
  {
   "cell_type": "code",
   "execution_count": 8,
   "id": "5cb72965",
   "metadata": {},
   "outputs": [
    {
     "data": {
      "text/plain": [
       "Syst2       int64\n",
       "Age         int64\n",
       "Sex      category\n",
       "dtype: object"
      ]
     },
     "execution_count": 8,
     "metadata": {},
     "output_type": "execute_result"
    }
   ],
   "source": [
    "df.dtypes"
   ]
  },
  {
   "cell_type": "code",
   "execution_count": 9,
   "id": "5a15db12",
   "metadata": {},
   "outputs": [],
   "source": [
    "df[\"Sex\"] = np.where(df[\"Sex\"] == 1, \"Male\", \"Female\")"
   ]
  },
  {
   "cell_type": "code",
   "execution_count": 10,
   "id": "e082e711",
   "metadata": {},
   "outputs": [],
   "source": [
    "df.rename(columns={\"Syst2\": \"Syst\"}, inplace=True)"
   ]
  },
  {
   "cell_type": "code",
   "execution_count": 11,
   "id": "b765efd7",
   "metadata": {},
   "outputs": [
    {
     "data": {
      "text/html": [
       "<div>\n",
       "<style scoped>\n",
       "    .dataframe tbody tr th:only-of-type {\n",
       "        vertical-align: middle;\n",
       "    }\n",
       "\n",
       "    .dataframe tbody tr th {\n",
       "        vertical-align: top;\n",
       "    }\n",
       "\n",
       "    .dataframe thead th {\n",
       "        text-align: right;\n",
       "    }\n",
       "</style>\n",
       "<table border=\"1\" class=\"dataframe\">\n",
       "  <thead>\n",
       "    <tr style=\"text-align: right;\">\n",
       "      <th></th>\n",
       "      <th>Syst</th>\n",
       "      <th>Age</th>\n",
       "      <th>Sex</th>\n",
       "    </tr>\n",
       "  </thead>\n",
       "  <tbody>\n",
       "    <tr>\n",
       "      <th>0</th>\n",
       "      <td>156</td>\n",
       "      <td>60</td>\n",
       "      <td>Male</td>\n",
       "    </tr>\n",
       "    <tr>\n",
       "      <th>1</th>\n",
       "      <td>126</td>\n",
       "      <td>36</td>\n",
       "      <td>Female</td>\n",
       "    </tr>\n",
       "    <tr>\n",
       "      <th>2</th>\n",
       "      <td>120</td>\n",
       "      <td>37</td>\n",
       "      <td>Female</td>\n",
       "    </tr>\n",
       "    <tr>\n",
       "      <th>3</th>\n",
       "      <td>120</td>\n",
       "      <td>41</td>\n",
       "      <td>Female</td>\n",
       "    </tr>\n",
       "    <tr>\n",
       "      <th>4</th>\n",
       "      <td>166</td>\n",
       "      <td>42</td>\n",
       "      <td>Male</td>\n",
       "    </tr>\n",
       "  </tbody>\n",
       "</table>\n",
       "</div>"
      ],
      "text/plain": [
       "   Syst  Age     Sex\n",
       "0   156   60    Male\n",
       "1   126   36  Female\n",
       "2   120   37  Female\n",
       "3   120   41  Female\n",
       "4   166   42    Male"
      ]
     },
     "execution_count": 11,
     "metadata": {},
     "output_type": "execute_result"
    }
   ],
   "source": [
    "df.head()"
   ]
  },
  {
   "cell_type": "code",
   "execution_count": null,
   "id": "24371069",
   "metadata": {},
   "outputs": [],
   "source": []
  },
  {
   "cell_type": "code",
   "execution_count": 12,
   "id": "ac47beb6",
   "metadata": {},
   "outputs": [],
   "source": [
    "# Task 2."
   ]
  },
  {
   "cell_type": "code",
   "execution_count": 13,
   "id": "ee0f8308",
   "metadata": {},
   "outputs": [],
   "source": [
    "model_syst_vs_age = ols(\"Syst ~ Age\", data=df).fit()"
   ]
  },
  {
   "cell_type": "code",
   "execution_count": 14,
   "id": "63019adb",
   "metadata": {},
   "outputs": [
    {
     "data": {
      "text/plain": [
       "Intercept    109.061884\n",
       "Age            0.677524\n",
       "dtype: float64"
      ]
     },
     "execution_count": 14,
     "metadata": {},
     "output_type": "execute_result"
    }
   ],
   "source": [
    "model_syst_vs_age.params"
   ]
  },
  {
   "cell_type": "code",
   "execution_count": 15,
   "id": "d60a74b7",
   "metadata": {},
   "outputs": [
    {
     "data": {
      "image/png": "[encoded data removed]",
      "text/plain": [
       "<Figure size 432x288 with 1 Axes>"
      ]
     },
     "metadata": {},
     "output_type": "display_data"
    }
   ],
   "source": [
    "sns.set_style(\"darkgrid\")\n",
    "\n",
    "sns.regplot(x=\"Age\", \n",
    "            y=\"Syst\", \n",
    "            ci=None, \n",
    "            scatter_kws={\"color\": \"black\", \"alpha\": 0.4},\n",
    "            line_kws={\"color\": \"red\"},\n",
    "            data=df)\n",
    "\n",
    "plt.title(\"Systolic blood pressure vs. age\", size=20)\n",
    "plt.ylabel(\"Systolic blood pressure\", size=15)\n",
    "plt.xlabel(\"Age\", size=15);"
   ]
  },
  {
   "cell_type": "code",
   "execution_count": null,
   "id": "701f6a16",
   "metadata": {},
   "outputs": [],
   "source": []
  },
  {
   "cell_type": "code",
   "execution_count": 16,
   "id": "f0fe698a",
   "metadata": {},
   "outputs": [],
   "source": [
    "# Task 3."
   ]
  },
  {
   "cell_type": "code",
   "execution_count": 17,
   "id": "c9d12bf3",
   "metadata": {},
   "outputs": [],
   "source": [
    "ml_syst_vs_age_and_sex = ols(\"Syst ~ Age + Sex + 0\", data=df).fit()"
   ]
  },
  {
   "cell_type": "code",
   "execution_count": 18,
   "id": "f54babca",
   "metadata": {},
   "outputs": [
    {
     "data": {
      "text/plain": [
       "Sex[Female]    104.968768\n",
       "Sex[Male]      111.524226\n",
       "Age              0.691627\n",
       "dtype: float64"
      ]
     },
     "execution_count": 18,
     "metadata": {},
     "output_type": "execute_result"
    }
   ],
   "source": [
    "ml_syst_vs_age_and_sex.params"
   ]
  },
  {
   "cell_type": "code",
   "execution_count": 19,
   "id": "c6d41ac9",
   "metadata": {},
   "outputs": [],
   "source": [
    "# Model formula: Syst_i = Beta_0 + Beta_1 * Age_i + Beta_2 * Sex_i + epsilon_i"
   ]
  },
  {
   "cell_type": "code",
   "execution_count": null,
   "id": "926fcede",
   "metadata": {},
   "outputs": [],
   "source": []
  },
  {
   "cell_type": "code",
   "execution_count": 20,
   "id": "09d5b5eb",
   "metadata": {},
   "outputs": [],
   "source": [
    "# Task 4."
   ]
  },
  {
   "cell_type": "code",
   "execution_count": 21,
   "id": "37ede768",
   "metadata": {},
   "outputs": [],
   "source": [
    "# Interpretation of the coefficients from the model ml_syst_vs_age_and_sex:\n",
    "\n",
    "# A female who's age is zero, is expected to have a systolic blood pressure of 104.968768.\n",
    "# Like so, a male who's age is zero, is expected to have a systolic blood pressure of 111.524226.\n",
    "# The slope coefficient Age tells us that when age increases by one unit (year) the exptected raise in the \\\n",
    "# systolic blood pressure is 0.691627."
   ]
  },
  {
   "cell_type": "code",
   "execution_count": null,
   "id": "56539242",
   "metadata": {},
   "outputs": [],
   "source": []
  },
  {
   "cell_type": "code",
   "execution_count": 22,
   "id": "759e29d0",
   "metadata": {},
   "outputs": [],
   "source": [
    "# Task 5."
   ]
  },
  {
   "cell_type": "code",
   "execution_count": 23,
   "id": "fdbf04e2",
   "metadata": {},
   "outputs": [],
   "source": [
    "# Let's unpack the ml_syst_vs_age_and_sex coefficients into three variables, so we can draw the regression lines for both sexes."
   ]
  },
  {
   "cell_type": "code",
   "execution_count": 24,
   "id": "5f62687d",
   "metadata": {},
   "outputs": [],
   "source": [
    "ic_female, ic_male, slope = ml_syst_vs_age_and_sex.params"
   ]
  },
  {
   "cell_type": "code",
   "execution_count": 25,
   "id": "b8a780fa",
   "metadata": {
    "scrolled": true
   },
   "outputs": [
    {
     "data": {
      "image/png": "[encoded data removed]",
      "text/plain": [
       "<Figure size 432x288 with 1 Axes>"
      ]
     },
     "metadata": {},
     "output_type": "display_data"
    }
   ],
   "source": [
    "sns.set_style(\"darkgrid\")\n",
    "\n",
    "sns.scatterplot(x=\"Age\",\n",
    "                y=\"Syst\",\n",
    "                hue=\"Sex\",\n",
    "                data=df)\n",
    "\n",
    "plt.axline(xy1=(0, ic_female), slope=slope, color=\"orange\")\n",
    "plt.axline(xy1=(0, ic_male), slope=slope, color=\"blue\")\n",
    "\n",
    "plt.title(\"Systolic blood pressure vs. age\", size=20)\n",
    "plt.ylabel(\"Systolic blood pressure\", size=15)\n",
    "plt.xlabel(\"Age\", size=15);"
   ]
  },
  {
   "cell_type": "code",
   "execution_count": null,
   "id": "183dce14",
   "metadata": {},
   "outputs": [],
   "source": []
  },
  {
   "cell_type": "code",
   "execution_count": 26,
   "id": "88f9741f",
   "metadata": {},
   "outputs": [],
   "source": [
    "# Task 6."
   ]
  },
  {
   "cell_type": "code",
   "execution_count": 27,
   "id": "77b1a0a0",
   "metadata": {},
   "outputs": [
    {
     "data": {
      "text/html": [
       "<div>\n",
       "<style scoped>\n",
       "    .dataframe tbody tr th:only-of-type {\n",
       "        vertical-align: middle;\n",
       "    }\n",
       "\n",
       "    .dataframe tbody tr th {\n",
       "        vertical-align: top;\n",
       "    }\n",
       "\n",
       "    .dataframe thead th {\n",
       "        text-align: right;\n",
       "    }\n",
       "</style>\n",
       "<table border=\"1\" class=\"dataframe\">\n",
       "  <thead>\n",
       "    <tr style=\"text-align: right;\">\n",
       "      <th></th>\n",
       "      <th>0</th>\n",
       "      <th>1</th>\n",
       "    </tr>\n",
       "  </thead>\n",
       "  <tbody>\n",
       "    <tr>\n",
       "      <th>Sex[Female]</th>\n",
       "      <td>98.529007</td>\n",
       "      <td>111.408530</td>\n",
       "    </tr>\n",
       "    <tr>\n",
       "      <th>Sex[Male]</th>\n",
       "      <td>105.286086</td>\n",
       "      <td>117.762366</td>\n",
       "    </tr>\n",
       "    <tr>\n",
       "      <th>Age</th>\n",
       "      <td>0.555828</td>\n",
       "      <td>0.827425</td>\n",
       "    </tr>\n",
       "  </tbody>\n",
       "</table>\n",
       "</div>"
      ],
      "text/plain": [
       "                      0           1\n",
       "Sex[Female]   98.529007  111.408530\n",
       "Sex[Male]    105.286086  117.762366\n",
       "Age            0.555828    0.827425"
      ]
     },
     "execution_count": 27,
     "metadata": {},
     "output_type": "execute_result"
    }
   ],
   "source": [
    "ml_syst_vs_age_and_sex.conf_int(alpha=0.05)"
   ]
  },
  {
   "cell_type": "code",
   "execution_count": 28,
   "id": "f95c2a53",
   "metadata": {},
   "outputs": [],
   "source": [
    "# alpha argument of 0.05 tells that we want the 95 % confidence interval.\n",
    "# lower boundary of the confidence interval for the corresponding regression coefficient \\\n",
    "# is located in the 0 column and upper boundary is located in the 1 column.\n",
    "\n",
    "# The confidence intervals for males and females overlap, so we can conclude that the coefficients do not differ \\\n",
    "# significantly from zero. Meaning that the coefficients between the two group do not differ significantly from each other."
   ]
  },
  {
   "cell_type": "code",
   "execution_count": null,
   "id": "1c03ba61",
   "metadata": {},
   "outputs": [],
   "source": []
  },
  {
   "cell_type": "code",
   "execution_count": 29,
   "id": "f30e6130",
   "metadata": {},
   "outputs": [],
   "source": [
    "# Task 7."
   ]
  },
  {
   "cell_type": "code",
   "execution_count": 30,
   "id": "7d24eb76",
   "metadata": {},
   "outputs": [],
   "source": [
    "ml_with_interaction = ols(\"Syst ~ Age * Sex + 0\", data=df).fit()"
   ]
  },
  {
   "cell_type": "code",
   "execution_count": 31,
   "id": "58c158cb",
   "metadata": {},
   "outputs": [
    {
     "data": {
      "text/plain": [
       "Sex[Female]         95.947754\n",
       "Sex[Male]          120.296550\n",
       "Age                  0.895710\n",
       "Age:Sex[T.Male]     -0.408072\n",
       "dtype: float64"
      ]
     },
     "execution_count": 31,
     "metadata": {},
     "output_type": "execute_result"
    }
   ],
   "source": [
    "ml_with_interaction.params"
   ]
  },
  {
   "cell_type": "code",
   "execution_count": 32,
   "id": "ad8776c2",
   "metadata": {},
   "outputs": [],
   "source": [
    "# Syst_female = (95.948 + 0.896 * Age) + (0.896 + (-0.408) * Age) * Sex"
   ]
  },
  {
   "cell_type": "code",
   "execution_count": 33,
   "id": "05a2e58c",
   "metadata": {},
   "outputs": [],
   "source": [
    "# Syst_male = (120.297 + 0.896 * Age) + (0.896 + (-0.408) * Age) Sex"
   ]
  },
  {
   "cell_type": "code",
   "execution_count": null,
   "id": "59d1319b",
   "metadata": {},
   "outputs": [],
   "source": []
  },
  {
   "cell_type": "code",
   "execution_count": null,
   "id": "3e8e96c2",
   "metadata": {},
   "outputs": [],
   "source": [
    "# Task 8."
   ]
  },
  {
   "cell_type": "code",
   "execution_count": null,
   "id": "46d2c5d8",
   "metadata": {},
   "outputs": [],
   "source": [
    "coeffs = ml_with_interaction.params"
   ]
  },
  {
   "cell_type": "code",
   "execution_count": 64,
   "id": "ff77e771",
   "metadata": {},
   "outputs": [],
   "source": [
    "slope_w_interaction = coeffs[2] + coeffs[3]"
   ]
  },
  {
   "cell_type": "code",
   "execution_count": 68,
   "id": "8e8ccac8",
   "metadata": {},
   "outputs": [
    {
     "data": {
      "image/png": "[encoded data removed]",
      "text/plain": [
       "<Figure size 432x288 with 1 Axes>"
      ]
     },
     "metadata": {},
     "output_type": "display_data"
    }
   ],
   "source": [
    "sns.set_style(\"darkgrid\")\n",
    "\n",
    "sns.scatterplot(x=\"Age\",\n",
    "                y=\"Syst\",\n",
    "                hue=\"Sex\",\n",
    "                data=df)\n",
    "\n",
    "plt.axline(xy1=(0, coeffs[0]), slope=slope_w_interaction, color=\"orange\")\n",
    "plt.axline(xy1=(0, coeffs[1]), slope=slope_w_interaction, color=\"blue\")\n",
    "\n",
    "plt.title(\"Syst vs. Age\", size=15);\n"
   ]
  },
  {
   "cell_type": "code",
   "execution_count": null,
   "id": "b04ca587",
   "metadata": {},
   "outputs": [],
   "source": [
    "# Nämä regressiosuorat eivät tunnu vastaavaan alla olevia ennusteita. En tiedä, kuinka tuo interaktio-termi vaikuttaa \\\n",
    "# kulmakertoimen arvoon. Tämä ilmeisesti käytiin luennolla, kun en ollut paikalla."
   ]
  },
  {
   "cell_type": "code",
   "execution_count": 34,
   "id": "3fa4f54b",
   "metadata": {},
   "outputs": [],
   "source": [
    "# Task 9."
   ]
  },
  {
   "cell_type": "code",
   "execution_count": 126,
   "id": "95ac95df",
   "metadata": {},
   "outputs": [
    {
     "data": {
      "text/html": [
       "<div>\n",
       "<style scoped>\n",
       "    .dataframe tbody tr th:only-of-type {\n",
       "        vertical-align: middle;\n",
       "    }\n",
       "\n",
       "    .dataframe tbody tr th {\n",
       "        vertical-align: top;\n",
       "    }\n",
       "\n",
       "    .dataframe thead th {\n",
       "        text-align: right;\n",
       "    }\n",
       "</style>\n",
       "<table border=\"1\" class=\"dataframe\">\n",
       "  <thead>\n",
       "    <tr style=\"text-align: right;\">\n",
       "      <th></th>\n",
       "      <th>mean</th>\n",
       "      <th>mean_se</th>\n",
       "      <th>mean_ci_lower</th>\n",
       "      <th>mean_ci_upper</th>\n",
       "      <th>obs_ci_lower</th>\n",
       "      <th>obs_ci_upper</th>\n",
       "      <th>Age</th>\n",
       "      <th>Gender</th>\n",
       "    </tr>\n",
       "  </thead>\n",
       "  <tbody>\n",
       "    <tr>\n",
       "      <th>0</th>\n",
       "      <td>122.819043</td>\n",
       "      <td>1.811295</td>\n",
       "      <td>119.259784</td>\n",
       "      <td>126.378302</td>\n",
       "      <td>88.175430</td>\n",
       "      <td>157.462656</td>\n",
       "      <td>30</td>\n",
       "      <td>Female</td>\n",
       "    </tr>\n",
       "    <tr>\n",
       "      <th>1</th>\n",
       "      <td>136.254687</td>\n",
       "      <td>1.179523</td>\n",
       "      <td>133.936883</td>\n",
       "      <td>138.572492</td>\n",
       "      <td>101.716537</td>\n",
       "      <td>170.792838</td>\n",
       "      <td>45</td>\n",
       "      <td>Female</td>\n",
       "    </tr>\n",
       "    <tr>\n",
       "      <th>2</th>\n",
       "      <td>149.690332</td>\n",
       "      <td>1.931402</td>\n",
       "      <td>145.895059</td>\n",
       "      <td>153.485604</td>\n",
       "      <td>115.021676</td>\n",
       "      <td>184.358988</td>\n",
       "      <td>60</td>\n",
       "      <td>Female</td>\n",
       "    </tr>\n",
       "  </tbody>\n",
       "</table>\n",
       "</div>"
      ],
      "text/plain": [
       "         mean   mean_se  mean_ci_lower  mean_ci_upper  obs_ci_lower  \\\n",
       "0  122.819043  1.811295     119.259784     126.378302     88.175430   \n",
       "1  136.254687  1.179523     133.936883     138.572492    101.716537   \n",
       "2  149.690332  1.931402     145.895059     153.485604    115.021676   \n",
       "\n",
       "   obs_ci_upper  Age  Gender  \n",
       "0    157.462656   30  Female  \n",
       "1    170.792838   45  Female  \n",
       "2    184.358988   60  Female  "
      ]
     },
     "execution_count": 126,
     "metadata": {},
     "output_type": "execute_result"
    }
   ],
   "source": [
    "predict_female = pd.DataFrame({\"Age\": [30, 45, 60], \"Sex\": \"Female\"})\n",
    "df_conf = ml_with_interaction.get_prediction(predict_female).summary_frame()\n",
    "df_conf[\"Age\"] = [30, 45, 60]\n",
    "df_conf[\"Gender\"] = [\"Female\", \"Female\", \"Female\"]\n",
    "df_conf\n",
    "\n",
    "# obs_ci_lower is the lower boundary of the prediction interval, and obs_ci_upper is the upper boundary \\\n",
    "# of the prediction interval."
   ]
  },
  {
   "cell_type": "code",
   "execution_count": null,
   "id": "391f3f4e",
   "metadata": {},
   "outputs": [],
   "source": []
  },
  {
   "cell_type": "code",
   "execution_count": 125,
   "id": "337ef2c5",
   "metadata": {},
   "outputs": [
    {
     "data": {
      "text/html": [
       "<div>\n",
       "<style scoped>\n",
       "    .dataframe tbody tr th:only-of-type {\n",
       "        vertical-align: middle;\n",
       "    }\n",
       "\n",
       "    .dataframe tbody tr th {\n",
       "        vertical-align: top;\n",
       "    }\n",
       "\n",
       "    .dataframe thead th {\n",
       "        text-align: right;\n",
       "    }\n",
       "</style>\n",
       "<table border=\"1\" class=\"dataframe\">\n",
       "  <thead>\n",
       "    <tr style=\"text-align: right;\">\n",
       "      <th></th>\n",
       "      <th>mean</th>\n",
       "      <th>mean_se</th>\n",
       "      <th>mean_ci_lower</th>\n",
       "      <th>mean_ci_upper</th>\n",
       "      <th>obs_ci_lower</th>\n",
       "      <th>obs_ci_upper</th>\n",
       "      <th>Age</th>\n",
       "      <th>Gender</th>\n",
       "    </tr>\n",
       "  </thead>\n",
       "  <tbody>\n",
       "    <tr>\n",
       "      <th>0</th>\n",
       "      <td>134.925694</td>\n",
       "      <td>1.677362</td>\n",
       "      <td>131.629619</td>\n",
       "      <td>138.221769</td>\n",
       "      <td>100.308130</td>\n",
       "      <td>169.543258</td>\n",
       "      <td>30</td>\n",
       "      <td>Male</td>\n",
       "    </tr>\n",
       "    <tr>\n",
       "      <th>1</th>\n",
       "      <td>142.240266</td>\n",
       "      <td>1.123685</td>\n",
       "      <td>140.032186</td>\n",
       "      <td>144.448345</td>\n",
       "      <td>107.709305</td>\n",
       "      <td>176.771226</td>\n",
       "      <td>45</td>\n",
       "      <td>Male</td>\n",
       "    </tr>\n",
       "    <tr>\n",
       "      <th>2</th>\n",
       "      <td>149.554838</td>\n",
       "      <td>1.984538</td>\n",
       "      <td>145.655150</td>\n",
       "      <td>153.454525</td>\n",
       "      <td>114.874596</td>\n",
       "      <td>184.235079</td>\n",
       "      <td>60</td>\n",
       "      <td>Male</td>\n",
       "    </tr>\n",
       "  </tbody>\n",
       "</table>\n",
       "</div>"
      ],
      "text/plain": [
       "         mean   mean_se  mean_ci_lower  mean_ci_upper  obs_ci_lower  \\\n",
       "0  134.925694  1.677362     131.629619     138.221769    100.308130   \n",
       "1  142.240266  1.123685     140.032186     144.448345    107.709305   \n",
       "2  149.554838  1.984538     145.655150     153.454525    114.874596   \n",
       "\n",
       "   obs_ci_upper  Age Gender  \n",
       "0    169.543258   30   Male  \n",
       "1    176.771226   45   Male  \n",
       "2    184.235079   60   Male  "
      ]
     },
     "execution_count": 125,
     "metadata": {},
     "output_type": "execute_result"
    }
   ],
   "source": [
    "predict_male = pd.DataFrame({\"Age\": [30, 45, 60], \"Sex\": \"Male\"})\n",
    "df_conf2 = ml_with_interaction.get_prediction(predict_male).summary_frame()\n",
    "df_conf2[\"Age\"] = [30, 45, 60]\n",
    "df_conf2[\"Gender\"] = [\"Male\", \"Male\", \"Male\"]\n",
    "df_conf2"
   ]
  },
  {
   "cell_type": "code",
   "execution_count": null,
   "id": "36d3e458",
   "metadata": {},
   "outputs": [],
   "source": []
  },
  {
   "cell_type": "code",
   "execution_count": null,
   "id": "33c18fa8",
   "metadata": {},
   "outputs": [],
   "source": [
    "# Model performance are usually measured by two metrics: R-squared and RSE."
   ]
  },
  {
   "cell_type": "code",
   "execution_count": 129,
   "id": "7b633d13",
   "metadata": {},
   "outputs": [
    {
     "data": {
      "text/plain": [
       "0.20811565504048868"
      ]
     },
     "execution_count": 129,
     "metadata": {},
     "output_type": "execute_result"
    }
   ],
   "source": [
    "R2 = ml_with_interaction.rsquared\n",
    "R2"
   ]
  },
  {
   "cell_type": "code",
   "execution_count": 131,
   "id": "116146c1",
   "metadata": {},
   "outputs": [
    {
     "data": {
      "text/plain": [
       "17.536731222989346"
      ]
     },
     "execution_count": 131,
     "metadata": {},
     "output_type": "execute_result"
    }
   ],
   "source": [
    "RSE = np.sqrt(ml_with_interaction.mse_resid)\n",
    "RSE"
   ]
  },
  {
   "cell_type": "code",
   "execution_count": null,
   "id": "4cacc479",
   "metadata": {},
   "outputs": [],
   "source": [
    "# Around 21 % of the variance of the dependent variable can be explained by the predictor variables.\n",
    "# This is not a good result.\n",
    "\n",
    "# We got an RSE (Residual Standard Error) value of 17.5. This indicated that the true value lies typically 17.5 units (mmHg) \\\n",
    "# away from the regression line. Or in other words; a typical difference between a prediction and an observed response."
   ]
  },
  {
   "cell_type": "code",
   "execution_count": null,
   "id": "3849c632",
   "metadata": {},
   "outputs": [],
   "source": []
  },
  {
   "cell_type": "code",
   "execution_count": null,
   "id": "8d3e1916",
   "metadata": {},
   "outputs": [],
   "source": []
  }
 ],
 "metadata": {
  "kernelspec": {
   "display_name": "Python 3 (ipykernel)",
   "language": "python",
   "name": "python3"
  },
  "language_info": {
   "codemirror_mode": {
    "name": "ipython",
    "version": 3
   },
   "file_extension": ".py",
   "mimetype": "text/x-python",
   "name": "python",
   "nbconvert_exporter": "python",
   "pygments_lexer": "ipython3",
   "version": "3.9.12"
  }
 },
 "nbformat": 4,
 "nbformat_minor": 5
}
