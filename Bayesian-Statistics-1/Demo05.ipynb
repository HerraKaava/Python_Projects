{
 "cells": [
  {
   "cell_type": "markdown",
   "id": "50919ed1",
   "metadata": {},
   "source": [
    "<h1 align=\"center\">Bayesian Statistics, Demo 5</h1>"
   ]
  },
  {
   "cell_type": "markdown",
   "id": "2575a335",
   "metadata": {},
   "source": [
    "<br>"
   ]
  },
  {
   "cell_type": "code",
   "execution_count": 79,
   "id": "d1dcbbca",
   "metadata": {},
   "outputs": [],
   "source": [
    "import pymc as pm\n",
    "import pandas as pd\n",
    "import numpy as np\n",
    "import seaborn as sns\n",
    "import arviz as az\n",
    "import matplotlib.pyplot as plt"
   ]
  },
  {
   "cell_type": "markdown",
   "id": "b538673d",
   "metadata": {},
   "source": [
    "<h3 align=\"left\">Task 3</h3>\n",
    "\n",
    "The given data represents rainfall measurements (in millimeters) for the months of November and December in York during the years 1971-1980.\n",
    "\n",
    "| **Year** | **November (mm)** | **December (mm)** |\n",
    "|--------------:|----------------------:|-----------------------:|\n",
    "|           1971 |                  23.9 |                   41.0 |\n",
    "|           1972 |                  43.3 |                   52.0 |\n",
    "|           1973 |                  36.3 |                   18.7 |\n",
    "|           1974 |                  40.6 |                   55.0 |\n",
    "|           1975 |                  57.0 |                   40.0 |\n",
    "|           1976 |                  52.5 |                   29.2 |\n",
    "|           1977 |                  46.1 |                   51.0 |\n",
    "|           1978 |                 142.0 |                   17.6 |\n",
    "|           1979 |                 112.0 |                   46.6 |\n",
    "|           1980 |                  23.7 |                   57.0 |\n",
    "\n",
    "\n",
    "Assume that the December rainfall follows a normal distribution and predict it based on the November rainfall. Create a forecast for the upcoming December rainfall when the observed November rainfall is 50. Determine the expected value of the posterior predictive distribution, a 95% prediction interval for the forecast, and a 95% posterior interval for the forecast's expected value. Also, examine how November rainfall affects December rainfall."
   ]
  },
  {
   "cell_type": "code",
   "execution_count": 17,
   "id": "c349b281",
   "metadata": {},
   "outputs": [],
   "source": [
    "rain = pd.read_csv(\"/Users/herrakaava/Documents/Bayesian-Statistics-1/aineistot/rain.csv\",\n",
    "                  index_col=0)"
   ]
  },
  {
   "cell_type": "code",
   "execution_count": 18,
   "id": "60c96f37",
   "metadata": {},
   "outputs": [],
   "source": [
    "rain = rain.rename(columns={'vuosi': 'year', 'marraskuu': 'november', 'joulukuu': 'december'})"
   ]
  },
  {
   "cell_type": "code",
   "execution_count": 19,
   "id": "31a6324a",
   "metadata": {},
   "outputs": [
    {
     "data": {
      "text/html": [
       "<div>\n",
       "<style scoped>\n",
       "    .dataframe tbody tr th:only-of-type {\n",
       "        vertical-align: middle;\n",
       "    }\n",
       "\n",
       "    .dataframe tbody tr th {\n",
       "        vertical-align: top;\n",
       "    }\n",
       "\n",
       "    .dataframe thead th {\n",
       "        text-align: right;\n",
       "    }\n",
       "</style>\n",
       "<table border=\"1\" class=\"dataframe\">\n",
       "  <thead>\n",
       "    <tr style=\"text-align: right;\">\n",
       "      <th></th>\n",
       "      <th>year</th>\n",
       "      <th>november</th>\n",
       "      <th>december</th>\n",
       "    </tr>\n",
       "  </thead>\n",
       "  <tbody>\n",
       "    <tr>\n",
       "      <th>1</th>\n",
       "      <td>1971</td>\n",
       "      <td>23.9</td>\n",
       "      <td>41.0</td>\n",
       "    </tr>\n",
       "    <tr>\n",
       "      <th>2</th>\n",
       "      <td>1972</td>\n",
       "      <td>43.3</td>\n",
       "      <td>52.0</td>\n",
       "    </tr>\n",
       "    <tr>\n",
       "      <th>3</th>\n",
       "      <td>1973</td>\n",
       "      <td>36.3</td>\n",
       "      <td>18.7</td>\n",
       "    </tr>\n",
       "    <tr>\n",
       "      <th>4</th>\n",
       "      <td>1974</td>\n",
       "      <td>40.6</td>\n",
       "      <td>55.0</td>\n",
       "    </tr>\n",
       "    <tr>\n",
       "      <th>5</th>\n",
       "      <td>1975</td>\n",
       "      <td>57.0</td>\n",
       "      <td>40.0</td>\n",
       "    </tr>\n",
       "    <tr>\n",
       "      <th>6</th>\n",
       "      <td>1976</td>\n",
       "      <td>52.5</td>\n",
       "      <td>29.2</td>\n",
       "    </tr>\n",
       "    <tr>\n",
       "      <th>7</th>\n",
       "      <td>1977</td>\n",
       "      <td>46.1</td>\n",
       "      <td>51.0</td>\n",
       "    </tr>\n",
       "    <tr>\n",
       "      <th>8</th>\n",
       "      <td>1978</td>\n",
       "      <td>142.0</td>\n",
       "      <td>17.6</td>\n",
       "    </tr>\n",
       "    <tr>\n",
       "      <th>9</th>\n",
       "      <td>1979</td>\n",
       "      <td>112.0</td>\n",
       "      <td>46.6</td>\n",
       "    </tr>\n",
       "    <tr>\n",
       "      <th>10</th>\n",
       "      <td>1980</td>\n",
       "      <td>23.7</td>\n",
       "      <td>57.0</td>\n",
       "    </tr>\n",
       "  </tbody>\n",
       "</table>\n",
       "</div>"
      ],
      "text/plain": [
       "    year  november  december\n",
       "1   1971      23.9      41.0\n",
       "2   1972      43.3      52.0\n",
       "3   1973      36.3      18.7\n",
       "4   1974      40.6      55.0\n",
       "5   1975      57.0      40.0\n",
       "6   1976      52.5      29.2\n",
       "7   1977      46.1      51.0\n",
       "8   1978     142.0      17.6\n",
       "9   1979     112.0      46.6\n",
       "10  1980      23.7      57.0"
      ]
     },
     "execution_count": 19,
     "metadata": {},
     "output_type": "execute_result"
    }
   ],
   "source": [
    "rain"
   ]
  },
  {
   "cell_type": "code",
   "execution_count": 5,
   "id": "afbacdb8",
   "metadata": {},
   "outputs": [
    {
     "name": "stdout",
     "output_type": "stream",
     "text": [
      "<class 'pandas.core.frame.DataFrame'>\n",
      "Index: 10 entries, 1 to 10\n",
      "Data columns (total 3 columns):\n",
      " #   Column    Non-Null Count  Dtype  \n",
      "---  ------    --------------  -----  \n",
      " 0   year      10 non-null     int64  \n",
      " 1   november  10 non-null     float64\n",
      " 2   december  10 non-null     float64\n",
      "dtypes: float64(2), int64(1)\n",
      "memory usage: 320.0 bytes\n"
     ]
    }
   ],
   "source": [
    "rain.info()"
   ]
  },
  {
   "cell_type": "markdown",
   "id": "f5a9712f",
   "metadata": {},
   "source": [
    "**Visualize**"
   ]
  },
  {
   "cell_type": "code",
   "execution_count": 20,
   "id": "f5859484",
   "metadata": {},
   "outputs": [
    {
     "data": {
      "image/png": "[encoded data removed]",
      "text/plain": [
       "<Figure size 1000x500 with 2 Axes>"
      ]
     },
     "metadata": {},
     "output_type": "display_data"
    }
   ],
   "source": [
    "fig, ax = plt.subplots(nrows=1, ncols=2, figsize=(10, 5), dpi=100)\n",
    "\n",
    "ax[0].plot(rain[\"year\"], rain[\"november\"], color=\"black\")\n",
    "ax[1].plot(rain[\"year\"], rain[\"december\"], color=\"black\")\n",
    "\n",
    "ax[0].set_xlabel(\"Year\", labelpad=15)\n",
    "ax[0].set_ylabel(\"Rainfall measurement (mm)\", labelpad=15)\n",
    "\n",
    "ax[0].set_title(\"November\", size=13)\n",
    "ax[1].set_title(\"December\", size=13);"
   ]
  },
  {
   "cell_type": "markdown",
   "id": "34342df8",
   "metadata": {},
   "source": [
    "**Fit the Bayesian regression model**"
   ]
  },
  {
   "cell_type": "code",
   "execution_count": 140,
   "id": "46b8f950",
   "metadata": {},
   "outputs": [
    {
     "name": "stderr",
     "output_type": "stream",
     "text": [
      "Auto-assigning NUTS sampler...\n",
      "Initializing NUTS using jitter+adapt_diag...\n",
      "Multiprocess sampling (4 chains in 4 jobs)\n",
      "NUTS: [alpha, beta, sigma]\n"
     ]
    },
    {
     "data": {
      "text/html": [
       "\n",
       "<style>\n",
       "    /* Turns off some styling */\n",
       "    progress {\n",
       "        /* gets rid of default border in Firefox and Opera. */\n",
       "        border: none;\n",
       "        /* Needs to be in here for Safari polyfill so background images work as expected. */\n",
       "        background-size: auto;\n",
       "    }\n",
       "    progress:not([value]), progress:not([value])::-webkit-progress-bar {\n",
       "        background: repeating-linear-gradient(45deg, #7e7e7e, #7e7e7e 10px, #5c5c5c 10px, #5c5c5c 20px);\n",
       "    }\n",
       "    .progress-bar-interrupted, .progress-bar-interrupted::-webkit-progress-bar {\n",
       "        background: #F44336;\n",
       "    }\n",
       "</style>\n"
      ],
      "text/plain": [
       "<IPython.core.display.HTML object>"
      ]
     },
     "metadata": {},
     "output_type": "display_data"
    },
    {
     "data": {
      "text/html": [
       "\n",
       "    <div>\n",
       "      <progress value='12000' class='' max='12000' style='width:300px; height:20px; vertical-align: middle;'></progress>\n",
       "      100.00% [12000/12000 00:01&lt;00:00 Sampling 4 chains, 3 divergences]\n",
       "    </div>\n",
       "    "
      ],
      "text/plain": [
       "<IPython.core.display.HTML object>"
      ]
     },
     "metadata": {},
     "output_type": "display_data"
    },
    {
     "name": "stderr",
     "output_type": "stream",
     "text": [
      "Sampling 4 chains for 1_000 tune and 2_000 draw iterations (4_000 + 8_000 draws total) took 1 seconds.\n",
      "There were 3 divergences after tuning. Increase `target_accept` or reparameterize.\n"
     ]
    }
   ],
   "source": [
    "with pm.Model() as rainfall_model:\n",
    "        \n",
    "    x = pm.MutableData('x', rain['november'].values)\n",
    "    y = pm.MutableData('y', rain['december'].values)\n",
    "    \n",
    "    # Priors\n",
    "    alpha = pm.Normal('alpha', mu=0.0, sigma=10.0)\n",
    "    beta = pm.Normal('beta', mu=0.0, sigma=10.0)\n",
    "    sigma = pm.HalfNormal('sigma', sigma=10.0)\n",
    "    \n",
    "    # Simple linear regression model (expected value)\n",
    "    mu = pm.Deterministic('mu', alpha + pm.math.dot(x, beta))\n",
    "    \n",
    "    # Likelihood\n",
    "    obs_y = pm.Normal('obs_y',\n",
    "                      mu=mu,\n",
    "                      sigma=sigma,\n",
    "                      observed=y)\n",
    "    \n",
    "    # Posterior distribution\n",
    "    trace = pm.sample(draws=2000, tune=1000)"
   ]
  },
  {
   "cell_type": "markdown",
   "id": "950b5c9a",
   "metadata": {},
   "source": [
    "**Predict**"
   ]
  },
  {
   "cell_type": "code",
   "execution_count": 141,
   "id": "9d377748",
   "metadata": {},
   "outputs": [
    {
     "name": "stderr",
     "output_type": "stream",
     "text": [
      "Sampling: [obs_y]\n"
     ]
    },
    {
     "data": {
      "text/html": [
       "\n",
       "<style>\n",
       "    /* Turns off some styling */\n",
       "    progress {\n",
       "        /* gets rid of default border in Firefox and Opera. */\n",
       "        border: none;\n",
       "        /* Needs to be in here for Safari polyfill so background images work as expected. */\n",
       "        background-size: auto;\n",
       "    }\n",
       "    progress:not([value]), progress:not([value])::-webkit-progress-bar {\n",
       "        background: repeating-linear-gradient(45deg, #7e7e7e, #7e7e7e 10px, #5c5c5c 10px, #5c5c5c 20px);\n",
       "    }\n",
       "    .progress-bar-interrupted, .progress-bar-interrupted::-webkit-progress-bar {\n",
       "        background: #F44336;\n",
       "    }\n",
       "</style>\n"
      ],
      "text/plain": [
       "<IPython.core.display.HTML object>"
      ]
     },
     "metadata": {},
     "output_type": "display_data"
    },
    {
     "data": {
      "text/html": [
       "\n",
       "    <div>\n",
       "      <progress value='8000' class='' max='8000' style='width:300px; height:20px; vertical-align: middle;'></progress>\n",
       "      100.00% [8000/8000 00:00&lt;00:00]\n",
       "    </div>\n",
       "    "
      ],
      "text/plain": [
       "<IPython.core.display.HTML object>"
      ]
     },
     "metadata": {},
     "output_type": "display_data"
    }
   ],
   "source": [
    "# Change the value of the input (november_c) to predict the output (december)\n",
    "# (based on this new value of the input)\n",
    "\n",
    "with rainfall_model:\n",
    "    pm.set_data({'x': [50.0]})\n",
    "    posterior_pred = pm.sample_posterior_predictive(trace)"
   ]
  },
  {
   "cell_type": "code",
   "execution_count": 142,
   "id": "b3c71bb5",
   "metadata": {},
   "outputs": [
    {
     "data": {
      "text/plain": [
       "array(31.93163124)"
      ]
     },
     "execution_count": 142,
     "metadata": {},
     "output_type": "execute_result"
    }
   ],
   "source": [
    "posterior_pred['posterior_predictive']['obs_y'].mean().values"
   ]
  },
  {
   "cell_type": "markdown",
   "id": "7a5e3206",
   "metadata": {},
   "source": [
    "- It seems that when the november rainfall measurement is 50, our Bayesian model predicts that the december rainfall measurement will be approximately 32."
   ]
  },
  {
   "cell_type": "code",
   "execution_count": 143,
   "id": "f5b446c8",
   "metadata": {},
   "outputs": [
    {
     "data": {
      "text/plain": [
       "array([-8.69729972, 70.10113896])"
      ]
     },
     "execution_count": 143,
     "metadata": {},
     "output_type": "execute_result"
    }
   ],
   "source": [
    "# 95% prediction interval\n",
    "posterior_pred['posterior_predictive']['obs_y'].quantile([0.025, 0.975]).values"
   ]
  },
  {
   "cell_type": "code",
   "execution_count": 165,
   "id": "b27a7b96",
   "metadata": {},
   "outputs": [
    {
     "data": {
      "text/plain": [
       "array([12.14297326, 51.04057651])"
      ]
     },
     "execution_count": 165,
     "metadata": {},
     "output_type": "execute_result"
    }
   ],
   "source": [
    "# 95% posterior interval for the expected value of the prediction\n",
    "E_pred = np.mean(posterior_pred['posterior_predictive']['obs_y'], axis=0)\n",
    "np.quantile(E_pred, [0.025, 0.975])"
   ]
  },
  {
   "cell_type": "code",
   "execution_count": 176,
   "id": "c5c8f75b",
   "metadata": {},
   "outputs": [
    {
     "data": {
      "text/plain": [
       "array(0.16490258)"
      ]
     },
     "execution_count": 176,
     "metadata": {},
     "output_type": "execute_result"
    }
   ],
   "source": [
    "trace['posterior']['beta'].mean().values"
   ]
  },
  {
   "cell_type": "markdown",
   "id": "a8c2c9d6",
   "metadata": {},
   "source": [
    "- A beta coefficient in a linear regression model represents the change in the dependent variable (in this case, December rainfall) associated with a one-unit increase in the independent variable (November rainfall).\n",
    "- Therefore, for one unit increase (i.e. one millimeter increase) in the rainfall measurement of november, the rainfall measurement of december is expected to  increase by approximately 0.165 millimeters."
   ]
  },
  {
   "cell_type": "markdown",
   "id": "1e8002f4",
   "metadata": {},
   "source": [
    "<br>"
   ]
  },
  {
   "cell_type": "markdown",
   "id": "bd2327e9",
   "metadata": {},
   "source": [
    "<br>"
   ]
  },
  {
   "cell_type": "markdown",
   "id": "c1771be9",
   "metadata": {},
   "source": [
    "<h3 align=\"left\">Task 4</h3>\n",
    "\n",
    "Let us examine a simple linear regression model\n",
    "\n",
    "$$ y_i = \\alpha \\, + \\beta_i  x_i \\, + \\, \\epsilon_i, \\quad \\epsilon_i \\sim N(0, \\sigma^2), \\quad i=1,...,n. $$\n",
    "\n",
    "Assume we have a response variable \"exam scores\" that can take values in the range of 0 to 24, and an explanatory variable \"demo points\" that can take values in the range of 0 to 6. Consider what kind of prior distributions you would set for the model parameters α, β, and σ in this case. Justify your choices in words and by simulating observations from the predictive prior distribution when x = 3."
   ]
  },
  {
   "cell_type": "markdown",
   "id": "639d0ed2",
   "metadata": {},
   "source": [
    "Since the values of the parameters $\\, \\alpha \\,$ and $\\, \\beta \\,$ can take only take values from a specified range, one can use the uniform distribution for the priors of $\\, \\alpha \\,$ and $\\, \\beta.$ Since it is not explicitly specified, I am assuming that exam scores and demo points are continuous variables and therefore I am going to use the [continuous uniform](https://www.pymc.io/projects/docs/en/stable/api/distributions/generated/pymc.Uniform.html) distribution of the PyMC library.\n",
    "\n",
    "As for $\\, \\sigma, \\,$ one can use the [HalfNormal](https://www.pymc.io/projects/docs/en/stable/api/distributions/generated/pymc.HalfNormal.html) distribution of the PyMC library, which essentially is the positive side of the normal distribution. The choice here becomes apparent since $\\, \\sigma \\,$ is defined as the square root of variance, and therefore can't take negative values."
   ]
  },
  {
   "cell_type": "markdown",
   "id": "b5ae1b42",
   "metadata": {},
   "source": [
    "**Fit the Bayesian regression model**"
   ]
  },
  {
   "cell_type": "code",
   "execution_count": 327,
   "id": "fd0a9054",
   "metadata": {},
   "outputs": [],
   "source": [
    "with pm.Model() as model:\n",
    "    \n",
    "    # Explanatory variable value\n",
    "    x = 3\n",
    "    \n",
    "    # Priors\n",
    "    alpha = pm.Uniform('alpha', lower=0, upper=24)\n",
    "    beta = pm.Uniform('beta', lower=0, upper=6)\n",
    "    sigma = pm.HalfNormal('sigma', sigma=10)\n",
    "    \n",
    "    # Expected value\n",
    "    mu = pm.Deterministic('mu', alpha + beta*x)\n",
    "    \n",
    "    # Likelihood\n",
    "    exam_scores = pm.TruncatedNormal('exam_scores', \n",
    "                                     mu=mu, \n",
    "                                     sigma=sigma,\n",
    "                                     lower=0,\n",
    "                                     upper=24)"
   ]
  },
  {
   "cell_type": "markdown",
   "id": "2b0b4cec",
   "metadata": {},
   "source": [
    "- Note that TruncatedNormal distribution samples from a normal distribution but truncates the samples to fall within a specified range (lower, upper).\n",
    "\n",
    "$\\quad \\quad \\boldsymbol{\\rightarrow} \\,$ Any samples that fall outside the specified range are rejected and resampled until they fall within the range."
   ]
  },
  {
   "cell_type": "code",
   "execution_count": 328,
   "id": "f890238a",
   "metadata": {},
   "outputs": [
    {
     "name": "stderr",
     "output_type": "stream",
     "text": [
      "Sampling: [alpha, beta, exam_scores, sigma]\n"
     ]
    }
   ],
   "source": [
    "# Sample from the prior distribution\n",
    "\n",
    "with model:\n",
    "    prior_obs = pm.sample_prior_predictive(samples=2000)"
   ]
  },
  {
   "cell_type": "code",
   "execution_count": 329,
   "id": "fd85cea8",
   "metadata": {},
   "outputs": [],
   "source": [
    "prior_predictive = prior_obs['prior']['exam_scores'].values.flatten()"
   ]
  },
  {
   "cell_type": "markdown",
   "id": "b50ac7ba",
   "metadata": {},
   "source": [
    "**Visualize the prior predictive distribution**"
   ]
  },
  {
   "cell_type": "code",
   "execution_count": 330,
   "id": "1a8513ef",
   "metadata": {},
   "outputs": [
    {
     "data": {
      "image/png": "[encoded data removed]",
      "text/plain": [
       "<Figure size 640x480 with 1 Axes>"
      ]
     },
     "metadata": {},
     "output_type": "display_data"
    }
   ],
   "source": [
    "plt.hist(prior_predictive, bins=20, edgecolor='black');\n",
    "plt.xlabel('Exam score', labelpad=15)\n",
    "plt.ylabel('Count', labelpad=15)\n",
    "plt.title('Distribution of simulated exam scores', size=13);"
   ]
  },
  {
   "cell_type": "markdown",
   "id": "46657800",
   "metadata": {},
   "source": [
    "<br>"
   ]
  },
  {
   "cell_type": "markdown",
   "id": "89f2a989",
   "metadata": {},
   "source": [
    "<br>"
   ]
  },
  {
   "cell_type": "markdown",
   "id": "d5ed3408",
   "metadata": {},
   "source": [
    "<h3 align=\"left\">Task 5</h3>\n",
    "\n",
    "Let's say that we have gathered the following data:\n",
    "\n",
    "| **Demo points** | **Exam score** |\n",
    "|-----------------:|------------:|\n",
    "|              6.0 |          15 |\n",
    "|              5.0 |          20 |\n",
    "|              6.0 |          16 |\n",
    "|              5.5 |          15 |\n",
    "|              5.5 |          14 |\n",
    "|              6.0 |          21 |\n",
    "|              6.0 |          24 |\n",
    "|              6.0 |          17 |\n",
    "|              0.0 |           7 |\n",
    "|              6.0 |          17 |\n",
    "|              3.0 |          13 |\n",
    "|              5.0 |          19 |\n",
    "|              4.0 |          14 |\n",
    "|              6.0 |          19 |\n",
    "|              4.0 |          11 |\n",
    "|              5.0 |           8 |\n",
    "|              5.5 |          11 |\n",
    "|              5.5 |          14 |\n",
    "|              2.5 |          12 |\n",
    "|              4.0 |           6 |\n",
    "|              0.0 |           5 |\n",
    "|              6.0 |          20 |\n",
    "|              0.0 |           4 |\n",
    "\n",
    "\n",
    "\n",
    "Fit the model described in the previous task (5) to the dataset, where the response variable is the exam score and the predictor variable is demo points, using the prior distributions chosen in the previous task (5). Interpret the results."
   ]
  },
  {
   "cell_type": "code",
   "execution_count": 292,
   "id": "9b1c4053",
   "metadata": {},
   "outputs": [
    {
     "data": {
      "text/html": [
       "<div>\n",
       "<style scoped>\n",
       "    .dataframe tbody tr th:only-of-type {\n",
       "        vertical-align: middle;\n",
       "    }\n",
       "\n",
       "    .dataframe tbody tr th {\n",
       "        vertical-align: top;\n",
       "    }\n",
       "\n",
       "    .dataframe thead th {\n",
       "        text-align: right;\n",
       "    }\n",
       "</style>\n",
       "<table border=\"1\" class=\"dataframe\">\n",
       "  <thead>\n",
       "    <tr style=\"text-align: right;\">\n",
       "      <th></th>\n",
       "      <th>demo_points</th>\n",
       "      <th>exam_score</th>\n",
       "    </tr>\n",
       "  </thead>\n",
       "  <tbody>\n",
       "    <tr>\n",
       "      <th>0</th>\n",
       "      <td>6.0</td>\n",
       "      <td>15</td>\n",
       "    </tr>\n",
       "    <tr>\n",
       "      <th>1</th>\n",
       "      <td>5.0</td>\n",
       "      <td>20</td>\n",
       "    </tr>\n",
       "    <tr>\n",
       "      <th>2</th>\n",
       "      <td>6.0</td>\n",
       "      <td>16</td>\n",
       "    </tr>\n",
       "    <tr>\n",
       "      <th>3</th>\n",
       "      <td>5.5</td>\n",
       "      <td>15</td>\n",
       "    </tr>\n",
       "    <tr>\n",
       "      <th>4</th>\n",
       "      <td>5.5</td>\n",
       "      <td>14</td>\n",
       "    </tr>\n",
       "  </tbody>\n",
       "</table>\n",
       "</div>"
      ],
      "text/plain": [
       "   demo_points  exam_score\n",
       "0          6.0          15\n",
       "1          5.0          20\n",
       "2          6.0          16\n",
       "3          5.5          15\n",
       "4          5.5          14"
      ]
     },
     "execution_count": 292,
     "metadata": {},
     "output_type": "execute_result"
    }
   ],
   "source": [
    "data = {'demo_points': [6,5,6,5.5,5.5,6,6,6,0,6,3,5,4,6,4,5,5.5,5.5,2.5,4,0,6,0],\n",
    "        'exam_score': [15,20,16,15,14,21,24,17,7,17,13,19,14,19,11,8,11,14,12,6,5,20,4]}\n",
    "        \n",
    "df = pd.DataFrame(data)\n",
    "df.head()"
   ]
  },
  {
   "cell_type": "markdown",
   "id": "1b60f4c6",
   "metadata": {},
   "source": [
    "**Visualize**"
   ]
  },
  {
   "cell_type": "code",
   "execution_count": 313,
   "id": "97f15793",
   "metadata": {},
   "outputs": [
    {
     "data": {
      "image/png": "[encoded data removed]",
      "text/plain": [
       "<Figure size 640x480 with 1 Axes>"
      ]
     },
     "metadata": {},
     "output_type": "display_data"
    }
   ],
   "source": [
    "plt.figure(dpi=100)\n",
    "sns.set_style('darkgrid')\n",
    "plt.scatter(df['demo_points'], df['exam_score'], color='black');\n",
    "plt.ylim(0, 25)\n",
    "plt.xlabel('Demo points', size=12, labelpad=15)\n",
    "plt.ylabel('Exam score', size=12, labelpad=15)\n",
    "plt.title('Exam score vs. demo points', size=15);"
   ]
  },
  {
   "cell_type": "markdown",
   "id": "dd8e7de7",
   "metadata": {},
   "source": [
    "**Fit the Bayesian regression model**"
   ]
  },
  {
   "cell_type": "code",
   "execution_count": 331,
   "id": "06df186f",
   "metadata": {},
   "outputs": [],
   "source": [
    "demo_points = df['demo_points'].values\n",
    "exam_score = df['exam_score'].values"
   ]
  },
  {
   "cell_type": "code",
   "execution_count": 350,
   "id": "683df7c9",
   "metadata": {},
   "outputs": [
    {
     "name": "stderr",
     "output_type": "stream",
     "text": [
      "Auto-assigning NUTS sampler...\n",
      "Initializing NUTS using jitter+adapt_diag...\n",
      "Multiprocess sampling (4 chains in 4 jobs)\n",
      "NUTS: [alpha, beta, sigma, exam_scores]\n"
     ]
    },
    {
     "data": {
      "text/html": [
       "\n",
       "<style>\n",
       "    /* Turns off some styling */\n",
       "    progress {\n",
       "        /* gets rid of default border in Firefox and Opera. */\n",
       "        border: none;\n",
       "        /* Needs to be in here for Safari polyfill so background images work as expected. */\n",
       "        background-size: auto;\n",
       "    }\n",
       "    progress:not([value]), progress:not([value])::-webkit-progress-bar {\n",
       "        background: repeating-linear-gradient(45deg, #7e7e7e, #7e7e7e 10px, #5c5c5c 10px, #5c5c5c 20px);\n",
       "    }\n",
       "    .progress-bar-interrupted, .progress-bar-interrupted::-webkit-progress-bar {\n",
       "        background: #F44336;\n",
       "    }\n",
       "</style>\n"
      ],
      "text/plain": [
       "<IPython.core.display.HTML object>"
      ]
     },
     "metadata": {},
     "output_type": "display_data"
    },
    {
     "data": {
      "text/html": [
       "\n",
       "    <div>\n",
       "      <progress value='8000' class='' max='8000' style='width:300px; height:20px; vertical-align: middle;'></progress>\n",
       "      100.00% [8000/8000 00:02&lt;00:00 Sampling 4 chains, 129 divergences]\n",
       "    </div>\n",
       "    "
      ],
      "text/plain": [
       "<IPython.core.display.HTML object>"
      ]
     },
     "metadata": {},
     "output_type": "display_data"
    },
    {
     "name": "stderr",
     "output_type": "stream",
     "text": [
      "Sampling 4 chains for 1_000 tune and 1_000 draw iterations (4_000 + 4_000 draws total) took 3 seconds.\n",
      "The rhat statistic is larger than 1.01 for some parameters. This indicates problems during sampling. See https://arxiv.org/abs/1903.08008 for details\n",
      "The effective sample size per chain is smaller than 100 for some parameters.  A higher number is needed for reliable rhat and ess computation. See https://arxiv.org/abs/1903.08008 for details\n",
      "There were 129 divergences after tuning. Increase `target_accept` or reparameterize.\n"
     ]
    }
   ],
   "source": [
    "with pm.Model() as exam_model:\n",
    "    \n",
    "    # Priors\n",
    "    alpha = pm.Uniform('alpha', lower=0, upper=24)\n",
    "    beta = pm.Uniform('beta', lower=0, upper=6)\n",
    "    sigma = pm.HalfNormal('sigma', sigma=10)\n",
    "    \n",
    "    mu = pm.Deterministic('mu', alpha + demo_points*beta)\n",
    "    \n",
    "    # Likelihood\n",
    "    exam_scores = pm.TruncatedNormal('exam_scores', \n",
    "                                     mu=mu, \n",
    "                                     sigma=sigma,\n",
    "                                     lower=0,\n",
    "                                     upper=24)\n",
    "    \n",
    "    trace = pm.sample(draws=1000, \n",
    "                      tune=1000, \n",
    "                      cores=4,\n",
    "                      compute_convergence_checks='none',\n",
    "                      discard_tuned_samples=True)"
   ]
  },
  {
   "cell_type": "code",
   "execution_count": 351,
   "id": "057feb5d",
   "metadata": {},
   "outputs": [
    {
     "data": {
      "text/plain": [
       "array(12.02149158)"
      ]
     },
     "execution_count": 351,
     "metadata": {},
     "output_type": "execute_result"
    }
   ],
   "source": [
    "# Intercept coefficient\n",
    "trace['posterior']['alpha'].mean().values"
   ]
  },
  {
   "cell_type": "markdown",
   "id": "099c9405",
   "metadata": {},
   "source": [
    "- When a person has zero demo points, their expected exam score is approximately 12.02."
   ]
  },
  {
   "cell_type": "code",
   "execution_count": 352,
   "id": "1919234b",
   "metadata": {},
   "outputs": [
    {
     "data": {
      "text/plain": [
       "array(3.05357774)"
      ]
     },
     "execution_count": 352,
     "metadata": {},
     "output_type": "execute_result"
    }
   ],
   "source": [
    "# Regression coefficient for demo_points\n",
    "trace['posterior']['beta'].mean().values"
   ]
  },
  {
   "cell_type": "markdown",
   "id": "285779df",
   "metadata": {},
   "source": [
    "- One unit increase in the explanatory variable (i.e. one more demo point) is associated with an increase of approximately 3 exam points."
   ]
  }
 ],
 "metadata": {
  "kernelspec": {
   "display_name": "Python 3 (ipykernel)",
   "language": "python",
   "name": "python3"
  },
  "language_info": {
   "codemirror_mode": {
    "name": "ipython",
    "version": 3
   },
   "file_extension": ".py",
   "mimetype": "text/x-python",
   "name": "python",
   "nbconvert_exporter": "python",
   "pygments_lexer": "ipython3",
   "version": "3.11.6"
  }
 },
 "nbformat": 4,
 "nbformat_minor": 5
}
