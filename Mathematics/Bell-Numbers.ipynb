{
 "cells": [
  {
   "cell_type": "markdown",
   "id": "36588e92",
   "metadata": {},
   "source": [
    "<h1 align=\"center\">Bell Numbers</h1>"
   ]
  },
  {
   "cell_type": "markdown",
   "id": "b18ab970",
   "metadata": {},
   "source": [
    "<br>"
   ]
  },
  {
   "cell_type": "markdown",
   "id": "37512853",
   "metadata": {},
   "source": [
    "Bell numbers represent the number of partitions of a set with n elements such that the number of partitions is not limited beforehand. \n",
    "\n",
    "\n",
    "The Bell number for a given n (denoted as $\\, B_n) \\,$ can be expressed as the sum of the Stirling numbers of the second kind $\\, S(n, m)$:\n",
    "\n",
    "$$ B_n = \\sum\\limits_{m=0}^{n} S(n, m), $$\n",
    "\n",
    "where\n",
    "\n",
    "$$ S(n, m) = \\frac{1}{m!} \\sum\\limits_{k=0}^{m} (-1)^k \\binom{m}{k} (m-k)^n. $$\n",
    "\n",
    "I am first going to make a function to calculate the Stirling numbers of the second kind, since as said before, the Bell number for a given n can be expressed as the sum of the Stirling numbers of the second kind. Before proceeding to make a function that calculates the Stirling number of the second kind, I am going to make two helper functions: factorial and n_choose_k."
   ]
  },
  {
   "cell_type": "code",
   "execution_count": 74,
   "id": "a66d77fc",
   "metadata": {},
   "outputs": [],
   "source": [
    "def factorial(n):\n",
    "    \"\"\"\n",
    "    Calculate the factorial of a non-negative integer n (without recursion).\n",
    "\n",
    "    Parameters:\n",
    "        n (int): The non-negative integer for which factorial is calculated.\n",
    "\n",
    "    Returns:\n",
    "        int: The factorial of n.\n",
    "    \"\"\"\n",
    "    fac = 1\n",
    "    while n > 0:\n",
    "        fac *= n\n",
    "        n -= 1\n",
    "    return fac"
   ]
  },
  {
   "cell_type": "code",
   "execution_count": 75,
   "id": "33046eb7",
   "metadata": {},
   "outputs": [],
   "source": [
    "def n_choose_k(n, k):\n",
    "    \"\"\"\n",
    "    Calculate the binomial coefficient C(n, k).\n",
    "    Note that we're going use the previously defined function \n",
    "    n_factorial as a helper function.\n",
    "    \n",
    "    Parameters:\n",
    "    n (int): Total number of items.\n",
    "    k (int): Number of items to choose.\n",
    "    \n",
    "    Returns:\n",
    "    int: Binomial coefficient C(n, k).\n",
    "    \"\"\"\n",
    "    nCk = factorial(n) / (factorial(n-k) * factorial(k))\n",
    "    return nCk"
   ]
  },
  {
   "cell_type": "code",
   "execution_count": 76,
   "id": "7e886c99",
   "metadata": {},
   "outputs": [],
   "source": [
    "def stirling_numbers(n, m):\n",
    "    \"\"\"\n",
    "    Calculate the Stirling numbers of the second kind, S(n, m).\n",
    "\n",
    "    The Stirling numbers of the second kind represent the number of ways to \n",
    "    partition a set {1,2,...,n} into exactly m non-empty subsets.\n",
    "\n",
    "    Parameters:\n",
    "    n (int): Total number of distinct objects.\n",
    "    m (int): Number of non-empty subsets.\n",
    "\n",
    "    Returns:\n",
    "    int: Stirling number S(n, m).\n",
    "    \"\"\"\n",
    "    stirling_num = 0.0\n",
    "    for k in range(m+1):\n",
    "        stirling_num += (-1)**k * n_choose_k(m, k) * (m-k)**n\n",
    "    \n",
    "    return (1/factorial(m)) * stirling_num"
   ]
  },
  {
   "cell_type": "code",
   "execution_count": 82,
   "id": "3c5594f7",
   "metadata": {},
   "outputs": [],
   "source": [
    "def bell_numbers(n):\n",
    "    \"\"\"\n",
    "    Calculate the Bell numbers.\n",
    "\n",
    "    Bell numbers represent the number of partitions of a set with n elements\n",
    "    such that the number of partitions is not limited beforehand.\n",
    "    \n",
    "    Bell numbers can be written \n",
    "\n",
    "    Parameters:\n",
    "    n (int): Total number of elements in the set.\n",
    "\n",
    "    Returns:\n",
    "    int: Bell number for n.\n",
    "    \"\"\"\n",
    "    bell_num = 0.0\n",
    "    for m in range(n+1):\n",
    "        bell_num += stirling_numbers(n, m)\n",
    "    return bell_num"
   ]
  },
  {
   "cell_type": "code",
   "execution_count": 83,
   "id": "f91cfb30",
   "metadata": {},
   "outputs": [
    {
     "data": {
      "text/plain": [
       "115975.0"
      ]
     },
     "execution_count": 83,
     "metadata": {},
     "output_type": "execute_result"
    }
   ],
   "source": [
    "bell_numbers(10)"
   ]
  }
 ],
 "metadata": {
  "kernelspec": {
   "display_name": "Python 3 (ipykernel)",
   "language": "python",
   "name": "python3"
  },
  "language_info": {
   "codemirror_mode": {
    "name": "ipython",
    "version": 3
   },
   "file_extension": ".py",
   "mimetype": "text/x-python",
   "name": "python",
   "nbconvert_exporter": "python",
   "pygments_lexer": "ipython3",
   "version": "3.11.6"
  }
 },
 "nbformat": 4,
 "nbformat_minor": 5
}
