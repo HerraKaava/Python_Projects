{
 "cells": [
  {
   "cell_type": "code",
   "execution_count": 1,
   "id": "663d7fbf",
   "metadata": {},
   "outputs": [],
   "source": [
    "import pandas as pd\n",
    "import numpy as np\n",
    "import matplotlib.pyplot as plt\n",
    "import seaborn as sns\n",
    "import scipy\n",
    "import statsmodels.formula.api as smf\n",
    "import random"
   ]
  },
  {
   "cell_type": "code",
   "execution_count": 4,
   "id": "fd3f4b0c",
   "metadata": {},
   "outputs": [],
   "source": [
    "sleep = pd.read_csv(\"/Users/herrakaava/Documents/school/sekamallit/week_2/sleep_study.csv\", index_col=0)"
   ]
  },
  {
   "cell_type": "code",
   "execution_count": 5,
   "id": "a9886f2a",
   "metadata": {},
   "outputs": [
    {
     "data": {
      "text/html": [
       "<div>\n",
       "<style scoped>\n",
       "    .dataframe tbody tr th:only-of-type {\n",
       "        vertical-align: middle;\n",
       "    }\n",
       "\n",
       "    .dataframe tbody tr th {\n",
       "        vertical-align: top;\n",
       "    }\n",
       "\n",
       "    .dataframe thead th {\n",
       "        text-align: right;\n",
       "    }\n",
       "</style>\n",
       "<table border=\"1\" class=\"dataframe\">\n",
       "  <thead>\n",
       "    <tr style=\"text-align: right;\">\n",
       "      <th></th>\n",
       "      <th>Reaction</th>\n",
       "      <th>Days</th>\n",
       "      <th>Subject</th>\n",
       "    </tr>\n",
       "  </thead>\n",
       "  <tbody>\n",
       "    <tr>\n",
       "      <th>1</th>\n",
       "      <td>249.5600</td>\n",
       "      <td>0</td>\n",
       "      <td>308</td>\n",
       "    </tr>\n",
       "    <tr>\n",
       "      <th>2</th>\n",
       "      <td>258.7047</td>\n",
       "      <td>1</td>\n",
       "      <td>308</td>\n",
       "    </tr>\n",
       "    <tr>\n",
       "      <th>3</th>\n",
       "      <td>250.8006</td>\n",
       "      <td>2</td>\n",
       "      <td>308</td>\n",
       "    </tr>\n",
       "    <tr>\n",
       "      <th>4</th>\n",
       "      <td>321.4398</td>\n",
       "      <td>3</td>\n",
       "      <td>308</td>\n",
       "    </tr>\n",
       "    <tr>\n",
       "      <th>5</th>\n",
       "      <td>356.8519</td>\n",
       "      <td>4</td>\n",
       "      <td>308</td>\n",
       "    </tr>\n",
       "  </tbody>\n",
       "</table>\n",
       "</div>"
      ],
      "text/plain": [
       "   Reaction  Days  Subject\n",
       "1  249.5600     0      308\n",
       "2  258.7047     1      308\n",
       "3  250.8006     2      308\n",
       "4  321.4398     3      308\n",
       "5  356.8519     4      308"
      ]
     },
     "execution_count": 5,
     "metadata": {},
     "output_type": "execute_result"
    }
   ],
   "source": [
    "sleep.head()"
   ]
  },
  {
   "cell_type": "code",
   "execution_count": 6,
   "id": "d1c1c647",
   "metadata": {},
   "outputs": [
    {
     "data": {
      "text/plain": [
       "(180, 3)"
      ]
     },
     "execution_count": 6,
     "metadata": {},
     "output_type": "execute_result"
    }
   ],
   "source": [
    "sleep.shape"
   ]
  },
  {
   "cell_type": "markdown",
   "id": "07d51e84",
   "metadata": {},
   "source": [
    "- 18 subjects, 10 measurements from each subject."
   ]
  },
  {
   "cell_type": "code",
   "execution_count": 7,
   "id": "d2ae72cd",
   "metadata": {},
   "outputs": [
    {
     "name": "stdout",
     "output_type": "stream",
     "text": [
      "<class 'pandas.core.frame.DataFrame'>\n",
      "Index: 180 entries, 1 to 180\n",
      "Data columns (total 3 columns):\n",
      " #   Column    Non-Null Count  Dtype  \n",
      "---  ------    --------------  -----  \n",
      " 0   Reaction  180 non-null    float64\n",
      " 1   Days      180 non-null    int64  \n",
      " 2   Subject   180 non-null    int64  \n",
      "dtypes: float64(1), int64(2)\n",
      "memory usage: 5.6 KB\n"
     ]
    }
   ],
   "source": [
    "sleep.info()"
   ]
  },
  {
   "cell_type": "code",
   "execution_count": 21,
   "id": "c259f666",
   "metadata": {},
   "outputs": [
    {
     "data": {
      "text/plain": [
       "Days\n",
       "0    18\n",
       "1    18\n",
       "2    18\n",
       "3    18\n",
       "4    18\n",
       "5    18\n",
       "6    18\n",
       "7    18\n",
       "8    18\n",
       "9    18\n",
       "Name: count, dtype: int64"
      ]
     },
     "execution_count": 21,
     "metadata": {},
     "output_type": "execute_result"
    }
   ],
   "source": [
    "sleep.loc[:, \"Days\"].value_counts()"
   ]
  },
  {
   "cell_type": "code",
   "execution_count": 22,
   "id": "d527fd8f",
   "metadata": {},
   "outputs": [
    {
     "data": {
      "text/plain": [
       "Subject\n",
       "308    10\n",
       "309    10\n",
       "371    10\n",
       "370    10\n",
       "369    10\n",
       "352    10\n",
       "351    10\n",
       "350    10\n",
       "349    10\n",
       "337    10\n",
       "335    10\n",
       "334    10\n",
       "333    10\n",
       "332    10\n",
       "331    10\n",
       "330    10\n",
       "310    10\n",
       "372    10\n",
       "Name: count, dtype: int64"
      ]
     },
     "execution_count": 22,
     "metadata": {},
     "output_type": "execute_result"
    }
   ],
   "source": [
    "sleep.loc[:, \"Subject\"].value_counts()"
   ]
  },
  {
   "cell_type": "code",
   "execution_count": 39,
   "id": "7ae7fc47",
   "metadata": {
    "scrolled": true
   },
   "outputs": [
    {
     "data": {
      "text/plain": [
       "Days  Subject\n",
       "0     308        1\n",
       "      309        1\n",
       "      310        1\n",
       "      330        1\n",
       "      331        1\n",
       "                ..\n",
       "9     352        1\n",
       "      369        1\n",
       "      370        1\n",
       "      371        1\n",
       "      372        1\n",
       "Name: count, Length: 180, dtype: int64"
      ]
     },
     "execution_count": 39,
     "metadata": {},
     "output_type": "execute_result"
    }
   ],
   "source": [
    "sleep.groupby(\"Days\")[\"Subject\"].value_counts()"
   ]
  },
  {
   "cell_type": "code",
   "execution_count": 41,
   "id": "6e5f48cd",
   "metadata": {},
   "outputs": [],
   "source": [
    "c = sleep.groupby(\"Days\")[\"Subject\"].value_counts().reset_index(name=\"Count\")"
   ]
  },
  {
   "cell_type": "code",
   "execution_count": 42,
   "id": "6505cdac",
   "metadata": {},
   "outputs": [
    {
     "data": {
      "text/html": [
       "<div>\n",
       "<style scoped>\n",
       "    .dataframe tbody tr th:only-of-type {\n",
       "        vertical-align: middle;\n",
       "    }\n",
       "\n",
       "    .dataframe tbody tr th {\n",
       "        vertical-align: top;\n",
       "    }\n",
       "\n",
       "    .dataframe thead th {\n",
       "        text-align: right;\n",
       "    }\n",
       "</style>\n",
       "<table border=\"1\" class=\"dataframe\">\n",
       "  <thead>\n",
       "    <tr style=\"text-align: right;\">\n",
       "      <th></th>\n",
       "      <th>Days</th>\n",
       "      <th>Subject</th>\n",
       "      <th>Count</th>\n",
       "    </tr>\n",
       "  </thead>\n",
       "  <tbody>\n",
       "    <tr>\n",
       "      <th>0</th>\n",
       "      <td>0</td>\n",
       "      <td>308</td>\n",
       "      <td>1</td>\n",
       "    </tr>\n",
       "    <tr>\n",
       "      <th>1</th>\n",
       "      <td>0</td>\n",
       "      <td>309</td>\n",
       "      <td>1</td>\n",
       "    </tr>\n",
       "    <tr>\n",
       "      <th>2</th>\n",
       "      <td>0</td>\n",
       "      <td>310</td>\n",
       "      <td>1</td>\n",
       "    </tr>\n",
       "    <tr>\n",
       "      <th>3</th>\n",
       "      <td>0</td>\n",
       "      <td>330</td>\n",
       "      <td>1</td>\n",
       "    </tr>\n",
       "    <tr>\n",
       "      <th>4</th>\n",
       "      <td>0</td>\n",
       "      <td>331</td>\n",
       "      <td>1</td>\n",
       "    </tr>\n",
       "    <tr>\n",
       "      <th>...</th>\n",
       "      <td>...</td>\n",
       "      <td>...</td>\n",
       "      <td>...</td>\n",
       "    </tr>\n",
       "    <tr>\n",
       "      <th>175</th>\n",
       "      <td>9</td>\n",
       "      <td>352</td>\n",
       "      <td>1</td>\n",
       "    </tr>\n",
       "    <tr>\n",
       "      <th>176</th>\n",
       "      <td>9</td>\n",
       "      <td>369</td>\n",
       "      <td>1</td>\n",
       "    </tr>\n",
       "    <tr>\n",
       "      <th>177</th>\n",
       "      <td>9</td>\n",
       "      <td>370</td>\n",
       "      <td>1</td>\n",
       "    </tr>\n",
       "    <tr>\n",
       "      <th>178</th>\n",
       "      <td>9</td>\n",
       "      <td>371</td>\n",
       "      <td>1</td>\n",
       "    </tr>\n",
       "    <tr>\n",
       "      <th>179</th>\n",
       "      <td>9</td>\n",
       "      <td>372</td>\n",
       "      <td>1</td>\n",
       "    </tr>\n",
       "  </tbody>\n",
       "</table>\n",
       "<p>180 rows × 3 columns</p>\n",
       "</div>"
      ],
      "text/plain": [
       "     Days  Subject  Count\n",
       "0       0      308      1\n",
       "1       0      309      1\n",
       "2       0      310      1\n",
       "3       0      330      1\n",
       "4       0      331      1\n",
       "..    ...      ...    ...\n",
       "175     9      352      1\n",
       "176     9      369      1\n",
       "177     9      370      1\n",
       "178     9      371      1\n",
       "179     9      372      1\n",
       "\n",
       "[180 rows x 3 columns]"
      ]
     },
     "execution_count": 42,
     "metadata": {},
     "output_type": "execute_result"
    }
   ],
   "source": [
    "c"
   ]
  },
  {
   "cell_type": "code",
   "execution_count": 45,
   "id": "36699767",
   "metadata": {},
   "outputs": [
    {
     "data": {
      "text/plain": [
       "True"
      ]
     },
     "execution_count": 45,
     "metadata": {},
     "output_type": "execute_result"
    }
   ],
   "source": [
    "(c[\"Count\"].values == 1).all()"
   ]
  },
  {
   "cell_type": "markdown",
   "id": "e94f0bab",
   "metadata": {},
   "source": [
    "- All 18 subjects had 1 measurement per day for 10 days."
   ]
  },
  {
   "cell_type": "markdown",
   "id": "db8628dd",
   "metadata": {},
   "source": [
    "<h3>Visualize</h3>"
   ]
  },
  {
   "cell_type": "code",
   "execution_count": 148,
   "id": "eadc8a0f",
   "metadata": {},
   "outputs": [],
   "source": [
    "def f(data):\n",
    "    unique_subjects = data[\"Subject\"].unique()    # Unique subjects\n",
    "    fig, ax = plt.subplots(figsize=(12,6), \n",
    "                           dpi=100, \n",
    "                           nrows=2, \n",
    "                           ncols=9,\n",
    "                           sharex=True,\n",
    "                           sharey=True)\n",
    "    ax = ax.ravel()\n",
    "    for i in range(unique_subjects.size):\n",
    "        # Filter data to contain only specific subject\n",
    "        subject_i = data[data[\"Subject\"] == unique_subjects[i]]\n",
    "        \n",
    "        # Best-fit line for the ith subject\n",
    "        fit_i = smf.ols(\"Reaction ~ Days\", data=subject_i).fit()\n",
    "        params = fit_i.params.values\n",
    "        \n",
    "        ax[i].plot(subject_i[\"Days\"].values, \n",
    "                   subject_i[\"Reaction\"].values, \n",
    "                   marker=\"o\", \n",
    "                   markerfacecolor=\"none\",\n",
    "                   linestyle=\"none\",\n",
    "                   color=\"black\")\n",
    "        ax[i].set_title(f\"{unique_subjects[i]}\")\n",
    "        ax[i].grid(True)\n",
    "        ax[i].set_xticks([0, 2, 4, 6, 8])\n",
    "        \n",
    "        # Plot best fit line of the ith subject\n",
    "        ax[i].plot(subject_i[\"Days\"].values, \n",
    "                   params[0] + subject_i[\"Days\"].values * params[1])\n",
    "        \n",
    "    plt.tight_layout()"
   ]
  },
  {
   "cell_type": "code",
   "execution_count": 149,
   "id": "9e0dd44d",
   "metadata": {},
   "outputs": [
    {
     "data": {
      "image/png": "[encoded data removed]",
      "text/plain": [
       "<Figure size 1200x600 with 18 Axes>"
      ]
     },
     "metadata": {},
     "output_type": "display_data"
    }
   ],
   "source": [
    "f(sleep)"
   ]
  },
  {
   "cell_type": "markdown",
   "id": "2bf53e34",
   "metadata": {},
   "source": [
    "- It seems that there is differences between the subjects in both the general level of reaction time (baseline, before the experiment started), and in the development of the slope of the best-fit line (some people are influenced by the sleep derivation more than others)."
   ]
  },
  {
   "cell_type": "markdown",
   "id": "b6e854d6",
   "metadata": {},
   "source": [
    "Let's define a random slope model:\n",
    "\n",
    "$$ \\large y_{ij} = (\\beta_0 \\, + \\, \\boldsymbol{b}_{i0}) \\, + \\, (\\beta_1 \\, + \\, \\boldsymbol{b}_{i1})j \\, + \\, \\epsilon_{ij}, $$\n",
    "\n",
    "where $\\, i \\in \\{1,...,18\\} \\,$ indexes the individuals, and $\\, j \\in \\{0,...,9\\} \\,$ corresponds to the measurement day."
   ]
  },
  {
   "cell_type": "markdown",
   "id": "74bcfcca",
   "metadata": {},
   "source": [
    "Fixed effects: $\\, \\beta_0, \\beta_1 \\,$\n",
    "\n",
    "Random effects: \n",
    "\n",
    "$$ \\large \\boldsymbol{b}_i = \\begin{pmatrix}\n",
    "b_{i0} \\\\\n",
    "b_{i1}\n",
    "\\end{pmatrix} \\sim N_2 \\left(\\boldsymbol{0}, \\begin{pmatrix}\n",
    "\\tau^2_0 & \\tau_{01} \\\\\n",
    "\\tau_{01} & \\tau^2_{1}\n",
    "\\end{pmatrix}\n",
    " \\right)\n",
    " $$\n",
    " \n",
    "The error terms $\\, \\epsilon_{ij} \\sim N(0, \\sigma^2). \\,$ \\\n",
    "The random variables $\\, \\boldsymbol{b}_i \\,$ and $\\, \\epsilon_{ij} \\,$ are assumed to be independent of each other."
   ]
  },
  {
   "cell_type": "markdown",
   "id": "5f2edbad",
   "metadata": {},
   "source": [
    "$\\large\\beta_0$:\n",
    "\n",
    "- $\\beta_0 \\,$ is the fixed intercept for the entire study population.\n",
    "- It represents the average intercept across all individuals in the study (study population intercept).\n",
    "\n",
    "$\\large\\beta_1$:\n",
    "\n",
    "- $\\beta_1 \\,$ represents the fixed effect of the time (measurement day) variable **j** on the response variable (reaction time).\n",
    "- $\\beta_1 \\,$ is the average rate rate of change in the reaction time per one unit increase in j (i.e., per measurement day) across all individuals.\n",
    "- Fixed slope of the time effect.\n",
    "- If $\\, \\beta_1 \\,$ is positively large, the best-fit lines in the graph above would be more vertically placed (i.e., the reaction times would get slower much more faster after each day).\n",
    "\n",
    "$\\large\\tau^2_0$:\n",
    "\n",
    "- $\\tau^2_0 \\,$ represents the **variance** of the random intercepts $\\, \\boldsymbol{b}_{i0}. \\,$\n",
    "- It describes the variability of the individual intercepts around the fixed intercept $\\, \\beta_0. \\,$\n",
    "- If $\\tau^2_0 \\,$ is large, then the intercepts in the graph above would spread further apart, indicating more variability in the individual intercepts. \n",
    "\n",
    "$\\large\\tau^2_1$:\n",
    "\n",
    "- $\\tau^2_1 \\,$ represents the **variance** of the random slopes $\\, \\boldsymbol{b}_{i1}. \\,$  \n",
    "- It describes the individual slopes around the (fixed) study population slope $\\, \\beta_1. \\,$\n",
    "- If $\\tau^2_1 \\,$ is close to zero, then the steepness (rate of change) of the best-fit lines would be consistent between the subjects.\n",
    "\n",
    "$\\large\\frac{\\tau_{01}}{\\tau_0 \\tau_1}$:\n",
    "\n",
    "- $\\tau_{01} \\,$ is the covariance between the random intercepts and random slopes.\n",
    "- $\\tau_0 \\,$ is the standard deviation of the random intercepts.\n",
    "- $\\tau_1 \\,$ is the standard devaition of the random slopes \\\n",
    "$\\, \\boldsymbol{\\rightarrow} \\, \\large\\frac{\\tau_{01}}{\\tau_0 \\tau_1} \\,$ is the correlation between the random intercepts $\\, \\boldsymbol{b}_{i0} \\,$ and the random slopes $\\, \\boldsymbol{b}_{i1}. \\,$\n",
    "- If the correlation is close to 1, it means that individuals whose baseline reaction time is higher, tend to also experience faster rate of increasing in the reaction time (i.e., those who had bad reaction times in the first place, tend to experience faster decrease in performance of reaction time compared to individuals who had better reaction time before the sleep deprivation).\n",
    "\n",
    "$\\large\\sigma^2$:\n",
    "\n",
    "- Variance of the residuals $\\, \\epsilon_{ij}, \\,$ which capture the variability **within** subjects (deviations of the observed data points $\\, y_{ij} \\,$ from the values predicted by the model for each individual).\n",
    "- It accounts for the random noise (errors) that is not explained neither by the fixed effects ($\\, \\beta_0, \\beta_1 \\,$) and the random effects ($\\, \\boldsymbol{b}_0, \\boldsymbol{b}_1$).\n",
    "- $\\sigma \\,$ provides a measure of how much the observed data points $\\, y_{ij} \\,$ deviate from the predicted values for each individual on average.\n",
    "- A small value of $\\, \\sigma \\,$ indicates that the model provides a good fit to the data."
   ]
  },
  {
   "cell_type": "markdown",
   "id": "e8cbb771",
   "metadata": {},
   "source": [
    "<h3>Task 4</h3>"
   ]
  },
  {
   "cell_type": "code",
   "execution_count": 22,
   "id": "50863919",
   "metadata": {},
   "outputs": [],
   "source": [
    "def sample_subjects(arr):\n",
    "    \"\"\"\n",
    "    Args:\n",
    "    arr -- a list containing the number of observations per subject.\n",
    "    \"\"\"\n",
    "    # df to store the data\n",
    "    my_data = pd.DataFrame()\n",
    "    # Create the observations for one subject at a time\n",
    "    for i in range(len(arr)):\n",
    "        n_i = arr[i]\n",
    "        rand_eff = np.random.normal(loc=0, scale=1, size=1)\n",
    "        y = rand_eff * np.repeat(a=1, repeats=n_i) + np.random.normal(loc=0, scale=1, size=n_i)\n",
    "        temp = pd.DataFrame({\n",
    "            \"response\": np.round(y, 2),\n",
    "            \"subject\": np.repeat(i+1, n_i)\n",
    "        })\n",
    "        my_data = pd.concat([my_data, temp], axis=0, ignore_index=True)\n",
    "    my_data[\"subject\"] = my_data[\"subject\"].astype(\"category\")\n",
    "    my_data.index += 1\n",
    "    return my_data"
   ]
  },
  {
   "cell_type": "markdown",
   "id": "a876e55f",
   "metadata": {},
   "source": [
    "**Equal number of observations per subject**"
   ]
  },
  {
   "cell_type": "code",
   "execution_count": 54,
   "id": "a02b14b8",
   "metadata": {},
   "outputs": [],
   "source": [
    "df_n_equal = sample_subjects([3, 3, 3, 3])"
   ]
  },
  {
   "cell_type": "code",
   "execution_count": 55,
   "id": "7145313c",
   "metadata": {},
   "outputs": [
    {
     "data": {
      "text/html": [
       "<div>\n",
       "<style scoped>\n",
       "    .dataframe tbody tr th:only-of-type {\n",
       "        vertical-align: middle;\n",
       "    }\n",
       "\n",
       "    .dataframe tbody tr th {\n",
       "        vertical-align: top;\n",
       "    }\n",
       "\n",
       "    .dataframe thead th {\n",
       "        text-align: right;\n",
       "    }\n",
       "</style>\n",
       "<table border=\"1\" class=\"dataframe\">\n",
       "  <thead>\n",
       "    <tr style=\"text-align: right;\">\n",
       "      <th></th>\n",
       "      <th>response</th>\n",
       "      <th>subject</th>\n",
       "    </tr>\n",
       "  </thead>\n",
       "  <tbody>\n",
       "    <tr>\n",
       "      <th>1</th>\n",
       "      <td>1.19</td>\n",
       "      <td>1</td>\n",
       "    </tr>\n",
       "    <tr>\n",
       "      <th>2</th>\n",
       "      <td>-0.07</td>\n",
       "      <td>1</td>\n",
       "    </tr>\n",
       "    <tr>\n",
       "      <th>3</th>\n",
       "      <td>-0.08</td>\n",
       "      <td>1</td>\n",
       "    </tr>\n",
       "    <tr>\n",
       "      <th>4</th>\n",
       "      <td>1.12</td>\n",
       "      <td>2</td>\n",
       "    </tr>\n",
       "    <tr>\n",
       "      <th>5</th>\n",
       "      <td>0.18</td>\n",
       "      <td>2</td>\n",
       "    </tr>\n",
       "    <tr>\n",
       "      <th>6</th>\n",
       "      <td>0.77</td>\n",
       "      <td>2</td>\n",
       "    </tr>\n",
       "    <tr>\n",
       "      <th>7</th>\n",
       "      <td>-0.89</td>\n",
       "      <td>3</td>\n",
       "    </tr>\n",
       "    <tr>\n",
       "      <th>8</th>\n",
       "      <td>-0.24</td>\n",
       "      <td>3</td>\n",
       "    </tr>\n",
       "    <tr>\n",
       "      <th>9</th>\n",
       "      <td>0.53</td>\n",
       "      <td>3</td>\n",
       "    </tr>\n",
       "    <tr>\n",
       "      <th>10</th>\n",
       "      <td>-0.14</td>\n",
       "      <td>4</td>\n",
       "    </tr>\n",
       "    <tr>\n",
       "      <th>11</th>\n",
       "      <td>-1.06</td>\n",
       "      <td>4</td>\n",
       "    </tr>\n",
       "    <tr>\n",
       "      <th>12</th>\n",
       "      <td>-1.15</td>\n",
       "      <td>4</td>\n",
       "    </tr>\n",
       "  </tbody>\n",
       "</table>\n",
       "</div>"
      ],
      "text/plain": [
       "    response subject\n",
       "1       1.19       1\n",
       "2      -0.07       1\n",
       "3      -0.08       1\n",
       "4       1.12       2\n",
       "5       0.18       2\n",
       "6       0.77       2\n",
       "7      -0.89       3\n",
       "8      -0.24       3\n",
       "9       0.53       3\n",
       "10     -0.14       4\n",
       "11     -1.06       4\n",
       "12     -1.15       4"
      ]
     },
     "execution_count": 55,
     "metadata": {},
     "output_type": "execute_result"
    }
   ],
   "source": [
    "df_n_equal"
   ]
  },
  {
   "cell_type": "code",
   "execution_count": 56,
   "id": "5d6d95c6",
   "metadata": {},
   "outputs": [],
   "source": [
    "def random_intercept_model(data):\n",
    "    model = smf.mixedlm(\"response ~ 1\",\n",
    "                        groups=data[\"subject\"],\n",
    "                        data=data).fit(reml=False)\n",
    "    print(model.summary())"
   ]
  },
  {
   "cell_type": "code",
   "execution_count": 57,
   "id": "32e2479d",
   "metadata": {},
   "outputs": [],
   "source": [
    "def REML_model(data):\n",
    "    model = smf.mixedlm(\"response ~ 1\",\n",
    "                        groups=data[\"subject\"],\n",
    "                        data=data).fit(reml=True)\n",
    "    print(model.summary())"
   ]
  },
  {
   "cell_type": "code",
   "execution_count": 58,
   "id": "8bdc382a",
   "metadata": {},
   "outputs": [
    {
     "name": "stdout",
     "output_type": "stream",
     "text": [
      "        Mixed Linear Model Regression Results\n",
      "======================================================\n",
      "Model:            MixedLM Dependent Variable: response\n",
      "No. Observations: 12      Method:             ML      \n",
      "No. Groups:       4       Scale:              0.3942  \n",
      "Min. group size:  3       Log-Likelihood:     -13.1735\n",
      "Max. group size:  3       Converged:          Yes     \n",
      "Mean group size:  3.0                                 \n",
      "------------------------------------------------------\n",
      "              Coef. Std.Err.   z   P>|z| [0.025 0.975]\n",
      "------------------------------------------------------\n",
      "Intercept     0.013    0.279 0.048 0.962 -0.534  0.561\n",
      "Group Var     0.181    0.431                          \n",
      "======================================================\n",
      "\n"
     ]
    }
   ],
   "source": [
    "random_intercept_model(df_n_equal)"
   ]
  },
  {
   "cell_type": "code",
   "execution_count": 59,
   "id": "1e4daf11",
   "metadata": {},
   "outputs": [
    {
     "name": "stdout",
     "output_type": "stream",
     "text": [
      "        Mixed Linear Model Regression Results\n",
      "======================================================\n",
      "Model:            MixedLM Dependent Variable: response\n",
      "No. Observations: 12      Method:             REML    \n",
      "No. Groups:       4       Scale:              0.3942  \n",
      "Min. group size:  3       Log-Likelihood:     -13.4611\n",
      "Max. group size:  3       Converged:          Yes     \n",
      "Mean group size:  3.0                                 \n",
      "------------------------------------------------------\n",
      "              Coef. Std.Err.   z   P>|z| [0.025 0.975]\n",
      "------------------------------------------------------\n",
      "Intercept     0.013    0.323 0.041 0.967 -0.619  0.646\n",
      "Group Var     0.285    0.635                          \n",
      "======================================================\n",
      "\n"
     ]
    }
   ],
   "source": [
    "REML_model(df_n_equal)"
   ]
  },
  {
   "cell_type": "markdown",
   "id": "c74cdba8",
   "metadata": {},
   "source": [
    "**Different number of observations per subject**"
   ]
  },
  {
   "cell_type": "code",
   "execution_count": 60,
   "id": "8b6821b0",
   "metadata": {},
   "outputs": [],
   "source": [
    "df_n_diff = sample_subjects([3, 6, 2, 4])"
   ]
  },
  {
   "cell_type": "code",
   "execution_count": 61,
   "id": "ee39f83a",
   "metadata": {},
   "outputs": [
    {
     "data": {
      "text/html": [
       "<div>\n",
       "<style scoped>\n",
       "    .dataframe tbody tr th:only-of-type {\n",
       "        vertical-align: middle;\n",
       "    }\n",
       "\n",
       "    .dataframe tbody tr th {\n",
       "        vertical-align: top;\n",
       "    }\n",
       "\n",
       "    .dataframe thead th {\n",
       "        text-align: right;\n",
       "    }\n",
       "</style>\n",
       "<table border=\"1\" class=\"dataframe\">\n",
       "  <thead>\n",
       "    <tr style=\"text-align: right;\">\n",
       "      <th></th>\n",
       "      <th>response</th>\n",
       "      <th>subject</th>\n",
       "    </tr>\n",
       "  </thead>\n",
       "  <tbody>\n",
       "    <tr>\n",
       "      <th>1</th>\n",
       "      <td>0.64</td>\n",
       "      <td>1</td>\n",
       "    </tr>\n",
       "    <tr>\n",
       "      <th>2</th>\n",
       "      <td>0.62</td>\n",
       "      <td>1</td>\n",
       "    </tr>\n",
       "    <tr>\n",
       "      <th>3</th>\n",
       "      <td>0.24</td>\n",
       "      <td>1</td>\n",
       "    </tr>\n",
       "    <tr>\n",
       "      <th>4</th>\n",
       "      <td>0.38</td>\n",
       "      <td>2</td>\n",
       "    </tr>\n",
       "    <tr>\n",
       "      <th>5</th>\n",
       "      <td>0.49</td>\n",
       "      <td>2</td>\n",
       "    </tr>\n",
       "    <tr>\n",
       "      <th>6</th>\n",
       "      <td>1.77</td>\n",
       "      <td>2</td>\n",
       "    </tr>\n",
       "    <tr>\n",
       "      <th>7</th>\n",
       "      <td>-0.25</td>\n",
       "      <td>2</td>\n",
       "    </tr>\n",
       "    <tr>\n",
       "      <th>8</th>\n",
       "      <td>0.95</td>\n",
       "      <td>2</td>\n",
       "    </tr>\n",
       "    <tr>\n",
       "      <th>9</th>\n",
       "      <td>0.11</td>\n",
       "      <td>2</td>\n",
       "    </tr>\n",
       "    <tr>\n",
       "      <th>10</th>\n",
       "      <td>0.74</td>\n",
       "      <td>3</td>\n",
       "    </tr>\n",
       "    <tr>\n",
       "      <th>11</th>\n",
       "      <td>-0.98</td>\n",
       "      <td>3</td>\n",
       "    </tr>\n",
       "    <tr>\n",
       "      <th>12</th>\n",
       "      <td>1.42</td>\n",
       "      <td>4</td>\n",
       "    </tr>\n",
       "    <tr>\n",
       "      <th>13</th>\n",
       "      <td>-1.43</td>\n",
       "      <td>4</td>\n",
       "    </tr>\n",
       "    <tr>\n",
       "      <th>14</th>\n",
       "      <td>-0.45</td>\n",
       "      <td>4</td>\n",
       "    </tr>\n",
       "    <tr>\n",
       "      <th>15</th>\n",
       "      <td>-1.80</td>\n",
       "      <td>4</td>\n",
       "    </tr>\n",
       "  </tbody>\n",
       "</table>\n",
       "</div>"
      ],
      "text/plain": [
       "    response subject\n",
       "1       0.64       1\n",
       "2       0.62       1\n",
       "3       0.24       1\n",
       "4       0.38       2\n",
       "5       0.49       2\n",
       "6       1.77       2\n",
       "7      -0.25       2\n",
       "8       0.95       2\n",
       "9       0.11       2\n",
       "10      0.74       3\n",
       "11     -0.98       3\n",
       "12      1.42       4\n",
       "13     -1.43       4\n",
       "14     -0.45       4\n",
       "15     -1.80       4"
      ]
     },
     "execution_count": 61,
     "metadata": {},
     "output_type": "execute_result"
    }
   ],
   "source": [
    "df_n_diff"
   ]
  },
  {
   "cell_type": "code",
   "execution_count": 63,
   "id": "2e851dd1",
   "metadata": {},
   "outputs": [
    {
     "name": "stdout",
     "output_type": "stream",
     "text": [
      "        Mixed Linear Model Regression Results\n",
      "======================================================\n",
      "Model:            MixedLM Dependent Variable: response\n",
      "No. Observations: 15      Method:             ML      \n",
      "No. Groups:       4       Scale:              0.8954  \n",
      "Min. group size:  2       Log-Likelihood:     -20.7253\n",
      "Max. group size:  6       Converged:          Yes     \n",
      "Mean group size:  3.8                                 \n",
      "------------------------------------------------------\n",
      "              Coef. Std.Err.   z   P>|z| [0.025 0.975]\n",
      "------------------------------------------------------\n",
      "Intercept     0.152    0.269 0.568 0.570 -0.374  0.679\n",
      "Group Var     0.035    0.209                          \n",
      "======================================================\n",
      "\n"
     ]
    }
   ],
   "source": [
    "random_intercept_model(df_n_diff)"
   ]
  },
  {
   "cell_type": "code",
   "execution_count": 62,
   "id": "9211cf05",
   "metadata": {},
   "outputs": [
    {
     "name": "stdout",
     "output_type": "stream",
     "text": [
      "        Mixed Linear Model Regression Results\n",
      "======================================================\n",
      "Model:            MixedLM Dependent Variable: response\n",
      "No. Observations: 15      Method:             REML    \n",
      "No. Groups:       4       Scale:              0.9058  \n",
      "Min. group size:  2       Log-Likelihood:     -21.0723\n",
      "Max. group size:  6       Converged:          Yes     \n",
      "Mean group size:  3.8                                 \n",
      "------------------------------------------------------\n",
      "              Coef. Std.Err.   z   P>|z| [0.025 0.975]\n",
      "------------------------------------------------------\n",
      "Intercept     0.138    0.306 0.452 0.651 -0.461  0.737\n",
      "Group Var     0.114    0.310                          \n",
      "======================================================\n",
      "\n"
     ]
    }
   ],
   "source": [
    "REML_model(df_n_diff)"
   ]
  },
  {
   "cell_type": "markdown",
   "id": "9116fe49",
   "metadata": {},
   "source": [
    "- $\\, \\boldsymbol{\\tau}^2 \\,$ (*Group Var* in the summary output) refers to the variance of the random effects (i.e., the variance between the groups (subjects in this case))"
   ]
  },
  {
   "cell_type": "markdown",
   "id": "48f7ff33",
   "metadata": {},
   "source": [
    "**Increase the number of observations within each group**"
   ]
  },
  {
   "cell_type": "code",
   "execution_count": 100,
   "id": "3a256132",
   "metadata": {},
   "outputs": [
    {
     "name": "stdout",
     "output_type": "stream",
     "text": [
      "            Mixed Linear Model Regression Results\n",
      "=============================================================\n",
      "Model:            MixedLM   Dependent Variable: response     \n",
      "No. Observations: 4000000   Method:             ML           \n",
      "No. Groups:       4         Scale:              0.9996       \n",
      "Min. group size:  1000000   Log-Likelihood:     -5674977.2533\n",
      "Max. group size:  1000000   Converged:          Yes          \n",
      "Mean group size:  1000000.0                                  \n",
      "--------------------------------------------------------------\n",
      "               Coef.   Std.Err.    z     P>|z|  [0.025  0.975]\n",
      "--------------------------------------------------------------\n",
      "Intercept      -0.027     0.500  -0.054  0.957  -1.007   0.953\n",
      "Group Var       1.000     1.130                               \n",
      "=============================================================\n",
      "\n"
     ]
    }
   ],
   "source": [
    "random_intercept_model(sample_subjects([1000000, 1000000, 1000000, 1000000]))"
   ]
  },
  {
   "cell_type": "code",
   "execution_count": 101,
   "id": "05222056",
   "metadata": {},
   "outputs": [
    {
     "name": "stdout",
     "output_type": "stream",
     "text": [
      "            Mixed Linear Model Regression Results\n",
      "=============================================================\n",
      "Model:            MixedLM   Dependent Variable: response     \n",
      "No. Observations: 4000000   Method:             REML         \n",
      "No. Groups:       4         Scale:              1.0001       \n",
      "Min. group size:  1000000   Log-Likelihood:     -5675947.5890\n",
      "Max. group size:  1000000   Converged:          Yes          \n",
      "Mean group size:  1000000.0                                  \n",
      "--------------------------------------------------------------\n",
      "               Coef.   Std.Err.    z     P>|z|  [0.025  0.975]\n",
      "--------------------------------------------------------------\n",
      "Intercept      -0.655     0.500  -1.310  0.190  -1.635   0.325\n",
      "Group Var       1.000                                         \n",
      "=============================================================\n",
      "\n"
     ]
    },
    {
     "name": "stderr",
     "output_type": "stream",
     "text": [
      "/Users/herrakaava/anaconda3/envs/sekamallit/lib/python3.12/site-packages/statsmodels/regression/mixed_linear_model.py:2261: ConvergenceWarning: The Hessian matrix at the estimated parameter values is not positive definite.\n",
      "  warnings.warn(msg, ConvergenceWarning)\n"
     ]
    }
   ],
   "source": [
    "REML_model(sample_subjects([1000000, 1000000, 1000000, 1000000]))"
   ]
  }
 ],
 "metadata": {
  "kernelspec": {
   "display_name": "Python 3 (ipykernel)",
   "language": "python",
   "name": "python3"
  },
  "language_info": {
   "codemirror_mode": {
    "name": "ipython",
    "version": 3
   },
   "file_extension": ".py",
   "mimetype": "text/x-python",
   "name": "python",
   "nbconvert_exporter": "python",
   "pygments_lexer": "ipython3",
   "version": "3.12.5"
  }
 },
 "nbformat": 4,
 "nbformat_minor": 5
}
