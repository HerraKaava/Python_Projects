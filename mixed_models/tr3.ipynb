{
 "cells": [
  {
   "cell_type": "code",
   "execution_count": 1,
   "id": "3788d621",
   "metadata": {},
   "outputs": [],
   "source": [
    "import numpy as np\n",
    "import pandas as pd\n",
    "import seaborn as sns\n",
    "import matplotlib.pyplot as plt\n",
    "import statsmodels.formula.api as smf"
   ]
  },
  {
   "cell_type": "markdown",
   "id": "09fd35ab",
   "metadata": {},
   "source": [
    "<h3>Task 1</h3>"
   ]
  },
  {
   "cell_type": "code",
   "execution_count": 4,
   "id": "fed0f86f",
   "metadata": {},
   "outputs": [],
   "source": [
    "gun = pd.read_csv(\"/Users/herrakaava/Documents/school/sekamallit/week_3/Gun.csv\", index_col=0)"
   ]
  },
  {
   "cell_type": "markdown",
   "id": "ff67696e",
   "metadata": {},
   "source": [
    "Gun-aineisto sisältää kokeen tulokset, jossa verrattiin kahta eri tapaa (*Method*) ampua tykillä. Testaajina toimi 9 eri ryhmää (*Team*), joista jokainen yksittäinen ryhmä sisälsi ruumiinrakenteeltaan (*Physique*) samankaltaisia jäseniä. Kukin ryhmä testasi molempia ampumatapoja kahdesti. Vasteena on laukausten määrä minuutissa (*rounds*).\n",
    "\n",
    "Tutkimuskysymyksinä ovat:\n",
    "\n",
    "- Onko ampumistavoissa eroa?\n",
    "- Onko ryhmän ruumiinrakenteella merkitystä ampumisnopeuteen?\n",
    "\n",
    "Testiin valikoituneet ryhmät eivät ole itsessään mielenkiintoisia, eli mallinnetaan ryhmän vaikutusta satunnaistekijällä. Otetaan kiinteiksi vaikutuksiksi ampumatapa sekä ruumiinrakennee. Yksinkertaisuuden vuoksi otetaan malliin mukaan vain päävaikutuksia."
   ]
  },
  {
   "cell_type": "code",
   "execution_count": 5,
   "id": "58afcf4f",
   "metadata": {},
   "outputs": [
    {
     "data": {
      "text/html": [
       "<div>\n",
       "<style scoped>\n",
       "    .dataframe tbody tr th:only-of-type {\n",
       "        vertical-align: middle;\n",
       "    }\n",
       "\n",
       "    .dataframe tbody tr th {\n",
       "        vertical-align: top;\n",
       "    }\n",
       "\n",
       "    .dataframe thead th {\n",
       "        text-align: right;\n",
       "    }\n",
       "</style>\n",
       "<table border=\"1\" class=\"dataframe\">\n",
       "  <thead>\n",
       "    <tr style=\"text-align: right;\">\n",
       "      <th></th>\n",
       "      <th>rounds</th>\n",
       "      <th>Method</th>\n",
       "      <th>Team</th>\n",
       "      <th>Physique</th>\n",
       "    </tr>\n",
       "  </thead>\n",
       "  <tbody>\n",
       "    <tr>\n",
       "      <th>1</th>\n",
       "      <td>20.2</td>\n",
       "      <td>M1</td>\n",
       "      <td>T1S</td>\n",
       "      <td>Slight</td>\n",
       "    </tr>\n",
       "    <tr>\n",
       "      <th>2</th>\n",
       "      <td>14.2</td>\n",
       "      <td>M2</td>\n",
       "      <td>T1S</td>\n",
       "      <td>Slight</td>\n",
       "    </tr>\n",
       "    <tr>\n",
       "      <th>3</th>\n",
       "      <td>22.0</td>\n",
       "      <td>M1</td>\n",
       "      <td>T1A</td>\n",
       "      <td>Average</td>\n",
       "    </tr>\n",
       "    <tr>\n",
       "      <th>4</th>\n",
       "      <td>14.1</td>\n",
       "      <td>M2</td>\n",
       "      <td>T1A</td>\n",
       "      <td>Average</td>\n",
       "    </tr>\n",
       "    <tr>\n",
       "      <th>5</th>\n",
       "      <td>23.1</td>\n",
       "      <td>M1</td>\n",
       "      <td>T1H</td>\n",
       "      <td>Heavy</td>\n",
       "    </tr>\n",
       "  </tbody>\n",
       "</table>\n",
       "</div>"
      ],
      "text/plain": [
       "   rounds Method Team Physique\n",
       "1    20.2     M1  T1S   Slight\n",
       "2    14.2     M2  T1S   Slight\n",
       "3    22.0     M1  T1A  Average\n",
       "4    14.1     M2  T1A  Average\n",
       "5    23.1     M1  T1H    Heavy"
      ]
     },
     "execution_count": 5,
     "metadata": {},
     "output_type": "execute_result"
    }
   ],
   "source": [
    "gun.head()"
   ]
  },
  {
   "cell_type": "code",
   "execution_count": 6,
   "id": "52b2ed53",
   "metadata": {},
   "outputs": [
    {
     "data": {
      "text/plain": [
       "(36, 4)"
      ]
     },
     "execution_count": 6,
     "metadata": {},
     "output_type": "execute_result"
    }
   ],
   "source": [
    "gun.shape"
   ]
  },
  {
   "cell_type": "code",
   "execution_count": 7,
   "id": "a614f655",
   "metadata": {},
   "outputs": [
    {
     "name": "stdout",
     "output_type": "stream",
     "text": [
      "<class 'pandas.core.frame.DataFrame'>\n",
      "Index: 36 entries, 1 to 36\n",
      "Data columns (total 4 columns):\n",
      " #   Column    Non-Null Count  Dtype  \n",
      "---  ------    --------------  -----  \n",
      " 0   rounds    36 non-null     float64\n",
      " 1   Method    36 non-null     object \n",
      " 2   Team      36 non-null     object \n",
      " 3   Physique  36 non-null     object \n",
      "dtypes: float64(1), object(3)\n",
      "memory usage: 1.4+ KB\n"
     ]
    }
   ],
   "source": [
    "gun.info()"
   ]
  },
  {
   "cell_type": "code",
   "execution_count": 8,
   "id": "df039865",
   "metadata": {},
   "outputs": [
    {
     "name": "stdout",
     "output_type": "stream",
     "text": [
      "[12.2, 26.9]\n"
     ]
    }
   ],
   "source": [
    "# Range of the response\n",
    "print(f\"[{np.min(gun[\"rounds\"])}, {np.max(gun[\"rounds\"])}]\")"
   ]
  },
  {
   "cell_type": "code",
   "execution_count": 22,
   "id": "69363d39",
   "metadata": {},
   "outputs": [],
   "source": [
    "def unique_groups(data):\n",
    "    print(f\"Unique groups of 'Methods': {list(gun[\"Method\"].unique())}\")\n",
    "    print(f\"Unique groups of 'Teams': {list(gun[\"Team\"].unique())}\")\n",
    "    print(f\"Unique groups of 'Physique': {list(gun[\"Physique\"].unique())}\")"
   ]
  },
  {
   "cell_type": "code",
   "execution_count": 23,
   "id": "2d587648",
   "metadata": {},
   "outputs": [
    {
     "name": "stdout",
     "output_type": "stream",
     "text": [
      "Unique groups of 'Methods': ['M1', 'M2']\n",
      "Unique groups of 'Teams': ['T1S', 'T1A', 'T1H', 'T2S', 'T2A', 'T2H', 'T3S', 'T3A', 'T3H']\n",
      "Unique groups of 'Physique': ['Slight', 'Average', 'Heavy']\n"
     ]
    }
   ],
   "source": [
    "unique_groups(gun)"
   ]
  },
  {
   "cell_type": "markdown",
   "id": "550afc12",
   "metadata": {},
   "source": [
    "<h3>Visuals</h3>"
   ]
  },
  {
   "cell_type": "code",
   "execution_count": 58,
   "id": "5efa0609",
   "metadata": {},
   "outputs": [],
   "source": [
    "def violin(data):\n",
    "    fig, ax = plt.subplots(figsize=(8,6), dpi=100)\n",
    "    sns.violinplot(x=\"Method\", y=\"rounds\", hue=\"Physique\", data=data, zorder=2)\n",
    "    plt.grid(True, zorder=1, alpha=0.5)"
   ]
  },
  {
   "cell_type": "code",
   "execution_count": 59,
   "id": "b5d6b838",
   "metadata": {},
   "outputs": [
    {
     "data": {
      "image/png": "[encoded data removed]",
      "text/plain": [
       "<Figure size 800x600 with 1 Axes>"
      ]
     },
     "metadata": {},
     "output_type": "display_data"
    }
   ],
   "source": [
    "violin(gun)"
   ]
  },
  {
   "cell_type": "code",
   "execution_count": 60,
   "id": "010d0e62",
   "metadata": {},
   "outputs": [],
   "source": [
    "def box(data):\n",
    "    fig, ax = plt.subplots(figsize=(8,6), dpi=100)\n",
    "    sns.boxplot(x=\"Method\", y=\"rounds\", hue=\"Physique\", data=data, zorder=2)\n",
    "    plt.grid(True, zorder=1, alpha=0.5)"
   ]
  },
  {
   "cell_type": "code",
   "execution_count": 61,
   "id": "d6367126",
   "metadata": {
    "scrolled": false
   },
   "outputs": [
    {
     "data": {
      "image/png": "[encoded data removed]",
      "text/plain": [
       "<Figure size 800x600 with 1 Axes>"
      ]
     },
     "metadata": {},
     "output_type": "display_data"
    }
   ],
   "source": [
    "box(gun)"
   ]
  },
  {
   "cell_type": "markdown",
   "id": "bdcfad77",
   "metadata": {},
   "source": [
    "<h3>Model equation</h3>"
   ]
  },
  {
   "cell_type": "markdown",
   "id": "67a26dd7",
   "metadata": {},
   "source": [
    "Let's write the model equation for the response $\\, \\large y_{ijkl}, \\,$ where $\\, \\text{i}=1,2,3 \\,$ and $\\, \\text{j}=\\text{S, A, H} \\,$ together index the groups, $\\, \\text{k}=1,2 \\,$ indexes the Method, and $\\, l=1,2 \\,$ indexes the repetitions (of the different shooting Methods)."
   ]
  },
  {
   "cell_type": "markdown",
   "id": "df1b2bc7",
   "metadata": {},
   "source": [
    "\\begin{equation*}\n",
    "    \\large y_{ijkl} = \\mu \\, + \\, \\beta_{1k} \\, + \\, \\beta_{2j} \\, + \\, b_{ij} \\, + \\, \\epsilon_{ijkl},\n",
    "\\end{equation*}\n",
    "\n",
    "where\n",
    "\n",
    "- $\\mu \\,$ is the average rounds per minute (chosen from a random team, with a random physique, with a random method and from a random repetition).\n",
    "\n",
    "- $\\beta_{1k} \\,$ is the fixed effect for the *k*th method.\n",
    "\n",
    "- $\\beta_{2j} \\,$ is the fixed effect for *j*th physique.\n",
    "\n",
    "- $b_{ij} \\sim N(0, \\tau^2) \\,$ is the random effect for the *ij*th team. The teams are modeled as random effects, meaning that we are interested in capturing the variability between different teams but not estiating specific differences between individual teams.\n",
    "\n",
    "- $\\epsilon_{ijkl} \\sim N(0, \\sigma^2) \\,$ is the residual error containing the within-team variation not explained by the fixed effect or the random effects.\n",
    "\n",
    "- The random variables $\\, b_{ij} \\,$ and $\\, \\epsilon_{ijk} \\,$ are assumed to be independent of each other."
   ]
  },
  {
   "cell_type": "markdown",
   "id": "a8235694",
   "metadata": {},
   "source": [
    "<h3>Task 3</h3>"
   ]
  },
  {
   "cell_type": "code",
   "execution_count": 2,
   "id": "c57a0bbb",
   "metadata": {},
   "outputs": [],
   "source": [
    "df = pd.read_csv(\"/Users/herrakaava/Documents/school/sekamallit/week_3/Machines.csv\", index_col=0)"
   ]
  },
  {
   "cell_type": "markdown",
   "id": "f283cd76",
   "metadata": {},
   "source": [
    "- Tietyn tehtaan työntekijöistä (*Worker*) valittiin satunnaisesti kuusi.\n",
    "- Kukin työntekijä suoritti tietyn työtehtävän kolmella eri koneella (*Machine*) (*A, B, C*) tehden kolme toistoa kullakin.\n",
    "- Joka suorituskerralta mitattiin \"tuottavuuspistemäärä\" (*score*)."
   ]
  },
  {
   "cell_type": "code",
   "execution_count": 3,
   "id": "f641eb76",
   "metadata": {},
   "outputs": [
    {
     "data": {
      "text/html": [
       "<div>\n",
       "<style scoped>\n",
       "    .dataframe tbody tr th:only-of-type {\n",
       "        vertical-align: middle;\n",
       "    }\n",
       "\n",
       "    .dataframe tbody tr th {\n",
       "        vertical-align: top;\n",
       "    }\n",
       "\n",
       "    .dataframe thead th {\n",
       "        text-align: right;\n",
       "    }\n",
       "</style>\n",
       "<table border=\"1\" class=\"dataframe\">\n",
       "  <thead>\n",
       "    <tr style=\"text-align: right;\">\n",
       "      <th></th>\n",
       "      <th>Worker</th>\n",
       "      <th>Machine</th>\n",
       "      <th>score</th>\n",
       "    </tr>\n",
       "  </thead>\n",
       "  <tbody>\n",
       "    <tr>\n",
       "      <th>1</th>\n",
       "      <td>1</td>\n",
       "      <td>A</td>\n",
       "      <td>52.0</td>\n",
       "    </tr>\n",
       "    <tr>\n",
       "      <th>2</th>\n",
       "      <td>1</td>\n",
       "      <td>A</td>\n",
       "      <td>52.8</td>\n",
       "    </tr>\n",
       "    <tr>\n",
       "      <th>3</th>\n",
       "      <td>1</td>\n",
       "      <td>A</td>\n",
       "      <td>53.1</td>\n",
       "    </tr>\n",
       "    <tr>\n",
       "      <th>4</th>\n",
       "      <td>2</td>\n",
       "      <td>A</td>\n",
       "      <td>51.8</td>\n",
       "    </tr>\n",
       "    <tr>\n",
       "      <th>5</th>\n",
       "      <td>2</td>\n",
       "      <td>A</td>\n",
       "      <td>52.8</td>\n",
       "    </tr>\n",
       "  </tbody>\n",
       "</table>\n",
       "</div>"
      ],
      "text/plain": [
       "   Worker Machine  score\n",
       "1       1       A   52.0\n",
       "2       1       A   52.8\n",
       "3       1       A   53.1\n",
       "4       2       A   51.8\n",
       "5       2       A   52.8"
      ]
     },
     "execution_count": 3,
     "metadata": {},
     "output_type": "execute_result"
    }
   ],
   "source": [
    "df.head()"
   ]
  },
  {
   "cell_type": "code",
   "execution_count": 4,
   "id": "99728d3c",
   "metadata": {},
   "outputs": [
    {
     "data": {
      "text/plain": [
       "(54, 3)"
      ]
     },
     "execution_count": 4,
     "metadata": {},
     "output_type": "execute_result"
    }
   ],
   "source": [
    "df.shape"
   ]
  },
  {
   "cell_type": "code",
   "execution_count": 5,
   "id": "cbd5f420",
   "metadata": {},
   "outputs": [
    {
     "name": "stdout",
     "output_type": "stream",
     "text": [
      "<class 'pandas.core.frame.DataFrame'>\n",
      "Index: 54 entries, 1 to 54\n",
      "Data columns (total 3 columns):\n",
      " #   Column   Non-Null Count  Dtype  \n",
      "---  ------   --------------  -----  \n",
      " 0   Worker   54 non-null     int64  \n",
      " 1   Machine  54 non-null     object \n",
      " 2   score    54 non-null     float64\n",
      "dtypes: float64(1), int64(1), object(1)\n",
      "memory usage: 1.7+ KB\n"
     ]
    }
   ],
   "source": [
    "df.info()"
   ]
  },
  {
   "cell_type": "code",
   "execution_count": 6,
   "id": "075e7fd3",
   "metadata": {},
   "outputs": [
    {
     "name": "stdout",
     "output_type": "stream",
     "text": [
      "[43.0, 72.1]\n"
     ]
    }
   ],
   "source": [
    "# The range of the response\n",
    "print(f\"[{np.min(df[\"score\"])}, {np.max(df[\"score\"])}]\")"
   ]
  },
  {
   "cell_type": "code",
   "execution_count": 7,
   "id": "bf0faa30",
   "metadata": {},
   "outputs": [
    {
     "data": {
      "text/plain": [
       "[1, 2, 3, 4, 5, 6]"
      ]
     },
     "execution_count": 7,
     "metadata": {},
     "output_type": "execute_result"
    }
   ],
   "source": [
    "# Unique workers\n",
    "list(df[\"Worker\"].unique())"
   ]
  },
  {
   "cell_type": "code",
   "execution_count": 8,
   "id": "b6a53d99",
   "metadata": {},
   "outputs": [
    {
     "data": {
      "text/plain": [
       "['A', 'B', 'C']"
      ]
     },
     "execution_count": 8,
     "metadata": {},
     "output_type": "execute_result"
    }
   ],
   "source": [
    "# Unique machines\n",
    "list(df[\"Machine\"].unique())"
   ]
  },
  {
   "cell_type": "code",
   "execution_count": 9,
   "id": "cdc7f24c",
   "metadata": {},
   "outputs": [
    {
     "data": {
      "text/html": [
       "<div>\n",
       "<style scoped>\n",
       "    .dataframe tbody tr th:only-of-type {\n",
       "        vertical-align: middle;\n",
       "    }\n",
       "\n",
       "    .dataframe tbody tr th {\n",
       "        vertical-align: top;\n",
       "    }\n",
       "\n",
       "    .dataframe thead th {\n",
       "        text-align: right;\n",
       "    }\n",
       "</style>\n",
       "<table border=\"1\" class=\"dataframe\">\n",
       "  <thead>\n",
       "    <tr style=\"text-align: right;\">\n",
       "      <th></th>\n",
       "      <th></th>\n",
       "      <th>score</th>\n",
       "    </tr>\n",
       "    <tr>\n",
       "      <th>Worker</th>\n",
       "      <th>Machine</th>\n",
       "      <th></th>\n",
       "    </tr>\n",
       "  </thead>\n",
       "  <tbody>\n",
       "    <tr>\n",
       "      <th rowspan=\"3\" valign=\"top\">1</th>\n",
       "      <th>A</th>\n",
       "      <td>3</td>\n",
       "    </tr>\n",
       "    <tr>\n",
       "      <th>B</th>\n",
       "      <td>3</td>\n",
       "    </tr>\n",
       "    <tr>\n",
       "      <th>C</th>\n",
       "      <td>3</td>\n",
       "    </tr>\n",
       "    <tr>\n",
       "      <th rowspan=\"3\" valign=\"top\">2</th>\n",
       "      <th>A</th>\n",
       "      <td>3</td>\n",
       "    </tr>\n",
       "    <tr>\n",
       "      <th>B</th>\n",
       "      <td>3</td>\n",
       "    </tr>\n",
       "    <tr>\n",
       "      <th>C</th>\n",
       "      <td>3</td>\n",
       "    </tr>\n",
       "    <tr>\n",
       "      <th rowspan=\"3\" valign=\"top\">3</th>\n",
       "      <th>A</th>\n",
       "      <td>3</td>\n",
       "    </tr>\n",
       "    <tr>\n",
       "      <th>B</th>\n",
       "      <td>3</td>\n",
       "    </tr>\n",
       "    <tr>\n",
       "      <th>C</th>\n",
       "      <td>3</td>\n",
       "    </tr>\n",
       "    <tr>\n",
       "      <th rowspan=\"3\" valign=\"top\">4</th>\n",
       "      <th>A</th>\n",
       "      <td>3</td>\n",
       "    </tr>\n",
       "    <tr>\n",
       "      <th>B</th>\n",
       "      <td>3</td>\n",
       "    </tr>\n",
       "    <tr>\n",
       "      <th>C</th>\n",
       "      <td>3</td>\n",
       "    </tr>\n",
       "    <tr>\n",
       "      <th rowspan=\"3\" valign=\"top\">5</th>\n",
       "      <th>A</th>\n",
       "      <td>3</td>\n",
       "    </tr>\n",
       "    <tr>\n",
       "      <th>B</th>\n",
       "      <td>3</td>\n",
       "    </tr>\n",
       "    <tr>\n",
       "      <th>C</th>\n",
       "      <td>3</td>\n",
       "    </tr>\n",
       "    <tr>\n",
       "      <th rowspan=\"3\" valign=\"top\">6</th>\n",
       "      <th>A</th>\n",
       "      <td>3</td>\n",
       "    </tr>\n",
       "    <tr>\n",
       "      <th>B</th>\n",
       "      <td>3</td>\n",
       "    </tr>\n",
       "    <tr>\n",
       "      <th>C</th>\n",
       "      <td>3</td>\n",
       "    </tr>\n",
       "  </tbody>\n",
       "</table>\n",
       "</div>"
      ],
      "text/plain": [
       "                score\n",
       "Worker Machine       \n",
       "1      A            3\n",
       "       B            3\n",
       "       C            3\n",
       "2      A            3\n",
       "       B            3\n",
       "       C            3\n",
       "3      A            3\n",
       "       B            3\n",
       "       C            3\n",
       "4      A            3\n",
       "       B            3\n",
       "       C            3\n",
       "5      A            3\n",
       "       B            3\n",
       "       C            3\n",
       "6      A            3\n",
       "       B            3\n",
       "       C            3"
      ]
     },
     "execution_count": 9,
     "metadata": {},
     "output_type": "execute_result"
    }
   ],
   "source": [
    "df.groupby([\"Worker\", \"Machine\"]).count()"
   ]
  },
  {
   "cell_type": "code",
   "execution_count": 10,
   "id": "9e16dc39",
   "metadata": {},
   "outputs": [
    {
     "data": {
      "text/html": [
       "<div>\n",
       "<style scoped>\n",
       "    .dataframe tbody tr th:only-of-type {\n",
       "        vertical-align: middle;\n",
       "    }\n",
       "\n",
       "    .dataframe tbody tr th {\n",
       "        vertical-align: top;\n",
       "    }\n",
       "\n",
       "    .dataframe thead th {\n",
       "        text-align: right;\n",
       "    }\n",
       "</style>\n",
       "<table border=\"1\" class=\"dataframe\">\n",
       "  <thead>\n",
       "    <tr style=\"text-align: right;\">\n",
       "      <th></th>\n",
       "      <th></th>\n",
       "      <th>score</th>\n",
       "    </tr>\n",
       "    <tr>\n",
       "      <th>Worker</th>\n",
       "      <th>Machine</th>\n",
       "      <th></th>\n",
       "    </tr>\n",
       "  </thead>\n",
       "  <tbody>\n",
       "    <tr>\n",
       "      <th rowspan=\"3\" valign=\"top\">1</th>\n",
       "      <th>A</th>\n",
       "      <td>52.633333</td>\n",
       "    </tr>\n",
       "    <tr>\n",
       "      <th>B</th>\n",
       "      <td>62.900000</td>\n",
       "    </tr>\n",
       "    <tr>\n",
       "      <th>C</th>\n",
       "      <td>67.200000</td>\n",
       "    </tr>\n",
       "    <tr>\n",
       "      <th rowspan=\"3\" valign=\"top\">2</th>\n",
       "      <th>A</th>\n",
       "      <td>52.566667</td>\n",
       "    </tr>\n",
       "    <tr>\n",
       "      <th>B</th>\n",
       "      <td>59.566667</td>\n",
       "    </tr>\n",
       "    <tr>\n",
       "      <th>C</th>\n",
       "      <td>61.833333</td>\n",
       "    </tr>\n",
       "    <tr>\n",
       "      <th rowspan=\"3\" valign=\"top\">3</th>\n",
       "      <th>A</th>\n",
       "      <td>59.533333</td>\n",
       "    </tr>\n",
       "    <tr>\n",
       "      <th>B</th>\n",
       "      <td>68.033333</td>\n",
       "    </tr>\n",
       "    <tr>\n",
       "      <th>C</th>\n",
       "      <td>70.800000</td>\n",
       "    </tr>\n",
       "    <tr>\n",
       "      <th rowspan=\"3\" valign=\"top\">4</th>\n",
       "      <th>A</th>\n",
       "      <td>51.233333</td>\n",
       "    </tr>\n",
       "    <tr>\n",
       "      <th>B</th>\n",
       "      <td>62.733333</td>\n",
       "    </tr>\n",
       "    <tr>\n",
       "      <th>C</th>\n",
       "      <td>64.766667</td>\n",
       "    </tr>\n",
       "    <tr>\n",
       "      <th rowspan=\"3\" valign=\"top\">5</th>\n",
       "      <th>A</th>\n",
       "      <td>51.366667</td>\n",
       "    </tr>\n",
       "    <tr>\n",
       "      <th>B</th>\n",
       "      <td>65.066667</td>\n",
       "    </tr>\n",
       "    <tr>\n",
       "      <th>C</th>\n",
       "      <td>71.733333</td>\n",
       "    </tr>\n",
       "    <tr>\n",
       "      <th rowspan=\"3\" valign=\"top\">6</th>\n",
       "      <th>A</th>\n",
       "      <td>46.800000</td>\n",
       "    </tr>\n",
       "    <tr>\n",
       "      <th>B</th>\n",
       "      <td>43.633333</td>\n",
       "    </tr>\n",
       "    <tr>\n",
       "      <th>C</th>\n",
       "      <td>61.300000</td>\n",
       "    </tr>\n",
       "  </tbody>\n",
       "</table>\n",
       "</div>"
      ],
      "text/plain": [
       "                    score\n",
       "Worker Machine           \n",
       "1      A        52.633333\n",
       "       B        62.900000\n",
       "       C        67.200000\n",
       "2      A        52.566667\n",
       "       B        59.566667\n",
       "       C        61.833333\n",
       "3      A        59.533333\n",
       "       B        68.033333\n",
       "       C        70.800000\n",
       "4      A        51.233333\n",
       "       B        62.733333\n",
       "       C        64.766667\n",
       "5      A        51.366667\n",
       "       B        65.066667\n",
       "       C        71.733333\n",
       "6      A        46.800000\n",
       "       B        43.633333\n",
       "       C        61.300000"
      ]
     },
     "execution_count": 10,
     "metadata": {},
     "output_type": "execute_result"
    }
   ],
   "source": [
    "# Avg score per worker per machine\n",
    "avg_scores = df.groupby([\"Worker\", \"Machine\"]).mean()\n",
    "avg_scores"
   ]
  },
  {
   "cell_type": "markdown",
   "id": "f5a851b7",
   "metadata": {},
   "source": [
    "<h3>Visuals</h3>"
   ]
  },
  {
   "cell_type": "code",
   "execution_count": 35,
   "id": "fba3bbbd",
   "metadata": {},
   "outputs": [],
   "source": [
    "def visualize_performance(data):\n",
    "    \"\"\"\n",
    "    Notes:\n",
    "    - Tuples are used to specify multiple values that together uniquely identify\n",
    "      a specific row in a multi-level index (see df.loc)\n",
    "    \"\"\"\n",
    "    # Color palette \n",
    "    palette = sns.color_palette(palette=\"colorblind\", n_colors=len(data[\"Worker\"].unique()))\n",
    "    worker_colors = {worker: palette[i] for i, worker in enumerate(data[\"Worker\"].unique())}\n",
    "    \n",
    "    # Avg score per worker per machine\n",
    "    avg_scores = data.groupby([\"Worker\", \"Machine\"]).mean()\n",
    "    \n",
    "    ##### The main graph #####\n",
    "    plt.figure(figsize=(6,8), dpi=100)\n",
    "    sns.scatterplot(x=\"Machine\",\n",
    "                    y=\"score\",\n",
    "                    hue=\"Worker\",\n",
    "                    palette=\"colorblind\",\n",
    "                    zorder=2,\n",
    "                    data=data)\n",
    "    \n",
    "    ##### plotting the avg scores per worker per machine #####\n",
    "    for worker in avg_scores.index.levels[0]:\n",
    "        # Save the mean values to connect them with a lineplot\n",
    "        mean_vals = []\n",
    "        for machine in avg_scores.index.levels[1]:\n",
    "            mean_val = avg_scores.loc[(worker, machine), \"score\"]\n",
    "            mean_vals.append(mean_val)\n",
    "            plt.scatter(machine, \n",
    "                        mean_val, \n",
    "                        color=worker_colors[worker], \n",
    "                        s=1)\n",
    "    \n",
    "        ##### Plot the line plot connecting the avg values\n",
    "        plt.plot(data[\"Machine\"].unique(), mean_vals, linestyle=\"--\", linewidth=1)\n",
    "    \n",
    "    # blääblää\n",
    "    plt.grid(True, zorder=1, alpha=0.5)\n",
    "    plt.legend(title=\"Worker\", bbox_to_anchor=(1.03, 0.6), loc=\"upper left\")"
   ]
  },
  {
   "cell_type": "code",
   "execution_count": 36,
   "id": "58f2f28d",
   "metadata": {},
   "outputs": [
    {
     "data": {
      "image/png": "[encoded data removed]",
      "text/plain": [
       "<Figure size 600x800 with 1 Axes>"
      ]
     },
     "metadata": {},
     "output_type": "display_data"
    }
   ],
   "source": [
    "visualize_performance(df)"
   ]
  },
  {
   "cell_type": "markdown",
   "id": "775ffa81",
   "metadata": {},
   "source": [
    "<h3>Fitting</h3>"
   ]
  },
  {
   "cell_type": "code",
   "execution_count": 13,
   "id": "e12b8074",
   "metadata": {},
   "outputs": [],
   "source": [
    "def mixed_effects_model(data):\n",
    "    model = smf.mixedlm(\"score ~ Machine\",\n",
    "                        groups=data[\"Worker\"],\n",
    "                        re_formula=\"1\",\n",
    "                        data=data)\n",
    "    fit = model.fit(reml=True)\n",
    "    return model, fit"
   ]
  },
  {
   "cell_type": "markdown",
   "id": "919327c0",
   "metadata": {},
   "source": [
    "score ~ Machine\n",
    "- Fixed effects\n",
    "\n",
    "groups=data[\"Worker\"]\n",
    "- Each worker is treated as a group, and the model will estimate random intercepts for each worker\n",
    "\n",
    "re_formula = \"1\" (random effects formula)\n",
    "- The formula for the random effects. By specifying \"1\", one includes only a random intercept for each worker (each worker is allowed to have their own baseline score (i.e., intercept))."
   ]
  },
  {
   "cell_type": "code",
   "execution_count": 14,
   "id": "4e8c4dd6",
   "metadata": {},
   "outputs": [],
   "source": [
    "model, fit = mixed_effects_model(df)"
   ]
  },
  {
   "cell_type": "code",
   "execution_count": 15,
   "id": "20cfc58d",
   "metadata": {},
   "outputs": [
    {
     "name": "stdout",
     "output_type": "stream",
     "text": [
      "         Mixed Linear Model Regression Results\n",
      "=======================================================\n",
      "Model:            MixedLM Dependent Variable: score    \n",
      "No. Observations: 54      Method:             REML     \n",
      "No. Groups:       6       Scale:              9.9960   \n",
      "Min. group size:  9       Log-Likelihood:     -143.4391\n",
      "Max. group size:  9       Converged:          Yes      \n",
      "Mean group size:  9.0                                  \n",
      "-------------------------------------------------------\n",
      "             Coef.  Std.Err.   z    P>|z| [0.025 0.975]\n",
      "-------------------------------------------------------\n",
      "Intercept    52.356    2.229 23.485 0.000 47.986 56.725\n",
      "Machine[T.B]  7.967    1.054  7.559 0.000  5.901 10.032\n",
      "Machine[T.C] 13.917    1.054 13.205 0.000 11.851 15.982\n",
      "Group Var    26.487    5.813                           \n",
      "=======================================================\n",
      "\n"
     ]
    }
   ],
   "source": [
    "print(fit.summary())"
   ]
  },
  {
   "cell_type": "markdown",
   "id": "61cb0fb9",
   "metadata": {},
   "source": [
    "$\\hat{\\mu} = 52.356$\n",
    "- Represents the average score for machine A (reference level) for a random worker and random round.\n",
    "\n",
    "$\\hat{\\beta}_B = 7.967$\n",
    "- $\\hat{\\mu} \\, + \\, \\hat{\\beta}_B = 60.323 \\,$ represents the average score for machine B for a random worker and random round.\n",
    "\n",
    "$\\hat{\\beta}_C = 13.917$\n",
    "- $\\hat{\\mu} \\, + \\, \\hat{\\beta}_C = 66.273 \\,$ represents the average score for machine C for a random worker and random round.\n",
    "\n",
    "$\\hat{\\sigma} \\, \\, (\\sqrt{\\text{Scale}}) = 3.162 \\,$ in the summary output\n",
    "- The within-worker variation.\n",
    "\n",
    "$\\hat{\\tau} \\, \\, (\\sqrt{\\text{Group Var}}) = 5.147 \\,$ in the summary output\n",
    "\n",
    "- The between-worker variation."
   ]
  },
  {
   "cell_type": "code",
   "execution_count": 16,
   "id": "cf9d52ad",
   "metadata": {},
   "outputs": [],
   "source": [
    "def lower_triangular_cov_mat(S):\n",
    "    S_tril = pd.DataFrame(data=np.round(np.tril(S), 4),\n",
    "                          index=S.index,\n",
    "                          columns=S.columns)\n",
    "    return S_tril"
   ]
  },
  {
   "cell_type": "code",
   "execution_count": 17,
   "id": "3c29c56f",
   "metadata": {},
   "outputs": [
    {
     "data": {
      "text/html": [
       "<div>\n",
       "<style scoped>\n",
       "    .dataframe tbody tr th:only-of-type {\n",
       "        vertical-align: middle;\n",
       "    }\n",
       "\n",
       "    .dataframe tbody tr th {\n",
       "        vertical-align: top;\n",
       "    }\n",
       "\n",
       "    .dataframe thead th {\n",
       "        text-align: right;\n",
       "    }\n",
       "</style>\n",
       "<table border=\"1\" class=\"dataframe\">\n",
       "  <thead>\n",
       "    <tr style=\"text-align: right;\">\n",
       "      <th></th>\n",
       "      <th>Intercept</th>\n",
       "      <th>Machine[T.B]</th>\n",
       "      <th>Machine[T.C]</th>\n",
       "      <th>Group Var</th>\n",
       "    </tr>\n",
       "  </thead>\n",
       "  <tbody>\n",
       "    <tr>\n",
       "      <th>Intercept</th>\n",
       "      <td>4.9698</td>\n",
       "      <td>0.0000</td>\n",
       "      <td>0.0000</td>\n",
       "      <td>0.0000</td>\n",
       "    </tr>\n",
       "    <tr>\n",
       "      <th>Machine[T.B]</th>\n",
       "      <td>-0.5553</td>\n",
       "      <td>1.1107</td>\n",
       "      <td>0.0000</td>\n",
       "      <td>0.0000</td>\n",
       "    </tr>\n",
       "    <tr>\n",
       "      <th>Machine[T.C]</th>\n",
       "      <td>-0.5553</td>\n",
       "      <td>0.5553</td>\n",
       "      <td>1.1107</td>\n",
       "      <td>0.0000</td>\n",
       "    </tr>\n",
       "    <tr>\n",
       "      <th>Group Var</th>\n",
       "      <td>-0.0000</td>\n",
       "      <td>0.0000</td>\n",
       "      <td>0.0000</td>\n",
       "      <td>3.3803</td>\n",
       "    </tr>\n",
       "  </tbody>\n",
       "</table>\n",
       "</div>"
      ],
      "text/plain": [
       "              Intercept  Machine[T.B]  Machine[T.C]  Group Var\n",
       "Intercept        4.9698        0.0000        0.0000     0.0000\n",
       "Machine[T.B]    -0.5553        1.1107        0.0000     0.0000\n",
       "Machine[T.C]    -0.5553        0.5553        1.1107     0.0000\n",
       "Group Var       -0.0000        0.0000        0.0000     3.3803"
      ]
     },
     "execution_count": 17,
     "metadata": {},
     "output_type": "execute_result"
    }
   ],
   "source": [
    "lower_triangular_cov_mat(fit.cov_params())"
   ]
  },
  {
   "cell_type": "code",
   "execution_count": 18,
   "id": "62997c5d",
   "metadata": {},
   "outputs": [
    {
     "data": {
      "text/plain": [
       "{1: Group    1.210357\n",
       " dtype: float64,\n",
       " 2: Group   -1.594259\n",
       " dtype: float64,\n",
       " 3: Group    6.211745\n",
       " dtype: float64,\n",
       " 4: Group   -0.069316\n",
       " dtype: float64,\n",
       " 5: Group    2.94858\n",
       " dtype: float64,\n",
       " 6: Group   -8.707107\n",
       " dtype: float64}"
      ]
     },
     "execution_count": 18,
     "metadata": {},
     "output_type": "execute_result"
    }
   ],
   "source": [
    "fit.random_effects"
   ]
  },
  {
   "cell_type": "markdown",
   "id": "e8662cd5",
   "metadata": {},
   "source": [
    "- The random intercepts (deviations from the fixed global intercept $\\, \\mu$) for each worker, indicating how much each worker's baseline score differs from the fixed global intercept.\n",
    "- A positive random effect means that the worker tends to score higher than the average.\n",
    "- A negative random effect means that the worker tends to score lower than the average."
   ]
  },
  {
   "cell_type": "markdown",
   "id": "6c79bbfd",
   "metadata": {},
   "source": [
    "Let's explore if this model is ideal in the sense that if we thought that the dataset was generated from the probability distribution given by the model in question, does it generate similar patterns and scores as the original dataset."
   ]
  },
  {
   "cell_type": "code",
   "execution_count": 28,
   "id": "70e74b18",
   "metadata": {},
   "outputs": [],
   "source": [
    "def simulate_scores(data, fitted_model, rounds_per_machine):\n",
    "    \"\"\"\n",
    "    Blääblää.\n",
    "    \n",
    "    Notes:\n",
    "    - The residual (error term) represents the random deviation of each\n",
    "      INDIVIDUAL measurement from the model's predicted value.\n",
    "    - The residuals capture the variability that is not explained\n",
    "      by the fixed effects or random effects, and they are INDEPENDENT\n",
    "      across different observations.\n",
    "    \"\"\"\n",
    "    # The random effect variance\n",
    "    tau_sq = fitted_model.cov_re.iloc[0, 0]\n",
    "    \n",
    "    # The residual variance\n",
    "    sigma_sq = fit.scale\n",
    "    \n",
    "    # Unique machines\n",
    "    machines = list(data[\"Machine\"].unique())\n",
    "    \n",
    "    # Unique workers\n",
    "    workers = list(data[\"Worker\"].unique())\n",
    "    \n",
    "    # Fixed effects for machines\n",
    "    ic = fitted_model.fe_params[\"Intercept\"]\n",
    "    machine_effects = {\n",
    "        \"A\": 0,    # Contained as the reference level in the intercept\n",
    "        \"B\": fitted_model.fe_params[\"Machine[T.B]\"],\n",
    "        \"C\": fitted_model.fe_params[\"Machine[T.C]\"]\n",
    "    }\n",
    "    \n",
    "    ##### Simulate data #####\n",
    "    simulated_scores = []\n",
    "    for worker in workers:\n",
    "        # Random intercept for the ith worker from N(0, tau^2)\n",
    "        random_ic = np.random.normal(0, np.sqrt(tau_sq))\n",
    "        # Generate simulations\n",
    "        for machine in machines:\n",
    "            for _ in range(rounds_per_machine):\n",
    "                # Fixed effect + random (worker) effect + residual (noise)\n",
    "                score = ic + random_ic + machine_effects[machine] + np.random.normal(0, np.sqrt(sigma_sq))\n",
    "                simulated_scores.append(score)\n",
    "    \n",
    "    ##### Construct a new df with the original features and the simulated scores #####\n",
    "    simulated_df = data.drop(\"score\", axis=1)\n",
    "    simulated_df[\"score\"] = simulated_scores\n",
    "    return simulated_df"
   ]
  },
  {
   "cell_type": "code",
   "execution_count": 29,
   "id": "02824d50",
   "metadata": {},
   "outputs": [],
   "source": [
    "simulated_data = simulate_scores(data=df,\n",
    "                                 fitted_model=fit,\n",
    "                                 rounds_per_machine=3)"
   ]
  },
  {
   "cell_type": "code",
   "execution_count": 30,
   "id": "1ae01cca",
   "metadata": {},
   "outputs": [
    {
     "data": {
      "image/png": "[encoded data removed]",
      "text/plain": [
       "<Figure size 600x800 with 1 Axes>"
      ]
     },
     "metadata": {},
     "output_type": "display_data"
    }
   ],
   "source": [
    "visualize_performance(simulated_data)"
   ]
  },
  {
   "cell_type": "code",
   "execution_count": 76,
   "id": "2ae2748d",
   "metadata": {},
   "outputs": [],
   "source": [
    "def compare_scores(data_original, data_simulated):\n",
    "    \"\"\"\n",
    "    Notes:\n",
    "    - In Pandas, when slicing using loc with multiple index levels, \n",
    "      you should use slice(None) to indicate that you want to select \n",
    "      all values for a specific level of the index.\n",
    "    \"\"\"\n",
    "    avg_scores_original = data_original.groupby([\"Worker\", \"Machine\"]).mean()\n",
    "    avg_scores_simulated = data_simulated.groupby([\"Worker\", \"Machine\"]).mean()\n",
    "    avg_scores_original[\"simulated_scores\"] = avg_scores_simulated[\"score\"]\n",
    "    comparison_df = avg_scores_original.copy()\n",
    "    comparison_df[\"simulated_scores\"] = avg_scores_simulated[\"score\"]\n",
    "    comparison_df[\"error\"] = avg_scores_original[\"score\"] - avg_scores_simulated[\"score\"]\n",
    "    return comparison_df"
   ]
  },
  {
   "cell_type": "code",
   "execution_count": 77,
   "id": "ce11d262",
   "metadata": {},
   "outputs": [],
   "source": [
    "comparison_df = compare_scores(df, simulated_data)"
   ]
  },
  {
   "cell_type": "code",
   "execution_count": 78,
   "id": "9acdae61",
   "metadata": {},
   "outputs": [
    {
     "data": {
      "text/html": [
       "<div>\n",
       "<style scoped>\n",
       "    .dataframe tbody tr th:only-of-type {\n",
       "        vertical-align: middle;\n",
       "    }\n",
       "\n",
       "    .dataframe tbody tr th {\n",
       "        vertical-align: top;\n",
       "    }\n",
       "\n",
       "    .dataframe thead th {\n",
       "        text-align: right;\n",
       "    }\n",
       "</style>\n",
       "<table border=\"1\" class=\"dataframe\">\n",
       "  <thead>\n",
       "    <tr style=\"text-align: right;\">\n",
       "      <th></th>\n",
       "      <th></th>\n",
       "      <th>score</th>\n",
       "      <th>simulated_scores</th>\n",
       "      <th>error</th>\n",
       "    </tr>\n",
       "    <tr>\n",
       "      <th>Worker</th>\n",
       "      <th>Machine</th>\n",
       "      <th></th>\n",
       "      <th></th>\n",
       "      <th></th>\n",
       "    </tr>\n",
       "  </thead>\n",
       "  <tbody>\n",
       "    <tr>\n",
       "      <th rowspan=\"3\" valign=\"top\">1</th>\n",
       "      <th>A</th>\n",
       "      <td>52.633333</td>\n",
       "      <td>53.530999</td>\n",
       "      <td>-0.897666</td>\n",
       "    </tr>\n",
       "    <tr>\n",
       "      <th>B</th>\n",
       "      <td>62.900000</td>\n",
       "      <td>42.356602</td>\n",
       "      <td>20.543398</td>\n",
       "    </tr>\n",
       "    <tr>\n",
       "      <th>C</th>\n",
       "      <td>67.200000</td>\n",
       "      <td>59.632800</td>\n",
       "      <td>7.567200</td>\n",
       "    </tr>\n",
       "    <tr>\n",
       "      <th rowspan=\"3\" valign=\"top\">2</th>\n",
       "      <th>A</th>\n",
       "      <td>52.566667</td>\n",
       "      <td>60.573139</td>\n",
       "      <td>-8.006473</td>\n",
       "    </tr>\n",
       "    <tr>\n",
       "      <th>B</th>\n",
       "      <td>59.566667</td>\n",
       "      <td>51.850435</td>\n",
       "      <td>7.716232</td>\n",
       "    </tr>\n",
       "    <tr>\n",
       "      <th>C</th>\n",
       "      <td>61.833333</td>\n",
       "      <td>64.856396</td>\n",
       "      <td>-3.023063</td>\n",
       "    </tr>\n",
       "    <tr>\n",
       "      <th rowspan=\"3\" valign=\"top\">3</th>\n",
       "      <th>A</th>\n",
       "      <td>59.533333</td>\n",
       "      <td>66.332976</td>\n",
       "      <td>-6.799643</td>\n",
       "    </tr>\n",
       "    <tr>\n",
       "      <th>B</th>\n",
       "      <td>68.033333</td>\n",
       "      <td>60.153098</td>\n",
       "      <td>7.880235</td>\n",
       "    </tr>\n",
       "    <tr>\n",
       "      <th>C</th>\n",
       "      <td>70.800000</td>\n",
       "      <td>73.797789</td>\n",
       "      <td>-2.997789</td>\n",
       "    </tr>\n",
       "    <tr>\n",
       "      <th rowspan=\"3\" valign=\"top\">4</th>\n",
       "      <th>A</th>\n",
       "      <td>51.233333</td>\n",
       "      <td>55.154526</td>\n",
       "      <td>-3.921193</td>\n",
       "    </tr>\n",
       "    <tr>\n",
       "      <th>B</th>\n",
       "      <td>62.733333</td>\n",
       "      <td>46.695484</td>\n",
       "      <td>16.037849</td>\n",
       "    </tr>\n",
       "    <tr>\n",
       "      <th>C</th>\n",
       "      <td>64.766667</td>\n",
       "      <td>54.296881</td>\n",
       "      <td>10.469786</td>\n",
       "    </tr>\n",
       "    <tr>\n",
       "      <th rowspan=\"3\" valign=\"top\">5</th>\n",
       "      <th>A</th>\n",
       "      <td>51.366667</td>\n",
       "      <td>63.011641</td>\n",
       "      <td>-11.644974</td>\n",
       "    </tr>\n",
       "    <tr>\n",
       "      <th>B</th>\n",
       "      <td>65.066667</td>\n",
       "      <td>53.574000</td>\n",
       "      <td>11.492667</td>\n",
       "    </tr>\n",
       "    <tr>\n",
       "      <th>C</th>\n",
       "      <td>71.733333</td>\n",
       "      <td>64.343630</td>\n",
       "      <td>7.389703</td>\n",
       "    </tr>\n",
       "    <tr>\n",
       "      <th rowspan=\"3\" valign=\"top\">6</th>\n",
       "      <th>A</th>\n",
       "      <td>46.800000</td>\n",
       "      <td>68.617017</td>\n",
       "      <td>-21.817017</td>\n",
       "    </tr>\n",
       "    <tr>\n",
       "      <th>B</th>\n",
       "      <td>43.633333</td>\n",
       "      <td>52.848627</td>\n",
       "      <td>-9.215293</td>\n",
       "    </tr>\n",
       "    <tr>\n",
       "      <th>C</th>\n",
       "      <td>61.300000</td>\n",
       "      <td>68.430892</td>\n",
       "      <td>-7.130892</td>\n",
       "    </tr>\n",
       "  </tbody>\n",
       "</table>\n",
       "</div>"
      ],
      "text/plain": [
       "                    score  simulated_scores      error\n",
       "Worker Machine                                        \n",
       "1      A        52.633333         53.530999  -0.897666\n",
       "       B        62.900000         42.356602  20.543398\n",
       "       C        67.200000         59.632800   7.567200\n",
       "2      A        52.566667         60.573139  -8.006473\n",
       "       B        59.566667         51.850435   7.716232\n",
       "       C        61.833333         64.856396  -3.023063\n",
       "3      A        59.533333         66.332976  -6.799643\n",
       "       B        68.033333         60.153098   7.880235\n",
       "       C        70.800000         73.797789  -2.997789\n",
       "4      A        51.233333         55.154526  -3.921193\n",
       "       B        62.733333         46.695484  16.037849\n",
       "       C        64.766667         54.296881  10.469786\n",
       "5      A        51.366667         63.011641 -11.644974\n",
       "       B        65.066667         53.574000  11.492667\n",
       "       C        71.733333         64.343630   7.389703\n",
       "6      A        46.800000         68.617017 -21.817017\n",
       "       B        43.633333         52.848627  -9.215293\n",
       "       C        61.300000         68.430892  -7.130892"
      ]
     },
     "execution_count": 78,
     "metadata": {},
     "output_type": "execute_result"
    }
   ],
   "source": [
    "comparison_df"
   ]
  },
  {
   "cell_type": "code",
   "execution_count": 81,
   "id": "c12b361b",
   "metadata": {},
   "outputs": [],
   "source": [
    "def mean_error_per_machine(data):\n",
    "    for machine in data.index.levels[1]:\n",
    "        mean_error = data.loc[(slice(None), machine), \"error\"].mean()\n",
    "        print(f\"The mean error for machine {machine}: {mean_error}\")"
   ]
  },
  {
   "cell_type": "code",
   "execution_count": 82,
   "id": "f3ccd144",
   "metadata": {},
   "outputs": [
    {
     "name": "stdout",
     "output_type": "stream",
     "text": [
      "The mean error for machine A: -8.847827563396619\n",
      "The mean error for machine B: 9.075848021926117\n",
      "The mean error for machine C: 2.0458239144614865\n"
     ]
    }
   ],
   "source": [
    "mean_error_per_machine(comparison_df)"
   ]
  }
 ],
 "metadata": {
  "kernelspec": {
   "display_name": "Python 3 (ipykernel)",
   "language": "python",
   "name": "python3"
  },
  "language_info": {
   "codemirror_mode": {
    "name": "ipython",
    "version": 3
   },
   "file_extension": ".py",
   "mimetype": "text/x-python",
   "name": "python",
   "nbconvert_exporter": "python",
   "pygments_lexer": "ipython3",
   "version": "3.12.5"
  }
 },
 "nbformat": 4,
 "nbformat_minor": 5
}
