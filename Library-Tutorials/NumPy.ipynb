{
 "cells": [
  {
   "cell_type": "markdown",
   "id": "92bf63ad",
   "metadata": {},
   "source": [
    "<h1 align=\"center\">NumPy Tutorial</h1>"
   ]
  },
  {
   "cell_type": "markdown",
   "id": "9eeb79b4",
   "metadata": {},
   "source": [
    "<br>"
   ]
  },
  {
   "cell_type": "markdown",
   "id": "1005c55d",
   "metadata": {},
   "source": [
    "In this tutorial, I'll cover some useful NumPy functions for machine learning."
   ]
  },
  {
   "cell_type": "markdown",
   "id": "6d95c9f2",
   "metadata": {},
   "source": [
    "<br>"
   ]
  },
  {
   "cell_type": "code",
   "execution_count": 1,
   "id": "d495296e",
   "metadata": {},
   "outputs": [],
   "source": [
    "import numpy as np"
   ]
  },
  {
   "cell_type": "markdown",
   "id": "3c57325f",
   "metadata": {},
   "source": [
    "<h2 align=\"left\">NumPy Arrays</h2>"
   ]
  },
  {
   "cell_type": "code",
   "execution_count": 3,
   "id": "208b83b9",
   "metadata": {},
   "outputs": [],
   "source": [
    "my_matrix = [[1, 2, 3], [4, 5, 6], [7,8, 9]]"
   ]
  },
  {
   "cell_type": "code",
   "execution_count": 4,
   "id": "48e2c109",
   "metadata": {},
   "outputs": [
    {
     "data": {
      "text/plain": [
       "[[1, 2, 3], [4, 5, 6], [7, 8, 9]]"
      ]
     },
     "execution_count": 4,
     "metadata": {},
     "output_type": "execute_result"
    }
   ],
   "source": [
    "my_matrix"
   ]
  },
  {
   "cell_type": "code",
   "execution_count": 5,
   "id": "fc6b59ef",
   "metadata": {},
   "outputs": [
    {
     "data": {
      "text/plain": [
       "array([[1, 2, 3],\n",
       "       [4, 5, 6],\n",
       "       [7, 8, 9]])"
      ]
     },
     "execution_count": 5,
     "metadata": {},
     "output_type": "execute_result"
    }
   ],
   "source": [
    "np.array(my_matrix)"
   ]
  },
  {
   "cell_type": "markdown",
   "id": "4dcee5aa",
   "metadata": {},
   "source": [
    "- When passing a nested list inside an **np.array()** function, it becomes a matrix.\n",
    "- Here, we get a 3x3 matrix because we had a nested list with three lists, each containing three items."
   ]
  },
  {
   "cell_type": "markdown",
   "id": "66479685",
   "metadata": {},
   "source": [
    "<br>"
   ]
  },
  {
   "cell_type": "code",
   "execution_count": 6,
   "id": "87394a1a",
   "metadata": {},
   "outputs": [
    {
     "data": {
      "text/plain": [
       "array([ 0,  1,  2,  3,  4,  5,  6,  7,  8,  9, 10])"
      ]
     },
     "execution_count": 6,
     "metadata": {},
     "output_type": "execute_result"
    }
   ],
   "source": [
    "np.arange(0, 11)"
   ]
  },
  {
   "cell_type": "code",
   "execution_count": 7,
   "id": "d428c508",
   "metadata": {},
   "outputs": [
    {
     "data": {
      "text/plain": [
       "array([ 0,  2,  4,  6,  8, 10, 12, 14, 16, 18])"
      ]
     },
     "execution_count": 7,
     "metadata": {},
     "output_type": "execute_result"
    }
   ],
   "source": [
    "np.arange(0, 20, 2)"
   ]
  },
  {
   "cell_type": "markdown",
   "id": "988d75f3",
   "metadata": {},
   "source": [
    "- **np.arange(start, stop, step)**\n",
    "- Notice that the stop is not included in the range. \n",
    "- The step parameter is \"None\" by default."
   ]
  },
  {
   "cell_type": "markdown",
   "id": "b8c97168",
   "metadata": {},
   "source": [
    "<br>"
   ]
  },
  {
   "cell_type": "markdown",
   "id": "6899a62d",
   "metadata": {},
   "source": [
    "**np.zeros()** and **np.ones()** are really useful functions, since in data science it's often needed to create large arrays of zeros or ones. All the bullets explained below will apply to both np.zeros() and np.ones().\n",
    "\n",
    "- When passing just a single argument, a one-dimensional vector is returned.\n",
    "- When passing a tuple of two arguments, a two-dimensional matrix is returned."
   ]
  },
  {
   "cell_type": "code",
   "execution_count": 11,
   "id": "4c36129c",
   "metadata": {},
   "outputs": [
    {
     "name": "stdout",
     "output_type": "stream",
     "text": [
      "[0. 0. 0. 0. 0.]\n",
      "Shape of the vector: (5,)\n"
     ]
    }
   ],
   "source": [
    "print(np.zeros(5))\n",
    "print(f\"Shape of the vector: {np.zeros(5).shape}\")"
   ]
  },
  {
   "cell_type": "code",
   "execution_count": 9,
   "id": "084ccd06",
   "metadata": {},
   "outputs": [
    {
     "name": "stdout",
     "output_type": "stream",
     "text": [
      "[[0. 0. 0. 0. 0.]\n",
      " [0. 0. 0. 0. 0.]\n",
      " [0. 0. 0. 0. 0.]]\n",
      "Shape of the matrix: (3, 5)\n"
     ]
    }
   ],
   "source": [
    "print(np.zeros((3, 5)))\n",
    "print(f\"Shape of the matrix: {np.zeros((3, 5)).shape}\")"
   ]
  },
  {
   "cell_type": "code",
   "execution_count": 12,
   "id": "b1ea083b",
   "metadata": {},
   "outputs": [
    {
     "name": "stdout",
     "output_type": "stream",
     "text": [
      "[1. 1. 1. 1. 1.]\n",
      "Shape of the vector: (5,)\n"
     ]
    }
   ],
   "source": [
    "print(np.ones(5))\n",
    "print(f\"Shape of the vector: {np.ones(5).shape}\")"
   ]
  },
  {
   "cell_type": "code",
   "execution_count": 13,
   "id": "4391fa52",
   "metadata": {},
   "outputs": [
    {
     "name": "stdout",
     "output_type": "stream",
     "text": [
      "[[1. 1. 1.]\n",
      " [1. 1. 1.]\n",
      " [1. 1. 1.]\n",
      " [1. 1. 1.]\n",
      " [1. 1. 1.]]\n",
      "Shape of the matrix: (5, 3)\n"
     ]
    }
   ],
   "source": [
    "print(np.ones((5, 3)))\n",
    "print(f\"Shape of the matrix: {np.ones((5, 3)).shape}\")"
   ]
  },
  {
   "cell_type": "markdown",
   "id": "2132d771",
   "metadata": {},
   "source": [
    "<br>"
   ]
  },
  {
   "cell_type": "markdown",
   "id": "4ccb95c2",
   "metadata": {},
   "source": [
    "- The **np.linspace()** function returns the desired amount of evenly spaced numbers.\n",
    "- np.linspace() takes multiple parameters, such as start, stop, and num. \n",
    "- The 'num' parameter specifies the number of evenly spaced steps we want within the range.\n",
    "- Notice that by default, num=50."
   ]
  },
  {
   "cell_type": "code",
   "execution_count": 12,
   "id": "213445d6",
   "metadata": {},
   "outputs": [
    {
     "data": {
      "text/plain": [
       "array([ 2.,  4.,  6.,  8., 10.])"
      ]
     },
     "execution_count": 12,
     "metadata": {},
     "output_type": "execute_result"
    }
   ],
   "source": [
    "np.linspace(2, 10, 5)"
   ]
  },
  {
   "cell_type": "code",
   "execution_count": 13,
   "id": "04361dc0",
   "metadata": {},
   "outputs": [
    {
     "data": {
      "text/plain": [
       "array([ 0.,  1.,  2.,  3.,  4.,  5.,  6.,  7.,  8.,  9., 10.])"
      ]
     },
     "execution_count": 13,
     "metadata": {},
     "output_type": "execute_result"
    }
   ],
   "source": [
    "np.linspace(0, 10, 11)"
   ]
  },
  {
   "cell_type": "markdown",
   "id": "5dcca4f4",
   "metadata": {},
   "source": [
    "- Notice that the end interval (stop parameter) is inclusive with the np.linspace() function."
   ]
  },
  {
   "cell_type": "code",
   "execution_count": 17,
   "id": "b63be552",
   "metadata": {},
   "outputs": [
    {
     "data": {
      "text/plain": [
       "50"
      ]
     },
     "execution_count": 17,
     "metadata": {},
     "output_type": "execute_result"
    }
   ],
   "source": [
    "# Length of the interval, when 'num' parameter is default, should be 50.\n",
    "len(np.linspace(0, 10))"
   ]
  },
  {
   "cell_type": "code",
   "execution_count": 18,
   "id": "2788bc5c",
   "metadata": {},
   "outputs": [
    {
     "data": {
      "text/plain": [
       "20"
      ]
     },
     "execution_count": 18,
     "metadata": {},
     "output_type": "execute_result"
    }
   ],
   "source": [
    "# num=20\n",
    "len(np.linspace(0, 10, 20))"
   ]
  },
  {
   "cell_type": "markdown",
   "id": "53abf9ea",
   "metadata": {},
   "source": [
    "- As seen, the 'num' parameter also specifies the length of the interval."
   ]
  },
  {
   "cell_type": "markdown",
   "id": "34537d4d",
   "metadata": {},
   "source": [
    "<br>"
   ]
  },
  {
   "cell_type": "markdown",
   "id": "da13f05b",
   "metadata": {},
   "source": [
    "The **np.eye()** function creates a identity matrix, which is very often needed in linear algebra."
   ]
  },
  {
   "cell_type": "code",
   "execution_count": 14,
   "id": "0873135d",
   "metadata": {},
   "outputs": [
    {
     "data": {
      "text/plain": [
       "array([[1., 0., 0., 0., 0.],\n",
       "       [0., 1., 0., 0., 0.],\n",
       "       [0., 0., 1., 0., 0.],\n",
       "       [0., 0., 0., 1., 0.],\n",
       "       [0., 0., 0., 0., 1.]])"
      ]
     },
     "execution_count": 14,
     "metadata": {},
     "output_type": "execute_result"
    }
   ],
   "source": [
    "np.eye(5)"
   ]
  },
  {
   "cell_type": "code",
   "execution_count": 15,
   "id": "9755f5c7",
   "metadata": {},
   "outputs": [
    {
     "data": {
      "text/plain": [
       "array([[1., 0., 0.],\n",
       "       [0., 1., 0.],\n",
       "       [0., 0., 1.]])"
      ]
     },
     "execution_count": 15,
     "metadata": {},
     "output_type": "execute_result"
    }
   ],
   "source": [
    "np.eye(3)"
   ]
  },
  {
   "cell_type": "code",
   "execution_count": 16,
   "id": "e7f63ba9",
   "metadata": {},
   "outputs": [
    {
     "data": {
      "text/plain": [
       "array([[1., 0.],\n",
       "       [0., 1.]])"
      ]
     },
     "execution_count": 16,
     "metadata": {},
     "output_type": "execute_result"
    }
   ],
   "source": [
    "np.eye(2)"
   ]
  },
  {
   "cell_type": "markdown",
   "id": "a49c908a",
   "metadata": {},
   "source": [
    "<br>"
   ]
  },
  {
   "cell_type": "markdown",
   "id": "fd0dfafd",
   "metadata": {},
   "source": [
    "<br>"
   ]
  },
  {
   "cell_type": "markdown",
   "id": "df12f22e",
   "metadata": {},
   "source": [
    "<h2 align=\"left\">The Random Module</h2>"
   ]
  },
  {
   "cell_type": "code",
   "execution_count": 17,
   "id": "708e8a7a",
   "metadata": {},
   "outputs": [
    {
     "data": {
      "text/plain": [
       "array([0.01928686, 0.42582302, 0.82074837, 0.05219083, 0.47577634])"
      ]
     },
     "execution_count": 17,
     "metadata": {},
     "output_type": "execute_result"
    }
   ],
   "source": [
    "np.random.rand(5)"
   ]
  },
  {
   "cell_type": "code",
   "execution_count": 18,
   "id": "1dc28bfe",
   "metadata": {},
   "outputs": [
    {
     "data": {
      "text/plain": [
       "array([[7.38363030e-04, 9.09800647e-01],\n",
       "       [5.75220515e-01, 9.15803870e-01],\n",
       "       [4.93402407e-01, 2.85978222e-01]])"
      ]
     },
     "execution_count": 18,
     "metadata": {},
     "output_type": "execute_result"
    }
   ],
   "source": [
    "np.random.rand(3, 2)"
   ]
  },
  {
   "cell_type": "markdown",
   "id": "41c23b2d",
   "metadata": {},
   "source": [
    "- When a single argument is passed to the **rand()** function, such as 5, it returns 5 random floats between zero and one.\n",
    "- When given two arguments, it returns an m x n matrix, where m is the number of rows and n is the number of columns."
   ]
  },
  {
   "cell_type": "markdown",
   "id": "03932c6e",
   "metadata": {},
   "source": [
    "<br>"
   ]
  },
  {
   "cell_type": "code",
   "execution_count": 19,
   "id": "dd1b9915",
   "metadata": {},
   "outputs": [
    {
     "data": {
      "text/plain": [
       "array([-0.4305068 , -0.22225605, -0.24559904])"
      ]
     },
     "execution_count": 19,
     "metadata": {},
     "output_type": "execute_result"
    }
   ],
   "source": [
    "np.random.randn(3)"
   ]
  },
  {
   "cell_type": "code",
   "execution_count": 20,
   "id": "49db5415",
   "metadata": {},
   "outputs": [
    {
     "data": {
      "text/plain": [
       "array([[-0.52701177, -0.24754361],\n",
       "       [-1.27459705, -0.42479626],\n",
       "       [-0.08036665, -1.2959277 ]])"
      ]
     },
     "execution_count": 20,
     "metadata": {},
     "output_type": "execute_result"
    }
   ],
   "source": [
    "np.random.randn(3, 2)"
   ]
  },
  {
   "cell_type": "markdown",
   "id": "be0c3eb2",
   "metadata": {},
   "source": [
    "- The **randn()** function returns values from a standard normal distribution.\n",
    "- When given one argument, such as 3, rand() returns a sample of size 3 from the standard normal distribution.\n",
    "- When given to arguments, then m x n -matrix (a two-dimensional vector) gets returned, where m is the number of rows and n is the number of columns.\n",
    "- Notice that since np.random.randn() returns samples from a standard normal distribution, floats closer to zero are more likely to appear, because the mean of the standard normal distribution is zero.\n"
   ]
  },
  {
   "cell_type": "markdown",
   "id": "3ede7248",
   "metadata": {},
   "source": [
    "<br>"
   ]
  },
  {
   "cell_type": "code",
   "execution_count": 21,
   "id": "80be194f",
   "metadata": {},
   "outputs": [
    {
     "data": {
      "text/plain": [
       "array([78, 57, 36, 26, 87])"
      ]
     },
     "execution_count": 21,
     "metadata": {},
     "output_type": "execute_result"
    }
   ],
   "source": [
    "np.random.randint(0, 101, 5)"
   ]
  },
  {
   "cell_type": "code",
   "execution_count": 22,
   "id": "b00eafa7",
   "metadata": {},
   "outputs": [
    {
     "data": {
      "text/plain": [
       "array([[72, 93, 96],\n",
       "       [77, 18, 33],\n",
       "       [16, 90, 13]])"
      ]
     },
     "execution_count": 22,
     "metadata": {},
     "output_type": "execute_result"
    }
   ],
   "source": [
    "np.random.randint(0, 101, (3, 3))"
   ]
  },
  {
   "cell_type": "markdown",
   "id": "aa8301da",
   "metadata": {},
   "source": [
    "The **randint()** function takes atleast three arguments:\n",
    "\n",
    "- Start point\n",
    "- End point (not inclusive)\n",
    "- How many random integers to return from the specified interval. When the third argument is given as a tuple, the function returns an m x n matrix, where m represents the number of rows and n represents the number of columns."
   ]
  },
  {
   "cell_type": "markdown",
   "id": "a2c85b01",
   "metadata": {},
   "source": [
    "<br>"
   ]
  },
  {
   "cell_type": "markdown",
   "id": "3ed5fa07",
   "metadata": {},
   "source": [
    "- Another crucial function is the **seed()** function, which allows one to create a particular set of random numbers.\n",
    "- This capability is essential for repeating random distributions, such as when testing various models or experimenting with different visualization methods."
   ]
  },
  {
   "cell_type": "code",
   "execution_count": 20,
   "id": "ff92735c",
   "metadata": {},
   "outputs": [
    {
     "data": {
      "text/plain": [
       "array([0.37454012, 0.95071431, 0.73199394, 0.59865848, 0.15601864])"
      ]
     },
     "execution_count": 20,
     "metadata": {},
     "output_type": "execute_result"
    }
   ],
   "source": [
    "# The argument inside the seed() function can be any integer\n",
    "np.random.seed(42)\n",
    "np.random.rand(5)"
   ]
  },
  {
   "cell_type": "code",
   "execution_count": 24,
   "id": "adb55f37",
   "metadata": {},
   "outputs": [
    {
     "data": {
      "text/plain": [
       "array([0.15599452, 0.05808361, 0.86617615, 0.60111501, 0.70807258])"
      ]
     },
     "execution_count": 24,
     "metadata": {},
     "output_type": "execute_result"
    }
   ],
   "source": [
    "# When the seed is not set, a different set of numbers is returned.\n",
    "np.random.rand(5)"
   ]
  },
  {
   "cell_type": "code",
   "execution_count": 22,
   "id": "b9961e7c",
   "metadata": {},
   "outputs": [
    {
     "data": {
      "text/plain": [
       "array([0.37454012, 0.95071431, 0.73199394, 0.59865848, 0.15601864])"
      ]
     },
     "execution_count": 22,
     "metadata": {},
     "output_type": "execute_result"
    }
   ],
   "source": [
    "# However, by setting the seed to the same value (42) as before, \n",
    "# the same \"random\" numbers are returned.\n",
    "np.random.seed(42)\n",
    "np.random.rand(5)"
   ]
  },
  {
   "cell_type": "markdown",
   "id": "4a328ea4",
   "metadata": {},
   "source": [
    "<br>"
   ]
  },
  {
   "cell_type": "markdown",
   "id": "b1083e54",
   "metadata": {},
   "source": [
    "<br>"
   ]
  },
  {
   "cell_type": "markdown",
   "id": "8afcc2b7",
   "metadata": {},
   "source": [
    "<h3 align=\"left\">Reshaping Arrays</h3>"
   ]
  },
  {
   "cell_type": "code",
   "execution_count": 23,
   "id": "5535d6d3",
   "metadata": {},
   "outputs": [],
   "source": [
    "arr = np.arange(0, 25)"
   ]
  },
  {
   "cell_type": "code",
   "execution_count": 24,
   "id": "ad039559",
   "metadata": {},
   "outputs": [
    {
     "data": {
      "text/plain": [
       "array([ 0,  1,  2,  3,  4,  5,  6,  7,  8,  9, 10, 11, 12, 13, 14, 15, 16,\n",
       "       17, 18, 19, 20, 21, 22, 23, 24])"
      ]
     },
     "execution_count": 24,
     "metadata": {},
     "output_type": "execute_result"
    }
   ],
   "source": [
    "arr"
   ]
  },
  {
   "cell_type": "code",
   "execution_count": 25,
   "id": "2b57075c",
   "metadata": {},
   "outputs": [
    {
     "data": {
      "text/plain": [
       "array([[ 0,  1,  2,  3,  4],\n",
       "       [ 5,  6,  7,  8,  9],\n",
       "       [10, 11, 12, 13, 14],\n",
       "       [15, 16, 17, 18, 19],\n",
       "       [20, 21, 22, 23, 24]])"
      ]
     },
     "execution_count": 25,
     "metadata": {},
     "output_type": "execute_result"
    }
   ],
   "source": [
    "arr.reshape(5, 5)"
   ]
  },
  {
   "cell_type": "markdown",
   "id": "fe05077d",
   "metadata": {},
   "source": [
    "- Keep in mind that when specifying the desired dimensions (rows and columns) for reshaping your array, their product must equal the size of the original array. Otherwise, you'll receive a 'ValueError' message indicating, 'cannot reshape array of size x into shape (y, z).'\n",
    "- You can check the size of your array with the size attribute."
   ]
  },
  {
   "cell_type": "code",
   "execution_count": 26,
   "id": "eb41f002",
   "metadata": {},
   "outputs": [
    {
     "data": {
      "text/plain": [
       "25"
      ]
     },
     "execution_count": 26,
     "metadata": {},
     "output_type": "execute_result"
    }
   ],
   "source": [
    "arr.size"
   ]
  },
  {
   "cell_type": "code",
   "execution_count": 32,
   "id": "9679f85b",
   "metadata": {},
   "outputs": [
    {
     "data": {
      "text/plain": [
       "array([[ 0,  1,  2,  3,  4],\n",
       "       [ 5,  6,  7,  8,  9],\n",
       "       [10, 11, 12, 13, 14],\n",
       "       [15, 16, 17, 18, 19],\n",
       "       [20, 21, 22, 23, 24]])"
      ]
     },
     "execution_count": 32,
     "metadata": {},
     "output_type": "execute_result"
    }
   ],
   "source": [
    "arr.reshape(-1, 5)"
   ]
  },
  {
   "cell_type": "markdown",
   "id": "645193d6",
   "metadata": {},
   "source": [
    "- When you use **-1** as a parameter in the reshape method of a NumPy array or a similar function for reshaping arrays, it is used as a placeholder for an unknown dimension.\n",
    "- This code is reshaping the array arr into a new shape where the number of columns is 5, and the number of rows is automatically determined based on the original size of the array and the requirement that the total number of elements remains the same. In other words, NumPy will calculate the number of rows for you such that the total number of elements is unchanged."
   ]
  },
  {
   "cell_type": "markdown",
   "id": "6586bb1e",
   "metadata": {},
   "source": [
    "<br>"
   ]
  },
  {
   "cell_type": "markdown",
   "id": "3b00508d",
   "metadata": {},
   "source": [
    "<br>"
   ]
  },
  {
   "cell_type": "markdown",
   "id": "72d64f64",
   "metadata": {},
   "source": [
    "**argmin() & argmax() methods**"
   ]
  },
  {
   "cell_type": "code",
   "execution_count": 29,
   "id": "34eea4e5",
   "metadata": {},
   "outputs": [],
   "source": [
    "ran = np.random.randint(0, 101, 10)"
   ]
  },
  {
   "cell_type": "code",
   "execution_count": 30,
   "id": "2f3b0984",
   "metadata": {},
   "outputs": [
    {
     "data": {
      "text/plain": [
       "array([21, 52,  1, 87, 29, 37,  1, 63, 59, 20])"
      ]
     },
     "execution_count": 30,
     "metadata": {},
     "output_type": "execute_result"
    }
   ],
   "source": [
    "ran"
   ]
  },
  {
   "cell_type": "code",
   "execution_count": 31,
   "id": "06f85be6",
   "metadata": {},
   "outputs": [
    {
     "data": {
      "text/plain": [
       "87"
      ]
     },
     "execution_count": 31,
     "metadata": {},
     "output_type": "execute_result"
    }
   ],
   "source": [
    "ran.max()"
   ]
  },
  {
   "cell_type": "code",
   "execution_count": 32,
   "id": "b854e0a2",
   "metadata": {},
   "outputs": [
    {
     "data": {
      "text/plain": [
       "1"
      ]
     },
     "execution_count": 32,
     "metadata": {},
     "output_type": "execute_result"
    }
   ],
   "source": [
    "ran.min()"
   ]
  },
  {
   "cell_type": "code",
   "execution_count": 33,
   "id": "51861995",
   "metadata": {},
   "outputs": [
    {
     "data": {
      "text/plain": [
       "3"
      ]
     },
     "execution_count": 33,
     "metadata": {},
     "output_type": "execute_result"
    }
   ],
   "source": [
    "ran.argmax()"
   ]
  },
  {
   "cell_type": "code",
   "execution_count": 34,
   "id": "374f6e12",
   "metadata": {},
   "outputs": [
    {
     "data": {
      "text/plain": [
       "2"
      ]
     },
     "execution_count": 34,
     "metadata": {},
     "output_type": "execute_result"
    }
   ],
   "source": [
    "ran.argmin()"
   ]
  },
  {
   "cell_type": "markdown",
   "id": "12827b6f",
   "metadata": {},
   "source": [
    "- So the max() and min() functions obviously return the max and in values from the array, but argmax() and argmin() functions return the index location of those max and min numbers. \n",
    "- This is of course intuitive, since that's how argmax and argmin functions work in calculus."
   ]
  },
  {
   "cell_type": "markdown",
   "id": "dc3f4a85",
   "metadata": {},
   "source": [
    "<br>"
   ]
  },
  {
   "cell_type": "markdown",
   "id": "49d759c3",
   "metadata": {},
   "source": [
    "<br>"
   ]
  },
  {
   "cell_type": "markdown",
   "id": "fd1b9033",
   "metadata": {},
   "source": [
    "<h2 align=\"left\">NumPy Indexing and Selection</h2>"
   ]
  },
  {
   "cell_type": "markdown",
   "id": "0105680f",
   "metadata": {},
   "source": [
    "**Indexing and selection on one-dimensional vectors**"
   ]
  },
  {
   "cell_type": "code",
   "execution_count": 34,
   "id": "14b2c07c",
   "metadata": {},
   "outputs": [
    {
     "data": {
      "text/plain": [
       "array([ 0,  1,  2,  3,  4,  5,  6,  7,  8,  9, 10])"
      ]
     },
     "execution_count": 34,
     "metadata": {},
     "output_type": "execute_result"
    }
   ],
   "source": [
    "z = np.arange(0, 11)\n",
    "z"
   ]
  },
  {
   "cell_type": "code",
   "execution_count": 35,
   "id": "74db07bd",
   "metadata": {},
   "outputs": [
    {
     "data": {
      "text/plain": [
       "array([0, 1, 2, 3, 4])"
      ]
     },
     "execution_count": 35,
     "metadata": {},
     "output_type": "execute_result"
    }
   ],
   "source": [
    "z[0:5]"
   ]
  },
  {
   "cell_type": "code",
   "execution_count": 38,
   "id": "63fc9cd5",
   "metadata": {},
   "outputs": [
    {
     "data": {
      "text/plain": [
       "array([0, 1, 2, 3, 4])"
      ]
     },
     "execution_count": 38,
     "metadata": {},
     "output_type": "execute_result"
    }
   ],
   "source": [
    "z[:5]"
   ]
  },
  {
   "cell_type": "code",
   "execution_count": 39,
   "id": "ac08789a",
   "metadata": {},
   "outputs": [
    {
     "data": {
      "text/plain": [
       "array([ 5,  6,  7,  8,  9, 10])"
      ]
     },
     "execution_count": 39,
     "metadata": {},
     "output_type": "execute_result"
    }
   ],
   "source": [
    "z[5:]"
   ]
  },
  {
   "cell_type": "markdown",
   "id": "230a1fd7",
   "metadata": {},
   "source": [
    "- Slices can retrieve multiple elements from an array.\n",
    "- z[:5] includes all elements from index 0 to 4.\n",
    "- On the other hand, z[5:] includes all elements from index 5 to the end of the array."
   ]
  },
  {
   "cell_type": "markdown",
   "id": "9e8fb748",
   "metadata": {},
   "source": [
    "Numpy arrays also have a feature called broadcasting, which essentially means that we can slice an array and assign new values to the sliced elements. **Broadcasting is not possible for lists in Python.**"
   ]
  },
  {
   "cell_type": "code",
   "execution_count": 36,
   "id": "b4796e15",
   "metadata": {},
   "outputs": [
    {
     "data": {
      "text/plain": [
       "array([ 0,  1,  2,  3,  4,  5,  6,  7,  8,  9, 10])"
      ]
     },
     "execution_count": 36,
     "metadata": {},
     "output_type": "execute_result"
    }
   ],
   "source": [
    "z"
   ]
  },
  {
   "cell_type": "code",
   "execution_count": 44,
   "id": "0d9ee5b0",
   "metadata": {},
   "outputs": [],
   "source": [
    "# Insert the number 100 into the first 5 elements of the array..\n",
    "z[:5] = 100"
   ]
  },
  {
   "cell_type": "code",
   "execution_count": 45,
   "id": "4261f4c8",
   "metadata": {},
   "outputs": [
    {
     "data": {
      "text/plain": [
       "array([100, 100, 100, 100, 100,   5,   6,   7,   8,   9,  10])"
      ]
     },
     "execution_count": 45,
     "metadata": {},
     "output_type": "execute_result"
    }
   ],
   "source": [
    "z"
   ]
  },
  {
   "cell_type": "code",
   "execution_count": 46,
   "id": "2c9f05b1",
   "metadata": {},
   "outputs": [],
   "source": [
    "z2 = np.arange(0, 11)"
   ]
  },
  {
   "cell_type": "code",
   "execution_count": 48,
   "id": "6c09f9d1",
   "metadata": {},
   "outputs": [],
   "source": [
    "z2[:5] = [100, 99, 98, 97, 96]"
   ]
  },
  {
   "cell_type": "code",
   "execution_count": 49,
   "id": "ef09b39e",
   "metadata": {},
   "outputs": [
    {
     "data": {
      "text/plain": [
       "array([100,  99,  98,  97,  96,   5,   6,   7,   8,   9,  10])"
      ]
     },
     "execution_count": 49,
     "metadata": {},
     "output_type": "execute_result"
    }
   ],
   "source": [
    "z2"
   ]
  },
  {
   "cell_type": "code",
   "execution_count": 56,
   "id": "9ed6519f",
   "metadata": {},
   "outputs": [],
   "source": [
    "z3 = np.arange(0, 11)"
   ]
  },
  {
   "cell_type": "code",
   "execution_count": 57,
   "id": "aecaa99e",
   "metadata": {},
   "outputs": [],
   "source": [
    "z3[:] = 99"
   ]
  },
  {
   "cell_type": "code",
   "execution_count": 58,
   "id": "78b54ae3",
   "metadata": {},
   "outputs": [
    {
     "data": {
      "text/plain": [
       "array([99, 99, 99, 99, 99, 99, 99, 99, 99, 99, 99])"
      ]
     },
     "execution_count": 58,
     "metadata": {},
     "output_type": "execute_result"
    }
   ],
   "source": [
    "z3"
   ]
  },
  {
   "cell_type": "markdown",
   "id": "7634e2d5",
   "metadata": {},
   "source": [
    "z3[:] selects every element from the array. This way we can assign all the elements of the array to a new value."
   ]
  },
  {
   "cell_type": "markdown",
   "id": "b61e0446",
   "metadata": {},
   "source": [
    "<br>"
   ]
  },
  {
   "cell_type": "markdown",
   "id": "2bce6897",
   "metadata": {},
   "source": [
    "**Indexing on matrices (two-dimensional vectors)**"
   ]
  },
  {
   "cell_type": "code",
   "execution_count": 37,
   "id": "a2cc497c",
   "metadata": {},
   "outputs": [],
   "source": [
    "arr_2d = np.array([[5, 10, 15], [20, 25, 30], [35, 40, 45]])"
   ]
  },
  {
   "cell_type": "code",
   "execution_count": 38,
   "id": "cbe2e059",
   "metadata": {},
   "outputs": [
    {
     "data": {
      "text/plain": [
       "array([[ 5, 10, 15],\n",
       "       [20, 25, 30],\n",
       "       [35, 40, 45]])"
      ]
     },
     "execution_count": 38,
     "metadata": {},
     "output_type": "execute_result"
    }
   ],
   "source": [
    "arr_2d"
   ]
  },
  {
   "cell_type": "code",
   "execution_count": 61,
   "id": "2cce0c0e",
   "metadata": {},
   "outputs": [
    {
     "data": {
      "text/plain": [
       "(3, 3)"
      ]
     },
     "execution_count": 61,
     "metadata": {},
     "output_type": "execute_result"
    }
   ],
   "source": [
    "arr_2d.shape"
   ]
  },
  {
   "cell_type": "markdown",
   "id": "980e94ad",
   "metadata": {},
   "source": [
    "- The shape attribute returns the dimensions of the matrix. \n",
    "- The first element of the returned shape is the number of rows, and second element is the number of columns."
   ]
  },
  {
   "cell_type": "code",
   "execution_count": 62,
   "id": "458c649e",
   "metadata": {},
   "outputs": [
    {
     "data": {
      "text/plain": [
       "array([ 5, 10, 15])"
      ]
     },
     "execution_count": 62,
     "metadata": {},
     "output_type": "execute_result"
    }
   ],
   "source": [
    "arr_2d[0]"
   ]
  },
  {
   "cell_type": "markdown",
   "id": "469b7aa9",
   "metadata": {},
   "source": [
    "- Notice that now when calling index 0 on the matrix, the whole row gets returned from index position zero.\n",
    "- If we want a single element from the matrix, we'll have to specify the row and column positions. This can be done in two ways, as shown below."
   ]
  },
  {
   "cell_type": "code",
   "execution_count": 63,
   "id": "feda4599",
   "metadata": {},
   "outputs": [
    {
     "data": {
      "text/plain": [
       "25"
      ]
     },
     "execution_count": 63,
     "metadata": {},
     "output_type": "execute_result"
    }
   ],
   "source": [
    "# Return the element from row 2, column 2.\n",
    "arr_2d[1][1]"
   ]
  },
  {
   "cell_type": "code",
   "execution_count": 64,
   "id": "00407e7f",
   "metadata": {},
   "outputs": [
    {
     "data": {
      "text/plain": [
       "25"
      ]
     },
     "execution_count": 64,
     "metadata": {},
     "output_type": "execute_result"
    }
   ],
   "source": [
    "# Return the element from row 2, column 2.\n",
    "arr_2d[1, 1]"
   ]
  },
  {
   "cell_type": "markdown",
   "id": "d46f58eb",
   "metadata": {},
   "source": [
    "We can also select by slicing from a matrix."
   ]
  },
  {
   "cell_type": "code",
   "execution_count": 65,
   "id": "81bb4eb7",
   "metadata": {},
   "outputs": [
    {
     "data": {
      "text/plain": [
       "array([[10, 15],\n",
       "       [25, 30]])"
      ]
     },
     "execution_count": 65,
     "metadata": {},
     "output_type": "execute_result"
    }
   ],
   "source": [
    "arr_2d[0:2, 1:3]"
   ]
  },
  {
   "cell_type": "markdown",
   "id": "29a1a35a",
   "metadata": {},
   "source": [
    "- This is done rather intuitively just by slicing both the desired rows and columns.\n",
    "- Here we are telling Python that we want elements from rows 1 and 2 and columns 2 and 3.\n",
    "- Notice that when slicing, the end point is not included in the selection."
   ]
  },
  {
   "cell_type": "code",
   "execution_count": 40,
   "id": "0defe5c2",
   "metadata": {},
   "outputs": [
    {
     "data": {
      "text/plain": [
       "array([ 5, 20, 35])"
      ]
     },
     "execution_count": 40,
     "metadata": {},
     "output_type": "execute_result"
    }
   ],
   "source": [
    "# Select the first column (as a row vector)\n",
    "# This is done by selecting all the rows, and specifying which column you wish to select.\n",
    "arr_2d[:, 0]"
   ]
  },
  {
   "cell_type": "markdown",
   "id": "051324aa",
   "metadata": {},
   "source": [
    "- Notice that the column gets returned as a row vector.\n",
    "- If you wish to return the column as a column vector, you can apply the reshape method to the slicing call."
   ]
  },
  {
   "cell_type": "code",
   "execution_count": 41,
   "id": "c790663d",
   "metadata": {},
   "outputs": [
    {
     "data": {
      "text/plain": [
       "array([[ 5],\n",
       "       [20],\n",
       "       [35]])"
      ]
     },
     "execution_count": 41,
     "metadata": {},
     "output_type": "execute_result"
    }
   ],
   "source": [
    "# Select the first column (as a column vector)\n",
    "arr_2d[:, 0].reshape(-1, 1)"
   ]
  },
  {
   "cell_type": "markdown",
   "id": "c80c9ad1",
   "metadata": {},
   "source": [
    "<br>"
   ]
  },
  {
   "cell_type": "markdown",
   "id": "f67a7ae4",
   "metadata": {},
   "source": [
    "**Conditional Selection**"
   ]
  },
  {
   "cell_type": "code",
   "execution_count": 42,
   "id": "f420a984",
   "metadata": {},
   "outputs": [
    {
     "data": {
      "text/plain": [
       "array([ 1,  2,  3,  4,  5,  6,  7,  8,  9, 10])"
      ]
     },
     "execution_count": 42,
     "metadata": {},
     "output_type": "execute_result"
    }
   ],
   "source": [
    "ara_ara = np.arange(1, 11)\n",
    "ara_ara"
   ]
  },
  {
   "cell_type": "code",
   "execution_count": 67,
   "id": "0c350d7f",
   "metadata": {},
   "outputs": [
    {
     "data": {
      "text/plain": [
       "array([False, False, False, False,  True,  True,  True,  True,  True,\n",
       "        True])"
      ]
     },
     "execution_count": 67,
     "metadata": {},
     "output_type": "execute_result"
    }
   ],
   "source": [
    "# Returns a boolean array where True indicates the the element is greater than 4.\n",
    "ara_ara > 4"
   ]
  },
  {
   "cell_type": "code",
   "execution_count": 68,
   "id": "a5093bd8",
   "metadata": {},
   "outputs": [],
   "source": [
    "bool_arr = ara_ara > 4"
   ]
  },
  {
   "cell_type": "code",
   "execution_count": 69,
   "id": "e913a197",
   "metadata": {},
   "outputs": [
    {
     "data": {
      "text/plain": [
       "array([False, False, False, False,  True,  True,  True,  True,  True,\n",
       "        True])"
      ]
     },
     "execution_count": 69,
     "metadata": {},
     "output_type": "execute_result"
    }
   ],
   "source": [
    "bool_arr"
   ]
  },
  {
   "cell_type": "markdown",
   "id": "527bc932",
   "metadata": {},
   "source": [
    "Now when we have this boolean array, we can use it to select from the original array (ara_ara) based on this condition (values greater than 4). This is called *boolean indexing*."
   ]
  },
  {
   "cell_type": "code",
   "execution_count": 70,
   "id": "a00958a8",
   "metadata": {},
   "outputs": [
    {
     "data": {
      "text/plain": [
       "array([ 5,  6,  7,  8,  9, 10])"
      ]
     },
     "execution_count": 70,
     "metadata": {},
     "output_type": "execute_result"
    }
   ],
   "source": [
    "ara_ara[bool_arr]"
   ]
  },
  {
   "cell_type": "markdown",
   "id": "c8067c7d",
   "metadata": {},
   "source": [
    "And as expected, we get all the values from ara_ara array that are greater than 4.\n",
    "- This can also be done in a single line of code, as shown below."
   ]
  },
  {
   "cell_type": "code",
   "execution_count": 72,
   "id": "8b731a91",
   "metadata": {},
   "outputs": [
    {
     "data": {
      "text/plain": [
       "array([ 5,  6,  7,  8,  9, 10])"
      ]
     },
     "execution_count": 72,
     "metadata": {},
     "output_type": "execute_result"
    }
   ],
   "source": [
    "ara_ara[ara_ara > 4]"
   ]
  },
  {
   "cell_type": "markdown",
   "id": "eeb8b929",
   "metadata": {},
   "source": [
    "<br>"
   ]
  },
  {
   "cell_type": "markdown",
   "id": "a042cc2b",
   "metadata": {},
   "source": [
    "<br>"
   ]
  },
  {
   "cell_type": "markdown",
   "id": "c870f54e",
   "metadata": {},
   "source": [
    "<h2 align=\"left\">NumPy Operations</h2>"
   ]
  },
  {
   "cell_type": "code",
   "execution_count": 44,
   "id": "97ced23b",
   "metadata": {},
   "outputs": [
    {
     "data": {
      "text/plain": [
       "array([0, 1, 2, 3, 4, 5, 6, 7, 8, 9])"
      ]
     },
     "execution_count": 44,
     "metadata": {},
     "output_type": "execute_result"
    }
   ],
   "source": [
    "arr1 = np.arange(0, 10)\n",
    "arr1"
   ]
  },
  {
   "cell_type": "code",
   "execution_count": 77,
   "id": "3c24f14a",
   "metadata": {},
   "outputs": [
    {
     "data": {
      "text/plain": [
       "array([ 5,  6,  7,  8,  9, 10, 11, 12, 13, 14])"
      ]
     },
     "execution_count": 77,
     "metadata": {},
     "output_type": "execute_result"
    }
   ],
   "source": [
    "arr1 + 5"
   ]
  },
  {
   "cell_type": "markdown",
   "id": "ce44ee21",
   "metadata": {},
   "source": [
    "- We can add numbers to arrays. Notice that the number 5 gets added to every element of the array."
   ]
  },
  {
   "cell_type": "markdown",
   "id": "99ef003f",
   "metadata": {},
   "source": [
    "We can also perform various arithmetic operations between arrays, such as addition, subtraction, multiplication, and division."
   ]
  },
  {
   "cell_type": "code",
   "execution_count": 78,
   "id": "a996cbbc",
   "metadata": {},
   "outputs": [
    {
     "data": {
      "text/plain": [
       "array([ 0,  1,  4,  9, 16, 25, 36, 49, 64, 81])"
      ]
     },
     "execution_count": 78,
     "metadata": {},
     "output_type": "execute_result"
    }
   ],
   "source": [
    "arr1 * arr1"
   ]
  },
  {
   "cell_type": "code",
   "execution_count": 79,
   "id": "ad945b2b",
   "metadata": {},
   "outputs": [
    {
     "data": {
      "text/plain": [
       "array([0, 0, 0, 0, 0, 0, 0, 0, 0, 0])"
      ]
     },
     "execution_count": 79,
     "metadata": {},
     "output_type": "execute_result"
    }
   ],
   "source": [
    "arr1 - arr1"
   ]
  },
  {
   "cell_type": "code",
   "execution_count": 80,
   "id": "7baa0e9e",
   "metadata": {},
   "outputs": [],
   "source": [
    "arr2 = np.arange(0, 5)"
   ]
  },
  {
   "cell_type": "code",
   "execution_count": 82,
   "id": "cc770bb2",
   "metadata": {},
   "outputs": [
    {
     "ename": "ValueError",
     "evalue": "operands could not be broadcast together with shapes (10,) (5,) ",
     "output_type": "error",
     "traceback": [
      "\u001b[1;31m---------------------------------------------------------------------------\u001b[0m",
      "\u001b[1;31mValueError\u001b[0m                                Traceback (most recent call last)",
      "Input \u001b[1;32mIn [82]\u001b[0m, in \u001b[0;36m<cell line: 1>\u001b[1;34m()\u001b[0m\n\u001b[1;32m----> 1\u001b[0m \u001b[43marr1\u001b[49m\u001b[43m \u001b[49m\u001b[38;5;241;43m*\u001b[39;49m\u001b[43m \u001b[49m\u001b[43marr2\u001b[49m\n",
      "\u001b[1;31mValueError\u001b[0m: operands could not be broadcast together with shapes (10,) (5,) "
     ]
    }
   ],
   "source": [
    "# ValueError is raised for trying to multiply arr1 and arr2\n",
    "arr1 * arr2"
   ]
  },
  {
   "cell_type": "markdown",
   "id": "8f00f9f4",
   "metadata": {},
   "source": [
    "- Notice that the sizes of the arrays must match when doing operations, or ValueError gets raised.\n",
    "- This is no different from when working with matrices (arrays) in linear algebra."
   ]
  },
  {
   "cell_type": "code",
   "execution_count": 84,
   "id": "1ef59e0f",
   "metadata": {},
   "outputs": [
    {
     "data": {
      "text/plain": [
       "9"
      ]
     },
     "execution_count": 84,
     "metadata": {},
     "output_type": "execute_result"
    }
   ],
   "source": [
    "arr1.max()"
   ]
  },
  {
   "cell_type": "code",
   "execution_count": 85,
   "id": "5cbde828",
   "metadata": {},
   "outputs": [
    {
     "data": {
      "text/plain": [
       "8.25"
      ]
     },
     "execution_count": 85,
     "metadata": {},
     "output_type": "execute_result"
    }
   ],
   "source": [
    "arr1.var()"
   ]
  },
  {
   "cell_type": "code",
   "execution_count": 86,
   "id": "d0f8dade",
   "metadata": {},
   "outputs": [
    {
     "data": {
      "text/plain": [
       "2.8722813232690143"
      ]
     },
     "execution_count": 86,
     "metadata": {},
     "output_type": "execute_result"
    }
   ],
   "source": [
    "arr1.std()"
   ]
  },
  {
   "cell_type": "markdown",
   "id": "c4283fd0",
   "metadata": {},
   "source": [
    "- When working with one-dimensional arrays, you can calculate basic summary statistics using an appropriate method."
   ]
  },
  {
   "cell_type": "markdown",
   "id": "bde2e157",
   "metadata": {},
   "source": [
    "- However, when working with a two-dimensional arrays, we need to take the axis into account.\n",
    "- axis=0 corresponds to rows, and axis=1 corresponds to columns. By default axis=None.\n",
    "- The reasoning behind this is that, in a two-dimensional matrix, the shape is represented as (rows, columns), with index 0 representing rows and index 1 representing columns. Hence, axis=0 corresponds to rows, and axis=1 corresponds to columns."
   ]
  },
  {
   "cell_type": "code",
   "execution_count": 89,
   "id": "cd4942e7",
   "metadata": {},
   "outputs": [],
   "source": [
    "arr_two_dim = np.arange(0, 25).reshape(5, 5)"
   ]
  },
  {
   "cell_type": "code",
   "execution_count": 90,
   "id": "d2514d22",
   "metadata": {},
   "outputs": [
    {
     "data": {
      "text/plain": [
       "array([[ 0,  1,  2,  3,  4],\n",
       "       [ 5,  6,  7,  8,  9],\n",
       "       [10, 11, 12, 13, 14],\n",
       "       [15, 16, 17, 18, 19],\n",
       "       [20, 21, 22, 23, 24]])"
      ]
     },
     "execution_count": 90,
     "metadata": {},
     "output_type": "execute_result"
    }
   ],
   "source": [
    "arr_two_dim"
   ]
  },
  {
   "cell_type": "code",
   "execution_count": 92,
   "id": "8101ae38",
   "metadata": {},
   "outputs": [
    {
     "data": {
      "text/plain": [
       "(5, 5)"
      ]
     },
     "execution_count": 92,
     "metadata": {},
     "output_type": "execute_result"
    }
   ],
   "source": [
    "arr_two_dim.shape"
   ]
  },
  {
   "cell_type": "code",
   "execution_count": 94,
   "id": "d61698fe",
   "metadata": {},
   "outputs": [
    {
     "data": {
      "text/plain": [
       "300"
      ]
     },
     "execution_count": 94,
     "metadata": {},
     "output_type": "execute_result"
    }
   ],
   "source": [
    "arr_two_dim.sum(axis=None)"
   ]
  },
  {
   "cell_type": "code",
   "execution_count": 95,
   "id": "f25a5a7d",
   "metadata": {},
   "outputs": [
    {
     "data": {
      "text/plain": [
       "array([50, 55, 60, 65, 70])"
      ]
     },
     "execution_count": 95,
     "metadata": {},
     "output_type": "execute_result"
    }
   ],
   "source": [
    "arr_two_dim.sum(axis=0)"
   ]
  },
  {
   "cell_type": "code",
   "execution_count": 96,
   "id": "fe24d207",
   "metadata": {},
   "outputs": [
    {
     "data": {
      "text/plain": [
       "array([ 10,  35,  60,  85, 110])"
      ]
     },
     "execution_count": 96,
     "metadata": {},
     "output_type": "execute_result"
    }
   ],
   "source": [
    "arr_two_dim.sum(axis=1)"
   ]
  },
  {
   "cell_type": "markdown",
   "id": "a3c4e6d6",
   "metadata": {},
   "source": [
    "With matrices, there are three ways to calculate sums and various other summary statistics:\n",
    "- axis=None will return the sum of every element in the matrix.\n",
    "- axis=0 will return row-wise sums (notice the plural).\n",
    "- axis=1 will return column-wise sums (notice the plural)."
   ]
  }
 ],
 "metadata": {
  "kernelspec": {
   "display_name": "Python 3 (ipykernel)",
   "language": "python",
   "name": "python3"
  },
  "language_info": {
   "codemirror_mode": {
    "name": "ipython",
    "version": 3
   },
   "file_extension": ".py",
   "mimetype": "text/x-python",
   "name": "python",
   "nbconvert_exporter": "python",
   "pygments_lexer": "ipython3",
   "version": "3.9.12"
  }
 },
 "nbformat": 4,
 "nbformat_minor": 5
}
