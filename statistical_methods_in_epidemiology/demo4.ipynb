{
 "cells": [
  {
   "cell_type": "code",
   "execution_count": 1,
   "id": "d071535a",
   "metadata": {},
   "outputs": [],
   "source": [
    "import numpy as np\n",
    "import pandas as pd\n",
    "import statsmodels.api as sm\n",
    "import statsmodels.formula.api as smf\n",
    "import matplotlib.pyplot as plt\n",
    "import rpy2.robjects as ro\n",
    "from rpy2.robjects import pandas2ri\n",
    "from rpy2.robjects.packages import importr\n",
    "import rpy2\n",
    "from sklearn.preprocessing import OrdinalEncoder\n",
    "from sklearn.pipeline import make_pipeline\n",
    "from sklearn.compose import ColumnTransformer\n",
    "import sklearn\n",
    "from scipy.stats import chi2"
   ]
  },
  {
   "cell_type": "code",
   "execution_count": 2,
   "id": "e1dd7645",
   "metadata": {},
   "outputs": [],
   "source": [
    "sklearn.set_config(transform_output='pandas')"
   ]
  },
  {
   "cell_type": "markdown",
   "id": "c7b1e0f6",
   "metadata": {},
   "source": [
    "<h2>Task 2</h2>"
   ]
  },
  {
   "cell_type": "code",
   "execution_count": 2,
   "id": "6273dc2d",
   "metadata": {},
   "outputs": [],
   "source": [
    "df = pd.read_csv('/Users/herrakaava/Documents/school/statistical_methods_epidemiology/data/diet_data.csv', index_col=0)"
   ]
  },
  {
   "cell_type": "code",
   "execution_count": 3,
   "id": "8bfd01cc",
   "metadata": {},
   "outputs": [
    {
     "data": {
      "text/html": [
       "<div>\n",
       "<style scoped>\n",
       "    .dataframe tbody tr th:only-of-type {\n",
       "        vertical-align: middle;\n",
       "    }\n",
       "\n",
       "    .dataframe tbody tr th {\n",
       "        vertical-align: top;\n",
       "    }\n",
       "\n",
       "    .dataframe thead th {\n",
       "        text-align: right;\n",
       "    }\n",
       "</style>\n",
       "<table border=\"1\" class=\"dataframe\">\n",
       "  <thead>\n",
       "    <tr style=\"text-align: right;\">\n",
       "      <th></th>\n",
       "      <th>Age</th>\n",
       "      <th>Energy</th>\n",
       "      <th>logY</th>\n",
       "      <th>D</th>\n",
       "    </tr>\n",
       "  </thead>\n",
       "  <tbody>\n",
       "    <tr>\n",
       "      <th>1</th>\n",
       "      <td>1</td>\n",
       "      <td>1</td>\n",
       "      <td>5.742683</td>\n",
       "      <td>2</td>\n",
       "    </tr>\n",
       "    <tr>\n",
       "      <th>2</th>\n",
       "      <td>2</td>\n",
       "      <td>1</td>\n",
       "      <td>6.777760</td>\n",
       "      <td>12</td>\n",
       "    </tr>\n",
       "    <tr>\n",
       "      <th>3</th>\n",
       "      <td>3</td>\n",
       "      <td>1</td>\n",
       "      <td>6.503539</td>\n",
       "      <td>14</td>\n",
       "    </tr>\n",
       "    <tr>\n",
       "      <th>4</th>\n",
       "      <td>1</td>\n",
       "      <td>0</td>\n",
       "      <td>6.410010</td>\n",
       "      <td>4</td>\n",
       "    </tr>\n",
       "    <tr>\n",
       "      <th>5</th>\n",
       "      <td>2</td>\n",
       "      <td>0</td>\n",
       "      <td>7.147638</td>\n",
       "      <td>5</td>\n",
       "    </tr>\n",
       "    <tr>\n",
       "      <th>6</th>\n",
       "      <td>3</td>\n",
       "      <td>0</td>\n",
       "      <td>6.789985</td>\n",
       "      <td>8</td>\n",
       "    </tr>\n",
       "  </tbody>\n",
       "</table>\n",
       "</div>"
      ],
      "text/plain": [
       "   Age  Energy      logY   D\n",
       "1    1       1  5.742683   2\n",
       "2    2       1  6.777760  12\n",
       "3    3       1  6.503539  14\n",
       "4    1       0  6.410010   4\n",
       "5    2       0  7.147638   5\n",
       "6    3       0  6.789985   8"
      ]
     },
     "execution_count": 3,
     "metadata": {},
     "output_type": "execute_result"
    }
   ],
   "source": [
    "df"
   ]
  },
  {
   "cell_type": "markdown",
   "id": "c8aaed27",
   "metadata": {},
   "source": [
    "Let \n",
    "- $\\, D_j(t) = \\text{Number of events observed for group j at time t} \\,$ \n",
    "- $\\, Y_j(t) = \\text{Exposure time (time at risk, person-time) for group j at time t} \\,$ \n",
    "- $\\, \\lambda_j(t) = \\text{hazard rate (events per unit time) for group j at time t} \\,$ \n",
    "\n",
    "\n",
    "\\begin{align*}\n",
    "    \\mathbb{E}[D_j(t)] &= \\lambda_j(t) Y_j(t) \\\\\n",
    "    \\text{log}(\\mathbb{E}[D_j(t)]) &= \\text{log}(\\lambda_j(t) Y_j(t)) \\\\\n",
    "    \\text{log}(\\mathbb{E}[D_j(t)]) &= \\text{log}(\\lambda_j(t)) + \\text{log}(Y_j(t)) \\\\\n",
    "\\end{align*}\n",
    "\n",
    "Modelling assumption in [Poisson regression](https://en.wikipedia.org/wiki/Poisson_regression). Hence\n",
    "\n",
    "\\begin{equation*}\n",
    "    \\text{log}(\\lambda_j(t)) = \\beta_0 + \\beta_1 \\, \\text{Energy}_i + \\beta_2 \\, \\text{Age}_i\n",
    "\\end{equation*}\n",
    "\n",
    "(i.e., the logarithmic rate is modelled as linear function of the covariates). And finally\n",
    "\n",
    "\\begin{align*}\n",
    "    \\text{log}(\\mathbb{E}[D_j(t)]) &= \\text{log}(\\lambda_j(t)) + \\text{log}(Y_j(t)) \\\\\n",
    "    &= \\beta_0 + \\beta_1 \\, \\text{Energy}_i + \\beta_2 \\, \\text{Age}_i + \\text{log}(Y_j(t)).\n",
    "\\end{align*}\n",
    "\n",
    "Rearranging the equation gives the hazard\n",
    "\n",
    "\\begin{align*}\n",
    "    \\text{log}(\\mathbb{E}[D_j(t)]) &= \\text{log}(\\lambda_j(t)) + \\text{log}(Y_j(t)) \\\\\n",
    "    \\text{log}(\\mathbb{E}[D_j(t)]) - \\text{log}(Y_j(t)) &= \\text{log}(\\lambda_j(t)) \\\\\n",
    "    \\text{log}(\\lambda_j(t)) &= \\text{log} \\left(\\frac{\\mathbb{E}[D_j(t)]}{Y_j(t)} \\right) \\\\\n",
    "    \\lambda_j(t) &= \\frac{\\mathbb{E}[D_j(t)]}{Y_j(t)}\n",
    "\\end{align*}"
   ]
  },
  {
   "cell_type": "code",
   "execution_count": 4,
   "id": "3d6d23ee",
   "metadata": {},
   "outputs": [],
   "source": [
    "model = smf.glm(\n",
    "    formula='D ~ C(Energy) + C(Age)',\n",
    "    data=df,\n",
    "    family=sm.families.Poisson(),\n",
    "    offset=df['logY']\n",
    ")\n",
    "fit = model.fit()"
   ]
  },
  {
   "cell_type": "code",
   "execution_count": 5,
   "id": "56e04ee9",
   "metadata": {},
   "outputs": [
    {
     "name": "stdout",
     "output_type": "stream",
     "text": [
      "                 Generalized Linear Model Regression Results                  \n",
      "==============================================================================\n",
      "Dep. Variable:                      D   No. Observations:                    6\n",
      "Model:                            GLM   Df Residuals:                        2\n",
      "Model Family:                 Poisson   Df Model:                            3\n",
      "Link Function:                    Log   Scale:                          1.0000\n",
      "Method:                          IRLS   Log-Likelihood:                -11.897\n",
      "Date:                Sun, 06 Apr 2025   Deviance:                       1.6705\n",
      "Time:                        16:10:11   Pearson chi2:                     1.65\n",
      "No. Iterations:                     5   Pseudo R-squ. (CS):             0.8834\n",
      "Covariance Type:            nonrobust                                         \n",
      "==================================================================================\n",
      "                     coef    std err          z      P>|z|      [0.025      0.975]\n",
      "----------------------------------------------------------------------------------\n",
      "Intercept         -5.4175      0.442    -12.255      0.000      -6.284      -4.551\n",
      "C(Energy)[T.1]     0.8694      0.308      2.822      0.005       0.266       1.473\n",
      "C(Age)[T.2]        0.1293      0.475      0.272      0.786      -0.802       1.061\n",
      "C(Age)[T.3]        0.6921      0.461      1.500      0.134      -0.212       1.596\n",
      "==================================================================================\n"
     ]
    }
   ],
   "source": [
    "print(fit.summary())"
   ]
  },
  {
   "cell_type": "markdown",
   "id": "bdf2d7ed",
   "metadata": {},
   "source": [
    "- Note that the coefficients are on log scale.\n",
    "- To interpret them as multiplicative effects of the hazard rate, they need to be exponentiated."
   ]
  },
  {
   "cell_type": "code",
   "execution_count": 31,
   "id": "96e95854",
   "metadata": {},
   "outputs": [
    {
     "data": {
      "text/html": [
       "<div>\n",
       "<style scoped>\n",
       "    .dataframe tbody tr th:only-of-type {\n",
       "        vertical-align: middle;\n",
       "    }\n",
       "\n",
       "    .dataframe tbody tr th {\n",
       "        vertical-align: top;\n",
       "    }\n",
       "\n",
       "    .dataframe thead th {\n",
       "        text-align: right;\n",
       "    }\n",
       "</style>\n",
       "<table border=\"1\" class=\"dataframe\">\n",
       "  <thead>\n",
       "    <tr style=\"text-align: right;\">\n",
       "      <th></th>\n",
       "      <th>5%</th>\n",
       "      <th>Hazard ratio</th>\n",
       "      <th>95%</th>\n",
       "    </tr>\n",
       "  </thead>\n",
       "  <tbody>\n",
       "    <tr>\n",
       "      <th>0</th>\n",
       "      <td>1.437</td>\n",
       "      <td>2.385</td>\n",
       "      <td>3.959</td>\n",
       "    </tr>\n",
       "  </tbody>\n",
       "</table>\n",
       "</div>"
      ],
      "text/plain": [
       "      5%  Hazard ratio    95%\n",
       "0  1.437         2.385  3.959"
      ]
     },
     "execution_count": 31,
     "metadata": {},
     "output_type": "execute_result"
    }
   ],
   "source": [
    "# Point estimate for Hazard ratio (high. vs. low energy intake)\n",
    "# and its 90% confidence interval\n",
    "\n",
    "CI = np.exp(fit.conf_int(alpha=0.1).loc['C(Energy)[T.1]'])\n",
    "pd.DataFrame({\n",
    "    '5%': [np.round(CI[0], 3)],\n",
    "    'Hazard ratio': [np.exp(fit.params['C(Energy)[T.1]']).round(3)],\n",
    "    '95%': [np.round(CI[1], 3)]\n",
    "})"
   ]
  },
  {
   "cell_type": "markdown",
   "id": "c2ac966c",
   "metadata": {},
   "source": [
    "- `Energy` group 1 has $\\, \\approx 2.385 \\,$ times higher hazard than the reference group (`Energy` group 0)."
   ]
  },
  {
   "cell_type": "markdown",
   "id": "55ec05bd",
   "metadata": {},
   "source": [
    "<h2>Task 3</h2>"
   ]
  },
  {
   "cell_type": "code",
   "execution_count": 3,
   "id": "63047a20",
   "metadata": {},
   "outputs": [],
   "source": [
    "plasma = pd.read_csv('/Users/herrakaava/Documents/school/statistical_methods_epidemiology/data/plasma.csv', index_col=0)"
   ]
  },
  {
   "cell_type": "code",
   "execution_count": 7,
   "id": "ecf5cd4b",
   "metadata": {},
   "outputs": [
    {
     "data": {
      "text/html": [
       "<div>\n",
       "<style scoped>\n",
       "    .dataframe tbody tr th:only-of-type {\n",
       "        vertical-align: middle;\n",
       "    }\n",
       "\n",
       "    .dataframe tbody tr th {\n",
       "        vertical-align: top;\n",
       "    }\n",
       "\n",
       "    .dataframe thead th {\n",
       "        text-align: right;\n",
       "    }\n",
       "</style>\n",
       "<table border=\"1\" class=\"dataframe\">\n",
       "  <thead>\n",
       "    <tr style=\"text-align: right;\">\n",
       "      <th></th>\n",
       "      <th>fibrinogen</th>\n",
       "      <th>globulin</th>\n",
       "      <th>ESR</th>\n",
       "    </tr>\n",
       "  </thead>\n",
       "  <tbody>\n",
       "    <tr>\n",
       "      <th>1</th>\n",
       "      <td>2.52</td>\n",
       "      <td>38</td>\n",
       "      <td>ESR &lt; 20</td>\n",
       "    </tr>\n",
       "    <tr>\n",
       "      <th>2</th>\n",
       "      <td>2.56</td>\n",
       "      <td>31</td>\n",
       "      <td>ESR &lt; 20</td>\n",
       "    </tr>\n",
       "    <tr>\n",
       "      <th>3</th>\n",
       "      <td>2.19</td>\n",
       "      <td>33</td>\n",
       "      <td>ESR &lt; 20</td>\n",
       "    </tr>\n",
       "    <tr>\n",
       "      <th>4</th>\n",
       "      <td>2.18</td>\n",
       "      <td>31</td>\n",
       "      <td>ESR &lt; 20</td>\n",
       "    </tr>\n",
       "    <tr>\n",
       "      <th>5</th>\n",
       "      <td>3.41</td>\n",
       "      <td>37</td>\n",
       "      <td>ESR &lt; 20</td>\n",
       "    </tr>\n",
       "  </tbody>\n",
       "</table>\n",
       "</div>"
      ],
      "text/plain": [
       "   fibrinogen  globulin       ESR\n",
       "1        2.52        38  ESR < 20\n",
       "2        2.56        31  ESR < 20\n",
       "3        2.19        33  ESR < 20\n",
       "4        2.18        31  ESR < 20\n",
       "5        3.41        37  ESR < 20"
      ]
     },
     "execution_count": 7,
     "metadata": {},
     "output_type": "execute_result"
    }
   ],
   "source": [
    "plasma.head()"
   ]
  },
  {
   "cell_type": "code",
   "execution_count": 8,
   "id": "0f6b38c7",
   "metadata": {},
   "outputs": [
    {
     "name": "stdout",
     "output_type": "stream",
     "text": [
      "<class 'pandas.core.frame.DataFrame'>\n",
      "Index: 32 entries, 1 to 29\n",
      "Data columns (total 3 columns):\n",
      " #   Column      Non-Null Count  Dtype  \n",
      "---  ------      --------------  -----  \n",
      " 0   fibrinogen  32 non-null     float64\n",
      " 1   globulin    32 non-null     int64  \n",
      " 2   ESR         32 non-null     object \n",
      "dtypes: float64(1), int64(1), object(1)\n",
      "memory usage: 1.0+ KB\n"
     ]
    }
   ],
   "source": [
    "plasma.info()"
   ]
  },
  {
   "cell_type": "code",
   "execution_count": 9,
   "id": "15ad3216",
   "metadata": {},
   "outputs": [
    {
     "data": {
      "text/plain": [
       "fibrinogen    False\n",
       "globulin      False\n",
       "ESR           False\n",
       "dtype: bool"
      ]
     },
     "execution_count": 9,
     "metadata": {},
     "output_type": "execute_result"
    }
   ],
   "source": [
    "plasma.isna().any()"
   ]
  },
  {
   "cell_type": "code",
   "execution_count": 10,
   "id": "9ecb2666",
   "metadata": {},
   "outputs": [
    {
     "data": {
      "text/plain": [
       "ESR\n",
       "ESR < 20    26\n",
       "ESR > 20     6\n",
       "Name: count, dtype: int64"
      ]
     },
     "execution_count": 10,
     "metadata": {},
     "output_type": "execute_result"
    }
   ],
   "source": [
    "plasma['ESR'].value_counts()"
   ]
  },
  {
   "cell_type": "code",
   "execution_count": 14,
   "id": "61089036",
   "metadata": {},
   "outputs": [],
   "source": [
    "def convert_pandas_2_R(df):\n",
    "    # Activate the automatic conversion of pandas DataFrames to R dataframes\n",
    "    pandas2ri.activate()\n",
    "\n",
    "    # Convert Python's DataFrame to R data.frame\n",
    "    r_df = pandas2ri.py2rpy(df)\n",
    "\n",
    "    # Assign the converted dataframe to the R environment\n",
    "    ro.globalenv['r_df'] = r_df"
   ]
  },
  {
   "cell_type": "code",
   "execution_count": 15,
   "id": "971f5ce9",
   "metadata": {},
   "outputs": [],
   "source": [
    "convert_pandas_2_R(plasma)"
   ]
  },
  {
   "cell_type": "code",
   "execution_count": 17,
   "id": "376f72c3",
   "metadata": {},
   "outputs": [],
   "source": [
    "%load_ext rpy2.ipython"
   ]
  },
  {
   "cell_type": "code",
   "execution_count": 22,
   "id": "c1fc77d0",
   "metadata": {},
   "outputs": [],
   "source": [
    "%%R\n",
    "r_df$ESR <- as.factor(r_df$ESR)"
   ]
  },
  {
   "cell_type": "code",
   "execution_count": 23,
   "id": "6a1213b5",
   "metadata": {},
   "outputs": [
    {
     "data": {
      "image/png": "[encoded data removed]",
      "text/plain": [
       "<IPython.core.display.Image object>"
      ]
     },
     "metadata": {},
     "output_type": "display_data"
    }
   ],
   "source": [
    "%%R\n",
    "cdplot(ESR ~ fibrinogen, data = r_df)"
   ]
  },
  {
   "cell_type": "code",
   "execution_count": 24,
   "id": "4461d8b4",
   "metadata": {},
   "outputs": [
    {
     "data": {
      "image/png": "[encoded data removed]",
      "text/plain": [
       "<IPython.core.display.Image object>"
      ]
     },
     "metadata": {},
     "output_type": "display_data"
    }
   ],
   "source": [
    "%%R\n",
    "cdplot(ESR ~ globulin, data = r_df)"
   ]
  },
  {
   "cell_type": "markdown",
   "id": "7820227a",
   "metadata": {},
   "source": [
    "<h2>Task 4</h2>"
   ]
  },
  {
   "cell_type": "code",
   "execution_count": 4,
   "id": "ec403e8f",
   "metadata": {},
   "outputs": [],
   "source": [
    "def preprocess_label(data):\n",
    "    pipe = make_pipeline(OrdinalEncoder(dtype=int))\n",
    "    preprocess = ColumnTransformer([\n",
    "        ('le', pipe, ['ESR'])\n",
    "    ], remainder='passthrough', verbose_feature_names_out=False)\n",
    "    transformed_data = preprocess.fit_transform(data)\n",
    "    return transformed_data"
   ]
  },
  {
   "cell_type": "code",
   "execution_count": 5,
   "id": "f2b11008",
   "metadata": {},
   "outputs": [],
   "source": [
    "plasma2 = preprocess_label(data=plasma)"
   ]
  },
  {
   "cell_type": "markdown",
   "id": "bd0960f7",
   "metadata": {},
   "source": [
    "- `ESR < 20` $\\quad \\rightarrow \\quad$ 0\n",
    "- `ESR > 20` $\\quad \\rightarrow \\quad$ 1"
   ]
  },
  {
   "cell_type": "code",
   "execution_count": 6,
   "id": "450332c0",
   "metadata": {},
   "outputs": [],
   "source": [
    "def log_reg(data, formula):\n",
    "    model = smf.logit(formula=formula, data=data)\n",
    "    fit = model.fit()\n",
    "    return model, fit"
   ]
  },
  {
   "cell_type": "code",
   "execution_count": 7,
   "id": "ae2599cc",
   "metadata": {},
   "outputs": [
    {
     "name": "stdout",
     "output_type": "stream",
     "text": [
      "Optimization terminated successfully.\n",
      "         Current function value: 0.388131\n",
      "         Iterations 6\n"
     ]
    }
   ],
   "source": [
    "model1, fit1 = log_reg(data=plasma2, formula='ESR ~ fibrinogen')"
   ]
  },
  {
   "cell_type": "code",
   "execution_count": 8,
   "id": "d462992b",
   "metadata": {},
   "outputs": [
    {
     "name": "stdout",
     "output_type": "stream",
     "text": [
      "                           Logit Regression Results                           \n",
      "==============================================================================\n",
      "Dep. Variable:                    ESR   No. Observations:                   32\n",
      "Model:                          Logit   Df Residuals:                       30\n",
      "Method:                           MLE   Df Model:                            1\n",
      "Date:                Mon, 07 Apr 2025   Pseudo R-squ.:                  0.1957\n",
      "Time:                        10:11:06   Log-Likelihood:                -12.420\n",
      "converged:                       True   LL-Null:                       -15.442\n",
      "Covariance Type:            nonrobust   LLR p-value:                   0.01395\n",
      "==============================================================================\n",
      "                 coef    std err          z      P>|z|      [0.025      0.975]\n",
      "------------------------------------------------------------------------------\n",
      "Intercept     -6.8451      2.770     -2.471      0.013     -12.275      -1.415\n",
      "fibrinogen     1.8271      0.901      2.028      0.043       0.061       3.593\n",
      "==============================================================================\n"
     ]
    }
   ],
   "source": [
    "print(fit1.summary())"
   ]
  },
  {
   "cell_type": "code",
   "execution_count": 9,
   "id": "722cdac1",
   "metadata": {},
   "outputs": [
    {
     "data": {
      "text/plain": [
       "6.215715448566732"
      ]
     },
     "execution_count": 9,
     "metadata": {},
     "output_type": "execute_result"
    }
   ],
   "source": [
    "np.exp(fit1.params['fibrinogen'])"
   ]
  },
  {
   "cell_type": "markdown",
   "id": "0b2ca69f",
   "metadata": {},
   "source": [
    "- A one-unit increase in fibrinogen increases the odds of class `ESR > 20` by a factor of 6.22."
   ]
  },
  {
   "cell_type": "code",
   "execution_count": 10,
   "id": "249a3d2a",
   "metadata": {},
   "outputs": [
    {
     "data": {
      "text/html": [
       "<div>\n",
       "<style scoped>\n",
       "    .dataframe tbody tr th:only-of-type {\n",
       "        vertical-align: middle;\n",
       "    }\n",
       "\n",
       "    .dataframe tbody tr th {\n",
       "        vertical-align: top;\n",
       "    }\n",
       "\n",
       "    .dataframe thead th {\n",
       "        text-align: right;\n",
       "    }\n",
       "</style>\n",
       "<table border=\"1\" class=\"dataframe\">\n",
       "  <thead>\n",
       "    <tr style=\"text-align: right;\">\n",
       "      <th></th>\n",
       "      <th>5%</th>\n",
       "      <th>95%</th>\n",
       "    </tr>\n",
       "  </thead>\n",
       "  <tbody>\n",
       "    <tr>\n",
       "      <th>fibrinogen</th>\n",
       "      <td>1.41242</td>\n",
       "      <td>27.353836</td>\n",
       "    </tr>\n",
       "  </tbody>\n",
       "</table>\n",
       "</div>"
      ],
      "text/plain": [
       "                 5%        95%\n",
       "fibrinogen  1.41242  27.353836"
      ]
     },
     "execution_count": 10,
     "metadata": {},
     "output_type": "execute_result"
    }
   ],
   "source": [
    "np.exp(pd.DataFrame(fit1.conf_int(alpha=0.1).loc['fibrinogen']).T.set_axis(['5%', '95%'], axis=1))"
   ]
  },
  {
   "cell_type": "markdown",
   "id": "b22b1bf7",
   "metadata": {},
   "source": [
    "<h2>Task 5</h2>"
   ]
  },
  {
   "cell_type": "code",
   "execution_count": 11,
   "id": "e9ea9285",
   "metadata": {},
   "outputs": [
    {
     "name": "stdout",
     "output_type": "stream",
     "text": [
      "Optimization terminated successfully.\n",
      "         Current function value: 0.358924\n",
      "         Iterations 7\n"
     ]
    }
   ],
   "source": [
    "model2, fit2 = log_reg(data=plasma2, formula='ESR ~ fibrinogen + globulin')"
   ]
  },
  {
   "cell_type": "code",
   "execution_count": 12,
   "id": "fa810063",
   "metadata": {},
   "outputs": [
    {
     "name": "stdout",
     "output_type": "stream",
     "text": [
      "                           Logit Regression Results                           \n",
      "==============================================================================\n",
      "Dep. Variable:                    ESR   No. Observations:                   32\n",
      "Model:                          Logit   Df Residuals:                       29\n",
      "Method:                           MLE   Df Model:                            2\n",
      "Date:                Mon, 07 Apr 2025   Pseudo R-squ.:                  0.2562\n",
      "Time:                        10:11:23   Log-Likelihood:                -11.486\n",
      "converged:                       True   LL-Null:                       -15.442\n",
      "Covariance Type:            nonrobust   LLR p-value:                   0.01912\n",
      "==============================================================================\n",
      "                 coef    std err          z      P>|z|      [0.025      0.975]\n",
      "------------------------------------------------------------------------------\n",
      "Intercept    -12.7921      5.796     -2.207      0.027     -24.153      -1.431\n",
      "fibrinogen     1.9104      0.971      1.967      0.049       0.007       3.813\n",
      "globulin       0.1558      0.120      1.303      0.193      -0.079       0.390\n",
      "==============================================================================\n"
     ]
    }
   ],
   "source": [
    "print(fit2.summary())"
   ]
  },
  {
   "cell_type": "code",
   "execution_count": 13,
   "id": "61b55806",
   "metadata": {},
   "outputs": [
    {
     "name": "stdout",
     "output_type": "stream",
     "text": [
      "6.75557916477474\n",
      "1.1685669309492768\n"
     ]
    }
   ],
   "source": [
    "print(np.exp(fit2.params['fibrinogen']))\n",
    "print(np.exp(fit2.params['globulin']))"
   ]
  },
  {
   "cell_type": "markdown",
   "id": "39df2701",
   "metadata": {},
   "source": [
    "- A one-unit increase in fibrinogen increases the odds of class `ESR > 20` by a factor of 6.76, while `globulin` is held constant.\n",
    "- A one-unit increase in globulin increases the odds of class `ESR > 20` by a factor of 1.17, while `fibrinogen` is held constant."
   ]
  },
  {
   "cell_type": "code",
   "execution_count": 15,
   "id": "6a8a020d",
   "metadata": {},
   "outputs": [
    {
     "data": {
      "text/html": [
       "<div>\n",
       "<style scoped>\n",
       "    .dataframe tbody tr th:only-of-type {\n",
       "        vertical-align: middle;\n",
       "    }\n",
       "\n",
       "    .dataframe tbody tr th {\n",
       "        vertical-align: top;\n",
       "    }\n",
       "\n",
       "    .dataframe thead th {\n",
       "        text-align: right;\n",
       "    }\n",
       "</style>\n",
       "<table border=\"1\" class=\"dataframe\">\n",
       "  <thead>\n",
       "    <tr style=\"text-align: right;\">\n",
       "      <th></th>\n",
       "      <th>5%</th>\n",
       "      <th>95%</th>\n",
       "    </tr>\n",
       "  </thead>\n",
       "  <tbody>\n",
       "    <tr>\n",
       "      <th>fibrinogen</th>\n",
       "      <td>1.367821</td>\n",
       "      <td>33.365375</td>\n",
       "    </tr>\n",
       "    <tr>\n",
       "      <th>globulin</th>\n",
       "      <td>0.959978</td>\n",
       "      <td>1.422479</td>\n",
       "    </tr>\n",
       "  </tbody>\n",
       "</table>\n",
       "</div>"
      ],
      "text/plain": [
       "                  5%        95%\n",
       "fibrinogen  1.367821  33.365375\n",
       "globulin    0.959978   1.422479"
      ]
     },
     "execution_count": 15,
     "metadata": {},
     "output_type": "execute_result"
    }
   ],
   "source": [
    "np.exp(fit2.conf_int(alpha=0.1).loc[['fibrinogen', 'globulin']].set_axis(['5%', '95%'], axis=1))"
   ]
  },
  {
   "cell_type": "markdown",
   "id": "954308e3",
   "metadata": {},
   "source": [
    "- Since the $\\, 90\\% \\,$ CI of the OR for `globulin` includes 1, it is not statistically significant."
   ]
  },
  {
   "cell_type": "markdown",
   "id": "4b0dafb8",
   "metadata": {},
   "source": [
    "Likelihood ratio is a ratio of likelihoods\n",
    "\n",
    "$$ \\Lambda = \\frac{L_{\\text{reduced}}}{L_{\\text{full}}}. $$\n",
    "\n",
    "The test statistic is given by\n",
    "\n",
    "\\begin{equation*}\n",
    "    D = -2 \\, \\text{log}(\\Lambda) = -2 \\, \\text{log} \\left(\\frac{L_{\\text{reduced}}}{L_{\\text{full}}} \\right) = -2 (l_{\\text{reduced}} - l_{\\text{full}}) = 2 (l_{\\text{full}} - l_{\\text{reduced}}),\n",
    "\\end{equation*}\n",
    "\n",
    "where $\\, l \\,$ is the log-likelihood."
   ]
  },
  {
   "cell_type": "code",
   "execution_count": 39,
   "id": "1ddd4d8d",
   "metadata": {},
   "outputs": [],
   "source": [
    "def LR_test(fit1, fit2):\n",
    "    D = 2 * (fit2.llf - fit1.llf)\n",
    "    df_diff = fit2.df_model - fit1.df_model\n",
    "    p = chi2.sf(D, df_diff)\n",
    "    return {\n",
    "        'Deviance': np.round(D, 4),\n",
    "        'Pr(>Chi)': np.round(p,4)\n",
    "    }"
   ]
  },
  {
   "cell_type": "code",
   "execution_count": 40,
   "id": "a3ac378e",
   "metadata": {},
   "outputs": [
    {
     "data": {
      "text/plain": [
       "{'Deviance': 1.8692, 'Pr(>Chi)': 0.1716}"
      ]
     },
     "execution_count": 40,
     "metadata": {},
     "output_type": "execute_result"
    }
   ],
   "source": [
    "LR_test(fit1, fit2)"
   ]
  },
  {
   "cell_type": "markdown",
   "id": "842663c2",
   "metadata": {},
   "source": [
    "- Since the p-value is by far greater than any conventionally used threshold for statistical significance, we can conclude that there is not enough evidence to suggest that `globulin` significantly improves the model's fit to the data."
   ]
  },
  {
   "cell_type": "markdown",
   "id": "fdf5dcbc",
   "metadata": {},
   "source": [
    "<h2>Task 6</h2>"
   ]
  },
  {
   "cell_type": "markdown",
   "id": "f511989a",
   "metadata": {},
   "source": [
    "[Reference](https://www.teachepi.org/wp-content/uploads/OldTE/documents/courses/fundamentals/Pai_Lecture12_Case%20Control%20Studies.pdf)"
   ]
  },
  {
   "cell_type": "markdown",
   "id": "a4d32daf",
   "metadata": {},
   "source": [
    "<table style=\"width:100%\">\n",
    "    <tr>\n",
    "        <td style=\"text-align:center\"> <b>Sampling design</b> </td>\n",
    "        <td style=\"text-align:center\"> <b>Controls samples from</b> </td>\n",
    "        <td style=\"text-align:center\"> <b>Effect measure that is estimated</b> </td>\n",
    "    </tr>\n",
    "    <tr>\n",
    "        <td style=\"text-align:center\">Cumulative sampling (traditional case control study)</td>\n",
    "        <td style=\"text-align:center\">People disease-free throughout the study period (\"survivors\" at the end of the follow-up) </td>\n",
    "        <td style=\"text-align:center\">Odds ratio (OR), which may numerically equal CIR if rare disease assumption holds</td>\n",
    "    </tr>\n",
    "    <tr>\n",
    "        <td style=\"text-align:center\">Case-cohort sampling</td>\n",
    "        <td style=\"text-align:center\">The baseline cohort (regardless of future disease status)</td>\n",
    "        <td style=\"text-align:center\">Cumulative incidence ratio (CIR) (does not need rare disease assumption)</td>\n",
    "    </tr> \n",
    "    <tr>\n",
    "        <td style=\"text-align:center\">Risk set sampling / incidence density sampling</td> \n",
    "        <td style=\"text-align:center\">People currenctly at risk in the risk set at the time an incidence case occurs in the study base</td> \n",
    "        <td style=\"text-align:center\">Incidence density ratio (IDR) (does not need rare disease assumption)</td>\n",
    "</table>"
   ]
  }
 ],
 "metadata": {
  "kernelspec": {
   "display_name": "Python 3 (ipykernel)",
   "language": "python",
   "name": "python3"
  },
  "language_info": {
   "codemirror_mode": {
    "name": "ipython",
    "version": 3
   },
   "file_extension": ".py",
   "mimetype": "text/x-python",
   "name": "python",
   "nbconvert_exporter": "python",
   "pygments_lexer": "ipython3",
   "version": "3.12.5"
  }
 },
 "nbformat": 4,
 "nbformat_minor": 5
}
