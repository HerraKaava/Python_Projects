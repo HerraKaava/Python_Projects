{
 "cells": [
  {
   "cell_type": "markdown",
   "id": "b1d47955",
   "metadata": {},
   "source": [
    "<h1 align=\"center\">Tilastollinen Päättely 2, Demo 1</h1>"
   ]
  },
  {
   "cell_type": "markdown",
   "id": "1cd960a7",
   "metadata": {},
   "source": [
    "<br>"
   ]
  },
  {
   "cell_type": "markdown",
   "id": "d5c11570",
   "metadata": {},
   "source": [
    "<h3 align=\"left\">Tehtävä 1</h3>"
   ]
  },
  {
   "cell_type": "markdown",
   "id": "1b684668",
   "metadata": {},
   "source": [
    "Oletetaan ensin, että kukin $\\, X_i \\sim Exp(\\theta) \\,$ parametrisoinnilla, jossa $\\, \\mu = E(X_1) = \\frac{1}{\\theta}. \\,$ Toiseksi, vaihdetaan parametrisointia siten, että $\\, \\mu = exp(\\alpha) \\,$ ja vastaavasti $\\, \\theta = exp(- \\alpha) \\,$ $\\forall \\, i = 1,...,n. \\,$  Aineistossa on sensurointia siten, että arvot $\\, X_i \\le 1.5 \\,$ on havaittu ja arvot $\\, X_i \\ge 1.5 \\,$ on sensuroitu.\n",
    "\n",
    "Kirjoita uskottavuusfunktio $\\, \\alpha$:n funktiota siten, että korvaat $\\, \\theta$:n termillä $\\, exp(- \\alpha). \\,$ Laske suurimman uskottavuuden estimaatti parametrille $\\, \\alpha \\,$ ja anna sille tulkinta."
   ]
  },
  {
   "cell_type": "markdown",
   "id": "babe8f59",
   "metadata": {},
   "source": [
    "Uskottavuusfunktio on muotoa\n",
    "\n",
    "$$L(e^{-a}) = exp\\left(-ma \\,-\\, exp(-a) \\sum_{i=1}^{m}[x_i \\, + \\, a(n-m)]\\right),$$\n",
    "\n",
    "jolloin log-uskottavuus on\n",
    "\n",
    "$$-ma \\, - e^{-a} \\sum_{i=1}^{m}[x_i \\, + \\, a(n-m)]$$\n",
    "\n",
    "Suurimman uskottavuuden estimaatti parametrille $\\, \\boldsymbol{\\alpha} \\,$ saadaan maksimoimalla skoorifunktio (log-uskottavuuden 1. derivaatta):\n",
    "\n",
    "$$\\boldsymbol{\\hat{\\alpha}} = -log\\left(\\frac{m}{\\displaystyle\\sum_{i=1}^{m} [x_i \\, + \\, a(n-m)]} \\right).$$"
   ]
  },
  {
   "cell_type": "code",
   "execution_count": 1,
   "id": "cdd50369",
   "metadata": {},
   "outputs": [],
   "source": [
    "import pandas as pd\n",
    "import numpy as np"
   ]
  },
  {
   "cell_type": "code",
   "execution_count": 2,
   "id": "2506ffd7",
   "metadata": {},
   "outputs": [],
   "source": [
    "df = pd.read_csv(\"C:/Users/testi/Desktop/Statistical_Inference2/expens.csv\", index_col=0)"
   ]
  },
  {
   "cell_type": "code",
   "execution_count": 10,
   "id": "66781937",
   "metadata": {},
   "outputs": [
    {
     "data": {
      "text/html": [
       "<div>\n",
       "<style scoped>\n",
       "    .dataframe tbody tr th:only-of-type {\n",
       "        vertical-align: middle;\n",
       "    }\n",
       "\n",
       "    .dataframe tbody tr th {\n",
       "        vertical-align: top;\n",
       "    }\n",
       "\n",
       "    .dataframe thead th {\n",
       "        text-align: right;\n",
       "    }\n",
       "</style>\n",
       "<table border=\"1\" class=\"dataframe\">\n",
       "  <thead>\n",
       "    <tr style=\"text-align: right;\">\n",
       "      <th></th>\n",
       "      <th>sensx</th>\n",
       "      <th>z</th>\n",
       "      <th>delta</th>\n",
       "    </tr>\n",
       "  </thead>\n",
       "  <tbody>\n",
       "    <tr>\n",
       "      <th>1</th>\n",
       "      <td>1.50</td>\n",
       "      <td>0.3</td>\n",
       "      <td>0</td>\n",
       "    </tr>\n",
       "    <tr>\n",
       "      <th>2</th>\n",
       "      <td>1.40</td>\n",
       "      <td>0.5</td>\n",
       "      <td>1</td>\n",
       "    </tr>\n",
       "    <tr>\n",
       "      <th>3</th>\n",
       "      <td>0.15</td>\n",
       "      <td>0.9</td>\n",
       "      <td>1</td>\n",
       "    </tr>\n",
       "    <tr>\n",
       "      <th>4</th>\n",
       "      <td>0.17</td>\n",
       "      <td>0.4</td>\n",
       "      <td>1</td>\n",
       "    </tr>\n",
       "    <tr>\n",
       "      <th>5</th>\n",
       "      <td>0.13</td>\n",
       "      <td>0.8</td>\n",
       "      <td>1</td>\n",
       "    </tr>\n",
       "  </tbody>\n",
       "</table>\n",
       "</div>"
      ],
      "text/plain": [
       "   sensx    z  delta\n",
       "1   1.50  0.3      0\n",
       "2   1.40  0.5      1\n",
       "3   0.15  0.9      1\n",
       "4   0.17  0.4      1\n",
       "5   0.13  0.8      1"
      ]
     },
     "execution_count": 10,
     "metadata": {},
     "output_type": "execute_result"
    }
   ],
   "source": [
    "df.head()"
   ]
  },
  {
   "cell_type": "code",
   "execution_count": 11,
   "id": "3ac88540",
   "metadata": {},
   "outputs": [
    {
     "data": {
      "text/plain": [
       "(30, 3)"
      ]
     },
     "execution_count": 11,
     "metadata": {},
     "output_type": "execute_result"
    }
   ],
   "source": [
    "df.shape"
   ]
  },
  {
   "cell_type": "code",
   "execution_count": 12,
   "id": "105151dc",
   "metadata": {},
   "outputs": [
    {
     "data": {
      "text/plain": [
       "sensx    float64\n",
       "z        float64\n",
       "delta      int64\n",
       "dtype: object"
      ]
     },
     "execution_count": 12,
     "metadata": {},
     "output_type": "execute_result"
    }
   ],
   "source": [
    "df.dtypes"
   ]
  },
  {
   "cell_type": "code",
   "execution_count": 13,
   "id": "6ba99ff1",
   "metadata": {},
   "outputs": [
    {
     "data": {
      "text/plain": [
       "30"
      ]
     },
     "execution_count": 13,
     "metadata": {},
     "output_type": "execute_result"
    }
   ],
   "source": [
    "n = len(df)\n",
    "n"
   ]
  },
  {
   "cell_type": "code",
   "execution_count": 14,
   "id": "a8e19283",
   "metadata": {},
   "outputs": [
    {
     "data": {
      "text/plain": [
       "26"
      ]
     },
     "execution_count": 14,
     "metadata": {},
     "output_type": "execute_result"
    }
   ],
   "source": [
    "m = len(df[df[\"delta\"] == 1])\n",
    "m"
   ]
  },
  {
   "cell_type": "code",
   "execution_count": 15,
   "id": "603a963c",
   "metadata": {},
   "outputs": [
    {
     "data": {
      "text/plain": [
       "11.830000000000002"
      ]
     },
     "execution_count": 15,
     "metadata": {},
     "output_type": "execute_result"
    }
   ],
   "source": [
    "summa = sum(df[df[\"delta\"] == 1][\"sensx\"])\n",
    "summa"
   ]
  },
  {
   "cell_type": "markdown",
   "id": "7d657f61",
   "metadata": {},
   "source": [
    "SU-estimaatti saadaan yllä määritellyn parametrin $\\, \\boldsymbol{\\hat{\\alpha}} \\,$ kaavan mukaisesti (huomaa, että $\\alpha = 1.5$)"
   ]
  },
  {
   "cell_type": "code",
   "execution_count": 16,
   "id": "3e72889e",
   "metadata": {},
   "outputs": [
    {
     "data": {
      "text/plain": [
       "-0.3772141061464329"
      ]
     },
     "execution_count": 16,
     "metadata": {},
     "output_type": "execute_result"
    }
   ],
   "source": [
    "alpha_hat = -np.log(m/(summa + 1.5*(n-m)))\n",
    "alpha_hat"
   ]
  },
  {
   "cell_type": "markdown",
   "id": "0c8fc6c1",
   "metadata": {},
   "source": [
    "Suurimman uskottavuuden estimaatti parametrille $\\, \\boldsymbol{\\hat{\\alpha}} \\,$ saadaan myös suoraan käyttämällä lifelines-moduulin ExponentialFitter -luokkaa. "
   ]
  },
  {
   "cell_type": "code",
   "execution_count": 17,
   "id": "34737130",
   "metadata": {},
   "outputs": [
    {
     "data": {
      "text/html": [
       "<div>\n",
       "<style scoped>\n",
       "    .dataframe tbody tr th:only-of-type {\n",
       "        vertical-align: middle;\n",
       "    }\n",
       "\n",
       "    .dataframe tbody tr th {\n",
       "        vertical-align: top;\n",
       "    }\n",
       "\n",
       "    .dataframe thead th {\n",
       "        text-align: right;\n",
       "    }\n",
       "</style>\n",
       "<table border=\"1\" class=\"dataframe\">\n",
       "  <thead>\n",
       "    <tr style=\"text-align: right;\">\n",
       "      <th></th>\n",
       "      <th>coef</th>\n",
       "      <th>se(coef)</th>\n",
       "      <th>coef lower 95%</th>\n",
       "      <th>coef upper 95%</th>\n",
       "      <th>cmp to</th>\n",
       "      <th>z</th>\n",
       "      <th>p</th>\n",
       "      <th>-log2(p)</th>\n",
       "    </tr>\n",
       "  </thead>\n",
       "  <tbody>\n",
       "    <tr>\n",
       "      <th>lambda_</th>\n",
       "      <td>0.685769</td>\n",
       "      <td>0.13449</td>\n",
       "      <td>0.422173</td>\n",
       "      <td>0.949366</td>\n",
       "      <td>0.0</td>\n",
       "      <td>5.09902</td>\n",
       "      <td>3.414174e-07</td>\n",
       "      <td>21.48196</td>\n",
       "    </tr>\n",
       "  </tbody>\n",
       "</table>\n",
       "</div>"
      ],
      "text/plain": [
       "             coef  se(coef)  coef lower 95%  coef upper 95%  cmp to        z  \\\n",
       "lambda_  0.685769   0.13449        0.422173        0.949366     0.0  5.09902   \n",
       "\n",
       "                    p  -log2(p)  \n",
       "lambda_  3.414174e-07  21.48196  "
      ]
     },
     "execution_count": 17,
     "metadata": {},
     "output_type": "execute_result"
    }
   ],
   "source": [
    "from lifelines import ExponentialFitter\n",
    "\n",
    "fitter = ExponentialFitter()\n",
    "fitter.fit(df[\"sensx\"], df[\"delta\"])\n",
    "fitter.summary"
   ]
  },
  {
   "cell_type": "code",
   "execution_count": 18,
   "id": "75ecf63c",
   "metadata": {},
   "outputs": [
    {
     "data": {
      "text/plain": [
       "-0.3772141035245847"
      ]
     },
     "execution_count": 18,
     "metadata": {},
     "output_type": "execute_result"
    }
   ],
   "source": [
    "# SU-estimaatti\n",
    "np.log(fitter.lambda_)"
   ]
  },
  {
   "cell_type": "markdown",
   "id": "6c82754f",
   "metadata": {},
   "source": [
    "Parametrin $\\, \\alpha \\,$ voi tulkita $\\, \\mu $:n kautta eli se on elinajan odotusarvon estimaatti."
   ]
  },
  {
   "cell_type": "code",
   "execution_count": 33,
   "id": "32267dfa",
   "metadata": {},
   "outputs": [
    {
     "data": {
      "text/plain": [
       "0.6857692325672137"
      ]
     },
     "execution_count": 33,
     "metadata": {},
     "output_type": "execute_result"
    }
   ],
   "source": [
    "# Elinajan odotusarvon estimaatti\n",
    "fitter.lambda_"
   ]
  },
  {
   "cell_type": "markdown",
   "id": "6fbfcf5b",
   "metadata": {},
   "source": [
    "<br>"
   ]
  },
  {
   "cell_type": "markdown",
   "id": "a3b012eb",
   "metadata": {},
   "source": [
    "<br>"
   ]
  },
  {
   "cell_type": "markdown",
   "id": "c8582b2b",
   "metadata": {},
   "source": [
    "<h3 align=\"left\">Tehtävä 3</h3>"
   ]
  },
  {
   "cell_type": "markdown",
   "id": "eafbc461",
   "metadata": {},
   "source": [
    "Oletetaan, että satunnaismuuttuja $\\, \\boldsymbol{X \\sim Poisson(\\theta)} \\,$ ja että siitä on tehty i.i.d. otos $\\, X_1,...,X_n. \\,$ Tehdään koko n = 60 oleva otos:\n",
    "\n",
    "\\begin{align}\n",
    "    1\\ 3\\ 0\\ 2\\ 1\\ 1\\ 0\\ 0\\ 2\\ 1\\ 1\\ 1\\ 2\\ 0\\ 2\\ 3\\ 1\\ 4\\ 1\\ 3\\ 0\\ 5\\ 0\\ 2\\ 2\\ 3\\ 2\\ 1\\ 1\\ 1\\\\\n",
    "    2\\ 3\\ 4\\ 6\\ 3\\ 5\\ 2\\ 3\\ 3\\ 0\\ 0\\ 4\\ 1\\ 2\\ 0\\ 5\\ 4\\ 4\\ 3\\ 0\\ 3\\ 1\\ 2\\ 3\\ 2\\ 2\\ 2\\ 2\\ 1\\ 0\n",
    "\\end{align}\n",
    "\n",
    "Tässä otoksessa Y = 11 (Y on nollahavaintojen lukumäärä). Formuloi havainnointi oikealta sensuroituna havainnointina siten, että kunkin havainnon kohdalla tiedät, onko havainto havaittu (eli\n",
    "nolla) vai havainto on nollaa suurempi luku, ts. alkuperäiset X:n arvot\n",
    "eivät ole tiedossa. Ts. ratkaise su-estimaatti ja arvioi keskivirhettä kaavalla $\\, \\displaystyle se(\\hat{\\alpha}) = \\sqrt \\frac{1}{-l''(\\hat{\\alpha})}. \\,$\n",
    "\n",
    "Suurimman uskottavuuden estimaatti saadaan maksimoimalla skoorifunktio (log-uskottavuuden 1. derivaatta). Maksimointi tapahtuu asettamalla skoorifunktio nollaksi ja ratkaisemalla $\\theta$:n suhteen. Mikäli skoorifunktion 1. derivaatta (log-uskottavuuden 2. derivaatta) on negatiivinen, niin kyseessä on maksimi.\n",
    "\n",
    "Uskottavuusfunktio:\n",
    "\\begin{align}\n",
    "    L(\\theta) &= \\prod\\limits_{i=1}^{m} P(X_i = 0) \\cdot \\prod\\limits_{i=m+1}^{n} P(X_i > 0) \\\\\n",
    "    &= \\prod\\limits_{i=1}^{m} exp(- \\theta) \\, \\cdot \\, \\prod\\limits_{i=m+1}^{n} (1 - exp(- \\theta)) \\\\\n",
    "    &= exp(-m \\theta) \\, \\cdot \\, (1 - exp(-\\theta))^{n-m}.\n",
    "\\end{align}\n",
    "\n",
    "Log-uskottavuus:\n",
    "\\begin{align}\n",
    "    l(\\theta) &= -m \\theta \\, + \\, (n - m) \\, log(1 - exp(- \\theta)).\n",
    "\\end{align}\n",
    "\n",
    "Skoorifunktio:\n",
    "\\begin{align}\n",
    "    \\frac{d l(\\theta)}{d \\theta} &= -m \\, + \\, (n - m) \\, \\frac{exp(- \\theta)}{1 - exp(- \\theta)}.\n",
    "\\end{align}\n",
    "\n",
    "Suurimman uskottavuuden estimaattori:\n",
    "\n",
    "\\begin{align}\n",
    "    \\hat{\\theta} &= -log \\left(\\frac{m}{n} \\right).\n",
    "\\end{align}\n",
    "\n",
    "Tarkistetaan, että kyseessä todella on maksimi.\n",
    "\n",
    "\\begin{align}\n",
    "    \\frac{d^2 l(\\theta)}{d \\theta^2} &= \\frac{-exp(- \\theta) (n - m)}{(1 - exp(- \\theta))^2} < 0\n",
    "\\end{align}\n",
    "\n",
    "$\\, \\: \\: \\: \\: \\: \\: \\: \\large \\boldsymbol{\\rightarrow} \\,$ Koska log-uskottavuuden 2. derivaatta < 0, kyseessä todella on maksimi."
   ]
  },
  {
   "cell_type": "code",
   "execution_count": 4,
   "id": "b1d33de1",
   "metadata": {},
   "outputs": [
    {
     "name": "stdout",
     "output_type": "stream",
     "text": [
      " Parametrin theta SU-estimaatti on siis: 1.6964492894237302\n"
     ]
    }
   ],
   "source": [
    "n = 60\n",
    "m = 11\n",
    "theta_hat = -np.log(m/n)\n",
    "print(f\" Parametrin theta SU-estimaatti on siis: {theta_hat}\")"
   ]
  },
  {
   "cell_type": "code",
   "execution_count": 5,
   "id": "e5326824",
   "metadata": {},
   "outputs": [
    {
     "name": "stdout",
     "output_type": "stream",
     "text": [
      "SU-estimaattorin keskivirhe on: 0.27247463045653303\n"
     ]
    }
   ],
   "source": [
    "keskivirhe = np.sqrt(1/-((n-m)*(-np.exp(-theta_hat))/(1-np.exp(-theta_hat))**2))\n",
    "print(f\"SU-estimaattorin keskivirhe on: {keskivirhe}\")"
   ]
  },
  {
   "cell_type": "markdown",
   "id": "3b277510",
   "metadata": {},
   "source": [
    "<br>"
   ]
  },
  {
   "cell_type": "markdown",
   "id": "c6270c94",
   "metadata": {},
   "source": [
    "<br>"
   ]
  },
  {
   "cell_type": "markdown",
   "id": "15d00987",
   "metadata": {},
   "source": [
    "<h3 align=\"left\">Tehtävä 5</h3>"
   ]
  },
  {
   "cell_type": "markdown",
   "id": "17ab8458",
   "metadata": {},
   "source": [
    "Suurimman uskottavuuden estimaatit saavat arvot $\\, \\hat{\\pi} = 0.615\\, $ ja $\\, \\hat{\\theta} = 1.038. \\,$ Laske sovitteet eli kuinka monta nollaa, ykköstä,...,kuutosta olisi pitänyt havaita keskimäärin\n",
    "nollapaisutetun Poisson-jakauman vallitessa. Tee johtopäätös (ts. sopiiko malli?)."
   ]
  },
  {
   "cell_type": "markdown",
   "id": "8c20424f",
   "metadata": {},
   "source": [
    "Nollapaisutetun Poisson-jakauman uskottavuusfunktio:\n",
    "\n",
    "\\begin{align}\n",
    "    L(\\theta, \\pi) &= \\prod\\limits_{i=1}^{n_0} (\\pi \\, + \\, (1-\\pi) \\, e^{-\\theta}) \\, \\boldsymbol{\\cdot} \\, \\prod\\limits_{i=n_0+1}^{n} (1-\\pi) \\, \\frac{\\theta^{x_i} \\, e^{-\\theta}}{x_i !} \\\\\n",
    "    &= (\\pi \\, + \\, (1-\\pi) \\, e^{-\\theta})^{n_0} \\, \\prod\\limits_{j=1}^{k} \\left((1-\\pi) \\, \\frac{\\theta^j \\, e^{-\\theta}}{j!} \\right)^{n_j}\n",
    "\\end{align}"
   ]
  },
  {
   "cell_type": "code",
   "execution_count": 21,
   "id": "8fa3dbee",
   "metadata": {},
   "outputs": [],
   "source": [
    "import scipy"
   ]
  },
  {
   "cell_type": "code",
   "execution_count": 22,
   "id": "d56928da",
   "metadata": {},
   "outputs": [],
   "source": [
    "# Data (annettu tehtävämonisteessa)\n",
    "x = np.arange(0, 7)\n",
    "fr = np.array([3062, 587, 284, 103, 33, 4, 2])\n",
    "n = sum(fr)"
   ]
  },
  {
   "cell_type": "code",
   "execution_count": 23,
   "id": "8c9d8de9",
   "metadata": {},
   "outputs": [],
   "source": [
    "# Malli\n",
    "pi = 0.615\n",
    "theta = 1.038\n",
    "sovitteet = np.zeros(7)\n",
    "sovitteet[0] = n * (pi + (1-pi) * np.exp(-theta))\n",
    "sovitteet[1:7] = n * (1-pi) * scipy.stats.poisson.pmf(x[1:7], theta)"
   ]
  },
  {
   "cell_type": "code",
   "execution_count": 24,
   "id": "8e9c613e",
   "metadata": {},
   "outputs": [
    {
     "data": {
      "text/plain": [
       "4074.835907604537"
      ]
     },
     "execution_count": 24,
     "metadata": {},
     "output_type": "execute_result"
    }
   ],
   "source": [
    "sum(sovitteet)"
   ]
  },
  {
   "cell_type": "code",
   "execution_count": 25,
   "id": "fac23091",
   "metadata": {},
   "outputs": [
    {
     "name": "stdout",
     "output_type": "stream",
     "text": [
      "[3061  576  299  103   26    5    0]\n"
     ]
    }
   ],
   "source": [
    "print(sovitteet.astype(int))"
   ]
  },
  {
   "cell_type": "code",
   "execution_count": 26,
   "id": "ee94df58",
   "metadata": {},
   "outputs": [
    {
     "name": "stdout",
     "output_type": "stream",
     "text": [
      "[3062  587  284  103   33    4    2]\n"
     ]
    }
   ],
   "source": [
    "print(fr)"
   ]
  },
  {
   "cell_type": "markdown",
   "id": "950f0b3f",
   "metadata": {},
   "source": [
    "- Johtopäätös: datassa olevat lukumäärät ja ennustetut lukumäärät ovat aika samankaltaisia, joten kuvailevan analyysin perusteella malli näyttäisi sopivan dataan aika hyvin."
   ]
  }
 ],
 "metadata": {
  "kernelspec": {
   "display_name": "Python 3 (ipykernel)",
   "language": "python",
   "name": "python3"
  },
  "language_info": {
   "codemirror_mode": {
    "name": "ipython",
    "version": 3
   },
   "file_extension": ".py",
   "mimetype": "text/x-python",
   "name": "python",
   "nbconvert_exporter": "python",
   "pygments_lexer": "ipython3",
   "version": "3.9.12"
  }
 },
 "nbformat": 4,
 "nbformat_minor": 5
}
