{
 "cells": [
  {
   "cell_type": "code",
   "execution_count": 1,
   "id": "bae1553d",
   "metadata": {},
   "outputs": [],
   "source": [
    "import pandas as pd\n",
    "import matplotlib.pyplot as plt\n",
    "import seaborn as sns\n",
    "import numpy as np\n",
    "from statsmodels.formula.api import ols\n",
    "import statsmodels.api as sm"
   ]
  },
  {
   "cell_type": "code",
   "execution_count": 2,
   "id": "4644f917",
   "metadata": {},
   "outputs": [],
   "source": [
    "# Task 1."
   ]
  },
  {
   "cell_type": "code",
   "execution_count": 3,
   "id": "04bd7817",
   "metadata": {},
   "outputs": [],
   "source": [
    "health_data = pd.read_csv(\"C:/Users/testi/Desktop/excel_files/HealthData.csv\", index_col=0)"
   ]
  },
  {
   "cell_type": "code",
   "execution_count": 4,
   "id": "aeccfeb2",
   "metadata": {},
   "outputs": [
    {
     "data": {
      "text/html": [
       "<div>\n",
       "<style scoped>\n",
       "    .dataframe tbody tr th:only-of-type {\n",
       "        vertical-align: middle;\n",
       "    }\n",
       "\n",
       "    .dataframe tbody tr th {\n",
       "        vertical-align: top;\n",
       "    }\n",
       "\n",
       "    .dataframe thead th {\n",
       "        text-align: right;\n",
       "    }\n",
       "</style>\n",
       "<table border=\"1\" class=\"dataframe\">\n",
       "  <thead>\n",
       "    <tr style=\"text-align: right;\">\n",
       "      <th></th>\n",
       "      <th>ID</th>\n",
       "      <th>Height</th>\n",
       "      <th>Weight</th>\n",
       "      <th>Syst1</th>\n",
       "      <th>Diast1</th>\n",
       "      <th>Syst2</th>\n",
       "      <th>Diast2</th>\n",
       "      <th>Sex</th>\n",
       "      <th>Mstatus</th>\n",
       "      <th>Income</th>\n",
       "      <th>VaricoseVenes</th>\n",
       "      <th>BMI</th>\n",
       "      <th>Age</th>\n",
       "      <th>Hstatus</th>\n",
       "    </tr>\n",
       "  </thead>\n",
       "  <tbody>\n",
       "    <tr>\n",
       "      <th>1</th>\n",
       "      <td>5513</td>\n",
       "      <td>170</td>\n",
       "      <td>80.5</td>\n",
       "      <td>164</td>\n",
       "      <td>92</td>\n",
       "      <td>156</td>\n",
       "      <td>92</td>\n",
       "      <td>1</td>\n",
       "      <td>1</td>\n",
       "      <td>3</td>\n",
       "      <td>1</td>\n",
       "      <td>27.854671</td>\n",
       "      <td>60</td>\n",
       "      <td>2</td>\n",
       "    </tr>\n",
       "    <tr>\n",
       "      <th>2</th>\n",
       "      <td>5521</td>\n",
       "      <td>163</td>\n",
       "      <td>59.6</td>\n",
       "      <td>132</td>\n",
       "      <td>72</td>\n",
       "      <td>126</td>\n",
       "      <td>68</td>\n",
       "      <td>2</td>\n",
       "      <td>1</td>\n",
       "      <td>6</td>\n",
       "      <td>1</td>\n",
       "      <td>22.432158</td>\n",
       "      <td>36</td>\n",
       "      <td>1</td>\n",
       "    </tr>\n",
       "    <tr>\n",
       "      <th>3</th>\n",
       "      <td>5590</td>\n",
       "      <td>158</td>\n",
       "      <td>60.0</td>\n",
       "      <td>120</td>\n",
       "      <td>70</td>\n",
       "      <td>120</td>\n",
       "      <td>72</td>\n",
       "      <td>2</td>\n",
       "      <td>1</td>\n",
       "      <td>3</td>\n",
       "      <td>1</td>\n",
       "      <td>24.034610</td>\n",
       "      <td>37</td>\n",
       "      <td>1</td>\n",
       "    </tr>\n",
       "    <tr>\n",
       "      <th>4</th>\n",
       "      <td>5646</td>\n",
       "      <td>158</td>\n",
       "      <td>57.4</td>\n",
       "      <td>118</td>\n",
       "      <td>66</td>\n",
       "      <td>120</td>\n",
       "      <td>72</td>\n",
       "      <td>2</td>\n",
       "      <td>1</td>\n",
       "      <td>4</td>\n",
       "      <td>1</td>\n",
       "      <td>22.993110</td>\n",
       "      <td>41</td>\n",
       "      <td>1</td>\n",
       "    </tr>\n",
       "    <tr>\n",
       "      <th>5</th>\n",
       "      <td>5658</td>\n",
       "      <td>165</td>\n",
       "      <td>73.5</td>\n",
       "      <td>170</td>\n",
       "      <td>74</td>\n",
       "      <td>166</td>\n",
       "      <td>80</td>\n",
       "      <td>1</td>\n",
       "      <td>2</td>\n",
       "      <td>1</td>\n",
       "      <td>1</td>\n",
       "      <td>26.997245</td>\n",
       "      <td>42</td>\n",
       "      <td>2</td>\n",
       "    </tr>\n",
       "  </tbody>\n",
       "</table>\n",
       "</div>"
      ],
      "text/plain": [
       "     ID  Height  Weight  Syst1  Diast1  Syst2  Diast2  Sex  Mstatus  Income  \\\n",
       "1  5513     170    80.5    164      92    156      92    1        1       3   \n",
       "2  5521     163    59.6    132      72    126      68    2        1       6   \n",
       "3  5590     158    60.0    120      70    120      72    2        1       3   \n",
       "4  5646     158    57.4    118      66    120      72    2        1       4   \n",
       "5  5658     165    73.5    170      74    166      80    1        2       1   \n",
       "\n",
       "   VaricoseVenes        BMI  Age  Hstatus  \n",
       "1              1  27.854671   60        2  \n",
       "2              1  22.432158   36        1  \n",
       "3              1  24.034610   37        1  \n",
       "4              1  22.993110   41        1  \n",
       "5              1  26.997245   42        2  "
      ]
     },
     "execution_count": 4,
     "metadata": {},
     "output_type": "execute_result"
    }
   ],
   "source": [
    "health_data.head()"
   ]
  },
  {
   "cell_type": "code",
   "execution_count": 5,
   "id": "31bef8c0",
   "metadata": {},
   "outputs": [],
   "source": [
    "df = health_data[[\"Syst2\" ,\"Age\", \"BMI\", \"Sex\", \"Mstatus\"]].copy()"
   ]
  },
  {
   "cell_type": "code",
   "execution_count": 6,
   "id": "be679e39",
   "metadata": {},
   "outputs": [],
   "source": [
    "df.rename(columns={\"Syst2\": \"Syst\"}, inplace=True)"
   ]
  },
  {
   "cell_type": "code",
   "execution_count": 7,
   "id": "5f816626",
   "metadata": {},
   "outputs": [],
   "source": [
    "df[\"Sex\"] = df[\"Sex\"].astype(\"category\")"
   ]
  },
  {
   "cell_type": "code",
   "execution_count": 8,
   "id": "cf48f15d",
   "metadata": {},
   "outputs": [],
   "source": [
    "df[\"Mstatus\"] = df[\"Mstatus\"].astype(\"category\")"
   ]
  },
  {
   "cell_type": "code",
   "execution_count": 9,
   "id": "04b5c0bd",
   "metadata": {},
   "outputs": [
    {
     "data": {
      "text/plain": [
       "Syst          int64\n",
       "Age           int64\n",
       "BMI         float64\n",
       "Sex        category\n",
       "Mstatus    category\n",
       "dtype: object"
      ]
     },
     "execution_count": 9,
     "metadata": {},
     "output_type": "execute_result"
    }
   ],
   "source": [
    "df.dtypes"
   ]
  },
  {
   "cell_type": "code",
   "execution_count": 10,
   "id": "9a2b0440",
   "metadata": {},
   "outputs": [
    {
     "data": {
      "text/html": [
       "<div>\n",
       "<style scoped>\n",
       "    .dataframe tbody tr th:only-of-type {\n",
       "        vertical-align: middle;\n",
       "    }\n",
       "\n",
       "    .dataframe tbody tr th {\n",
       "        vertical-align: top;\n",
       "    }\n",
       "\n",
       "    .dataframe thead th {\n",
       "        text-align: right;\n",
       "    }\n",
       "</style>\n",
       "<table border=\"1\" class=\"dataframe\">\n",
       "  <thead>\n",
       "    <tr style=\"text-align: right;\">\n",
       "      <th></th>\n",
       "      <th>Syst</th>\n",
       "      <th>Age</th>\n",
       "      <th>BMI</th>\n",
       "      <th>Sex</th>\n",
       "      <th>Mstatus</th>\n",
       "    </tr>\n",
       "  </thead>\n",
       "  <tbody>\n",
       "    <tr>\n",
       "      <th>1</th>\n",
       "      <td>156</td>\n",
       "      <td>60</td>\n",
       "      <td>27.854671</td>\n",
       "      <td>1</td>\n",
       "      <td>1</td>\n",
       "    </tr>\n",
       "    <tr>\n",
       "      <th>2</th>\n",
       "      <td>126</td>\n",
       "      <td>36</td>\n",
       "      <td>22.432158</td>\n",
       "      <td>2</td>\n",
       "      <td>1</td>\n",
       "    </tr>\n",
       "    <tr>\n",
       "      <th>3</th>\n",
       "      <td>120</td>\n",
       "      <td>37</td>\n",
       "      <td>24.034610</td>\n",
       "      <td>2</td>\n",
       "      <td>1</td>\n",
       "    </tr>\n",
       "    <tr>\n",
       "      <th>4</th>\n",
       "      <td>120</td>\n",
       "      <td>41</td>\n",
       "      <td>22.993110</td>\n",
       "      <td>2</td>\n",
       "      <td>1</td>\n",
       "    </tr>\n",
       "    <tr>\n",
       "      <th>5</th>\n",
       "      <td>166</td>\n",
       "      <td>42</td>\n",
       "      <td>26.997245</td>\n",
       "      <td>1</td>\n",
       "      <td>2</td>\n",
       "    </tr>\n",
       "  </tbody>\n",
       "</table>\n",
       "</div>"
      ],
      "text/plain": [
       "   Syst  Age        BMI Sex Mstatus\n",
       "1   156   60  27.854671   1       1\n",
       "2   126   36  22.432158   2       1\n",
       "3   120   37  24.034610   2       1\n",
       "4   120   41  22.993110   2       1\n",
       "5   166   42  26.997245   1       2"
      ]
     },
     "execution_count": 10,
     "metadata": {},
     "output_type": "execute_result"
    }
   ],
   "source": [
    "df.head()"
   ]
  },
  {
   "cell_type": "code",
   "execution_count": null,
   "id": "ec5a6d22",
   "metadata": {},
   "outputs": [],
   "source": []
  },
  {
   "cell_type": "code",
   "execution_count": 11,
   "id": "e864c939",
   "metadata": {},
   "outputs": [],
   "source": [
    "# Task 2."
   ]
  },
  {
   "cell_type": "code",
   "execution_count": 12,
   "id": "aebeb56f",
   "metadata": {},
   "outputs": [],
   "source": [
    "df[\"Age_C\"] = df[\"Age\"] - 16"
   ]
  },
  {
   "cell_type": "code",
   "execution_count": 13,
   "id": "5b6ffe15",
   "metadata": {},
   "outputs": [],
   "source": [
    "df[\"BMI_C\"] = df[\"BMI\"] - 18.5"
   ]
  },
  {
   "cell_type": "code",
   "execution_count": 14,
   "id": "18ffb2c5",
   "metadata": {},
   "outputs": [],
   "source": [
    "model1 = ols(\"Syst ~ Age_C + BMI_C + Sex + Mstatus + 0\", data=df).fit()"
   ]
  },
  {
   "cell_type": "code",
   "execution_count": 15,
   "id": "f35f8134",
   "metadata": {},
   "outputs": [],
   "source": [
    "anova = sm.stats.anova_lm(model1, typ=2)"
   ]
  },
  {
   "cell_type": "code",
   "execution_count": 16,
   "id": "b32fc75f",
   "metadata": {},
   "outputs": [
    {
     "data": {
      "text/html": [
       "<div>\n",
       "<style scoped>\n",
       "    .dataframe tbody tr th:only-of-type {\n",
       "        vertical-align: middle;\n",
       "    }\n",
       "\n",
       "    .dataframe tbody tr th {\n",
       "        vertical-align: top;\n",
       "    }\n",
       "\n",
       "    .dataframe thead th {\n",
       "        text-align: right;\n",
       "    }\n",
       "</style>\n",
       "<table border=\"1\" class=\"dataframe\">\n",
       "  <thead>\n",
       "    <tr style=\"text-align: right;\">\n",
       "      <th></th>\n",
       "      <th>sum_sq</th>\n",
       "      <th>df</th>\n",
       "      <th>F</th>\n",
       "      <th>PR(&gt;F)</th>\n",
       "    </tr>\n",
       "  </thead>\n",
       "  <tbody>\n",
       "    <tr>\n",
       "      <th>Sex</th>\n",
       "      <td>666160.996813</td>\n",
       "      <td>2.0</td>\n",
       "      <td>1151.750148</td>\n",
       "      <td>4.512203e-181</td>\n",
       "    </tr>\n",
       "    <tr>\n",
       "      <th>Mstatus</th>\n",
       "      <td>3403.934811</td>\n",
       "      <td>3.0</td>\n",
       "      <td>3.923458</td>\n",
       "      <td>8.737511e-03</td>\n",
       "    </tr>\n",
       "    <tr>\n",
       "      <th>Age_C</th>\n",
       "      <td>19036.733055</td>\n",
       "      <td>1.0</td>\n",
       "      <td>65.826610</td>\n",
       "      <td>4.409135e-15</td>\n",
       "    </tr>\n",
       "    <tr>\n",
       "      <th>BMI_C</th>\n",
       "      <td>8660.063862</td>\n",
       "      <td>1.0</td>\n",
       "      <td>29.945403</td>\n",
       "      <td>7.269218e-08</td>\n",
       "    </tr>\n",
       "    <tr>\n",
       "      <th>Residual</th>\n",
       "      <td>134764.916213</td>\n",
       "      <td>466.0</td>\n",
       "      <td>NaN</td>\n",
       "      <td>NaN</td>\n",
       "    </tr>\n",
       "  </tbody>\n",
       "</table>\n",
       "</div>"
      ],
      "text/plain": [
       "                 sum_sq     df            F         PR(>F)\n",
       "Sex       666160.996813    2.0  1151.750148  4.512203e-181\n",
       "Mstatus     3403.934811    3.0     3.923458   8.737511e-03\n",
       "Age_C      19036.733055    1.0    65.826610   4.409135e-15\n",
       "BMI_C       8660.063862    1.0    29.945403   7.269218e-08\n",
       "Residual  134764.916213  466.0          NaN            NaN"
      ]
     },
     "execution_count": 16,
     "metadata": {},
     "output_type": "execute_result"
    }
   ],
   "source": [
    "anova"
   ]
  },
  {
   "cell_type": "code",
   "execution_count": 17,
   "id": "bd0b2937",
   "metadata": {},
   "outputs": [],
   "source": [
    "# The F statistic for every predictor variable is statistically significant. \n",
    "# We will therefore inclue all the four predictor variables in our model."
   ]
  },
  {
   "cell_type": "code",
   "execution_count": null,
   "id": "da663e0a",
   "metadata": {},
   "outputs": [],
   "source": []
  },
  {
   "cell_type": "code",
   "execution_count": 18,
   "id": "f5a33db8",
   "metadata": {},
   "outputs": [],
   "source": [
    "# Task 3."
   ]
  },
  {
   "cell_type": "code",
   "execution_count": 19,
   "id": "4f0ccef2",
   "metadata": {},
   "outputs": [
    {
     "data": {
      "text/plain": [
       "Sex[1]          115.161709\n",
       "Sex[2]          108.551748\n",
       "Mstatus[T.2]      7.438908\n",
       "Mstatus[T.3]      1.964746\n",
       "Mstatus[T.4]     -1.372093\n",
       "Age_C             0.624956\n",
       "BMI_C             1.072390\n",
       "dtype: float64"
      ]
     },
     "execution_count": 19,
     "metadata": {},
     "output_type": "execute_result"
    }
   ],
   "source": [
    "model1.params"
   ]
  },
  {
   "cell_type": "code",
   "execution_count": 20,
   "id": "77b225f1",
   "metadata": {},
   "outputs": [],
   "source": [
    "# When Sex = 1 (male), the expected systolic blood pressure is 115 mmHg.\n",
    "# When Sex = 2 (female), the expected systolic blood pressure is 108 mmHg.\n",
    "# When Age increases by one unit, the exptected raise in systolic blood pressure is 0.62 mmHg\n",
    "# When BMI increases by one unit, the expected raise in systolic blood pressure is 1.07 mmHg."
   ]
  },
  {
   "cell_type": "code",
   "execution_count": null,
   "id": "b379fb52",
   "metadata": {},
   "outputs": [],
   "source": []
  },
  {
   "cell_type": "code",
   "execution_count": 21,
   "id": "c8485a05",
   "metadata": {},
   "outputs": [],
   "source": [
    "# Task 4."
   ]
  },
  {
   "cell_type": "code",
   "execution_count": 22,
   "id": "2bc8104a",
   "metadata": {},
   "outputs": [
    {
     "data": {
      "text/plain": [
       "Intercept             114.148295\n",
       "Sex[T.2]               -6.378146\n",
       "Mstatus[T.2]           12.378638\n",
       "Mstatus[T.3]           -3.876783\n",
       "Mstatus[T.4]          -14.309055\n",
       "BMI_C                   1.101810\n",
       "Age_C                   0.649300\n",
       "Age_C:Mstatus[T.2]     -0.238373\n",
       "Age_C:Mstatus[T.3]      0.205786\n",
       "Age_C:Mstatus[T.4]      0.305988\n",
       "dtype: float64"
      ]
     },
     "execution_count": 22,
     "metadata": {},
     "output_type": "execute_result"
    }
   ],
   "source": [
    "model1_w_int = ols(\"Syst ~ + BMI_C + Sex + Age_C * Mstatus\", data=df).fit()\n",
    "\n",
    "model1_w_int.params"
   ]
  },
  {
   "cell_type": "code",
   "execution_count": 23,
   "id": "a71ff7fb",
   "metadata": {},
   "outputs": [
    {
     "data": {
      "text/html": [
       "<div>\n",
       "<style scoped>\n",
       "    .dataframe tbody tr th:only-of-type {\n",
       "        vertical-align: middle;\n",
       "    }\n",
       "\n",
       "    .dataframe tbody tr th {\n",
       "        vertical-align: top;\n",
       "    }\n",
       "\n",
       "    .dataframe thead th {\n",
       "        text-align: right;\n",
       "    }\n",
       "</style>\n",
       "<table border=\"1\" class=\"dataframe\">\n",
       "  <thead>\n",
       "    <tr style=\"text-align: right;\">\n",
       "      <th></th>\n",
       "      <th>sum_sq</th>\n",
       "      <th>df</th>\n",
       "      <th>F</th>\n",
       "      <th>PR(&gt;F)</th>\n",
       "    </tr>\n",
       "  </thead>\n",
       "  <tbody>\n",
       "    <tr>\n",
       "      <th>Sex</th>\n",
       "      <td>4584.023529</td>\n",
       "      <td>1.0</td>\n",
       "      <td>15.829534</td>\n",
       "      <td>8.042832e-05</td>\n",
       "    </tr>\n",
       "    <tr>\n",
       "      <th>Mstatus</th>\n",
       "      <td>3403.934811</td>\n",
       "      <td>3.0</td>\n",
       "      <td>3.918152</td>\n",
       "      <td>8.804079e-03</td>\n",
       "    </tr>\n",
       "    <tr>\n",
       "      <th>BMI_C</th>\n",
       "      <td>9014.962993</td>\n",
       "      <td>1.0</td>\n",
       "      <td>31.130439</td>\n",
       "      <td>4.111331e-08</td>\n",
       "    </tr>\n",
       "    <tr>\n",
       "      <th>Age_C</th>\n",
       "      <td>19036.733055</td>\n",
       "      <td>1.0</td>\n",
       "      <td>65.737581</td>\n",
       "      <td>4.647069e-15</td>\n",
       "    </tr>\n",
       "    <tr>\n",
       "      <th>Age_C:Mstatus</th>\n",
       "      <td>686.247240</td>\n",
       "      <td>3.0</td>\n",
       "      <td>0.789916</td>\n",
       "      <td>4.999477e-01</td>\n",
       "    </tr>\n",
       "    <tr>\n",
       "      <th>Residual</th>\n",
       "      <td>134078.668973</td>\n",
       "      <td>463.0</td>\n",
       "      <td>NaN</td>\n",
       "      <td>NaN</td>\n",
       "    </tr>\n",
       "  </tbody>\n",
       "</table>\n",
       "</div>"
      ],
      "text/plain": [
       "                      sum_sq     df          F        PR(>F)\n",
       "Sex              4584.023529    1.0  15.829534  8.042832e-05\n",
       "Mstatus          3403.934811    3.0   3.918152  8.804079e-03\n",
       "BMI_C            9014.962993    1.0  31.130439  4.111331e-08\n",
       "Age_C           19036.733055    1.0  65.737581  4.647069e-15\n",
       "Age_C:Mstatus     686.247240    3.0   0.789916  4.999477e-01\n",
       "Residual       134078.668973  463.0        NaN           NaN"
      ]
     },
     "execution_count": 23,
     "metadata": {},
     "output_type": "execute_result"
    }
   ],
   "source": [
    "anova2 = sm.stats.anova_lm(model1_w_int, typ=2)\n",
    "anova2"
   ]
  },
  {
   "cell_type": "code",
   "execution_count": 24,
   "id": "0965cd4c",
   "metadata": {},
   "outputs": [],
   "source": [
    "# The low F-statistic value and high p-value indicates that the interaction is not needed."
   ]
  },
  {
   "cell_type": "code",
   "execution_count": null,
   "id": "6cff9de8",
   "metadata": {},
   "outputs": [],
   "source": []
  },
  {
   "cell_type": "code",
   "execution_count": 25,
   "id": "84f0d014",
   "metadata": {},
   "outputs": [],
   "source": [
    "# Task 5."
   ]
  },
  {
   "cell_type": "code",
   "execution_count": 26,
   "id": "0a860eee",
   "metadata": {},
   "outputs": [
    {
     "data": {
      "text/plain": [
       "Syst          int64\n",
       "Age           int64\n",
       "BMI         float64\n",
       "Sex        category\n",
       "Mstatus    category\n",
       "Age_C         int64\n",
       "BMI_C       float64\n",
       "Single     category\n",
       "dtype: object"
      ]
     },
     "execution_count": 26,
     "metadata": {},
     "output_type": "execute_result"
    }
   ],
   "source": [
    "df[\"Single\"] = np.where(df[\"Mstatus\"] == 2, \"Yes\", \"No\")\n",
    "\n",
    "df[\"Single\"] = df[\"Single\"].astype(\"category\")\n",
    "\n",
    "df.dtypes"
   ]
  },
  {
   "cell_type": "code",
   "execution_count": 27,
   "id": "b3c3911c",
   "metadata": {},
   "outputs": [
    {
     "data": {
      "text/html": [
       "<div>\n",
       "<style scoped>\n",
       "    .dataframe tbody tr th:only-of-type {\n",
       "        vertical-align: middle;\n",
       "    }\n",
       "\n",
       "    .dataframe tbody tr th {\n",
       "        vertical-align: top;\n",
       "    }\n",
       "\n",
       "    .dataframe thead th {\n",
       "        text-align: right;\n",
       "    }\n",
       "</style>\n",
       "<table border=\"1\" class=\"dataframe\">\n",
       "  <thead>\n",
       "    <tr style=\"text-align: right;\">\n",
       "      <th></th>\n",
       "      <th>Syst</th>\n",
       "      <th>Age</th>\n",
       "      <th>BMI</th>\n",
       "      <th>Sex</th>\n",
       "      <th>Mstatus</th>\n",
       "      <th>Age_C</th>\n",
       "      <th>BMI_C</th>\n",
       "      <th>Single</th>\n",
       "    </tr>\n",
       "  </thead>\n",
       "  <tbody>\n",
       "    <tr>\n",
       "      <th>1</th>\n",
       "      <td>156</td>\n",
       "      <td>60</td>\n",
       "      <td>27.854671</td>\n",
       "      <td>1</td>\n",
       "      <td>1</td>\n",
       "      <td>44</td>\n",
       "      <td>9.354671</td>\n",
       "      <td>No</td>\n",
       "    </tr>\n",
       "    <tr>\n",
       "      <th>2</th>\n",
       "      <td>126</td>\n",
       "      <td>36</td>\n",
       "      <td>22.432158</td>\n",
       "      <td>2</td>\n",
       "      <td>1</td>\n",
       "      <td>20</td>\n",
       "      <td>3.932158</td>\n",
       "      <td>No</td>\n",
       "    </tr>\n",
       "    <tr>\n",
       "      <th>3</th>\n",
       "      <td>120</td>\n",
       "      <td>37</td>\n",
       "      <td>24.034610</td>\n",
       "      <td>2</td>\n",
       "      <td>1</td>\n",
       "      <td>21</td>\n",
       "      <td>5.534610</td>\n",
       "      <td>No</td>\n",
       "    </tr>\n",
       "    <tr>\n",
       "      <th>4</th>\n",
       "      <td>120</td>\n",
       "      <td>41</td>\n",
       "      <td>22.993110</td>\n",
       "      <td>2</td>\n",
       "      <td>1</td>\n",
       "      <td>25</td>\n",
       "      <td>4.493110</td>\n",
       "      <td>No</td>\n",
       "    </tr>\n",
       "    <tr>\n",
       "      <th>5</th>\n",
       "      <td>166</td>\n",
       "      <td>42</td>\n",
       "      <td>26.997245</td>\n",
       "      <td>1</td>\n",
       "      <td>2</td>\n",
       "      <td>26</td>\n",
       "      <td>8.497245</td>\n",
       "      <td>Yes</td>\n",
       "    </tr>\n",
       "  </tbody>\n",
       "</table>\n",
       "</div>"
      ],
      "text/plain": [
       "   Syst  Age        BMI Sex Mstatus  Age_C     BMI_C Single\n",
       "1   156   60  27.854671   1       1     44  9.354671     No\n",
       "2   126   36  22.432158   2       1     20  3.932158     No\n",
       "3   120   37  24.034610   2       1     21  5.534610     No\n",
       "4   120   41  22.993110   2       1     25  4.493110     No\n",
       "5   166   42  26.997245   1       2     26  8.497245    Yes"
      ]
     },
     "execution_count": 27,
     "metadata": {},
     "output_type": "execute_result"
    }
   ],
   "source": [
    "df.head()"
   ]
  },
  {
   "cell_type": "code",
   "execution_count": 28,
   "id": "523e23c1",
   "metadata": {},
   "outputs": [
    {
     "data": {
      "text/plain": [
       "Intercept        115.480662\n",
       "Sex[T.2]          -6.718836\n",
       "Single[T.Yes]      7.347353\n",
       "Age_C              0.617945\n",
       "BMI_C              1.066953\n",
       "dtype: float64"
      ]
     },
     "execution_count": 28,
     "metadata": {},
     "output_type": "execute_result"
    }
   ],
   "source": [
    "model2 = ols(\"Syst ~ Age_C + BMI_C + Sex + Single\", data=df).fit()\n",
    "model2.params"
   ]
  },
  {
   "cell_type": "code",
   "execution_count": 29,
   "id": "5384645f",
   "metadata": {},
   "outputs": [
    {
     "data": {
      "text/plain": [
       "4029.8025688964244"
      ]
     },
     "execution_count": 29,
     "metadata": {},
     "output_type": "execute_result"
    }
   ],
   "source": [
    "model1.aic"
   ]
  },
  {
   "cell_type": "code",
   "execution_count": 30,
   "id": "dc7c2706",
   "metadata": {},
   "outputs": [
    {
     "data": {
      "text/plain": [
       "4026.292607801427"
      ]
     },
     "execution_count": 30,
     "metadata": {},
     "output_type": "execute_result"
    }
   ],
   "source": [
    "model2.aic"
   ]
  },
  {
   "cell_type": "code",
   "execution_count": 31,
   "id": "621bfbd2",
   "metadata": {},
   "outputs": [],
   "source": [
    "# Since model2 has a lower AIC value, it is the preferred model."
   ]
  },
  {
   "cell_type": "code",
   "execution_count": null,
   "id": "cfee180a",
   "metadata": {},
   "outputs": [],
   "source": []
  },
  {
   "cell_type": "code",
   "execution_count": 32,
   "id": "6c8c29df",
   "metadata": {},
   "outputs": [],
   "source": [
    "# Task 6."
   ]
  },
  {
   "cell_type": "code",
   "execution_count": 33,
   "id": "bb328192",
   "metadata": {},
   "outputs": [],
   "source": [
    "model3 = ols(\"Syst ~ Age_C * Sex + Age_C * Single\", data=df).fit()"
   ]
  },
  {
   "cell_type": "code",
   "execution_count": 34,
   "id": "1ca1d0ef",
   "metadata": {},
   "outputs": [
    {
     "data": {
      "text/html": [
       "<div>\n",
       "<style scoped>\n",
       "    .dataframe tbody tr th:only-of-type {\n",
       "        vertical-align: middle;\n",
       "    }\n",
       "\n",
       "    .dataframe tbody tr th {\n",
       "        vertical-align: top;\n",
       "    }\n",
       "\n",
       "    .dataframe thead th {\n",
       "        text-align: right;\n",
       "    }\n",
       "</style>\n",
       "<table border=\"1\" class=\"dataframe\">\n",
       "  <thead>\n",
       "    <tr style=\"text-align: right;\">\n",
       "      <th></th>\n",
       "      <th>sum_sq</th>\n",
       "      <th>df</th>\n",
       "      <th>F</th>\n",
       "      <th>PR(&gt;F)</th>\n",
       "    </tr>\n",
       "  </thead>\n",
       "  <tbody>\n",
       "    <tr>\n",
       "      <th>Sex</th>\n",
       "      <td>5181.045815</td>\n",
       "      <td>1.0</td>\n",
       "      <td>17.148989</td>\n",
       "      <td>4.101883e-05</td>\n",
       "    </tr>\n",
       "    <tr>\n",
       "      <th>Single</th>\n",
       "      <td>3026.097209</td>\n",
       "      <td>1.0</td>\n",
       "      <td>10.016222</td>\n",
       "      <td>1.653027e-03</td>\n",
       "    </tr>\n",
       "    <tr>\n",
       "      <th>Age_C</th>\n",
       "      <td>34751.426071</td>\n",
       "      <td>1.0</td>\n",
       "      <td>115.025389</td>\n",
       "      <td>3.863602e-24</td>\n",
       "    </tr>\n",
       "    <tr>\n",
       "      <th>Age_C:Sex</th>\n",
       "      <td>2258.986137</td>\n",
       "      <td>1.0</td>\n",
       "      <td>7.477125</td>\n",
       "      <td>6.486337e-03</td>\n",
       "    </tr>\n",
       "    <tr>\n",
       "      <th>Age_C:Single</th>\n",
       "      <td>118.869419</td>\n",
       "      <td>1.0</td>\n",
       "      <td>0.393452</td>\n",
       "      <td>5.307972e-01</td>\n",
       "    </tr>\n",
       "    <tr>\n",
       "      <th>Residual</th>\n",
       "      <td>141089.859164</td>\n",
       "      <td>467.0</td>\n",
       "      <td>NaN</td>\n",
       "      <td>NaN</td>\n",
       "    </tr>\n",
       "  </tbody>\n",
       "</table>\n",
       "</div>"
      ],
      "text/plain": [
       "                     sum_sq     df           F        PR(>F)\n",
       "Sex             5181.045815    1.0   17.148989  4.101883e-05\n",
       "Single          3026.097209    1.0   10.016222  1.653027e-03\n",
       "Age_C          34751.426071    1.0  115.025389  3.863602e-24\n",
       "Age_C:Sex       2258.986137    1.0    7.477125  6.486337e-03\n",
       "Age_C:Single     118.869419    1.0    0.393452  5.307972e-01\n",
       "Residual      141089.859164  467.0         NaN           NaN"
      ]
     },
     "execution_count": 34,
     "metadata": {},
     "output_type": "execute_result"
    }
   ],
   "source": [
    "testing = sm.stats.anova_lm(model3, typ=2)\n",
    "testing"
   ]
  },
  {
   "cell_type": "code",
   "execution_count": 35,
   "id": "58770682",
   "metadata": {},
   "outputs": [],
   "source": [
    "# The Age_C:Sex interaction can improve the model. It has a low p-value indicating significancy.\n",
    "# The Age_C:Single interaction can be excluded from the model due to low F-statistic and high p-value."
   ]
  },
  {
   "cell_type": "code",
   "execution_count": null,
   "id": "ed72ddb9",
   "metadata": {},
   "outputs": [],
   "source": []
  },
  {
   "cell_type": "code",
   "execution_count": 36,
   "id": "ab9da813",
   "metadata": {},
   "outputs": [],
   "source": [
    "# Task 7."
   ]
  },
  {
   "cell_type": "code",
   "execution_count": 37,
   "id": "a76e4dca",
   "metadata": {},
   "outputs": [
    {
     "name": "stdout",
     "output_type": "stream",
     "text": [
      "4029.8025688964244\n",
      "4033.3878142403855\n",
      "4026.292607801427\n",
      "4049.496755193587\n"
     ]
    }
   ],
   "source": [
    "print(model1.aic) \n",
    "print(model1_w_int.aic)\n",
    "print(model2.aic)\n",
    "print(model3.aic)"
   ]
  },
  {
   "cell_type": "code",
   "execution_count": 38,
   "id": "c305f1b0",
   "metadata": {},
   "outputs": [],
   "source": [
    "# On the basis of AIC alone, model2 seems to be the best model."
   ]
  },
  {
   "cell_type": "code",
   "execution_count": 39,
   "id": "2ffc1acb",
   "metadata": {},
   "outputs": [
    {
     "data": {
      "text/html": [
       "<table class=\"simpletable\">\n",
       "<caption>OLS Regression Results</caption>\n",
       "<tr>\n",
       "  <th>Dep. Variable:</th>          <td>Syst</td>       <th>  R-squared:         </th> <td>   0.259</td>\n",
       "</tr>\n",
       "<tr>\n",
       "  <th>Model:</th>                   <td>OLS</td>       <th>  Adj. R-squared:    </th> <td>   0.253</td>\n",
       "</tr>\n",
       "<tr>\n",
       "  <th>Method:</th>             <td>Least Squares</td>  <th>  F-statistic:       </th> <td>   40.97</td>\n",
       "</tr>\n",
       "<tr>\n",
       "  <th>Date:</th>             <td>Sat, 24 Sep 2022</td> <th>  Prob (F-statistic):</th> <td>1.91e-29</td>\n",
       "</tr>\n",
       "<tr>\n",
       "  <th>Time:</th>                 <td>17:48:12</td>     <th>  Log-Likelihood:    </th> <td> -2008.1</td>\n",
       "</tr>\n",
       "<tr>\n",
       "  <th>No. Observations:</th>      <td>   473</td>      <th>  AIC:               </th> <td>   4026.</td>\n",
       "</tr>\n",
       "<tr>\n",
       "  <th>Df Residuals:</th>          <td>   468</td>      <th>  BIC:               </th> <td>   4047.</td>\n",
       "</tr>\n",
       "<tr>\n",
       "  <th>Df Model:</th>              <td>     4</td>      <th>                     </th>     <td> </td>   \n",
       "</tr>\n",
       "<tr>\n",
       "  <th>Covariance Type:</th>      <td>nonrobust</td>    <th>                     </th>     <td> </td>   \n",
       "</tr>\n",
       "</table>\n",
       "<table class=\"simpletable\">\n",
       "<tr>\n",
       "        <td></td>           <th>coef</th>     <th>std err</th>      <th>t</th>      <th>P>|t|</th>  <th>[0.025</th>    <th>0.975]</th>  \n",
       "</tr>\n",
       "<tr>\n",
       "  <th>Intercept</th>     <td>  115.4807</td> <td>    2.392</td> <td>   48.277</td> <td> 0.000</td> <td>  110.780</td> <td>  120.181</td>\n",
       "</tr>\n",
       "<tr>\n",
       "  <th>Sex[T.2]</th>      <td>   -6.7188</td> <td>    1.567</td> <td>   -4.287</td> <td> 0.000</td> <td>   -9.798</td> <td>   -3.639</td>\n",
       "</tr>\n",
       "<tr>\n",
       "  <th>Single[T.Yes]</th> <td>    7.3474</td> <td>    2.183</td> <td>    3.365</td> <td> 0.001</td> <td>    3.057</td> <td>   11.638</td>\n",
       "</tr>\n",
       "<tr>\n",
       "  <th>Age_C</th>         <td>    0.6179</td> <td>    0.074</td> <td>    8.296</td> <td> 0.000</td> <td>    0.472</td> <td>    0.764</td>\n",
       "</tr>\n",
       "<tr>\n",
       "  <th>BMI_C</th>         <td>    1.0670</td> <td>    0.195</td> <td>    5.466</td> <td> 0.000</td> <td>    0.683</td> <td>    1.450</td>\n",
       "</tr>\n",
       "</table>\n",
       "<table class=\"simpletable\">\n",
       "<tr>\n",
       "  <th>Omnibus:</th>       <td> 6.347</td> <th>  Durbin-Watson:     </th> <td>   1.946</td>\n",
       "</tr>\n",
       "<tr>\n",
       "  <th>Prob(Omnibus):</th> <td> 0.042</td> <th>  Jarque-Bera (JB):  </th> <td>   6.375</td>\n",
       "</tr>\n",
       "<tr>\n",
       "  <th>Skew:</th>          <td> 0.260</td> <th>  Prob(JB):          </th> <td>  0.0413</td>\n",
       "</tr>\n",
       "<tr>\n",
       "  <th>Kurtosis:</th>      <td> 2.771</td> <th>  Cond. No.          </th> <td>    108.</td>\n",
       "</tr>\n",
       "</table><br/><br/>Notes:<br/>[1] Standard Errors assume that the covariance matrix of the errors is correctly specified."
      ],
      "text/plain": [
       "<class 'statsmodels.iolib.summary.Summary'>\n",
       "\"\"\"\n",
       "                            OLS Regression Results                            \n",
       "==============================================================================\n",
       "Dep. Variable:                   Syst   R-squared:                       0.259\n",
       "Model:                            OLS   Adj. R-squared:                  0.253\n",
       "Method:                 Least Squares   F-statistic:                     40.97\n",
       "Date:                Sat, 24 Sep 2022   Prob (F-statistic):           1.91e-29\n",
       "Time:                        17:48:12   Log-Likelihood:                -2008.1\n",
       "No. Observations:                 473   AIC:                             4026.\n",
       "Df Residuals:                     468   BIC:                             4047.\n",
       "Df Model:                           4                                         \n",
       "Covariance Type:            nonrobust                                         \n",
       "=================================================================================\n",
       "                    coef    std err          t      P>|t|      [0.025      0.975]\n",
       "---------------------------------------------------------------------------------\n",
       "Intercept       115.4807      2.392     48.277      0.000     110.780     120.181\n",
       "Sex[T.2]         -6.7188      1.567     -4.287      0.000      -9.798      -3.639\n",
       "Single[T.Yes]     7.3474      2.183      3.365      0.001       3.057      11.638\n",
       "Age_C             0.6179      0.074      8.296      0.000       0.472       0.764\n",
       "BMI_C             1.0670      0.195      5.466      0.000       0.683       1.450\n",
       "==============================================================================\n",
       "Omnibus:                        6.347   Durbin-Watson:                   1.946\n",
       "Prob(Omnibus):                  0.042   Jarque-Bera (JB):                6.375\n",
       "Skew:                           0.260   Prob(JB):                       0.0413\n",
       "Kurtosis:                       2.771   Cond. No.                         108.\n",
       "==============================================================================\n",
       "\n",
       "Notes:\n",
       "[1] Standard Errors assume that the covariance matrix of the errors is correctly specified.\n",
       "\"\"\""
      ]
     },
     "execution_count": 39,
     "metadata": {},
     "output_type": "execute_result"
    }
   ],
   "source": [
    "model2.summary()"
   ]
  },
  {
   "cell_type": "code",
   "execution_count": 40,
   "id": "9fc1f042",
   "metadata": {},
   "outputs": [],
   "source": [
    "# Lets evaluate the difference between the actual values vs. predicted values.\n",
    "# This can be done in two ways.\n",
    "\n",
    "    # 1. substract the model's fitted values from the true values\n",
    "    # 2. use the model's .resid-attribute"
   ]
  },
  {
   "cell_type": "code",
   "execution_count": 41,
   "id": "4e20ff5f",
   "metadata": {},
   "outputs": [
    {
     "data": {
      "image/png": "[encoded data removed]",
      "text/plain": [
       "<Figure size 432x288 with 1 Axes>"
      ]
     },
     "metadata": {
      "needs_background": "light"
     },
     "output_type": "display_data"
    }
   ],
   "source": [
    "epsilon = df[\"Syst\"] - model2.fittedvalues\n",
    "\n",
    "plt.plot(epsilon);"
   ]
  },
  {
   "cell_type": "code",
   "execution_count": 42,
   "id": "b8509f64",
   "metadata": {},
   "outputs": [
    {
     "data": {
      "image/png": "[encoded data removed]",
      "text/plain": [
       "<Figure size 432x288 with 1 Axes>"
      ]
     },
     "metadata": {
      "needs_background": "light"
     },
     "output_type": "display_data"
    }
   ],
   "source": [
    "plt.plot(model2.resid);"
   ]
  },
  {
   "cell_type": "code",
   "execution_count": 43,
   "id": "2bcd06ea",
   "metadata": {},
   "outputs": [
    {
     "data": {
      "text/plain": [
       "(100.0, 180.0)"
      ]
     },
     "execution_count": 43,
     "metadata": {},
     "output_type": "execute_result"
    },
    {
     "data": {
      "image/png": "[encoded data removed]",
      "text/plain": [
       "<Figure size 432x288 with 1 Axes>"
      ]
     },
     "metadata": {},
     "output_type": "display_data"
    }
   ],
   "source": [
    "sns.set_style(\"darkgrid\")\n",
    "plt.plot(df[\"Syst\"], df[\"Syst\"], color=\"cyan\")\n",
    "plt.scatter(x=df[\"Syst\"], y=model2.fittedvalues, alpha=0.5, color=\"black\")\n",
    "plt.title(\"Predicted values vs. Actual values: $y _i$ vs. $\\hat y _i$\", size=15)\n",
    "plt.xlabel(\"Actual values $y _i$\", size=14)\n",
    "plt.ylabel(\"Predicted values $\\hat y _i$\", size=13, rotation=0, labelpad=70);\n",
    "plt.ylim(100, 180)"
   ]
  },
  {
   "cell_type": "code",
   "execution_count": 44,
   "id": "1b786c43",
   "metadata": {},
   "outputs": [],
   "source": [
    "# The model could use some work."
   ]
  },
  {
   "cell_type": "code",
   "execution_count": null,
   "id": "b3d380cc",
   "metadata": {},
   "outputs": [],
   "source": []
  },
  {
   "cell_type": "code",
   "execution_count": 45,
   "id": "32e4530a",
   "metadata": {},
   "outputs": [],
   "source": [
    "# Task 8.\n",
    "# My best model does not have Mstatus predictor. Looks like i have been using the wrong model.\n",
    "# I'll just build a one that has it."
   ]
  },
  {
   "cell_type": "code",
   "execution_count": 46,
   "id": "dc2a24e8",
   "metadata": {},
   "outputs": [
    {
     "data": {
      "text/plain": [
       "Intercept        115.161709\n",
       "Sex[T.2]          -6.609961\n",
       "Single[T.Yes]      3.719454\n",
       "Mstatus[T.2]       3.719454\n",
       "Mstatus[T.3]       1.964746\n",
       "Mstatus[T.4]      -1.372093\n",
       "Age_C              0.624956\n",
       "BMI_C              1.072390\n",
       "dtype: float64"
      ]
     },
     "execution_count": 46,
     "metadata": {},
     "output_type": "execute_result"
    }
   ],
   "source": [
    "model_x = ols(\"Syst ~ Age_C + BMI_C + Sex + Single + Mstatus\", data=df).fit()\n",
    "model_x.params"
   ]
  },
  {
   "cell_type": "code",
   "execution_count": 47,
   "id": "64be1df1",
   "metadata": {},
   "outputs": [],
   "source": [
    "coeffs = model_x.params"
   ]
  },
  {
   "cell_type": "code",
   "execution_count": 48,
   "id": "53705242",
   "metadata": {},
   "outputs": [
    {
     "data": {
      "text/plain": [
       "178.0967201373631"
      ]
     },
     "execution_count": 48,
     "metadata": {},
     "output_type": "execute_result"
    }
   ],
   "source": [
    "pred1 = (coeffs[0] + coeffs[5]) + (coeffs[6] * 60) + (coeffs[7] * 25)\n",
    "pred1\n",
    "\n",
    "# syst = (intercept + Mstatus[T.widowed]) + (Age_C * 60) + (BMI_C * 25)\n",
    "\n",
    "# Male, widower, age 60, BMI 25.\n",
    "\n",
    "# juu ei varmana ole. "
   ]
  },
  {
   "cell_type": "code",
   "execution_count": 49,
   "id": "f6c05bb5",
   "metadata": {},
   "outputs": [
    {
     "data": {
      "text/plain": [
       "148.2705114556992"
      ]
     },
     "execution_count": 49,
     "metadata": {},
     "output_type": "execute_result"
    }
   ],
   "source": [
    "pred2 = (coeffs[0] + coeffs[1] + coeffs[3]) + (coeffs[6] * 25) + (coeffs[7] * 19)\n",
    "pred2\n",
    "\n",
    "# syst = (intercept + Sex[T.2] + Mstatus[T.single]) + (Age_C * 25) + (BMI_C * 19)"
   ]
  },
  {
   "cell_type": "code",
   "execution_count": null,
   "id": "1e48f5e5",
   "metadata": {},
   "outputs": [],
   "source": []
  },
  {
   "cell_type": "code",
   "execution_count": null,
   "id": "7ad189df",
   "metadata": {},
   "outputs": [],
   "source": []
  }
 ],
 "metadata": {
  "kernelspec": {
   "display_name": "Python 3 (ipykernel)",
   "language": "python",
   "name": "python3"
  },
  "language_info": {
   "codemirror_mode": {
    "name": "ipython",
    "version": 3
   },
   "file_extension": ".py",
   "mimetype": "text/x-python",
   "name": "python",
   "nbconvert_exporter": "python",
   "pygments_lexer": "ipython3",
   "version": "3.9.12"
  }
 },
 "nbformat": 4,
 "nbformat_minor": 5
}
