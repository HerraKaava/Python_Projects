{
 "cells": [
  {
   "cell_type": "markdown",
   "id": "f80a571a",
   "metadata": {},
   "source": [
    "<h1 align=\"center\">Yleistetyt Lineaariset Mallit 2, Demo 2</h1>"
   ]
  },
  {
   "cell_type": "markdown",
   "id": "128ae63a",
   "metadata": {},
   "source": [
    "<br> "
   ]
  },
  {
   "cell_type": "code",
   "execution_count": 1,
   "id": "9e595c02",
   "metadata": {},
   "outputs": [],
   "source": [
    "import pandas as pd\n",
    "import numpy as np\n",
    "import scipy\n",
    "import statsmodels.api as sm"
   ]
  },
  {
   "cell_type": "markdown",
   "id": "d2431205",
   "metadata": {},
   "source": [
    "<h3 align=\"left\">Tehtävä 6</h3>"
   ]
  },
  {
   "cell_type": "markdown",
   "id": "c1b636db",
   "metadata": {},
   "source": [
    "Tarkastellaan luentomonisteen esimerkin 13. lineaarista regressiomallia"
   ]
  },
  {
   "cell_type": "markdown",
   "id": "1eb13d1c",
   "metadata": {},
   "source": [
    "$ mpist_i = \\beta_0 \\, + \\, \\beta_1 \\, matem_i \\, + \\, \\beta_2 \\, sukup_i \\, + \\, \\beta_3 \\, koulusij_i \\, \\\\ + \\, \\beta_4 \\, koulualue\\_ita_i \\, + \\,       \\beta_5 \\, koulualue\\_lansi_i \\, + \\, \\beta_6 \\, koulualue\\_pohj_i \\, + \\,     \\epsilon_i $"
   ]
  },
  {
   "cell_type": "markdown",
   "id": "7b1ce0a9",
   "metadata": {},
   "source": [
    "Lue aineisto R:ään ja laske käyttäen hyväksi luentomonisteen analyyttisiä tuloksia"
   ]
  },
  {
   "cell_type": "markdown",
   "id": "193f2801",
   "metadata": {},
   "source": [
    "- Parametrivektorin β suurimman uskottavuuden estimaatti\n",
    "-  Mallin keskivirhe $ \\mathbf{\\hat{\\sigma}} $\n",
    "- Suurimman uskottavuuden estimaattien $ \\mathbf{\\hat{\\beta}} $ keskivirheet\n",
    "- Mallin selitysaste $ \\mathbf{R^2} $"
   ]
  },
  {
   "cell_type": "code",
   "execution_count": 2,
   "id": "f6496474",
   "metadata": {},
   "outputs": [],
   "source": [
    "pisa = pd.read_csv(\"C:/Users/testi/Desktop/excel_files/pisa_demo02.csv\", \n",
    "                   index_col=0)"
   ]
  },
  {
   "cell_type": "code",
   "execution_count": 3,
   "id": "1f04280b",
   "metadata": {},
   "outputs": [
    {
     "data": {
      "text/html": [
       "<div>\n",
       "<style scoped>\n",
       "    .dataframe tbody tr th:only-of-type {\n",
       "        vertical-align: middle;\n",
       "    }\n",
       "\n",
       "    .dataframe tbody tr th {\n",
       "        vertical-align: top;\n",
       "    }\n",
       "\n",
       "    .dataframe thead th {\n",
       "        text-align: right;\n",
       "    }\n",
       "</style>\n",
       "<table border=\"1\" class=\"dataframe\">\n",
       "  <thead>\n",
       "    <tr style=\"text-align: right;\">\n",
       "      <th></th>\n",
       "      <th>mpist</th>\n",
       "      <th>sukup</th>\n",
       "      <th>SES</th>\n",
       "      <th>koulusij</th>\n",
       "      <th>koulualue</th>\n",
       "      <th>matem</th>\n",
       "      <th>aidink</th>\n",
       "    </tr>\n",
       "  </thead>\n",
       "  <tbody>\n",
       "    <tr>\n",
       "      <th>107</th>\n",
       "      <td>569.254</td>\n",
       "      <td>poika</td>\n",
       "      <td>0.1322</td>\n",
       "      <td>kaupunki</td>\n",
       "      <td>Etela-Suomi</td>\n",
       "      <td>9</td>\n",
       "      <td>7</td>\n",
       "    </tr>\n",
       "    <tr>\n",
       "      <th>1261</th>\n",
       "      <td>631.804</td>\n",
       "      <td>poika</td>\n",
       "      <td>1.1144</td>\n",
       "      <td>kaupunki</td>\n",
       "      <td>Etela-Suomi</td>\n",
       "      <td>8</td>\n",
       "      <td>8</td>\n",
       "    </tr>\n",
       "    <tr>\n",
       "      <th>381</th>\n",
       "      <td>521.582</td>\n",
       "      <td>tytto</td>\n",
       "      <td>0.4400</td>\n",
       "      <td>kaupunki</td>\n",
       "      <td>Etela-Suomi</td>\n",
       "      <td>7</td>\n",
       "      <td>9</td>\n",
       "    </tr>\n",
       "  </tbody>\n",
       "</table>\n",
       "</div>"
      ],
      "text/plain": [
       "        mpist  sukup     SES  koulusij    koulualue  matem  aidink\n",
       "107   569.254  poika  0.1322  kaupunki  Etela-Suomi      9       7\n",
       "1261  631.804  poika  1.1144  kaupunki  Etela-Suomi      8       8\n",
       "381   521.582  tytto  0.4400  kaupunki  Etela-Suomi      7       9"
      ]
     },
     "execution_count": 3,
     "metadata": {},
     "output_type": "execute_result"
    }
   ],
   "source": [
    "pisa.head(3)"
   ]
  },
  {
   "cell_type": "code",
   "execution_count": 4,
   "id": "568aeb01",
   "metadata": {},
   "outputs": [],
   "source": [
    "# Luodaan deisgn-matriisi.\n",
    "\n",
    "mat = pisa[\"matem\"].values\n",
    "\n",
    "sp = pisa[\"sukup\"].replace({\"poika\": 0, \"tytto\": 1}).values\n",
    "\n",
    "sij = pisa[\"koulusij\"].replace({\"kaupunki\": 0, \"maaseutu\": 1}).values\n",
    "\n",
    "ita = np.where(pisa[\"koulualue\"] == \"Ita-Suomi\", 1, 0)\n",
    "\n",
    "lansi = np.where(pisa[\"koulualue\"] == \"Lansi-Suomi\", 1, 0)\n",
    "\n",
    "pohjoinen = np.where(pisa[\"koulualue\"] == \"Pohjois-Suomi\", 1, 0)\n",
    "\n",
    "intercept = np.ones(200, dtype=int)\n",
    "\n",
    "X = pd.DataFrame({\"intercept\": intercept,\n",
    "                  \"mat\": mat,\n",
    "                  \"sp\": sp,\n",
    "                  \"sij\": sij,\n",
    "                  \"ita\": ita,\n",
    "                  \"lansi\": lansi,\n",
    "                  \"pohjoinen\": pohjoinen})\n",
    "\n",
    "X.index += 1"
   ]
  },
  {
   "cell_type": "code",
   "execution_count": 64,
   "id": "f70f3fb1",
   "metadata": {},
   "outputs": [
    {
     "data": {
      "text/plain": [
       "(200, 7)"
      ]
     },
     "execution_count": 64,
     "metadata": {},
     "output_type": "execute_result"
    }
   ],
   "source": [
    "X.shape"
   ]
  },
  {
   "cell_type": "code",
   "execution_count": 58,
   "id": "c48d59bd",
   "metadata": {},
   "outputs": [],
   "source": [
    "# Vastemuuttuja\n",
    "y = pisa[\"mpist\"]"
   ]
  },
  {
   "cell_type": "code",
   "execution_count": 63,
   "id": "1aa92dfe",
   "metadata": {},
   "outputs": [
    {
     "data": {
      "text/plain": [
       "(200,)"
      ]
     },
     "execution_count": 63,
     "metadata": {},
     "output_type": "execute_result"
    }
   ],
   "source": [
    "y.shape"
   ]
  },
  {
   "cell_type": "markdown",
   "id": "4c1cd380",
   "metadata": {},
   "source": [
    "<br>"
   ]
  },
  {
   "cell_type": "markdown",
   "id": "969eec31",
   "metadata": {},
   "source": [
    "**Parametrivektorin β suurimman uskottavuuden estimaatti**"
   ]
  },
  {
   "cell_type": "markdown",
   "id": "459b983c",
   "metadata": {},
   "source": [
    "Parametrivektorin $\\, \\beta \\,$ suurimman uskottavuuden estimaatti saadaa optimoimalla (maksimoimalla) logaritminen uskottavuusfunktio $\\, \\beta \\,$:n suhteen, jolloin\n",
    "\n",
    "\\begin{equation}\n",
    "    \\large\\hat{\\beta} = (X^T X)^{-1} \\, X^T y\n",
    "\\end{equation}"
   ]
  },
  {
   "cell_type": "code",
   "execution_count": 67,
   "id": "b8e04f5f",
   "metadata": {},
   "outputs": [
    {
     "data": {
      "text/plain": [
       "array([334.61292837,  29.96626779, -17.34266536,  15.10478975,\n",
       "        -3.57897317, -31.29944545, -11.89215235])"
      ]
     },
     "execution_count": 67,
     "metadata": {},
     "output_type": "execute_result"
    }
   ],
   "source": [
    "betahat = np.linalg.inv(X.values.T @ X.values) @ X.values.T @ y.values\n",
    "betahat"
   ]
  },
  {
   "cell_type": "markdown",
   "id": "a53ef08a",
   "metadata": {},
   "source": [
    "- Huomaa, että values-attribuutti muuttaa Pandasin DataFrame- ja Series-objektit NumPy-taulukoiksi.\n",
    "- Tämän seurauksena parametrivektorin $\\, \\beta \\,$ SU-estimaatti saadaan NumPy-taulukkona.\n",
    "- Jos values-attribuutit jätettäisiin pois, saataisiin sama SU-estimaatti, mutta Pandasin Series-objektina."
   ]
  },
  {
   "cell_type": "code",
   "execution_count": 68,
   "id": "d7e934cf",
   "metadata": {},
   "outputs": [],
   "source": [
    "MLEs = pd.DataFrame({\"MLE\": betahat},\n",
    "                     index=[\"intercept\", \"mat\", \"sp\", \"sij\", \"ita\", \"lansi\", \"pohjoinen\"])"
   ]
  },
  {
   "cell_type": "code",
   "execution_count": 69,
   "id": "3a28126a",
   "metadata": {},
   "outputs": [
    {
     "data": {
      "text/html": [
       "<div>\n",
       "<style scoped>\n",
       "    .dataframe tbody tr th:only-of-type {\n",
       "        vertical-align: middle;\n",
       "    }\n",
       "\n",
       "    .dataframe tbody tr th {\n",
       "        vertical-align: top;\n",
       "    }\n",
       "\n",
       "    .dataframe thead th {\n",
       "        text-align: right;\n",
       "    }\n",
       "</style>\n",
       "<table border=\"1\" class=\"dataframe\">\n",
       "  <thead>\n",
       "    <tr style=\"text-align: right;\">\n",
       "      <th></th>\n",
       "      <th>MLE</th>\n",
       "    </tr>\n",
       "  </thead>\n",
       "  <tbody>\n",
       "    <tr>\n",
       "      <th>intercept</th>\n",
       "      <td>334.612928</td>\n",
       "    </tr>\n",
       "    <tr>\n",
       "      <th>mat</th>\n",
       "      <td>29.966268</td>\n",
       "    </tr>\n",
       "    <tr>\n",
       "      <th>sp</th>\n",
       "      <td>-17.342665</td>\n",
       "    </tr>\n",
       "    <tr>\n",
       "      <th>sij</th>\n",
       "      <td>15.104790</td>\n",
       "    </tr>\n",
       "    <tr>\n",
       "      <th>ita</th>\n",
       "      <td>-3.578973</td>\n",
       "    </tr>\n",
       "    <tr>\n",
       "      <th>lansi</th>\n",
       "      <td>-31.299445</td>\n",
       "    </tr>\n",
       "    <tr>\n",
       "      <th>pohjoinen</th>\n",
       "      <td>-11.892152</td>\n",
       "    </tr>\n",
       "  </tbody>\n",
       "</table>\n",
       "</div>"
      ],
      "text/plain": [
       "                  MLE\n",
       "intercept  334.612928\n",
       "mat         29.966268\n",
       "sp         -17.342665\n",
       "sij         15.104790\n",
       "ita         -3.578973\n",
       "lansi      -31.299445\n",
       "pohjoinen  -11.892152"
      ]
     },
     "execution_count": 69,
     "metadata": {},
     "output_type": "execute_result"
    }
   ],
   "source": [
    "MLEs"
   ]
  },
  {
   "cell_type": "markdown",
   "id": "cfa14bd7",
   "metadata": {},
   "source": [
    "Verrataan näitä vaikkapa Statsmodels-kirjastosta löytyvään valmiiseen funktioon."
   ]
  },
  {
   "cell_type": "code",
   "execution_count": 80,
   "id": "f5221f4e",
   "metadata": {},
   "outputs": [
    {
     "data": {
      "text/plain": [
       "array([334.612928,  29.966268, -17.342665,  15.10479 ,  -3.578973,\n",
       "       -31.299445, -11.892152])"
      ]
     },
     "execution_count": 80,
     "metadata": {},
     "output_type": "execute_result"
    }
   ],
   "source": [
    "m = sm.OLS(y.values, X.values).fit()\n",
    "np.round(m.params, 6)"
   ]
  },
  {
   "cell_type": "markdown",
   "id": "ed1b1fce",
   "metadata": {},
   "source": [
    "- Nämä ovat identtiset johtuen siitä, että kun X on kääntyvä, niin statsmodels-kirjaston OLS-funktio etsii ratkaisun yllä määritellyn normaaliyhtälön avulla (joka on siis parametrivektorin $\\, \\beta \\,$ suurimman uskottavuuden estimaatti)."
   ]
  },
  {
   "cell_type": "markdown",
   "id": "f9083b1f",
   "metadata": {},
   "source": [
    "<br>"
   ]
  },
  {
   "cell_type": "markdown",
   "id": "e15821e4",
   "metadata": {},
   "source": [
    "**Mallin keskivirhe** $ \\mathbf{\\hat{\\sigma}} \\, $ on"
   ]
  },
  {
   "cell_type": "markdown",
   "id": "86f1ecbc",
   "metadata": {},
   "source": [
    "$$ \\mathbf{\\hat{\\sigma}} = \\sqrt{\\frac{(y - X\\hat{\\beta})^T \\, (y - X\\hat{\\beta})}{n - p - 1}}. $$"
   ]
  },
  {
   "cell_type": "markdown",
   "id": "ee262d34",
   "metadata": {},
   "source": [
    "Mallin keskivirheen laskemiseksi tarvitaan jäännökset"
   ]
  },
  {
   "cell_type": "markdown",
   "id": "b82f52e9",
   "metadata": {},
   "source": [
    "$$ \\large\\mathbf{\\hat{\\epsilon}} = y - \\hat{y} $$"
   ]
  },
  {
   "cell_type": "markdown",
   "id": "91693bc3",
   "metadata": {},
   "source": [
    "missä $ \\mathbf{\\hat{y}} $ ovat mallin sovitteet, jotka saadaan kaavalla"
   ]
  },
  {
   "cell_type": "markdown",
   "id": "58f18da0",
   "metadata": {},
   "source": [
    "$$ \\large\\mathbf{\\hat{y}} = X\\hat{\\beta} $$"
   ]
  },
  {
   "cell_type": "markdown",
   "id": "59dbd311",
   "metadata": {},
   "source": [
    "missä X on design-matriisi ja $ \\mathbf{\\hat{\\beta}} $ on parametrivektori."
   ]
  },
  {
   "cell_type": "markdown",
   "id": "2aef7a97",
   "metadata": {},
   "source": [
    "- **Huomaa**, että keskivirheen kaavassa osoittajassa on residuaalivektorin transpoosi kertaa residuaalivektori.\n",
    "- p = parametrivektorin $ \\hat{\\beta} $ parametrien (kertoimien) lukumäärä. **Huomaa**, että tähän ei lasketa intercept-termiä mukaan!"
   ]
  },
  {
   "cell_type": "code",
   "execution_count": 14,
   "id": "bff507da",
   "metadata": {},
   "outputs": [],
   "source": [
    "resid = y - np.matmul(X, betahat)"
   ]
  },
  {
   "cell_type": "code",
   "execution_count": 15,
   "id": "0741b9fa",
   "metadata": {},
   "outputs": [],
   "source": [
    "n = len(X)"
   ]
  },
  {
   "cell_type": "code",
   "execution_count": 16,
   "id": "e319ca10",
   "metadata": {},
   "outputs": [],
   "source": [
    "p = betahat.shape[0] - 1"
   ]
  },
  {
   "cell_type": "code",
   "execution_count": 17,
   "id": "1e61242e",
   "metadata": {},
   "outputs": [],
   "source": [
    "sigmahat = np.sqrt((np.matmul(resid.T, resid)) / (n - p - 1))"
   ]
  },
  {
   "cell_type": "code",
   "execution_count": 18,
   "id": "85d78811",
   "metadata": {},
   "outputs": [
    {
     "name": "stdout",
     "output_type": "stream",
     "text": [
      "Mallin keskivirhe on: 63.4001728494971\n"
     ]
    }
   ],
   "source": [
    "print(f\"Mallin keskivirhe on: {sigmahat}\")"
   ]
  },
  {
   "cell_type": "markdown",
   "id": "11368f3f",
   "metadata": {},
   "source": [
    "<br>"
   ]
  },
  {
   "cell_type": "markdown",
   "id": "e79b4658",
   "metadata": {},
   "source": [
    "**Suurimman uskottavuuden estimaattien $ \\mathbf{\\hat{\\beta}} $ keskivirheet**"
   ]
  },
  {
   "cell_type": "markdown",
   "id": "f1703032",
   "metadata": {},
   "source": [
    "Parametrien $ \\mathbf{\\hat{\\beta_j}} $ keskivirheet ovat"
   ]
  },
  {
   "cell_type": "markdown",
   "id": "6fe15716",
   "metadata": {},
   "source": [
    "$$ \\sqrt{\\widehat{Var}(\\hat{\\beta}_j}) = \\sqrt{[\\widehat{Cov}(\\hat{\\beta})}]_{jj} := se(\\hat{\\beta}_j), $$"
   ]
  },
  {
   "cell_type": "markdown",
   "id": "619f2fbd",
   "metadata": {},
   "source": [
    "$$ missä \\quad \\widehat{Cov}(\\hat{\\beta}) = \\sigma^2(X^TX)^{-1}. $$"
   ]
  },
  {
   "cell_type": "code",
   "execution_count": 81,
   "id": "94a904c2",
   "metadata": {},
   "outputs": [],
   "source": [
    "covbeta = sigmahat**2 * np.linalg.inv(X.values.T @ X.values)"
   ]
  },
  {
   "cell_type": "code",
   "execution_count": 82,
   "id": "ca2f5f74",
   "metadata": {},
   "outputs": [],
   "source": [
    "sdbeta = np.sqrt(np.diagonal(covbeta))"
   ]
  },
  {
   "cell_type": "code",
   "execution_count": 83,
   "id": "164912e5",
   "metadata": {},
   "outputs": [
    {
     "data": {
      "text/html": [
       "<div>\n",
       "<style scoped>\n",
       "    .dataframe tbody tr th:only-of-type {\n",
       "        vertical-align: middle;\n",
       "    }\n",
       "\n",
       "    .dataframe tbody tr th {\n",
       "        vertical-align: top;\n",
       "    }\n",
       "\n",
       "    .dataframe thead th {\n",
       "        text-align: right;\n",
       "    }\n",
       "</style>\n",
       "<table border=\"1\" class=\"dataframe\">\n",
       "  <thead>\n",
       "    <tr style=\"text-align: right;\">\n",
       "      <th></th>\n",
       "      <th>Standard error</th>\n",
       "    </tr>\n",
       "  </thead>\n",
       "  <tbody>\n",
       "    <tr>\n",
       "      <th>intercept</th>\n",
       "      <td>24.68</td>\n",
       "    </tr>\n",
       "    <tr>\n",
       "      <th>mat</th>\n",
       "      <td>3.27</td>\n",
       "    </tr>\n",
       "    <tr>\n",
       "      <th>sp</th>\n",
       "      <td>9.03</td>\n",
       "    </tr>\n",
       "    <tr>\n",
       "      <th>sij</th>\n",
       "      <td>11.81</td>\n",
       "    </tr>\n",
       "    <tr>\n",
       "      <th>ita</th>\n",
       "      <td>15.26</td>\n",
       "    </tr>\n",
       "    <tr>\n",
       "      <th>lansi</th>\n",
       "      <td>10.89</td>\n",
       "    </tr>\n",
       "    <tr>\n",
       "      <th>pohjoinen</th>\n",
       "      <td>14.52</td>\n",
       "    </tr>\n",
       "  </tbody>\n",
       "</table>\n",
       "</div>"
      ],
      "text/plain": [
       "           Standard error\n",
       "intercept           24.68\n",
       "mat                  3.27\n",
       "sp                   9.03\n",
       "sij                 11.81\n",
       "ita                 15.26\n",
       "lansi               10.89\n",
       "pohjoinen           14.52"
      ]
     },
     "execution_count": 83,
     "metadata": {},
     "output_type": "execute_result"
    }
   ],
   "source": [
    "pd.DataFrame({\"Standard error\": np.round(sdbeta, 2)},\n",
    "              index=[\"intercept\", \"mat\", \"sp\", \"sij\", \"ita\", \"lansi\", \"pohjoinen\"])"
   ]
  },
  {
   "cell_type": "markdown",
   "id": "82d64d0f",
   "metadata": {},
   "source": [
    "<br>"
   ]
  },
  {
   "cell_type": "markdown",
   "id": "0a6f018e",
   "metadata": {},
   "source": [
    "**Mallin selitysaste** $ \\mathbf{R^2} $"
   ]
  },
  {
   "cell_type": "markdown",
   "id": "824fef83",
   "metadata": {},
   "source": [
    "$$ SST = \\sum_{i=1}^n (y_i - \\bar{y})^2 $$"
   ]
  },
  {
   "cell_type": "markdown",
   "id": "af141ced",
   "metadata": {},
   "source": [
    "$$ SSR = \\sum_{i=1}^n (\\hat{y}_i - \\bar{y})^2 $$"
   ]
  },
  {
   "cell_type": "markdown",
   "id": "f5eb8a2a",
   "metadata": {},
   "source": [
    "$$ SSE = \\sum_{i=1}^n (y_i - \\hat{y}_i)^2 $$"
   ]
  },
  {
   "cell_type": "markdown",
   "id": "8d8a3def",
   "metadata": {},
   "source": [
    "$$ \\hat{y} = X\\hat{\\beta} $$"
   ]
  },
  {
   "cell_type": "markdown",
   "id": "66b939d0",
   "metadata": {},
   "source": [
    "- SST on vasteen kokonaisvaihtelu\n",
    "- SSR on regressiomallin selittämä vaihtelu\n",
    "- SSE on selittämätön vaihtelu (jäännösvaihtelu)"
   ]
  },
  {
   "cell_type": "markdown",
   "id": "72e02b8d",
   "metadata": {},
   "source": [
    "$$ R^2 = \\frac{SSR}{SST} = 1- \\frac{SSE}{SST} $$"
   ]
  },
  {
   "cell_type": "code",
   "execution_count": 23,
   "id": "57bd4838",
   "metadata": {},
   "outputs": [],
   "source": [
    "SST = sum((y - np.mean(y))**2)"
   ]
  },
  {
   "cell_type": "code",
   "execution_count": 24,
   "id": "2d6d79f3",
   "metadata": {},
   "outputs": [],
   "source": [
    "yhat = np.matmul(X_arr, betahat)"
   ]
  },
  {
   "cell_type": "code",
   "execution_count": 25,
   "id": "437f9708",
   "metadata": {},
   "outputs": [],
   "source": [
    "SSE = sum((y - yhat)**2)"
   ]
  },
  {
   "cell_type": "code",
   "execution_count": 26,
   "id": "109e1942",
   "metadata": {},
   "outputs": [],
   "source": [
    "Rsquared = 1 - (SSE / SST)"
   ]
  },
  {
   "cell_type": "code",
   "execution_count": 27,
   "id": "f4f49d59",
   "metadata": {},
   "outputs": [
    {
     "name": "stdout",
     "output_type": "stream",
     "text": [
      "Mallin selitysaste on: 0.33300709002407625\n"
     ]
    }
   ],
   "source": [
    "print(f\"Mallin selitysaste on: {Rsquared}\")"
   ]
  },
  {
   "cell_type": "markdown",
   "id": "8263b554",
   "metadata": {},
   "source": [
    "<br>"
   ]
  },
  {
   "cell_type": "markdown",
   "id": "83d57f8b",
   "metadata": {},
   "source": [
    "<br>"
   ]
  },
  {
   "cell_type": "markdown",
   "id": "3a091c90",
   "metadata": {},
   "source": [
    "<h3 align=\"left\">Tehtävä 7</h3>"
   ]
  },
  {
   "cell_type": "markdown",
   "id": "d6677a7e",
   "metadata": {},
   "source": [
    "Testaa t-testin avulla edellisen tehtävän lineaarisen mallin tapauksessa sukupuoleen liittyvää regressiokerrointa, eli nollahypoteesiä $ H_0 : \\beta_2 = 0. $"
   ]
  },
  {
   "cell_type": "markdown",
   "id": "5f0331c8",
   "metadata": {},
   "source": [
    "t-testisuure lineaarisen mallin yksittäiselle regressiokertoimelle saadaan kaavalla"
   ]
  },
  {
   "cell_type": "markdown",
   "id": "ee709ad4",
   "metadata": {},
   "source": [
    "$$ t = \\frac{\\hat{\\beta}_j - \\beta_j}{se(\\hat{\\beta}_j)}. $$"
   ]
  },
  {
   "cell_type": "markdown",
   "id": "8178e24d",
   "metadata": {},
   "source": [
    "Huomaa, että $ \\mathbf{\\beta_j} $ on nollahypoteesin mukainen regressiokerroin (nolla) eli osoittajaan jää ainoastaan testattava regressiokerroin. "
   ]
  },
  {
   "cell_type": "code",
   "execution_count": 28,
   "id": "451082fb",
   "metadata": {},
   "outputs": [],
   "source": [
    "t = betahat[2] / sdbeta[2]"
   ]
  },
  {
   "cell_type": "code",
   "execution_count": 29,
   "id": "e5bcbaae",
   "metadata": {},
   "outputs": [
    {
     "name": "stdout",
     "output_type": "stream",
     "text": [
      "Testisuure on: -1.9206433364970608\n"
     ]
    }
   ],
   "source": [
    "print(f\"Testisuure on: {t}\")"
   ]
  },
  {
   "cell_type": "code",
   "execution_count": 30,
   "id": "376034d0",
   "metadata": {},
   "outputs": [],
   "source": [
    "p_value = 2 * (1 - scipy.stats.t.cdf(np.abs(t), n-p-1))"
   ]
  },
  {
   "cell_type": "code",
   "execution_count": 31,
   "id": "bdb42257",
   "metadata": {},
   "outputs": [
    {
     "name": "stdout",
     "output_type": "stream",
     "text": [
      "p-arvo on: 0.056250599851747296\n"
     ]
    }
   ],
   "source": [
    "print(f\"p-arvo on: {p_value}\")"
   ]
  },
  {
   "cell_type": "markdown",
   "id": "d1544821",
   "metadata": {},
   "source": [
    "- Huomaa, että t-testiä voidaan käyttää ainoastaan, kun testataan yksittäisen regressiokertoimen merkitsevyyttä.\n",
    "- Jos halutaan testata useampaa regressiokerrointa samanaikaisesti (esim. $ H_0 : \\beta_4 = \\beta_5 = \\beta_6 = 0 $), voidaan käyttää **F-testiä.**"
   ]
  },
  {
   "cell_type": "markdown",
   "id": "0cda9efe",
   "metadata": {},
   "source": [
    "<br>"
   ]
  },
  {
   "cell_type": "markdown",
   "id": "2f477ce2",
   "metadata": {},
   "source": [
    "<br>"
   ]
  },
  {
   "cell_type": "markdown",
   "id": "65f1b19c",
   "metadata": {},
   "source": [
    "**Tehtävä 8**"
   ]
  },
  {
   "cell_type": "markdown",
   "id": "9f9180f4",
   "metadata": {},
   "source": [
    "Luo oma funktio F-testistä ja testaa sen avulla annettuja hypoteeseja."
   ]
  },
  {
   "cell_type": "code",
   "execution_count": 32,
   "id": "beccde7c",
   "metadata": {},
   "outputs": [],
   "source": [
    "def F_test(K, X, beta, sigma):\n",
    "    q = np.linalg.matrix_rank(np.linalg.qr(K)[0])\n",
    "    n = X.shape[0]\n",
    "    p = X.shape[1]\n",
    "    F = (K.T @ beta).T @ np.linalg.inv(K.T @ np.linalg.inv(X.T @ X) @ K) @ (K.T @ beta) / (q * sigma)\n",
    "    p_val = 1 - scipy.stats.f.cdf(F, q, n-p-1)\n",
    "    if round(p_val, ndigits=5) == 0:\n",
    "        p_val = \"< 0.000\"\n",
    "    frame = pd.DataFrame({\"F\": [F], \"p-value\": p_val})\n",
    "    return frame"
   ]
  },
  {
   "cell_type": "code",
   "execution_count": 33,
   "id": "6524d299",
   "metadata": {},
   "outputs": [],
   "source": [
    "K = np.column_stack(np.array([[0,1,0,0,0,0,0], \n",
    "                              [0,0,1,0,0,0,0],\n",
    "                              [0,0,0,1,0,0,0],\n",
    "                              [0,0,0,0,1,0,0],\n",
    "                              [0,0,0,0,0,1,0],\n",
    "                              [0,0,0,0,0,0,1]]))"
   ]
  },
  {
   "cell_type": "markdown",
   "id": "dfb2a6c4",
   "metadata": {},
   "source": [
    "- Huomaa, että jokainen vektori (lista) kuvastaa tilannetta, missä kaikki muu paitsi yksi regressio on nolla.\n",
    "- Ensimmäisessä vektorissa kaikki muut regressiokertoimet paitsi $\\, \\beta_1 \\,$ ovat nollia, toisessa vektorissa kaikki muut paitsi $\\, \\beta_2 \\,$ ovat nollia jne."
   ]
  },
  {
   "cell_type": "code",
   "execution_count": 34,
   "id": "120d0e96",
   "metadata": {},
   "outputs": [
    {
     "data": {
      "text/plain": [
       "array([[0, 0, 0, 0, 0, 0],\n",
       "       [1, 0, 0, 0, 0, 0],\n",
       "       [0, 1, 0, 0, 0, 0],\n",
       "       [0, 0, 1, 0, 0, 0],\n",
       "       [0, 0, 0, 1, 0, 0],\n",
       "       [0, 0, 0, 0, 1, 0],\n",
       "       [0, 0, 0, 0, 0, 1]])"
      ]
     },
     "execution_count": 34,
     "metadata": {},
     "output_type": "execute_result"
    }
   ],
   "source": [
    "K"
   ]
  },
  {
   "cell_type": "markdown",
   "id": "7e540912",
   "metadata": {},
   "source": [
    "<br>"
   ]
  },
  {
   "cell_type": "markdown",
   "id": "7b85410f",
   "metadata": {},
   "source": [
    "$ H_0 : \\beta_1 = \\, ... \\, = \\beta_6 = 0 $ (keskiarvomalli on riittävä selittämään\n",
    "vasteen arvoissa esiintyvää vaihtelua).\n",
    "\n",
    "$ H_1 : $ ainakin yksi regressiokerroin $ \\neq 0 $.\n",
    "\n",
    "- Tämän voidaan ajatella testaavan yleisesti regressiomallin merkitsevyyttä."
   ]
  },
  {
   "cell_type": "code",
   "execution_count": 35,
   "id": "3dcce739",
   "metadata": {},
   "outputs": [
    {
     "data": {
      "text/html": [
       "<div>\n",
       "<style scoped>\n",
       "    .dataframe tbody tr th:only-of-type {\n",
       "        vertical-align: middle;\n",
       "    }\n",
       "\n",
       "    .dataframe tbody tr th {\n",
       "        vertical-align: top;\n",
       "    }\n",
       "\n",
       "    .dataframe thead th {\n",
       "        text-align: right;\n",
       "    }\n",
       "</style>\n",
       "<table border=\"1\" class=\"dataframe\">\n",
       "  <thead>\n",
       "    <tr style=\"text-align: right;\">\n",
       "      <th></th>\n",
       "      <th>F</th>\n",
       "      <th>p-value</th>\n",
       "    </tr>\n",
       "  </thead>\n",
       "  <tbody>\n",
       "    <tr>\n",
       "      <th>0</th>\n",
       "      <td>16.059733</td>\n",
       "      <td>&lt; 0.000</td>\n",
       "    </tr>\n",
       "  </tbody>\n",
       "</table>\n",
       "</div>"
      ],
      "text/plain": [
       "           F  p-value\n",
       "0  16.059733  < 0.000"
      ]
     },
     "execution_count": 35,
     "metadata": {},
     "output_type": "execute_result"
    }
   ],
   "source": [
    "# Huomaaa, että X, betahat ja sigmahat on määritelty aiemmissa tehtävissä.\n",
    "F_test(K, X, betahat, sigmahat**2)"
   ]
  },
  {
   "cell_type": "markdown",
   "id": "3c941a33",
   "metadata": {},
   "source": [
    "- Nyt, koska p-arvo on selvästi pienempi kuin yleisesti käytetty $\\, \\alpha = 0.05, \\,$ niin nollahypoteesi voidaan hylätä ja todeta, että keskiarvomalli ei ole paras malli selittämään vasteen arvoissa esiintyvää vaihtelua."
   ]
  },
  {
   "cell_type": "markdown",
   "id": "a883a2be",
   "metadata": {},
   "source": [
    "<br>"
   ]
  },
  {
   "cell_type": "markdown",
   "id": "f8c9393f",
   "metadata": {},
   "source": [
    "$ H_0 : \\beta_4 = \\beta_5 = \\beta_6 = 0 \\quad $ (regressiokertoimilla $\\, \\beta_4, \\, \\beta_5, \\, \\beta_6 \\,$ ei vaikutusta vastemuuttujaan)"
   ]
  },
  {
   "cell_type": "code",
   "execution_count": 36,
   "id": "09eb7f76",
   "metadata": {},
   "outputs": [],
   "source": [
    "K2 = np.column_stack(np.array([[0,0,0,0,1,0,0], \n",
    "                               [0,0,0,0,0,1,0],\n",
    "                               [0,0,0,0,0,0,1]]))"
   ]
  },
  {
   "cell_type": "code",
   "execution_count": 37,
   "id": "eabbd620",
   "metadata": {},
   "outputs": [
    {
     "data": {
      "text/plain": [
       "array([[0, 0, 0],\n",
       "       [0, 0, 0],\n",
       "       [0, 0, 0],\n",
       "       [0, 0, 0],\n",
       "       [1, 0, 0],\n",
       "       [0, 1, 0],\n",
       "       [0, 0, 1]])"
      ]
     },
     "execution_count": 37,
     "metadata": {},
     "output_type": "execute_result"
    }
   ],
   "source": [
    "K2"
   ]
  },
  {
   "cell_type": "code",
   "execution_count": 38,
   "id": "cade6c68",
   "metadata": {},
   "outputs": [
    {
     "data": {
      "text/html": [
       "<div>\n",
       "<style scoped>\n",
       "    .dataframe tbody tr th:only-of-type {\n",
       "        vertical-align: middle;\n",
       "    }\n",
       "\n",
       "    .dataframe tbody tr th {\n",
       "        vertical-align: top;\n",
       "    }\n",
       "\n",
       "    .dataframe thead th {\n",
       "        text-align: right;\n",
       "    }\n",
       "</style>\n",
       "<table border=\"1\" class=\"dataframe\">\n",
       "  <thead>\n",
       "    <tr style=\"text-align: right;\">\n",
       "      <th></th>\n",
       "      <th>F</th>\n",
       "      <th>p-value</th>\n",
       "    </tr>\n",
       "  </thead>\n",
       "  <tbody>\n",
       "    <tr>\n",
       "      <th>0</th>\n",
       "      <td>2.866455</td>\n",
       "      <td>0.037842</td>\n",
       "    </tr>\n",
       "  </tbody>\n",
       "</table>\n",
       "</div>"
      ],
      "text/plain": [
       "          F   p-value\n",
       "0  2.866455  0.037842"
      ]
     },
     "execution_count": 38,
     "metadata": {},
     "output_type": "execute_result"
    }
   ],
   "source": [
    "F_test(K2, X, betahat, sigmahat**2)"
   ]
  },
  {
   "cell_type": "markdown",
   "id": "ced128c1",
   "metadata": {},
   "source": [
    "- Koska p-arvo on pienempi kuin yleisesti käytetty merkitsevyystaso $\\, \\alpha = 0.05, \\,$ niin nollahypoteesi voidaan hylätä ja todeta, että ainakin yhdellä regressiokertoimista $\\, \\beta_4, \\, \\beta_5, \\, \\beta_6 \\,$ on tilastollisesti merkitsevä vaikutus vastemuuttujan arvojen vaihtelun selittämisessä (eli ainakin yksi edellä mainituista regressiokertoimista parantaa mallia)."
   ]
  },
  {
   "cell_type": "markdown",
   "id": "c6cb321b",
   "metadata": {},
   "source": [
    "<br>"
   ]
  },
  {
   "cell_type": "markdown",
   "id": "829df488",
   "metadata": {},
   "source": [
    "$ H_0 : \\beta_4 = \\beta_6 $\n",
    "\n",
    "$ H_1 : \\beta_4 \\neq \\beta_6 $"
   ]
  },
  {
   "cell_type": "code",
   "execution_count": 39,
   "id": "bb59f0cf",
   "metadata": {},
   "outputs": [
    {
     "data": {
      "text/plain": [
       "array([[ 0],\n",
       "       [ 0],\n",
       "       [ 0],\n",
       "       [ 0],\n",
       "       [ 1],\n",
       "       [ 0],\n",
       "       [-1]])"
      ]
     },
     "execution_count": 39,
     "metadata": {},
     "output_type": "execute_result"
    }
   ],
   "source": [
    "K3 = np.column_stack(np.array([[0,0,0,0,1,0,-1]]))\n",
    "K3"
   ]
  },
  {
   "cell_type": "code",
   "execution_count": 40,
   "id": "bc3074d6",
   "metadata": {},
   "outputs": [
    {
     "data": {
      "text/html": [
       "<div>\n",
       "<style scoped>\n",
       "    .dataframe tbody tr th:only-of-type {\n",
       "        vertical-align: middle;\n",
       "    }\n",
       "\n",
       "    .dataframe tbody tr th {\n",
       "        vertical-align: top;\n",
       "    }\n",
       "\n",
       "    .dataframe thead th {\n",
       "        text-align: right;\n",
       "    }\n",
       "</style>\n",
       "<table border=\"1\" class=\"dataframe\">\n",
       "  <thead>\n",
       "    <tr style=\"text-align: right;\">\n",
       "      <th></th>\n",
       "      <th>F</th>\n",
       "      <th>p-value</th>\n",
       "    </tr>\n",
       "  </thead>\n",
       "  <tbody>\n",
       "    <tr>\n",
       "      <th>0</th>\n",
       "      <td>0.195524</td>\n",
       "      <td>0.658856</td>\n",
       "    </tr>\n",
       "  </tbody>\n",
       "</table>\n",
       "</div>"
      ],
      "text/plain": [
       "          F   p-value\n",
       "0  0.195524  0.658856"
      ]
     },
     "execution_count": 40,
     "metadata": {},
     "output_type": "execute_result"
    }
   ],
   "source": [
    "F_test(K3, X, betahat, sigmahat**2)"
   ]
  },
  {
   "cell_type": "markdown",
   "id": "c905eb7d",
   "metadata": {},
   "source": [
    "- Koska p-arvo on todella suuri, nollahypoteesia ei voida hylätä.\n",
    "- Siispä voidaan todeta, että regressiokertoimia $\\, \\beta_4 \\,$ ja $\\, \\beta_5 \\,$ vastaavien selittävien muuttujien vaikutukset vastemuuttujaan ovat samankaltaisia eikä molempien regressiokertoimien pitäminen mallissa **välttämättä** paranna mallia."
   ]
  }
 ],
 "metadata": {
  "kernelspec": {
   "display_name": "Python 3 (ipykernel)",
   "language": "python",
   "name": "python3"
  },
  "language_info": {
   "codemirror_mode": {
    "name": "ipython",
    "version": 3
   },
   "file_extension": ".py",
   "mimetype": "text/x-python",
   "name": "python",
   "nbconvert_exporter": "python",
   "pygments_lexer": "ipython3",
   "version": "3.9.12"
  }
 },
 "nbformat": 4,
 "nbformat_minor": 5
}
