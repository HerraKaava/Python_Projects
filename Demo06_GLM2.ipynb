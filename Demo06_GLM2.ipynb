{
 "cells": [
  {
   "cell_type": "markdown",
   "id": "919d7697",
   "metadata": {},
   "source": [
    "# Generalized Linear Models II, Demo 6"
   ]
  },
  {
   "cell_type": "markdown",
   "id": "d35268fd",
   "metadata": {},
   "source": [
    "**Task 2**"
   ]
  },
  {
   "cell_type": "markdown",
   "id": "d4b69cb3",
   "metadata": {},
   "source": [
    "Let's take a closer look at the main effect model of the Bacteria data. Solve the regression coefficients $\\, \\boldsymbol{\\beta} = (\\beta_0, \\, \\beta_1, \\, \\beta_2, \\beta_3)^T \\,$ using the **Fisher Scoring algorithm.** Compare the results to the $\\, \\beta \\,$ coefficients given by fitting the same model using the statsmodels library."
   ]
  },
  {
   "cell_type": "code",
   "execution_count": 1,
   "id": "e6ea26ad",
   "metadata": {},
   "outputs": [],
   "source": [
    "import numpy as np\n",
    "import pandas as pd\n",
    "import statsmodels\n",
    "import statsmodels.api as sm\n",
    "import scipy\n",
    "import matplotlib.pyplot as plt\n",
    "import seaborn as sns"
   ]
  },
  {
   "cell_type": "code",
   "execution_count": 2,
   "id": "ce324e02",
   "metadata": {},
   "outputs": [],
   "source": [
    "Bacteria = pd.read_csv(\"C:/Users/testi/Desktop/R_GLM2/Bacteria_data.csv\", index_col=0)"
   ]
  },
  {
   "cell_type": "code",
   "execution_count": 3,
   "id": "50c1f3fa",
   "metadata": {},
   "outputs": [
    {
     "data": {
      "text/html": [
       "<div>\n",
       "<style scoped>\n",
       "    .dataframe tbody tr th:only-of-type {\n",
       "        vertical-align: middle;\n",
       "    }\n",
       "\n",
       "    .dataframe tbody tr th {\n",
       "        vertical-align: top;\n",
       "    }\n",
       "\n",
       "    .dataframe thead th {\n",
       "        text-align: right;\n",
       "    }\n",
       "</style>\n",
       "<table border=\"1\" class=\"dataframe\">\n",
       "  <thead>\n",
       "    <tr style=\"text-align: right;\">\n",
       "      <th></th>\n",
       "      <th>Bcount</th>\n",
       "      <th>SOM</th>\n",
       "      <th>pH</th>\n",
       "      <th>Phosp</th>\n",
       "    </tr>\n",
       "  </thead>\n",
       "  <tbody>\n",
       "    <tr>\n",
       "      <th>AB2</th>\n",
       "      <td>28</td>\n",
       "      <td>-0.670750</td>\n",
       "      <td>0.198666</td>\n",
       "      <td>1.913011</td>\n",
       "    </tr>\n",
       "    <tr>\n",
       "      <th>AB3</th>\n",
       "      <td>56</td>\n",
       "      <td>-0.670750</td>\n",
       "      <td>0.174232</td>\n",
       "      <td>1.329170</td>\n",
       "    </tr>\n",
       "    <tr>\n",
       "      <th>AB4</th>\n",
       "      <td>15</td>\n",
       "      <td>-1.158568</td>\n",
       "      <td>1.412185</td>\n",
       "      <td>-0.583841</td>\n",
       "    </tr>\n",
       "    <tr>\n",
       "      <th>AB5</th>\n",
       "      <td>76</td>\n",
       "      <td>-1.158568</td>\n",
       "      <td>0.719909</td>\n",
       "      <td>0.074533</td>\n",
       "    </tr>\n",
       "    <tr>\n",
       "      <th>AT2</th>\n",
       "      <td>29</td>\n",
       "      <td>-0.670750</td>\n",
       "      <td>-0.232989</td>\n",
       "      <td>1.676990</td>\n",
       "    </tr>\n",
       "  </tbody>\n",
       "</table>\n",
       "</div>"
      ],
      "text/plain": [
       "     Bcount       SOM        pH     Phosp\n",
       "AB2      28 -0.670750  0.198666  1.913011\n",
       "AB3      56 -0.670750  0.174232  1.329170\n",
       "AB4      15 -1.158568  1.412185 -0.583841\n",
       "AB5      76 -1.158568  0.719909  0.074533\n",
       "AT2      29 -0.670750 -0.232989  1.676990"
      ]
     },
     "execution_count": 3,
     "metadata": {},
     "output_type": "execute_result"
    }
   ],
   "source": [
    "Bacteria.head()"
   ]
  },
  {
   "cell_type": "code",
   "execution_count": 4,
   "id": "0520c26e",
   "metadata": {},
   "outputs": [
    {
     "data": {
      "text/plain": [
       "(56, 4)"
      ]
     },
     "execution_count": 4,
     "metadata": {},
     "output_type": "execute_result"
    }
   ],
   "source": [
    "Bacteria.shape"
   ]
  },
  {
   "cell_type": "markdown",
   "id": "c1d38fbb",
   "metadata": {},
   "source": [
    "Let's first fit the Poisson regression model using the **GLM** function from the statsmodels library."
   ]
  },
  {
   "cell_type": "code",
   "execution_count": 5,
   "id": "362f6075",
   "metadata": {},
   "outputs": [
    {
     "data": {
      "text/html": [
       "<div>\n",
       "<style scoped>\n",
       "    .dataframe tbody tr th:only-of-type {\n",
       "        vertical-align: middle;\n",
       "    }\n",
       "\n",
       "    .dataframe tbody tr th {\n",
       "        vertical-align: top;\n",
       "    }\n",
       "\n",
       "    .dataframe thead th {\n",
       "        text-align: right;\n",
       "    }\n",
       "</style>\n",
       "<table border=\"1\" class=\"dataframe\">\n",
       "  <thead>\n",
       "    <tr style=\"text-align: right;\">\n",
       "      <th></th>\n",
       "      <th>Intercept</th>\n",
       "      <th>SOM</th>\n",
       "      <th>pH</th>\n",
       "      <th>Phosp</th>\n",
       "    </tr>\n",
       "  </thead>\n",
       "  <tbody>\n",
       "    <tr>\n",
       "      <th>AB2</th>\n",
       "      <td>1.0</td>\n",
       "      <td>-0.67075</td>\n",
       "      <td>0.198666</td>\n",
       "      <td>1.913011</td>\n",
       "    </tr>\n",
       "    <tr>\n",
       "      <th>AB3</th>\n",
       "      <td>1.0</td>\n",
       "      <td>-0.67075</td>\n",
       "      <td>0.174232</td>\n",
       "      <td>1.329170</td>\n",
       "    </tr>\n",
       "  </tbody>\n",
       "</table>\n",
       "</div>"
      ],
      "text/plain": [
       "     Intercept      SOM        pH     Phosp\n",
       "AB2        1.0 -0.67075  0.198666  1.913011\n",
       "AB3        1.0 -0.67075  0.174232  1.329170"
      ]
     },
     "execution_count": 5,
     "metadata": {},
     "output_type": "execute_result"
    }
   ],
   "source": [
    "# Create the design matrix\n",
    "X = Bacteria[[\"SOM\", \"pH\", \"Phosp\"]]\n",
    "X.insert(0, \"Intercept\", np.ones(len(X)))\n",
    "X.head(2)"
   ]
  },
  {
   "cell_type": "code",
   "execution_count": 6,
   "id": "26d617a1",
   "metadata": {},
   "outputs": [
    {
     "data": {
      "text/plain": [
       "AB2    28\n",
       "AB3    56\n",
       "Name: Bcount, dtype: int64"
      ]
     },
     "execution_count": 6,
     "metadata": {},
     "output_type": "execute_result"
    }
   ],
   "source": [
    "# Create the response variable\n",
    "y = Bacteria[\"Bcount\"]\n",
    "y.head(2)"
   ]
  },
  {
   "cell_type": "code",
   "execution_count": 7,
   "id": "619d3c02",
   "metadata": {},
   "outputs": [],
   "source": [
    "fit1 = sm.GLM(y, X, family=sm.families.Poisson()).fit()"
   ]
  },
  {
   "cell_type": "code",
   "execution_count": null,
   "id": "fa156f07",
   "metadata": {},
   "outputs": [],
   "source": []
  },
  {
   "cell_type": "code",
   "execution_count": null,
   "id": "ae127611",
   "metadata": {},
   "outputs": [],
   "source": []
  },
  {
   "cell_type": "code",
   "execution_count": null,
   "id": "675415da",
   "metadata": {},
   "outputs": [],
   "source": []
  },
  {
   "cell_type": "markdown",
   "id": "dd6feea4",
   "metadata": {},
   "source": [
    "**The Fisher Scoring algorithm**"
   ]
  },
  {
   "cell_type": "code",
   "execution_count": 8,
   "id": "5f6baf3a",
   "metadata": {},
   "outputs": [],
   "source": [
    "# Initialize the response variable and the design matrix\n",
    "X = X.values\n",
    "y = y.values\n",
    "\n",
    "\n",
    "# Initialize Poisson function\n",
    "def lam(eta):\n",
    "    return np.exp(eta)\n",
    "\n",
    "# Initialize beta and epsilon\n",
    "beta = np.zeros(np.shape(X)[1]).T\n",
    "eps = 0.001\n",
    "\n",
    "while eps > 1e-4:\n",
    "    # Compute the linear predictor\n",
    "    eta = X @ beta\n",
    "    \n",
    "    # Compute the predicted probabilities\n",
    "    mu = lam(eta)\n",
    "    \n",
    "    # Compute diagonal weight matrix\n",
    "    W = np.diag(mu)\n",
    "    \n",
    "    # Calculate the score function (the first derivative of the log-likelihood) \n",
    "    # and the Fisher information matrix\n",
    "    Score = X.T @ (y - mu)\n",
    "    I = X.T @ W @ X\n",
    "    \n",
    "    # Iteration step\n",
    "    beta_new = beta + np.linalg.inv(I) @ Score\n",
    "    \n",
    "    # Update eps for the while loop threshold criteria\n",
    "    eps = (beta_new - beta).T @ (beta_new - beta)\n",
    "    \n",
    "    # Update beta\n",
    "    beta = beta_new"
   ]
  },
  {
   "cell_type": "markdown",
   "id": "be4c94c0",
   "metadata": {},
   "source": [
    "Let's build up a dataframe and add two column vectors to it; the estimated $\\, \\mathbf{\\beta} \\,$ coefficients that we achieved using the **Fisher Scoring algorithm**, and the corresponding standard errors for the $\\, \\mathbf{\\beta} \\,$ coefficients.\n",
    "\n",
    "Note that the **standard errors** for the **$\\, \\mathbf{\\beta} \\,$ coefficients** can be achived by taking the **square root of the diagonal elements of the inverse of the Fisher Information matrix**."
   ]
  },
  {
   "cell_type": "code",
   "execution_count": 9,
   "id": "3f9e3afc",
   "metadata": {},
   "outputs": [],
   "source": [
    "df1 = pd.DataFrame({\"Beta coeff\": beta,\n",
    "                    \"Standard error\": np.sqrt(np.diag(np.linalg.inv(I)))},\n",
    "                    index=[\"Intercept\", \"SOM\", \"pH\", \"Phoshp\"])"
   ]
  },
  {
   "cell_type": "code",
   "execution_count": 10,
   "id": "fa734b28",
   "metadata": {},
   "outputs": [
    {
     "data": {
      "text/html": [
       "<div>\n",
       "<style scoped>\n",
       "    .dataframe tbody tr th:only-of-type {\n",
       "        vertical-align: middle;\n",
       "    }\n",
       "\n",
       "    .dataframe tbody tr th {\n",
       "        vertical-align: top;\n",
       "    }\n",
       "\n",
       "    .dataframe thead th {\n",
       "        text-align: right;\n",
       "    }\n",
       "</style>\n",
       "<table border=\"1\" class=\"dataframe\">\n",
       "  <thead>\n",
       "    <tr style=\"text-align: right;\">\n",
       "      <th></th>\n",
       "      <th>Beta coeff</th>\n",
       "      <th>Standard error</th>\n",
       "    </tr>\n",
       "  </thead>\n",
       "  <tbody>\n",
       "    <tr>\n",
       "      <th>Intercept</th>\n",
       "      <td>4.410129</td>\n",
       "      <td>0.014908</td>\n",
       "    </tr>\n",
       "    <tr>\n",
       "      <th>SOM</th>\n",
       "      <td>-0.219017</td>\n",
       "      <td>0.019412</td>\n",
       "    </tr>\n",
       "    <tr>\n",
       "      <th>pH</th>\n",
       "      <td>-0.027899</td>\n",
       "      <td>0.016759</td>\n",
       "    </tr>\n",
       "    <tr>\n",
       "      <th>Phoshp</th>\n",
       "      <td>-0.029035</td>\n",
       "      <td>0.016961</td>\n",
       "    </tr>\n",
       "  </tbody>\n",
       "</table>\n",
       "</div>"
      ],
      "text/plain": [
       "           Beta coeff  Standard error\n",
       "Intercept    4.410129        0.014908\n",
       "SOM         -0.219017        0.019412\n",
       "pH          -0.027899        0.016759\n",
       "Phoshp      -0.029035        0.016961"
      ]
     },
     "execution_count": 10,
     "metadata": {},
     "output_type": "execute_result"
    }
   ],
   "source": [
    "df1"
   ]
  },
  {
   "cell_type": "markdown",
   "id": "da5a780d",
   "metadata": {},
   "source": [
    "Now, let's compare these $\\, \\mathbf{\\beta} \\,$ coefficients and standard errors derived from the Fisher Scoring algorithm to the $\\, \\mathbf{\\beta} \\,$ coefficients and standard errors acquired from fitting the Poisson regression model using the **GLM** function from the **statsmodels** library.\n",
    "\n",
    "\n",
    "A fitted GLM object from the statsmodels library has two attributes called **params** and **bse**, which return the model's $\\, \\beta \\,$ coefficients and standard errors for the $\\, \\beta \\,$ coefficients."
   ]
  },
  {
   "cell_type": "code",
   "execution_count": 11,
   "id": "1f0e7d61",
   "metadata": {},
   "outputs": [],
   "source": [
    "df2 = pd.DataFrame({\"Beta coeff\": fit1.params,\n",
    "                    \"Standard error\": fit1.bse})"
   ]
  },
  {
   "cell_type": "code",
   "execution_count": 12,
   "id": "3cea9bd8",
   "metadata": {},
   "outputs": [
    {
     "data": {
      "text/html": [
       "<div>\n",
       "<style scoped>\n",
       "    .dataframe tbody tr th:only-of-type {\n",
       "        vertical-align: middle;\n",
       "    }\n",
       "\n",
       "    .dataframe tbody tr th {\n",
       "        vertical-align: top;\n",
       "    }\n",
       "\n",
       "    .dataframe thead th {\n",
       "        text-align: right;\n",
       "    }\n",
       "</style>\n",
       "<table border=\"1\" class=\"dataframe\">\n",
       "  <thead>\n",
       "    <tr style=\"text-align: right;\">\n",
       "      <th></th>\n",
       "      <th>Beta coeff</th>\n",
       "      <th>Standard error</th>\n",
       "    </tr>\n",
       "  </thead>\n",
       "  <tbody>\n",
       "    <tr>\n",
       "      <th>Intercept</th>\n",
       "      <td>4.410129</td>\n",
       "      <td>0.014908</td>\n",
       "    </tr>\n",
       "    <tr>\n",
       "      <th>SOM</th>\n",
       "      <td>-0.219017</td>\n",
       "      <td>0.019413</td>\n",
       "    </tr>\n",
       "    <tr>\n",
       "      <th>pH</th>\n",
       "      <td>-0.027899</td>\n",
       "      <td>0.016760</td>\n",
       "    </tr>\n",
       "    <tr>\n",
       "      <th>Phosp</th>\n",
       "      <td>-0.029035</td>\n",
       "      <td>0.016961</td>\n",
       "    </tr>\n",
       "  </tbody>\n",
       "</table>\n",
       "</div>"
      ],
      "text/plain": [
       "           Beta coeff  Standard error\n",
       "Intercept    4.410129        0.014908\n",
       "SOM         -0.219017        0.019413\n",
       "pH          -0.027899        0.016760\n",
       "Phosp       -0.029035        0.016961"
      ]
     },
     "execution_count": 12,
     "metadata": {},
     "output_type": "execute_result"
    }
   ],
   "source": [
    "df2"
   ]
  },
  {
   "cell_type": "markdown",
   "id": "bea1c694",
   "metadata": {},
   "source": [
    "- The Fisher scoring algorithm and the fitted model return almost identical $\\, \\beta \\,$ coefficients and standard errors for the $\\, \\beta \\,$ coefficients."
   ]
  },
  {
   "cell_type": "code",
   "execution_count": null,
   "id": "11e52414",
   "metadata": {},
   "outputs": [],
   "source": []
  },
  {
   "cell_type": "code",
   "execution_count": null,
   "id": "44c084cc",
   "metadata": {},
   "outputs": [],
   "source": []
  },
  {
   "cell_type": "code",
   "execution_count": null,
   "id": "7ce66440",
   "metadata": {},
   "outputs": [],
   "source": []
  },
  {
   "cell_type": "code",
   "execution_count": null,
   "id": "824c8b19",
   "metadata": {},
   "outputs": [],
   "source": []
  },
  {
   "cell_type": "code",
   "execution_count": null,
   "id": "405e224f",
   "metadata": {},
   "outputs": [],
   "source": []
  },
  {
   "cell_type": "markdown",
   "id": "54700262",
   "metadata": {},
   "source": [
    "**Task 3**"
   ]
  },
  {
   "cell_type": "markdown",
   "id": "ac04f03d",
   "metadata": {},
   "source": [
    "Let's study the relationship between environmental factors and the abundance of a specific butterfly species.\n",
    "\n",
    "Using a Poisson regression model, determine how the number of butterflies changes each year, how environmental factors affect the number of butterflies, and whether the change in butterfly numbers differs across different environments.\n",
    "\n",
    "Ensure proper model selection by excluding any explanatory variables that do not improve the model's performance. Display the results graphically."
   ]
  },
  {
   "cell_type": "code",
   "execution_count": 13,
   "id": "e238c416",
   "metadata": {},
   "outputs": [],
   "source": [
    "data = pd.read_csv(\"C:/Users/testi/Desktop/R_GLM2/Butterfly_data.csv\", index_col=0)"
   ]
  },
  {
   "cell_type": "code",
   "execution_count": 14,
   "id": "bd419ecb",
   "metadata": {},
   "outputs": [
    {
     "data": {
      "text/html": [
       "<div>\n",
       "<style scoped>\n",
       "    .dataframe tbody tr th:only-of-type {\n",
       "        vertical-align: middle;\n",
       "    }\n",
       "\n",
       "    .dataframe tbody tr th {\n",
       "        vertical-align: top;\n",
       "    }\n",
       "\n",
       "    .dataframe thead th {\n",
       "        text-align: right;\n",
       "    }\n",
       "</style>\n",
       "<table border=\"1\" class=\"dataframe\">\n",
       "  <thead>\n",
       "    <tr style=\"text-align: right;\">\n",
       "      <th></th>\n",
       "      <th>site</th>\n",
       "      <th>time</th>\n",
       "      <th>habitat</th>\n",
       "      <th>building</th>\n",
       "      <th>Colias</th>\n",
       "    </tr>\n",
       "  </thead>\n",
       "  <tbody>\n",
       "    <tr>\n",
       "      <th>1</th>\n",
       "      <td>1</td>\n",
       "      <td>1</td>\n",
       "      <td>Mixed</td>\n",
       "      <td>2.12</td>\n",
       "      <td>2</td>\n",
       "    </tr>\n",
       "    <tr>\n",
       "      <th>2</th>\n",
       "      <td>1</td>\n",
       "      <td>2</td>\n",
       "      <td>Mixed</td>\n",
       "      <td>2.12</td>\n",
       "      <td>0</td>\n",
       "    </tr>\n",
       "    <tr>\n",
       "      <th>3</th>\n",
       "      <td>1</td>\n",
       "      <td>3</td>\n",
       "      <td>Mixed</td>\n",
       "      <td>2.12</td>\n",
       "      <td>1</td>\n",
       "    </tr>\n",
       "  </tbody>\n",
       "</table>\n",
       "</div>"
      ],
      "text/plain": [
       "   site  time habitat  building  Colias\n",
       "1     1     1   Mixed      2.12       2\n",
       "2     1     2   Mixed      2.12       0\n",
       "3     1     3   Mixed      2.12       1"
      ]
     },
     "execution_count": 14,
     "metadata": {},
     "output_type": "execute_result"
    }
   ],
   "source": [
    "data.head(3)"
   ]
  },
  {
   "cell_type": "markdown",
   "id": "69357199",
   "metadata": {},
   "source": [
    "- site**:** observation location\n",
    "- time**:** year\n",
    "- habitat**:** grassland type (hayfield, mixed, short, tall)\n",
    "- building**:** the percentage of buildings in the environment\n",
    "- Colias**:** the number of the butterflies in the area **(response variable)**"
   ]
  },
  {
   "cell_type": "code",
   "execution_count": 15,
   "id": "530c245a",
   "metadata": {},
   "outputs": [
    {
     "data": {
      "text/plain": [
       "site          int64\n",
       "time          int64\n",
       "habitat      object\n",
       "building    float64\n",
       "Colias        int64\n",
       "dtype: object"
      ]
     },
     "execution_count": 15,
     "metadata": {},
     "output_type": "execute_result"
    }
   ],
   "source": [
    "data.dtypes"
   ]
  },
  {
   "cell_type": "code",
   "execution_count": 16,
   "id": "e248c21e",
   "metadata": {},
   "outputs": [
    {
     "data": {
      "text/plain": [
       "(330, 5)"
      ]
     },
     "execution_count": 16,
     "metadata": {},
     "output_type": "execute_result"
    }
   ],
   "source": [
    "data.shape"
   ]
  },
  {
   "cell_type": "markdown",
   "id": "2d2c013b",
   "metadata": {},
   "source": [
    "To see if two or more explanatory variables are highly correlated (i.e. the correlation is close to 1 or -1), one can create a correlation matrix that shows the correlation coefficients between each pair of explanatory variables. If there are high correlations between the explanatory variables, it may be appropriate to exclude one of them from the model.\n",
    "\n",
    "- Pandas DataFrames have a **corr()** method, which creates the correlation matrix between all of the possible variable pairings in the dataframe."
   ]
  },
  {
   "cell_type": "code",
   "execution_count": 17,
   "id": "16ad6621",
   "metadata": {},
   "outputs": [
    {
     "data": {
      "text/html": [
       "<div>\n",
       "<style scoped>\n",
       "    .dataframe tbody tr th:only-of-type {\n",
       "        vertical-align: middle;\n",
       "    }\n",
       "\n",
       "    .dataframe tbody tr th {\n",
       "        vertical-align: top;\n",
       "    }\n",
       "\n",
       "    .dataframe thead th {\n",
       "        text-align: right;\n",
       "    }\n",
       "</style>\n",
       "<table border=\"1\" class=\"dataframe\">\n",
       "  <thead>\n",
       "    <tr style=\"text-align: right;\">\n",
       "      <th></th>\n",
       "      <th>site</th>\n",
       "      <th>time</th>\n",
       "      <th>building</th>\n",
       "      <th>Colias</th>\n",
       "    </tr>\n",
       "  </thead>\n",
       "  <tbody>\n",
       "    <tr>\n",
       "      <th>site</th>\n",
       "      <td>1.000</td>\n",
       "      <td>-0.00</td>\n",
       "      <td>-0.149</td>\n",
       "      <td>-0.053</td>\n",
       "    </tr>\n",
       "    <tr>\n",
       "      <th>time</th>\n",
       "      <td>-0.000</td>\n",
       "      <td>1.00</td>\n",
       "      <td>0.000</td>\n",
       "      <td>0.190</td>\n",
       "    </tr>\n",
       "    <tr>\n",
       "      <th>building</th>\n",
       "      <td>-0.149</td>\n",
       "      <td>0.00</td>\n",
       "      <td>1.000</td>\n",
       "      <td>-0.139</td>\n",
       "    </tr>\n",
       "    <tr>\n",
       "      <th>Colias</th>\n",
       "      <td>-0.053</td>\n",
       "      <td>0.19</td>\n",
       "      <td>-0.139</td>\n",
       "      <td>1.000</td>\n",
       "    </tr>\n",
       "  </tbody>\n",
       "</table>\n",
       "</div>"
      ],
      "text/plain": [
       "           site  time  building  Colias\n",
       "site      1.000 -0.00    -0.149  -0.053\n",
       "time     -0.000  1.00     0.000   0.190\n",
       "building -0.149  0.00     1.000  -0.139\n",
       "Colias   -0.053  0.19    -0.139   1.000"
      ]
     },
     "execution_count": 17,
     "metadata": {},
     "output_type": "execute_result"
    }
   ],
   "source": [
    "np.round(data.corr(), 3)"
   ]
  },
  {
   "cell_type": "markdown",
   "id": "20bc9b8d",
   "metadata": {},
   "source": [
    "- None of the explanatory variables seem to be highly correlated with each other.\n",
    "- Since there are no high correlations between the explanatory variables, there are no need to exclude any of them from the model."
   ]
  },
  {
   "cell_type": "code",
   "execution_count": null,
   "id": "89c6c589",
   "metadata": {},
   "outputs": [],
   "source": []
  },
  {
   "cell_type": "code",
   "execution_count": null,
   "id": "52fd8b30",
   "metadata": {},
   "outputs": [],
   "source": []
  },
  {
   "cell_type": "code",
   "execution_count": null,
   "id": "f0806542",
   "metadata": {},
   "outputs": [],
   "source": []
  },
  {
   "cell_type": "markdown",
   "id": "c3b15833",
   "metadata": {},
   "source": [
    "One can compare two nested model's for example via deviance test or by comparing the AIC (Akaike Information Criterion) / BIC (Bayesian Information Criterion) values.\n",
    "\n",
    "Let **M1** and **M2** be nested models. Then, null hypothesis and alternative hypothesis for the **deviance test** are"
   ]
  },
  {
   "cell_type": "markdown",
   "id": "8df49bd5",
   "metadata": {},
   "source": [
    "<center>$H_0 :$ \"model $\\boldsymbol{M1}$ is the best model\"<center>\n",
    "\n",
    "    \n",
    "<center>$H_1 :$ \"model $\\boldsymbol{M2}$ is the best model\",<center>"
   ]
  },
  {
   "cell_type": "markdown",
   "id": "902b8aee",
   "metadata": {},
   "source": [
    "where **M2** has the same explanatory variables as **M1**, but in addition to that, more terms (e.g. interaction terms or more explanatory variables) has been added to it.\n",
    "\n",
    "The Deviance test statistic is given by"
   ]
  },
  {
   "cell_type": "markdown",
   "id": "680cd005",
   "metadata": {},
   "source": [
    "$$ D_{test} = D_1 - D_2 \\sim \\chi^2_{\\Delta \\, in \\, \\# \\, \\beta's} $$\n",
    "\n",
    "\n",
    "where $\\, D_1 \\,$ and $\\, D_2 \\,$ are the Deviance residuals for the models $\\, \\boldsymbol{M1} \\,$ and $\\, \\boldsymbol{M2}. \\,$\n",
    "\n",
    "The **deviance residual** for a logistic regression model can be calculated as follows"
   ]
  },
  {
   "cell_type": "markdown",
   "id": "1ab4d058",
   "metadata": {},
   "source": [
    "\\begin{align}\n",
    "Deviance_{residual} &= 2(LL(Saturated \\, model) - LL(Proposed \\, model)) \\\\\n",
    "&= 2(-LL(Proposed \\, model))\n",
    "\\end{align}"
   ]
  },
  {
   "cell_type": "markdown",
   "id": "9f536a98",
   "metadata": {},
   "source": [
    "<center>, $where \\: \\, LL = Log-Likelihood$.</center>"
   ]
  },
  {
   "cell_type": "markdown",
   "id": "23f11396",
   "metadata": {},
   "source": [
    "In the statsmodels library, a fitted Poisson regression model has an attribute called $\\, \\boldsymbol{llf}, \\,$ which returns the **log-likelihood** value of the model."
   ]
  },
  {
   "cell_type": "code",
   "execution_count": 18,
   "id": "187e5ade",
   "metadata": {},
   "outputs": [],
   "source": [
    "model1 = sm.formula.glm(\"Colias ~ time + habitat\", \n",
    "                        family=sm.families.Poisson(), \n",
    "                        data=data).fit()"
   ]
  },
  {
   "cell_type": "code",
   "execution_count": 19,
   "id": "093bb6ec",
   "metadata": {},
   "outputs": [],
   "source": [
    "model2 = sm.formula.glm(\"Colias ~ time + habitat + building\", \n",
    "                        family=sm.families.Poisson(), \n",
    "                        data=data).fit()"
   ]
  },
  {
   "cell_type": "code",
   "execution_count": 20,
   "id": "3dc3397d",
   "metadata": {},
   "outputs": [],
   "source": [
    "def model_statistics(M1, M2):\n",
    "    \"\"\"Returns the deviance test statistic, \n",
    "       p value for the statistic, AIC, and BIC for both models.\"\"\"\n",
    "    \n",
    "    dev_M1 = 2*(-M1.llf)\n",
    "    dev_M2 = 2*(-M2.llf)\n",
    "    D_test = dev_M1 - dev_M2\n",
    "    df = abs(len(M1.params) - len(M2.params))\n",
    "    p_val = 1 - scipy.stats.chi2.cdf(D_test, df)\n",
    "    stat_frame = pd.DataFrame({\"Test statistic\": [D_test],\n",
    "                               \"p-value\": [p_val],\n",
    "                               \"M1 AIC\": [M1.aic],\n",
    "                               \"M1 BIC\": [M1.bic],\n",
    "                               \"M2 AIC\": [M2.aic],\n",
    "                               \"M2 BIC\": [M2.bic]})\n",
    "    return stat_frame"
   ]
  },
  {
   "cell_type": "markdown",
   "id": "b1ac387f",
   "metadata": {},
   "source": [
    "- The degrees of freedom for the $\\, \\chi^2 \\,$ distribution is the difference in the number of the $\\, \\beta \\,$ coefficients between the models.\n",
    "\n",
    "\n",
    "- The AIC penalizes models that are too complex by adding a penalty term to the log-likelihood. The lower the AIC value, the better the model is at balancing goodness of fit and model complexity. In general, if two models explain the same amount of variation, the one with fewer parameters will have a lower AIC score. Therefore, when comparing different regression models, the one with the lower AIC is considered to be a better fit for the data.\n",
    "\n",
    "\n",
    "- The BIC favors simpler models than the AIC by penalizing models with more parameters more heavily than the AIC. A lower BIC value indicates a better fit to the data.\n",
    "\n",
    "\n",
    "- Model selection: The BIC and AIC may lead to different model selections in certain situations. In general, the BIC tends to favor simpler models than the AIC, while the AIC tends to favor more complex models if they provide a better fit to the data.\n",
    "\n",
    "\n",
    "- As for the p-value regarding the deviance test, if one gets a p-value smaller than any commonly used threshold (e.g. p < 0.05), then one can reject the null hypothesis and conclude that deviance the test supports the alternative hypothesis (the model with more parameters is the better model)."
   ]
  },
  {
   "cell_type": "code",
   "execution_count": 21,
   "id": "bfbe0d50",
   "metadata": {},
   "outputs": [
    {
     "data": {
      "text/html": [
       "<div>\n",
       "<style scoped>\n",
       "    .dataframe tbody tr th:only-of-type {\n",
       "        vertical-align: middle;\n",
       "    }\n",
       "\n",
       "    .dataframe tbody tr th {\n",
       "        vertical-align: top;\n",
       "    }\n",
       "\n",
       "    .dataframe thead th {\n",
       "        text-align: right;\n",
       "    }\n",
       "</style>\n",
       "<table border=\"1\" class=\"dataframe\">\n",
       "  <thead>\n",
       "    <tr style=\"text-align: right;\">\n",
       "      <th></th>\n",
       "      <th>Test statistic</th>\n",
       "      <th>p-value</th>\n",
       "      <th>M1 AIC</th>\n",
       "      <th>M1 BIC</th>\n",
       "      <th>M2 AIC</th>\n",
       "      <th>M2 BIC</th>\n",
       "    </tr>\n",
       "  </thead>\n",
       "  <tbody>\n",
       "    <tr>\n",
       "      <th>0</th>\n",
       "      <td>16.953433</td>\n",
       "      <td>0.000038</td>\n",
       "      <td>1916.077564</td>\n",
       "      <td>1935.073027</td>\n",
       "      <td>1901.124131</td>\n",
       "      <td>1923.918686</td>\n",
       "    </tr>\n",
       "  </tbody>\n",
       "</table>\n",
       "</div>"
      ],
      "text/plain": [
       "   Test statistic   p-value       M1 AIC       M1 BIC       M2 AIC  \\\n",
       "0       16.953433  0.000038  1916.077564  1935.073027  1901.124131   \n",
       "\n",
       "        M2 BIC  \n",
       "0  1923.918686  "
      ]
     },
     "execution_count": 21,
     "metadata": {},
     "output_type": "execute_result"
    }
   ],
   "source": [
    "statsmodels.genmod.generalized_linear_model.SET_USE_BIC_LLF(True)\n",
    "model_statistics(model1, model2)"
   ]
  },
  {
   "cell_type": "markdown",
   "id": "59c6e476",
   "metadata": {},
   "source": [
    "- Now, since the p-value is ~ 0.000038, the null hypothesis can be safely rejected. Therefore it can be concluded that **Model2** is the better model.\n",
    "\n",
    "\n",
    "- The AIC and BIC values both support this conclusion, since they are both smaller for Model2."
   ]
  },
  {
   "cell_type": "markdown",
   "id": "43c5b548",
   "metadata": {},
   "source": [
    "- It is worth noting that the exact situation as described above (the BIC and AIC may lead  to different model selections in certains situations) has happened here. If one were to choose the model based on AIC and BIC values alone, they would need to have a deep understanding of the data and the goal of the regression analysis, since the AIC indicates that Model1 is the better model, and the BIC indicates that Model2 is the better model."
   ]
  },
  {
   "cell_type": "code",
   "execution_count": null,
   "id": "e68ea9a2",
   "metadata": {},
   "outputs": [],
   "source": []
  },
  {
   "cell_type": "code",
   "execution_count": null,
   "id": "0b31678b",
   "metadata": {},
   "outputs": [],
   "source": []
  },
  {
   "cell_type": "code",
   "execution_count": 22,
   "id": "2de32e13",
   "metadata": {},
   "outputs": [],
   "source": [
    "model3 = sm.formula.glm(\"Colias ~ habitat + building\", \n",
    "                        family=sm.families.Poisson(), \n",
    "                        data=data).fit()"
   ]
  },
  {
   "cell_type": "code",
   "execution_count": 23,
   "id": "33724c02",
   "metadata": {},
   "outputs": [
    {
     "data": {
      "text/html": [
       "<div>\n",
       "<style scoped>\n",
       "    .dataframe tbody tr th:only-of-type {\n",
       "        vertical-align: middle;\n",
       "    }\n",
       "\n",
       "    .dataframe tbody tr th {\n",
       "        vertical-align: top;\n",
       "    }\n",
       "\n",
       "    .dataframe thead th {\n",
       "        text-align: right;\n",
       "    }\n",
       "</style>\n",
       "<table border=\"1\" class=\"dataframe\">\n",
       "  <thead>\n",
       "    <tr style=\"text-align: right;\">\n",
       "      <th></th>\n",
       "      <th>Test statistic</th>\n",
       "      <th>p-value</th>\n",
       "      <th>M1 AIC</th>\n",
       "      <th>M1 BIC</th>\n",
       "      <th>M2 AIC</th>\n",
       "      <th>M2 BIC</th>\n",
       "    </tr>\n",
       "  </thead>\n",
       "  <tbody>\n",
       "    <tr>\n",
       "      <th>0</th>\n",
       "      <td>143.014012</td>\n",
       "      <td>0.0</td>\n",
       "      <td>2042.138142</td>\n",
       "      <td>2061.133605</td>\n",
       "      <td>1901.124131</td>\n",
       "      <td>1923.918686</td>\n",
       "    </tr>\n",
       "  </tbody>\n",
       "</table>\n",
       "</div>"
      ],
      "text/plain": [
       "   Test statistic  p-value       M1 AIC       M1 BIC       M2 AIC       M2 BIC\n",
       "0      143.014012      0.0  2042.138142  2061.133605  1901.124131  1923.918686"
      ]
     },
     "execution_count": 23,
     "metadata": {},
     "output_type": "execute_result"
    }
   ],
   "source": [
    "model_statistics(model3, model2)"
   ]
  },
  {
   "cell_type": "markdown",
   "id": "efce9ca1",
   "metadata": {},
   "source": [
    "- Again, model2 is the better model."
   ]
  },
  {
   "cell_type": "code",
   "execution_count": null,
   "id": "abe745e3",
   "metadata": {},
   "outputs": [],
   "source": []
  },
  {
   "cell_type": "code",
   "execution_count": null,
   "id": "4fbaa947",
   "metadata": {},
   "outputs": [],
   "source": []
  },
  {
   "cell_type": "code",
   "execution_count": 24,
   "id": "0c1d5c6e",
   "metadata": {},
   "outputs": [],
   "source": [
    "model4 = sm.formula.glm(\"Colias ~ time + building\", \n",
    "                        family=sm.families.Poisson(), \n",
    "                        data=data).fit()"
   ]
  },
  {
   "cell_type": "code",
   "execution_count": 25,
   "id": "108f21d1",
   "metadata": {},
   "outputs": [
    {
     "data": {
      "text/html": [
       "<div>\n",
       "<style scoped>\n",
       "    .dataframe tbody tr th:only-of-type {\n",
       "        vertical-align: middle;\n",
       "    }\n",
       "\n",
       "    .dataframe tbody tr th {\n",
       "        vertical-align: top;\n",
       "    }\n",
       "\n",
       "    .dataframe thead th {\n",
       "        text-align: right;\n",
       "    }\n",
       "</style>\n",
       "<table border=\"1\" class=\"dataframe\">\n",
       "  <thead>\n",
       "    <tr style=\"text-align: right;\">\n",
       "      <th></th>\n",
       "      <th>Test statistic</th>\n",
       "      <th>p-value</th>\n",
       "      <th>M1 AIC</th>\n",
       "      <th>M1 BIC</th>\n",
       "      <th>M2 AIC</th>\n",
       "      <th>M2 BIC</th>\n",
       "    </tr>\n",
       "  </thead>\n",
       "  <tbody>\n",
       "    <tr>\n",
       "      <th>0</th>\n",
       "      <td>916.239449</td>\n",
       "      <td>0.0</td>\n",
       "      <td>2811.363579</td>\n",
       "      <td>2822.760857</td>\n",
       "      <td>1901.124131</td>\n",
       "      <td>1923.918686</td>\n",
       "    </tr>\n",
       "  </tbody>\n",
       "</table>\n",
       "</div>"
      ],
      "text/plain": [
       "   Test statistic  p-value       M1 AIC       M1 BIC       M2 AIC       M2 BIC\n",
       "0      916.239449      0.0  2811.363579  2822.760857  1901.124131  1923.918686"
      ]
     },
     "execution_count": 25,
     "metadata": {},
     "output_type": "execute_result"
    }
   ],
   "source": [
    "model_statistics(model4, model2)"
   ]
  },
  {
   "cell_type": "markdown",
   "id": "1c197748",
   "metadata": {},
   "source": [
    "- model2 is the better model."
   ]
  },
  {
   "cell_type": "code",
   "execution_count": null,
   "id": "2d6538e0",
   "metadata": {},
   "outputs": [],
   "source": []
  },
  {
   "cell_type": "code",
   "execution_count": null,
   "id": "1d1e9422",
   "metadata": {},
   "outputs": [],
   "source": []
  },
  {
   "cell_type": "markdown",
   "id": "ba5b3b6f",
   "metadata": {},
   "source": [
    "Now, let's add some interaction terms."
   ]
  },
  {
   "cell_type": "code",
   "execution_count": 26,
   "id": "c66a1455",
   "metadata": {},
   "outputs": [],
   "source": [
    "model5 = sm.formula.glm(\"Colias ~ time + habitat + building + time*habitat\", \n",
    "                        family=sm.families.Poisson(), \n",
    "                        data=data).fit()"
   ]
  },
  {
   "cell_type": "code",
   "execution_count": 27,
   "id": "c6034426",
   "metadata": {},
   "outputs": [
    {
     "data": {
      "text/html": [
       "<div>\n",
       "<style scoped>\n",
       "    .dataframe tbody tr th:only-of-type {\n",
       "        vertical-align: middle;\n",
       "    }\n",
       "\n",
       "    .dataframe tbody tr th {\n",
       "        vertical-align: top;\n",
       "    }\n",
       "\n",
       "    .dataframe thead th {\n",
       "        text-align: right;\n",
       "    }\n",
       "</style>\n",
       "<table border=\"1\" class=\"dataframe\">\n",
       "  <thead>\n",
       "    <tr style=\"text-align: right;\">\n",
       "      <th></th>\n",
       "      <th>Test statistic</th>\n",
       "      <th>p-value</th>\n",
       "      <th>M1 AIC</th>\n",
       "      <th>M1 BIC</th>\n",
       "      <th>M2 AIC</th>\n",
       "      <th>M2 BIC</th>\n",
       "    </tr>\n",
       "  </thead>\n",
       "  <tbody>\n",
       "    <tr>\n",
       "      <th>0</th>\n",
       "      <td>50.656882</td>\n",
       "      <td>5.788814e-11</td>\n",
       "      <td>1901.124131</td>\n",
       "      <td>1923.918686</td>\n",
       "      <td>1856.467248</td>\n",
       "      <td>1890.659082</td>\n",
       "    </tr>\n",
       "  </tbody>\n",
       "</table>\n",
       "</div>"
      ],
      "text/plain": [
       "   Test statistic       p-value       M1 AIC       M1 BIC       M2 AIC  \\\n",
       "0       50.656882  5.788814e-11  1901.124131  1923.918686  1856.467248   \n",
       "\n",
       "        M2 BIC  \n",
       "0  1890.659082  "
      ]
     },
     "execution_count": 27,
     "metadata": {},
     "output_type": "execute_result"
    }
   ],
   "source": [
    "model_statistics(model2, model5)"
   ]
  },
  {
   "cell_type": "markdown",
   "id": "20cdbb49",
   "metadata": {},
   "source": [
    "- model5 with the interaction term is the better model."
   ]
  },
  {
   "cell_type": "code",
   "execution_count": null,
   "id": "e4943260",
   "metadata": {},
   "outputs": [],
   "source": []
  },
  {
   "cell_type": "code",
   "execution_count": null,
   "id": "ef2c23dd",
   "metadata": {},
   "outputs": [],
   "source": []
  },
  {
   "cell_type": "code",
   "execution_count": 28,
   "id": "cd1feca8",
   "metadata": {},
   "outputs": [],
   "source": [
    "model6 = sm.formula.glm(\"Colias ~ time + habitat + building + time*building\", \n",
    "                        family=sm.families.Poisson(), \n",
    "                        data=data).fit()"
   ]
  },
  {
   "cell_type": "code",
   "execution_count": 29,
   "id": "8bbbbd65",
   "metadata": {},
   "outputs": [
    {
     "data": {
      "text/html": [
       "<div>\n",
       "<style scoped>\n",
       "    .dataframe tbody tr th:only-of-type {\n",
       "        vertical-align: middle;\n",
       "    }\n",
       "\n",
       "    .dataframe tbody tr th {\n",
       "        vertical-align: top;\n",
       "    }\n",
       "\n",
       "    .dataframe thead th {\n",
       "        text-align: right;\n",
       "    }\n",
       "</style>\n",
       "<table border=\"1\" class=\"dataframe\">\n",
       "  <thead>\n",
       "    <tr style=\"text-align: right;\">\n",
       "      <th></th>\n",
       "      <th>Test statistic</th>\n",
       "      <th>p-value</th>\n",
       "      <th>M1 AIC</th>\n",
       "      <th>M1 BIC</th>\n",
       "      <th>M2 AIC</th>\n",
       "      <th>M2 BIC</th>\n",
       "    </tr>\n",
       "  </thead>\n",
       "  <tbody>\n",
       "    <tr>\n",
       "      <th>0</th>\n",
       "      <td>45.121876</td>\n",
       "      <td>1.591876e-10</td>\n",
       "      <td>1897.589124</td>\n",
       "      <td>1924.182772</td>\n",
       "      <td>1856.467248</td>\n",
       "      <td>1890.659082</td>\n",
       "    </tr>\n",
       "  </tbody>\n",
       "</table>\n",
       "</div>"
      ],
      "text/plain": [
       "   Test statistic       p-value       M1 AIC       M1 BIC       M2 AIC  \\\n",
       "0       45.121876  1.591876e-10  1897.589124  1924.182772  1856.467248   \n",
       "\n",
       "        M2 BIC  \n",
       "0  1890.659082  "
      ]
     },
     "execution_count": 29,
     "metadata": {},
     "output_type": "execute_result"
    }
   ],
   "source": [
    "model_statistics(model6,  model5)"
   ]
  },
  {
   "cell_type": "markdown",
   "id": "fad25f1f",
   "metadata": {},
   "source": [
    "- model5 is the better model. Let's choose model5 as the final model."
   ]
  },
  {
   "cell_type": "code",
   "execution_count": 30,
   "id": "33fba6b0",
   "metadata": {},
   "outputs": [
    {
     "data": {
      "text/plain": [
       "Intercept                1.246026\n",
       "habitat[T.Mixed]        -0.612555\n",
       "habitat[T.Short]        -1.019969\n",
       "habitat[T.Tall]         -0.601128\n",
       "time                     0.377303\n",
       "time:habitat[T.Mixed]   -0.259374\n",
       "time:habitat[T.Short]   -0.549106\n",
       "time:habitat[T.Tall]    -0.226533\n",
       "building                -0.048614\n",
       "dtype: float64"
      ]
     },
     "execution_count": 30,
     "metadata": {},
     "output_type": "execute_result"
    }
   ],
   "source": [
    "model5.params"
   ]
  },
  {
   "cell_type": "code",
   "execution_count": 31,
   "id": "a3dd8e8f",
   "metadata": {},
   "outputs": [
    {
     "data": {
      "text/html": [
       "<div>\n",
       "<style scoped>\n",
       "    .dataframe tbody tr th:only-of-type {\n",
       "        vertical-align: middle;\n",
       "    }\n",
       "\n",
       "    .dataframe tbody tr th {\n",
       "        vertical-align: top;\n",
       "    }\n",
       "\n",
       "    .dataframe thead th {\n",
       "        text-align: right;\n",
       "    }\n",
       "</style>\n",
       "<table border=\"1\" class=\"dataframe\">\n",
       "  <thead>\n",
       "    <tr style=\"text-align: right;\">\n",
       "      <th></th>\n",
       "      <th>lower</th>\n",
       "      <th>upper</th>\n",
       "    </tr>\n",
       "  </thead>\n",
       "  <tbody>\n",
       "    <tr>\n",
       "      <th>Intercept</th>\n",
       "      <td>2.755699</td>\n",
       "      <td>4.385839</td>\n",
       "    </tr>\n",
       "    <tr>\n",
       "      <th>habitat[T.Mixed]</th>\n",
       "      <td>0.356365</td>\n",
       "      <td>0.824227</td>\n",
       "    </tr>\n",
       "    <tr>\n",
       "      <th>habitat[T.Short]</th>\n",
       "      <td>0.195544</td>\n",
       "      <td>0.665001</td>\n",
       "    </tr>\n",
       "    <tr>\n",
       "      <th>habitat[T.Tall]</th>\n",
       "      <td>0.375517</td>\n",
       "      <td>0.800271</td>\n",
       "    </tr>\n",
       "    <tr>\n",
       "      <th>time</th>\n",
       "      <td>1.374837</td>\n",
       "      <td>1.546929</td>\n",
       "    </tr>\n",
       "    <tr>\n",
       "      <th>time:habitat[T.Mixed]</th>\n",
       "      <td>0.688898</td>\n",
       "      <td>0.864084</td>\n",
       "    </tr>\n",
       "    <tr>\n",
       "      <th>time:habitat[T.Short]</th>\n",
       "      <td>0.473855</td>\n",
       "      <td>0.703731</td>\n",
       "    </tr>\n",
       "    <tr>\n",
       "      <th>time:habitat[T.Tall]</th>\n",
       "      <td>0.720188</td>\n",
       "      <td>0.882654</td>\n",
       "    </tr>\n",
       "    <tr>\n",
       "      <th>building</th>\n",
       "      <td>0.929647</td>\n",
       "      <td>0.976015</td>\n",
       "    </tr>\n",
       "  </tbody>\n",
       "</table>\n",
       "</div>"
      ],
      "text/plain": [
       "                          lower     upper\n",
       "Intercept              2.755699  4.385839\n",
       "habitat[T.Mixed]       0.356365  0.824227\n",
       "habitat[T.Short]       0.195544  0.665001\n",
       "habitat[T.Tall]        0.375517  0.800271\n",
       "time                   1.374837  1.546929\n",
       "time:habitat[T.Mixed]  0.688898  0.864084\n",
       "time:habitat[T.Short]  0.473855  0.703731\n",
       "time:habitat[T.Tall]   0.720188  0.882654\n",
       "building               0.929647  0.976015"
      ]
     },
     "execution_count": 31,
     "metadata": {},
     "output_type": "execute_result"
    }
   ],
   "source": [
    "ci = np.exp(model5.conf_int())\n",
    "ci = ci.rename(columns={0: \"lower\", 1: \"upper\"})\n",
    "ci"
   ]
  },
  {
   "cell_type": "code",
   "execution_count": null,
   "id": "5780bcd8",
   "metadata": {},
   "outputs": [],
   "source": []
  },
  {
   "cell_type": "code",
   "execution_count": null,
   "id": "5cbcd49d",
   "metadata": {},
   "outputs": [],
   "source": []
  },
  {
   "cell_type": "code",
   "execution_count": null,
   "id": "f7d9cc51",
   "metadata": {},
   "outputs": [],
   "source": []
  },
  {
   "cell_type": "markdown",
   "id": "faf505d6",
   "metadata": {},
   "source": [
    "Does the number of observed colias change annually?"
   ]
  },
  {
   "cell_type": "code",
   "execution_count": 32,
   "id": "0907cb7c",
   "metadata": {},
   "outputs": [
    {
     "data": {
      "image/png": "[encoded data removed]",
      "text/plain": [
       "<Figure size 1000x400 with 1 Axes>"
      ]
     },
     "metadata": {
      "needs_background": "light"
     },
     "output_type": "display_data"
    }
   ],
   "source": [
    "plt.figure(figsize=(10, 4), dpi=100)\n",
    "sns.set_style(\"darkgrid\")\n",
    "sns.stripplot(x=\"time\", y=\"Colias\", alpha=0.5, data=data)\n",
    "plt.xlabel(\"Year\", size=12)\n",
    "plt.ylabel(\"Colias\", rotation=0, labelpad=30, size=12)\n",
    "plt.title(\"The number of observed colias vs. year\", size=15)\n",
    "\n",
    "# Add the pearson correlation coefficient between time and Colias to the plot.\n",
    "r = np.round(scipy.stats.pearsonr(data[\"time\"], data[\"Colias\"])[0], 3)\n",
    "\n",
    "plt.annotate(f\"Pearson r = {r}\", xy=(0, 45), size=12);"
   ]
  },
  {
   "cell_type": "markdown",
   "id": "8b40dac5",
   "metadata": {},
   "source": [
    "- There seems to be a some kind of connection between the number of observed colias and the year."
   ]
  },
  {
   "cell_type": "markdown",
   "id": "06c59305",
   "metadata": {},
   "source": [
    "- A strip plot is a type of plot that displays the distribution of a continuous variable in a dataset.\n",
    "- It is a simple scatterplot with one categorical variable and one continuous variable. \n",
    "- The categorical variable is used to group the data points, with each group represented by a distinct set of points along the x-axis. This allows us to see how the distribution of the continuous variable differs across the different groups.\n",
    "- Unlike swarmplot, strip plot allows overlapping of the data points, so when using strip plot, it's always a good idea to adjust the transparency of the data points."
   ]
  },
  {
   "cell_type": "code",
   "execution_count": null,
   "id": "96c0967a",
   "metadata": {},
   "outputs": [],
   "source": []
  },
  {
   "cell_type": "code",
   "execution_count": null,
   "id": "4b99fbc8",
   "metadata": {},
   "outputs": [],
   "source": []
  },
  {
   "cell_type": "code",
   "execution_count": null,
   "id": "64930aa9",
   "metadata": {},
   "outputs": [],
   "source": []
  },
  {
   "cell_type": "markdown",
   "id": "adab82da",
   "metadata": {},
   "source": [
    "Does environmental factors affect the number of observed colias?"
   ]
  },
  {
   "cell_type": "code",
   "execution_count": 33,
   "id": "cccd6d8e",
   "metadata": {},
   "outputs": [
    {
     "data": {
      "image/png": "[encoded data removed]",
      "text/plain": [
       "<Figure size 1000x400 with 1 Axes>"
      ]
     },
     "metadata": {},
     "output_type": "display_data"
    }
   ],
   "source": [
    "plt.figure(figsize=(10, 4), dpi=100)\n",
    "sns.boxplot(x=\"habitat\", y=\"Colias\", data=data)\n",
    "\n",
    "plt.xlabel(\"Habitat\", size=12)\n",
    "plt.ylabel(\"Colias\", rotation=0, labelpad=25, size=12)\n",
    "plt.title(\"The number of observed colias vs. grassland type\", size=15);"
   ]
  },
  {
   "cell_type": "code",
   "execution_count": 34,
   "id": "3aab4952",
   "metadata": {},
   "outputs": [
    {
     "name": "stdout",
     "output_type": "stream",
     "text": [
      "The number of observed colias in mixed grassland type: 209\n"
     ]
    }
   ],
   "source": [
    "Colias_mixed = data[data[\"habitat\"] == \"Mixed\"][\"Colias\"].values.sum()\n",
    "print(f\"The number of observed colias in mixed grassland type: {Colias_mixed}\")"
   ]
  },
  {
   "cell_type": "code",
   "execution_count": 35,
   "id": "6686dc60",
   "metadata": {},
   "outputs": [
    {
     "name": "stdout",
     "output_type": "stream",
     "text": [
      "The number of observed colias in short grassland type: 56\n"
     ]
    }
   ],
   "source": [
    "Colias_short = data[data[\"habitat\"] == \"Short\"][\"Colias\"].values.sum()\n",
    "print(f\"The number of observed colias in short grassland type: {Colias_short}\")"
   ]
  },
  {
   "cell_type": "code",
   "execution_count": 36,
   "id": "829e3f4c",
   "metadata": {},
   "outputs": [
    {
     "name": "stdout",
     "output_type": "stream",
     "text": [
      "The number of observed colias in hayfield grassland type: 659\n"
     ]
    }
   ],
   "source": [
    "Colias_hayfield = data[data[\"habitat\"] == \"Hayfield\"][\"Colias\"].values.sum()\n",
    "print(f\"The number of observed colias in hayfield grassland type: {Colias_hayfield}\")"
   ]
  },
  {
   "cell_type": "code",
   "execution_count": 37,
   "id": "7c0a1b01",
   "metadata": {},
   "outputs": [
    {
     "name": "stdout",
     "output_type": "stream",
     "text": [
      "The number of observed colias in tall grassland type: 288\n"
     ]
    }
   ],
   "source": [
    "Colias_tall = data[data[\"habitat\"] == \"Tall\"][\"Colias\"].values.sum()\n",
    "print(f\"The number of observed colias in tall grassland type: {Colias_tall}\")"
   ]
  },
  {
   "cell_type": "code",
   "execution_count": 38,
   "id": "5704e19f",
   "metadata": {},
   "outputs": [
    {
     "data": {
      "text/plain": [
       "0.54"
      ]
     },
     "execution_count": 38,
     "metadata": {},
     "output_type": "execute_result"
    }
   ],
   "source": [
    "hayfield_percentage = Colias_hayfield / (Colias_mixed + Colias_short + Colias_hayfield + Colias_tall)\n",
    "np.round(hayfield_percentage, 2)"
   ]
  },
  {
   "cell_type": "markdown",
   "id": "71847b56",
   "metadata": {},
   "source": [
    "- As seen from the graph and from the calculations above, there seems to be a connection between the number of observed colias and the grassland type. **54 %** of the colias have been observed in hayfield."
   ]
  },
  {
   "cell_type": "code",
   "execution_count": null,
   "id": "a5b03b0e",
   "metadata": {},
   "outputs": [],
   "source": []
  },
  {
   "cell_type": "code",
   "execution_count": null,
   "id": "df4554d7",
   "metadata": {},
   "outputs": [],
   "source": []
  },
  {
   "cell_type": "code",
   "execution_count": null,
   "id": "52afd094",
   "metadata": {},
   "outputs": [],
   "source": []
  },
  {
   "cell_type": "code",
   "execution_count": 39,
   "id": "0351664f",
   "metadata": {},
   "outputs": [
    {
     "data": {
      "image/png": "[encoded data removed]",
      "text/plain": [
       "<Figure size 1000x400 with 1 Axes>"
      ]
     },
     "metadata": {},
     "output_type": "display_data"
    }
   ],
   "source": [
    "plt.figure(figsize=(10, 4), dpi=100)\n",
    "sns.scatterplot(x=\"building\", y=\"Colias\", hue=\"habitat\", data=data)\n",
    "\n",
    "plt.xlabel(\"% of buildings in the environment\", size=12)\n",
    "plt.ylabel(\"# of observed colias\", size=12)\n",
    "plt.title(\"Number of observed colias vs. % of buildings in the environment\", size=15);"
   ]
  },
  {
   "cell_type": "markdown",
   "id": "4e84a8e2",
   "metadata": {},
   "source": [
    "- It is clear that when there are less buildings in the environment, there are more colias observations."
   ]
  },
  {
   "cell_type": "markdown",
   "id": "2db28dd5",
   "metadata": {},
   "source": [
    "In conclusion:\n",
    "- There is a moderate association between the year and the number of colias observed.\n",
    "- There is a strong association between the environmental factors and the number of colias observed."
   ]
  },
  {
   "cell_type": "code",
   "execution_count": null,
   "id": "bfa0d0cf",
   "metadata": {},
   "outputs": [],
   "source": []
  },
  {
   "cell_type": "code",
   "execution_count": null,
   "id": "d9e5a025",
   "metadata": {},
   "outputs": [],
   "source": []
  },
  {
   "cell_type": "code",
   "execution_count": null,
   "id": "378a1b83",
   "metadata": {},
   "outputs": [],
   "source": []
  },
  {
   "cell_type": "code",
   "execution_count": null,
   "id": "69f8fef0",
   "metadata": {},
   "outputs": [],
   "source": []
  },
  {
   "cell_type": "code",
   "execution_count": null,
   "id": "d91c40ea",
   "metadata": {},
   "outputs": [],
   "source": []
  },
  {
   "cell_type": "markdown",
   "id": "98296ce1",
   "metadata": {},
   "source": [
    "**Task 4**"
   ]
  },
  {
   "cell_type": "markdown",
   "id": "48bb3375",
   "metadata": {},
   "source": [
    "In the case of the previous task, present the $\\, \\beta \\,$ coefficients as risk ratios (relative changes in the expected value of the response)."
   ]
  },
  {
   "cell_type": "markdown",
   "id": "1a064cfb",
   "metadata": {},
   "source": [
    "$$ log \\, (\\lambda_i) = X_i^T \\vec{\\beta} \\: \\: \\: \\: \\: \\: ,where \\: \\, \\lambda_i = E \\, (y_i). $$\n",
    "\n",
    "To interpret the $\\, \\beta \\,$ coefficients as risk ratios, one should compare situtations where the values of the input variable $X_i$ differs by one unit."
   ]
  },
  {
   "cell_type": "markdown",
   "id": "d5dc6da7",
   "metadata": {},
   "source": [
    "$$ \\frac{\\lambda_1}{\\lambda_2} = \\frac{e^{\\hat{\\beta_0}\\, + \\, \\hat{\\beta_1} (x+1) \\, + \\, ...}} {e^{\\hat{\\beta_0}\\, + \\, \\hat{\\beta_1} x \\, + \\, ...}} = \\boldsymbol{e^{\\hat{\\beta_1}}} $$"
   ]
  },
  {
   "cell_type": "code",
   "execution_count": 40,
   "id": "62ab74d3",
   "metadata": {},
   "outputs": [],
   "source": [
    "b = np.exp(model5.params)"
   ]
  },
  {
   "cell_type": "code",
   "execution_count": 41,
   "id": "067d8337",
   "metadata": {},
   "outputs": [
    {
     "data": {
      "text/plain": [
       "Intercept                3.476500\n",
       "habitat[T.Mixed]         0.541964\n",
       "habitat[T.Short]         0.360606\n",
       "habitat[T.Tall]          0.548193\n",
       "time                     1.458347\n",
       "time:habitat[T.Mixed]    0.771535\n",
       "time:habitat[T.Short]    0.577466\n",
       "time:habitat[T.Tall]     0.797293\n",
       "building                 0.952549\n",
       "dtype: float64"
      ]
     },
     "execution_count": 41,
     "metadata": {},
     "output_type": "execute_result"
    }
   ],
   "source": [
    "b"
   ]
  },
  {
   "cell_type": "code",
   "execution_count": 42,
   "id": "8a1abca0",
   "metadata": {},
   "outputs": [
    {
     "data": {
      "text/plain": [
       "0.5419643726550194"
      ]
     },
     "execution_count": 42,
     "metadata": {},
     "output_type": "execute_result"
    }
   ],
   "source": [
    "b[1]"
   ]
  },
  {
   "cell_type": "markdown",
   "id": "05c806cb",
   "metadata": {},
   "source": [
    "- It can be inferred from the exponentiated value of $\\, \\boldsymbol{\\beta_1} \\,$ that one can expect to observe 0.542 times as much colias in mixed grassland compared to hayland (the reference group), when adjusting for other explanatory variables (time and building). This means that the comparison is eligible only when the comparison is done in the same year and when there is the same amount of buildings in the environment."
   ]
  },
  {
   "cell_type": "markdown",
   "id": "b61b5fbe",
   "metadata": {},
   "source": [
    "- The interpretation for $\\, \\boldsymbol{\\beta_2} \\,$ and $\\, \\boldsymbol{\\beta_3} \\,$ is the same as for $\\, \\boldsymbol{\\beta_1}, \\,$ except that now one compares short grassland type and tall grassland type to hayland. In both cases, the expected number of observed colias decreases when moving from hayland to short grassland / tall grassland. "
   ]
  },
  {
   "cell_type": "code",
   "execution_count": 43,
   "id": "bec043d9",
   "metadata": {},
   "outputs": [
    {
     "data": {
      "text/plain": [
       "1.4583466965804999"
      ]
     },
     "execution_count": 43,
     "metadata": {},
     "output_type": "execute_result"
    }
   ],
   "source": [
    "b[4]"
   ]
  },
  {
   "cell_type": "markdown",
   "id": "decfc4d5",
   "metadata": {},
   "source": [
    "- When year increases by one unit (e.g. 2020 $\\rightarrow$ 2021), one can expect that the number of observed colias increase by a factor of 1.458, when adjusting for the other explanatory variables."
   ]
  },
  {
   "cell_type": "code",
   "execution_count": 44,
   "id": "2f267199",
   "metadata": {},
   "outputs": [
    {
     "data": {
      "text/plain": [
       "0.95254916789198"
      ]
     },
     "execution_count": 44,
     "metadata": {},
     "output_type": "execute_result"
    }
   ],
   "source": [
    "b[8]"
   ]
  },
  {
   "cell_type": "markdown",
   "id": "d1fbb50c",
   "metadata": {},
   "source": [
    "- When the percentage of buildings in the environment increases by one unit (e.g. from 5 % to 6 %), one can expect that the number of observed colias changes by a factor of 0.953 (e.g. if there are 100 observed colias when the building % is 5, then one can expect to observe 95 colias when the building % is 6.) "
   ]
  },
  {
   "cell_type": "code",
   "execution_count": 45,
   "id": "0979aed0",
   "metadata": {},
   "outputs": [
    {
     "data": {
      "text/plain": [
       "1.1251650638774864"
      ]
     },
     "execution_count": 45,
     "metadata": {},
     "output_type": "execute_result"
    }
   ],
   "source": [
    "b[4] * b[5]"
   ]
  },
  {
   "cell_type": "markdown",
   "id": "f3c33f5e",
   "metadata": {},
   "source": [
    "- (This is the same as $\\, \\boldsymbol{e^{\\beta_4 \\, + \\, \\beta_5}}. \\,$)\n",
    "\n",
    "\n",
    "- For each unit increase in time, the rate of the outcome variable is multiplied by $\\, \\beta_4. \\,$ However, this effect of time on the outcome variable depends on the level of the habitat variable (grassland type). When the habitat is mixed, the effect of time on the outcome variable (response variable, dependent variable) is multilpied $\\, \\beta_5. \\,$\n",
    "\n",
    "\n",
    "- In conclusion, when the grassland type is mixed, and time increases by one unit (one year), one can except that the rate of the outcome variable (number of observed colias) is multiplied by 1.125."
   ]
  },
  {
   "cell_type": "code",
   "execution_count": null,
   "id": "970d1fd2",
   "metadata": {},
   "outputs": [],
   "source": []
  },
  {
   "cell_type": "code",
   "execution_count": null,
   "id": "43876bc5",
   "metadata": {},
   "outputs": [],
   "source": []
  },
  {
   "cell_type": "code",
   "execution_count": null,
   "id": "b81061fe",
   "metadata": {},
   "outputs": [],
   "source": []
  },
  {
   "cell_type": "code",
   "execution_count": null,
   "id": "34b2e22f",
   "metadata": {},
   "outputs": [],
   "source": []
  },
  {
   "cell_type": "code",
   "execution_count": null,
   "id": "364ba5c7",
   "metadata": {},
   "outputs": [],
   "source": []
  },
  {
   "cell_type": "markdown",
   "id": "85d86083",
   "metadata": {},
   "source": [
    "**Task 5**"
   ]
  },
  {
   "cell_type": "markdown",
   "id": "f0a1d240",
   "metadata": {},
   "source": [
    "In the case of the previous task, \n",
    "\n",
    "**1.** How would you test the null hypothesis that \"the expected values of the observed colias in the different grassland types are the same\"? \n",
    "\n",
    "**2.** How would you test pair-wise differences in the grassland types? For example, how would you test the null hypothesis that \"the expected values of the observed colias in mixed and tall grassland types are the same\"?"
   ]
  },
  {
   "cell_type": "markdown",
   "id": "08638c5d",
   "metadata": {},
   "source": [
    "One can test these hypotheses via **F-test**, which is most often used when comparing statistical models that have been fitted to a data set, in order to identify the model that best fits the population from which the data were sampled."
   ]
  },
  {
   "cell_type": "code",
   "execution_count": 46,
   "id": "ddc87730",
   "metadata": {},
   "outputs": [],
   "source": [
    "def F_test(K, X, beta, sigma):\n",
    "    q = np.linalg.matrix_rank(np.linalg.qr(K)[0])\n",
    "    n = X.shape[0]\n",
    "    p = X.shape[1]\n",
    "    F = (K.T @ beta).T @ np.linalg.inv(K.T @ np.linalg.inv(X.T @ X) @ K) @ (K.T @ beta) / (q * sigma)\n",
    "    p_val = 1 - scipy.stats.f.cdf(F, q, n-p-1)\n",
    "    if round(p_val, ndigits=5) == 0:\n",
    "        p_val = \"< 0.000\"\n",
    "    frame = pd.DataFrame({\"F\": [F], \"p-value\": p_val})\n",
    "    return frame"
   ]
  },
  {
   "cell_type": "code",
   "execution_count": 47,
   "id": "887f7377",
   "metadata": {},
   "outputs": [],
   "source": [
    "# Create the design matrix. \n",
    "# Note that one has to perform binary encoding for the habitat variable,\n",
    "# since it is a categorical variable with 4 categories.\n",
    "X0 = np.ones(len(data))\n",
    "X1 = data[\"time\"].values\n",
    "X2 = data[\"building\"].values\n",
    "X3 = np.where(data[\"habitat\"] == \"Tall\", 1, 0)\n",
    "X4 = np.where(data[\"habitat\"] == \"Mixed\", 1, 0)\n",
    "X5 = np.where(data[\"habitat\"] == \"Short\", 1, 0)\n",
    "X6 = np.where(data[\"habitat\"] == \"Hayfield\", 1, 0)\n",
    "X_design = pd.DataFrame({\"X0\": X0,\n",
    "                         \"X1\": X1,\n",
    "                         \"X2\": X2,\n",
    "                         \"X3\": X3,\n",
    "                         \"X4\": X4,\n",
    "                         \"X5\": X5,\n",
    "                         \"X6\": X6})\n",
    "X_design = X_design.values"
   ]
  },
  {
   "cell_type": "code",
   "execution_count": 48,
   "id": "09620213",
   "metadata": {},
   "outputs": [
    {
     "data": {
      "text/plain": [
       "array([[1.  , 1.  , 2.12, 0.  , 1.  , 0.  , 0.  ],\n",
       "       [1.  , 2.  , 2.12, 0.  , 1.  , 0.  , 0.  ],\n",
       "       [1.  , 3.  , 2.12, 0.  , 1.  , 0.  , 0.  ],\n",
       "       [1.  , 4.  , 2.12, 0.  , 1.  , 0.  , 0.  ],\n",
       "       [1.  , 5.  , 2.12, 0.  , 1.  , 0.  , 0.  ]])"
      ]
     },
     "execution_count": 48,
     "metadata": {},
     "output_type": "execute_result"
    }
   ],
   "source": [
    "X_design[0:5, 0:7]"
   ]
  },
  {
   "cell_type": "code",
   "execution_count": 49,
   "id": "d85a23dd",
   "metadata": {},
   "outputs": [
    {
     "data": {
      "text/plain": [
       "(330, 7)"
      ]
     },
     "execution_count": 49,
     "metadata": {},
     "output_type": "execute_result"
    }
   ],
   "source": [
    "X_design.shape"
   ]
  },
  {
   "cell_type": "code",
   "execution_count": 50,
   "id": "083eb926",
   "metadata": {},
   "outputs": [],
   "source": [
    "# Response variable\n",
    "Colias = data[\"Colias\"].values"
   ]
  },
  {
   "cell_type": "code",
   "execution_count": 51,
   "id": "6def5234",
   "metadata": {},
   "outputs": [
    {
     "data": {
      "text/plain": [
       "(330,)"
      ]
     },
     "execution_count": 51,
     "metadata": {},
     "output_type": "execute_result"
    }
   ],
   "source": [
    "Colias.shape"
   ]
  },
  {
   "cell_type": "code",
   "execution_count": 52,
   "id": "3911e28f",
   "metadata": {},
   "outputs": [
    {
     "data": {
      "text/plain": [
       "array([ 1.58426335,  0.88636364, -0.10032331, -1.25867018, -1.53666877,\n",
       "       -3.4282671 ,  7.80786941])"
      ]
     },
     "execution_count": 52,
     "metadata": {},
     "output_type": "execute_result"
    }
   ],
   "source": [
    "beta = sm.GLM(Colias, X_design).fit().params\n",
    "beta"
   ]
  },
  {
   "cell_type": "code",
   "execution_count": 53,
   "id": "450b15b3",
   "metadata": {},
   "outputs": [],
   "source": [
    "resid = Colias - X_design @ beta\n",
    "n = len(X_design)\n",
    "p = beta.shape[0] - 1\n",
    "sigmahat_squared = (resid.T @ resid) / (n-p-1)"
   ]
  },
  {
   "cell_type": "markdown",
   "id": "ff4606f0",
   "metadata": {},
   "source": [
    "$ H_0 : $ \"the expected values of the observed colias in the different grassland types are the same\".\n",
    "- In other words, $\\, H_0 : $ $\\, \\beta_3 = \\beta_4 = \\beta_5 = \\beta_6 \\,$\n",
    "- This can then be rearranged to $\\, H_0 : $ $\\, \\beta_3 - \\beta_4 - \\beta_5 - \\beta_6 = 0 \\,$\n",
    "- This equation can be formed as a linear combination of the matrix K and and the beta vector. \n",
    "\n",
    "$ H_1 : $ \"Atleast one expected value in the different grassland types differs from the others\"."
   ]
  },
  {
   "cell_type": "code",
   "execution_count": 54,
   "id": "58941a41",
   "metadata": {},
   "outputs": [],
   "source": [
    "K = np.column_stack(np.array([[0, 0, 0, 1, -1, -1, -1]]))"
   ]
  },
  {
   "cell_type": "markdown",
   "id": "9faab5cf",
   "metadata": {},
   "source": [
    "- Now one can clearly see that the linear combination of K and beta gives the rearranged equation as stated above."
   ]
  },
  {
   "cell_type": "code",
   "execution_count": 55,
   "id": "61960943",
   "metadata": {},
   "outputs": [
    {
     "data": {
      "text/html": [
       "<div>\n",
       "<style scoped>\n",
       "    .dataframe tbody tr th:only-of-type {\n",
       "        vertical-align: middle;\n",
       "    }\n",
       "\n",
       "    .dataframe tbody tr th {\n",
       "        vertical-align: top;\n",
       "    }\n",
       "\n",
       "    .dataframe thead th {\n",
       "        text-align: right;\n",
       "    }\n",
       "</style>\n",
       "<table border=\"1\" class=\"dataframe\">\n",
       "  <thead>\n",
       "    <tr style=\"text-align: right;\">\n",
       "      <th></th>\n",
       "      <th>F</th>\n",
       "      <th>p-value</th>\n",
       "    </tr>\n",
       "  </thead>\n",
       "  <tbody>\n",
       "    <tr>\n",
       "      <th>0</th>\n",
       "      <td>1.057793e-15</td>\n",
       "      <td>1.0</td>\n",
       "    </tr>\n",
       "  </tbody>\n",
       "</table>\n",
       "</div>"
      ],
      "text/plain": [
       "              F  p-value\n",
       "0  1.057793e-15      1.0"
      ]
     },
     "execution_count": 55,
     "metadata": {},
     "output_type": "execute_result"
    }
   ],
   "source": [
    "F_test(K, X_design, beta, sigmahat_squared)"
   ]
  },
  {
   "cell_type": "markdown",
   "id": "796910f8",
   "metadata": {},
   "source": [
    "- ?????"
   ]
  },
  {
   "cell_type": "code",
   "execution_count": null,
   "id": "acb6d046",
   "metadata": {},
   "outputs": [],
   "source": []
  },
  {
   "cell_type": "code",
   "execution_count": null,
   "id": "f62aadc2",
   "metadata": {},
   "outputs": [],
   "source": []
  },
  {
   "cell_type": "code",
   "execution_count": null,
   "id": "ba5a4ff9",
   "metadata": {},
   "outputs": [],
   "source": []
  },
  {
   "cell_type": "code",
   "execution_count": null,
   "id": "9faa755d",
   "metadata": {},
   "outputs": [],
   "source": []
  },
  {
   "cell_type": "code",
   "execution_count": null,
   "id": "b2868307",
   "metadata": {},
   "outputs": [],
   "source": []
  },
  {
   "cell_type": "markdown",
   "id": "3bd2d55e",
   "metadata": {},
   "source": [
    "**Task 6**"
   ]
  },
  {
   "cell_type": "code",
   "execution_count": 85,
   "id": "d83da3ac",
   "metadata": {},
   "outputs": [],
   "source": [
    "fit_nb = sm.formula.glm(\"Colias ~ time + habitat + building + time*habitat\", \n",
    "                        family=sm.families.NegativeBinomial(), \n",
    "                        data=data).fit()"
   ]
  },
  {
   "cell_type": "code",
   "execution_count": 82,
   "id": "d057697f",
   "metadata": {},
   "outputs": [],
   "source": [
    "fit_poisson = sm.formula.glm(\"Colias ~ time + habitat + building + time*habitat\", \n",
    "                             family=sm.families.Poisson(), \n",
    "                             data=data).fit()"
   ]
  },
  {
   "cell_type": "code",
   "execution_count": 86,
   "id": "5be1fc55",
   "metadata": {},
   "outputs": [
    {
     "data": {
      "text/plain": [
       "Intercept                1.290398\n",
       "habitat[T.Mixed]        -0.722685\n",
       "habitat[T.Short]        -0.941778\n",
       "habitat[T.Tall]         -0.705041\n",
       "time                     0.366256\n",
       "time:habitat[T.Mixed]   -0.214616\n",
       "time:habitat[T.Short]   -0.581614\n",
       "time:habitat[T.Tall]    -0.192762\n",
       "building                -0.055758\n",
       "dtype: float64"
      ]
     },
     "execution_count": 86,
     "metadata": {},
     "output_type": "execute_result"
    }
   ],
   "source": [
    "fit_nb.params"
   ]
  },
  {
   "cell_type": "code",
   "execution_count": 83,
   "id": "b40d871f",
   "metadata": {},
   "outputs": [
    {
     "data": {
      "text/plain": [
       "Intercept                1.246026\n",
       "habitat[T.Mixed]        -0.612555\n",
       "habitat[T.Short]        -1.019969\n",
       "habitat[T.Tall]         -0.601128\n",
       "time                     0.377303\n",
       "time:habitat[T.Mixed]   -0.259374\n",
       "time:habitat[T.Short]   -0.549106\n",
       "time:habitat[T.Tall]    -0.226533\n",
       "building                -0.048614\n",
       "dtype: float64"
      ]
     },
     "execution_count": 83,
     "metadata": {},
     "output_type": "execute_result"
    }
   ],
   "source": [
    "fit_poisson.params"
   ]
  },
  {
   "cell_type": "markdown",
   "id": "269ed048",
   "metadata": {},
   "source": [
    "- Tulokset muuttuvat, mutta ei mitään hajua, miksi ne muuttuvat?"
   ]
  },
  {
   "cell_type": "code",
   "execution_count": null,
   "id": "3ea497e0",
   "metadata": {},
   "outputs": [],
   "source": []
  },
  {
   "cell_type": "code",
   "execution_count": null,
   "id": "40e77b19",
   "metadata": {},
   "outputs": [],
   "source": []
  },
  {
   "cell_type": "code",
   "execution_count": null,
   "id": "c02c4146",
   "metadata": {},
   "outputs": [],
   "source": []
  },
  {
   "cell_type": "code",
   "execution_count": null,
   "id": "d0ce092f",
   "metadata": {},
   "outputs": [],
   "source": []
  },
  {
   "cell_type": "code",
   "execution_count": null,
   "id": "d2182ab2",
   "metadata": {},
   "outputs": [],
   "source": []
  },
  {
   "cell_type": "markdown",
   "id": "9a0eb2ae",
   "metadata": {},
   "source": [
    "**Task 7**"
   ]
  },
  {
   "cell_type": "markdown",
   "id": "88bb21af",
   "metadata": {},
   "source": [
    "**a)** Let's examine the number of deaths from cardiovascular diseases per 100000 working-age individuals. Draw the number of deaths for both men and women per 100000 working-age individuals in the same graph between the years 1970-2014."
   ]
  },
  {
   "cell_type": "markdown",
   "id": "f5d42f94",
   "metadata": {},
   "source": [
    "- To calculate the desired death rates, one can divide the number of deaths in each group by its total population, and then multiply the results by 100000."
   ]
  },
  {
   "cell_type": "code",
   "execution_count": 56,
   "id": "73446cd9",
   "metadata": {},
   "outputs": [],
   "source": [
    "BCD = pd.read_csv(\"C:/Users/testi/Desktop/R_GLM2/Blood_circulation_data.csv\", index_col=0)"
   ]
  },
  {
   "cell_type": "code",
   "execution_count": 57,
   "id": "1dc4aeb2",
   "metadata": {},
   "outputs": [
    {
     "data": {
      "text/html": [
       "<div>\n",
       "<style scoped>\n",
       "    .dataframe tbody tr th:only-of-type {\n",
       "        vertical-align: middle;\n",
       "    }\n",
       "\n",
       "    .dataframe tbody tr th {\n",
       "        vertical-align: top;\n",
       "    }\n",
       "\n",
       "    .dataframe thead th {\n",
       "        text-align: right;\n",
       "    }\n",
       "</style>\n",
       "<table border=\"1\" class=\"dataframe\">\n",
       "  <thead>\n",
       "    <tr style=\"text-align: right;\">\n",
       "      <th></th>\n",
       "      <th>vuosi</th>\n",
       "      <th>sukup</th>\n",
       "      <th>kuolleet</th>\n",
       "      <th>vaki</th>\n",
       "    </tr>\n",
       "  </thead>\n",
       "  <tbody>\n",
       "    <tr>\n",
       "      <th>3</th>\n",
       "      <td>1970</td>\n",
       "      <td>0</td>\n",
       "      <td>4820</td>\n",
       "      <td>1490486</td>\n",
       "    </tr>\n",
       "    <tr>\n",
       "      <th>4</th>\n",
       "      <td>1970</td>\n",
       "      <td>1</td>\n",
       "      <td>1944</td>\n",
       "      <td>1561812</td>\n",
       "    </tr>\n",
       "    <tr>\n",
       "      <th>5</th>\n",
       "      <td>1971</td>\n",
       "      <td>0</td>\n",
       "      <td>5148</td>\n",
       "      <td>1511124</td>\n",
       "    </tr>\n",
       "    <tr>\n",
       "      <th>6</th>\n",
       "      <td>1971</td>\n",
       "      <td>1</td>\n",
       "      <td>1964</td>\n",
       "      <td>1577136</td>\n",
       "    </tr>\n",
       "    <tr>\n",
       "      <th>7</th>\n",
       "      <td>1972</td>\n",
       "      <td>0</td>\n",
       "      <td>4718</td>\n",
       "      <td>1530217</td>\n",
       "    </tr>\n",
       "  </tbody>\n",
       "</table>\n",
       "</div>"
      ],
      "text/plain": [
       "   vuosi  sukup  kuolleet     vaki\n",
       "3   1970      0      4820  1490486\n",
       "4   1970      1      1944  1561812\n",
       "5   1971      0      5148  1511124\n",
       "6   1971      1      1964  1577136\n",
       "7   1972      0      4718  1530217"
      ]
     },
     "execution_count": 57,
     "metadata": {},
     "output_type": "execute_result"
    }
   ],
   "source": [
    "BCD.head()"
   ]
  },
  {
   "cell_type": "markdown",
   "id": "9f2ce70e",
   "metadata": {},
   "source": [
    "- vuosi: year\n",
    "- sukup: gender (0 = man, 1 = woman)\n",
    "- kuolleet: deaths from cardiovascular diseases (excluding alcohol-related diseases)\n",
    "- vaki: the number of working-age (25-64 years old) people"
   ]
  },
  {
   "cell_type": "code",
   "execution_count": 58,
   "id": "cf5a0934",
   "metadata": {},
   "outputs": [
    {
     "data": {
      "text/plain": [
       "vuosi       int64\n",
       "sukup       int64\n",
       "kuolleet    int64\n",
       "vaki        int64\n",
       "dtype: object"
      ]
     },
     "execution_count": 58,
     "metadata": {},
     "output_type": "execute_result"
    }
   ],
   "source": [
    "BCD.dtypes"
   ]
  },
  {
   "cell_type": "code",
   "execution_count": 59,
   "id": "88ac90cb",
   "metadata": {},
   "outputs": [
    {
     "data": {
      "text/plain": [
       "1970"
      ]
     },
     "execution_count": 59,
     "metadata": {},
     "output_type": "execute_result"
    }
   ],
   "source": [
    "BCD[\"vuosi\"].min()"
   ]
  },
  {
   "cell_type": "code",
   "execution_count": 60,
   "id": "0d8476d7",
   "metadata": {},
   "outputs": [
    {
     "data": {
      "text/plain": [
       "2014"
      ]
     },
     "execution_count": 60,
     "metadata": {},
     "output_type": "execute_result"
    }
   ],
   "source": [
    "BCD[\"vuosi\"].max()"
   ]
  },
  {
   "cell_type": "code",
   "execution_count": 61,
   "id": "89fc9d2a",
   "metadata": {},
   "outputs": [
    {
     "data": {
      "text/plain": [
       "0    45\n",
       "1    45\n",
       "Name: sukup, dtype: int64"
      ]
     },
     "execution_count": 61,
     "metadata": {},
     "output_type": "execute_result"
    }
   ],
   "source": [
    "BCD[\"sukup\"].value_counts()"
   ]
  },
  {
   "cell_type": "code",
   "execution_count": 62,
   "id": "a7b60754",
   "metadata": {},
   "outputs": [],
   "source": [
    "men = BCD[BCD[\"sukup\"] == 0]"
   ]
  },
  {
   "cell_type": "code",
   "execution_count": 63,
   "id": "78e0ec3b",
   "metadata": {},
   "outputs": [],
   "source": [
    "women = BCD[BCD[\"sukup\"] == 1]"
   ]
  },
  {
   "cell_type": "code",
   "execution_count": 64,
   "id": "2410cc07",
   "metadata": {},
   "outputs": [
    {
     "data": {
      "image/png": "[encoded data removed]",
      "text/plain": [
       "<Figure size 1000x400 with 1 Axes>"
      ]
     },
     "metadata": {},
     "output_type": "display_data"
    }
   ],
   "source": [
    "plt.figure(figsize=(10, 4), dpi=100)\n",
    "\n",
    "sns.lineplot(x=\"vuosi\", y=(men[\"kuolleet\"] / men[\"vaki\"]) * 100000, label=\"men\", data=BCD)\n",
    "sns.lineplot(x=\"vuosi\", y=(women[\"kuolleet\"] / women[\"vaki\"]) * 100000, label=\"women\", data=BCD)\n",
    "\n",
    "plt.xlabel(\"Year\", size=12)\n",
    "plt.ylabel(\"Deaths/100000 persons\", size=12)\n",
    "plt.title(\"Deaths/100000 working-age individuals vs. Year\", size=12)\n",
    "plt.legend(loc=\"upper right\");"
   ]
  },
  {
   "cell_type": "code",
   "execution_count": null,
   "id": "5183dc73",
   "metadata": {},
   "outputs": [],
   "source": []
  },
  {
   "cell_type": "code",
   "execution_count": null,
   "id": "5c1a5d43",
   "metadata": {},
   "outputs": [],
   "source": []
  },
  {
   "cell_type": "code",
   "execution_count": null,
   "id": "de77332e",
   "metadata": {},
   "outputs": [],
   "source": []
  },
  {
   "cell_type": "markdown",
   "id": "5b60bb01",
   "metadata": {},
   "source": [
    "**b)** Fit a Poisson regression model to the data, where the input variables are the year 1970, gender, and the interaction between year 1970 and gender. What is the expected number of deaths per 100,000 working-age men and women in 1970 according to the model? How much has the mortality rate decreased annually for men and women? Please provide the confidence intervals as well."
   ]
  },
  {
   "cell_type": "code",
   "execution_count": 70,
   "id": "633f5f0c",
   "metadata": {},
   "outputs": [],
   "source": [
    "year_1970 = BCD[BCD[\"vuosi\"] == 1970]"
   ]
  },
  {
   "cell_type": "code",
   "execution_count": 71,
   "id": "7e4e966a",
   "metadata": {},
   "outputs": [
    {
     "data": {
      "text/html": [
       "<div>\n",
       "<style scoped>\n",
       "    .dataframe tbody tr th:only-of-type {\n",
       "        vertical-align: middle;\n",
       "    }\n",
       "\n",
       "    .dataframe tbody tr th {\n",
       "        vertical-align: top;\n",
       "    }\n",
       "\n",
       "    .dataframe thead th {\n",
       "        text-align: right;\n",
       "    }\n",
       "</style>\n",
       "<table border=\"1\" class=\"dataframe\">\n",
       "  <thead>\n",
       "    <tr style=\"text-align: right;\">\n",
       "      <th></th>\n",
       "      <th>vuosi</th>\n",
       "      <th>sukup</th>\n",
       "      <th>kuolleet</th>\n",
       "      <th>vaki</th>\n",
       "    </tr>\n",
       "  </thead>\n",
       "  <tbody>\n",
       "    <tr>\n",
       "      <th>3</th>\n",
       "      <td>1970</td>\n",
       "      <td>0</td>\n",
       "      <td>4820</td>\n",
       "      <td>1490486</td>\n",
       "    </tr>\n",
       "    <tr>\n",
       "      <th>4</th>\n",
       "      <td>1970</td>\n",
       "      <td>1</td>\n",
       "      <td>1944</td>\n",
       "      <td>1561812</td>\n",
       "    </tr>\n",
       "  </tbody>\n",
       "</table>\n",
       "</div>"
      ],
      "text/plain": [
       "   vuosi  sukup  kuolleet     vaki\n",
       "3   1970      0      4820  1490486\n",
       "4   1970      1      1944  1561812"
      ]
     },
     "execution_count": 71,
     "metadata": {},
     "output_type": "execute_result"
    }
   ],
   "source": [
    "year_1970"
   ]
  },
  {
   "cell_type": "code",
   "execution_count": 73,
   "id": "f866c3e2",
   "metadata": {},
   "outputs": [],
   "source": [
    "# fit1970 = sm.formula.glm(\"kuolleet ~ vuosi + sukup + vuosi*sukup\",\n",
    "#                          offset=np.log10(year_1970[\"vaki\"]),\n",
    "#                          family=sm.families.Poisson(),\n",
    "#                          data=year_1970).fit()"
   ]
  },
  {
   "cell_type": "markdown",
   "id": "3db6c954",
   "metadata": {},
   "source": [
    "- En ymmärrä, miten voi sovittaa ainoastaan vuoden 1970. Jos laitan pelkästään vuoden 1970, niin Python antaa virheen \"PerfectSeparationError: Perfect separation detected, results not available\", joka tarkottaa sitä, että malli ennustaa vastemuuttujaa täydellisesti."
   ]
  }
 ],
 "metadata": {
  "kernelspec": {
   "display_name": "Python 3 (ipykernel)",
   "language": "python",
   "name": "python3"
  },
  "language_info": {
   "codemirror_mode": {
    "name": "ipython",
    "version": 3
   },
   "file_extension": ".py",
   "mimetype": "text/x-python",
   "name": "python",
   "nbconvert_exporter": "python",
   "pygments_lexer": "ipython3",
   "version": "3.9.12"
  }
 },
 "nbformat": 4,
 "nbformat_minor": 5
}
