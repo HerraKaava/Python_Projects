{
 "cells": [
  {
   "cell_type": "code",
   "execution_count": 12,
   "id": "ff2c93be",
   "metadata": {},
   "outputs": [],
   "source": [
    "def remove_duplicates(input_array):\n",
    "    \"\"\"\n",
    "    Zero out duplicate positive numbers in a sorted array,\n",
    "    and count the number of zeroed elements.\n",
    "\n",
    "    This function takes a sorted list of positive numbers and replaces duplicate values\n",
    "    with zeros, leaving only one occurrence of each positive number in the array.\n",
    "    It also counts the number of zeroed elements and prints it.\n",
    "\n",
    "    Args:\n",
    "        input_array (list of int): A sorted list of positive numbers.\n",
    "        \n",
    "    Prints:\n",
    "        int: The count of zeroed elements in the array.\n",
    "\n",
    "    Returns:\n",
    "        list: list with duplicates zeroed out.\n",
    "    \"\"\"\n",
    "    # Initialize a list that will be used to store the numbers\n",
    "    arr = []\n",
    "    \n",
    "    # Initialize a variable to keep track of the zeroed out duplicates\n",
    "    duplicates = 0\n",
    "\n",
    "    for val in input_array:\n",
    "        if val not in arr:\n",
    "            arr.append(val)\n",
    "        else:\n",
    "            arr.append(0)\n",
    "            duplicates += 1\n",
    "            \n",
    "    print(f'There were {duplicates} duplicate values.')\n",
    "    return arr"
   ]
  },
  {
   "cell_type": "code",
   "execution_count": 13,
   "id": "507ed8d2",
   "metadata": {},
   "outputs": [],
   "source": [
    "l = [1, 2, 2, 2, 3, 4, 4, 5, 5, 5, 6, 7, 8, 8, 10, 10]"
   ]
  },
  {
   "cell_type": "code",
   "execution_count": 14,
   "id": "a53e3c65",
   "metadata": {},
   "outputs": [
    {
     "name": "stdout",
     "output_type": "stream",
     "text": [
      "There were 7 duplicate values.\n"
     ]
    },
    {
     "data": {
      "text/plain": [
       "[1, 2, 0, 0, 3, 4, 0, 5, 0, 0, 6, 7, 8, 0, 10, 0]"
      ]
     },
     "execution_count": 14,
     "metadata": {},
     "output_type": "execute_result"
    }
   ],
   "source": [
    "remove_duplicates(l)"
   ]
  },
  {
   "cell_type": "markdown",
   "id": "b391981c",
   "metadata": {},
   "source": [
    "Let's evaluate how the performance of the *remove_duplicates* function is affected by the size of the input array by conducting a performance analysis by measuring the function's execution time for different input array sizes."
   ]
  },
  {
   "cell_type": "code",
   "execution_count": 15,
   "id": "b0c977e3",
   "metadata": {},
   "outputs": [],
   "source": [
    "import time"
   ]
  },
  {
   "cell_type": "code",
   "execution_count": 34,
   "id": "44b58f98",
   "metadata": {},
   "outputs": [],
   "source": [
    "def evaluate_performance(input_array):\n",
    "    \"\"\"\n",
    "    Evaluate the performance of the 'remove_duplicates' \n",
    "    function by measuring its execution time.\n",
    "\n",
    "    This function takes an input array, calls the 'remove_duplicates' function, \n",
    "    and records the execution time. \n",
    "    It then prints the size of the input array and the execution time for analysis.\n",
    "\n",
    "    Args:\n",
    "        input_array (list): The input array to be processed by the 'remove_duplicates' function.\n",
    "\n",
    "    Prints:\n",
    "        Size of the input array and the execution time for the analysis,\n",
    "        and how many duplicates there were present in the input array.\n",
    "    \"\"\"\n",
    "    start_time = time.time()  # Record the start time\n",
    "    result = remove_duplicates(input_array)  # Call the function\n",
    "    end_time = time.time()  # Record the end time\n",
    "    execution_time = end_time - start_time  # Calculate the execution time\n",
    "\n",
    "    print(f\"Input array size: {len(input_array)}, Execution time: {execution_time:.6f} seconds\")"
   ]
  },
  {
   "cell_type": "code",
   "execution_count": 35,
   "id": "fcbd4517",
   "metadata": {},
   "outputs": [],
   "source": [
    "dl1 = [1, 2, 3, 4, 5, 6, 7, 8, 9, 10] * 10\n",
    "dl2 = [1, 2, 3, 4, 5, 6, 7, 8, 9, 10] * 100\n",
    "dl3 = [1, 2, 3, 4, 5, 6, 7, 8, 9, 10] * 1000\n",
    "dl4 = [1, 2, 3, 4, 5, 6, 7, 8, 9, 10] * 10000\n",
    "dl5 = [1, 2, 3, 4, 5, 6, 7, 8, 9, 10] * 100000"
   ]
  },
  {
   "cell_type": "code",
   "execution_count": 36,
   "id": "6ae8ec3d",
   "metadata": {},
   "outputs": [
    {
     "name": "stdout",
     "output_type": "stream",
     "text": [
      "There were 90 duplicate values.\n",
      "Input array size: 100, Execution time: 0.000091 seconds\n"
     ]
    }
   ],
   "source": [
    "evaluate_performance(dl1)"
   ]
  },
  {
   "cell_type": "code",
   "execution_count": 37,
   "id": "d3808d34",
   "metadata": {},
   "outputs": [
    {
     "name": "stdout",
     "output_type": "stream",
     "text": [
      "There were 990 duplicate values.\n",
      "Input array size: 1000, Execution time: 0.000217 seconds\n"
     ]
    }
   ],
   "source": [
    "evaluate_performance(dl2)"
   ]
  },
  {
   "cell_type": "code",
   "execution_count": 38,
   "id": "0626c056",
   "metadata": {},
   "outputs": [
    {
     "name": "stdout",
     "output_type": "stream",
     "text": [
      "There were 9990 duplicate values.\n",
      "Input array size: 10000, Execution time: 0.002550 seconds\n"
     ]
    }
   ],
   "source": [
    "evaluate_performance(dl3)"
   ]
  },
  {
   "cell_type": "code",
   "execution_count": 39,
   "id": "99be1d8b",
   "metadata": {},
   "outputs": [
    {
     "name": "stdout",
     "output_type": "stream",
     "text": [
      "There were 99990 duplicate values.\n",
      "Input array size: 100000, Execution time: 0.015972 seconds\n"
     ]
    }
   ],
   "source": [
    "evaluate_performance(dl4)"
   ]
  },
  {
   "cell_type": "code",
   "execution_count": 40,
   "id": "09706481",
   "metadata": {},
   "outputs": [
    {
     "name": "stdout",
     "output_type": "stream",
     "text": [
      "There were 999990 duplicate values.\n",
      "Input array size: 1000000, Execution time: 0.083103 seconds\n"
     ]
    }
   ],
   "source": [
    "evaluate_performance(dl5)"
   ]
  }
 ],
 "metadata": {
  "kernelspec": {
   "display_name": "Python 3 (ipykernel)",
   "language": "python",
   "name": "python3"
  },
  "language_info": {
   "codemirror_mode": {
    "name": "ipython",
    "version": 3
   },
   "file_extension": ".py",
   "mimetype": "text/x-python",
   "name": "python",
   "nbconvert_exporter": "python",
   "pygments_lexer": "ipython3",
   "version": "3.11.5"
  }
 },
 "nbformat": 4,
 "nbformat_minor": 5
}
