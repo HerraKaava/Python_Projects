{
 "cells": [
  {
   "cell_type": "code",
   "execution_count": 1,
   "id": "e920c04b",
   "metadata": {},
   "outputs": [],
   "source": [
    "def smallest_value(input_array):\n",
    "    \"\"\"\n",
    "    Calculate the smallest value in the given array.\n",
    "\n",
    "    Args:\n",
    "        input_array (list or iterable): A list or iterable containing numerical values.\n",
    "\n",
    "    Returns:\n",
    "        float or int: The smallest value found in the array.\n",
    "\n",
    "    Raises:\n",
    "    ValueError: If the input array is empty.\n",
    "    \"\"\"\n",
    "    # If the input array is empty, this expression evaluates to True.\n",
    "    if not input_array:\n",
    "        raise ValueError(\"Input array is empty\")\n",
    "\n",
    "    # Initialize the smallest value as the first element of the input array\n",
    "    smallest_val = input_array[0]\n",
    "\n",
    "    # The end point of the range() function is exclusive, i.e. range(3) --> 0 1 2\n",
    "    # The algorithm always compares the a_{i+1}th value to a_{i}th value.\n",
    "    # To avoid index out of range error, the loop needs to range from 0 to len(input_array)-1.\n",
    "    for i in range(len(input_array)-1):\n",
    "        if input_array[i+1] < smallest_val:\n",
    "            smallest_val = input_array[i+1]\n",
    "    return smallest_val"
   ]
  },
  {
   "cell_type": "code",
   "execution_count": 2,
   "id": "c2f49206",
   "metadata": {},
   "outputs": [],
   "source": [
    "def largest_value(input_array):\n",
    "    \"\"\"\n",
    "    Calculate the largest value in the given array.\n",
    "\n",
    "    Args:\n",
    "        input_array (list or iterable): A list or iterable containing numerical values.\n",
    "\n",
    "    Returns:\n",
    "        float or int: The largest value found in the array.\n",
    "\n",
    "    Raises:\n",
    "    ValueError: If the input array is empty.\n",
    "    \"\"\"\n",
    "    # If the input array is empty, this expression evaluates to True.\n",
    "    if not input_array:\n",
    "        raise ValueError(\"Input array is empty\")\n",
    "\n",
    "    # Initialize the largest value as the first element of the input array\n",
    "    largest_val = input_array[0]\n",
    "\n",
    "    for i in range(len(input_array)-1):\n",
    "        if input_array[i+1] > largest_val:\n",
    "            largest_val = input_array[i+1]\n",
    "    return largest_val"
   ]
  },
  {
   "cell_type": "code",
   "execution_count": 8,
   "id": "903bef67",
   "metadata": {},
   "outputs": [],
   "source": [
    "def diff_between_min_and_max(input_array):\n",
    "    \"\"\"\n",
    "    Calculate the difference between the largest and smallest value of the input array.\n",
    "\n",
    "    Args:\n",
    "        input_array (list or iterable): A list or iterable containing numerical values.\n",
    "\n",
    "    Returns:\n",
    "        float or int: The difference between the largest and smallest value of the input array.\n",
    "\n",
    "    Raises:\n",
    "    ValueError: If the input array is empty.\n",
    "    \"\"\"\n",
    "    if not input_array:\n",
    "        raise ValueError(\"Input array is empty\")\n",
    "    \n",
    "    largest = largest_value(input_array)\n",
    "    smallest = smallest_value(input_array)\n",
    "    return abs(largest - smallest)"
   ]
  },
  {
   "cell_type": "code",
   "execution_count": 4,
   "id": "299d5d0a",
   "metadata": {},
   "outputs": [],
   "source": [
    "vals1 = [17, 14, 25, 2, 57, 100, 45]"
   ]
  },
  {
   "cell_type": "code",
   "execution_count": 11,
   "id": "0ce78ac3",
   "metadata": {},
   "outputs": [
    {
     "data": {
      "text/plain": [
       "98"
      ]
     },
     "execution_count": 11,
     "metadata": {},
     "output_type": "execute_result"
    }
   ],
   "source": [
    "diff_between_min_and_max(vals1)"
   ]
  },
  {
   "cell_type": "markdown",
   "id": "56a50dca",
   "metadata": {},
   "source": [
    "Note that one could avoid making own functions and use Python's buit-in functions:"
   ]
  },
  {
   "cell_type": "code",
   "execution_count": 7,
   "id": "68a5b461",
   "metadata": {},
   "outputs": [
    {
     "data": {
      "text/plain": [
       "98"
      ]
     },
     "execution_count": 7,
     "metadata": {},
     "output_type": "execute_result"
    }
   ],
   "source": [
    "abs(max(vals1) - min(vals1))"
   ]
  }
 ],
 "metadata": {
  "kernelspec": {
   "display_name": "Python 3 (ipykernel)",
   "language": "python",
   "name": "python3"
  },
  "language_info": {
   "codemirror_mode": {
    "name": "ipython",
    "version": 3
   },
   "file_extension": ".py",
   "mimetype": "text/x-python",
   "name": "python",
   "nbconvert_exporter": "python",
   "pygments_lexer": "ipython3",
   "version": "3.11.5"
  }
 },
 "nbformat": 4,
 "nbformat_minor": 5
}
