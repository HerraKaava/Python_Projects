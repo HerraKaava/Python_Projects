{
 "cells": [
  {
   "cell_type": "code",
   "execution_count": 233,
   "id": "2079f41d",
   "metadata": {},
   "outputs": [],
   "source": [
    "class MyQueue():\n",
    "    # Constructor\n",
    "    def __init__(self):\n",
    "        # Initialize an empty list to store elements\n",
    "        self.queue = []\n",
    "    \n",
    "    \n",
    "    def enqueue(self, element):\n",
    "        \"\"\"\n",
    "        Add an element to the end of the queue without using built-in queue operations.\n",
    "\n",
    "        Args:\n",
    "            element (int): The element to be added to the end of the queue.\n",
    "\n",
    "        Returns:\n",
    "            None.\n",
    "        \"\"\"\n",
    "        self.queue[len(self.queue):] = [element]\n",
    "    \n",
    "    \n",
    "    def dequeue(self):\n",
    "        \"\"\"\n",
    "        Return and remove the first element of the queue without using built-in queue operations.\n",
    "        \n",
    "        Args:\n",
    "            None.\n",
    "        \n",
    "        Returns:\n",
    "            The first element of the queue.\n",
    "        \"\"\"\n",
    "        popped_element = self.queue[:1]    # Save the first element of the list\n",
    "        self.queue = self.queue[1:]        # Remove the first element of the list\n",
    "        return popped_element              # Return the first element of the list\n",
    "        \n",
    "        \n",
    "    def isEmpty(self):\n",
    "        \"\"\"\n",
    "        Return True if the stack is empty, False otherwise.\n",
    "        \n",
    "        Args:\n",
    "            None.\n",
    "            \n",
    "        Returns:\n",
    "            bool: True if the stack is empty, False otherwise.\n",
    "        \"\"\"\n",
    "        if not self.queue:    # If the list is empty, this condition evaluates to True.\n",
    "            return True\n",
    "        else:\n",
    "            return False\n",
    "        \n",
    "        \n",
    "    def size(self):\n",
    "        \"\"\"\n",
    "        Count how many elements are in the stack.\n",
    "        \n",
    "        Args:\n",
    "            None.\n",
    "        \n",
    "        Returns:\n",
    "            int: The number of elements in the stack.\n",
    "        \"\"\"\n",
    "        num_of_elements = 0\n",
    "        for _ in self.queue:\n",
    "            num_of_elements += 1\n",
    "        return num_of_elements\n",
    "    \n",
    "    \n",
    "    def front(self):\n",
    "        \"\"\"\n",
    "        Return the first element of the queue without removing it from the queue.\n",
    "        \n",
    "        Args:\n",
    "            None.\n",
    "            \n",
    "        Returns:\n",
    "            int/float: Return the first element of the queue.\n",
    "        \"\"\"\n",
    "        return self.queue[:1]"
   ]
  },
  {
   "cell_type": "code",
   "execution_count": 243,
   "id": "0c527ed4",
   "metadata": {},
   "outputs": [],
   "source": [
    "l1 = MyQueue()"
   ]
  },
  {
   "cell_type": "code",
   "execution_count": 244,
   "id": "dfc79067",
   "metadata": {},
   "outputs": [
    {
     "data": {
      "text/plain": [
       "[]"
      ]
     },
     "execution_count": 244,
     "metadata": {},
     "output_type": "execute_result"
    }
   ],
   "source": [
    "l1.queue"
   ]
  },
  {
   "cell_type": "code",
   "execution_count": 245,
   "id": "c4e0ce8f",
   "metadata": {},
   "outputs": [
    {
     "data": {
      "text/plain": [
       "0"
      ]
     },
     "execution_count": 245,
     "metadata": {},
     "output_type": "execute_result"
    }
   ],
   "source": [
    "l1.size()"
   ]
  },
  {
   "cell_type": "code",
   "execution_count": 246,
   "id": "2c716e40",
   "metadata": {},
   "outputs": [
    {
     "data": {
      "text/plain": [
       "True"
      ]
     },
     "execution_count": 246,
     "metadata": {},
     "output_type": "execute_result"
    }
   ],
   "source": [
    "l1.isEmpty()"
   ]
  },
  {
   "cell_type": "code",
   "execution_count": 247,
   "id": "a77761e0",
   "metadata": {},
   "outputs": [],
   "source": [
    "l1.enqueue(1)\n",
    "l1.enqueue(2)\n",
    "l1.enqueue(3)\n",
    "l1.enqueue(4)\n",
    "l1.enqueue(5)"
   ]
  },
  {
   "cell_type": "code",
   "execution_count": 249,
   "id": "009aea7d",
   "metadata": {},
   "outputs": [
    {
     "data": {
      "text/plain": [
       "[1, 2, 3, 4, 5]"
      ]
     },
     "execution_count": 249,
     "metadata": {},
     "output_type": "execute_result"
    }
   ],
   "source": [
    "l1.queue"
   ]
  },
  {
   "cell_type": "code",
   "execution_count": 251,
   "id": "714c75a7",
   "metadata": {},
   "outputs": [
    {
     "data": {
      "text/plain": [
       "5"
      ]
     },
     "execution_count": 251,
     "metadata": {},
     "output_type": "execute_result"
    }
   ],
   "source": [
    "l1.size()"
   ]
  },
  {
   "cell_type": "code",
   "execution_count": 252,
   "id": "2862501a",
   "metadata": {},
   "outputs": [
    {
     "data": {
      "text/plain": [
       "False"
      ]
     },
     "execution_count": 252,
     "metadata": {},
     "output_type": "execute_result"
    }
   ],
   "source": [
    "l1.isEmpty()"
   ]
  },
  {
   "cell_type": "code",
   "execution_count": 253,
   "id": "03d5a1f3",
   "metadata": {},
   "outputs": [
    {
     "data": {
      "text/plain": [
       "[1]"
      ]
     },
     "execution_count": 253,
     "metadata": {},
     "output_type": "execute_result"
    }
   ],
   "source": [
    "# Return and remove the first element of the queue\n",
    "l1.dequeue()"
   ]
  },
  {
   "cell_type": "code",
   "execution_count": 256,
   "id": "2e41bcc2",
   "metadata": {},
   "outputs": [
    {
     "data": {
      "text/plain": [
       "[2, 3, 4, 5]"
      ]
     },
     "execution_count": 256,
     "metadata": {},
     "output_type": "execute_result"
    }
   ],
   "source": [
    "l1.queue"
   ]
  },
  {
   "cell_type": "markdown",
   "id": "bba1b1bd",
   "metadata": {},
   "source": [
    "- As seen, the first element has been removed from the list due to calling the dequeue() method."
   ]
  },
  {
   "cell_type": "code",
   "execution_count": 257,
   "id": "703e2f0b",
   "metadata": {},
   "outputs": [
    {
     "data": {
      "text/plain": [
       "[2]"
      ]
     },
     "execution_count": 257,
     "metadata": {},
     "output_type": "execute_result"
    }
   ],
   "source": [
    "l1.dequeue()"
   ]
  },
  {
   "cell_type": "code",
   "execution_count": 258,
   "id": "5a0331e8",
   "metadata": {},
   "outputs": [
    {
     "data": {
      "text/plain": [
       "[3, 4, 5]"
      ]
     },
     "execution_count": 258,
     "metadata": {},
     "output_type": "execute_result"
    }
   ],
   "source": [
    "l1.queue"
   ]
  },
  {
   "cell_type": "code",
   "execution_count": 260,
   "id": "8b305538",
   "metadata": {},
   "outputs": [
    {
     "data": {
      "text/plain": [
       "[3]"
      ]
     },
     "execution_count": 260,
     "metadata": {},
     "output_type": "execute_result"
    }
   ],
   "source": [
    "# Return the first element of the list (without removing it from the list)\n",
    "l1.front()"
   ]
  },
  {
   "cell_type": "code",
   "execution_count": 261,
   "id": "78250b7f",
   "metadata": {},
   "outputs": [
    {
     "data": {
      "text/plain": [
       "[3, 4, 5]"
      ]
     },
     "execution_count": 261,
     "metadata": {},
     "output_type": "execute_result"
    }
   ],
   "source": [
    "l1.queue"
   ]
  },
  {
   "cell_type": "code",
   "execution_count": 263,
   "id": "de7ca3a9",
   "metadata": {},
   "outputs": [
    {
     "data": {
      "text/plain": [
       "3"
      ]
     },
     "execution_count": 263,
     "metadata": {},
     "output_type": "execute_result"
    }
   ],
   "source": [
    "l1.size()"
   ]
  }
 ],
 "metadata": {
  "kernelspec": {
   "display_name": "Python 3 (ipykernel)",
   "language": "python",
   "name": "python3"
  },
  "language_info": {
   "codemirror_mode": {
    "name": "ipython",
    "version": 3
   },
   "file_extension": ".py",
   "mimetype": "text/x-python",
   "name": "python",
   "nbconvert_exporter": "python",
   "pygments_lexer": "ipython3",
   "version": "3.11.5"
  }
 },
 "nbformat": 4,
 "nbformat_minor": 5
}
