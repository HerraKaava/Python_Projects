{
 "cells": [
  {
   "cell_type": "code",
   "execution_count": 13,
   "id": "39cd8a42",
   "metadata": {},
   "outputs": [],
   "source": [
    "def flip(stack):\n",
    "    \"\"\"\n",
    "    Inverts the stack meaning the former top element moves to the bottom, \n",
    "    the second-to-top element moves to the second-to-bottom position, and so on.\n",
    "    \n",
    "    Args:\n",
    "        stack (list): The stack that to be inverted.\n",
    "        \n",
    "    Returns:\n",
    "        list: The inverted stack.\n",
    "    \"\"\"\n",
    "    n = len(stack)\n",
    "    for i in range(n // 2):\n",
    "        stack[i], stack[n-i-1] = stack[n-i-1], stack[i]\n",
    "    return stack"
   ]
  },
  {
   "cell_type": "markdown",
   "id": "87649fcb",
   "metadata": {},
   "source": [
    "Notice that if n is odd, then one does not need to change the middle-most element of the stack.\n",
    "- For example, if n=5, then the loop only needs to run two times. This can be illustrated by drawing the numbers 1, 2, 3, 4 and 5. Then swap the position of the elements 1 and 5 (first iteration), and then the position of the elements 2 and 4 (second iteration). The flip is now successful, since the middle-most element cannot be changed (it has no pair to be changed with).\n",
    "\n",
    "On the other hand, if n is even, then every element has a \"pair\", and every element will be swapped with its corresponding pair.\n",
    "- For example, if n=6, then the loop needs to run 3 times, because there are there pairs to be changed inside the loop.\n",
    "\n",
    "$\\quad \\quad \\boldsymbol{\\rightarrow}$ This is the reason why the loop iterates over the range n//2.\n",
    "- (In Python, the // operator is the floor division operator. It performs division and returns the largest whole number (integer) that is less than or equal to the result.)"
   ]
  },
  {
   "cell_type": "code",
   "execution_count": 14,
   "id": "c4c5cd39",
   "metadata": {},
   "outputs": [],
   "source": [
    "l1 = [1, 2, 3, 4, 5]"
   ]
  },
  {
   "cell_type": "code",
   "execution_count": 15,
   "id": "74f321a1",
   "metadata": {},
   "outputs": [
    {
     "data": {
      "text/plain": [
       "[5, 4, 3, 2, 1]"
      ]
     },
     "execution_count": 15,
     "metadata": {},
     "output_type": "execute_result"
    }
   ],
   "source": [
    "flip(l1)"
   ]
  }
 ],
 "metadata": {
  "kernelspec": {
   "display_name": "Python 3 (ipykernel)",
   "language": "python",
   "name": "python3"
  },
  "language_info": {
   "codemirror_mode": {
    "name": "ipython",
    "version": 3
   },
   "file_extension": ".py",
   "mimetype": "text/x-python",
   "name": "python",
   "nbconvert_exporter": "python",
   "pygments_lexer": "ipython3",
   "version": "3.11.5"
  }
 },
 "nbformat": 4,
 "nbformat_minor": 5
}
