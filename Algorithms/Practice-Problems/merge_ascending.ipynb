{
 "cells": [
  {
   "cell_type": "code",
   "execution_count": 63,
   "id": "e2728b95",
   "metadata": {},
   "outputs": [],
   "source": [
    "def merge_ascending(l1, l2):\n",
    "    \"\"\"\n",
    "    Merge two lists l1 and l2 into a new list l3 such that the elements in l3\n",
    "    are in ascending order (without using built-in sorting functions).\n",
    "\n",
    "    Args:\n",
    "        l1 (list): The first input list containing elements to be merged.\n",
    "        l2 (list): The second input list containing elements to be merged.\n",
    "\n",
    "    Returns:\n",
    "        list: A new list containing all elements from l1 and l2, arranged in\n",
    "        ascending order.\n",
    "\n",
    "    Example:\n",
    "        >>> merge_ascending([1, 3, 5], [2, 4, 6])\n",
    "        [1, 2, 3, 4, 5, 6]\n",
    "    \"\"\"\n",
    "    l3 = []          # Initialize an empty list l3  \n",
    "    l3.extend(l1)    # Add the elements of l1 to l3\n",
    "    l3.extend(l2)    # Add the elements of l2 to l3\n",
    "        \n",
    "    # Sort the elements in l3 into ascending order\n",
    "    for _ in range(len(l3)):\n",
    "        for i in range(len(l3)-1):\n",
    "            if l3[i+1] < l3[i]:\n",
    "                l3[i], l3[i+1] = l3[i+1], l3[i]\n",
    "    \n",
    "    return l3"
   ]
  },
  {
   "cell_type": "code",
   "execution_count": 65,
   "id": "708cf3d4",
   "metadata": {},
   "outputs": [],
   "source": [
    "c1 = [1, 3, 5]\n",
    "c2 = [2, 4, 6, 10, 7, 11]"
   ]
  },
  {
   "cell_type": "code",
   "execution_count": 66,
   "id": "b57db4e9",
   "metadata": {},
   "outputs": [
    {
     "data": {
      "text/plain": [
       "[1, 2, 3, 4, 5, 6, 7, 10, 11]"
      ]
     },
     "execution_count": 66,
     "metadata": {},
     "output_type": "execute_result"
    }
   ],
   "source": [
    "merge_ascending(c1, c2)"
   ]
  },
  {
   "cell_type": "code",
   "execution_count": 67,
   "id": "c3cb72cd",
   "metadata": {},
   "outputs": [],
   "source": [
    "c3 = [1, 3, 5]\n",
    "c4 = [2, 4, 6]"
   ]
  },
  {
   "cell_type": "code",
   "execution_count": 68,
   "id": "7214cd42",
   "metadata": {},
   "outputs": [
    {
     "data": {
      "text/plain": [
       "[1, 2, 3, 4, 5, 6]"
      ]
     },
     "execution_count": 68,
     "metadata": {},
     "output_type": "execute_result"
    }
   ],
   "source": [
    "merge_ascending(c3, c4)"
   ]
  },
  {
   "cell_type": "code",
   "execution_count": 71,
   "id": "f62847b2",
   "metadata": {},
   "outputs": [],
   "source": [
    "c5 = [5, 5, 5, 3, 2]\n",
    "c6 = [7, 1, 9, 10, 8, 4, 6, 10, 10]"
   ]
  },
  {
   "cell_type": "code",
   "execution_count": 72,
   "id": "dcfc83c7",
   "metadata": {},
   "outputs": [
    {
     "data": {
      "text/plain": [
       "[1, 2, 3, 4, 5, 5, 5, 6, 7, 8, 9, 10, 10, 10]"
      ]
     },
     "execution_count": 72,
     "metadata": {},
     "output_type": "execute_result"
    }
   ],
   "source": [
    "merge_ascending(c5, c6)"
   ]
  }
 ],
 "metadata": {
  "kernelspec": {
   "display_name": "Python 3 (ipykernel)",
   "language": "python",
   "name": "python3"
  },
  "language_info": {
   "codemirror_mode": {
    "name": "ipython",
    "version": 3
   },
   "file_extension": ".py",
   "mimetype": "text/x-python",
   "name": "python",
   "nbconvert_exporter": "python",
   "pygments_lexer": "ipython3",
   "version": "3.11.5"
  }
 },
 "nbformat": 4,
 "nbformat_minor": 5
}
