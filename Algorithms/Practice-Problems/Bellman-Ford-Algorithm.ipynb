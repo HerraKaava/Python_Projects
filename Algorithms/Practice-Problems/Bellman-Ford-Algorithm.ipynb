{
 "cells": [
  {
   "cell_type": "markdown",
   "id": "38e1cfa7",
   "metadata": {},
   "source": [
    "<h1 align=\"center\">Bellman-Ford Algorithm</h1>"
   ]
  },
  {
   "cell_type": "markdown",
   "id": "e85123a3",
   "metadata": {},
   "source": [
    "<br>"
   ]
  },
  {
   "cell_type": "markdown",
   "id": "df796c11",
   "metadata": {},
   "source": [
    "- Bellman-Ford is a single source shortest path algorithm that determines the shortest path between a given source vertex and every other vertex in a graph. \n",
    "\n",
    "- Bellman-Ford algorithm can be used on both weighted and unweighted graphs.\n",
    "\n",
    "- Bellman-Ford algorithm is guaranteed to find the shortest path in a graph.\n",
    "\n",
    "- The main reason one should use a Bellman-Ford algorithm over Dijkstra's algorithm (Dijkstra's algorithm is faster than Bellman-Ford algorithm) is that Bellman-Ford algorithm is capable of handling graphs with **negative edge weights.**\n",
    "\n",
    "- Note that the shortest path cannot be found if there exists a negative loop in the graph. This is because if we continue to go around the negative cycle an infinite amount of times, then the cost of the path will continue to decrese, even though the length of the path is increasing (Bellman-Ford is capable of detecting these negative loops)."
   ]
  },
  {
   "cell_type": "markdown",
   "id": "2a08da06",
   "metadata": {},
   "source": [
    "<h3 align=\"left\">The idea behind Bellman-Ford algorithm</h3>"
   ]
  },
  {
   "cell_type": "markdown",
   "id": "71035b17",
   "metadata": {},
   "source": [
    "When the algorithm begins, it assumes that the distance from the source vertex to every other vertex is infinite. Then, in each iteration, it *\"relaxes\"* the edges of the graph, meaning it examines all edges and tries to improve the current best-known distance to each vertex by considering the possibility of using a shorter path (hence it is said that Bellman-Ford algorithm is based on the **\"principle of relaxation\"**)."
   ]
  },
  {
   "cell_type": "markdown",
   "id": "1bb7e532",
   "metadata": {},
   "source": [
    "<h3 align=\"left\">Principle of Relaxation</h3>"
   ]
  },
  {
   "cell_type": "markdown",
   "id": "3d8a2f52",
   "metadata": {},
   "source": [
    "The principle of relaxation states that for a graph having **N** vertices, all the edges should be relaxes **N-1** times to compute the single source shortest path. This is of course intuitive since for any two vertices *u* and *v* in a graph, the shortest path from *u* to *v* contains at most N-1 edges.\n",
    "\n",
    "This means that in the worst-case scenario, a shortest path between any two vertices can have at most **N-1** edges, where **N** is the number of vertices. This is because a simple path in a graph with **N** vertices can have at most **N-1** edges, as it is impossible to form a closed cycle without revisiting the vertex that the cycle started from.\n",
    "\n",
    "By relaxing edges **N-1** times, the Bellman-Ford algorithm ensures that the distance estimates for all vertices have been updated to their optimal values (assuming the graph does not contain any negative weighted cycles reachable from the source vertex)."
   ]
  },
  {
   "cell_type": "markdown",
   "id": "07d0ca0d",
   "metadata": {},
   "source": [
    "<h3 align=\"left\">Detecting negative cycles</h3>"
   ]
  },
  {
   "cell_type": "markdown",
   "id": "050bf4e8",
   "metadata": {},
   "source": [
    "1. Initialize the distance from the source vertex to itself as 0 and to all other vertices as positive infinity.\n",
    "\n",
    "2. Relax all edges $\\, |V| - 1 \\,$ times, where $\\, |V| \\,$ is the number of vertices in the graph. This ensures that the shortest path to all vertives are found under normal circumstances.\n",
    "\n",
    "3. Perform one additional iteration. If any distance is updated in this extra iteration, it means that there is a negative cycle.\n",
    "\n",
    "In other words, if we relax the edges $\\, \\boldsymbol{N} \\,$ times, and there is any change in the shortest distance of any node between the $\\, \\boldsymbol{N-1th} \\,$ and $\\, \\boldsymbol{Nth} \\,$ relaxation, this means that a negative cycle exists (otherwise a negative cycle does not exist)."
   ]
  },
  {
   "cell_type": "markdown",
   "id": "ced9df94",
   "metadata": {},
   "source": [
    "<br>"
   ]
  },
  {
   "cell_type": "markdown",
   "id": "c08f43e5",
   "metadata": {},
   "source": [
    "<h3 align=\"left\">Implementation of the Bellman-Ford Algorithm</h3>"
   ]
  },
  {
   "cell_type": "markdown",
   "id": "9d1d8917",
   "metadata": {},
   "source": [
    "Note that the code was originally created and tested in PyCharm."
   ]
  },
  {
   "cell_type": "code",
   "execution_count": 16,
   "id": "780c4b2d",
   "metadata": {},
   "outputs": [],
   "source": [
    "class Graph:\n",
    "\n",
    "    def __init__(self, vertices):\n",
    "        self.V = vertices    # Number of vertices\n",
    "        self.graph = []      # A list used to store the edges of the graph.\n",
    "\n",
    "    def add_edge(self, u, v, w):\n",
    "        \"\"\"\n",
    "        Add an edge from the source vertex u to vertex v with a weight of w.\n",
    "        In Graph theory, an edge connects two vertices,\n",
    "        and the weight associated with the edge represents the cost or distance between those vertices.\n",
    "\n",
    "        Args:\n",
    "            u (int): tail of the edge\n",
    "            v (int): head of the edge.\n",
    "            w (int): Weight or cost associated with the edge.\n",
    "        \"\"\"\n",
    "        self.graph.append([u, v, w])\n",
    "\n",
    "    def print_solution(self, dist):\n",
    "        \"\"\"\n",
    "        Print the shortest distances from the source vertex to all other vertices.\n",
    "        \"\"\"\n",
    "        print(\"Vertex distance from source\")\n",
    "        for i in range(self.V):\n",
    "            print(\"{0}\\t\\t{1}\".format(i, dist[i]))\n",
    "\n",
    "    def Bellman_Ford(self, source):\n",
    "        \"\"\"\n",
    "        This function finds the shortest distances from the source vertex to all other vertices\n",
    "        using the Bellman-Ford algorithm. The function also detects negative cycles.\n",
    "\n",
    "        Args:\n",
    "            source (int): The source vertex from which to compute the shortest paths.\n",
    "        \"\"\"\n",
    "        # STEP 1:\n",
    "        # In the Bellman-Ford algorithm, the distances from the source to all other vertices are\n",
    "        # initialized as infinity.\n",
    "        dist = [float(\"Inf\")] * self.V\n",
    "        dist[source] = 0    # The distance from the source to itself is zero.\n",
    "\n",
    "        # STEP 2:\n",
    "        # Relax all edges |V| - 1 times.\n",
    "        for _ in range(self.V - 1):\n",
    "            for u, v, w in self.graph:\n",
    "                # If the distance of u plus the c(u, v) is less than the distance of v, update it.\n",
    "                if dist[u] != float(\"Inf\") and dist[u] + w < dist[v]:\n",
    "                    dist[v] = dist[u] + w\n",
    "\n",
    "        # STEP 3:\n",
    "        # Step 2 guarantees the shortest distances from the source vertex to every other vertex\n",
    "        # if the graph does not contain negative cycles.\n",
    "        # This means that after relaxing the edges |V| - 1 times,\n",
    "        # if the distances still change, there exists a negatice cycle.\n",
    "\n",
    "        for u, v, w in self.graph:\n",
    "            if dist[u] != float(\"Inf\") and dist[u] + w < dist[v]:\n",
    "                dist[v] = dist[u] + w\n",
    "                print('Graph contais a negative cycle.')\n",
    "                return\n",
    "\n",
    "        # Print all the distances\n",
    "        self.print_solution(dist)        "
   ]
  },
  {
   "cell_type": "code",
   "execution_count": 17,
   "id": "c336eafb",
   "metadata": {},
   "outputs": [],
   "source": [
    "g = Graph(7)\n",
    "g.add_edge(0, 1, 6)\n",
    "g.add_edge(0, 2, 5)\n",
    "g.add_edge(0, 3, 5)\n",
    "g.add_edge(1, 4, -1)\n",
    "g.add_edge(2, 1, -2)\n",
    "g.add_edge(2, 4, 1)\n",
    "g.add_edge(3, 2, -2)\n",
    "g.add_edge(3, 5, -1)\n",
    "g.add_edge(4, 6, 3)\n",
    "g.add_edge(5, 6, 3)"
   ]
  },
  {
   "cell_type": "code",
   "execution_count": 18,
   "id": "2ae30b3e",
   "metadata": {},
   "outputs": [
    {
     "name": "stdout",
     "output_type": "stream",
     "text": [
      "Vertex distance from source\n",
      "0\t\t0\n",
      "1\t\t1\n",
      "2\t\t3\n",
      "3\t\t5\n",
      "4\t\t0\n",
      "5\t\t4\n",
      "6\t\t3\n"
     ]
    }
   ],
   "source": [
    "g.Bellman_Ford(0)"
   ]
  }
 ],
 "metadata": {
  "kernelspec": {
   "display_name": "Python 3 (ipykernel)",
   "language": "python",
   "name": "python3"
  },
  "language_info": {
   "codemirror_mode": {
    "name": "ipython",
    "version": 3
   },
   "file_extension": ".py",
   "mimetype": "text/x-python",
   "name": "python",
   "nbconvert_exporter": "python",
   "pygments_lexer": "ipython3",
   "version": "3.11.5"
  }
 },
 "nbformat": 4,
 "nbformat_minor": 5
}
