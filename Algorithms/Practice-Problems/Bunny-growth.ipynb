{
 "cells": [
  {
   "cell_type": "markdown",
   "id": "355c09a6",
   "metadata": {},
   "source": [
    "Let's consider the population growth of two islands, A and B, based on the following information:\n",
    "\n",
    "- Island A has 100 rabbits, and the number of rabbits on the island doubles every week.\n",
    "- Island B has 10 rabbits, and the number of rabbits on the island triples every week.\n",
    "\n",
    "After how many weeks will the population of rabbits on island B surpass the population of rabbits on island A?"
   ]
  },
  {
   "cell_type": "code",
   "execution_count": 22,
   "id": "3b28529e",
   "metadata": {},
   "outputs": [],
   "source": [
    "def bunny_algo(initial_A: int, initial_B: int):\n",
    "    \"\"\"\n",
    "    Calculate the number of weeks it takes for the rabbit population on Island B to surpass\n",
    "    the population on Island A based on their initial populations and growth rates.\n",
    "\n",
    "    Parameters:\n",
    "        initial_A (int): The initial rabbit population on Island A.\n",
    "        initial_B (int): The initial rabbit population on Island B.\n",
    "\n",
    "    Returns:\n",
    "        A tuple containing the following information:\n",
    "        - The number of weeks it took for Island B's population to exceed Island A's\n",
    "        - The population of rabbits on Island A for the last week.\n",
    "        - The population of rabbits on Island B for the last week.\n",
    "    \"\"\"\n",
    "    population_A = initial_A\n",
    "    population_B = initial_B\n",
    "    growth_rate_A = 2\n",
    "    growth_rate_B = 3\n",
    "    weeks = 1\n",
    "    \n",
    "    while population_B < population_A:\n",
    "        \n",
    "        population_A *= growth_rate_A\n",
    "        population_B *= growth_rate_B\n",
    "        weeks += 1\n",
    "        \n",
    "        if population_B > population_A:\n",
    "            break\n",
    "            \n",
    "    return (weeks, population_A, population_B)"
   ]
  },
  {
   "cell_type": "code",
   "execution_count": 23,
   "id": "f2cae131",
   "metadata": {},
   "outputs": [
    {
     "data": {
      "text/plain": [
       "(7, 6400, 7290)"
      ]
     },
     "execution_count": 23,
     "metadata": {},
     "output_type": "execute_result"
    }
   ],
   "source": [
    "bunny_algo(100, 10)"
   ]
  },
  {
   "cell_type": "markdown",
   "id": "ba5b2705",
   "metadata": {},
   "source": [
    "Note that in Python, the \"*=\" operator is used for in-place multiplication and assignment, but it does not return a value that can be directly printed. The following code, for example, produces an error:"
   ]
  },
  {
   "cell_type": "code",
   "execution_count": 29,
   "id": "30d860f7",
   "metadata": {},
   "outputs": [
    {
     "ename": "SyntaxError",
     "evalue": "invalid syntax (1630826440.py, line 3)",
     "output_type": "error",
     "traceback": [
      "\u001b[0;36m  Cell \u001b[0;32mIn[29], line 3\u001b[0;36m\u001b[0m\n\u001b[0;31m    print(j *= 1)\u001b[0m\n\u001b[0m            ^\u001b[0m\n\u001b[0;31mSyntaxError\u001b[0m\u001b[0;31m:\u001b[0m invalid syntax\n"
     ]
    }
   ],
   "source": [
    "j = 2\n",
    "for i in range(1, 6):\n",
    "    print(j *= 1)"
   ]
  },
  {
   "cell_type": "markdown",
   "id": "b85c4876",
   "metadata": {},
   "source": [
    "The following code, however, works (because the printing happens after the assignment):"
   ]
  },
  {
   "cell_type": "code",
   "execution_count": 30,
   "id": "f1135543",
   "metadata": {},
   "outputs": [
    {
     "name": "stdout",
     "output_type": "stream",
     "text": [
      "2\n",
      "4\n",
      "12\n",
      "48\n",
      "240\n"
     ]
    }
   ],
   "source": [
    "j = 2\n",
    "for i in range(1, 6):\n",
    "    j *= i\n",
    "    print(j)"
   ]
  }
 ],
 "metadata": {
  "kernelspec": {
   "display_name": "Python 3 (ipykernel)",
   "language": "python",
   "name": "python3"
  },
  "language_info": {
   "codemirror_mode": {
    "name": "ipython",
    "version": 3
   },
   "file_extension": ".py",
   "mimetype": "text/x-python",
   "name": "python",
   "nbconvert_exporter": "python",
   "pygments_lexer": "ipython3",
   "version": "3.11.5"
  }
 },
 "nbformat": 4,
 "nbformat_minor": 5
}
