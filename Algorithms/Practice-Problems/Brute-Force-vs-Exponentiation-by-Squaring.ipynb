{
 "cells": [
  {
   "cell_type": "markdown",
   "id": "24dde35e",
   "metadata": {},
   "source": [
    "<h2 align=\"center\">Brute force vs. exponentiating by squaring</h2>"
   ]
  },
  {
   "cell_type": "markdown",
   "id": "4bc9fa0e",
   "metadata": {},
   "source": [
    "<br>"
   ]
  },
  {
   "cell_type": "markdown",
   "id": "d75b1499",
   "metadata": {},
   "source": [
    "Let's examine the performance of two different algorithms for solving the following problem:\n",
    "\n",
    "$$ a^n = a \\, \\cdot \\, a \\, \\cdot \\, ... \\, \\cdot \\, a. $$"
   ]
  },
  {
   "cell_type": "code",
   "execution_count": 1,
   "id": "75dd10f2",
   "metadata": {},
   "outputs": [],
   "source": [
    "import time"
   ]
  },
  {
   "cell_type": "markdown",
   "id": "002bfa12",
   "metadata": {},
   "source": [
    "<h3 align=\"left\">Brute force algorithm</h3>"
   ]
  },
  {
   "cell_type": "markdown",
   "id": "d6e9be66",
   "metadata": {},
   "source": [
    "Brute force method refers to the straightforward solution of a problem. The algorithms produced by this method are typically simple and straightforward, but not necessarily very efficient."
   ]
  },
  {
   "cell_type": "code",
   "execution_count": 10,
   "id": "f71cc552",
   "metadata": {},
   "outputs": [],
   "source": [
    "def brute_force(a, n):\n",
    "    \"\"\"\n",
    "    Calculate the product a^n using the brute force method.\n",
    "    \n",
    "    Args:\n",
    "        a (int): The base of an exponent.\n",
    "        n (int): The number of times the base is multiplied by itself.\n",
    "        \n",
    "    Returns:\n",
    "        int: The product of a^n, where a is the base and n is the exponent.\n",
    "    \"\"\"\n",
    "    # Everything to the power of zero equals 1 (except 0^0, which is undefined).\n",
    "    if n == 0:\n",
    "        return 1\n",
    "    \n",
    "    if n < 0:\n",
    "        a = 1/a\n",
    "        n = -n\n",
    "    \n",
    "    # A base of zero always returns zero (0^0 excluded)\n",
    "    if a == 0:\n",
    "        # Undefined\n",
    "        if n == 0:\n",
    "            raise ValueError(\"Undefined result, please provide valid base and exponent values.\")\n",
    "        else:\n",
    "            return 0\n",
    "    \n",
    "    # Create a helper variable that is used to store the result\n",
    "    result = 1\n",
    "    # Use a for loop to calculate the product a^n\n",
    "    for _ in range(n):\n",
    "        result *= a\n",
    "    \n",
    "    return result"
   ]
  },
  {
   "cell_type": "markdown",
   "id": "f11ed420",
   "metadata": {},
   "source": [
    "<h3 align=\"left\">Exponentiating by Squaring algorithm</h3>"
   ]
  },
  {
   "cell_type": "markdown",
   "id": "09bdd2dc",
   "metadata": {},
   "source": [
    "Exponentiation by squaring is an algorithm that allows one to compute the power $\\, a^n \\,$ more efficiently than the brute force method. The basic idea behind exponentiation by squaring is to take advantage of the fact that $\\, a^n \\,$ can be expressed differently based on whether n is even or odd:\n",
    "\n",
    "$$ a^n = \\left\\{\n",
    "\\begin{array}{ll}\n",
    "        1, & \\text{if n = 0} \\\\\n",
    "        \\frac{1}{a^n}, & \\text{if n < 0} \\\\\n",
    "        (a^{n/2})^2, & \\text{if n is even} \\\\\n",
    "        a \\cdot \\left(a^{\\frac{n-1}{2}} \\right)^2, & \\text{if n is odd}\n",
    "\\end{array}\n",
    "\\right. $$\n",
    "\n",
    "This recursive approach reduces the number of multiplications needed to compute the result."
   ]
  },
  {
   "cell_type": "code",
   "execution_count": 3,
   "id": "c8e5adc5",
   "metadata": {},
   "outputs": [],
   "source": [
    "def exp_by_squaring(a: int, n: int):\n",
    "    \"\"\"\n",
    "    Calculate the product a^n using the exponentiation by squaring method.\n",
    "    \n",
    "    Args:\n",
    "        a (int): The base of an exponent.\n",
    "        n (int): The number of times the base is multiplied by itself.\n",
    "        \n",
    "    Returns:\n",
    "        int: The product of a^n, where a is the base and n is the exponent.\n",
    "    \"\"\"\n",
    "    if n == 0:\n",
    "        return 1\n",
    "    \n",
    "    if n < 0:\n",
    "        a = 1/a\n",
    "        n = -n\n",
    "    \n",
    "    if n == 1:\n",
    "        return a\n",
    "    \n",
    "    if n == 2:\n",
    "        return a*a\n",
    "    \n",
    "    # Exponent is even\n",
    "    if n % 2 == 0:\n",
    "        exp_halved = exp_by_squaring(a, n/2)\n",
    "        result = exp_halved**2\n",
    "    \n",
    "    # Exponent is odd\n",
    "    else:\n",
    "        exp_halved = exp_by_squaring(a, (n-1)/2)\n",
    "        result = a * exp_halved**2\n",
    "    \n",
    "    return result"
   ]
  },
  {
   "cell_type": "markdown",
   "id": "a8be6b3a",
   "metadata": {},
   "source": [
    "Now, let us compare the performance of the **brute force** and **exponentiation by squaring** *algorithms*.\n",
    "\n",
    "As one would expect, the functions return the same result:"
   ]
  },
  {
   "cell_type": "code",
   "execution_count": 4,
   "id": "7e97bd22",
   "metadata": {},
   "outputs": [
    {
     "data": {
      "text/plain": [
       "True"
      ]
     },
     "execution_count": 4,
     "metadata": {},
     "output_type": "execute_result"
    }
   ],
   "source": [
    "brute_force(10, 1000) == exp_by_squaring(10, 1000)"
   ]
  },
  {
   "cell_type": "markdown",
   "id": "b81a77f5",
   "metadata": {},
   "source": [
    "However, the performance of the algorithms is not the same."
   ]
  },
  {
   "cell_type": "code",
   "execution_count": 5,
   "id": "2c8a137f",
   "metadata": {},
   "outputs": [],
   "source": [
    "def brute_force_performance(a: int, n: int):\n",
    "    \"\"\"\n",
    "    Measure the performance of the brute_force() function for calculating a^n.\n",
    "\n",
    "    Args:\n",
    "        a (int): The base of an exponent.\n",
    "        n (int): The number of times the base is multiplied by itself.\n",
    "\n",
    "    Returns:\n",
    "        str: A string indicating the execution time of the brute_force() function.\n",
    "    \"\"\"\n",
    "    # Record the start time\n",
    "    start_time = time.time()\n",
    "    \n",
    "    # Call the brute_force() function\n",
    "    brute_force(a, n)\n",
    "    \n",
    "    # Record the end time\n",
    "    end_time = time.time()\n",
    "    \n",
    "    return f'Execution time: {end_time - start_time} seconds.'"
   ]
  },
  {
   "cell_type": "code",
   "execution_count": 6,
   "id": "1a2a17a4",
   "metadata": {},
   "outputs": [],
   "source": [
    "def exp_by_squaring_performance(a:int, n: int):\n",
    "    \"\"\"\n",
    "    Measure the performance of the exp_by_squaring() function for calculating a^n.\n",
    "\n",
    "    Args:\n",
    "        a (int): The base of an exponent.\n",
    "        n (int): The number of times the base is multiplied by itself.\n",
    "\n",
    "    Returns:\n",
    "        str: A string indicating the execution time of the exp_by_squaring() function.\n",
    "    \"\"\"\n",
    "    # Record the start time\n",
    "    start_time = time.time()\n",
    "    \n",
    "    # Call the exp_by_squaring() function\n",
    "    exp_by_squaring(a, n)\n",
    "    \n",
    "    # Record the end time\n",
    "    end_time = time.time()\n",
    "    \n",
    "    return f'Execution time: {end_time - start_time} seconds.'"
   ]
  },
  {
   "cell_type": "code",
   "execution_count": 127,
   "id": "207e475b",
   "metadata": {},
   "outputs": [
    {
     "data": {
      "text/plain": [
       "'Execution time: 0.0002231597900390625 seconds.'"
      ]
     },
     "execution_count": 127,
     "metadata": {},
     "output_type": "execute_result"
    }
   ],
   "source": [
    "brute_force_performance(10, 1000)"
   ]
  },
  {
   "cell_type": "code",
   "execution_count": 125,
   "id": "cf2b7b55",
   "metadata": {},
   "outputs": [
    {
     "data": {
      "text/plain": [
       "'Execution time: 3.0040740966796875e-05 seconds.'"
      ]
     },
     "execution_count": 125,
     "metadata": {},
     "output_type": "execute_result"
    }
   ],
   "source": [
    "exp_by_squaring_performance(10, 1000)"
   ]
  },
  {
   "cell_type": "markdown",
   "id": "9e3c9dbf",
   "metadata": {},
   "source": [
    "- The brute force algorithm calculates $\\, 10^{1000} \\,$ in 0.0002231597900390625 seconds\n",
    "\n",
    "\n",
    "- The exponentiation by squaring algorithm calculates $\\, 10^{1000} \\,$ in 0.000030040740966796875 seconds."
   ]
  },
  {
   "cell_type": "code",
   "execution_count": 133,
   "id": "b2389586",
   "metadata": {},
   "outputs": [
    {
     "data": {
      "text/plain": [
       "7.428571428571429"
      ]
     },
     "execution_count": 133,
     "metadata": {},
     "output_type": "execute_result"
    }
   ],
   "source": [
    "0.0002231597900390625 / 3.0040740966796875e-05"
   ]
  },
  {
   "cell_type": "markdown",
   "id": "12b3fa41",
   "metadata": {},
   "source": [
    "- The time it took for the **brute force** algorithm to calculate $\\, 10^{1000} \\,$ was approximately **7.429** times greater than the time it took for the **exponentiation by squaring** *algorithm* to calculate the same product.\n",
    "\n",
    "- In other words, the **exponentiation by squaring** algorithm performed approximately **7.429** times faster than the **brute force** algorithm, when a=10 and n=1000."
   ]
  }
 ],
 "metadata": {
  "kernelspec": {
   "display_name": "Python 3 (ipykernel)",
   "language": "python",
   "name": "python3"
  },
  "language_info": {
   "codemirror_mode": {
    "name": "ipython",
    "version": 3
   },
   "file_extension": ".py",
   "mimetype": "text/x-python",
   "name": "python",
   "nbconvert_exporter": "python",
   "pygments_lexer": "ipython3",
   "version": "3.11.5"
  }
 },
 "nbformat": 4,
 "nbformat_minor": 5
}
