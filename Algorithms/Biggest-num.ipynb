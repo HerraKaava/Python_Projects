{
 "cells": [
  {
   "cell_type": "code",
   "execution_count": 9,
   "id": "8af6f1c4",
   "metadata": {},
   "outputs": [],
   "source": [
    "def biggest_num(l: list):\n",
    "    # Create a helper variable that keeps track of the biggest number.\n",
    "    # This can be initialized to the first number of the input list.\n",
    "    biggest = l[0]\n",
    "    for num in range(len(l)):\n",
    "        if biggest < l[num]:\n",
    "            biggest = l[num]\n",
    "    return biggest"
   ]
  },
  {
   "cell_type": "code",
   "execution_count": 10,
   "id": "2a184fb5",
   "metadata": {},
   "outputs": [],
   "source": [
    "l = [1, 4, 7, 2, 9, 7, 100]"
   ]
  },
  {
   "cell_type": "code",
   "execution_count": 11,
   "id": "51291c10",
   "metadata": {},
   "outputs": [
    {
     "data": {
      "text/plain": [
       "100"
      ]
     },
     "execution_count": 11,
     "metadata": {},
     "output_type": "execute_result"
    }
   ],
   "source": [
    "max(l)"
   ]
  },
  {
   "cell_type": "code",
   "execution_count": 12,
   "id": "abc67200",
   "metadata": {},
   "outputs": [
    {
     "data": {
      "text/plain": [
       "100"
      ]
     },
     "execution_count": 12,
     "metadata": {},
     "output_type": "execute_result"
    }
   ],
   "source": [
    "biggest_num(l)"
   ]
  }
 ],
 "metadata": {
  "kernelspec": {
   "display_name": "Python 3 (ipykernel)",
   "language": "python",
   "name": "python3"
  },
  "language_info": {
   "codemirror_mode": {
    "name": "ipython",
    "version": 3
   },
   "file_extension": ".py",
   "mimetype": "text/x-python",
   "name": "python",
   "nbconvert_exporter": "python",
   "pygments_lexer": "ipython3",
   "version": "3.11.5"
  }
 },
 "nbformat": 4,
 "nbformat_minor": 5
}
