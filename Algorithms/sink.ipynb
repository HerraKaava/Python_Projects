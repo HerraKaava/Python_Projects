{
 "cells": [
  {
   "cell_type": "markdown",
   "id": "86ace115",
   "metadata": {},
   "source": [
    "sink: moves the top element of the stack to the bottom, causing all other elements in the stack to move up by one step."
   ]
  },
  {
   "cell_type": "code",
   "execution_count": 1,
   "id": "c0a9a830",
   "metadata": {},
   "outputs": [],
   "source": [
    "def sink(stack):\n",
    "    \"\"\"\n",
    "    Perform a circular shift on the elements of the stack.\n",
    "\n",
    "    Parameters:\n",
    "        stack (list): The list representing the stack.\n",
    "\n",
    "    Returns:\n",
    "        list: The stack after the circular shift.\n",
    "\n",
    "    Example:\n",
    "    >>> stack = [1, 2, 3, 4, 5]\n",
    "    >>> sink(stack)\n",
    "    [5, 1, 2, 3, 4]\n",
    "    \"\"\"\n",
    "    if len(stack) < 2:\n",
    "        # No need to shift if the stack has 0 or 1 element\n",
    "        return stack\n",
    "\n",
    "    for i in range(len(stack)-1, 0, -1):\n",
    "        stack[i], stack[i-1] = stack[i-1], stack[i]\n",
    "    \n",
    "    return stack"
   ]
  },
  {
   "cell_type": "code",
   "execution_count": 7,
   "id": "84737324",
   "metadata": {},
   "outputs": [],
   "source": [
    "l1 = [1, 2, 3, 4, 5]\n",
    "l2 = [0, -2, -3, -4, -5, -1]"
   ]
  },
  {
   "cell_type": "code",
   "execution_count": 8,
   "id": "66287c45",
   "metadata": {},
   "outputs": [
    {
     "data": {
      "text/plain": [
       "[5, 1, 2, 3, 4]"
      ]
     },
     "execution_count": 8,
     "metadata": {},
     "output_type": "execute_result"
    }
   ],
   "source": [
    "sink(l1)"
   ]
  },
  {
   "cell_type": "code",
   "execution_count": 9,
   "id": "71659972",
   "metadata": {},
   "outputs": [
    {
     "data": {
      "text/plain": [
       "[-1, 0, -2, -3, -4, -5]"
      ]
     },
     "execution_count": 9,
     "metadata": {},
     "output_type": "execute_result"
    }
   ],
   "source": [
    "sink(l2)"
   ]
  }
 ],
 "metadata": {
  "kernelspec": {
   "display_name": "Python 3 (ipykernel)",
   "language": "python",
   "name": "python3"
  },
  "language_info": {
   "codemirror_mode": {
    "name": "ipython",
    "version": 3
   },
   "file_extension": ".py",
   "mimetype": "text/x-python",
   "name": "python",
   "nbconvert_exporter": "python",
   "pygments_lexer": "ipython3",
   "version": "3.11.5"
  }
 },
 "nbformat": 4,
 "nbformat_minor": 5
}
