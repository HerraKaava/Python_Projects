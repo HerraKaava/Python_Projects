{
 "cells": [
  {
   "cell_type": "code",
   "execution_count": 3,
   "id": "ae37e6a4",
   "metadata": {},
   "outputs": [],
   "source": [
    "import numpy as np\n",
    "import pandas as pd\n",
    "from scipy import stats\n",
    "import seaborn as sns\n",
    "import matplotlib.pyplot as plt\n",
    "from sklearn.datasets import load_iris\n",
    "from sklearn.preprocessing import StandardScaler\n",
    "from sklearn.model_selection import train_test_split\n",
    "from sklearn.metrics import confusion_matrix\n",
    "from sklearn.metrics import ConfusionMatrixDisplay\n",
    "from sklearn.decomposition import KernelPCA\n",
    "from sklearn.decomposition import PCA\n",
    "from sklearn.svm import SVC\n",
    "from sklearn.model_selection import GridSearchCV\n",
    "from sklearn.metrics import accuracy_score, confusion_matrix\n",
    "from sklearn.pipeline import Pipeline\n",
    "from sklearn.model_selection import cross_val_score\n",
    "import prince"
   ]
  },
  {
   "cell_type": "code",
   "execution_count": 2,
   "id": "d226547e",
   "metadata": {},
   "outputs": [],
   "source": [
    "import sys\n",
    "#!{sys.executable} -m pip install prince"
   ]
  },
  {
   "cell_type": "markdown",
   "id": "56e32aa4",
   "metadata": {},
   "source": [
    "<h2>Task 1</h2>"
   ]
  },
  {
   "cell_type": "code",
   "execution_count": 2,
   "id": "ff9f51fc",
   "metadata": {},
   "outputs": [],
   "source": [
    "iris = load_iris()"
   ]
  },
  {
   "cell_type": "code",
   "execution_count": 3,
   "id": "14a5abca",
   "metadata": {},
   "outputs": [],
   "source": [
    "X = pd.DataFrame(data=iris.data, columns=iris.feature_names)\n",
    "y = pd.DataFrame({'species': iris.target})"
   ]
  },
  {
   "cell_type": "code",
   "execution_count": 4,
   "id": "19e8fd3d",
   "metadata": {},
   "outputs": [
    {
     "data": {
      "text/html": [
       "<div>\n",
       "<style scoped>\n",
       "    .dataframe tbody tr th:only-of-type {\n",
       "        vertical-align: middle;\n",
       "    }\n",
       "\n",
       "    .dataframe tbody tr th {\n",
       "        vertical-align: top;\n",
       "    }\n",
       "\n",
       "    .dataframe thead th {\n",
       "        text-align: right;\n",
       "    }\n",
       "</style>\n",
       "<table border=\"1\" class=\"dataframe\">\n",
       "  <thead>\n",
       "    <tr style=\"text-align: right;\">\n",
       "      <th></th>\n",
       "      <th>sepal length (cm)</th>\n",
       "      <th>sepal width (cm)</th>\n",
       "      <th>petal length (cm)</th>\n",
       "      <th>petal width (cm)</th>\n",
       "    </tr>\n",
       "  </thead>\n",
       "  <tbody>\n",
       "    <tr>\n",
       "      <th>0</th>\n",
       "      <td>5.1</td>\n",
       "      <td>3.5</td>\n",
       "      <td>1.4</td>\n",
       "      <td>0.2</td>\n",
       "    </tr>\n",
       "    <tr>\n",
       "      <th>1</th>\n",
       "      <td>4.9</td>\n",
       "      <td>3.0</td>\n",
       "      <td>1.4</td>\n",
       "      <td>0.2</td>\n",
       "    </tr>\n",
       "    <tr>\n",
       "      <th>2</th>\n",
       "      <td>4.7</td>\n",
       "      <td>3.2</td>\n",
       "      <td>1.3</td>\n",
       "      <td>0.2</td>\n",
       "    </tr>\n",
       "    <tr>\n",
       "      <th>3</th>\n",
       "      <td>4.6</td>\n",
       "      <td>3.1</td>\n",
       "      <td>1.5</td>\n",
       "      <td>0.2</td>\n",
       "    </tr>\n",
       "    <tr>\n",
       "      <th>4</th>\n",
       "      <td>5.0</td>\n",
       "      <td>3.6</td>\n",
       "      <td>1.4</td>\n",
       "      <td>0.2</td>\n",
       "    </tr>\n",
       "  </tbody>\n",
       "</table>\n",
       "</div>"
      ],
      "text/plain": [
       "   sepal length (cm)  sepal width (cm)  petal length (cm)  petal width (cm)\n",
       "0                5.1               3.5                1.4               0.2\n",
       "1                4.9               3.0                1.4               0.2\n",
       "2                4.7               3.2                1.3               0.2\n",
       "3                4.6               3.1                1.5               0.2\n",
       "4                5.0               3.6                1.4               0.2"
      ]
     },
     "execution_count": 4,
     "metadata": {},
     "output_type": "execute_result"
    }
   ],
   "source": [
    "X.head()"
   ]
  },
  {
   "cell_type": "code",
   "execution_count": 5,
   "id": "f86578c6",
   "metadata": {},
   "outputs": [
    {
     "data": {
      "text/plain": [
       "(150, 4)"
      ]
     },
     "execution_count": 5,
     "metadata": {},
     "output_type": "execute_result"
    }
   ],
   "source": [
    "X.shape"
   ]
  },
  {
   "cell_type": "code",
   "execution_count": 6,
   "id": "6c93ff2f",
   "metadata": {},
   "outputs": [
    {
     "data": {
      "text/plain": [
       "species\n",
       "0          50\n",
       "1          50\n",
       "2          50\n",
       "Name: count, dtype: int64"
      ]
     },
     "execution_count": 6,
     "metadata": {},
     "output_type": "execute_result"
    }
   ],
   "source": [
    "y.value_counts()"
   ]
  },
  {
   "cell_type": "code",
   "execution_count": 7,
   "id": "64c0a6ed",
   "metadata": {},
   "outputs": [],
   "source": [
    "def scale_data(x):\n",
    "    \"\"\"\n",
    "    Scales the features.\n",
    "    \"\"\"\n",
    "    scaler = StandardScaler()\n",
    "    scaler.fit(x)\n",
    "    x = scaler.fit_transform(x)\n",
    "    print(f'Mean of each feature after scaling: {np.round(np.mean(x, axis=0),3)}')\n",
    "    print(f'SD of each feature after scaling: {np.std(x, axis=0)}')\n",
    "    return x"
   ]
  },
  {
   "cell_type": "code",
   "execution_count": 8,
   "id": "eb7d2097",
   "metadata": {},
   "outputs": [
    {
     "name": "stdout",
     "output_type": "stream",
     "text": [
      "Mean of each feature after scaling: [-0. -0. -0. -0.]\n",
      "SD of each feature after scaling: [1. 1. 1. 1.]\n"
     ]
    }
   ],
   "source": [
    "X = scale_data(X)"
   ]
  },
  {
   "cell_type": "code",
   "execution_count": 9,
   "id": "f681ff37",
   "metadata": {},
   "outputs": [
    {
     "data": {
      "text/plain": [
       "(array([0, 1, 2]), array([50, 50, 50]))"
      ]
     },
     "execution_count": 9,
     "metadata": {},
     "output_type": "execute_result"
    }
   ],
   "source": [
    "np.unique(y, return_counts=True)"
   ]
  },
  {
   "cell_type": "markdown",
   "id": "95fd0bde",
   "metadata": {},
   "source": [
    "<h3>Kernel PCA</h3>"
   ]
  },
  {
   "cell_type": "code",
   "execution_count": 13,
   "id": "e206147b",
   "metadata": {},
   "outputs": [],
   "source": [
    "def kernel_PCA(X, kernel, num_components=None, gamma=None, coef0=None, alpha=None):\n",
    "    \"\"\"\n",
    "    Args:\n",
    "    X_train -- the training data\n",
    "    kernel -- the kernel to be used\n",
    "    num_components -- the number of components to preserve\n",
    "    gamma -- kernel coefficient for 'rbf', 'poly', and 'sigmoid' kernels\n",
    "    coef0 -- independent term in 'poly' and 'sigmoid' kernels\n",
    "    alpha -- hyperparameter controlling the strength of ridge regression (when fit_inverse_transform=True)\n",
    "    \"\"\"\n",
    "    kpca_model = KernelPCA(n_components=num_components, kernel=kernel)\n",
    "    kpca_result = kpca_model.fit_transform(X)\n",
    "    \n",
    "    # Explained variance ratio\n",
    "    explained_variance = np.var(kpca_result, axis=0)\n",
    "    explained_variance_ratio = explained_variance / np.sum(explained_variance)\n",
    "    return {\n",
    "        'model': kpca_model,\n",
    "        'result': kpca_result,\n",
    "        'evr': explained_variance_ratio\n",
    "    }"
   ]
  },
  {
   "cell_type": "code",
   "execution_count": 21,
   "id": "b1bad03c",
   "metadata": {},
   "outputs": [],
   "source": [
    "def plot_cumulative_var_explained(kpca):\n",
    "    plt.plot(np.cumsum(kpca['evr']), color='black', zorder=2)\n",
    "    plt.xticks(np.arange(0, len(kpca['evr'])))\n",
    "    plt.grid(True, zorder=1, alpha=0.3)\n",
    "    df = pd.DataFrame({\n",
    "        'Explained variance ratio': kpca['evr'] * np.sum(kpca['evr']),\n",
    "        'Cumulative variance ratio': np.cumsum(kpca['evr'])\n",
    "    })\n",
    "    pc_names = [f'PC{+i+1}' for i in range(len(kpca['evr']))]\n",
    "    df.index = pc_names\n",
    "    return df"
   ]
  },
  {
   "cell_type": "code",
   "execution_count": 23,
   "id": "81b168dd",
   "metadata": {},
   "outputs": [
    {
     "data": {
      "text/html": [
       "<div>\n",
       "<style scoped>\n",
       "    .dataframe tbody tr th:only-of-type {\n",
       "        vertical-align: middle;\n",
       "    }\n",
       "\n",
       "    .dataframe tbody tr th {\n",
       "        vertical-align: top;\n",
       "    }\n",
       "\n",
       "    .dataframe thead th {\n",
       "        text-align: right;\n",
       "    }\n",
       "</style>\n",
       "<table border=\"1\" class=\"dataframe\">\n",
       "  <thead>\n",
       "    <tr style=\"text-align: right;\">\n",
       "      <th></th>\n",
       "      <th>Explained variance ratio</th>\n",
       "      <th>Cumulative variance ratio</th>\n",
       "    </tr>\n",
       "  </thead>\n",
       "  <tbody>\n",
       "    <tr>\n",
       "      <th>PC1</th>\n",
       "      <td>0.729624</td>\n",
       "      <td>0.729624</td>\n",
       "    </tr>\n",
       "    <tr>\n",
       "      <th>PC2</th>\n",
       "      <td>0.228508</td>\n",
       "      <td>0.958132</td>\n",
       "    </tr>\n",
       "    <tr>\n",
       "      <th>PC3</th>\n",
       "      <td>0.036689</td>\n",
       "      <td>0.994821</td>\n",
       "    </tr>\n",
       "    <tr>\n",
       "      <th>PC4</th>\n",
       "      <td>0.005179</td>\n",
       "      <td>1.000000</td>\n",
       "    </tr>\n",
       "  </tbody>\n",
       "</table>\n",
       "</div>"
      ],
      "text/plain": [
       "     Explained variance ratio  Cumulative variance ratio\n",
       "PC1                  0.729624                   0.729624\n",
       "PC2                  0.228508                   0.958132\n",
       "PC3                  0.036689                   0.994821\n",
       "PC4                  0.005179                   1.000000"
      ]
     },
     "execution_count": 23,
     "metadata": {},
     "output_type": "execute_result"
    },
    {
     "data": {
      "image/png": "[encoded data removed]",
      "text/plain": [
       "<Figure size 640x480 with 1 Axes>"
      ]
     },
     "metadata": {},
     "output_type": "display_data"
    }
   ],
   "source": [
    "plot_cumulative_var_explained(kernel_PCA(X=X, kernel='linear'))"
   ]
  },
  {
   "cell_type": "code",
   "execution_count": 30,
   "id": "f7828640",
   "metadata": {},
   "outputs": [
    {
     "data": {
      "text/html": [
       "<div>\n",
       "<style scoped>\n",
       "    .dataframe tbody tr th:only-of-type {\n",
       "        vertical-align: middle;\n",
       "    }\n",
       "\n",
       "    .dataframe tbody tr th {\n",
       "        vertical-align: top;\n",
       "    }\n",
       "\n",
       "    .dataframe thead th {\n",
       "        text-align: right;\n",
       "    }\n",
       "</style>\n",
       "<table border=\"1\" class=\"dataframe\">\n",
       "  <thead>\n",
       "    <tr style=\"text-align: right;\">\n",
       "      <th></th>\n",
       "      <th>Explained variance ratio</th>\n",
       "      <th>Cumulative variance ratio</th>\n",
       "    </tr>\n",
       "  </thead>\n",
       "  <tbody>\n",
       "    <tr>\n",
       "      <th>PC1</th>\n",
       "      <td>4.001679e-01</td>\n",
       "      <td>0.400168</td>\n",
       "    </tr>\n",
       "    <tr>\n",
       "      <th>PC2</th>\n",
       "      <td>1.814266e-01</td>\n",
       "      <td>0.581595</td>\n",
       "    </tr>\n",
       "    <tr>\n",
       "      <th>PC3</th>\n",
       "      <td>8.736522e-02</td>\n",
       "      <td>0.668960</td>\n",
       "    </tr>\n",
       "    <tr>\n",
       "      <th>PC4</th>\n",
       "      <td>7.846225e-02</td>\n",
       "      <td>0.747422</td>\n",
       "    </tr>\n",
       "    <tr>\n",
       "      <th>PC5</th>\n",
       "      <td>5.300028e-02</td>\n",
       "      <td>0.800422</td>\n",
       "    </tr>\n",
       "    <tr>\n",
       "      <th>...</th>\n",
       "      <td>...</td>\n",
       "      <td>...</td>\n",
       "    </tr>\n",
       "    <tr>\n",
       "      <th>PC144</th>\n",
       "      <td>1.523087e-09</td>\n",
       "      <td>1.000000</td>\n",
       "    </tr>\n",
       "    <tr>\n",
       "      <th>PC145</th>\n",
       "      <td>7.763664e-10</td>\n",
       "      <td>1.000000</td>\n",
       "    </tr>\n",
       "    <tr>\n",
       "      <th>PC146</th>\n",
       "      <td>5.067109e-10</td>\n",
       "      <td>1.000000</td>\n",
       "    </tr>\n",
       "    <tr>\n",
       "      <th>PC147</th>\n",
       "      <td>4.442112e-10</td>\n",
       "      <td>1.000000</td>\n",
       "    </tr>\n",
       "    <tr>\n",
       "      <th>PC148</th>\n",
       "      <td>1.298421e-10</td>\n",
       "      <td>1.000000</td>\n",
       "    </tr>\n",
       "  </tbody>\n",
       "</table>\n",
       "<p>148 rows × 2 columns</p>\n",
       "</div>"
      ],
      "text/plain": [
       "       Explained variance ratio  Cumulative variance ratio\n",
       "PC1                4.001679e-01                   0.400168\n",
       "PC2                1.814266e-01                   0.581595\n",
       "PC3                8.736522e-02                   0.668960\n",
       "PC4                7.846225e-02                   0.747422\n",
       "PC5                5.300028e-02                   0.800422\n",
       "...                         ...                        ...\n",
       "PC144              1.523087e-09                   1.000000\n",
       "PC145              7.763664e-10                   1.000000\n",
       "PC146              5.067109e-10                   1.000000\n",
       "PC147              4.442112e-10                   1.000000\n",
       "PC148              1.298421e-10                   1.000000\n",
       "\n",
       "[148 rows x 2 columns]"
      ]
     },
     "execution_count": 30,
     "metadata": {},
     "output_type": "execute_result"
    },
    {
     "data": {
      "image/png": "[encoded data removed]",
      "text/plain": [
       "<Figure size 640x480 with 1 Axes>"
      ]
     },
     "metadata": {},
     "output_type": "display_data"
    }
   ],
   "source": [
    "plot_cumulative_var_explained(kernel_PCA(X=X, kernel='rbf', num_components=None))"
   ]
  },
  {
   "cell_type": "code",
   "execution_count": 31,
   "id": "04aa6a55",
   "metadata": {},
   "outputs": [],
   "source": [
    "def pca(X):\n",
    "    pca_model = PCA(n_components=None)\n",
    "    pca_result = pca_model.fit_transform(X_train)\n",
    "    return {\n",
    "        'model': pca_model,\n",
    "        'result': pca_result,\n",
    "        'evr': pca_model.explained_variance_ratio_\n",
    "    }"
   ]
  },
  {
   "cell_type": "code",
   "execution_count": 32,
   "id": "dbc10832",
   "metadata": {},
   "outputs": [
    {
     "data": {
      "text/html": [
       "<div>\n",
       "<style scoped>\n",
       "    .dataframe tbody tr th:only-of-type {\n",
       "        vertical-align: middle;\n",
       "    }\n",
       "\n",
       "    .dataframe tbody tr th {\n",
       "        vertical-align: top;\n",
       "    }\n",
       "\n",
       "    .dataframe thead th {\n",
       "        text-align: right;\n",
       "    }\n",
       "</style>\n",
       "<table border=\"1\" class=\"dataframe\">\n",
       "  <thead>\n",
       "    <tr style=\"text-align: right;\">\n",
       "      <th></th>\n",
       "      <th>Explained variance ratio</th>\n",
       "      <th>Cumulative variance ratio</th>\n",
       "    </tr>\n",
       "  </thead>\n",
       "  <tbody>\n",
       "    <tr>\n",
       "      <th>PC1</th>\n",
       "      <td>0.729624</td>\n",
       "      <td>0.729624</td>\n",
       "    </tr>\n",
       "    <tr>\n",
       "      <th>PC2</th>\n",
       "      <td>0.228508</td>\n",
       "      <td>0.958132</td>\n",
       "    </tr>\n",
       "    <tr>\n",
       "      <th>PC3</th>\n",
       "      <td>0.036689</td>\n",
       "      <td>0.994821</td>\n",
       "    </tr>\n",
       "    <tr>\n",
       "      <th>PC4</th>\n",
       "      <td>0.005179</td>\n",
       "      <td>1.000000</td>\n",
       "    </tr>\n",
       "  </tbody>\n",
       "</table>\n",
       "</div>"
      ],
      "text/plain": [
       "     Explained variance ratio  Cumulative variance ratio\n",
       "PC1                  0.729624                   0.729624\n",
       "PC2                  0.228508                   0.958132\n",
       "PC3                  0.036689                   0.994821\n",
       "PC4                  0.005179                   1.000000"
      ]
     },
     "execution_count": 32,
     "metadata": {},
     "output_type": "execute_result"
    },
    {
     "data": {
      "image/png": "[encoded data removed]",
      "text/plain": [
       "<Figure size 640x480 with 1 Axes>"
      ]
     },
     "metadata": {},
     "output_type": "display_data"
    }
   ],
   "source": [
    "plot_cumulative_var_explained(pca(X))"
   ]
  },
  {
   "cell_type": "markdown",
   "id": "4773ab1f",
   "metadata": {},
   "source": [
    "- Notice that the when using kernel='linear' in kernel PCA, the result is the same as with normal PCA (which is a *linear* dimensionality reduction technique)."
   ]
  },
  {
   "cell_type": "markdown",
   "id": "f42ac0f5",
   "metadata": {},
   "source": [
    "<h3>Hyperparameter tuning</h3>"
   ]
  },
  {
   "cell_type": "code",
   "execution_count": 56,
   "id": "f02f9c00",
   "metadata": {},
   "outputs": [],
   "source": [
    "def optimize_clf(X, y):\n",
    "    \"\"\"\n",
    "    Notes:\n",
    "    - The double underscore __ notation (e.g., kpca__kernel) tells GridSearchCV \n",
    "      to look inside the pipeline and optimize the specified hyperparams.\n",
    "    \"\"\"\n",
    "    pipe = Pipeline([\n",
    "        ('kpca', KernelPCA()),\n",
    "        ('svc', SVC())\n",
    "    ])\n",
    "    \n",
    "    base_svm = SVC()\n",
    "    param_grid = {\n",
    "        'kpca__kernel': ['linear', 'rbf', 'poly'],    # Different kernels to try in KernelPCA\n",
    "        'kpca__gamma': [0.02,0.04,0.06,0.08,0.1],    # Kernel coefficient ('rbf', 'poly', 'sigmoid')\n",
    "        'kpca__degree': [2, 3],                       # Only used for 'poly' kernel\n",
    "        'kpca__coef0': [0.02,0.04,0.06,0.08,0.1],    # Independent term ('poly', 'sigmoid')\n",
    "        'svc__C': [0.98,1.0,1.02],                    # SVC regularization parameter\n",
    "        'svc__kernel': ['linear', 'rbf', 'poly'],     # Kernels for SVC\n",
    "        'svc__gamma': ['scale'],                      # Gamma for SVC 'rbf' and 'poly'\n",
    "        'svc__degree': [2, 3],                        # Only for SVC 'poly' kernel\n",
    "    }\n",
    "    \n",
    "    ##### Grid search with CV #####\n",
    "    grid = GridSearchCV(pipe, param_grid)\n",
    "    grid.fit(X, y)\n",
    "    \n",
    "    ##### The best performing model, its parameters, and CV score #####\n",
    "    best_model = grid.best_estimator_\n",
    "    best_params = grid.best_params_\n",
    "    best_model_cv_accuracy = grid.best_score_\n",
    "    \n",
    "    ##### Predictions #####\n",
    "    y_pred_train = best_model.predict(X)\n",
    "    \n",
    "    ##### The performance of the model #####\n",
    "    train_accuracy = accuracy_score(y_true=y, y_pred=y_pred_train)\n",
    "    \n",
    "    print(f'Training accuracy: {np.round(train_accuracy, 3)}')\n",
    "    print(f\"The best performing model's CV accuracy: {np.round(best_model_cv_accuracy, 3)}\")\n",
    "    \n",
    "    return {\n",
    "        'best_model': best_model,\n",
    "        'best_params': best_params\n",
    "    }"
   ]
  },
  {
   "cell_type": "code",
   "execution_count": 57,
   "id": "62dd68ae",
   "metadata": {},
   "outputs": [
    {
     "name": "stdout",
     "output_type": "stream",
     "text": [
      "Training accuracy: 0.98\n",
      "The best performing model's CV accuracy: 0.973\n"
     ]
    }
   ],
   "source": [
    "optimization_result = optimize_clf(X, y.values.ravel())"
   ]
  },
  {
   "cell_type": "code",
   "execution_count": 60,
   "id": "2c9d1282",
   "metadata": {},
   "outputs": [
    {
     "data": {
      "text/plain": [
       "{'kpca__coef0': 0.02,\n",
       " 'kpca__degree': 2,\n",
       " 'kpca__gamma': 0.08,\n",
       " 'kpca__kernel': 'rbf',\n",
       " 'svc__C': 1.02,\n",
       " 'svc__degree': 2,\n",
       " 'svc__gamma': 'scale',\n",
       " 'svc__kernel': 'linear'}"
      ]
     },
     "execution_count": 60,
     "metadata": {},
     "output_type": "execute_result"
    }
   ],
   "source": [
    "optimization_result['best_params']"
   ]
  },
  {
   "cell_type": "code",
   "execution_count": 23,
   "id": "b5a8c75f",
   "metadata": {},
   "outputs": [
    {
     "data": {
      "text/html": [
       "<style>#sk-container-id-1 {\n",
       "  /* Definition of color scheme common for light and dark mode */\n",
       "  --sklearn-color-text: black;\n",
       "  --sklearn-color-line: gray;\n",
       "  /* Definition of color scheme for unfitted estimators */\n",
       "  --sklearn-color-unfitted-level-0: #fff5e6;\n",
       "  --sklearn-color-unfitted-level-1: #f6e4d2;\n",
       "  --sklearn-color-unfitted-level-2: #ffe0b3;\n",
       "  --sklearn-color-unfitted-level-3: chocolate;\n",
       "  /* Definition of color scheme for fitted estimators */\n",
       "  --sklearn-color-fitted-level-0: #f0f8ff;\n",
       "  --sklearn-color-fitted-level-1: #d4ebff;\n",
       "  --sklearn-color-fitted-level-2: #b3dbfd;\n",
       "  --sklearn-color-fitted-level-3: cornflowerblue;\n",
       "\n",
       "  /* Specific color for light theme */\n",
       "  --sklearn-color-text-on-default-background: var(--sg-text-color, var(--theme-code-foreground, var(--jp-content-font-color1, black)));\n",
       "  --sklearn-color-background: var(--sg-background-color, var(--theme-background, var(--jp-layout-color0, white)));\n",
       "  --sklearn-color-border-box: var(--sg-text-color, var(--theme-code-foreground, var(--jp-content-font-color1, black)));\n",
       "  --sklearn-color-icon: #696969;\n",
       "\n",
       "  @media (prefers-color-scheme: dark) {\n",
       "    /* Redefinition of color scheme for dark theme */\n",
       "    --sklearn-color-text-on-default-background: var(--sg-text-color, var(--theme-code-foreground, var(--jp-content-font-color1, white)));\n",
       "    --sklearn-color-background: var(--sg-background-color, var(--theme-background, var(--jp-layout-color0, #111)));\n",
       "    --sklearn-color-border-box: var(--sg-text-color, var(--theme-code-foreground, var(--jp-content-font-color1, white)));\n",
       "    --sklearn-color-icon: #878787;\n",
       "  }\n",
       "}\n",
       "\n",
       "#sk-container-id-1 {\n",
       "  color: var(--sklearn-color-text);\n",
       "}\n",
       "\n",
       "#sk-container-id-1 pre {\n",
       "  padding: 0;\n",
       "}\n",
       "\n",
       "#sk-container-id-1 input.sk-hidden--visually {\n",
       "  border: 0;\n",
       "  clip: rect(1px 1px 1px 1px);\n",
       "  clip: rect(1px, 1px, 1px, 1px);\n",
       "  height: 1px;\n",
       "  margin: -1px;\n",
       "  overflow: hidden;\n",
       "  padding: 0;\n",
       "  position: absolute;\n",
       "  width: 1px;\n",
       "}\n",
       "\n",
       "#sk-container-id-1 div.sk-dashed-wrapped {\n",
       "  border: 1px dashed var(--sklearn-color-line);\n",
       "  margin: 0 0.4em 0.5em 0.4em;\n",
       "  box-sizing: border-box;\n",
       "  padding-bottom: 0.4em;\n",
       "  background-color: var(--sklearn-color-background);\n",
       "}\n",
       "\n",
       "#sk-container-id-1 div.sk-container {\n",
       "  /* jupyter's `normalize.less` sets `[hidden] { display: none; }`\n",
       "     but bootstrap.min.css set `[hidden] { display: none !important; }`\n",
       "     so we also need the `!important` here to be able to override the\n",
       "     default hidden behavior on the sphinx rendered scikit-learn.org.\n",
       "     See: https://github.com/scikit-learn/scikit-learn/issues/21755 */\n",
       "  display: inline-block !important;\n",
       "  position: relative;\n",
       "}\n",
       "\n",
       "#sk-container-id-1 div.sk-text-repr-fallback {\n",
       "  display: none;\n",
       "}\n",
       "\n",
       "div.sk-parallel-item,\n",
       "div.sk-serial,\n",
       "div.sk-item {\n",
       "  /* draw centered vertical line to link estimators */\n",
       "  background-image: linear-gradient(var(--sklearn-color-text-on-default-background), var(--sklearn-color-text-on-default-background));\n",
       "  background-size: 2px 100%;\n",
       "  background-repeat: no-repeat;\n",
       "  background-position: center center;\n",
       "}\n",
       "\n",
       "/* Parallel-specific style estimator block */\n",
       "\n",
       "#sk-container-id-1 div.sk-parallel-item::after {\n",
       "  content: \"\";\n",
       "  width: 100%;\n",
       "  border-bottom: 2px solid var(--sklearn-color-text-on-default-background);\n",
       "  flex-grow: 1;\n",
       "}\n",
       "\n",
       "#sk-container-id-1 div.sk-parallel {\n",
       "  display: flex;\n",
       "  align-items: stretch;\n",
       "  justify-content: center;\n",
       "  background-color: var(--sklearn-color-background);\n",
       "  position: relative;\n",
       "}\n",
       "\n",
       "#sk-container-id-1 div.sk-parallel-item {\n",
       "  display: flex;\n",
       "  flex-direction: column;\n",
       "}\n",
       "\n",
       "#sk-container-id-1 div.sk-parallel-item:first-child::after {\n",
       "  align-self: flex-end;\n",
       "  width: 50%;\n",
       "}\n",
       "\n",
       "#sk-container-id-1 div.sk-parallel-item:last-child::after {\n",
       "  align-self: flex-start;\n",
       "  width: 50%;\n",
       "}\n",
       "\n",
       "#sk-container-id-1 div.sk-parallel-item:only-child::after {\n",
       "  width: 0;\n",
       "}\n",
       "\n",
       "/* Serial-specific style estimator block */\n",
       "\n",
       "#sk-container-id-1 div.sk-serial {\n",
       "  display: flex;\n",
       "  flex-direction: column;\n",
       "  align-items: center;\n",
       "  background-color: var(--sklearn-color-background);\n",
       "  padding-right: 1em;\n",
       "  padding-left: 1em;\n",
       "}\n",
       "\n",
       "\n",
       "/* Toggleable style: style used for estimator/Pipeline/ColumnTransformer box that is\n",
       "clickable and can be expanded/collapsed.\n",
       "- Pipeline and ColumnTransformer use this feature and define the default style\n",
       "- Estimators will overwrite some part of the style using the `sk-estimator` class\n",
       "*/\n",
       "\n",
       "/* Pipeline and ColumnTransformer style (default) */\n",
       "\n",
       "#sk-container-id-1 div.sk-toggleable {\n",
       "  /* Default theme specific background. It is overwritten whether we have a\n",
       "  specific estimator or a Pipeline/ColumnTransformer */\n",
       "  background-color: var(--sklearn-color-background);\n",
       "}\n",
       "\n",
       "/* Toggleable label */\n",
       "#sk-container-id-1 label.sk-toggleable__label {\n",
       "  cursor: pointer;\n",
       "  display: block;\n",
       "  width: 100%;\n",
       "  margin-bottom: 0;\n",
       "  padding: 0.5em;\n",
       "  box-sizing: border-box;\n",
       "  text-align: center;\n",
       "}\n",
       "\n",
       "#sk-container-id-1 label.sk-toggleable__label-arrow:before {\n",
       "  /* Arrow on the left of the label */\n",
       "  content: \"▸\";\n",
       "  float: left;\n",
       "  margin-right: 0.25em;\n",
       "  color: var(--sklearn-color-icon);\n",
       "}\n",
       "\n",
       "#sk-container-id-1 label.sk-toggleable__label-arrow:hover:before {\n",
       "  color: var(--sklearn-color-text);\n",
       "}\n",
       "\n",
       "/* Toggleable content - dropdown */\n",
       "\n",
       "#sk-container-id-1 div.sk-toggleable__content {\n",
       "  max-height: 0;\n",
       "  max-width: 0;\n",
       "  overflow: hidden;\n",
       "  text-align: left;\n",
       "  /* unfitted */\n",
       "  background-color: var(--sklearn-color-unfitted-level-0);\n",
       "}\n",
       "\n",
       "#sk-container-id-1 div.sk-toggleable__content.fitted {\n",
       "  /* fitted */\n",
       "  background-color: var(--sklearn-color-fitted-level-0);\n",
       "}\n",
       "\n",
       "#sk-container-id-1 div.sk-toggleable__content pre {\n",
       "  margin: 0.2em;\n",
       "  border-radius: 0.25em;\n",
       "  color: var(--sklearn-color-text);\n",
       "  /* unfitted */\n",
       "  background-color: var(--sklearn-color-unfitted-level-0);\n",
       "}\n",
       "\n",
       "#sk-container-id-1 div.sk-toggleable__content.fitted pre {\n",
       "  /* unfitted */\n",
       "  background-color: var(--sklearn-color-fitted-level-0);\n",
       "}\n",
       "\n",
       "#sk-container-id-1 input.sk-toggleable__control:checked~div.sk-toggleable__content {\n",
       "  /* Expand drop-down */\n",
       "  max-height: 200px;\n",
       "  max-width: 100%;\n",
       "  overflow: auto;\n",
       "}\n",
       "\n",
       "#sk-container-id-1 input.sk-toggleable__control:checked~label.sk-toggleable__label-arrow:before {\n",
       "  content: \"▾\";\n",
       "}\n",
       "\n",
       "/* Pipeline/ColumnTransformer-specific style */\n",
       "\n",
       "#sk-container-id-1 div.sk-label input.sk-toggleable__control:checked~label.sk-toggleable__label {\n",
       "  color: var(--sklearn-color-text);\n",
       "  background-color: var(--sklearn-color-unfitted-level-2);\n",
       "}\n",
       "\n",
       "#sk-container-id-1 div.sk-label.fitted input.sk-toggleable__control:checked~label.sk-toggleable__label {\n",
       "  background-color: var(--sklearn-color-fitted-level-2);\n",
       "}\n",
       "\n",
       "/* Estimator-specific style */\n",
       "\n",
       "/* Colorize estimator box */\n",
       "#sk-container-id-1 div.sk-estimator input.sk-toggleable__control:checked~label.sk-toggleable__label {\n",
       "  /* unfitted */\n",
       "  background-color: var(--sklearn-color-unfitted-level-2);\n",
       "}\n",
       "\n",
       "#sk-container-id-1 div.sk-estimator.fitted input.sk-toggleable__control:checked~label.sk-toggleable__label {\n",
       "  /* fitted */\n",
       "  background-color: var(--sklearn-color-fitted-level-2);\n",
       "}\n",
       "\n",
       "#sk-container-id-1 div.sk-label label.sk-toggleable__label,\n",
       "#sk-container-id-1 div.sk-label label {\n",
       "  /* The background is the default theme color */\n",
       "  color: var(--sklearn-color-text-on-default-background);\n",
       "}\n",
       "\n",
       "/* On hover, darken the color of the background */\n",
       "#sk-container-id-1 div.sk-label:hover label.sk-toggleable__label {\n",
       "  color: var(--sklearn-color-text);\n",
       "  background-color: var(--sklearn-color-unfitted-level-2);\n",
       "}\n",
       "\n",
       "/* Label box, darken color on hover, fitted */\n",
       "#sk-container-id-1 div.sk-label.fitted:hover label.sk-toggleable__label.fitted {\n",
       "  color: var(--sklearn-color-text);\n",
       "  background-color: var(--sklearn-color-fitted-level-2);\n",
       "}\n",
       "\n",
       "/* Estimator label */\n",
       "\n",
       "#sk-container-id-1 div.sk-label label {\n",
       "  font-family: monospace;\n",
       "  font-weight: bold;\n",
       "  display: inline-block;\n",
       "  line-height: 1.2em;\n",
       "}\n",
       "\n",
       "#sk-container-id-1 div.sk-label-container {\n",
       "  text-align: center;\n",
       "}\n",
       "\n",
       "/* Estimator-specific */\n",
       "#sk-container-id-1 div.sk-estimator {\n",
       "  font-family: monospace;\n",
       "  border: 1px dotted var(--sklearn-color-border-box);\n",
       "  border-radius: 0.25em;\n",
       "  box-sizing: border-box;\n",
       "  margin-bottom: 0.5em;\n",
       "  /* unfitted */\n",
       "  background-color: var(--sklearn-color-unfitted-level-0);\n",
       "}\n",
       "\n",
       "#sk-container-id-1 div.sk-estimator.fitted {\n",
       "  /* fitted */\n",
       "  background-color: var(--sklearn-color-fitted-level-0);\n",
       "}\n",
       "\n",
       "/* on hover */\n",
       "#sk-container-id-1 div.sk-estimator:hover {\n",
       "  /* unfitted */\n",
       "  background-color: var(--sklearn-color-unfitted-level-2);\n",
       "}\n",
       "\n",
       "#sk-container-id-1 div.sk-estimator.fitted:hover {\n",
       "  /* fitted */\n",
       "  background-color: var(--sklearn-color-fitted-level-2);\n",
       "}\n",
       "\n",
       "/* Specification for estimator info (e.g. \"i\" and \"?\") */\n",
       "\n",
       "/* Common style for \"i\" and \"?\" */\n",
       "\n",
       ".sk-estimator-doc-link,\n",
       "a:link.sk-estimator-doc-link,\n",
       "a:visited.sk-estimator-doc-link {\n",
       "  float: right;\n",
       "  font-size: smaller;\n",
       "  line-height: 1em;\n",
       "  font-family: monospace;\n",
       "  background-color: var(--sklearn-color-background);\n",
       "  border-radius: 1em;\n",
       "  height: 1em;\n",
       "  width: 1em;\n",
       "  text-decoration: none !important;\n",
       "  margin-left: 1ex;\n",
       "  /* unfitted */\n",
       "  border: var(--sklearn-color-unfitted-level-1) 1pt solid;\n",
       "  color: var(--sklearn-color-unfitted-level-1);\n",
       "}\n",
       "\n",
       ".sk-estimator-doc-link.fitted,\n",
       "a:link.sk-estimator-doc-link.fitted,\n",
       "a:visited.sk-estimator-doc-link.fitted {\n",
       "  /* fitted */\n",
       "  border: var(--sklearn-color-fitted-level-1) 1pt solid;\n",
       "  color: var(--sklearn-color-fitted-level-1);\n",
       "}\n",
       "\n",
       "/* On hover */\n",
       "div.sk-estimator:hover .sk-estimator-doc-link:hover,\n",
       ".sk-estimator-doc-link:hover,\n",
       "div.sk-label-container:hover .sk-estimator-doc-link:hover,\n",
       ".sk-estimator-doc-link:hover {\n",
       "  /* unfitted */\n",
       "  background-color: var(--sklearn-color-unfitted-level-3);\n",
       "  color: var(--sklearn-color-background);\n",
       "  text-decoration: none;\n",
       "}\n",
       "\n",
       "div.sk-estimator.fitted:hover .sk-estimator-doc-link.fitted:hover,\n",
       ".sk-estimator-doc-link.fitted:hover,\n",
       "div.sk-label-container:hover .sk-estimator-doc-link.fitted:hover,\n",
       ".sk-estimator-doc-link.fitted:hover {\n",
       "  /* fitted */\n",
       "  background-color: var(--sklearn-color-fitted-level-3);\n",
       "  color: var(--sklearn-color-background);\n",
       "  text-decoration: none;\n",
       "}\n",
       "\n",
       "/* Span, style for the box shown on hovering the info icon */\n",
       ".sk-estimator-doc-link span {\n",
       "  display: none;\n",
       "  z-index: 9999;\n",
       "  position: relative;\n",
       "  font-weight: normal;\n",
       "  right: .2ex;\n",
       "  padding: .5ex;\n",
       "  margin: .5ex;\n",
       "  width: min-content;\n",
       "  min-width: 20ex;\n",
       "  max-width: 50ex;\n",
       "  color: var(--sklearn-color-text);\n",
       "  box-shadow: 2pt 2pt 4pt #999;\n",
       "  /* unfitted */\n",
       "  background: var(--sklearn-color-unfitted-level-0);\n",
       "  border: .5pt solid var(--sklearn-color-unfitted-level-3);\n",
       "}\n",
       "\n",
       ".sk-estimator-doc-link.fitted span {\n",
       "  /* fitted */\n",
       "  background: var(--sklearn-color-fitted-level-0);\n",
       "  border: var(--sklearn-color-fitted-level-3);\n",
       "}\n",
       "\n",
       ".sk-estimator-doc-link:hover span {\n",
       "  display: block;\n",
       "}\n",
       "\n",
       "/* \"?\"-specific style due to the `<a>` HTML tag */\n",
       "\n",
       "#sk-container-id-1 a.estimator_doc_link {\n",
       "  float: right;\n",
       "  font-size: 1rem;\n",
       "  line-height: 1em;\n",
       "  font-family: monospace;\n",
       "  background-color: var(--sklearn-color-background);\n",
       "  border-radius: 1rem;\n",
       "  height: 1rem;\n",
       "  width: 1rem;\n",
       "  text-decoration: none;\n",
       "  /* unfitted */\n",
       "  color: var(--sklearn-color-unfitted-level-1);\n",
       "  border: var(--sklearn-color-unfitted-level-1) 1pt solid;\n",
       "}\n",
       "\n",
       "#sk-container-id-1 a.estimator_doc_link.fitted {\n",
       "  /* fitted */\n",
       "  border: var(--sklearn-color-fitted-level-1) 1pt solid;\n",
       "  color: var(--sklearn-color-fitted-level-1);\n",
       "}\n",
       "\n",
       "/* On hover */\n",
       "#sk-container-id-1 a.estimator_doc_link:hover {\n",
       "  /* unfitted */\n",
       "  background-color: var(--sklearn-color-unfitted-level-3);\n",
       "  color: var(--sklearn-color-background);\n",
       "  text-decoration: none;\n",
       "}\n",
       "\n",
       "#sk-container-id-1 a.estimator_doc_link.fitted:hover {\n",
       "  /* fitted */\n",
       "  background-color: var(--sklearn-color-fitted-level-3);\n",
       "}\n",
       "</style><div id=\"sk-container-id-1\" class=\"sk-top-container\"><div class=\"sk-text-repr-fallback\"><pre>Pipeline(steps=[(&#x27;kpca&#x27;,\n",
       "                 KernelPCA(coef0=0.02, degree=2, gamma=0.08, kernel=&#x27;rbf&#x27;)),\n",
       "                (&#x27;svc&#x27;, SVC(C=1.02, degree=2, kernel=&#x27;linear&#x27;))])</pre><b>In a Jupyter environment, please rerun this cell to show the HTML representation or trust the notebook. <br />On GitHub, the HTML representation is unable to render, please try loading this page with nbviewer.org.</b></div><div class=\"sk-container\" hidden><div class=\"sk-item sk-dashed-wrapped\"><div class=\"sk-label-container\"><div class=\"sk-label fitted sk-toggleable\"><input class=\"sk-toggleable__control sk-hidden--visually\" id=\"sk-estimator-id-1\" type=\"checkbox\" ><label for=\"sk-estimator-id-1\" class=\"sk-toggleable__label fitted sk-toggleable__label-arrow fitted\">&nbsp;&nbsp;Pipeline<a class=\"sk-estimator-doc-link fitted\" rel=\"noreferrer\" target=\"_blank\" href=\"https://scikit-learn.org/1.5/modules/generated/sklearn.pipeline.Pipeline.html\">?<span>Documentation for Pipeline</span></a><span class=\"sk-estimator-doc-link fitted\">i<span>Fitted</span></span></label><div class=\"sk-toggleable__content fitted\"><pre>Pipeline(steps=[(&#x27;kpca&#x27;,\n",
       "                 KernelPCA(coef0=0.02, degree=2, gamma=0.08, kernel=&#x27;rbf&#x27;)),\n",
       "                (&#x27;svc&#x27;, SVC(C=1.02, degree=2, kernel=&#x27;linear&#x27;))])</pre></div> </div></div><div class=\"sk-serial\"><div class=\"sk-item\"><div class=\"sk-estimator fitted sk-toggleable\"><input class=\"sk-toggleable__control sk-hidden--visually\" id=\"sk-estimator-id-2\" type=\"checkbox\" ><label for=\"sk-estimator-id-2\" class=\"sk-toggleable__label fitted sk-toggleable__label-arrow fitted\">&nbsp;KernelPCA<a class=\"sk-estimator-doc-link fitted\" rel=\"noreferrer\" target=\"_blank\" href=\"https://scikit-learn.org/1.5/modules/generated/sklearn.decomposition.KernelPCA.html\">?<span>Documentation for KernelPCA</span></a></label><div class=\"sk-toggleable__content fitted\"><pre>KernelPCA(coef0=0.02, degree=2, gamma=0.08, kernel=&#x27;rbf&#x27;)</pre></div> </div></div><div class=\"sk-item\"><div class=\"sk-estimator fitted sk-toggleable\"><input class=\"sk-toggleable__control sk-hidden--visually\" id=\"sk-estimator-id-3\" type=\"checkbox\" ><label for=\"sk-estimator-id-3\" class=\"sk-toggleable__label fitted sk-toggleable__label-arrow fitted\">&nbsp;SVC<a class=\"sk-estimator-doc-link fitted\" rel=\"noreferrer\" target=\"_blank\" href=\"https://scikit-learn.org/1.5/modules/generated/sklearn.svm.SVC.html\">?<span>Documentation for SVC</span></a></label><div class=\"sk-toggleable__content fitted\"><pre>SVC(C=1.02, degree=2, kernel=&#x27;linear&#x27;)</pre></div> </div></div></div></div></div></div>"
      ],
      "text/plain": [
       "Pipeline(steps=[('kpca',\n",
       "                 KernelPCA(coef0=0.02, degree=2, gamma=0.08, kernel='rbf')),\n",
       "                ('svc', SVC(C=1.02, degree=2, kernel='linear'))])"
      ]
     },
     "execution_count": 23,
     "metadata": {},
     "output_type": "execute_result"
    }
   ],
   "source": [
    "optimization_result['best_model']"
   ]
  },
  {
   "cell_type": "code",
   "execution_count": 58,
   "id": "967e5881",
   "metadata": {},
   "outputs": [],
   "source": [
    "def SVM_w_transform(X, y, kernel_kpca, kernel_svc, gamma_kpca, gamma_svc, coef0, degree, C, num_components):\n",
    "    \"\"\"\n",
    "    n_components specifies the dimension of the space that the data is projected\n",
    "    back into after the kernel trick.\n",
    "    \"\"\"\n",
    "    ##### Kernel PCA #####\n",
    "    kpca = KernelPCA(n_components=num_components, \n",
    "                     kernel=kernel_kpca, \n",
    "                     coef0=coef0, \n",
    "                     degree=degree,\n",
    "                     gamma=gamma_kpca)\n",
    "    X_transformed = kpca.fit_transform(X) \n",
    "    \n",
    "    ##### SVM #####\n",
    "    svm = SVC(C=C, gamma=gamma_svc, kernel=kernel_svc, degree=degree)\n",
    "    svm.fit(X_transformed, y)\n",
    "    \n",
    "    y_train_preds = svm.predict(X_transformed)\n",
    "    train_accuracy = accuracy_score(y_true=y, y_pred=y_train_preds)\n",
    "    \n",
    "    print(f'##### Number of components: {i} #####')\n",
    "    print(f'Training accuracy: {np.round(train_accuracy, 3)}')\n",
    "    print(f'Mean CV score: {np.round(np.mean(cross_val_score(svm, X_transformed, y, cv=5)), 3)}')\n",
    "    print()"
   ]
  },
  {
   "cell_type": "code",
   "execution_count": 66,
   "id": "5b7873f4",
   "metadata": {
    "scrolled": false
   },
   "outputs": [
    {
     "name": "stdout",
     "output_type": "stream",
     "text": [
      "##### Number of components: 1 #####\n",
      "Training accuracy: 0.913\n",
      "Mean CV score: 0.927\n",
      "\n",
      "##### Number of components: 2 #####\n",
      "Training accuracy: 0.873\n",
      "Mean CV score: 0.873\n",
      "\n",
      "##### Number of components: 3 #####\n",
      "Training accuracy: 0.893\n",
      "Mean CV score: 0.853\n",
      "\n",
      "##### Number of components: 4 #####\n",
      "Training accuracy: 0.893\n",
      "Mean CV score: 0.86\n",
      "\n",
      "##### Number of components: 5 #####\n",
      "Training accuracy: 0.96\n",
      "Mean CV score: 0.96\n",
      "\n",
      "##### Number of components: 6 #####\n",
      "Training accuracy: 0.967\n",
      "Mean CV score: 0.96\n",
      "\n",
      "##### Number of components: 7 #####\n",
      "Training accuracy: 0.973\n",
      "Mean CV score: 0.967\n",
      "\n",
      "##### Number of components: 8 #####\n",
      "Training accuracy: 0.973\n",
      "Mean CV score: 0.967\n",
      "\n",
      "##### Number of components: 9 #####\n",
      "Training accuracy: 0.973\n",
      "Mean CV score: 0.967\n",
      "\n",
      "##### Number of components: 10 #####\n",
      "Training accuracy: 0.98\n",
      "Mean CV score: 0.967\n",
      "\n",
      "##### Number of components: 11 #####\n",
      "Training accuracy: 0.98\n",
      "Mean CV score: 0.973\n",
      "\n",
      "##### Number of components: 12 #####\n",
      "Training accuracy: 0.98\n",
      "Mean CV score: 0.973\n",
      "\n",
      "##### Number of components: 13 #####\n",
      "Training accuracy: 0.98\n",
      "Mean CV score: 0.973\n",
      "\n",
      "##### Number of components: 14 #####\n",
      "Training accuracy: 0.98\n",
      "Mean CV score: 0.973\n",
      "\n",
      "##### Number of components: 15 #####\n",
      "Training accuracy: 0.98\n",
      "Mean CV score: 0.973\n",
      "\n"
     ]
    }
   ],
   "source": [
    "for i in range(1, 16):\n",
    "    SVM_w_transform(X,\n",
    "                    y.values.ravel(),\n",
    "                    kernel_kpca='rbf',\n",
    "                    kernel_svc='linear',\n",
    "                    gamma_kpca=0.08,\n",
    "                    gamma_svc='scale',\n",
    "                    degree=3,\n",
    "                    coef0=0.02,\n",
    "                    C=1.02,\n",
    "                    num_components=i)"
   ]
  },
  {
   "cell_type": "code",
   "execution_count": 82,
   "id": "abf7f06e",
   "metadata": {},
   "outputs": [],
   "source": [
    "def plot_kpca(X, y, kernel, degree=2):\n",
    "    ##### Kernel PCA #####\n",
    "    kpca = KernelPCA(n_components=2,\n",
    "                     coef0=0.03,\n",
    "                     gamma=0.04,\n",
    "                     kernel=kernel,\n",
    "                     degree=degree)\n",
    "    X_transformed = kpca.fit_transform(X)\n",
    "    \n",
    "    ##### Plotting #####\n",
    "    palette = sns.color_palette(palette='pastel6', n_colors=len(np.unique(y)))\n",
    "    unique_labels = np.unique(y)\n",
    "    label_names = iris.target_names\n",
    "    plt.figure(figsize=(8,6), dpi=100)\n",
    "    for label in unique_labels:\n",
    "        mask = y == label\n",
    "        plt.scatter(X_transformed[mask, 0], \n",
    "                    X_transformed[mask, 1], \n",
    "                    color=palette[label],\n",
    "                    label=label_names[label])\n",
    "    \n",
    "    if kernel == 'poly':\n",
    "        plt.title(f' polynomial kernel with degree {degree}')\n",
    "    else:   \n",
    "        plt.title(f'{kernel} kernel')\n",
    "    plt.legend()"
   ]
  },
  {
   "cell_type": "code",
   "execution_count": 83,
   "id": "659a66e7",
   "metadata": {},
   "outputs": [
    {
     "data": {
      "image/png": "[encoded data removed]",
      "text/plain": [
       "<Figure size 800x600 with 1 Axes>"
      ]
     },
     "metadata": {},
     "output_type": "display_data"
    }
   ],
   "source": [
    "plot_kpca(X, y.values.ravel(), kernel='rbf')"
   ]
  },
  {
   "cell_type": "code",
   "execution_count": 84,
   "id": "143b265b",
   "metadata": {},
   "outputs": [
    {
     "data": {
      "image/png": "[encoded data removed]",
      "text/plain": [
       "<Figure size 800x600 with 1 Axes>"
      ]
     },
     "metadata": {},
     "output_type": "display_data"
    }
   ],
   "source": [
    "plot_kpca(X, y.values.ravel(), kernel='linear')"
   ]
  },
  {
   "cell_type": "code",
   "execution_count": 85,
   "id": "2b932f7f",
   "metadata": {},
   "outputs": [
    {
     "data": {
      "image/png": "[encoded data removed]",
      "text/plain": [
       "<Figure size 800x600 with 1 Axes>"
      ]
     },
     "metadata": {},
     "output_type": "display_data"
    }
   ],
   "source": [
    "plot_kpca(X, y.values.ravel(), kernel='poly')"
   ]
  },
  {
   "cell_type": "code",
   "execution_count": 86,
   "id": "99a9ffd0",
   "metadata": {},
   "outputs": [
    {
     "data": {
      "image/png": "[encoded data removed]",
      "text/plain": [
       "<Figure size 800x600 with 1 Axes>"
      ]
     },
     "metadata": {},
     "output_type": "display_data"
    }
   ],
   "source": [
    "plot_kpca(X, y.values.ravel(), kernel='poly', degree=3)"
   ]
  },
  {
   "cell_type": "code",
   "execution_count": 87,
   "id": "5de4fc59",
   "metadata": {},
   "outputs": [
    {
     "data": {
      "image/png": "[encoded data removed]",
      "text/plain": [
       "<Figure size 800x600 with 1 Axes>"
      ]
     },
     "metadata": {},
     "output_type": "display_data"
    }
   ],
   "source": [
    "plot_kpca(X, y.values.ravel(), kernel='poly', degree=4)"
   ]
  },
  {
   "cell_type": "markdown",
   "id": "a29de23e",
   "metadata": {},
   "source": [
    "<br>"
   ]
  },
  {
   "cell_type": "markdown",
   "id": "d698db00",
   "metadata": {},
   "source": [
    "<h3>Task 4</h3>"
   ]
  },
  {
   "cell_type": "code",
   "execution_count": 5,
   "id": "12266387",
   "metadata": {},
   "outputs": [],
   "source": [
    "education = pd.read_csv('/Users/herrakaava/Documents/school/monimuuttujamenetelmat/week_6/koulutus.csv')"
   ]
  },
  {
   "cell_type": "code",
   "execution_count": 6,
   "id": "1f45ee3e",
   "metadata": {},
   "outputs": [
    {
     "data": {
      "text/html": [
       "<div>\n",
       "<style scoped>\n",
       "    .dataframe tbody tr th:only-of-type {\n",
       "        vertical-align: middle;\n",
       "    }\n",
       "\n",
       "    .dataframe tbody tr th {\n",
       "        vertical-align: top;\n",
       "    }\n",
       "\n",
       "    .dataframe thead th {\n",
       "        text-align: right;\n",
       "    }\n",
       "</style>\n",
       "<table border=\"1\" class=\"dataframe\">\n",
       "  <thead>\n",
       "    <tr style=\"text-align: right;\">\n",
       "      <th></th>\n",
       "      <th>Alue</th>\n",
       "      <th>PA</th>\n",
       "      <th>TEA</th>\n",
       "      <th>KA</th>\n",
       "    </tr>\n",
       "  </thead>\n",
       "  <tbody>\n",
       "    <tr>\n",
       "      <th>0</th>\n",
       "      <td>MK01 Uusimaa</td>\n",
       "      <td>367866</td>\n",
       "      <td>495507</td>\n",
       "      <td>574890</td>\n",
       "    </tr>\n",
       "    <tr>\n",
       "      <th>1</th>\n",
       "      <td>MK02 Varsinais-Suomi</td>\n",
       "      <td>104728</td>\n",
       "      <td>174648</td>\n",
       "      <td>134188</td>\n",
       "    </tr>\n",
       "    <tr>\n",
       "      <th>2</th>\n",
       "      <td>MK04 Satakunta</td>\n",
       "      <td>51483</td>\n",
       "      <td>83221</td>\n",
       "      <td>49354</td>\n",
       "    </tr>\n",
       "    <tr>\n",
       "      <th>3</th>\n",
       "      <td>MK05 Kanta-Häme</td>\n",
       "      <td>38745</td>\n",
       "      <td>64207</td>\n",
       "      <td>42417</td>\n",
       "    </tr>\n",
       "    <tr>\n",
       "      <th>4</th>\n",
       "      <td>MK06 Pirkanmaa</td>\n",
       "      <td>102643</td>\n",
       "      <td>192172</td>\n",
       "      <td>152614</td>\n",
       "    </tr>\n",
       "  </tbody>\n",
       "</table>\n",
       "</div>"
      ],
      "text/plain": [
       "                   Alue      PA     TEA      KA\n",
       "0          MK01 Uusimaa  367866  495507  574890\n",
       "1  MK02 Varsinais-Suomi  104728  174648  134188\n",
       "2        MK04 Satakunta   51483   83221   49354\n",
       "3       MK05 Kanta-Häme   38745   64207   42417\n",
       "4        MK06 Pirkanmaa  102643  192172  152614"
      ]
     },
     "execution_count": 6,
     "metadata": {},
     "output_type": "execute_result"
    }
   ],
   "source": [
    "education.head()"
   ]
  },
  {
   "cell_type": "code",
   "execution_count": 7,
   "id": "5cf5bc9d",
   "metadata": {},
   "outputs": [
    {
     "data": {
      "text/plain": [
       "(18, 4)"
      ]
     },
     "execution_count": 7,
     "metadata": {},
     "output_type": "execute_result"
    }
   ],
   "source": [
    "education.shape"
   ]
  },
  {
   "cell_type": "code",
   "execution_count": 8,
   "id": "65aac028",
   "metadata": {},
   "outputs": [
    {
     "name": "stdout",
     "output_type": "stream",
     "text": [
      "<class 'pandas.core.frame.DataFrame'>\n",
      "RangeIndex: 18 entries, 0 to 17\n",
      "Data columns (total 4 columns):\n",
      " #   Column  Non-Null Count  Dtype \n",
      "---  ------  --------------  ----- \n",
      " 0   Alue    18 non-null     object\n",
      " 1   PA      18 non-null     int64 \n",
      " 2   TEA     18 non-null     int64 \n",
      " 3   KA      18 non-null     int64 \n",
      "dtypes: int64(3), object(1)\n",
      "memory usage: 708.0+ bytes\n"
     ]
    }
   ],
   "source": [
    "education.info()"
   ]
  },
  {
   "cell_type": "code",
   "execution_count": 9,
   "id": "a5cec3ee",
   "metadata": {},
   "outputs": [
    {
     "data": {
      "text/plain": [
       "np.False_"
      ]
     },
     "execution_count": 9,
     "metadata": {},
     "output_type": "execute_result"
    }
   ],
   "source": [
    "education.isna().any().any()"
   ]
  },
  {
   "cell_type": "code",
   "execution_count": 10,
   "id": "cf1d4d17",
   "metadata": {},
   "outputs": [
    {
     "data": {
      "text/plain": [
       "array([['MK01 Uusimaa'],\n",
       "       ['MK02 Varsinais-Suomi'],\n",
       "       ['MK04 Satakunta'],\n",
       "       ['MK05 Kanta-Häme'],\n",
       "       ['MK06 Pirkanmaa'],\n",
       "       ['MK07 Päijät-Häme'],\n",
       "       ['MK08 Kymenlaakso'],\n",
       "       ['MK09 Etelä-Karjala'],\n",
       "       ['MK10 Etelä-Savo'],\n",
       "       ['MK11 Pohjois-Savo'],\n",
       "       ['MK12 Pohjois-Karjala'],\n",
       "       ['MK13 Keski-Suomi'],\n",
       "       ['MK14 Etelä-Pohjanmaa'],\n",
       "       ['MK15 Pohjanmaa'],\n",
       "       ['MK16 Keski-Pohjanmaa'],\n",
       "       ['MK17 Pohjois-Pohjanmaa'],\n",
       "       ['MK18 Kainuu'],\n",
       "       ['MK19 Lappi']], dtype=object)"
      ]
     },
     "execution_count": 10,
     "metadata": {},
     "output_type": "execute_result"
    }
   ],
   "source": [
    "education['Alue'].values[:, np.newaxis]"
   ]
  },
  {
   "cell_type": "code",
   "execution_count": 11,
   "id": "ad736eef",
   "metadata": {},
   "outputs": [],
   "source": [
    "row_profiles = education.drop('Alue', axis=1) / np.sum(education.drop('Alue', axis=1).values, axis=1)[:, np.newaxis]\n",
    "row_profiles.index = education.loc[:, 'Alue'].values"
   ]
  },
  {
   "cell_type": "code",
   "execution_count": 12,
   "id": "f7a236f6",
   "metadata": {},
   "outputs": [],
   "source": [
    "avg_profiles = education.drop('Alue', axis=1).sum(axis=0) / np.sum(education.drop('Alue', axis=1).values.ravel())"
   ]
  },
  {
   "cell_type": "code",
   "execution_count": 13,
   "id": "1f23e148",
   "metadata": {},
   "outputs": [
    {
     "data": {
      "text/plain": [
       "PA     0.254032\n",
       "TEA    0.415490\n",
       "KA     0.330477\n",
       "dtype: float64"
      ]
     },
     "execution_count": 13,
     "metadata": {},
     "output_type": "execute_result"
    }
   ],
   "source": [
    "avg_profiles"
   ]
  },
  {
   "cell_type": "code",
   "execution_count": 14,
   "id": "4c6f1e41",
   "metadata": {},
   "outputs": [
    {
     "name": "stdout",
     "output_type": "stream",
     "text": [
      "                              PA       TEA        KA\n",
      "MK01 Uusimaa            0.255771  0.344518  0.399711\n",
      "MK02 Varsinais-Suomi    0.253233  0.422300  0.324467\n",
      "MK04 Satakunta          0.279711  0.452146  0.268144\n",
      "MK05 Kanta-Häme         0.266529  0.441683  0.291788\n",
      "MK06 Pirkanmaa          0.229406  0.429503  0.341091\n",
      "MK07 Päijät-Häme        0.284192  0.437621  0.278187\n",
      "MK08 Kymenlaakso        0.269679  0.461127  0.269195\n",
      "MK09 Etelä-Karjala      0.264857  0.450277  0.284866\n",
      "MK10 Etelä-Savo         0.272535  0.458991  0.268475\n",
      "MK11 Pohjois-Savo       0.242760  0.462941  0.294299\n",
      "MK12 Pohjois-Karjala    0.250244  0.475942  0.273814\n",
      "MK13 Keski-Suomi        0.239317  0.448385  0.312298\n",
      "MK14 Etelä-Pohjanmaa    0.270603  0.464223  0.265174\n",
      "MK15 Pohjanmaa          0.262073  0.418792  0.319135\n",
      "MK16 Keski-Pohjanmaa    0.274028  0.458890  0.267082\n",
      "MK17 Pohjois-Pohjanmaa  0.236829  0.454051  0.309120\n",
      "MK18 Kainuu             0.257848  0.482989  0.259163\n",
      "MK19 Lappi              0.243653  0.475433  0.280914\n"
     ]
    }
   ],
   "source": [
    "print(row_profiles)"
   ]
  },
  {
   "cell_type": "code",
   "execution_count": 15,
   "id": "432a54e1",
   "metadata": {},
   "outputs": [],
   "source": [
    "def v1(data, labels):\n",
    "    plt.figure(figsize=(8,6), dpi=100)\n",
    "    plt.scatter(data[:,0], data[:,1], facecolors='none', edgecolors='black')\n",
    "    plt.xlabel('Without post-primary education')\n",
    "    plt.ylabel('Secondary or vocational education')\n",
    "    for i, label in enumerate(labels):\n",
    "        plt.text(x=data[i,0]+0.0004, y=data[i,1], s=label, fontsize=8)"
   ]
  },
  {
   "cell_type": "code",
   "execution_count": 16,
   "id": "ccc643d8",
   "metadata": {},
   "outputs": [],
   "source": [
    "labels = [s.split()[-1] for s in list(education.loc[:, 'Alue'])]"
   ]
  },
  {
   "cell_type": "code",
   "execution_count": 17,
   "id": "0c171a50",
   "metadata": {},
   "outputs": [
    {
     "data": {
      "image/png": "[encoded data removed]",
      "text/plain": [
       "<Figure size 800x600 with 1 Axes>"
      ]
     },
     "metadata": {},
     "output_type": "display_data"
    }
   ],
   "source": [
    "v1(row_profiles.values, labels)"
   ]
  },
  {
   "cell_type": "code",
   "execution_count": 19,
   "id": "5d5119b7",
   "metadata": {},
   "outputs": [],
   "source": [
    "# CA using the Prince library\n",
    "ca_model = prince.CA(n_components=2)\n",
    "ca_fit = ca_model.fit(education.drop('Alue', axis=1))\n",
    "\n",
    "# The principal row coordinates\n",
    "X = ca_fit.row_coordinates(education.drop('Alue', axis=1))\n",
    "\n",
    "# The principal column coordinates\n",
    "Y = ca_fit.column_coordinates(education.drop('Alue', axis=1))"
   ]
  },
  {
   "cell_type": "code",
   "execution_count": 31,
   "id": "632e0980",
   "metadata": {},
   "outputs": [],
   "source": [
    "# The total variance (inertia) explained each principal components in the CA\n",
    "total_var = np.round(ca_fit.percentage_of_variance_, 2)"
   ]
  },
  {
   "cell_type": "code",
   "execution_count": 32,
   "id": "817edfd5",
   "metadata": {},
   "outputs": [
    {
     "data": {
      "image/png": "[encoded data removed]",
      "text/plain": [
       "<Figure size 800x600 with 1 Axes>"
      ]
     },
     "metadata": {},
     "output_type": "display_data"
    }
   ],
   "source": [
    "plt.figure(figsize=(8,6), dpi=100)\n",
    "plt.scatter(X.values[:,0], X.values[:,1], facecolors='none', edgecolors='black', zorder=3)\n",
    "for i, label in enumerate(labels):\n",
    "    plt.text(x=X.iloc[i,0]+0.004, y=X.iloc[i,1], s=label, fontsize=7)\n",
    "plt.axhline(y=0, linestyle='--', color='black', linewidth=0.6, zorder=1)\n",
    "plt.axvline(x=0, linestyle='--', color='black', linewidth=0.6, zorder=2)\n",
    "plt.xlabel(f'PC1 ({total_var[0]}%)')\n",
    "plt.ylabel(f'PC2 ({total_var[1]}%)');"
   ]
  },
  {
   "cell_type": "markdown",
   "id": "d89efed6",
   "metadata": {},
   "source": [
    "- Regions that are closer together have more similar educational profiles (i.e., the distribution of the people in terms of their educational profiles are more similar for these regions).\n",
    "\n",
    "- Conversely, regions that are farther apart have more dissimilar educational profiles.\n",
    "\n",
    "General guidelines for interpretation:\n",
    "- The origin corresponds to the average row and column profiles.\n",
    "- The (Euclidean) distance of a row point from the origin reflects the $\\chi^2$ -distance of the row profile from the average row profile (cf. p. 117). Thus, a long distance indicates that there is at least one strong association present in the associated row with some column.\n",
    "- If two row points are close to each other, then their row profiles should be similar.\n",
    "- Analogous remarks apply to column points and their distances."
   ]
  },
  {
   "cell_type": "code",
   "execution_count": 149,
   "id": "ee917317",
   "metadata": {},
   "outputs": [
    {
     "data": {
      "text/html": [
       "<div>\n",
       "<style scoped>\n",
       "    .dataframe tbody tr th:only-of-type {\n",
       "        vertical-align: middle;\n",
       "    }\n",
       "\n",
       "    .dataframe tbody tr th {\n",
       "        vertical-align: top;\n",
       "    }\n",
       "\n",
       "    .dataframe thead th {\n",
       "        text-align: right;\n",
       "    }\n",
       "</style>\n",
       "<table border=\"1\" class=\"dataframe\">\n",
       "  <thead>\n",
       "    <tr style=\"text-align: right;\">\n",
       "      <th></th>\n",
       "      <th>0</th>\n",
       "      <th>1</th>\n",
       "    </tr>\n",
       "  </thead>\n",
       "  <tbody>\n",
       "    <tr>\n",
       "      <th>0</th>\n",
       "      <td>0.162925</td>\n",
       "      <td>-0.009742</td>\n",
       "    </tr>\n",
       "    <tr>\n",
       "      <th>1</th>\n",
       "      <td>-0.014760</td>\n",
       "      <td>0.002358</td>\n",
       "    </tr>\n",
       "    <tr>\n",
       "      <th>2</th>\n",
       "      <td>-0.120778</td>\n",
       "      <td>-0.054766</td>\n",
       "    </tr>\n",
       "    <tr>\n",
       "      <th>3</th>\n",
       "      <td>-0.078237</td>\n",
       "      <td>-0.025965</td>\n",
       "    </tr>\n",
       "    <tr>\n",
       "      <th>4</th>\n",
       "      <td>0.001304</td>\n",
       "      <td>0.056560</td>\n",
       "    </tr>\n",
       "    <tr>\n",
       "      <th>5</th>\n",
       "      <td>-0.093122</td>\n",
       "      <td>-0.066042</td>\n",
       "    </tr>\n",
       "    <tr>\n",
       "      <th>6</th>\n",
       "      <td>-0.127870</td>\n",
       "      <td>-0.031455</td>\n",
       "    </tr>\n",
       "    <tr>\n",
       "      <th>7</th>\n",
       "      <td>-0.095951</td>\n",
       "      <td>-0.021498</td>\n",
       "    </tr>\n",
       "    <tr>\n",
       "      <th>8</th>\n",
       "      <td>-0.126832</td>\n",
       "      <td>-0.038058</td>\n",
       "    </tr>\n",
       "    <tr>\n",
       "      <th>9</th>\n",
       "      <td>-0.094993</td>\n",
       "      <td>0.029261</td>\n",
       "    </tr>\n",
       "    <tr>\n",
       "      <th>10</th>\n",
       "      <td>-0.135593</td>\n",
       "      <td>0.013489</td>\n",
       "    </tr>\n",
       "    <tr>\n",
       "      <th>11</th>\n",
       "      <td>-0.056341</td>\n",
       "      <td>0.035812</td>\n",
       "    </tr>\n",
       "    <tr>\n",
       "      <th>12</th>\n",
       "      <td>-0.136358</td>\n",
       "      <td>-0.033282</td>\n",
       "    </tr>\n",
       "    <tr>\n",
       "      <th>13</th>\n",
       "      <td>-0.018775</td>\n",
       "      <td>-0.017821</td>\n",
       "    </tr>\n",
       "    <tr>\n",
       "      <th>14</th>\n",
       "      <td>-0.128656</td>\n",
       "      <td>-0.041425</td>\n",
       "    </tr>\n",
       "    <tr>\n",
       "      <th>15</th>\n",
       "      <td>-0.066109</td>\n",
       "      <td>0.041875</td>\n",
       "    </tr>\n",
       "    <tr>\n",
       "      <th>16</th>\n",
       "      <td>-0.162489</td>\n",
       "      <td>-0.003040</td>\n",
       "    </tr>\n",
       "    <tr>\n",
       "      <th>17</th>\n",
       "      <td>-0.125322</td>\n",
       "      <td>0.028276</td>\n",
       "    </tr>\n",
       "  </tbody>\n",
       "</table>\n",
       "</div>"
      ],
      "text/plain": [
       "           0         1\n",
       "0   0.162925 -0.009742\n",
       "1  -0.014760  0.002358\n",
       "2  -0.120778 -0.054766\n",
       "3  -0.078237 -0.025965\n",
       "4   0.001304  0.056560\n",
       "5  -0.093122 -0.066042\n",
       "6  -0.127870 -0.031455\n",
       "7  -0.095951 -0.021498\n",
       "8  -0.126832 -0.038058\n",
       "9  -0.094993  0.029261\n",
       "10 -0.135593  0.013489\n",
       "11 -0.056341  0.035812\n",
       "12 -0.136358 -0.033282\n",
       "13 -0.018775 -0.017821\n",
       "14 -0.128656 -0.041425\n",
       "15 -0.066109  0.041875\n",
       "16 -0.162489 -0.003040\n",
       "17 -0.125322  0.028276"
      ]
     },
     "execution_count": 149,
     "metadata": {},
     "output_type": "execute_result"
    }
   ],
   "source": [
    "X"
   ]
  },
  {
   "cell_type": "code",
   "execution_count": 21,
   "id": "d15b8d5f",
   "metadata": {},
   "outputs": [
    {
     "data": {
      "text/html": [
       "<div>\n",
       "<style scoped>\n",
       "    .dataframe tbody tr th:only-of-type {\n",
       "        vertical-align: middle;\n",
       "    }\n",
       "\n",
       "    .dataframe tbody tr th {\n",
       "        vertical-align: top;\n",
       "    }\n",
       "\n",
       "    .dataframe thead th {\n",
       "        text-align: right;\n",
       "    }\n",
       "</style>\n",
       "<table border=\"1\" class=\"dataframe\">\n",
       "  <thead>\n",
       "    <tr style=\"text-align: right;\">\n",
       "      <th></th>\n",
       "      <th>0</th>\n",
       "      <th>1</th>\n",
       "    </tr>\n",
       "  </thead>\n",
       "  <tbody>\n",
       "    <tr>\n",
       "      <th>PA</th>\n",
       "      <td>-0.007027</td>\n",
       "      <td>-0.055393</td>\n",
       "    </tr>\n",
       "    <tr>\n",
       "      <th>TEA</th>\n",
       "      <td>-0.117680</td>\n",
       "      <td>0.020040</td>\n",
       "    </tr>\n",
       "    <tr>\n",
       "      <th>KA</th>\n",
       "      <td>0.153353</td>\n",
       "      <td>0.017384</td>\n",
       "    </tr>\n",
       "  </tbody>\n",
       "</table>\n",
       "</div>"
      ],
      "text/plain": [
       "            0         1\n",
       "PA  -0.007027 -0.055393\n",
       "TEA -0.117680  0.020040\n",
       "KA   0.153353  0.017384"
      ]
     },
     "execution_count": 21,
     "metadata": {},
     "output_type": "execute_result"
    }
   ],
   "source": [
    "Y"
   ]
  },
  {
   "cell_type": "code",
   "execution_count": 37,
   "id": "851fe6a9",
   "metadata": {},
   "outputs": [
    {
     "data": {
      "text/html": [
       "\n",
       "<style>\n",
       "  #altair-viz-35b9cb2341094ab8834b11d678d6090e.vega-embed {\n",
       "    width: 100%;\n",
       "    display: flex;\n",
       "  }\n",
       "\n",
       "  #altair-viz-35b9cb2341094ab8834b11d678d6090e.vega-embed details,\n",
       "  #altair-viz-35b9cb2341094ab8834b11d678d6090e.vega-embed details summary {\n",
       "    position: relative;\n",
       "  }\n",
       "</style>\n",
       "<div id=\"altair-viz-35b9cb2341094ab8834b11d678d6090e\"></div>\n",
       "<script type=\"text/javascript\">\n",
       "  var VEGA_DEBUG = (typeof VEGA_DEBUG == \"undefined\") ? {} : VEGA_DEBUG;\n",
       "  (function(spec, embedOpt){\n",
       "    let outputDiv = document.currentScript.previousElementSibling;\n",
       "    if (outputDiv.id !== \"altair-viz-35b9cb2341094ab8834b11d678d6090e\") {\n",
       "      outputDiv = document.getElementById(\"altair-viz-35b9cb2341094ab8834b11d678d6090e\");\n",
       "    }\n",
       "    const paths = {\n",
       "      \"vega\": \"https://cdn.jsdelivr.net/npm/vega@5?noext\",\n",
       "      \"vega-lib\": \"https://cdn.jsdelivr.net/npm/vega-lib?noext\",\n",
       "      \"vega-lite\": \"https://cdn.jsdelivr.net/npm/vega-lite@5.20.1?noext\",\n",
       "      \"vega-embed\": \"https://cdn.jsdelivr.net/npm/vega-embed@6?noext\",\n",
       "    };\n",
       "\n",
       "    function maybeLoadScript(lib, version) {\n",
       "      var key = `${lib.replace(\"-\", \"\")}_version`;\n",
       "      return (VEGA_DEBUG[key] == version) ?\n",
       "        Promise.resolve(paths[lib]) :\n",
       "        new Promise(function(resolve, reject) {\n",
       "          var s = document.createElement('script');\n",
       "          document.getElementsByTagName(\"head\")[0].appendChild(s);\n",
       "          s.async = true;\n",
       "          s.onload = () => {\n",
       "            VEGA_DEBUG[key] = version;\n",
       "            return resolve(paths[lib]);\n",
       "          };\n",
       "          s.onerror = () => reject(`Error loading script: ${paths[lib]}`);\n",
       "          s.src = paths[lib];\n",
       "        });\n",
       "    }\n",
       "\n",
       "    function showError(err) {\n",
       "      outputDiv.innerHTML = `<div class=\"error\" style=\"color:red;\">${err}</div>`;\n",
       "      throw err;\n",
       "    }\n",
       "\n",
       "    function displayChart(vegaEmbed) {\n",
       "      vegaEmbed(outputDiv, spec, embedOpt)\n",
       "        .catch(err => showError(`Javascript Error: ${err.message}<br>This usually means there's a typo in your chart specification. See the javascript console for the full traceback.`));\n",
       "    }\n",
       "\n",
       "    if(typeof define === \"function\" && define.amd) {\n",
       "      requirejs.config({paths});\n",
       "      require([\"vega-embed\"], displayChart, err => showError(`Error loading script: ${err.message}`));\n",
       "    } else {\n",
       "      maybeLoadScript(\"vega\", \"5\")\n",
       "        .then(() => maybeLoadScript(\"vega-lite\", \"5.20.1\"))\n",
       "        .then(() => maybeLoadScript(\"vega-embed\", \"6\"))\n",
       "        .catch(showError)\n",
       "        .then(() => displayChart(vegaEmbed));\n",
       "    }\n",
       "  })({\"config\": {\"view\": {\"continuousWidth\": 300, \"continuousHeight\": 300}}, \"layer\": [{\"data\": {\"name\": \"data-0735515ff72c213572bcb2601269c7dc\"}, \"mark\": {\"type\": \"circle\", \"size\": 50}, \"encoding\": {\"color\": {\"field\": \"variable\", \"type\": \"nominal\"}, \"tooltip\": [{\"field\": \"variable\", \"type\": \"nominal\"}, {\"field\": \"value\", \"type\": \"nominal\"}, {\"field\": \"component 0\", \"type\": \"quantitative\"}, {\"field\": \"component 1\", \"type\": \"quantitative\"}], \"x\": {\"axis\": {\"title\": \"component 0 \\u2014 92.83%\"}, \"field\": \"component 0\", \"scale\": {\"zero\": false}, \"type\": \"quantitative\"}, \"y\": {\"axis\": {\"title\": \"component 1 \\u2014 7.17%\"}, \"field\": \"component 1\", \"scale\": {\"zero\": false}, \"type\": \"quantitative\"}}, \"name\": \"view_7\"}, {\"data\": {\"name\": \"data-a7857c0dd086c3b566bcc2e6f18b1a9a\"}, \"mark\": {\"type\": \"circle\", \"size\": 50}, \"encoding\": {\"color\": {\"field\": \"variable\", \"type\": \"nominal\"}, \"tooltip\": [{\"field\": \"variable\", \"type\": \"nominal\"}, {\"field\": \"value\", \"type\": \"nominal\"}, {\"field\": \"component 0\", \"type\": \"quantitative\"}, {\"field\": \"component 1\", \"type\": \"quantitative\"}], \"x\": {\"axis\": {\"title\": \"component 0 \\u2014 92.83%\"}, \"field\": \"component 0\", \"scale\": {\"zero\": false}, \"type\": \"quantitative\"}, \"y\": {\"axis\": {\"title\": \"component 1 \\u2014 7.17%\"}, \"field\": \"component 1\", \"scale\": {\"zero\": false}, \"type\": \"quantitative\"}}}], \"params\": [{\"name\": \"param_7\", \"select\": {\"type\": \"interval\", \"encodings\": [\"x\", \"y\"]}, \"bind\": \"scales\", \"views\": [\"view_7\"]}], \"$schema\": \"https://vega.github.io/schema/vega-lite/v5.20.1.json\", \"datasets\": {\"data-0735515ff72c213572bcb2601269c7dc\": [{\"component 0\": 0.1629251151441211, \"component 1\": -0.009742086820379891, \"variable\": \"row\", \"value\": \"0\", \"label\": 0}, {\"component 0\": -0.014759924213077619, \"component 1\": 0.0023579465136116156, \"variable\": \"row\", \"value\": \"1\", \"label\": 1}, {\"component 0\": -0.12077807723249837, \"component 1\": -0.054765784926948384, \"variable\": \"row\", \"value\": \"2\", \"label\": 2}, {\"component 0\": -0.07823683698104252, \"component 1\": -0.02596539003259368, \"variable\": \"row\", \"value\": \"3\", \"label\": 3}, {\"component 0\": 0.0013037101440594445, \"component 1\": 0.056559660204701684, \"variable\": \"row\", \"value\": \"4\", \"label\": 4}, {\"component 0\": -0.0931217744270833, \"component 1\": -0.06604203543437565, \"variable\": \"row\", \"value\": \"5\", \"label\": 5}, {\"component 0\": -0.12787007576650916, \"component 1\": -0.03145547944311494, \"variable\": \"row\", \"value\": \"6\", \"label\": 6}, {\"component 0\": -0.09595110561277836, \"component 1\": -0.021498193846264183, \"variable\": \"row\", \"value\": \"7\", \"label\": 7}, {\"component 0\": -0.12683180406622155, \"component 1\": -0.03805774353700961, \"variable\": \"row\", \"value\": \"8\", \"label\": 8}, {\"component 0\": -0.09499272698654374, \"component 1\": 0.029261092553692334, \"variable\": \"row\", \"value\": \"9\", \"label\": 9}, {\"component 0\": -0.13559252511459158, \"component 1\": 0.013489085555407898, \"variable\": \"row\", \"value\": \"10\", \"label\": 10}, {\"component 0\": -0.05634072002217478, \"component 1\": 0.035811627602201114, \"variable\": \"row\", \"value\": \"11\", \"label\": 11}, {\"component 0\": -0.1363577870207881, \"component 1\": -0.033281733976823165, \"variable\": \"row\", \"value\": \"12\", \"label\": 12}, {\"component 0\": -0.01877491051580315, \"component 1\": -0.017820625125939744, \"variable\": \"row\", \"value\": \"13\", \"label\": 13}, {\"component 0\": -0.1286564016085065, \"component 1\": -0.041425473961885985, \"variable\": \"row\", \"value\": \"14\", \"label\": 14}, {\"component 0\": -0.06610903638328605, \"component 1\": 0.04187468431575947, \"variable\": \"row\", \"value\": \"15\", \"label\": 15}, {\"component 0\": -0.16248925321377633, \"component 1\": -0.0030401442818318875, \"variable\": \"row\", \"value\": \"16\", \"label\": 16}, {\"component 0\": -0.12532241831053217, \"component 1\": 0.02827647203543404, \"variable\": \"row\", \"value\": \"17\", \"label\": 17}], \"data-a7857c0dd086c3b566bcc2e6f18b1a9a\": [{\"component 0\": -0.007026772431982273, \"component 1\": -0.05539257993718396, \"variable\": \"column\", \"value\": \"PA\", \"label\": \"PA\"}, {\"component 0\": -0.11767974048802772, \"component 1\": 0.02004046321146017, \"variable\": \"column\", \"value\": \"TEA\", \"label\": \"TEA\"}, {\"component 0\": 0.1533533738054998, \"component 1\": 0.017383587253934765, \"variable\": \"column\", \"value\": \"KA\", \"label\": \"KA\"}]}}, {\"mode\": \"vega-lite\"});\n",
       "</script>"
      ],
      "text/plain": [
       "alt.LayerChart(...)"
      ]
     },
     "execution_count": 37,
     "metadata": {},
     "output_type": "execute_result"
    }
   ],
   "source": [
    "ca.plot(education.drop('Alue', axis=1))"
   ]
  },
  {
   "cell_type": "code",
   "execution_count": 36,
   "id": "6755e44f",
   "metadata": {},
   "outputs": [
    {
     "data": {
      "text/plain": [
       "0.014584584689795375"
      ]
     },
     "execution_count": 36,
     "metadata": {},
     "output_type": "execute_result"
    }
   ],
   "source": [
    "# Total intertia\n",
    "ca_fit.total_inertia_.item()"
   ]
  },
  {
   "cell_type": "markdown",
   "id": "446ae2d8",
   "metadata": {},
   "source": [
    "- The total inertia ($\\phi^2$) of the contingency table aggregates (crudely) the total deviation from independence (no association) between rows and columns.\n",
    "- A higher inertia indicates a stronger association between the row and column variables (conversely, a lower inertia indicates a weaker association).\n",
    "- The total inertia is a measure of the strength of association between the rows and columns in the contingency table.\n",
    "- In our example, the total inertia quantifies the association (variability) between the regions and the educational levels in the contingency table."
   ]
  },
  {
   "cell_type": "code",
   "execution_count": 146,
   "id": "8583fcad",
   "metadata": {},
   "outputs": [],
   "source": [
    "def f(A, data, ax):\n",
    "    row_sums = np.sum(data.drop('Alue', axis=1).values, axis=ax)[:, np.newaxis].astype(float)\n",
    "    return np.round(np.sum(A.values * row_sums), 7).item()"
   ]
  },
  {
   "cell_type": "code",
   "execution_count": 147,
   "id": "612384a1",
   "metadata": {},
   "outputs": [
    {
     "data": {
      "text/plain": [
       "-0.0"
      ]
     },
     "execution_count": 147,
     "metadata": {},
     "output_type": "execute_result"
    }
   ],
   "source": [
    "f(X, education, ax=1)"
   ]
  },
  {
   "cell_type": "code",
   "execution_count": 148,
   "id": "f9f29a0b",
   "metadata": {},
   "outputs": [
    {
     "data": {
      "text/plain": [
       "0.0"
      ]
     },
     "execution_count": 148,
     "metadata": {},
     "output_type": "execute_result"
    }
   ],
   "source": [
    "f(Y, education, ax=0)"
   ]
  }
 ],
 "metadata": {
  "kernelspec": {
   "display_name": "Python 3 (ipykernel)",
   "language": "python",
   "name": "python3"
  },
  "language_info": {
   "codemirror_mode": {
    "name": "ipython",
    "version": 3
   },
   "file_extension": ".py",
   "mimetype": "text/x-python",
   "name": "python",
   "nbconvert_exporter": "python",
   "pygments_lexer": "ipython3",
   "version": "3.12.6"
  }
 },
 "nbformat": 4,
 "nbformat_minor": 5
}
