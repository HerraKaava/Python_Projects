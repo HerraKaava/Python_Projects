{
 "cells": [
  {
   "cell_type": "markdown",
   "id": "29135cfe",
   "metadata": {},
   "source": [
    "<h1 align=\"center\">Feature Engineering and Data Preperation</h1>"
   ]
  },
  {
   "cell_type": "markdown",
   "id": "ba158205",
   "metadata": {},
   "source": [
    "<br>"
   ]
  },
  {
   "cell_type": "markdown",
   "id": "44fa586e",
   "metadata": {},
   "source": [
    "Feature engineering is the process of using domain knowledge to extract features from raw data via data mining techniques.\n",
    "\n",
    "Three general approaches include:\n",
    "- extracting information\n",
    "- combining information\n",
    "- transforming information\n",
    "\n",
    "While these all are widely used and important, at this point, i'll only talk about transforming information.\n",
    "\n",
    "**Transforming information**\n",
    "\n",
    "- Two common ways to transform information are\n",
    "    - Integer encoding\n",
    "    - One-hot encoding (dummy variables)\n",
    "    \n",
    "\n",
    "**Integer encoding**\n",
    "- With integer encoding, you can directly convert categories into intergers; 1, 2, 3,..., n.\n",
    "- Suppose you have a Country feature that contains 4 countries; Finland, Sweden, Norway and Estonia.\n",
    "- You could label them as 1, 2, 3 and 4.\n",
    "- A possible issue with integer encoding, however, is that it implies **ordering** and **relationship**, because the machine learning algorithms are not going to fully understand that in this particular case, the integers are actually representing categories.\n",
    "- Instead of thinking them as categories, the ML algorithm is going to think them as being on some sort of linear scale (a formal word for this is **ordinal variable**).\n",
    "- You may see the problem now with integer coding and non-ordinal variables (variables that do not have a meaningful order).\n",
    "- In this country example we are implying that Sweden (2) is twice the value of Finland (1), and that Estonia (4) is four times the value of Finland. That makes no sense in this particular case.\n",
    "- However, if for example you have a \"Medal\" feature, that contains 3 categories; gold, silver and bronze. Then, it definitely makes sense to use integer encoding, since these categories have a natural and meaningful order.\n",
    "\n",
    "**One-hot encoding (dummy variables)**\n",
    "- Convert each category into individual features that are either 0 or 1, based on if they are the category or not.\n",
    "- Suppose, again, that you have a Country feature that contains 4 countries; Finland, Sweden, Norway and Estonia.\n",
    "- With one-hot encoding you would create 4 different features out of this one Country feature.\n",
    "- All of the countries would represent their own feature. \n",
    "- For example, Finland feature would get a value of 1 if the category is Finland, and zero otherwise."
   ]
  },
  {
   "cell_type": "markdown",
   "id": "4bb62c95",
   "metadata": {},
   "source": [
    "<br>"
   ]
  },
  {
   "cell_type": "markdown",
   "id": "2449107b",
   "metadata": {},
   "source": [
    "<h1 align=\"center\">Outliers</h1>"
   ]
  },
  {
   "cell_type": "markdown",
   "id": "7e52a4fa",
   "metadata": {},
   "source": [
    "<br>"
   ]
  },
  {
   "cell_type": "markdown",
   "id": "adde8a3c",
   "metadata": {},
   "source": [
    "Let's create some data from a normal distribution."
   ]
  },
  {
   "cell_type": "code",
   "execution_count": 1,
   "id": "8c69adf2",
   "metadata": {},
   "outputs": [],
   "source": [
    "import numpy as np\n",
    "import pandas as pd\n",
    "import matplotlib.pyplot as plt\n",
    "import seaborn as sns"
   ]
  },
  {
   "cell_type": "code",
   "execution_count": 261,
   "id": "dc1e15aa",
   "metadata": {},
   "outputs": [],
   "source": [
    "# 100 normally distributed human ages, with a mean of 50 and a standard deviation of 13\n",
    "ages = np.random.normal(loc=50, scale=13, size=100)\n",
    "# Round the ages to have zero decimals\n",
    "ages = np.round(ages, 0)"
   ]
  },
  {
   "cell_type": "markdown",
   "id": "d5854517",
   "metadata": {},
   "source": [
    "When trying to detect outliers, a good start is to check the distribution of the data."
   ]
  },
  {
   "cell_type": "code",
   "execution_count": 262,
   "id": "91340b4f",
   "metadata": {},
   "outputs": [
    {
     "data": {
      "image/png": "[encoded data removed]",
      "text/plain": [
       "<Figure size 360x360 with 1 Axes>"
      ]
     },
     "metadata": {
      "needs_background": "light"
     },
     "output_type": "display_data"
    }
   ],
   "source": [
    "sns.displot(ages, bins=20);"
   ]
  },
  {
   "cell_type": "markdown",
   "id": "13b0d1da",
   "metadata": {},
   "source": [
    "Let's work with a real data set."
   ]
  },
  {
   "cell_type": "code",
   "execution_count": 263,
   "id": "29b522bb",
   "metadata": {},
   "outputs": [],
   "source": [
    "Housing = pd.read_csv(\"C:/Users/testi/Desktop/ML/DATA/Ames_Housing_Data.csv\")"
   ]
  },
  {
   "cell_type": "code",
   "execution_count": 264,
   "id": "ca726940",
   "metadata": {},
   "outputs": [
    {
     "data": {
      "text/plain": [
       "(2930, 81)"
      ]
     },
     "execution_count": 264,
     "metadata": {},
     "output_type": "execute_result"
    }
   ],
   "source": [
    "Housing.shape"
   ]
  },
  {
   "cell_type": "code",
   "execution_count": 265,
   "id": "ebf5ebf1",
   "metadata": {},
   "outputs": [
    {
     "data": {
      "text/html": [
       "<div>\n",
       "<style scoped>\n",
       "    .dataframe tbody tr th:only-of-type {\n",
       "        vertical-align: middle;\n",
       "    }\n",
       "\n",
       "    .dataframe tbody tr th {\n",
       "        vertical-align: top;\n",
       "    }\n",
       "\n",
       "    .dataframe thead th {\n",
       "        text-align: right;\n",
       "    }\n",
       "</style>\n",
       "<table border=\"1\" class=\"dataframe\">\n",
       "  <thead>\n",
       "    <tr style=\"text-align: right;\">\n",
       "      <th></th>\n",
       "      <th>PID</th>\n",
       "      <th>MS SubClass</th>\n",
       "      <th>MS Zoning</th>\n",
       "      <th>Lot Frontage</th>\n",
       "      <th>Lot Area</th>\n",
       "      <th>Street</th>\n",
       "      <th>Alley</th>\n",
       "      <th>Lot Shape</th>\n",
       "      <th>Land Contour</th>\n",
       "      <th>Utilities</th>\n",
       "      <th>...</th>\n",
       "      <th>Pool Area</th>\n",
       "      <th>Pool QC</th>\n",
       "      <th>Fence</th>\n",
       "      <th>Misc Feature</th>\n",
       "      <th>Misc Val</th>\n",
       "      <th>Mo Sold</th>\n",
       "      <th>Yr Sold</th>\n",
       "      <th>Sale Type</th>\n",
       "      <th>Sale Condition</th>\n",
       "      <th>SalePrice</th>\n",
       "    </tr>\n",
       "  </thead>\n",
       "  <tbody>\n",
       "    <tr>\n",
       "      <th>0</th>\n",
       "      <td>526301100</td>\n",
       "      <td>20</td>\n",
       "      <td>RL</td>\n",
       "      <td>141.0</td>\n",
       "      <td>31770</td>\n",
       "      <td>Pave</td>\n",
       "      <td>NaN</td>\n",
       "      <td>IR1</td>\n",
       "      <td>Lvl</td>\n",
       "      <td>AllPub</td>\n",
       "      <td>...</td>\n",
       "      <td>0</td>\n",
       "      <td>NaN</td>\n",
       "      <td>NaN</td>\n",
       "      <td>NaN</td>\n",
       "      <td>0</td>\n",
       "      <td>5</td>\n",
       "      <td>2010</td>\n",
       "      <td>WD</td>\n",
       "      <td>Normal</td>\n",
       "      <td>215000</td>\n",
       "    </tr>\n",
       "    <tr>\n",
       "      <th>1</th>\n",
       "      <td>526350040</td>\n",
       "      <td>20</td>\n",
       "      <td>RH</td>\n",
       "      <td>80.0</td>\n",
       "      <td>11622</td>\n",
       "      <td>Pave</td>\n",
       "      <td>NaN</td>\n",
       "      <td>Reg</td>\n",
       "      <td>Lvl</td>\n",
       "      <td>AllPub</td>\n",
       "      <td>...</td>\n",
       "      <td>0</td>\n",
       "      <td>NaN</td>\n",
       "      <td>MnPrv</td>\n",
       "      <td>NaN</td>\n",
       "      <td>0</td>\n",
       "      <td>6</td>\n",
       "      <td>2010</td>\n",
       "      <td>WD</td>\n",
       "      <td>Normal</td>\n",
       "      <td>105000</td>\n",
       "    </tr>\n",
       "    <tr>\n",
       "      <th>2</th>\n",
       "      <td>526351010</td>\n",
       "      <td>20</td>\n",
       "      <td>RL</td>\n",
       "      <td>81.0</td>\n",
       "      <td>14267</td>\n",
       "      <td>Pave</td>\n",
       "      <td>NaN</td>\n",
       "      <td>IR1</td>\n",
       "      <td>Lvl</td>\n",
       "      <td>AllPub</td>\n",
       "      <td>...</td>\n",
       "      <td>0</td>\n",
       "      <td>NaN</td>\n",
       "      <td>NaN</td>\n",
       "      <td>Gar2</td>\n",
       "      <td>12500</td>\n",
       "      <td>6</td>\n",
       "      <td>2010</td>\n",
       "      <td>WD</td>\n",
       "      <td>Normal</td>\n",
       "      <td>172000</td>\n",
       "    </tr>\n",
       "  </tbody>\n",
       "</table>\n",
       "<p>3 rows × 81 columns</p>\n",
       "</div>"
      ],
      "text/plain": [
       "         PID  MS SubClass MS Zoning  Lot Frontage  Lot Area Street Alley  \\\n",
       "0  526301100           20        RL         141.0     31770   Pave   NaN   \n",
       "1  526350040           20        RH          80.0     11622   Pave   NaN   \n",
       "2  526351010           20        RL          81.0     14267   Pave   NaN   \n",
       "\n",
       "  Lot Shape Land Contour Utilities  ... Pool Area Pool QC  Fence Misc Feature  \\\n",
       "0       IR1          Lvl    AllPub  ...         0     NaN    NaN          NaN   \n",
       "1       Reg          Lvl    AllPub  ...         0     NaN  MnPrv          NaN   \n",
       "2       IR1          Lvl    AllPub  ...         0     NaN    NaN         Gar2   \n",
       "\n",
       "  Misc Val Mo Sold Yr Sold  Sale Type  Sale Condition  SalePrice  \n",
       "0        0       5    2010        WD           Normal     215000  \n",
       "1        0       6    2010        WD           Normal     105000  \n",
       "2    12500       6    2010        WD           Normal     172000  \n",
       "\n",
       "[3 rows x 81 columns]"
      ]
     },
     "execution_count": 265,
     "metadata": {},
     "output_type": "execute_result"
    }
   ],
   "source": [
    "# SalePrice is the label (response variable).\n",
    "Housing.head(3)"
   ]
  },
  {
   "cell_type": "markdown",
   "id": "4b618a09",
   "metadata": {},
   "source": [
    "<br>"
   ]
  },
  {
   "cell_type": "markdown",
   "id": "32d47b1c",
   "metadata": {},
   "source": [
    "**Correlation between the features and the label**\n",
    "- It is generally desirable for explanatory variables to have a strong correlation with the response variable in statistical modeling, as this can improve the accuracy and predictive power of the model.\n",
    "- When an explanatory variable has a strong correlation with the response variable, it means that there is a strong relationship between the two variables, and changes in the explanatory variable are likely to result in corresponding changes in the response variable. \n",
    "- This allows the model to make more accurate predictions about the response variable based on the values of the explanatory variables. \n",
    "- Therefore, one should always check the correlations between the features and the label. \n",
    "- If an explanatory variable has no correlation with the response variable, it is unlikely to be useful in predicting or explaining the response variable, and it may be reasonable to consider dropping the variable from the model."
   ]
  },
  {
   "cell_type": "code",
   "execution_count": 266,
   "id": "1877bc23",
   "metadata": {},
   "outputs": [
    {
     "data": {
      "text/plain": [
       "SalePrice          1.000000\n",
       "Overall Qual       0.799262\n",
       "Gr Liv Area        0.706780\n",
       "Garage Cars        0.647877\n",
       "Garage Area        0.640401\n",
       "Total Bsmt SF      0.632280\n",
       "1st Flr SF         0.621676\n",
       "Year Built         0.558426\n",
       "Full Bath          0.545604\n",
       "Year Remod/Add     0.532974\n",
       "Garage Yr Blt      0.526965\n",
       "Mas Vnr Area       0.508285\n",
       "TotRms AbvGrd      0.495474\n",
       "Fireplaces         0.474558\n",
       "BsmtFin SF 1       0.432914\n",
       "Lot Frontage       0.357318\n",
       "Wood Deck SF       0.327143\n",
       "Open Porch SF      0.312951\n",
       "Half Bath          0.285056\n",
       "Bsmt Full Bath     0.276050\n",
       "2nd Flr SF         0.269373\n",
       "Lot Area           0.266549\n",
       "Bsmt Unf SF        0.182855\n",
       "Bedroom AbvGr      0.143913\n",
       "Screen Porch       0.112151\n",
       "Pool Area          0.068403\n",
       "Mo Sold            0.035259\n",
       "3Ssn Porch         0.032225\n",
       "BsmtFin SF 2       0.005891\n",
       "Misc Val          -0.015691\n",
       "Yr Sold           -0.030569\n",
       "Bsmt Half Bath    -0.035835\n",
       "Low Qual Fin SF   -0.037660\n",
       "MS SubClass       -0.085092\n",
       "Overall Cond      -0.101697\n",
       "Kitchen AbvGr     -0.119814\n",
       "Enclosed Porch    -0.128787\n",
       "PID               -0.246521\n",
       "Name: SalePrice, dtype: float64"
      ]
     },
     "execution_count": 266,
     "metadata": {},
     "output_type": "execute_result"
    }
   ],
   "source": [
    "# Check the (pearson) correlation between the features and the label\n",
    "Housing.corr()[\"SalePrice\"].sort_values(ascending=False)"
   ]
  },
  {
   "cell_type": "markdown",
   "id": "50ddb259",
   "metadata": {},
   "source": [
    "Let's plot the feature with the highest correlation (Overall Qual) with the label."
   ]
  },
  {
   "cell_type": "code",
   "execution_count": 267,
   "id": "cb0af407",
   "metadata": {},
   "outputs": [
    {
     "data": {
      "image/png": "[encoded data removed]",
      "text/plain": [
       "<Figure size 432x288 with 1 Axes>"
      ]
     },
     "metadata": {
      "needs_background": "light"
     },
     "output_type": "display_data"
    }
   ],
   "source": [
    "sns.scatterplot(x=\"Overall Qual\", y=\"SalePrice\", data=Housing);"
   ]
  },
  {
   "cell_type": "markdown",
   "id": "b46b8a06",
   "metadata": {},
   "source": [
    "- Notice how when the overall quality gets higher, the sale prices start to range more.\n",
    "- From this plot alone, however, it is not easy to tell, if there are outliers present.\n",
    "- It is worth noting, however, that three houses on quality groups 9 and 10 are selling for a really low price compared to the other houses on those groups."
   ]
  },
  {
   "cell_type": "markdown",
   "id": "ce685f8e",
   "metadata": {},
   "source": [
    "Let's plot the feature with the second highest correlation (Gr Liv Area) with the label"
   ]
  },
  {
   "cell_type": "code",
   "execution_count": 268,
   "id": "f4e5fa13",
   "metadata": {},
   "outputs": [
    {
     "data": {
      "image/png": "[encoded data removed]",
      "text/plain": [
       "<Figure size 432x288 with 1 Axes>"
      ]
     },
     "metadata": {
      "needs_background": "light"
     },
     "output_type": "display_data"
    }
   ],
   "source": [
    "sns.scatterplot(x=\"Gr Liv Area\", y=\"SalePrice\", data=Housing);"
   ]
  },
  {
   "cell_type": "markdown",
   "id": "9ed94ead",
   "metadata": {},
   "source": [
    "- We immediately see that, again, there are three houses that have a really large living area, but are being sold for a low price.\n",
    "- Let's try to use Pandas filtering to figure out if these are the same houses as in the previous plot."
   ]
  },
  {
   "cell_type": "code",
   "execution_count": 269,
   "id": "1a112137",
   "metadata": {},
   "outputs": [
    {
     "data": {
      "text/html": [
       "<div>\n",
       "<style scoped>\n",
       "    .dataframe tbody tr th:only-of-type {\n",
       "        vertical-align: middle;\n",
       "    }\n",
       "\n",
       "    .dataframe tbody tr th {\n",
       "        vertical-align: top;\n",
       "    }\n",
       "\n",
       "    .dataframe thead th {\n",
       "        text-align: right;\n",
       "    }\n",
       "</style>\n",
       "<table border=\"1\" class=\"dataframe\">\n",
       "  <thead>\n",
       "    <tr style=\"text-align: right;\">\n",
       "      <th></th>\n",
       "      <th>PID</th>\n",
       "      <th>MS SubClass</th>\n",
       "      <th>MS Zoning</th>\n",
       "      <th>Lot Frontage</th>\n",
       "      <th>Lot Area</th>\n",
       "      <th>Street</th>\n",
       "      <th>Alley</th>\n",
       "      <th>Lot Shape</th>\n",
       "      <th>Land Contour</th>\n",
       "      <th>Utilities</th>\n",
       "      <th>...</th>\n",
       "      <th>Pool Area</th>\n",
       "      <th>Pool QC</th>\n",
       "      <th>Fence</th>\n",
       "      <th>Misc Feature</th>\n",
       "      <th>Misc Val</th>\n",
       "      <th>Mo Sold</th>\n",
       "      <th>Yr Sold</th>\n",
       "      <th>Sale Type</th>\n",
       "      <th>Sale Condition</th>\n",
       "      <th>SalePrice</th>\n",
       "    </tr>\n",
       "  </thead>\n",
       "  <tbody>\n",
       "    <tr>\n",
       "      <th>1498</th>\n",
       "      <td>908154235</td>\n",
       "      <td>60</td>\n",
       "      <td>RL</td>\n",
       "      <td>313.0</td>\n",
       "      <td>63887</td>\n",
       "      <td>Pave</td>\n",
       "      <td>NaN</td>\n",
       "      <td>IR3</td>\n",
       "      <td>Bnk</td>\n",
       "      <td>AllPub</td>\n",
       "      <td>...</td>\n",
       "      <td>480</td>\n",
       "      <td>Gd</td>\n",
       "      <td>NaN</td>\n",
       "      <td>NaN</td>\n",
       "      <td>0</td>\n",
       "      <td>1</td>\n",
       "      <td>2008</td>\n",
       "      <td>New</td>\n",
       "      <td>Partial</td>\n",
       "      <td>160000</td>\n",
       "    </tr>\n",
       "    <tr>\n",
       "      <th>2180</th>\n",
       "      <td>908154195</td>\n",
       "      <td>20</td>\n",
       "      <td>RL</td>\n",
       "      <td>128.0</td>\n",
       "      <td>39290</td>\n",
       "      <td>Pave</td>\n",
       "      <td>NaN</td>\n",
       "      <td>IR1</td>\n",
       "      <td>Bnk</td>\n",
       "      <td>AllPub</td>\n",
       "      <td>...</td>\n",
       "      <td>0</td>\n",
       "      <td>NaN</td>\n",
       "      <td>NaN</td>\n",
       "      <td>Elev</td>\n",
       "      <td>17000</td>\n",
       "      <td>10</td>\n",
       "      <td>2007</td>\n",
       "      <td>New</td>\n",
       "      <td>Partial</td>\n",
       "      <td>183850</td>\n",
       "    </tr>\n",
       "    <tr>\n",
       "      <th>2181</th>\n",
       "      <td>908154205</td>\n",
       "      <td>60</td>\n",
       "      <td>RL</td>\n",
       "      <td>130.0</td>\n",
       "      <td>40094</td>\n",
       "      <td>Pave</td>\n",
       "      <td>NaN</td>\n",
       "      <td>IR1</td>\n",
       "      <td>Bnk</td>\n",
       "      <td>AllPub</td>\n",
       "      <td>...</td>\n",
       "      <td>0</td>\n",
       "      <td>NaN</td>\n",
       "      <td>NaN</td>\n",
       "      <td>NaN</td>\n",
       "      <td>0</td>\n",
       "      <td>10</td>\n",
       "      <td>2007</td>\n",
       "      <td>New</td>\n",
       "      <td>Partial</td>\n",
       "      <td>184750</td>\n",
       "    </tr>\n",
       "  </tbody>\n",
       "</table>\n",
       "<p>3 rows × 81 columns</p>\n",
       "</div>"
      ],
      "text/plain": [
       "            PID  MS SubClass MS Zoning  Lot Frontage  Lot Area Street Alley  \\\n",
       "1498  908154235           60        RL         313.0     63887   Pave   NaN   \n",
       "2180  908154195           20        RL         128.0     39290   Pave   NaN   \n",
       "2181  908154205           60        RL         130.0     40094   Pave   NaN   \n",
       "\n",
       "     Lot Shape Land Contour Utilities  ... Pool Area Pool QC Fence  \\\n",
       "1498       IR3          Bnk    AllPub  ...       480      Gd   NaN   \n",
       "2180       IR1          Bnk    AllPub  ...         0     NaN   NaN   \n",
       "2181       IR1          Bnk    AllPub  ...         0     NaN   NaN   \n",
       "\n",
       "     Misc Feature Misc Val Mo Sold Yr Sold  Sale Type  Sale Condition  \\\n",
       "1498          NaN        0       1    2008        New         Partial   \n",
       "2180         Elev    17000      10    2007        New         Partial   \n",
       "2181          NaN        0      10    2007        New         Partial   \n",
       "\n",
       "      SalePrice  \n",
       "1498     160000  \n",
       "2180     183850  \n",
       "2181     184750  \n",
       "\n",
       "[3 rows x 81 columns]"
      ]
     },
     "execution_count": 269,
     "metadata": {},
     "output_type": "execute_result"
    }
   ],
   "source": [
    "Housing[(Housing[\"Overall Qual\"] > 8) & (Housing[\"Gr Liv Area\"] > 4000) &  (Housing[\"SalePrice\"] < 300000)] "
   ]
  },
  {
   "cell_type": "markdown",
   "id": "2fe1a500",
   "metadata": {},
   "source": [
    "- When combining the information that we got from the plots on the three data points (Overall Qual > 8, Gr Liv Area > 4000, SalePrice < 300000), we get three data points.\n",
    "- Therefore, we can definitely say that the three outliers from both plots are the same houses.\n",
    "- These three high quality homes that have a really large living area are going to be a problem, if left untouched, since it is clear that these features (quality, living space) should indicate a higher sale price.\n",
    "- If they are left to the data, our model is not going to be able to generalize to the relationship of either \n",
    "    - higher quality $\\rightarrow$ higher sale price\n",
    "    - higher living area $\\rightarrow$ higher price.\n",
    "    \n",
    "It would be pretty unreasonable to go through this same procedure for each an every one of these variables, but the main point is that you should atleast do this to the features that have the highest correlation with the label. This is because the features that have the highest correlation with the label, are going to be the features that explain most of the variability of the label. Therefore, if they have outliers, it greatly impacts the whole model.\n",
    "\n",
    "Let's go ahead and remove the three data points (rows) from the data."
   ]
  },
  {
   "cell_type": "code",
   "execution_count": 270,
   "id": "f24211fc",
   "metadata": {},
   "outputs": [],
   "source": [
    "outliers = Housing[(Housing[\"Overall Qual\"] > 8) & (Housing[\"Gr Liv Area\"] > 4000) &  (Housing[\"SalePrice\"] < 300000)] "
   ]
  },
  {
   "cell_type": "code",
   "execution_count": 271,
   "id": "2afa8504",
   "metadata": {},
   "outputs": [
    {
     "data": {
      "text/plain": [
       "array([1498, 2180, 2181], dtype=int64)"
      ]
     },
     "execution_count": 271,
     "metadata": {},
     "output_type": "execute_result"
    }
   ],
   "source": [
    "outliers.index.values"
   ]
  },
  {
   "cell_type": "code",
   "execution_count": 272,
   "id": "db665d39",
   "metadata": {},
   "outputs": [
    {
     "data": {
      "text/plain": [
       "(2930, 81)"
      ]
     },
     "execution_count": 272,
     "metadata": {},
     "output_type": "execute_result"
    }
   ],
   "source": [
    "Housing.shape"
   ]
  },
  {
   "cell_type": "code",
   "execution_count": 273,
   "id": "1ba743ff",
   "metadata": {},
   "outputs": [],
   "source": [
    "Housing = Housing.drop(outliers.index.values, axis=0)"
   ]
  },
  {
   "cell_type": "code",
   "execution_count": 274,
   "id": "ede0956b",
   "metadata": {},
   "outputs": [
    {
     "data": {
      "text/plain": [
       "(2927, 81)"
      ]
     },
     "execution_count": 274,
     "metadata": {},
     "output_type": "execute_result"
    }
   ],
   "source": [
    "Housing.shape"
   ]
  },
  {
   "cell_type": "markdown",
   "id": "026cf626",
   "metadata": {},
   "source": [
    "- 3 rows has been removed from the dataframe.\n",
    "\n",
    "Let's see the plot again to confirm that the three outliers have been removed."
   ]
  },
  {
   "cell_type": "code",
   "execution_count": 275,
   "id": "1a127ccc",
   "metadata": {},
   "outputs": [
    {
     "data": {
      "image/png": "[encoded data removed]",
      "text/plain": [
       "<Figure size 432x288 with 1 Axes>"
      ]
     },
     "metadata": {
      "needs_background": "light"
     },
     "output_type": "display_data"
    }
   ],
   "source": [
    "sns.scatterplot(x=\"Gr Liv Area\", y=\"SalePrice\", data=Housing);"
   ]
  },
  {
   "cell_type": "markdown",
   "id": "2fc3f762",
   "metadata": {},
   "source": [
    "- Notice how the three outliers are gone.\n",
    "- Now we have a general trend that makes sense."
   ]
  },
  {
   "cell_type": "markdown",
   "id": "85d3317c",
   "metadata": {},
   "source": [
    "<br>"
   ]
  },
  {
   "cell_type": "markdown",
   "id": "89140c91",
   "metadata": {},
   "source": [
    "<h2 align=\"center\">Missing Data</h2>"
   ]
  },
  {
   "cell_type": "markdown",
   "id": "22c81004",
   "metadata": {},
   "source": [
    "<br>"
   ]
  },
  {
   "cell_type": "code",
   "execution_count": 276,
   "id": "dd716578",
   "metadata": {},
   "outputs": [
    {
     "data": {
      "text/plain": [
       "(2927, 81)"
      ]
     },
     "execution_count": 276,
     "metadata": {},
     "output_type": "execute_result"
    }
   ],
   "source": [
    "Housing.shape"
   ]
  },
  {
   "cell_type": "code",
   "execution_count": 277,
   "id": "79d29324",
   "metadata": {},
   "outputs": [
    {
     "data": {
      "text/html": [
       "<div>\n",
       "<style scoped>\n",
       "    .dataframe tbody tr th:only-of-type {\n",
       "        vertical-align: middle;\n",
       "    }\n",
       "\n",
       "    .dataframe tbody tr th {\n",
       "        vertical-align: top;\n",
       "    }\n",
       "\n",
       "    .dataframe thead th {\n",
       "        text-align: right;\n",
       "    }\n",
       "</style>\n",
       "<table border=\"1\" class=\"dataframe\">\n",
       "  <thead>\n",
       "    <tr style=\"text-align: right;\">\n",
       "      <th></th>\n",
       "      <th>PID</th>\n",
       "      <th>MS SubClass</th>\n",
       "      <th>MS Zoning</th>\n",
       "      <th>Lot Frontage</th>\n",
       "      <th>Lot Area</th>\n",
       "      <th>Street</th>\n",
       "      <th>Alley</th>\n",
       "      <th>Lot Shape</th>\n",
       "      <th>Land Contour</th>\n",
       "      <th>Utilities</th>\n",
       "      <th>...</th>\n",
       "      <th>Pool Area</th>\n",
       "      <th>Pool QC</th>\n",
       "      <th>Fence</th>\n",
       "      <th>Misc Feature</th>\n",
       "      <th>Misc Val</th>\n",
       "      <th>Mo Sold</th>\n",
       "      <th>Yr Sold</th>\n",
       "      <th>Sale Type</th>\n",
       "      <th>Sale Condition</th>\n",
       "      <th>SalePrice</th>\n",
       "    </tr>\n",
       "  </thead>\n",
       "  <tbody>\n",
       "    <tr>\n",
       "      <th>0</th>\n",
       "      <td>526301100</td>\n",
       "      <td>20</td>\n",
       "      <td>RL</td>\n",
       "      <td>141.0</td>\n",
       "      <td>31770</td>\n",
       "      <td>Pave</td>\n",
       "      <td>NaN</td>\n",
       "      <td>IR1</td>\n",
       "      <td>Lvl</td>\n",
       "      <td>AllPub</td>\n",
       "      <td>...</td>\n",
       "      <td>0</td>\n",
       "      <td>NaN</td>\n",
       "      <td>NaN</td>\n",
       "      <td>NaN</td>\n",
       "      <td>0</td>\n",
       "      <td>5</td>\n",
       "      <td>2010</td>\n",
       "      <td>WD</td>\n",
       "      <td>Normal</td>\n",
       "      <td>215000</td>\n",
       "    </tr>\n",
       "    <tr>\n",
       "      <th>1</th>\n",
       "      <td>526350040</td>\n",
       "      <td>20</td>\n",
       "      <td>RH</td>\n",
       "      <td>80.0</td>\n",
       "      <td>11622</td>\n",
       "      <td>Pave</td>\n",
       "      <td>NaN</td>\n",
       "      <td>Reg</td>\n",
       "      <td>Lvl</td>\n",
       "      <td>AllPub</td>\n",
       "      <td>...</td>\n",
       "      <td>0</td>\n",
       "      <td>NaN</td>\n",
       "      <td>MnPrv</td>\n",
       "      <td>NaN</td>\n",
       "      <td>0</td>\n",
       "      <td>6</td>\n",
       "      <td>2010</td>\n",
       "      <td>WD</td>\n",
       "      <td>Normal</td>\n",
       "      <td>105000</td>\n",
       "    </tr>\n",
       "    <tr>\n",
       "      <th>2</th>\n",
       "      <td>526351010</td>\n",
       "      <td>20</td>\n",
       "      <td>RL</td>\n",
       "      <td>81.0</td>\n",
       "      <td>14267</td>\n",
       "      <td>Pave</td>\n",
       "      <td>NaN</td>\n",
       "      <td>IR1</td>\n",
       "      <td>Lvl</td>\n",
       "      <td>AllPub</td>\n",
       "      <td>...</td>\n",
       "      <td>0</td>\n",
       "      <td>NaN</td>\n",
       "      <td>NaN</td>\n",
       "      <td>Gar2</td>\n",
       "      <td>12500</td>\n",
       "      <td>6</td>\n",
       "      <td>2010</td>\n",
       "      <td>WD</td>\n",
       "      <td>Normal</td>\n",
       "      <td>172000</td>\n",
       "    </tr>\n",
       "  </tbody>\n",
       "</table>\n",
       "<p>3 rows × 81 columns</p>\n",
       "</div>"
      ],
      "text/plain": [
       "         PID  MS SubClass MS Zoning  Lot Frontage  Lot Area Street Alley  \\\n",
       "0  526301100           20        RL         141.0     31770   Pave   NaN   \n",
       "1  526350040           20        RH          80.0     11622   Pave   NaN   \n",
       "2  526351010           20        RL          81.0     14267   Pave   NaN   \n",
       "\n",
       "  Lot Shape Land Contour Utilities  ... Pool Area Pool QC  Fence Misc Feature  \\\n",
       "0       IR1          Lvl    AllPub  ...         0     NaN    NaN          NaN   \n",
       "1       Reg          Lvl    AllPub  ...         0     NaN  MnPrv          NaN   \n",
       "2       IR1          Lvl    AllPub  ...         0     NaN    NaN         Gar2   \n",
       "\n",
       "  Misc Val Mo Sold Yr Sold  Sale Type  Sale Condition  SalePrice  \n",
       "0        0       5    2010        WD           Normal     215000  \n",
       "1        0       6    2010        WD           Normal     105000  \n",
       "2    12500       6    2010        WD           Normal     172000  \n",
       "\n",
       "[3 rows x 81 columns]"
      ]
     },
     "execution_count": 277,
     "metadata": {},
     "output_type": "execute_result"
    }
   ],
   "source": [
    "Housing.head(3)"
   ]
  },
  {
   "cell_type": "markdown",
   "id": "a03df4c7",
   "metadata": {},
   "source": [
    "- The PID column is used as a unique indetifier for the rows, but since the data frame already has index as a unique identifier, we can drop the PID column."
   ]
  },
  {
   "cell_type": "code",
   "execution_count": 278,
   "id": "190862ed",
   "metadata": {},
   "outputs": [],
   "source": [
    "Housing = Housing.drop(\"PID\", axis=1)"
   ]
  },
  {
   "cell_type": "code",
   "execution_count": 279,
   "id": "2e3091c2",
   "metadata": {},
   "outputs": [
    {
     "data": {
      "text/plain": [
       "(2927, 80)"
      ]
     },
     "execution_count": 279,
     "metadata": {},
     "output_type": "execute_result"
    }
   ],
   "source": [
    "Housing.shape"
   ]
  },
  {
   "cell_type": "markdown",
   "id": "037e6f3a",
   "metadata": {},
   "source": [
    "Now, let's check what features are missing. For this, we're going to create a function that's going to report back the percentage of rows from each feature that is missing. Note that we are not really that interested in the features that are not missing any data. Therefore, we should specify that the function returns only the features that are missing some data."
   ]
  },
  {
   "cell_type": "code",
   "execution_count": 280,
   "id": "45f1760c",
   "metadata": {},
   "outputs": [],
   "source": [
    "def percent_missing(df):\n",
    "    percent_nan = (Housing.isnull().sum() / len(Housing)) * 100\n",
    "    percent_nan = percent_nan[percent_nan > 0].sort_values(ascending=False)\n",
    "    return percent_nan"
   ]
  },
  {
   "cell_type": "code",
   "execution_count": 281,
   "id": "6e88299d",
   "metadata": {},
   "outputs": [],
   "source": [
    "percent_nan = percent_missing(Housing)"
   ]
  },
  {
   "cell_type": "code",
   "execution_count": 282,
   "id": "6f797f58",
   "metadata": {},
   "outputs": [
    {
     "data": {
      "text/plain": [
       "Pool QC           99.590024\n",
       "Misc Feature      96.412709\n",
       "Alley             93.235395\n",
       "Fence             80.457807\n",
       "Fireplace Qu      48.582166\n",
       "Lot Frontage      16.740690\n",
       "Garage Cond        5.432183\n",
       "Garage Qual        5.432183\n",
       "Garage Finish      5.432183\n",
       "Garage Yr Blt      5.432183\n",
       "Garage Type        5.363854\n",
       "Bsmt Exposure      2.835668\n",
       "BsmtFin Type 2     2.767339\n",
       "BsmtFin Type 1     2.733174\n",
       "Bsmt Qual          2.733174\n",
       "Bsmt Cond          2.733174\n",
       "Mas Vnr Area       0.785787\n",
       "Mas Vnr Type       0.785787\n",
       "Bsmt Half Bath     0.068329\n",
       "Bsmt Full Bath     0.068329\n",
       "Total Bsmt SF      0.034165\n",
       "Bsmt Unf SF        0.034165\n",
       "Garage Cars        0.034165\n",
       "Garage Area        0.034165\n",
       "BsmtFin SF 2       0.034165\n",
       "BsmtFin SF 1       0.034165\n",
       "Electrical         0.034165\n",
       "dtype: float64"
      ]
     },
     "execution_count": 282,
     "metadata": {},
     "output_type": "execute_result"
    }
   ],
   "source": [
    "percent_nan"
   ]
  },
  {
   "cell_type": "markdown",
   "id": "aba6f0b4",
   "metadata": {},
   "source": [
    "Let's visualize the missing values with a barplot."
   ]
  },
  {
   "cell_type": "code",
   "execution_count": 283,
   "id": "f1bcb5e7",
   "metadata": {},
   "outputs": [
    {
     "data": {
      "image/png": "[encoded data removed]",
      "text/plain": [
       "<Figure size 800x400 with 1 Axes>"
      ]
     },
     "metadata": {
      "needs_background": "light"
     },
     "output_type": "display_data"
    }
   ],
   "source": [
    "plt.figure(figsize=(8, 4), dpi=100)\n",
    "sns.barplot(x=percent_nan.index, y=percent_nan)\n",
    "plt.xticks(rotation=90);"
   ]
  },
  {
   "cell_type": "markdown",
   "id": "61807058",
   "metadata": {},
   "source": [
    "- In the case of features that have just a few missing rows, we can consider either dropping these few rows or filling them in with a reasonable assumption based off domain knowledge."
   ]
  },
  {
   "cell_type": "code",
   "execution_count": 284,
   "id": "43fe31fc",
   "metadata": {},
   "outputs": [
    {
     "data": {
      "text/plain": [
       "Mas Vnr Area      0.785787\n",
       "Mas Vnr Type      0.785787\n",
       "Bsmt Half Bath    0.068329\n",
       "Bsmt Full Bath    0.068329\n",
       "Total Bsmt SF     0.034165\n",
       "Bsmt Unf SF       0.034165\n",
       "Garage Cars       0.034165\n",
       "Garage Area       0.034165\n",
       "BsmtFin SF 2      0.034165\n",
       "BsmtFin SF 1      0.034165\n",
       "Electrical        0.034165\n",
       "dtype: float64"
      ]
     },
     "execution_count": 284,
     "metadata": {},
     "output_type": "execute_result"
    }
   ],
   "source": [
    "# Filter for features that have less than 1 % of rows missing\n",
    "percent_nan[percent_nan < 1]"
   ]
  },
  {
   "cell_type": "code",
   "execution_count": 285,
   "id": "92b9fd5d",
   "metadata": {},
   "outputs": [
    {
     "data": {
      "text/plain": [
       "0.034165"
      ]
     },
     "execution_count": 285,
     "metadata": {},
     "output_type": "execute_result"
    }
   ],
   "source": [
    "np.round(100 / len(Housing), 6)"
   ]
  },
  {
   "cell_type": "markdown",
   "id": "be5b0919",
   "metadata": {},
   "source": [
    "- So 1 row equals 0.034165 % of the total amount of rows for each feature.\n",
    "- This number looks oddly familiar."
   ]
  },
  {
   "cell_type": "code",
   "execution_count": 286,
   "id": "ffb3861a",
   "metadata": {},
   "outputs": [
    {
     "data": {
      "text/plain": [
       "Total Bsmt SF    0.034165\n",
       "Bsmt Unf SF      0.034165\n",
       "Garage Cars      0.034165\n",
       "Garage Area      0.034165\n",
       "BsmtFin SF 2     0.034165\n",
       "BsmtFin SF 1     0.034165\n",
       "Electrical       0.034165\n",
       "dtype: float64"
      ]
     },
     "execution_count": 286,
     "metadata": {},
     "output_type": "execute_result"
    }
   ],
   "source": [
    "percent_nan[percent_nan < 1][4:11]"
   ]
  },
  {
   "cell_type": "markdown",
   "id": "5beb935b",
   "metadata": {},
   "source": [
    "- For all of these features, there is only one row missing."
   ]
  },
  {
   "cell_type": "code",
   "execution_count": 287,
   "id": "9f99dd6c",
   "metadata": {},
   "outputs": [
    {
     "data": {
      "text/plain": [
       "0.068329"
      ]
     },
     "execution_count": 287,
     "metadata": {},
     "output_type": "execute_result"
    }
   ],
   "source": [
    "np.round(2 * (100 / len(Housing)), 6)"
   ]
  },
  {
   "cell_type": "code",
   "execution_count": 288,
   "id": "786d08dc",
   "metadata": {},
   "outputs": [
    {
     "data": {
      "text/plain": [
       "Bsmt Half Bath    0.068329\n",
       "Bsmt Full Bath    0.068329\n",
       "dtype: float64"
      ]
     },
     "execution_count": 288,
     "metadata": {},
     "output_type": "execute_result"
    }
   ],
   "source": [
    "percent_nan[percent_nan < 1][2:4]"
   ]
  },
  {
   "cell_type": "markdown",
   "id": "910cf290",
   "metadata": {},
   "source": [
    "- For these two features, there is only two rows missing."
   ]
  },
  {
   "cell_type": "markdown",
   "id": "e8a54909",
   "metadata": {},
   "source": [
    "Let's try to explore if the rows that have missing features are actually the one and same row."
   ]
  },
  {
   "cell_type": "code",
   "execution_count": 289,
   "id": "2f24e4ba",
   "metadata": {},
   "outputs": [
    {
     "data": {
      "text/plain": [
       "1577    400.0\n",
       "Name: Garage Area, dtype: float64"
      ]
     },
     "execution_count": 289,
     "metadata": {},
     "output_type": "execute_result"
    }
   ],
   "source": [
    "# Fetch the row where there is a missing value on \"Eletrical\", \n",
    "# and see what the value of \"Garage Area\" is for that row.\n",
    "Housing[Housing[\"Electrical\"].isnull()][\"Garage Area\"]"
   ]
  },
  {
   "cell_type": "markdown",
   "id": "d9692d88",
   "metadata": {},
   "source": [
    "- So the row that has a missing value on \"Electrical\", is not the same row that has a missing value on \"Garage Area\""
   ]
  },
  {
   "cell_type": "markdown",
   "id": "e178f406",
   "metadata": {},
   "source": [
    "A more efficient way of doing this is trying to drop the rows that contain missing values for these features, and then filtering again for the features that have only one row missing. If some of the features that contain only one missing row happened to be on the same row, they should all then be removed."
   ]
  },
  {
   "cell_type": "code",
   "execution_count": 290,
   "id": "a64a9496",
   "metadata": {},
   "outputs": [],
   "source": [
    "# Drop the rows from \"Eletrical\" and \"Garage Area\" that contain missing values.\n",
    "Housing = Housing.dropna(axis=0, subset=[\"Electrical\", \"Garage Area\"])"
   ]
  },
  {
   "cell_type": "code",
   "execution_count": 291,
   "id": "c709b67f",
   "metadata": {},
   "outputs": [],
   "source": [
    "percent_nan_cleaned = percent_missing(Housing)"
   ]
  },
  {
   "cell_type": "code",
   "execution_count": 292,
   "id": "d52d58a8",
   "metadata": {},
   "outputs": [
    {
     "data": {
      "text/plain": [
       "Mas Vnr Area      0.786325\n",
       "Mas Vnr Type      0.786325\n",
       "Bsmt Half Bath    0.068376\n",
       "Bsmt Full Bath    0.068376\n",
       "Bsmt Unf SF       0.034188\n",
       "BsmtFin SF 2      0.034188\n",
       "BsmtFin SF 1      0.034188\n",
       "Total Bsmt SF     0.034188\n",
       "dtype: float64"
      ]
     },
     "execution_count": 292,
     "metadata": {},
     "output_type": "execute_result"
    }
   ],
   "source": [
    "percent_nan_cleaned[percent_nan_cleaned < 1]"
   ]
  },
  {
   "cell_type": "code",
   "execution_count": 293,
   "id": "d7060de4",
   "metadata": {},
   "outputs": [
    {
     "data": {
      "text/html": [
       "<div>\n",
       "<style scoped>\n",
       "    .dataframe tbody tr th:only-of-type {\n",
       "        vertical-align: middle;\n",
       "    }\n",
       "\n",
       "    .dataframe tbody tr th {\n",
       "        vertical-align: top;\n",
       "    }\n",
       "\n",
       "    .dataframe thead th {\n",
       "        text-align: right;\n",
       "    }\n",
       "</style>\n",
       "<table border=\"1\" class=\"dataframe\">\n",
       "  <thead>\n",
       "    <tr style=\"text-align: right;\">\n",
       "      <th></th>\n",
       "      <th>Bsmt Half Bath</th>\n",
       "      <th>Bsmt Full Bath</th>\n",
       "    </tr>\n",
       "  </thead>\n",
       "  <tbody>\n",
       "    <tr>\n",
       "      <th>1341</th>\n",
       "      <td>NaN</td>\n",
       "      <td>NaN</td>\n",
       "    </tr>\n",
       "    <tr>\n",
       "      <th>1497</th>\n",
       "      <td>NaN</td>\n",
       "      <td>NaN</td>\n",
       "    </tr>\n",
       "  </tbody>\n",
       "</table>\n",
       "</div>"
      ],
      "text/plain": [
       "      Bsmt Half Bath  Bsmt Full Bath\n",
       "1341             NaN             NaN\n",
       "1497             NaN             NaN"
      ]
     },
     "execution_count": 293,
     "metadata": {},
     "output_type": "execute_result"
    }
   ],
   "source": [
    "Housing[Housing[\"Bsmt Half Bath\"].isnull()][[\"Bsmt Half Bath\", \"Bsmt Full Bath\"]]"
   ]
  },
  {
   "cell_type": "markdown",
   "id": "a7b7296b",
   "metadata": {},
   "source": [
    "- We can see that the two rows that have missing information on two different features of basement baths, are the two and same rows.\n",
    "- Perhaps these two houses did not have a basement?\n",
    "\n",
    "Let's take a look at the feature description."
   ]
  },
  {
   "cell_type": "code",
   "execution_count": 294,
   "id": "ea221e6e",
   "metadata": {},
   "outputs": [
    {
     "name": "stdout",
     "output_type": "stream",
     "text": [
      "MSSubClass: Identifies the type of dwelling involved in the sale.\t\n",
      "\n",
      "        20\t1-STORY 1946 & NEWER ALL STYLES\n",
      "        30\t1-STORY 1945 & OLDER\n",
      "        40\t1-STORY W/FINISHED ATTIC ALL AGES\n",
      "        45\t1-1/2 STORY - UNFINISHED ALL AGES\n",
      "        50\t1-1/2 STORY FINISHED ALL AGES\n",
      "        60\t2-STORY 1946 & NEWER\n",
      "        70\t2-STORY 1945 & OLDER\n",
      "        75\t2-1/2 STORY ALL AGES\n",
      "        80\tSPLIT OR MULTI-LEVEL\n",
      "        85\tSPLIT FOYER\n",
      "        90\tDUPLEX - ALL STYLES AND AGES\n",
      "       120\t1-STORY PUD (Planned Unit Development) - 1946 & NEWER\n",
      "       150\t1-1/2 STORY PUD - ALL AGES\n",
      "       160\t2-STORY PUD - 1946 & NEWER\n",
      "       180\tPUD - MULTILEVEL - INCL SPLIT LEV/FOYER\n",
      "       190\t2 FAMILY CONVERSION - ALL STYLES AND AGES\n",
      "\n",
      "MSZoning: Identifies the general zoning classification of the sale.\n",
      "\t\t\n",
      "       A\tAgriculture\n",
      "       C\tCommercial\n",
      "       FV\tFloating Village Residential\n",
      "       I\tIndustrial\n",
      "       RH\tResidential High Density\n",
      "       RL\tResidential Low Density\n",
      "       RP\tResidential Low Density Park \n",
      "       RM\tResidential Medium Density\n",
      "\t\n",
      "LotFrontage: Linear feet of street connected to property\n",
      "\n",
      "LotArea: Lot size in square feet\n",
      "\n",
      "Street: Type of road access to property\n",
      "\n",
      "       Grvl\tGravel\t\n",
      "       Pave\tPaved\n",
      "       \t\n",
      "Alley: Type of alley access to property\n",
      "\n",
      "       Grvl\tGravel\n",
      "       Pave\tPaved\n",
      "       NA \tNo alley access\n",
      "\t\t\n",
      "LotShape: General shape of property\n",
      "\n",
      "       Reg\tRegular\t\n",
      "       IR1\tSlightly irregular\n",
      "       IR2\tModerately Irregular\n",
      "       IR3\tIrregular\n",
      "       \n",
      "LandContour: Flatness of the property\n",
      "\n",
      "       Lvl\tNear Flat/Level\t\n",
      "       Bnk\tBanked - Quick and significant rise from street grade to building\n",
      "       HLS\tHillside - Significant slope from side to side\n",
      "       Low\tDepression\n",
      "\t\t\n",
      "Utilities: Type of utilities available\n",
      "\t\t\n",
      "       AllPub\tAll public Utilities (E,G,W,& S)\t\n",
      "       NoSewr\tElectricity, Gas, and Water (Septic Tank)\n",
      "       NoSeWa\tElectricity and Gas Only\n",
      "       ELO\tElectricity only\t\n",
      "\t\n",
      "LotConfig: Lot configuration\n",
      "\n",
      "       Inside\tInside lot\n",
      "       Corner\tCorner lot\n",
      "       CulDSac\tCul-de-sac\n",
      "       FR2\tFrontage on 2 sides of property\n",
      "       FR3\tFrontage on 3 sides of property\n",
      "\t\n",
      "LandSlope: Slope of property\n",
      "\t\t\n",
      "       Gtl\tGentle slope\n",
      "       Mod\tModerate Slope\t\n",
      "       Sev\tSevere Slope\n",
      "\t\n",
      "Neighborhood: Physical locations within Ames city limits\n",
      "\n",
      "       Blmngtn\tBloomington Heights\n",
      "       Blueste\tBluestem\n",
      "       BrDale\tBriardale\n",
      "       BrkSide\tBrookside\n",
      "       ClearCr\tClear Creek\n",
      "       CollgCr\tCollege Creek\n",
      "       Crawfor\tCrawford\n",
      "       Edwards\tEdwards\n",
      "       Gilbert\tGilbert\n",
      "       IDOTRR\tIowa DOT and Rail Road\n",
      "       MeadowV\tMeadow Village\n",
      "       Mitchel\tMitchell\n",
      "       Names\tNorth Ames\n",
      "       NoRidge\tNorthridge\n",
      "       NPkVill\tNorthpark Villa\n",
      "       NridgHt\tNorthridge Heights\n",
      "       NWAmes\tNorthwest Ames\n",
      "       OldTown\tOld Town\n",
      "       SWISU\tSouth & West of Iowa State University\n",
      "       Sawyer\tSawyer\n",
      "       SawyerW\tSawyer West\n",
      "       Somerst\tSomerset\n",
      "       StoneBr\tStone Brook\n",
      "       Timber\tTimberland\n",
      "       Veenker\tVeenker\n",
      "\t\t\t\n",
      "Condition1: Proximity to various conditions\n",
      "\t\n",
      "       Artery\tAdjacent to arterial street\n",
      "       Feedr\tAdjacent to feeder street\t\n",
      "       Norm\tNormal\t\n",
      "       RRNn\tWithin 200' of North-South Railroad\n",
      "       RRAn\tAdjacent to North-South Railroad\n",
      "       PosN\tNear positive off-site feature--park, greenbelt, etc.\n",
      "       PosA\tAdjacent to postive off-site feature\n",
      "       RRNe\tWithin 200' of East-West Railroad\n",
      "       RRAe\tAdjacent to East-West Railroad\n",
      "\t\n",
      "Condition2: Proximity to various conditions (if more than one is present)\n",
      "\t\t\n",
      "       Artery\tAdjacent to arterial street\n",
      "       Feedr\tAdjacent to feeder street\t\n",
      "       Norm\tNormal\t\n",
      "       RRNn\tWithin 200' of North-South Railroad\n",
      "       RRAn\tAdjacent to North-South Railroad\n",
      "       PosN\tNear positive off-site feature--park, greenbelt, etc.\n",
      "       PosA\tAdjacent to postive off-site feature\n",
      "       RRNe\tWithin 200' of East-West Railroad\n",
      "       RRAe\tAdjacent to East-West Railroad\n",
      "\t\n",
      "BldgType: Type of dwelling\n",
      "\t\t\n",
      "       1Fam\tSingle-family Detached\t\n",
      "       2FmCon\tTwo-family Conversion; originally built as one-family dwelling\n",
      "       Duplx\tDuplex\n",
      "       TwnhsE\tTownhouse End Unit\n",
      "       TwnhsI\tTownhouse Inside Unit\n",
      "\t\n",
      "HouseStyle: Style of dwelling\n",
      "\t\n",
      "       1Story\tOne story\n",
      "       1.5Fin\tOne and one-half story: 2nd level finished\n",
      "       1.5Unf\tOne and one-half story: 2nd level unfinished\n",
      "       2Story\tTwo story\n",
      "       2.5Fin\tTwo and one-half story: 2nd level finished\n",
      "       2.5Unf\tTwo and one-half story: 2nd level unfinished\n",
      "       SFoyer\tSplit Foyer\n",
      "       SLvl\tSplit Level\n",
      "\t\n",
      "OverallQual: Rates the overall material and finish of the house\n",
      "\n",
      "       10\tVery Excellent\n",
      "       9\tExcellent\n",
      "       8\tVery Good\n",
      "       7\tGood\n",
      "       6\tAbove Average\n",
      "       5\tAverage\n",
      "       4\tBelow Average\n",
      "       3\tFair\n",
      "       2\tPoor\n",
      "       1\tVery Poor\n",
      "\t\n",
      "OverallCond: Rates the overall condition of the house\n",
      "\n",
      "       10\tVery Excellent\n",
      "       9\tExcellent\n",
      "       8\tVery Good\n",
      "       7\tGood\n",
      "       6\tAbove Average\t\n",
      "       5\tAverage\n",
      "       4\tBelow Average\t\n",
      "       3\tFair\n",
      "       2\tPoor\n",
      "       1\tVery Poor\n",
      "\t\t\n",
      "YearBuilt: Original construction date\n",
      "\n",
      "YearRemodAdd: Remodel date (same as construction date if no remodeling or additions)\n",
      "\n",
      "RoofStyle: Type of roof\n",
      "\n",
      "       Flat\tFlat\n",
      "       Gable\tGable\n",
      "       Gambrel\tGabrel (Barn)\n",
      "       Hip\tHip\n",
      "       Mansard\tMansard\n",
      "       Shed\tShed\n",
      "\t\t\n",
      "RoofMatl: Roof material\n",
      "\n",
      "       ClyTile\tClay or Tile\n",
      "       CompShg\tStandard (Composite) Shingle\n",
      "       Membran\tMembrane\n",
      "       Metal\tMetal\n",
      "       Roll\tRoll\n",
      "       Tar&Grv\tGravel & Tar\n",
      "       WdShake\tWood Shakes\n",
      "       WdShngl\tWood Shingles\n",
      "\t\t\n",
      "Exterior1st: Exterior covering on house\n",
      "\n",
      "       AsbShng\tAsbestos Shingles\n",
      "       AsphShn\tAsphalt Shingles\n",
      "       BrkComm\tBrick Common\n",
      "       BrkFace\tBrick Face\n",
      "       CBlock\tCinder Block\n",
      "       CemntBd\tCement Board\n",
      "       HdBoard\tHard Board\n",
      "       ImStucc\tImitation Stucco\n",
      "       MetalSd\tMetal Siding\n",
      "       Other\tOther\n",
      "       Plywood\tPlywood\n",
      "       PreCast\tPreCast\t\n",
      "       Stone\tStone\n",
      "       Stucco\tStucco\n",
      "       VinylSd\tVinyl Siding\n",
      "       Wd Sdng\tWood Siding\n",
      "       WdShing\tWood Shingles\n",
      "\t\n",
      "Exterior2nd: Exterior covering on house (if more than one material)\n",
      "\n",
      "       AsbShng\tAsbestos Shingles\n",
      "       AsphShn\tAsphalt Shingles\n",
      "       BrkComm\tBrick Common\n",
      "       BrkFace\tBrick Face\n",
      "       CBlock\tCinder Block\n",
      "       CemntBd\tCement Board\n",
      "       HdBoard\tHard Board\n",
      "       ImStucc\tImitation Stucco\n",
      "       MetalSd\tMetal Siding\n",
      "       Other\tOther\n",
      "       Plywood\tPlywood\n",
      "       PreCast\tPreCast\n",
      "       Stone\tStone\n",
      "       Stucco\tStucco\n",
      "       VinylSd\tVinyl Siding\n",
      "       Wd Sdng\tWood Siding\n",
      "       WdShing\tWood Shingles\n",
      "\t\n",
      "MasVnrType: Masonry veneer type\n",
      "\n",
      "       BrkCmn\tBrick Common\n",
      "       BrkFace\tBrick Face\n",
      "       CBlock\tCinder Block\n",
      "       None\tNone\n",
      "       Stone\tStone\n",
      "\t\n",
      "MasVnrArea: Masonry veneer area in square feet\n",
      "\n",
      "ExterQual: Evaluates the quality of the material on the exterior \n",
      "\t\t\n",
      "       Ex\tExcellent\n",
      "       Gd\tGood\n",
      "       TA\tAverage/Typical\n",
      "       Fa\tFair\n",
      "       Po\tPoor\n",
      "\t\t\n",
      "ExterCond: Evaluates the present condition of the material on the exterior\n",
      "\t\t\n",
      "       Ex\tExcellent\n",
      "       Gd\tGood\n",
      "       TA\tAverage/Typical\n",
      "       Fa\tFair\n",
      "       Po\tPoor\n",
      "\t\t\n",
      "Foundation: Type of foundation\n",
      "\t\t\n",
      "       BrkTil\tBrick & Tile\n",
      "       CBlock\tCinder Block\n",
      "       PConc\tPoured Contrete\t\n",
      "       Slab\tSlab\n",
      "       Stone\tStone\n",
      "       Wood\tWood\n",
      "\t\t\n",
      "BsmtQual: Evaluates the height of the basement\n",
      "\n",
      "       Ex\tExcellent (100+ inches)\t\n",
      "       Gd\tGood (90-99 inches)\n",
      "       TA\tTypical (80-89 inches)\n",
      "       Fa\tFair (70-79 inches)\n",
      "       Po\tPoor (<70 inches\n",
      "       NA\tNo Basement\n",
      "\t\t\n",
      "BsmtCond: Evaluates the general condition of the basement\n",
      "\n",
      "       Ex\tExcellent\n",
      "       Gd\tGood\n",
      "       TA\tTypical - slight dampness allowed\n",
      "       Fa\tFair - dampness or some cracking or settling\n",
      "       Po\tPoor - Severe cracking, settling, or wetness\n",
      "       NA\tNo Basement\n",
      "\t\n",
      "BsmtExposure: Refers to walkout or garden level walls\n",
      "\n",
      "       Gd\tGood Exposure\n",
      "       Av\tAverage Exposure (split levels or foyers typically score average or above)\t\n",
      "       Mn\tMimimum Exposure\n",
      "       No\tNo Exposure\n",
      "       NA\tNo Basement\n",
      "\t\n",
      "BsmtFinType1: Rating of basement finished area\n",
      "\n",
      "       GLQ\tGood Living Quarters\n",
      "       ALQ\tAverage Living Quarters\n",
      "       BLQ\tBelow Average Living Quarters\t\n",
      "       Rec\tAverage Rec Room\n",
      "       LwQ\tLow Quality\n",
      "       Unf\tUnfinshed\n",
      "       NA\tNo Basement\n",
      "\t\t\n",
      "BsmtFinSF1: Type 1 finished square feet\n",
      "\n",
      "BsmtFinType2: Rating of basement finished area (if multiple types)\n",
      "\n",
      "       GLQ\tGood Living Quarters\n",
      "       ALQ\tAverage Living Quarters\n",
      "       BLQ\tBelow Average Living Quarters\t\n",
      "       Rec\tAverage Rec Room\n",
      "       LwQ\tLow Quality\n",
      "       Unf\tUnfinshed\n",
      "       NA\tNo Basement\n",
      "\n",
      "BsmtFinSF2: Type 2 finished square feet\n",
      "\n",
      "BsmtUnfSF: Unfinished square feet of basement area\n",
      "\n",
      "TotalBsmtSF: Total square feet of basement area\n",
      "\n",
      "Heating: Type of heating\n",
      "\t\t\n",
      "       Floor\tFloor Furnace\n",
      "       GasA\tGas forced warm air furnace\n",
      "       GasW\tGas hot water or steam heat\n",
      "       Grav\tGravity furnace\t\n",
      "       OthW\tHot water or steam heat other than gas\n",
      "       Wall\tWall furnace\n",
      "\t\t\n",
      "HeatingQC: Heating quality and condition\n",
      "\n",
      "       Ex\tExcellent\n",
      "       Gd\tGood\n",
      "       TA\tAverage/Typical\n",
      "       Fa\tFair\n",
      "       Po\tPoor\n",
      "\t\t\n",
      "CentralAir: Central air conditioning\n",
      "\n",
      "       N\tNo\n",
      "       Y\tYes\n",
      "\t\t\n",
      "Electrical: Electrical system\n",
      "\n",
      "       SBrkr\tStandard Circuit Breakers & Romex\n",
      "       FuseA\tFuse Box over 60 AMP and all Romex wiring (Average)\t\n",
      "       FuseF\t60 AMP Fuse Box and mostly Romex wiring (Fair)\n",
      "       FuseP\t60 AMP Fuse Box and mostly knob & tube wiring (poor)\n",
      "       Mix\tMixed\n",
      "\t\t\n",
      "1stFlrSF: First Floor square feet\n",
      " \n",
      "2ndFlrSF: Second floor square feet\n",
      "\n",
      "LowQualFinSF: Low quality finished square feet (all floors)\n",
      "\n",
      "GrLivArea: Above grade (ground) living area square feet\n",
      "\n",
      "BsmtFullBath: Basement full bathrooms\n",
      "\n",
      "BsmtHalfBath: Basement half bathrooms\n",
      "\n",
      "FullBath: Full bathrooms above grade\n",
      "\n",
      "HalfBath: Half baths above grade\n",
      "\n",
      "Bedroom: Bedrooms above grade (does NOT include basement bedrooms)\n",
      "\n",
      "Kitchen: Kitchens above grade\n",
      "\n",
      "KitchenQual: Kitchen quality\n",
      "\n",
      "       Ex\tExcellent\n",
      "       Gd\tGood\n",
      "       TA\tTypical/Average\n",
      "       Fa\tFair\n",
      "       Po\tPoor\n",
      "       \t\n",
      "TotRmsAbvGrd: Total rooms above grade (does not include bathrooms)\n",
      "\n",
      "Functional: Home functionality (Assume typical unless deductions are warranted)\n",
      "\n",
      "       Typ\tTypical Functionality\n",
      "       Min1\tMinor Deductions 1\n",
      "       Min2\tMinor Deductions 2\n",
      "       Mod\tModerate Deductions\n",
      "       Maj1\tMajor Deductions 1\n",
      "       Maj2\tMajor Deductions 2\n",
      "       Sev\tSeverely Damaged\n",
      "       Sal\tSalvage only\n",
      "\t\t\n",
      "Fireplaces: Number of fireplaces\n",
      "\n",
      "FireplaceQu: Fireplace quality\n",
      "\n",
      "       Ex\tExcellent - Exceptional Masonry Fireplace\n",
      "       Gd\tGood - Masonry Fireplace in main level\n",
      "       TA\tAverage - Prefabricated Fireplace in main living area or Masonry Fireplace in basement\n",
      "       Fa\tFair - Prefabricated Fireplace in basement\n",
      "       Po\tPoor - Ben Franklin Stove\n",
      "       NA\tNo Fireplace\n",
      "\t\t\n",
      "GarageType: Garage location\n",
      "\t\t\n",
      "       2Types\tMore than one type of garage\n",
      "       Attchd\tAttached to home\n",
      "       Basment\tBasement Garage\n",
      "       BuiltIn\tBuilt-In (Garage part of house - typically has room above garage)\n",
      "       CarPort\tCar Port\n",
      "       Detchd\tDetached from home\n",
      "       NA\tNo Garage\n",
      "\t\t\n",
      "GarageYrBlt: Year garage was built\n",
      "\t\t\n",
      "GarageFinish: Interior finish of the garage\n",
      "\n",
      "       Fin\tFinished\n",
      "       RFn\tRough Finished\t\n",
      "       Unf\tUnfinished\n",
      "       NA\tNo Garage\n",
      "\t\t\n",
      "GarageCars: Size of garage in car capacity\n",
      "\n",
      "GarageArea: Size of garage in square feet\n",
      "\n",
      "GarageQual: Garage quality\n",
      "\n",
      "       Ex\tExcellent\n",
      "       Gd\tGood\n",
      "       TA\tTypical/Average\n",
      "       Fa\tFair\n",
      "       Po\tPoor\n",
      "       NA\tNo Garage\n",
      "\t\t\n",
      "GarageCond: Garage condition\n",
      "\n",
      "       Ex\tExcellent\n",
      "       Gd\tGood\n",
      "       TA\tTypical/Average\n",
      "       Fa\tFair\n",
      "       Po\tPoor\n",
      "       NA\tNo Garage\n",
      "\t\t\n",
      "PavedDrive: Paved driveway\n",
      "\n",
      "       Y\tPaved \n",
      "       P\tPartial Pavement\n",
      "       N\tDirt/Gravel\n",
      "\t\t\n",
      "WoodDeckSF: Wood deck area in square feet\n",
      "\n",
      "OpenPorchSF: Open porch area in square feet\n",
      "\n",
      "EnclosedPorch: Enclosed porch area in square feet\n",
      "\n",
      "3SsnPorch: Three season porch area in square feet\n",
      "\n",
      "ScreenPorch: Screen porch area in square feet\n",
      "\n",
      "PoolArea: Pool area in square feet\n",
      "\n",
      "PoolQC: Pool quality\n",
      "\t\t\n",
      "       Ex\tExcellent\n",
      "       Gd\tGood\n",
      "       TA\tAverage/Typical\n",
      "       Fa\tFair\n",
      "       NA\tNo Pool\n",
      "\t\t\n",
      "Fence: Fence quality\n",
      "\t\t\n",
      "       GdPrv\tGood Privacy\n",
      "       MnPrv\tMinimum Privacy\n",
      "       GdWo\tGood Wood\n",
      "       MnWw\tMinimum Wood/Wire\n",
      "       NA\tNo Fence\n",
      "\t\n",
      "MiscFeature: Miscellaneous feature not covered in other categories\n",
      "\t\t\n",
      "       Elev\tElevator\n",
      "       Gar2\t2nd Garage (if not described in garage section)\n",
      "       Othr\tOther\n",
      "       Shed\tShed (over 100 SF)\n",
      "       TenC\tTennis Court\n",
      "       NA\tNone\n",
      "\t\t\n",
      "MiscVal: $Value of miscellaneous feature\n",
      "\n",
      "MoSold: Month Sold (MM)\n",
      "\n",
      "YrSold: Year Sold (YYYY)\n",
      "\n",
      "SaleType: Type of sale\n",
      "\t\t\n",
      "       WD \tWarranty Deed - Conventional\n",
      "       CWD\tWarranty Deed - Cash\n",
      "       VWD\tWarranty Deed - VA Loan\n",
      "       New\tHome just constructed and sold\n",
      "       COD\tCourt Officer Deed/Estate\n",
      "       Con\tContract 15% Down payment regular terms\n",
      "       ConLw\tContract Low Down payment and low interest\n",
      "       ConLI\tContract Low Interest\n",
      "       ConLD\tContract Low Down\n",
      "       Oth\tOther\n",
      "\t\t\n",
      "SaleCondition: Condition of sale\n",
      "\n",
      "       Normal\tNormal Sale\n",
      "       Abnorml\tAbnormal Sale -  trade, foreclosure, short sale\n",
      "       AdjLand\tAdjoining Land Purchase\n",
      "       Alloca\tAllocation - two linked properties with separate deeds, typically condo with a garage unit\t\n",
      "       Family\tSale between family members\n",
      "       Partial\tHome was not completed when last assessed (associated with New Homes)\n",
      "\n"
     ]
    }
   ],
   "source": [
    "with open(\"C:/Users/testi/Desktop/ML/DATA/Ames_Housing_Feature_Description.txt\", \"r\") as f:\n",
    "    print(f.read())"
   ]
  },
  {
   "cell_type": "markdown",
   "id": "ee63e959",
   "metadata": {},
   "source": [
    "- It indeed seems that if there is missing information on basement, the house had no basement.\n",
    "- Instead of dropping these rows, we can \n",
    "    - fill them with zeros (if the feature type is numeric) \n",
    "    - label them as \"None\" (if the feature tpye is string)"
   ]
  },
  {
   "cell_type": "code",
   "execution_count": 295,
   "id": "70f556ea",
   "metadata": {},
   "outputs": [],
   "source": [
    "# With this command you can suppress a SettingWithCopyWarning.\n",
    "# In this case, Pandas falsely raised this error message on the next two filterings.\n",
    "# Remember that when you suppress these warnings with this code,\n",
    "# you have to remember to turn it back to \"warn\", which is the default.\n",
    "# Otherwise you won't get any error messages that might actually be justified.\n",
    "pd.options.mode.chained_assignment = None\n",
    "\n",
    "# Set the numeric Bsmt columns to 0\n",
    "bsmt_num_cols = ['BsmtFin SF 1', 'BsmtFin SF 2', 'Bsmt Unf SF','Total Bsmt SF', 'Bsmt Full Bath', 'Bsmt Half Bath']\n",
    "Housing.loc[:, bsmt_num_cols] = Housing.loc[:, bsmt_num_cols].fillna(0)\n",
    "\n",
    "# Set the string  Bsmt columns to None\n",
    "bsmt_str_cols =  ['Bsmt Qual', 'Bsmt Cond', 'Bsmt Exposure', 'BsmtFin Type 1', 'BsmtFin Type 2']\n",
    "Housing.loc[:,  bsmt_str_cols] = Housing.loc[:, bsmt_str_cols].fillna(\"None\")\n",
    "\n",
    "# Turn warning messages back on\n",
    "pd.options.mode.chained_assignment = \"warn\""
   ]
  },
  {
   "cell_type": "code",
   "execution_count": 296,
   "id": "47fddcb0",
   "metadata": {},
   "outputs": [
    {
     "data": {
      "text/html": [
       "<div>\n",
       "<style scoped>\n",
       "    .dataframe tbody tr th:only-of-type {\n",
       "        vertical-align: middle;\n",
       "    }\n",
       "\n",
       "    .dataframe tbody tr th {\n",
       "        vertical-align: top;\n",
       "    }\n",
       "\n",
       "    .dataframe thead th {\n",
       "        text-align: right;\n",
       "    }\n",
       "</style>\n",
       "<table border=\"1\" class=\"dataframe\">\n",
       "  <thead>\n",
       "    <tr style=\"text-align: right;\">\n",
       "      <th></th>\n",
       "      <th>MS SubClass</th>\n",
       "      <th>MS Zoning</th>\n",
       "      <th>Lot Frontage</th>\n",
       "      <th>Lot Area</th>\n",
       "      <th>Street</th>\n",
       "      <th>Alley</th>\n",
       "      <th>Lot Shape</th>\n",
       "      <th>Land Contour</th>\n",
       "      <th>Utilities</th>\n",
       "      <th>Lot Config</th>\n",
       "      <th>...</th>\n",
       "      <th>Pool Area</th>\n",
       "      <th>Pool QC</th>\n",
       "      <th>Fence</th>\n",
       "      <th>Misc Feature</th>\n",
       "      <th>Misc Val</th>\n",
       "      <th>Mo Sold</th>\n",
       "      <th>Yr Sold</th>\n",
       "      <th>Sale Type</th>\n",
       "      <th>Sale Condition</th>\n",
       "      <th>SalePrice</th>\n",
       "    </tr>\n",
       "  </thead>\n",
       "  <tbody>\n",
       "  </tbody>\n",
       "</table>\n",
       "<p>0 rows × 80 columns</p>\n",
       "</div>"
      ],
      "text/plain": [
       "Empty DataFrame\n",
       "Columns: [MS SubClass, MS Zoning, Lot Frontage, Lot Area, Street, Alley, Lot Shape, Land Contour, Utilities, Lot Config, Land Slope, Neighborhood, Condition 1, Condition 2, Bldg Type, House Style, Overall Qual, Overall Cond, Year Built, Year Remod/Add, Roof Style, Roof Matl, Exterior 1st, Exterior 2nd, Mas Vnr Type, Mas Vnr Area, Exter Qual, Exter Cond, Foundation, Bsmt Qual, Bsmt Cond, Bsmt Exposure, BsmtFin Type 1, BsmtFin SF 1, BsmtFin Type 2, BsmtFin SF 2, Bsmt Unf SF, Total Bsmt SF, Heating, Heating QC, Central Air, Electrical, 1st Flr SF, 2nd Flr SF, Low Qual Fin SF, Gr Liv Area, Bsmt Full Bath, Bsmt Half Bath, Full Bath, Half Bath, Bedroom AbvGr, Kitchen AbvGr, Kitchen Qual, TotRms AbvGrd, Functional, Fireplaces, Fireplace Qu, Garage Type, Garage Yr Blt, Garage Finish, Garage Cars, Garage Area, Garage Qual, Garage Cond, Paved Drive, Wood Deck SF, Open Porch SF, Enclosed Porch, 3Ssn Porch, Screen Porch, Pool Area, Pool QC, Fence, Misc Feature, Misc Val, Mo Sold, Yr Sold, Sale Type, Sale Condition, SalePrice]\n",
       "Index: []\n",
       "\n",
       "[0 rows x 80 columns]"
      ]
     },
     "execution_count": 296,
     "metadata": {},
     "output_type": "execute_result"
    }
   ],
   "source": [
    "Housing[Housing[\"Bsmt Full Bath\"].isnull()]"
   ]
  },
  {
   "cell_type": "markdown",
   "id": "2fe171e7",
   "metadata": {},
   "source": [
    "- No more missing values on Bsmt Full Bath column.\n",
    "\n",
    "Once more, let's calculate the percentage of the missing values."
   ]
  },
  {
   "cell_type": "code",
   "execution_count": 297,
   "id": "b1c1f711",
   "metadata": {},
   "outputs": [],
   "source": [
    "percent_nan_cleaned1 = percent_missing(Housing)"
   ]
  },
  {
   "cell_type": "code",
   "execution_count": 298,
   "id": "a3091322",
   "metadata": {},
   "outputs": [
    {
     "data": {
      "text/plain": [
       "Pool QC          99.589744\n",
       "Misc Feature     96.410256\n",
       "Alley            93.230769\n",
       "Fence            80.478632\n",
       "Fireplace Qu     48.547009\n",
       "Lot Frontage     16.752137\n",
       "Garage Yr Blt     5.401709\n",
       "Garage Finish     5.401709\n",
       "Garage Qual       5.401709\n",
       "Garage Cond       5.401709\n",
       "Garage Type       5.367521\n",
       "Mas Vnr Type      0.786325\n",
       "Mas Vnr Area      0.786325\n",
       "dtype: float64"
      ]
     },
     "execution_count": 298,
     "metadata": {},
     "output_type": "execute_result"
    }
   ],
   "source": [
    "percent_nan_cleaned1"
   ]
  },
  {
   "cell_type": "markdown",
   "id": "fd8ec489",
   "metadata": {},
   "source": [
    "- We still have \"Mas Vnr Type\" and \"Mas Vnr Area\" features, that contain less than 1 % of missing rows.\n",
    "- From the feature description it seems that  Mas Vnr Type is a string column, and Mas Vnr Area is a numerical column. \n",
    "- Let's fill these again by the same logic as before with Bsmt."
   ]
  },
  {
   "cell_type": "code",
   "execution_count": 299,
   "id": "baffe31b",
   "metadata": {},
   "outputs": [],
   "source": [
    "Housing[\"Mas Vnr Type\"] = Housing[\"Mas Vnr Type\"].fillna(\"None\")\n",
    "Housing[\"Mas Vnr Area\"] = Housing[\"Mas Vnr Type\"].fillna(0)"
   ]
  },
  {
   "cell_type": "code",
   "execution_count": 300,
   "id": "11c5107f",
   "metadata": {},
   "outputs": [],
   "source": [
    "percent_nan_cleaned2 = percent_missing(Housing)"
   ]
  },
  {
   "cell_type": "code",
   "execution_count": 301,
   "id": "b7925c5a",
   "metadata": {},
   "outputs": [
    {
     "data": {
      "text/plain": [
       "Pool QC          99.589744\n",
       "Misc Feature     96.410256\n",
       "Alley            93.230769\n",
       "Fence            80.478632\n",
       "Fireplace Qu     48.547009\n",
       "Lot Frontage     16.752137\n",
       "Garage Yr Blt     5.401709\n",
       "Garage Finish     5.401709\n",
       "Garage Qual       5.401709\n",
       "Garage Cond       5.401709\n",
       "Garage Type       5.367521\n",
       "dtype: float64"
      ]
     },
     "execution_count": 301,
     "metadata": {},
     "output_type": "execute_result"
    }
   ],
   "source": [
    "percent_nan_cleaned2"
   ]
  },
  {
   "cell_type": "markdown",
   "id": "c25ffcd3",
   "metadata": {},
   "source": [
    "- Note that domain knowledge plays a huge role in deciding what to do with the missing values."
   ]
  },
  {
   "cell_type": "code",
   "execution_count": 302,
   "id": "f60c82cf",
   "metadata": {},
   "outputs": [
    {
     "data": {
      "image/png": "[encoded data removed]",
      "text/plain": [
       "<Figure size 800x400 with 1 Axes>"
      ]
     },
     "metadata": {
      "needs_background": "light"
     },
     "output_type": "display_data"
    }
   ],
   "source": [
    "plt.figure(figsize=(8, 4), dpi=100)\n",
    "sns.barplot(x=percent_nan_cleaned2.index, y=percent_nan_cleaned2)\n",
    "plt.xticks(rotation=90);"
   ]
  },
  {
   "cell_type": "markdown",
   "id": "01571507",
   "metadata": {},
   "source": [
    "- Notice that we have same problem with these garages that we had with the basement features.\n",
    "- If an apartment has no garage, then it is likely that all of these features are missing.\n",
    "- The fact that all of the garage features have the same amount of missing rows supports this conclusion.\n",
    "- This can of course be checked from the feature description from before.\n",
    "- It indeed seems that GarageType is NA if the apartment has no garage.\n",
    "- Then, if the apartment has no garage, the other features are going to be missing too of course.\n",
    "\n",
    "Let's deal with this the same way we dealt previously with the numeric and categorical columns.\n",
    "- If the feature type is numeric $\\rightarrow$ fillna(0)\n",
    "- If the feature type is categorical $\\rightarrow$ fillna(\"None\")"
   ]
  },
  {
   "cell_type": "code",
   "execution_count": 303,
   "id": "f11c6292",
   "metadata": {},
   "outputs": [],
   "source": [
    "Garage_categorical = [\"Garage Type\", \"Garage Finish\", \"Garage Qual\", \"Garage Cond\"]\n",
    "Garage_numeric = \"Garage Yr Blt\"\n",
    "\n",
    "Housing.loc[:, Garage_categorical] = Housing.loc[:, Garage_categorical].fillna(\"None\")\n",
    "Housing.loc[:, Garage_numeric] = Housing.loc[:, Garage_numeric].fillna(0)"
   ]
  },
  {
   "cell_type": "code",
   "execution_count": 304,
   "id": "495aeaca",
   "metadata": {},
   "outputs": [],
   "source": [
    "percent_nan_cleaned3 = percent_missing(Housing)"
   ]
  },
  {
   "cell_type": "code",
   "execution_count": 305,
   "id": "934205e9",
   "metadata": {},
   "outputs": [
    {
     "data": {
      "text/plain": [
       "Pool QC         99.589744\n",
       "Misc Feature    96.410256\n",
       "Alley           93.230769\n",
       "Fence           80.478632\n",
       "Fireplace Qu    48.547009\n",
       "Lot Frontage    16.752137\n",
       "dtype: float64"
      ]
     },
     "execution_count": 305,
     "metadata": {},
     "output_type": "execute_result"
    }
   ],
   "source": [
    "percent_nan_cleaned3"
   ]
  },
  {
   "cell_type": "code",
   "execution_count": 306,
   "id": "479ede2f",
   "metadata": {},
   "outputs": [
    {
     "data": {
      "image/png": "[encoded data removed]",
      "text/plain": [
       "<Figure size 600x400 with 1 Axes>"
      ]
     },
     "metadata": {
      "needs_background": "light"
     },
     "output_type": "display_data"
    }
   ],
   "source": [
    "plt.figure(figsize=(6, 4), dpi=100)\n",
    "sns.barplot(x=percent_nan_cleaned3.index, y=percent_nan_cleaned3)\n",
    "plt.xticks(rotation=90);"
   ]
  },
  {
   "cell_type": "markdown",
   "id": "93185f21",
   "metadata": {},
   "source": [
    "Next we're going to have to figure out what to do with these features that have a large amount of missing rows. For example, \"Pool Qc\" feature has 99.6 % of its rows missing. This is probably due to the fact the very few houses have a swimming pool.\n",
    "- There is so much missing data on Pool Qc, Misc Feature, Alley and Fence features, that let's just drop these data features from the data frame."
   ]
  },
  {
   "cell_type": "code",
   "execution_count": 307,
   "id": "c871b2ed",
   "metadata": {},
   "outputs": [
    {
     "data": {
      "text/plain": [
       "(2925, 80)"
      ]
     },
     "execution_count": 307,
     "metadata": {},
     "output_type": "execute_result"
    }
   ],
   "source": [
    "Housing.shape"
   ]
  },
  {
   "cell_type": "code",
   "execution_count": 308,
   "id": "485c1957",
   "metadata": {},
   "outputs": [],
   "source": [
    "Housing = Housing.drop([\"Pool QC\", \"Misc Feature\", \"Alley\", \"Fence\"], axis=1)"
   ]
  },
  {
   "cell_type": "code",
   "execution_count": 309,
   "id": "a635ba60",
   "metadata": {},
   "outputs": [
    {
     "data": {
      "text/plain": [
       "(2925, 76)"
      ]
     },
     "execution_count": 309,
     "metadata": {},
     "output_type": "execute_result"
    }
   ],
   "source": [
    "Housing.shape"
   ]
  },
  {
   "cell_type": "markdown",
   "id": "8f0fc6cf",
   "metadata": {},
   "source": [
    "- 4 columns has been dropped, as expected."
   ]
  },
  {
   "cell_type": "code",
   "execution_count": 311,
   "id": "bd7de17f",
   "metadata": {},
   "outputs": [],
   "source": [
    "percent_nan_cleaned4 = percent_missing(Housing)"
   ]
  },
  {
   "cell_type": "code",
   "execution_count": 312,
   "id": "28298246",
   "metadata": {},
   "outputs": [
    {
     "data": {
      "text/plain": [
       "Fireplace Qu    48.547009\n",
       "Lot Frontage    16.752137\n",
       "dtype: float64"
      ]
     },
     "execution_count": 312,
     "metadata": {},
     "output_type": "execute_result"
    }
   ],
   "source": [
    "percent_nan_cleaned4"
   ]
  },
  {
   "cell_type": "code",
   "execution_count": 314,
   "id": "3b97a351",
   "metadata": {},
   "outputs": [
    {
     "data": {
      "image/png": "[encoded data removed]",
      "text/plain": [
       "<Figure size 600x400 with 1 Axes>"
      ]
     },
     "metadata": {
      "needs_background": "light"
     },
     "output_type": "display_data"
    }
   ],
   "source": [
    "plt.figure(figsize=(6, 4), dpi=100)\n",
    "sns.barplot(x=percent_nan_cleaned4.index, y=percent_nan_cleaned4)\n",
    "plt.xticks(rotation=90);"
   ]
  },
  {
   "cell_type": "code",
   "execution_count": 315,
   "id": "09203c20",
   "metadata": {},
   "outputs": [
    {
     "data": {
      "text/plain": [
       "Gd    741\n",
       "TA    600\n",
       "Fa     75\n",
       "Po     46\n",
       "Ex     43\n",
       "Name: Fireplace Qu, dtype: int64"
      ]
     },
     "execution_count": 315,
     "metadata": {},
     "output_type": "execute_result"
    }
   ],
   "source": [
    "Housing[\"Fireplace Qu\"].value_counts()"
   ]
  },
  {
   "cell_type": "markdown",
   "id": "4cb9cd5b",
   "metadata": {},
   "source": [
    "- Fireplace Qu is a categorical column, so let's fill its missing values with \"None\"."
   ]
  },
  {
   "cell_type": "code",
   "execution_count": 319,
   "id": "d7c9a77f",
   "metadata": {},
   "outputs": [],
   "source": [
    "Housing.loc[:, \"Fireplace Qu\"] = Housing.loc[:, \"Fireplace Qu\"].fillna(\"None\")"
   ]
  },
  {
   "cell_type": "code",
   "execution_count": 320,
   "id": "006d3004",
   "metadata": {},
   "outputs": [],
   "source": [
    "percent_nan_cleaned5 = percent_missing(Housing)"
   ]
  },
  {
   "cell_type": "code",
   "execution_count": 321,
   "id": "1ff5240c",
   "metadata": {},
   "outputs": [
    {
     "data": {
      "text/plain": [
       "Lot Frontage    16.752137\n",
       "dtype: float64"
      ]
     },
     "execution_count": 321,
     "metadata": {},
     "output_type": "execute_result"
    }
   ],
   "source": [
    "percent_nan_cleaned5"
   ]
  },
  {
   "cell_type": "code",
   "execution_count": 325,
   "id": "ef037c73",
   "metadata": {},
   "outputs": [
    {
     "data": {
      "text/plain": [
       "0       141.0\n",
       "1        80.0\n",
       "2        81.0\n",
       "3        93.0\n",
       "4        74.0\n",
       "        ...  \n",
       "2925     37.0\n",
       "2926      NaN\n",
       "2927     62.0\n",
       "2928     77.0\n",
       "2929     74.0\n",
       "Name: Lot Frontage, Length: 2925, dtype: float64"
      ]
     },
     "execution_count": 325,
     "metadata": {},
     "output_type": "execute_result"
    }
   ],
   "source": [
    "Housing[\"Lot Frontage\"]"
   ]
  },
  {
   "cell_type": "markdown",
   "id": "4e4f1fb1",
   "metadata": {},
   "source": [
    "- For this feature, we can no longer just fill it with \"None\" or zero.\n",
    "- We're going to have to use some statistical estimation based on another column to fill in the missing values.\n",
    "\n",
    "    $\\, \\rightarrow \\,$ (domain knowledge)\n",
    "    \n",
    "LotFrontage: \"Linear feet of street connected to property\". \\\n",
    "Neighborhood = \"Physical locations within Ames city limits\".\n",
    "\n",
    "We're going to make a domain knowledge assumption that these features are associated with each other.\n",
    "- If Lot Frontage value is missing, we're going to fill it with the mean Lot Frontage value of the corresponding neighborhood. \n",
    "- For this operation, we can use the df.transform() method.\n",
    "- https://pandas.pydata.org/docs/reference/api/pandas.DataFrame.transform.html"
   ]
  },
  {
   "cell_type": "code",
   "execution_count": 331,
   "id": "69c20b18",
   "metadata": {},
   "outputs": [
    {
     "data": {
      "text/plain": [
       "Neighborhood\n",
       "Blmngtn    46.900000\n",
       "Blueste    27.300000\n",
       "BrDale     21.500000\n",
       "BrkSide    55.789474\n",
       "ClearCr    88.150000\n",
       "CollgCr    71.336364\n",
       "Crawfor    69.951807\n",
       "Edwards    64.794286\n",
       "Gilbert    74.207207\n",
       "Greens     41.000000\n",
       "GrnHill          NaN\n",
       "IDOTRR     62.383721\n",
       "Landmrk          NaN\n",
       "MeadowV    25.606061\n",
       "Mitchel    75.144444\n",
       "NAmes      75.210667\n",
       "NPkVill    28.142857\n",
       "NWAmes     81.517647\n",
       "NoRidge    91.629630\n",
       "NridgHt    84.184049\n",
       "OldTown    61.777293\n",
       "SWISU      59.068182\n",
       "Sawyer     74.551020\n",
       "SawyerW    70.669811\n",
       "Somerst    64.549383\n",
       "StoneBr    62.173913\n",
       "Timber     81.303571\n",
       "Veenker    72.000000\n",
       "Name: Lot Frontage, dtype: float64"
      ]
     },
     "execution_count": 331,
     "metadata": {},
     "output_type": "execute_result"
    }
   ],
   "source": [
    "Housing.groupby(\"Neighborhood\")[\"Lot Frontage\"].mean()"
   ]
  },
  {
   "cell_type": "code",
   "execution_count": 334,
   "id": "cccaa7ba",
   "metadata": {},
   "outputs": [],
   "source": [
    "Housing[\"Lot Frontage\"] = Housing.groupby(\"Neighborhood\")[\"Lot Frontage\"].transform(lambda x: x.fillna(x.mean()))"
   ]
  },
  {
   "cell_type": "markdown",
   "id": "c0127a4d",
   "metadata": {},
   "source": [
    "- group by the Neighborhood feature\n",
    "- use chaining to only return the Lot Frontage column\n",
    "- for every value (x) in this Lot Frontage column, fill in the missing values with the corresponding mean value of that neighborhood (this is achieved with the transform and lambda functions)."
   ]
  },
  {
   "cell_type": "code",
   "execution_count": 335,
   "id": "d00ff256",
   "metadata": {},
   "outputs": [],
   "source": [
    "percent_nan_cleaned6 = percent_missing(Housing)"
   ]
  },
  {
   "cell_type": "code",
   "execution_count": 337,
   "id": "8b968e57",
   "metadata": {},
   "outputs": [
    {
     "data": {
      "text/plain": [
       "Lot Frontage    0.102564\n",
       "dtype: float64"
      ]
     },
     "execution_count": 337,
     "metadata": {},
     "output_type": "execute_result"
    }
   ],
   "source": [
    "percent_nan_cleaned6"
   ]
  },
  {
   "cell_type": "code",
   "execution_count": 344,
   "id": "0011c119",
   "metadata": {},
   "outputs": [
    {
     "data": {
      "text/plain": [
       "3"
      ]
     },
     "execution_count": 344,
     "metadata": {},
     "output_type": "execute_result"
    }
   ],
   "source": [
    "# Check how many values labeled as missing in the Lot Frontage column\n",
    "Housing.isnull()[\"Lot Frontage\"].sum()"
   ]
  },
  {
   "cell_type": "markdown",
   "id": "61cf6a14",
   "metadata": {},
   "source": [
    "- You may wonder that why we still have missing values? Didn't we just fill the missing values in the Lot Frontage column?\n",
    "- This is because if you take a look at the groupby call above where the Lot Frontage means are presented by Neighborhood, some of the means are NaN, meaning that there are no records of the Lot Frontage feature on that specific Neighborhood.\n",
    "- For these 3 missing values, we're just going to fill them as zeros."
   ]
  },
  {
   "cell_type": "code",
   "execution_count": 345,
   "id": "e7de92e3",
   "metadata": {},
   "outputs": [],
   "source": [
    "Housing.loc[:, \"Lot Frontage\"] = Housing.loc[:, \"Lot Frontage\"].fillna(0)"
   ]
  },
  {
   "cell_type": "code",
   "execution_count": 355,
   "id": "52b0a9bc",
   "metadata": {},
   "outputs": [
    {
     "data": {
      "text/plain": [
       "0"
      ]
     },
     "execution_count": 355,
     "metadata": {},
     "output_type": "execute_result"
    }
   ],
   "source": [
    "Housing.isnull().any().sum()"
   ]
  },
  {
   "cell_type": "markdown",
   "id": "e18bff3d",
   "metadata": {},
   "source": [
    "- There are no missing values anymore in the Housing data frame."
   ]
  },
  {
   "cell_type": "markdown",
   "id": "578a97a8",
   "metadata": {},
   "source": [
    "<br>"
   ]
  },
  {
   "cell_type": "markdown",
   "id": "df4c781b",
   "metadata": {},
   "source": [
    "<h3 align=\"left\">Categorical Data - Encoding Options</h3>"
   ]
  },
  {
   "cell_type": "code",
   "execution_count": 384,
   "id": "5d336f2b",
   "metadata": {},
   "outputs": [],
   "source": [
    "# Change the data type of the column\n",
    "Housing[\"Ms SubClass\"] = Housing[\"MS SubClass\"].apply(str)"
   ]
  },
  {
   "cell_type": "markdown",
   "id": "96f045aa",
   "metadata": {},
   "source": [
    "Let's explore how pd.get_dummies() works."
   ]
  },
  {
   "cell_type": "code",
   "execution_count": 385,
   "id": "8d65f5b2",
   "metadata": {},
   "outputs": [],
   "source": [
    "Country =  pd.Series([\"FIN\", \"FIN\", \"SWE\", \"FIN\", \"SWE\", \"GER\", \"GER\", \"FIN\"])"
   ]
  },
  {
   "cell_type": "code",
   "execution_count": 386,
   "id": "95115380",
   "metadata": {},
   "outputs": [
    {
     "data": {
      "text/plain": [
       "0    FIN\n",
       "1    FIN\n",
       "2    SWE\n",
       "3    FIN\n",
       "4    SWE\n",
       "5    GER\n",
       "6    GER\n",
       "7    FIN\n",
       "dtype: object"
      ]
     },
     "execution_count": 386,
     "metadata": {},
     "output_type": "execute_result"
    }
   ],
   "source": [
    "Country"
   ]
  },
  {
   "cell_type": "code",
   "execution_count": 367,
   "id": "c7bbe508",
   "metadata": {},
   "outputs": [
    {
     "data": {
      "text/html": [
       "<div>\n",
       "<style scoped>\n",
       "    .dataframe tbody tr th:only-of-type {\n",
       "        vertical-align: middle;\n",
       "    }\n",
       "\n",
       "    .dataframe tbody tr th {\n",
       "        vertical-align: top;\n",
       "    }\n",
       "\n",
       "    .dataframe thead th {\n",
       "        text-align: right;\n",
       "    }\n",
       "</style>\n",
       "<table border=\"1\" class=\"dataframe\">\n",
       "  <thead>\n",
       "    <tr style=\"text-align: right;\">\n",
       "      <th></th>\n",
       "      <th>FIN</th>\n",
       "      <th>GER</th>\n",
       "      <th>SWE</th>\n",
       "    </tr>\n",
       "  </thead>\n",
       "  <tbody>\n",
       "    <tr>\n",
       "      <th>0</th>\n",
       "      <td>1</td>\n",
       "      <td>0</td>\n",
       "      <td>0</td>\n",
       "    </tr>\n",
       "    <tr>\n",
       "      <th>1</th>\n",
       "      <td>1</td>\n",
       "      <td>0</td>\n",
       "      <td>0</td>\n",
       "    </tr>\n",
       "    <tr>\n",
       "      <th>2</th>\n",
       "      <td>0</td>\n",
       "      <td>0</td>\n",
       "      <td>1</td>\n",
       "    </tr>\n",
       "    <tr>\n",
       "      <th>3</th>\n",
       "      <td>1</td>\n",
       "      <td>0</td>\n",
       "      <td>0</td>\n",
       "    </tr>\n",
       "    <tr>\n",
       "      <th>4</th>\n",
       "      <td>0</td>\n",
       "      <td>0</td>\n",
       "      <td>1</td>\n",
       "    </tr>\n",
       "    <tr>\n",
       "      <th>5</th>\n",
       "      <td>0</td>\n",
       "      <td>1</td>\n",
       "      <td>0</td>\n",
       "    </tr>\n",
       "    <tr>\n",
       "      <th>6</th>\n",
       "      <td>0</td>\n",
       "      <td>1</td>\n",
       "      <td>0</td>\n",
       "    </tr>\n",
       "    <tr>\n",
       "      <th>7</th>\n",
       "      <td>1</td>\n",
       "      <td>0</td>\n",
       "      <td>0</td>\n",
       "    </tr>\n",
       "  </tbody>\n",
       "</table>\n",
       "</div>"
      ],
      "text/plain": [
       "   FIN  GER  SWE\n",
       "0    1    0    0\n",
       "1    1    0    0\n",
       "2    0    0    1\n",
       "3    1    0    0\n",
       "4    0    0    1\n",
       "5    0    1    0\n",
       "6    0    1    0\n",
       "7    1    0    0"
      ]
     },
     "execution_count": 367,
     "metadata": {},
     "output_type": "execute_result"
    }
   ],
   "source": [
    "pd.get_dummies(Country)"
   ]
  },
  {
   "cell_type": "markdown",
   "id": "dff66f23",
   "metadata": {},
   "source": [
    "- You pass in the data (Pandas Series in our example), and Pandas performs the one-hot encoding."
   ]
  },
  {
   "cell_type": "markdown",
   "id": "95cd73b2",
   "metadata": {},
   "source": [
    "Let's split the data frame into string objects and numeric objects (Pandas defines a string as \"object\")."
   ]
  },
  {
   "cell_type": "code",
   "execution_count": 387,
   "id": "75fb527c",
   "metadata": {},
   "outputs": [],
   "source": [
    "# String objects\n",
    "object_cols = Housing.select_dtypes(include=\"object\")\n",
    "# Numeric objects\n",
    "numeric_cols = Housing.select_dtypes(exclude=\"object\")"
   ]
  },
  {
   "cell_type": "markdown",
   "id": "5ef0e8bc",
   "metadata": {},
   "source": [
    "- The reason why we do this is that we want to transform the string features into dummy variables, and then reattach it again with the numeric features to get the original data frame, but now with the one-hot encoded categorical variables."
   ]
  },
  {
   "cell_type": "code",
   "execution_count": 388,
   "id": "b3d4d479",
   "metadata": {},
   "outputs": [],
   "source": [
    "objects_cols_dummies = pd.get_dummies(object_cols, drop_first=True)"
   ]
  },
  {
   "cell_type": "markdown",
   "id": "9f4ab524",
   "metadata": {},
   "source": [
    "- When you use drop_first=True, the first category of each categorical variable is dropped and is implicitly included as the reference category in the model. \n",
    "- This means that the omitted category is still present in the model but is not represented by a separate dummy variable."
   ]
  },
  {
   "cell_type": "code",
   "execution_count": 389,
   "id": "0bd5386a",
   "metadata": {},
   "outputs": [
    {
     "data": {
      "text/html": [
       "<div>\n",
       "<style scoped>\n",
       "    .dataframe tbody tr th:only-of-type {\n",
       "        vertical-align: middle;\n",
       "    }\n",
       "\n",
       "    .dataframe tbody tr th {\n",
       "        vertical-align: top;\n",
       "    }\n",
       "\n",
       "    .dataframe thead th {\n",
       "        text-align: right;\n",
       "    }\n",
       "</style>\n",
       "<table border=\"1\" class=\"dataframe\">\n",
       "  <thead>\n",
       "    <tr style=\"text-align: right;\">\n",
       "      <th></th>\n",
       "      <th>MS Zoning_C (all)</th>\n",
       "      <th>MS Zoning_FV</th>\n",
       "      <th>MS Zoning_I (all)</th>\n",
       "      <th>MS Zoning_RH</th>\n",
       "      <th>MS Zoning_RL</th>\n",
       "      <th>MS Zoning_RM</th>\n",
       "      <th>Street_Pave</th>\n",
       "      <th>Lot Shape_IR2</th>\n",
       "      <th>Lot Shape_IR3</th>\n",
       "      <th>Lot Shape_Reg</th>\n",
       "      <th>...</th>\n",
       "      <th>Ms SubClass_30</th>\n",
       "      <th>Ms SubClass_40</th>\n",
       "      <th>Ms SubClass_45</th>\n",
       "      <th>Ms SubClass_50</th>\n",
       "      <th>Ms SubClass_60</th>\n",
       "      <th>Ms SubClass_70</th>\n",
       "      <th>Ms SubClass_75</th>\n",
       "      <th>Ms SubClass_80</th>\n",
       "      <th>Ms SubClass_85</th>\n",
       "      <th>Ms SubClass_90</th>\n",
       "    </tr>\n",
       "  </thead>\n",
       "  <tbody>\n",
       "    <tr>\n",
       "      <th>0</th>\n",
       "      <td>0</td>\n",
       "      <td>0</td>\n",
       "      <td>0</td>\n",
       "      <td>0</td>\n",
       "      <td>1</td>\n",
       "      <td>0</td>\n",
       "      <td>1</td>\n",
       "      <td>0</td>\n",
       "      <td>0</td>\n",
       "      <td>0</td>\n",
       "      <td>...</td>\n",
       "      <td>0</td>\n",
       "      <td>0</td>\n",
       "      <td>0</td>\n",
       "      <td>0</td>\n",
       "      <td>0</td>\n",
       "      <td>0</td>\n",
       "      <td>0</td>\n",
       "      <td>0</td>\n",
       "      <td>0</td>\n",
       "      <td>0</td>\n",
       "    </tr>\n",
       "    <tr>\n",
       "      <th>1</th>\n",
       "      <td>0</td>\n",
       "      <td>0</td>\n",
       "      <td>0</td>\n",
       "      <td>1</td>\n",
       "      <td>0</td>\n",
       "      <td>0</td>\n",
       "      <td>1</td>\n",
       "      <td>0</td>\n",
       "      <td>0</td>\n",
       "      <td>1</td>\n",
       "      <td>...</td>\n",
       "      <td>0</td>\n",
       "      <td>0</td>\n",
       "      <td>0</td>\n",
       "      <td>0</td>\n",
       "      <td>0</td>\n",
       "      <td>0</td>\n",
       "      <td>0</td>\n",
       "      <td>0</td>\n",
       "      <td>0</td>\n",
       "      <td>0</td>\n",
       "    </tr>\n",
       "    <tr>\n",
       "      <th>2</th>\n",
       "      <td>0</td>\n",
       "      <td>0</td>\n",
       "      <td>0</td>\n",
       "      <td>0</td>\n",
       "      <td>1</td>\n",
       "      <td>0</td>\n",
       "      <td>1</td>\n",
       "      <td>0</td>\n",
       "      <td>0</td>\n",
       "      <td>0</td>\n",
       "      <td>...</td>\n",
       "      <td>0</td>\n",
       "      <td>0</td>\n",
       "      <td>0</td>\n",
       "      <td>0</td>\n",
       "      <td>0</td>\n",
       "      <td>0</td>\n",
       "      <td>0</td>\n",
       "      <td>0</td>\n",
       "      <td>0</td>\n",
       "      <td>0</td>\n",
       "    </tr>\n",
       "    <tr>\n",
       "      <th>3</th>\n",
       "      <td>0</td>\n",
       "      <td>0</td>\n",
       "      <td>0</td>\n",
       "      <td>0</td>\n",
       "      <td>1</td>\n",
       "      <td>0</td>\n",
       "      <td>1</td>\n",
       "      <td>0</td>\n",
       "      <td>0</td>\n",
       "      <td>1</td>\n",
       "      <td>...</td>\n",
       "      <td>0</td>\n",
       "      <td>0</td>\n",
       "      <td>0</td>\n",
       "      <td>0</td>\n",
       "      <td>0</td>\n",
       "      <td>0</td>\n",
       "      <td>0</td>\n",
       "      <td>0</td>\n",
       "      <td>0</td>\n",
       "      <td>0</td>\n",
       "    </tr>\n",
       "    <tr>\n",
       "      <th>4</th>\n",
       "      <td>0</td>\n",
       "      <td>0</td>\n",
       "      <td>0</td>\n",
       "      <td>0</td>\n",
       "      <td>1</td>\n",
       "      <td>0</td>\n",
       "      <td>1</td>\n",
       "      <td>0</td>\n",
       "      <td>0</td>\n",
       "      <td>0</td>\n",
       "      <td>...</td>\n",
       "      <td>0</td>\n",
       "      <td>0</td>\n",
       "      <td>0</td>\n",
       "      <td>0</td>\n",
       "      <td>1</td>\n",
       "      <td>0</td>\n",
       "      <td>0</td>\n",
       "      <td>0</td>\n",
       "      <td>0</td>\n",
       "      <td>0</td>\n",
       "    </tr>\n",
       "    <tr>\n",
       "      <th>...</th>\n",
       "      <td>...</td>\n",
       "      <td>...</td>\n",
       "      <td>...</td>\n",
       "      <td>...</td>\n",
       "      <td>...</td>\n",
       "      <td>...</td>\n",
       "      <td>...</td>\n",
       "      <td>...</td>\n",
       "      <td>...</td>\n",
       "      <td>...</td>\n",
       "      <td>...</td>\n",
       "      <td>...</td>\n",
       "      <td>...</td>\n",
       "      <td>...</td>\n",
       "      <td>...</td>\n",
       "      <td>...</td>\n",
       "      <td>...</td>\n",
       "      <td>...</td>\n",
       "      <td>...</td>\n",
       "      <td>...</td>\n",
       "      <td>...</td>\n",
       "    </tr>\n",
       "    <tr>\n",
       "      <th>2925</th>\n",
       "      <td>0</td>\n",
       "      <td>0</td>\n",
       "      <td>0</td>\n",
       "      <td>0</td>\n",
       "      <td>1</td>\n",
       "      <td>0</td>\n",
       "      <td>1</td>\n",
       "      <td>0</td>\n",
       "      <td>0</td>\n",
       "      <td>0</td>\n",
       "      <td>...</td>\n",
       "      <td>0</td>\n",
       "      <td>0</td>\n",
       "      <td>0</td>\n",
       "      <td>0</td>\n",
       "      <td>0</td>\n",
       "      <td>0</td>\n",
       "      <td>0</td>\n",
       "      <td>1</td>\n",
       "      <td>0</td>\n",
       "      <td>0</td>\n",
       "    </tr>\n",
       "    <tr>\n",
       "      <th>2926</th>\n",
       "      <td>0</td>\n",
       "      <td>0</td>\n",
       "      <td>0</td>\n",
       "      <td>0</td>\n",
       "      <td>1</td>\n",
       "      <td>0</td>\n",
       "      <td>1</td>\n",
       "      <td>0</td>\n",
       "      <td>0</td>\n",
       "      <td>0</td>\n",
       "      <td>...</td>\n",
       "      <td>0</td>\n",
       "      <td>0</td>\n",
       "      <td>0</td>\n",
       "      <td>0</td>\n",
       "      <td>0</td>\n",
       "      <td>0</td>\n",
       "      <td>0</td>\n",
       "      <td>0</td>\n",
       "      <td>0</td>\n",
       "      <td>0</td>\n",
       "    </tr>\n",
       "    <tr>\n",
       "      <th>2927</th>\n",
       "      <td>0</td>\n",
       "      <td>0</td>\n",
       "      <td>0</td>\n",
       "      <td>0</td>\n",
       "      <td>1</td>\n",
       "      <td>0</td>\n",
       "      <td>1</td>\n",
       "      <td>0</td>\n",
       "      <td>0</td>\n",
       "      <td>1</td>\n",
       "      <td>...</td>\n",
       "      <td>0</td>\n",
       "      <td>0</td>\n",
       "      <td>0</td>\n",
       "      <td>0</td>\n",
       "      <td>0</td>\n",
       "      <td>0</td>\n",
       "      <td>0</td>\n",
       "      <td>0</td>\n",
       "      <td>1</td>\n",
       "      <td>0</td>\n",
       "    </tr>\n",
       "    <tr>\n",
       "      <th>2928</th>\n",
       "      <td>0</td>\n",
       "      <td>0</td>\n",
       "      <td>0</td>\n",
       "      <td>0</td>\n",
       "      <td>1</td>\n",
       "      <td>0</td>\n",
       "      <td>1</td>\n",
       "      <td>0</td>\n",
       "      <td>0</td>\n",
       "      <td>1</td>\n",
       "      <td>...</td>\n",
       "      <td>0</td>\n",
       "      <td>0</td>\n",
       "      <td>0</td>\n",
       "      <td>0</td>\n",
       "      <td>0</td>\n",
       "      <td>0</td>\n",
       "      <td>0</td>\n",
       "      <td>0</td>\n",
       "      <td>0</td>\n",
       "      <td>0</td>\n",
       "    </tr>\n",
       "    <tr>\n",
       "      <th>2929</th>\n",
       "      <td>0</td>\n",
       "      <td>0</td>\n",
       "      <td>0</td>\n",
       "      <td>0</td>\n",
       "      <td>1</td>\n",
       "      <td>0</td>\n",
       "      <td>1</td>\n",
       "      <td>0</td>\n",
       "      <td>0</td>\n",
       "      <td>1</td>\n",
       "      <td>...</td>\n",
       "      <td>0</td>\n",
       "      <td>0</td>\n",
       "      <td>0</td>\n",
       "      <td>0</td>\n",
       "      <td>1</td>\n",
       "      <td>0</td>\n",
       "      <td>0</td>\n",
       "      <td>0</td>\n",
       "      <td>0</td>\n",
       "      <td>0</td>\n",
       "    </tr>\n",
       "  </tbody>\n",
       "</table>\n",
       "<p>2925 rows × 242 columns</p>\n",
       "</div>"
      ],
      "text/plain": [
       "      MS Zoning_C (all)  MS Zoning_FV  MS Zoning_I (all)  MS Zoning_RH  \\\n",
       "0                     0             0                  0             0   \n",
       "1                     0             0                  0             1   \n",
       "2                     0             0                  0             0   \n",
       "3                     0             0                  0             0   \n",
       "4                     0             0                  0             0   \n",
       "...                 ...           ...                ...           ...   \n",
       "2925                  0             0                  0             0   \n",
       "2926                  0             0                  0             0   \n",
       "2927                  0             0                  0             0   \n",
       "2928                  0             0                  0             0   \n",
       "2929                  0             0                  0             0   \n",
       "\n",
       "      MS Zoning_RL  MS Zoning_RM  Street_Pave  Lot Shape_IR2  Lot Shape_IR3  \\\n",
       "0                1             0            1              0              0   \n",
       "1                0             0            1              0              0   \n",
       "2                1             0            1              0              0   \n",
       "3                1             0            1              0              0   \n",
       "4                1             0            1              0              0   \n",
       "...            ...           ...          ...            ...            ...   \n",
       "2925             1             0            1              0              0   \n",
       "2926             1             0            1              0              0   \n",
       "2927             1             0            1              0              0   \n",
       "2928             1             0            1              0              0   \n",
       "2929             1             0            1              0              0   \n",
       "\n",
       "      Lot Shape_Reg  ...  Ms SubClass_30  Ms SubClass_40  Ms SubClass_45  \\\n",
       "0                 0  ...               0               0               0   \n",
       "1                 1  ...               0               0               0   \n",
       "2                 0  ...               0               0               0   \n",
       "3                 1  ...               0               0               0   \n",
       "4                 0  ...               0               0               0   \n",
       "...             ...  ...             ...             ...             ...   \n",
       "2925              0  ...               0               0               0   \n",
       "2926              0  ...               0               0               0   \n",
       "2927              1  ...               0               0               0   \n",
       "2928              1  ...               0               0               0   \n",
       "2929              1  ...               0               0               0   \n",
       "\n",
       "      Ms SubClass_50  Ms SubClass_60  Ms SubClass_70  Ms SubClass_75  \\\n",
       "0                  0               0               0               0   \n",
       "1                  0               0               0               0   \n",
       "2                  0               0               0               0   \n",
       "3                  0               0               0               0   \n",
       "4                  0               1               0               0   \n",
       "...              ...             ...             ...             ...   \n",
       "2925               0               0               0               0   \n",
       "2926               0               0               0               0   \n",
       "2927               0               0               0               0   \n",
       "2928               0               0               0               0   \n",
       "2929               0               1               0               0   \n",
       "\n",
       "      Ms SubClass_80  Ms SubClass_85  Ms SubClass_90  \n",
       "0                  0               0               0  \n",
       "1                  0               0               0  \n",
       "2                  0               0               0  \n",
       "3                  0               0               0  \n",
       "4                  0               0               0  \n",
       "...              ...             ...             ...  \n",
       "2925               1               0               0  \n",
       "2926               0               0               0  \n",
       "2927               0               1               0  \n",
       "2928               0               0               0  \n",
       "2929               0               0               0  \n",
       "\n",
       "[2925 rows x 242 columns]"
      ]
     },
     "execution_count": 389,
     "metadata": {},
     "output_type": "execute_result"
    }
   ],
   "source": [
    "objects_cols_dummies"
   ]
  },
  {
   "cell_type": "markdown",
   "id": "1de62575",
   "metadata": {},
   "source": [
    "Now, let's concatenate the numeric and categorical (dummy-coded) columns back together as the final data frame."
   ]
  },
  {
   "cell_type": "code",
   "execution_count": 393,
   "id": "f1d14bc1",
   "metadata": {},
   "outputs": [],
   "source": [
    "final_df = pd.concat([numeric_cols, objects_cols_dummies], axis=1)"
   ]
  },
  {
   "cell_type": "code",
   "execution_count": 394,
   "id": "99464ddd",
   "metadata": {},
   "outputs": [
    {
     "data": {
      "text/html": [
       "<div>\n",
       "<style scoped>\n",
       "    .dataframe tbody tr th:only-of-type {\n",
       "        vertical-align: middle;\n",
       "    }\n",
       "\n",
       "    .dataframe tbody tr th {\n",
       "        vertical-align: top;\n",
       "    }\n",
       "\n",
       "    .dataframe thead th {\n",
       "        text-align: right;\n",
       "    }\n",
       "</style>\n",
       "<table border=\"1\" class=\"dataframe\">\n",
       "  <thead>\n",
       "    <tr style=\"text-align: right;\">\n",
       "      <th></th>\n",
       "      <th>MS SubClass</th>\n",
       "      <th>Lot Frontage</th>\n",
       "      <th>Lot Area</th>\n",
       "      <th>Overall Qual</th>\n",
       "      <th>Overall Cond</th>\n",
       "      <th>Year Built</th>\n",
       "      <th>Year Remod/Add</th>\n",
       "      <th>BsmtFin SF 1</th>\n",
       "      <th>BsmtFin SF 2</th>\n",
       "      <th>Bsmt Unf SF</th>\n",
       "      <th>...</th>\n",
       "      <th>Ms SubClass_30</th>\n",
       "      <th>Ms SubClass_40</th>\n",
       "      <th>Ms SubClass_45</th>\n",
       "      <th>Ms SubClass_50</th>\n",
       "      <th>Ms SubClass_60</th>\n",
       "      <th>Ms SubClass_70</th>\n",
       "      <th>Ms SubClass_75</th>\n",
       "      <th>Ms SubClass_80</th>\n",
       "      <th>Ms SubClass_85</th>\n",
       "      <th>Ms SubClass_90</th>\n",
       "    </tr>\n",
       "  </thead>\n",
       "  <tbody>\n",
       "    <tr>\n",
       "      <th>0</th>\n",
       "      <td>20</td>\n",
       "      <td>141.000000</td>\n",
       "      <td>31770</td>\n",
       "      <td>6</td>\n",
       "      <td>5</td>\n",
       "      <td>1960</td>\n",
       "      <td>1960</td>\n",
       "      <td>639.0</td>\n",
       "      <td>0.0</td>\n",
       "      <td>441.0</td>\n",
       "      <td>...</td>\n",
       "      <td>0</td>\n",
       "      <td>0</td>\n",
       "      <td>0</td>\n",
       "      <td>0</td>\n",
       "      <td>0</td>\n",
       "      <td>0</td>\n",
       "      <td>0</td>\n",
       "      <td>0</td>\n",
       "      <td>0</td>\n",
       "      <td>0</td>\n",
       "    </tr>\n",
       "    <tr>\n",
       "      <th>1</th>\n",
       "      <td>20</td>\n",
       "      <td>80.000000</td>\n",
       "      <td>11622</td>\n",
       "      <td>5</td>\n",
       "      <td>6</td>\n",
       "      <td>1961</td>\n",
       "      <td>1961</td>\n",
       "      <td>468.0</td>\n",
       "      <td>144.0</td>\n",
       "      <td>270.0</td>\n",
       "      <td>...</td>\n",
       "      <td>0</td>\n",
       "      <td>0</td>\n",
       "      <td>0</td>\n",
       "      <td>0</td>\n",
       "      <td>0</td>\n",
       "      <td>0</td>\n",
       "      <td>0</td>\n",
       "      <td>0</td>\n",
       "      <td>0</td>\n",
       "      <td>0</td>\n",
       "    </tr>\n",
       "    <tr>\n",
       "      <th>2</th>\n",
       "      <td>20</td>\n",
       "      <td>81.000000</td>\n",
       "      <td>14267</td>\n",
       "      <td>6</td>\n",
       "      <td>6</td>\n",
       "      <td>1958</td>\n",
       "      <td>1958</td>\n",
       "      <td>923.0</td>\n",
       "      <td>0.0</td>\n",
       "      <td>406.0</td>\n",
       "      <td>...</td>\n",
       "      <td>0</td>\n",
       "      <td>0</td>\n",
       "      <td>0</td>\n",
       "      <td>0</td>\n",
       "      <td>0</td>\n",
       "      <td>0</td>\n",
       "      <td>0</td>\n",
       "      <td>0</td>\n",
       "      <td>0</td>\n",
       "      <td>0</td>\n",
       "    </tr>\n",
       "    <tr>\n",
       "      <th>3</th>\n",
       "      <td>20</td>\n",
       "      <td>93.000000</td>\n",
       "      <td>11160</td>\n",
       "      <td>7</td>\n",
       "      <td>5</td>\n",
       "      <td>1968</td>\n",
       "      <td>1968</td>\n",
       "      <td>1065.0</td>\n",
       "      <td>0.0</td>\n",
       "      <td>1045.0</td>\n",
       "      <td>...</td>\n",
       "      <td>0</td>\n",
       "      <td>0</td>\n",
       "      <td>0</td>\n",
       "      <td>0</td>\n",
       "      <td>0</td>\n",
       "      <td>0</td>\n",
       "      <td>0</td>\n",
       "      <td>0</td>\n",
       "      <td>0</td>\n",
       "      <td>0</td>\n",
       "    </tr>\n",
       "    <tr>\n",
       "      <th>4</th>\n",
       "      <td>60</td>\n",
       "      <td>74.000000</td>\n",
       "      <td>13830</td>\n",
       "      <td>5</td>\n",
       "      <td>5</td>\n",
       "      <td>1997</td>\n",
       "      <td>1998</td>\n",
       "      <td>791.0</td>\n",
       "      <td>0.0</td>\n",
       "      <td>137.0</td>\n",
       "      <td>...</td>\n",
       "      <td>0</td>\n",
       "      <td>0</td>\n",
       "      <td>0</td>\n",
       "      <td>0</td>\n",
       "      <td>1</td>\n",
       "      <td>0</td>\n",
       "      <td>0</td>\n",
       "      <td>0</td>\n",
       "      <td>0</td>\n",
       "      <td>0</td>\n",
       "    </tr>\n",
       "    <tr>\n",
       "      <th>...</th>\n",
       "      <td>...</td>\n",
       "      <td>...</td>\n",
       "      <td>...</td>\n",
       "      <td>...</td>\n",
       "      <td>...</td>\n",
       "      <td>...</td>\n",
       "      <td>...</td>\n",
       "      <td>...</td>\n",
       "      <td>...</td>\n",
       "      <td>...</td>\n",
       "      <td>...</td>\n",
       "      <td>...</td>\n",
       "      <td>...</td>\n",
       "      <td>...</td>\n",
       "      <td>...</td>\n",
       "      <td>...</td>\n",
       "      <td>...</td>\n",
       "      <td>...</td>\n",
       "      <td>...</td>\n",
       "      <td>...</td>\n",
       "      <td>...</td>\n",
       "    </tr>\n",
       "    <tr>\n",
       "      <th>2925</th>\n",
       "      <td>80</td>\n",
       "      <td>37.000000</td>\n",
       "      <td>7937</td>\n",
       "      <td>6</td>\n",
       "      <td>6</td>\n",
       "      <td>1984</td>\n",
       "      <td>1984</td>\n",
       "      <td>819.0</td>\n",
       "      <td>0.0</td>\n",
       "      <td>184.0</td>\n",
       "      <td>...</td>\n",
       "      <td>0</td>\n",
       "      <td>0</td>\n",
       "      <td>0</td>\n",
       "      <td>0</td>\n",
       "      <td>0</td>\n",
       "      <td>0</td>\n",
       "      <td>0</td>\n",
       "      <td>1</td>\n",
       "      <td>0</td>\n",
       "      <td>0</td>\n",
       "    </tr>\n",
       "    <tr>\n",
       "      <th>2926</th>\n",
       "      <td>20</td>\n",
       "      <td>75.144444</td>\n",
       "      <td>8885</td>\n",
       "      <td>5</td>\n",
       "      <td>5</td>\n",
       "      <td>1983</td>\n",
       "      <td>1983</td>\n",
       "      <td>301.0</td>\n",
       "      <td>324.0</td>\n",
       "      <td>239.0</td>\n",
       "      <td>...</td>\n",
       "      <td>0</td>\n",
       "      <td>0</td>\n",
       "      <td>0</td>\n",
       "      <td>0</td>\n",
       "      <td>0</td>\n",
       "      <td>0</td>\n",
       "      <td>0</td>\n",
       "      <td>0</td>\n",
       "      <td>0</td>\n",
       "      <td>0</td>\n",
       "    </tr>\n",
       "    <tr>\n",
       "      <th>2927</th>\n",
       "      <td>85</td>\n",
       "      <td>62.000000</td>\n",
       "      <td>10441</td>\n",
       "      <td>5</td>\n",
       "      <td>5</td>\n",
       "      <td>1992</td>\n",
       "      <td>1992</td>\n",
       "      <td>337.0</td>\n",
       "      <td>0.0</td>\n",
       "      <td>575.0</td>\n",
       "      <td>...</td>\n",
       "      <td>0</td>\n",
       "      <td>0</td>\n",
       "      <td>0</td>\n",
       "      <td>0</td>\n",
       "      <td>0</td>\n",
       "      <td>0</td>\n",
       "      <td>0</td>\n",
       "      <td>0</td>\n",
       "      <td>1</td>\n",
       "      <td>0</td>\n",
       "    </tr>\n",
       "    <tr>\n",
       "      <th>2928</th>\n",
       "      <td>20</td>\n",
       "      <td>77.000000</td>\n",
       "      <td>10010</td>\n",
       "      <td>5</td>\n",
       "      <td>5</td>\n",
       "      <td>1974</td>\n",
       "      <td>1975</td>\n",
       "      <td>1071.0</td>\n",
       "      <td>123.0</td>\n",
       "      <td>195.0</td>\n",
       "      <td>...</td>\n",
       "      <td>0</td>\n",
       "      <td>0</td>\n",
       "      <td>0</td>\n",
       "      <td>0</td>\n",
       "      <td>0</td>\n",
       "      <td>0</td>\n",
       "      <td>0</td>\n",
       "      <td>0</td>\n",
       "      <td>0</td>\n",
       "      <td>0</td>\n",
       "    </tr>\n",
       "    <tr>\n",
       "      <th>2929</th>\n",
       "      <td>60</td>\n",
       "      <td>74.000000</td>\n",
       "      <td>9627</td>\n",
       "      <td>7</td>\n",
       "      <td>5</td>\n",
       "      <td>1993</td>\n",
       "      <td>1994</td>\n",
       "      <td>758.0</td>\n",
       "      <td>0.0</td>\n",
       "      <td>238.0</td>\n",
       "      <td>...</td>\n",
       "      <td>0</td>\n",
       "      <td>0</td>\n",
       "      <td>0</td>\n",
       "      <td>0</td>\n",
       "      <td>1</td>\n",
       "      <td>0</td>\n",
       "      <td>0</td>\n",
       "      <td>0</td>\n",
       "      <td>0</td>\n",
       "      <td>0</td>\n",
       "    </tr>\n",
       "  </tbody>\n",
       "</table>\n",
       "<p>2925 rows × 278 columns</p>\n",
       "</div>"
      ],
      "text/plain": [
       "      MS SubClass  Lot Frontage  Lot Area  Overall Qual  Overall Cond  \\\n",
       "0              20    141.000000     31770             6             5   \n",
       "1              20     80.000000     11622             5             6   \n",
       "2              20     81.000000     14267             6             6   \n",
       "3              20     93.000000     11160             7             5   \n",
       "4              60     74.000000     13830             5             5   \n",
       "...           ...           ...       ...           ...           ...   \n",
       "2925           80     37.000000      7937             6             6   \n",
       "2926           20     75.144444      8885             5             5   \n",
       "2927           85     62.000000     10441             5             5   \n",
       "2928           20     77.000000     10010             5             5   \n",
       "2929           60     74.000000      9627             7             5   \n",
       "\n",
       "      Year Built  Year Remod/Add  BsmtFin SF 1  BsmtFin SF 2  Bsmt Unf SF  \\\n",
       "0           1960            1960         639.0           0.0        441.0   \n",
       "1           1961            1961         468.0         144.0        270.0   \n",
       "2           1958            1958         923.0           0.0        406.0   \n",
       "3           1968            1968        1065.0           0.0       1045.0   \n",
       "4           1997            1998         791.0           0.0        137.0   \n",
       "...          ...             ...           ...           ...          ...   \n",
       "2925        1984            1984         819.0           0.0        184.0   \n",
       "2926        1983            1983         301.0         324.0        239.0   \n",
       "2927        1992            1992         337.0           0.0        575.0   \n",
       "2928        1974            1975        1071.0         123.0        195.0   \n",
       "2929        1993            1994         758.0           0.0        238.0   \n",
       "\n",
       "      ...  Ms SubClass_30  Ms SubClass_40  Ms SubClass_45  Ms SubClass_50  \\\n",
       "0     ...               0               0               0               0   \n",
       "1     ...               0               0               0               0   \n",
       "2     ...               0               0               0               0   \n",
       "3     ...               0               0               0               0   \n",
       "4     ...               0               0               0               0   \n",
       "...   ...             ...             ...             ...             ...   \n",
       "2925  ...               0               0               0               0   \n",
       "2926  ...               0               0               0               0   \n",
       "2927  ...               0               0               0               0   \n",
       "2928  ...               0               0               0               0   \n",
       "2929  ...               0               0               0               0   \n",
       "\n",
       "      Ms SubClass_60  Ms SubClass_70  Ms SubClass_75  Ms SubClass_80  \\\n",
       "0                  0               0               0               0   \n",
       "1                  0               0               0               0   \n",
       "2                  0               0               0               0   \n",
       "3                  0               0               0               0   \n",
       "4                  1               0               0               0   \n",
       "...              ...             ...             ...             ...   \n",
       "2925               0               0               0               1   \n",
       "2926               0               0               0               0   \n",
       "2927               0               0               0               0   \n",
       "2928               0               0               0               0   \n",
       "2929               1               0               0               0   \n",
       "\n",
       "      Ms SubClass_85  Ms SubClass_90  \n",
       "0                  0               0  \n",
       "1                  0               0  \n",
       "2                  0               0  \n",
       "3                  0               0  \n",
       "4                  0               0  \n",
       "...              ...             ...  \n",
       "2925               0               0  \n",
       "2926               0               0  \n",
       "2927               1               0  \n",
       "2928               0               0  \n",
       "2929               0               0  \n",
       "\n",
       "[2925 rows x 278 columns]"
      ]
     },
     "execution_count": 394,
     "metadata": {},
     "output_type": "execute_result"
    }
   ],
   "source": [
    "final_df"
   ]
  },
  {
   "cell_type": "markdown",
   "id": "84b31951",
   "metadata": {},
   "source": [
    "- Finally, after the feature engineering and data preperation process, our data frame is cleaned, transformed, and ready to be used in the house prediction."
   ]
  }
 ],
 "metadata": {
  "kernelspec": {
   "display_name": "Python 3 (ipykernel)",
   "language": "python",
   "name": "python3"
  },
  "language_info": {
   "codemirror_mode": {
    "name": "ipython",
    "version": 3
   },
   "file_extension": ".py",
   "mimetype": "text/x-python",
   "name": "python",
   "nbconvert_exporter": "python",
   "pygments_lexer": "ipython3",
   "version": "3.9.12"
  }
 },
 "nbformat": 4,
 "nbformat_minor": 5
}
