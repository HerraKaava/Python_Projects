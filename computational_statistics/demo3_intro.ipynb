{
 "cells": [
  {
   "cell_type": "code",
   "execution_count": 1,
   "id": "44c4df00",
   "metadata": {},
   "outputs": [],
   "source": [
    "import numpy as np\n",
    "import pandas as pd\n",
    "import seaborn as sns\n",
    "import matplotlib.pyplot as plt\n",
    "from scipy.stats import ttest_ind"
   ]
  },
  {
   "cell_type": "markdown",
   "id": "ef758380",
   "metadata": {},
   "source": [
    "<h3>Task 1</h3>"
   ]
  },
  {
   "cell_type": "code",
   "execution_count": 2,
   "id": "2408e598",
   "metadata": {},
   "outputs": [],
   "source": [
    "x = np.array([4.17, 5.58, 5.18, 6.11, 4.5, 4.61, 5.17, 4.53, 5.33, 5.14])\n",
    "y = np.array([6.31, 5.12, 5.54, 5.5, 5.37, 5.29, 4.92, 6.15, 5.8, 5.26])"
   ]
  },
  {
   "cell_type": "code",
   "execution_count": 3,
   "id": "03848a63",
   "metadata": {},
   "outputs": [],
   "source": [
    "df = pd.DataFrame({\n",
    "    'ctrl': x,\n",
    "    'trt': y\n",
    "})"
   ]
  },
  {
   "cell_type": "code",
   "execution_count": 4,
   "id": "65960093",
   "metadata": {
    "scrolled": false
   },
   "outputs": [
    {
     "data": {
      "image/png": "[encoded data removed]",
      "text/plain": [
       "<Figure size 640x480 with 1 Axes>"
      ]
     },
     "metadata": {},
     "output_type": "display_data"
    }
   ],
   "source": [
    "sns.boxplot(df)\n",
    "plt.xlabel('group')\n",
    "plt.ylabel('value');"
   ]
  },
  {
   "cell_type": "markdown",
   "id": "b1853552",
   "metadata": {},
   "source": [
    "As it is not explicitly stated that what the alternative hypothesis should be, we will use the safer and more conservative option; a two-sided alternative hypothesis.\n",
    "\n",
    "$$\n",
    "\\begin{aligned}\n",
    "\\text{H}_0 &: \\mu_1 = \\mu_2 \\\\\n",
    "\\text{H}_1 &: \\mu_1 \\ne \\mu_2\n",
    "\\end{aligned}\n",
    "$$"
   ]
  },
  {
   "cell_type": "code",
   "execution_count": 5,
   "id": "23a241b4",
   "metadata": {},
   "outputs": [
    {
     "name": "stdout",
     "output_type": "stream",
     "text": [
      "0.305996\n",
      "0.17628399999999997\n"
     ]
    }
   ],
   "source": [
    "print(np.var(x))\n",
    "print(np.var(y))"
   ]
  },
  {
   "cell_type": "markdown",
   "id": "e5f1bcad",
   "metadata": {},
   "source": [
    "- Assuming equal variances is not plausible.\n",
    "- Hence, we will use [Welch's *t*-test](https://en.wikipedia.org/wiki/Welch%27s_t-test):\n",
    "\n",
    "\\begin{equation*}\n",
    "    \\large t = \\frac{\\bar{x}_1 - \\bar{x}_2}{\\sqrt{\\frac{s_1^2}{n_1} + \\frac{s_2^2}{n_2}}}.\n",
    "\\end{equation*}"
   ]
  },
  {
   "cell_type": "code",
   "execution_count": 6,
   "id": "9f0d18fe",
   "metadata": {},
   "outputs": [],
   "source": [
    "def t_stat(x1, x2):\n",
    "    mu1 = np.mean(x1)\n",
    "    mu2 = np.mean(x2)\n",
    "    s1 = np.var(x1, ddof=1)\n",
    "    s2 = np.var(x2, ddof=1)\n",
    "    n1 = x1.shape[0]\n",
    "    n2 = x2.shape[0]\n",
    "    return (mu1 - mu2) / np.sqrt((s1 / n1) + (s2 / n2))"
   ]
  },
  {
   "cell_type": "code",
   "execution_count": 7,
   "id": "d8d475c8",
   "metadata": {},
   "outputs": [],
   "source": [
    "def permute(x, y, n):\n",
    "    xy = np.concatenate([x,y], axis=0)\n",
    "    n1 = x.shape[0]\n",
    "    n12 = xy.shape[0]\n",
    "    test_stats = []\n",
    "    for i in range(n):\n",
    "        xy_permuted = np.random.permutation(xy)\n",
    "        x1 = xy_permuted[:x.shape[0]]\n",
    "        x2 = xy_permuted[x.shape[0]:xy.shape[0]]\n",
    "        stat = t_stat(x1=x1, x2=x2)\n",
    "        test_stats.append(stat)\n",
    "    return test_stats"
   ]
  },
  {
   "cell_type": "code",
   "execution_count": 8,
   "id": "b11ede0e",
   "metadata": {},
   "outputs": [
    {
     "data": {
      "text/plain": [
       "TtestResult(statistic=np.float64(-2.1340204531240654), pvalue=np.float64(0.047899255601968935), df=np.float64(16.785764482605718))"
      ]
     },
     "execution_count": 8,
     "metadata": {},
     "output_type": "execute_result"
    }
   ],
   "source": [
    "# SciPy (traditional t-test approach)\n",
    "ttest_ind(x, y, alternative='two-sided', equal_var=False)"
   ]
  },
  {
   "cell_type": "code",
   "execution_count": 13,
   "id": "a3373e56",
   "metadata": {},
   "outputs": [
    {
     "name": "stdout",
     "output_type": "stream",
     "text": [
      "P-value: 0.044\n"
     ]
    }
   ],
   "source": [
    "# Permutation test\n",
    "stat_sample = permute(x, y, n=10000)\n",
    "print(f'P-value: {np.mean(np.abs(stat_sample) >= np.abs(t_stat(x,y)))}')"
   ]
  },
  {
   "cell_type": "markdown",
   "id": "f6dbe0a9",
   "metadata": {},
   "source": [
    "- Since the p-value is smaller than the conventionally used significance level $\\, \\alpha = 0.05, \\,$ one can reject the null hypothesis and conclude that the treatment effect is statistically significant."
   ]
  },
  {
   "cell_type": "code",
   "execution_count": 14,
   "id": "bdfb9755",
   "metadata": {},
   "outputs": [
    {
     "data": {
      "image/png": "[encoded data removed]",
      "text/plain": [
       "<Figure size 640x480 with 1 Axes>"
      ]
     },
     "metadata": {},
     "output_type": "display_data"
    }
   ],
   "source": [
    "counts, _, _ = plt.hist(stat_sample, bins=20, edgecolor='black')\n",
    "plt.vlines(x=t_stat(x,y), ymin=0, ymax=np.max(counts), linestyle='dashed', color='k')\n",
    "plt.vlines(x=-t_stat(x,y), ymin=0, ymax=np.max(counts), linestyle='dashed', color='k');"
   ]
  },
  {
   "cell_type": "markdown",
   "id": "611d3681",
   "metadata": {},
   "source": [
    "A p-value is the probability of observing a test statistic as extreme or more extreme than the one obtained from the sample at hand, assuming that the null hypothesis is true. This translates to the following proportion\n",
    "\n",
    "\\begin{equation*}\n",
    "    \\text{P}(\\text{T} \\ge |\\text{t}_{\\text{obs}}|) \\, + \\, \\text{P}(\\text{T} \\le -|\\text{t}_{\\text{obs}}|) = \\frac{1}{n}\\sum_{i=1}^{n} I(T_i \\ge |t|) \\, + \\, \\frac{1}{n}\\sum_{i=1}^{n} I(T_i \\le -|t|) = \\frac{1}{n} \\sum_{i=1}^{n} I(|T_i| \\ge |\\text{t}_{\\text{obs}}|),\n",
    "\\end{equation*}\n",
    "\n",
    "where $\\, I(\\cdot) \\,$ is an indicator variable that is True if the expression inside of it is True, and False otherwise."
   ]
  },
  {
   "cell_type": "markdown",
   "id": "610231fb",
   "metadata": {},
   "source": [
    "<h3>Task 2</h3>"
   ]
  },
  {
   "cell_type": "code",
   "execution_count": 15,
   "id": "c6ceb71b",
   "metadata": {},
   "outputs": [],
   "source": [
    "def t(data):\n",
    "    return np.mean(data)"
   ]
  },
  {
   "cell_type": "code",
   "execution_count": 16,
   "id": "d4083819",
   "metadata": {},
   "outputs": [],
   "source": [
    "def bootstrap(data, n, T):\n",
    "    # Initialize an empty array to store the bs estimates\n",
    "    bs_estimates = np.zeros(n)\n",
    "    \n",
    "    # Generate n bs samples,\n",
    "    # compute the bs estimate from each bs sample,\n",
    "    # store each bs estimate.\n",
    "    for i in range(n):\n",
    "        sample_indices = np.random.choice(a=data.shape[0], size=data.shape[0], replace=True)\n",
    "        bs_estimates[i] = T(data[sample_indices])\n",
    "        \n",
    "    return bs_estimates"
   ]
  },
  {
   "cell_type": "markdown",
   "id": "8a0c449b",
   "metadata": {},
   "source": [
    "**a)**"
   ]
  },
  {
   "cell_type": "code",
   "execution_count": 29,
   "id": "5be26200",
   "metadata": {},
   "outputs": [],
   "source": [
    "bs_mean_x = bootstrap(data=x, n=10000, T=t)\n",
    "bs_mean_y = bootstrap(data=y, n=10000, T=t)"
   ]
  },
  {
   "cell_type": "code",
   "execution_count": 30,
   "id": "3b2c0911",
   "metadata": {},
   "outputs": [
    {
     "data": {
      "image/png": "[encoded data removed]",
      "text/plain": [
       "<Figure size 1000x600 with 2 Axes>"
      ]
     },
     "metadata": {},
     "output_type": "display_data"
    }
   ],
   "source": [
    "fig, ax = plt.subplots(nrows=1, ncols=2, figsize=(10,6))\n",
    "ax[0].hist(bs_mean_x, bins=20, edgecolor='black')\n",
    "ax[0].set_title('Bootstrap distribution of x')\n",
    "ax[1].hist(bs_mean_y, bins=20, edgecolor='black')\n",
    "ax[1].set_title('Bootstrap distribution of y')\n",
    "plt.tight_layout();"
   ]
  },
  {
   "cell_type": "markdown",
   "id": "5fd360d8",
   "metadata": {},
   "source": [
    "The *q*th percentile is the value below which at least q% of the data falls, including the values that are equal to it. The conficence interval using bootstrapping and the percentile method is simply the middle 95% of the values in the bootstrap distribution."
   ]
  },
  {
   "cell_type": "code",
   "execution_count": 15,
   "id": "af373b27",
   "metadata": {},
   "outputs": [],
   "source": [
    "lower_bound_x, upper_bound_x = np.percentile(bs_mean_x, q=[2.5, 97.5])\n",
    "lower_bound_y, upper_bound_y = np.percentile(bs_mean_y, q=[2.5, 97.5])"
   ]
  },
  {
   "cell_type": "code",
   "execution_count": 16,
   "id": "5148d407",
   "metadata": {},
   "outputs": [
    {
     "name": "stdout",
     "output_type": "stream",
     "text": [
      "##### x #####\n",
      "The original estimator: 5.03200\n",
      "The bootstrap estimator: 5.03274\n",
      "The 95% CI for the mean: [4.69600, 5.38000]\n",
      "\n",
      "##### y #####\n",
      "The original estimator: 5.52600\n",
      "The bootstrap estimator: 5.52487\n",
      "The 95% CI for the mean: [5.27900, 5.79800]\n"
     ]
    }
   ],
   "source": [
    "print('##### x #####')\n",
    "print(f'The original estimator: {np.mean(x):.5f}')\n",
    "print(f'The bootstrap estimator: {np.mean(bs_mean_x):.5f}')\n",
    "print(f'The 95% CI for the mean: [{lower_bound_x:.5f}, {upper_bound_x:.5f}]')\n",
    "print()\n",
    "print('##### y #####')\n",
    "print(f'The original estimator: {np.mean(y):.5f}')\n",
    "print(f'The bootstrap estimator: {np.mean(bs_mean_y):.5f}')\n",
    "print(f'The 95% CI for the mean: [{lower_bound_y:.5f}, {upper_bound_y:.5f}]')"
   ]
  },
  {
   "cell_type": "markdown",
   "id": "43da6a06",
   "metadata": {},
   "source": [
    "**b)**"
   ]
  },
  {
   "cell_type": "code",
   "execution_count": 21,
   "id": "793549b0",
   "metadata": {},
   "outputs": [],
   "source": [
    "def bootstrap_mean_diff(x, y, n, T):\n",
    "    bs_estimates = np.zeros(n)\n",
    "    for i in range(n):\n",
    "        sample_ind_x = np.random.choice(a=x.shape[0], size=x.shape[0], replace=True)\n",
    "        sample_ind_y = np.random.choice(a=y.shape[0], size=y.shape[0], replace=True)\n",
    "        mean_x = T(x[sample_ind_x])\n",
    "        mean_y = T(y[sample_ind_y])\n",
    "        bs_estimates[i] = mean_x - mean_y\n",
    "    return bs_estimates"
   ]
  },
  {
   "cell_type": "code",
   "execution_count": 30,
   "id": "b9e55bad",
   "metadata": {},
   "outputs": [],
   "source": [
    "bs_diff_means = bootstrap_mean_diff(x, y, n=100000, T=t)"
   ]
  },
  {
   "cell_type": "code",
   "execution_count": 31,
   "id": "25fd5c62",
   "metadata": {},
   "outputs": [
    {
     "data": {
      "image/png": "[encoded data removed]",
      "text/plain": [
       "<Figure size 800x600 with 1 Axes>"
      ]
     },
     "metadata": {},
     "output_type": "display_data"
    }
   ],
   "source": [
    "plt.figure(figsize=(8,6))\n",
    "plt.hist(bs_diff_means, bins=30, edgecolor='black');"
   ]
  },
  {
   "cell_type": "code",
   "execution_count": 34,
   "id": "07823f6c",
   "metadata": {},
   "outputs": [],
   "source": [
    "lower_bound_diff, upper_bound_diff = np.percentile(bs_diff_means, q=[2.5, 97.5])"
   ]
  },
  {
   "cell_type": "code",
   "execution_count": 35,
   "id": "5a01e97c",
   "metadata": {},
   "outputs": [
    {
     "name": "stdout",
     "output_type": "stream",
     "text": [
      "The original estimator: -0.4940\n",
      "The bootstrap estimator: -0.4949\n",
      "The 95% CI for the mean: [-0.9240, -0.0620]\n"
     ]
    }
   ],
   "source": [
    "print(f'The original estimator: {np.mean(x - y):.4f}')\n",
    "print(f'The bootstrap estimator: {np.mean(bs_diff_means):.4f}')\n",
    "print(f'The 95% CI for the mean: [{lower_bound_diff:.4f}, {upper_bound_diff:.4f}]')"
   ]
  },
  {
   "cell_type": "markdown",
   "id": "5e126d77",
   "metadata": {},
   "source": [
    "- As can be seen, the interval does not contain zero."
   ]
  }
 ],
 "metadata": {
  "kernelspec": {
   "display_name": "Python 3 (ipykernel)",
   "language": "python",
   "name": "python3"
  },
  "language_info": {
   "codemirror_mode": {
    "name": "ipython",
    "version": 3
   },
   "file_extension": ".py",
   "mimetype": "text/x-python",
   "name": "python",
   "nbconvert_exporter": "python",
   "pygments_lexer": "ipython3",
   "version": "3.13.1"
  }
 },
 "nbformat": 4,
 "nbformat_minor": 5
}
