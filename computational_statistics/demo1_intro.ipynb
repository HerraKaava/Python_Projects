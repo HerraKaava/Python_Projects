{
 "cells": [
  {
   "cell_type": "code",
   "execution_count": 1,
   "id": "a485c4a5",
   "metadata": {},
   "outputs": [],
   "source": [
    "import os\n",
    "import numpy as np\n",
    "import pandas as pd\n",
    "import matplotlib.pyplot as plt"
   ]
  },
  {
   "cell_type": "markdown",
   "id": "61757bb5",
   "metadata": {},
   "source": [
    "<h3>Task 1</h3>"
   ]
  },
  {
   "cell_type": "code",
   "execution_count": 4,
   "id": "4e3960ea",
   "metadata": {},
   "outputs": [],
   "source": [
    "df = pd.read_csv('birthday.csv', index_col=0)"
   ]
  },
  {
   "cell_type": "code",
   "execution_count": 5,
   "id": "7671a29d",
   "metadata": {},
   "outputs": [
    {
     "name": "stdout",
     "output_type": "stream",
     "text": [
      "<class 'pandas.core.frame.DataFrame'>\n",
      "Index: 366 entries, 1 to 366\n",
      "Data columns (total 3 columns):\n",
      " #   Column           Non-Null Count  Dtype\n",
      "---  ------           --------------  -----\n",
      " 0   SYNTYMÄKUUKAUSI  366 non-null    int64\n",
      " 1   SYNTYMAPÄIVÄ     366 non-null    int64\n",
      " 2   LUKUMÄÄRÄ        366 non-null    int64\n",
      "dtypes: int64(3)\n",
      "memory usage: 11.4 KB\n"
     ]
    }
   ],
   "source": [
    "df.info()"
   ]
  },
  {
   "cell_type": "code",
   "execution_count": 6,
   "id": "b350955c",
   "metadata": {},
   "outputs": [],
   "source": [
    "df.rename(columns={\n",
    "    'SYNTYMÄKUUKAUSI': 'birth_month',\n",
    "    'SYNTYMAPÄIVÄ': 'birth_day',\n",
    "    'LUKUMÄÄRÄ': 'frequency'\n",
    "}, inplace=True)"
   ]
  },
  {
   "cell_type": "code",
   "execution_count": 7,
   "id": "5442cc46",
   "metadata": {},
   "outputs": [
    {
     "data": {
      "text/plain": [
       "birth_month    False\n",
       "birth_day      False\n",
       "frequency      False\n",
       "dtype: bool"
      ]
     },
     "execution_count": 7,
     "metadata": {},
     "output_type": "execute_result"
    }
   ],
   "source": [
    "df.isna().any()"
   ]
  },
  {
   "cell_type": "code",
   "execution_count": 8,
   "id": "e8926733",
   "metadata": {},
   "outputs": [
    {
     "data": {
      "text/html": [
       "<div>\n",
       "<style scoped>\n",
       "    .dataframe tbody tr th:only-of-type {\n",
       "        vertical-align: middle;\n",
       "    }\n",
       "\n",
       "    .dataframe tbody tr th {\n",
       "        vertical-align: top;\n",
       "    }\n",
       "\n",
       "    .dataframe thead th {\n",
       "        text-align: right;\n",
       "    }\n",
       "</style>\n",
       "<table border=\"1\" class=\"dataframe\">\n",
       "  <thead>\n",
       "    <tr style=\"text-align: right;\">\n",
       "      <th></th>\n",
       "      <th>birth_month</th>\n",
       "      <th>birth_day</th>\n",
       "      <th>frequency</th>\n",
       "    </tr>\n",
       "  </thead>\n",
       "  <tbody>\n",
       "    <tr>\n",
       "      <th>1</th>\n",
       "      <td>1</td>\n",
       "      <td>1</td>\n",
       "      <td>26781</td>\n",
       "    </tr>\n",
       "    <tr>\n",
       "      <th>2</th>\n",
       "      <td>1</td>\n",
       "      <td>2</td>\n",
       "      <td>17274</td>\n",
       "    </tr>\n",
       "    <tr>\n",
       "      <th>3</th>\n",
       "      <td>1</td>\n",
       "      <td>3</td>\n",
       "      <td>17490</td>\n",
       "    </tr>\n",
       "    <tr>\n",
       "      <th>4</th>\n",
       "      <td>1</td>\n",
       "      <td>4</td>\n",
       "      <td>17287</td>\n",
       "    </tr>\n",
       "    <tr>\n",
       "      <th>5</th>\n",
       "      <td>1</td>\n",
       "      <td>5</td>\n",
       "      <td>17664</td>\n",
       "    </tr>\n",
       "  </tbody>\n",
       "</table>\n",
       "</div>"
      ],
      "text/plain": [
       "   birth_month  birth_day  frequency\n",
       "1            1          1      26781\n",
       "2            1          2      17274\n",
       "3            1          3      17490\n",
       "4            1          4      17287\n",
       "5            1          5      17664"
      ]
     },
     "execution_count": 8,
     "metadata": {},
     "output_type": "execute_result"
    }
   ],
   "source": [
    "df.head()"
   ]
  },
  {
   "cell_type": "code",
   "execution_count": 9,
   "id": "a1d9bd44",
   "metadata": {},
   "outputs": [
    {
     "data": {
      "text/plain": [
       "6425572"
      ]
     },
     "execution_count": 9,
     "metadata": {},
     "output_type": "execute_result"
    }
   ],
   "source": [
    "df['frequency'].sum().item()"
   ]
  },
  {
   "cell_type": "markdown",
   "id": "b02155cc",
   "metadata": {},
   "source": [
    "- So apparently the dataset holds all the birthdays of Finnish people found in väestörekisterikeskus."
   ]
  },
  {
   "cell_type": "markdown",
   "id": "af477001",
   "metadata": {},
   "source": [
    "**a)**"
   ]
  },
  {
   "cell_type": "code",
   "execution_count": 33,
   "id": "b265501a",
   "metadata": {},
   "outputs": [],
   "source": [
    "def sim_bdays(df, n):\n",
    "    \"\"\"\n",
    "    Args:\n",
    "        df: a dataframe containing the true birthdays\n",
    "        n: the number of people we simulate birthdays for\n",
    "    \n",
    "    Returns:\n",
    "        bool: True if at least two people share the same birthday, False otherwise.\n",
    "    \"\"\"\n",
    "    # Make a copy of the original dataframe\n",
    "    data = df.copy(deep=True)\n",
    "    \n",
    "    # The probability of being born in a given month and day\n",
    "    data['prob'] = data['frequency'] / data['frequency'].sum()\n",
    "    \n",
    "    # Simulate birthdays for n people based on the true distribution of birthdays\n",
    "    simulated_bdays = np.random.choice(a=data.index, size=n, p=data['prob'])\n",
    "    \n",
    "    # Check if anyone have the same birthday.\n",
    "    # set is a function that returns unique elements of an object,\n",
    "    # so if the lenght of the vector set(simulated_birthdays) < n,\n",
    "    # we know that there are at least two people who share the same birthday\n",
    "    unique_bdays= set(simulated_bdays)\n",
    "    return len(unique_bdays) < n"
   ]
  },
  {
   "cell_type": "markdown",
   "id": "1bd0dda6",
   "metadata": {},
   "source": [
    "**b)**"
   ]
  },
  {
   "cell_type": "code",
   "execution_count": 23,
   "id": "eb6b8e87",
   "metadata": {},
   "outputs": [],
   "source": [
    "def prop_duplicate_bdays(df, m, n):\n",
    "    \"\"\"\n",
    "    Args:\n",
    "        df: a dataframe containing the true birthdays\n",
    "        m: the number of simulations\n",
    "        n: the number of people we simulate birthdays for\n",
    "        \n",
    "    Returns:\n",
    "        float: the proportion of simulations where at least \n",
    "        two persons share a birthday.\n",
    "    \"\"\"\n",
    "    duplicate_count = 0\n",
    "    for i in range(m):\n",
    "        if sim_bdays(df, n):\n",
    "            duplicate_count += 1\n",
    "    return duplicate_count / m"
   ]
  },
  {
   "cell_type": "markdown",
   "id": "4ecd49af",
   "metadata": {},
   "source": [
    "**c)**"
   ]
  },
  {
   "cell_type": "code",
   "execution_count": 32,
   "id": "45949bae",
   "metadata": {},
   "outputs": [
    {
     "name": "stdout",
     "output_type": "stream",
     "text": [
      "n=2, 0.005\n",
      "n=3, 0.009\n",
      "n=4, 0.016\n",
      "n=5, 0.017\n",
      "n=6, 0.048\n",
      "n=7, 0.065\n",
      "n=8, 0.068\n",
      "n=9, 0.104\n",
      "n=10, 0.128\n",
      "n=11, 0.16\n",
      "n=12, 0.185\n",
      "n=13, 0.202\n",
      "n=14, 0.229\n",
      "n=15, 0.276\n",
      "n=16, 0.303\n",
      "n=17, 0.317\n",
      "n=18, 0.35\n",
      "n=19, 0.378\n",
      "n=20, 0.404\n",
      "n=21, 0.444\n",
      "n=22, 0.464\n",
      "n=23, 0.486\n",
      "n=24, 0.549\n",
      "n=25, 0.616\n",
      "n=26, 0.6\n",
      "n=27, 0.599\n",
      "n=28, 0.651\n",
      "n=29, 0.681\n",
      "n=30, 0.706\n"
     ]
    }
   ],
   "source": [
    "for i in range(2, 31):\n",
    "    print(f'n={i}, {prop_duplicate_bdays(df, m=1000, n=i)}')"
   ]
  },
  {
   "cell_type": "markdown",
   "id": "0a5de262",
   "metadata": {},
   "source": [
    "**d)**"
   ]
  },
  {
   "cell_type": "code",
   "execution_count": 48,
   "id": "e1f69350",
   "metadata": {},
   "outputs": [],
   "source": [
    "def sim_bdays_uniform(df, n):\n",
    "    \"\"\"\n",
    "    Args:\n",
    "        df: a dataframe containing the true birthdays\n",
    "        n: the number of people we simulate birthdays for\n",
    "    \n",
    "    Returns:\n",
    "        bool: True if at least two people share the same birthday, False otherwise.\n",
    "    \"\"\"\n",
    "    simulated_bdays = np.random.choice(a=np.arange(1,366), size=n, p=[1/365]*365)\n",
    "    unique_bdays= set(simulated_bdays)\n",
    "    return len(unique_bdays) < n"
   ]
  },
  {
   "cell_type": "code",
   "execution_count": 49,
   "id": "08cfcd14",
   "metadata": {},
   "outputs": [],
   "source": [
    "def prop_duplicate_bdays_uniform(df, m, n):\n",
    "    \"\"\"\n",
    "    Args:\n",
    "        df: a dataframe containing the true birthdays\n",
    "        m: the number of simulations\n",
    "        n: the number of people we simulate birthdays for\n",
    "        \n",
    "    Returns:\n",
    "        float: the proportion of simulations where at least \n",
    "        two persons share a birthday.\n",
    "    \"\"\"\n",
    "    duplicate_count = 0\n",
    "    for i in range(m):\n",
    "        if sim_bdays_uniform(df, n):\n",
    "            duplicate_count += 1\n",
    "    return duplicate_count / m"
   ]
  },
  {
   "cell_type": "code",
   "execution_count": 54,
   "id": "b0eacb08",
   "metadata": {},
   "outputs": [
    {
     "name": "stdout",
     "output_type": "stream",
     "text": [
      "n=2, 0.005\n",
      "n=3, 0.008\n",
      "n=4, 0.02\n",
      "n=5, 0.037\n",
      "n=6, 0.036\n",
      "n=7, 0.061\n",
      "n=8, 0.066\n",
      "n=9, 0.104\n",
      "n=10, 0.114\n",
      "n=11, 0.132\n",
      "n=12, 0.198\n",
      "n=13, 0.207\n",
      "n=14, 0.234\n",
      "n=15, 0.258\n",
      "n=16, 0.283\n",
      "n=17, 0.329\n",
      "n=18, 0.329\n",
      "n=19, 0.379\n",
      "n=20, 0.406\n",
      "n=21, 0.421\n",
      "n=22, 0.475\n",
      "n=23, 0.491\n",
      "n=24, 0.525\n",
      "n=25, 0.585\n",
      "n=26, 0.613\n",
      "n=27, 0.644\n",
      "n=28, 0.663\n",
      "n=29, 0.687\n",
      "n=30, 0.709\n"
     ]
    }
   ],
   "source": [
    "for i in range(2, 31):\n",
    "    print(f'n={i}, {prop_duplicate_bdays_uniform(df, m=1000, n=i)}')"
   ]
  },
  {
   "cell_type": "markdown",
   "id": "78efb8e8",
   "metadata": {},
   "source": [
    "- Well, as can be seen, the results are highly similar."
   ]
  },
  {
   "cell_type": "markdown",
   "id": "1fc7016e",
   "metadata": {},
   "source": [
    "<h3>Task 2</h3>"
   ]
  },
  {
   "cell_type": "markdown",
   "id": "6d1735f9",
   "metadata": {},
   "source": [
    "We'll use [inverse transform sampling](https://en.wikipedia.org/wiki/Inverse_transform_sampling) to generate $\\, n = 10000 \\,$ independent samples from this distribution."
   ]
  },
  {
   "cell_type": "markdown",
   "id": "79bb0eae",
   "metadata": {},
   "source": [
    "$$\n",
    "p_{X}(x) =\n",
    "\\begin{cases} \n",
    "x & \\text{, } 0 < x \\le 1, \\\\\n",
    "2 - x & \\text{, } 1 < x \\le 2, \\\\\n",
    "0 & \\text{, else.}\n",
    "\\end{cases}\n",
    "$$\n",
    "\n",
    "CDF is the ingtegral of PDF. That is,\n",
    "\n",
    "$$ F_{X}(x) = P(X \\le x) = \\int_{-\\infty}^{x} f(t) \\, dt. $$\n",
    "\n",
    "Calculating some integrals, the CDF is\n",
    "\n",
    "$$\n",
    "F_{X}(x) =\n",
    "\\begin{cases} \n",
    "0 & \\text{, } x \\le 0 \\\\\n",
    "\\frac{x^2}{2} & \\text{, } 0 < x \\le 1, \\\\\n",
    "2x - \\frac{x^2}{2} - 1 & \\text{, } 1 < x \\le 2, \\\\\n",
    "1 & \\text{, } x > 2.\n",
    "\\end{cases}\n",
    "$$"
   ]
  },
  {
   "cell_type": "markdown",
   "id": "4edd77b2",
   "metadata": {},
   "source": [
    "For any random variable $\\, X \\in \\mathbb{R}, \\,$ the random variable $\\, F_{X}^{-1}(U) \\,$ has the same distribution as $\\, X, \\,$ where $\\, F_{X}^{-1}(U) \\,$ is the generalized inverse of $\\, F_{X} \\,$ and $\\, U \\,$ is uniform on the closed range [0,1].\n",
    "\n",
    "We want to find a transformation $\\, T : [0,1] \\rightarrow \\mathbb{R} \\,$ such that $\\, T(U) = X. \\,$\n",
    "\n",
    "$$ F_{X} = P(X \\le x) = P(T(U) \\le x) = P(U \\le T^{-1}(x)) = T^{-1}(x), $$\n",
    "\n",
    "where the last equality follows because we are dealing with a uniform distribution. So we have\n",
    "\n",
    "$$ F_{X}(x) = T^{-1}(x) \\Leftrightarrow F_{X}^{-1} = T(x). $$"
   ]
  },
  {
   "cell_type": "markdown",
   "id": "8499ece7",
   "metadata": {},
   "source": [
    "$0 < x \\le 1:$\n",
    "\n",
    "\\begin{equation*}\n",
    "    u = \\frac{x^2}{2} \\quad \\Leftrightarrow \\quad x = \\sqrt{2u}\n",
    "\\end{equation*}\n",
    "\n",
    "$1 < x \\le 2:$\n",
    "\n",
    "\\begin{equation*}\n",
    "    u = 2x - \\frac{x^2}{2} - 1 \\quad \\Leftrightarrow \\quad x = 2 - \\sqrt{2 \\, (1-u)}\n",
    "\\end{equation*}"
   ]
  },
  {
   "cell_type": "code",
   "execution_count": 77,
   "id": "093e79c0",
   "metadata": {},
   "outputs": [],
   "source": [
    "def p_X(x):\n",
    "    return np.maximum(0, 1 - np.abs(1 - x))"
   ]
  },
  {
   "cell_type": "code",
   "execution_count": 110,
   "id": "4d26d656",
   "metadata": {},
   "outputs": [],
   "source": [
    "def sample_pdf(n):\n",
    "    \"\"\"\n",
    "    This function draws samples from the distribution specified above (PDF).\n",
    "    \"\"\"\n",
    "    # Draw n samples from [0,1] uniform distribution\n",
    "    u = np.random.uniform(low=0.0, high=1.0, size=n)\n",
    "    \n",
    "    # An array to store the transformed samples \n",
    "    samples = np.zeros_like(u)\n",
    "    \n",
    "    # 0 < x <= 1 --> 0 < u <= 0.5\n",
    "    mask1 = u <= 0.5\n",
    "    \n",
    "    # < x <= 2 --> 0.5 < u <= 1\n",
    "    mask2 = u > 0.5\n",
    "    \n",
    "    # Fancy indexing\n",
    "    samples[mask1] = np.sqrt(2 * u[mask1])\n",
    "    samples[mask2] = 2 - np.sqrt(2 * (1 - u[mask2]))\n",
    "    \n",
    "    # Plotting\n",
    "    x = np.linspace(-0.5, 2.5, 1000)\n",
    "    pdf = p_X(x)\n",
    "    plt.figure(figsize=(8,6))\n",
    "    plt.plot(x, pdf, color='red', zorder=2)\n",
    "    plt.hist(samples, density=True, bins=50, edgecolor='black', zorder=1)"
   ]
  },
  {
   "cell_type": "code",
   "execution_count": 111,
   "id": "7906e259",
   "metadata": {},
   "outputs": [
    {
     "data": {
      "image/png": "[encoded data removed]",
      "text/plain": [
       "<Figure size 800x600 with 1 Axes>"
      ]
     },
     "metadata": {},
     "output_type": "display_data"
    }
   ],
   "source": [
    "sample_pdf(n=10000)"
   ]
  },
  {
   "cell_type": "markdown",
   "id": "4b240566",
   "metadata": {},
   "source": [
    "``` python\n",
    "mask1 = u < 0.5\n",
    "samples[mask1] = ...\n",
    "```\n",
    "\n",
    "this is called fancy indexing (specifically with numpy arrays). Breakdown:\n",
    "\n",
    "- `mask1`: boolean mask, where each element is True if the condition u < 0.5 is met.\n",
    "- `samples[mask1]`: this uses the boolean mask `mask1` to select specific elements from the `samples` array where the condition u < 0.5 is True.\n",
    "- Assignment: the expression `samples[mask1] = ...` assigns the computed values at the masked indices back to the corresponding indices of `samples`."
   ]
  },
  {
   "cell_type": "markdown",
   "id": "03af5818",
   "metadata": {},
   "source": [
    "<h3>Fancy indexing example</h3>"
   ]
  },
  {
   "cell_type": "code",
   "execution_count": 122,
   "id": "c4a92053",
   "metadata": {},
   "outputs": [],
   "source": [
    "u = np.random.uniform(size=5)\n",
    "mask = u < 0.5\n",
    "samples = np.zeros_like(u)"
   ]
  },
  {
   "cell_type": "code",
   "execution_count": 123,
   "id": "02aa9c49",
   "metadata": {},
   "outputs": [
    {
     "data": {
      "text/plain": [
       "array([0.21357616, 0.36175416, 0.64984048, 0.27594643, 0.58051826])"
      ]
     },
     "execution_count": 123,
     "metadata": {},
     "output_type": "execute_result"
    }
   ],
   "source": [
    "u"
   ]
  },
  {
   "cell_type": "code",
   "execution_count": 124,
   "id": "8e7140c8",
   "metadata": {},
   "outputs": [
    {
     "data": {
      "text/plain": [
       "array([0., 0., 0., 0., 0.])"
      ]
     },
     "execution_count": 124,
     "metadata": {},
     "output_type": "execute_result"
    }
   ],
   "source": [
    "samples"
   ]
  },
  {
   "cell_type": "code",
   "execution_count": 125,
   "id": "45d49448",
   "metadata": {},
   "outputs": [
    {
     "data": {
      "text/plain": [
       "array([ True,  True, False,  True, False])"
      ]
     },
     "execution_count": 125,
     "metadata": {},
     "output_type": "execute_result"
    }
   ],
   "source": [
    "mask"
   ]
  },
  {
   "cell_type": "code",
   "execution_count": 126,
   "id": "ea5097a0",
   "metadata": {},
   "outputs": [
    {
     "data": {
      "text/plain": [
       "array([0., 0., 0.])"
      ]
     },
     "execution_count": 126,
     "metadata": {},
     "output_type": "execute_result"
    }
   ],
   "source": [
    "samples[mask]"
   ]
  },
  {
   "cell_type": "code",
   "execution_count": 127,
   "id": "dffc6490",
   "metadata": {},
   "outputs": [],
   "source": [
    "samples[mask] = 10"
   ]
  },
  {
   "cell_type": "code",
   "execution_count": 128,
   "id": "8c758bdf",
   "metadata": {},
   "outputs": [
    {
     "data": {
      "text/plain": [
       "array([10., 10.,  0., 10.,  0.])"
      ]
     },
     "execution_count": 128,
     "metadata": {},
     "output_type": "execute_result"
    }
   ],
   "source": [
    "samples"
   ]
  }
 ],
 "metadata": {
  "kernelspec": {
   "display_name": "Python 3 (ipykernel)",
   "language": "python",
   "name": "python3"
  },
  "language_info": {
   "codemirror_mode": {
    "name": "ipython",
    "version": 3
   },
   "file_extension": ".py",
   "mimetype": "text/x-python",
   "name": "python",
   "nbconvert_exporter": "python",
   "pygments_lexer": "ipython3",
   "version": "3.13.1"
  }
 },
 "nbformat": 4,
 "nbformat_minor": 5
}
