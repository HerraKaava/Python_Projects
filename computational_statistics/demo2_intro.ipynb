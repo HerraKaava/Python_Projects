{
 "cells": [
  {
   "cell_type": "code",
   "execution_count": 36,
   "id": "161497ce",
   "metadata": {},
   "outputs": [],
   "source": [
    "import numpy as np\n",
    "from scipy.stats import norm\n",
    "import matplotlib.pyplot as plt\n",
    "from scipy.stats import gaussian_kde"
   ]
  },
  {
   "cell_type": "markdown",
   "id": "835a92e8",
   "metadata": {},
   "source": [
    "<h2>Task 1</h2>"
   ]
  },
  {
   "cell_type": "markdown",
   "id": "09f31738",
   "metadata": {},
   "source": [
    "<h3>Monte Carlo integration</h3>\n",
    "\n",
    "The average value of a (continuous) function $\\, f(x) \\,$ can be written as\n",
    "\n",
    "\\begin{align*}\n",
    "    \\bar{f} &= \\frac{1}{b - a} \\int_{a}^{b} f(x) \\, dx \\\\\n",
    "    (b - a) \\bar{f} &= \\int_{a}^{b} f(x) \\, dx \\\\\n",
    "    (b - a) \\frac{1}{n} \\sum_{i=1}^{n} f(x_i) &\\approx \\int_{a}^{b} f(x) \\, dx, \\tag{1}\n",
    "\\end{align*}\n",
    "\n",
    "where $\\, x_i, \\, \\, i=1,...,n, \\,$ are random samples from the interval $\\, [a,b]. \\,$ This is the key idea behind Monte Carlo integration. This approximation works due to the law of large numbers; the sum $\\, (b - a) \\frac{1}{n} \\sum_{i=1}^{n} f(x_i) \\,$ is the sample mean of $\\, f(x), \\,$ and it converges to the true mean as $\\, n \\rightarrow \\infty. \\,$"
   ]
  },
  {
   "cell_type": "markdown",
   "id": "c1dcdb3b",
   "metadata": {},
   "source": [
    "In our case, the integral we are approximating is\n",
    "\n",
    "$$ u = \\int_{0}^{1} e^{-x^2} \\, dx \\approx 0.746824.  $$\n",
    "\n",
    "Plugging these into (1), we get\n",
    "\n",
    "\\begin{align*}\n",
    "    u = \\int_{0}^{1} e^{-x^2} \\, dx \\approx \\frac{1}{n} \\sum_{i=1}^{n} e^{-x^2},\n",
    "\\end{align*}\n",
    "\n",
    "where each $\\, x_i, \\, \\, i=1,...,n, \\,$ are drawn from $\\, U(a,b). \\,$"
   ]
  },
  {
   "cell_type": "code",
   "execution_count": 16,
   "id": "a2d7ec65",
   "metadata": {},
   "outputs": [],
   "source": [
    "def f(x):\n",
    "    return np.exp(-x**2)"
   ]
  },
  {
   "cell_type": "code",
   "execution_count": 17,
   "id": "84529f9c",
   "metadata": {},
   "outputs": [],
   "source": [
    "def monte_carlo_integration(a, b, n):\n",
    "    \"\"\"\n",
    "    Args:\n",
    "        a: lower limit of integration\n",
    "        b: upper limit if integration\n",
    "        n: the number of random points to generate from U(a,b)\n",
    "        \n",
    "    Returns:\n",
    "        An approximation of the integral introduced above.\n",
    "    \"\"\"\n",
    "    xrand = np.random.uniform(low=a, high=b, size=n)\n",
    "    result = 0\n",
    "    for i in range(n):\n",
    "        result += f(xrand[i])\n",
    "    return (b-a) * (1/n) * result"
   ]
  },
  {
   "cell_type": "markdown",
   "id": "2ac3d065",
   "metadata": {},
   "source": [
    "**a)**"
   ]
  },
  {
   "cell_type": "code",
   "execution_count": 18,
   "id": "803971e5",
   "metadata": {},
   "outputs": [
    {
     "data": {
      "text/plain": [
       "np.float64(0.7907371990370878)"
      ]
     },
     "execution_count": 18,
     "metadata": {},
     "output_type": "execute_result"
    }
   ],
   "source": [
    "monte_carlo_integration(a=0, b=1, n=10)"
   ]
  },
  {
   "cell_type": "code",
   "execution_count": 19,
   "id": "97e1d6f1",
   "metadata": {},
   "outputs": [
    {
     "data": {
      "text/plain": [
       "np.float64(0.7386882570218469)"
      ]
     },
     "execution_count": 19,
     "metadata": {},
     "output_type": "execute_result"
    }
   ],
   "source": [
    "monte_carlo_integration(a=0, b=1, n=100)"
   ]
  },
  {
   "cell_type": "code",
   "execution_count": 20,
   "id": "5c5992e7",
   "metadata": {},
   "outputs": [
    {
     "data": {
      "text/plain": [
       "np.float64(0.7290041346186261)"
      ]
     },
     "execution_count": 20,
     "metadata": {},
     "output_type": "execute_result"
    }
   ],
   "source": [
    "monte_carlo_integration(a=0, b=1, n=1000)"
   ]
  },
  {
   "cell_type": "markdown",
   "id": "fea5ef30",
   "metadata": {},
   "source": [
    "**b)**"
   ]
  },
  {
   "cell_type": "markdown",
   "id": "c34acdd3",
   "metadata": {},
   "source": [
    "The variance of the Monte Carlo estimator $\\, \\mathbb{Q}_n(f(x)) \\,$ can be written as\n",
    "\n",
    "$$ \\text{Var}[\\mathbb{Q}_n(f(x))] = \\text{Var} \\left(\\frac{1}{n} \\sum_{i=1}^{n} f(X_i) \\right) = \\frac{1}{n^2} \\left(\\sum_{i=1}^{n} \\text{Var}[f(X_i)] \\right) = \\frac{1}{n} \\text{Var}[f(X)]. $$\n",
    "\n",
    "Hence \n",
    "\n",
    "$$ \\text{Var}[f(X)] = n \\, \\text{Var}[\\mathbb{Q}_n(f(x))]. $$"
   ]
  },
  {
   "cell_type": "code",
   "execution_count": 21,
   "id": "d7f6de6c",
   "metadata": {},
   "outputs": [],
   "source": [
    "def var_MC_estimator(m, n):\n",
    "    \"\"\"\n",
    "    Args:\n",
    "        m: the number of simulations\n",
    "        n: the number of random points to generate from U(a,b)\n",
    "        \n",
    "    Returns:\n",
    "        The variance of the Monte Carlo estimator.\n",
    "    \"\"\"\n",
    "    MC_approx = []\n",
    "    for i in range(m):\n",
    "        MC_approx.append(monte_carlo_integration(a=0,b=1,n=n))\n",
    "    return np.var(MC_approx)"
   ]
  },
  {
   "cell_type": "code",
   "execution_count": 22,
   "id": "3d8a7e8f",
   "metadata": {},
   "outputs": [
    {
     "data": {
      "text/plain": [
       "np.float64(0.003732914818468816)"
      ]
     },
     "execution_count": 22,
     "metadata": {},
     "output_type": "execute_result"
    }
   ],
   "source": [
    "var_MC_estimator(m=100, n=10**1)"
   ]
  },
  {
   "cell_type": "code",
   "execution_count": 23,
   "id": "239782cd",
   "metadata": {},
   "outputs": [
    {
     "data": {
      "text/plain": [
       "np.float64(0.0004699072981169285)"
      ]
     },
     "execution_count": 23,
     "metadata": {},
     "output_type": "execute_result"
    }
   ],
   "source": [
    "var_MC_estimator(m=100, n=10**2)"
   ]
  },
  {
   "cell_type": "code",
   "execution_count": 24,
   "id": "aa32e8be",
   "metadata": {},
   "outputs": [
    {
     "data": {
      "text/plain": [
       "np.float64(3.336306110980379e-05)"
      ]
     },
     "execution_count": 24,
     "metadata": {},
     "output_type": "execute_result"
    }
   ],
   "source": [
    "var_MC_estimator(m=100, n=10**3)"
   ]
  },
  {
   "cell_type": "markdown",
   "id": "1855f124",
   "metadata": {},
   "source": [
    "The decrease in variance is inversely proportional to the sample size. When the sample size grows by a factor of 10, the variance decreases by a factor of 10."
   ]
  },
  {
   "cell_type": "markdown",
   "id": "eb2e9a55",
   "metadata": {},
   "source": [
    "<h2>Task 2</h2>"
   ]
  },
  {
   "cell_type": "markdown",
   "id": "02069ca4",
   "metadata": {},
   "source": [
    "For the the ease of notation, let $\\, \\hat{\\theta} = \\mathbb{Q}_n(f(X)). \\,$\n",
    "Due to the unbiasedness of the Monte Carlo estimator, the mean squared error (MSE) of the Monte Carlo estimator is\n",
    "\n",
    "$$ \\text{MSE}(\\hat{\\theta}) = \\mathbb{E}[(\\hat{\\theta} - \\theta)^2] = \\text{Var}(\\hat{\\theta}) + [\\text{Bias}(\\hat{\\theta})]^2 = \\text{Var}(\\hat{\\theta}) + 0^2 = \\text{Var}(\\hat{\\theta}) = \\frac{1}{n} \\text{Var}(f(X)).$$\n",
    "\n",
    "Thus, we have that\n",
    "\n",
    "\\begin{align*}\n",
    "    \\text{MSE}(\\hat{\\theta}) &= \\frac{1}{n} \\text{Var}(f(X)) \\\\\n",
    "    n &= \\frac{\\text{Var}(f(X))}{\\text{MSE}(\\hat{\\theta})}\n",
    "\\end{align*}"
   ]
  },
  {
   "cell_type": "markdown",
   "id": "dc07f582",
   "metadata": {},
   "source": [
    "**a)**"
   ]
  },
  {
   "cell_type": "code",
   "execution_count": 25,
   "id": "3404e988",
   "metadata": {},
   "outputs": [],
   "source": [
    "sigma_sq = var_MC_estimator(m=1000, n=1000) * 1000\n",
    "mse = 1e-06"
   ]
  },
  {
   "cell_type": "code",
   "execution_count": 26,
   "id": "04280666",
   "metadata": {},
   "outputs": [
    {
     "data": {
      "text/plain": [
       "41850.0"
      ]
     },
     "execution_count": 26,
     "metadata": {},
     "output_type": "execute_result"
    }
   ],
   "source": [
    "n = np.ceil(sigma_sq / mse)\n",
    "n.item()"
   ]
  },
  {
   "cell_type": "markdown",
   "id": "02d7a4db",
   "metadata": {},
   "source": [
    "- The required sample size."
   ]
  },
  {
   "cell_type": "markdown",
   "id": "f6f951d9",
   "metadata": {},
   "source": [
    "**b)**"
   ]
  },
  {
   "cell_type": "code",
   "execution_count": 27,
   "id": "25acd7c9",
   "metadata": {},
   "outputs": [
    {
     "data": {
      "text/plain": [
       "[0.7452225302039714, 0.749142418103395]"
      ]
     },
     "execution_count": 27,
     "metadata": {},
     "output_type": "execute_result"
    }
   ],
   "source": [
    "theta = monte_carlo_integration(a=0, b=1, n=int(n))\n",
    "alpha = norm.ppf(q=(1+0.95)/2)\n",
    "z = alpha * np.sqrt(sigma_sq / n)\n",
    "[(theta - z).item(), (theta + z).item()]"
   ]
  },
  {
   "cell_type": "markdown",
   "id": "52d78a01",
   "metadata": {},
   "source": [
    "- The 95% confidence interval.\n",
    "- Pretty accurate, as the true value is 0.746824."
   ]
  },
  {
   "cell_type": "code",
   "execution_count": 28,
   "id": "ec36e032",
   "metadata": {},
   "outputs": [
    {
     "data": {
      "text/plain": [
       "0.7471824741536832"
      ]
     },
     "execution_count": 28,
     "metadata": {},
     "output_type": "execute_result"
    }
   ],
   "source": [
    "theta.item()"
   ]
  },
  {
   "cell_type": "code",
   "execution_count": 45,
   "id": "6861da18",
   "metadata": {},
   "outputs": [],
   "source": [
    "def simulate_distr(m):\n",
    "    thetas = []\n",
    "    for i in range(m):\n",
    "        theta = monte_carlo_integration(a=0, b=1, n=int(n))\n",
    "        thetas.append(theta)\n",
    "        \n",
    "    kde = gaussian_kde(thetas)\n",
    "    x_vals = np.linspace(min(thetas), max(thetas), 1000)\n",
    "    y_vals = kde(x_vals)\n",
    "    plt.hist(thetas, bins=30, density=True, edgecolor='black')\n",
    "    plt.plot(x_vals, y_vals, color='red')"
   ]
  },
  {
   "cell_type": "code",
   "execution_count": 46,
   "id": "93c80270",
   "metadata": {},
   "outputs": [
    {
     "data": {
      "image/png": "[encoded data removed]",
      "text/plain": [
       "<Figure size 640x480 with 1 Axes>"
      ]
     },
     "metadata": {},
     "output_type": "display_data"
    }
   ],
   "source": [
    "simulate_distr(m=1000)"
   ]
  }
 ],
 "metadata": {
  "kernelspec": {
   "display_name": "Python 3 (ipykernel)",
   "language": "python",
   "name": "python3"
  },
  "language_info": {
   "codemirror_mode": {
    "name": "ipython",
    "version": 3
   },
   "file_extension": ".py",
   "mimetype": "text/x-python",
   "name": "python",
   "nbconvert_exporter": "python",
   "pygments_lexer": "ipython3",
   "version": "3.13.1"
  }
 },
 "nbformat": 4,
 "nbformat_minor": 5
}
