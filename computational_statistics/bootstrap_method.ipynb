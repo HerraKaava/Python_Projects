{
 "cells": [
  {
   "cell_type": "markdown",
   "id": "befebb23",
   "metadata": {},
   "source": [
    "<h3>Bootstrap sample</h3>\n",
    "\n",
    "- Bootstrap sample refers to a single resampled dataset drawn with replacement from the original dataset.\n",
    "\n",
    "- Each bootstrap sample has the same number of observations as the original dataset, but with possible duplicates (because the data points are drawn with replacement (i.e., the same data point can be drawn multiple times)).\n",
    "\n",
    "<h3>Bootstrap estimate</h3>\n",
    "\n",
    "- Bootstrap estimate refers to a statistic (e.g., mean, correlation, standard deviation) calculated from the bootstrap sample.\n",
    "- Each bootstrap sample produces one bootstrap estimate."
   ]
  },
  {
   "cell_type": "code",
   "execution_count": 1,
   "id": "4d7f122c",
   "metadata": {},
   "outputs": [],
   "source": [
    "import numpy as np\n",
    "import pandas as pd\n",
    "import matplotlib.pyplot as plt"
   ]
  },
  {
   "cell_type": "code",
   "execution_count": 2,
   "id": "198e69bc",
   "metadata": {},
   "outputs": [],
   "source": [
    "df = pd.read_csv('/Users/herrakaava/Documents/school/intro_comp_stats/data/airquality.csv', index_col=0)"
   ]
  },
  {
   "cell_type": "code",
   "execution_count": 3,
   "id": "96ce903e",
   "metadata": {},
   "outputs": [
    {
     "data": {
      "text/html": [
       "<div>\n",
       "<style scoped>\n",
       "    .dataframe tbody tr th:only-of-type {\n",
       "        vertical-align: middle;\n",
       "    }\n",
       "\n",
       "    .dataframe tbody tr th {\n",
       "        vertical-align: top;\n",
       "    }\n",
       "\n",
       "    .dataframe thead th {\n",
       "        text-align: right;\n",
       "    }\n",
       "</style>\n",
       "<table border=\"1\" class=\"dataframe\">\n",
       "  <thead>\n",
       "    <tr style=\"text-align: right;\">\n",
       "      <th></th>\n",
       "      <th>Ozone</th>\n",
       "      <th>Solar.R</th>\n",
       "      <th>Wind</th>\n",
       "      <th>Temp</th>\n",
       "      <th>Month</th>\n",
       "      <th>Day</th>\n",
       "    </tr>\n",
       "  </thead>\n",
       "  <tbody>\n",
       "    <tr>\n",
       "      <th>1</th>\n",
       "      <td>41.0</td>\n",
       "      <td>190.0</td>\n",
       "      <td>7.4</td>\n",
       "      <td>67</td>\n",
       "      <td>5</td>\n",
       "      <td>1</td>\n",
       "    </tr>\n",
       "    <tr>\n",
       "      <th>2</th>\n",
       "      <td>36.0</td>\n",
       "      <td>118.0</td>\n",
       "      <td>8.0</td>\n",
       "      <td>72</td>\n",
       "      <td>5</td>\n",
       "      <td>2</td>\n",
       "    </tr>\n",
       "    <tr>\n",
       "      <th>3</th>\n",
       "      <td>12.0</td>\n",
       "      <td>149.0</td>\n",
       "      <td>12.6</td>\n",
       "      <td>74</td>\n",
       "      <td>5</td>\n",
       "      <td>3</td>\n",
       "    </tr>\n",
       "    <tr>\n",
       "      <th>4</th>\n",
       "      <td>18.0</td>\n",
       "      <td>313.0</td>\n",
       "      <td>11.5</td>\n",
       "      <td>62</td>\n",
       "      <td>5</td>\n",
       "      <td>4</td>\n",
       "    </tr>\n",
       "    <tr>\n",
       "      <th>5</th>\n",
       "      <td>NaN</td>\n",
       "      <td>NaN</td>\n",
       "      <td>14.3</td>\n",
       "      <td>56</td>\n",
       "      <td>5</td>\n",
       "      <td>5</td>\n",
       "    </tr>\n",
       "  </tbody>\n",
       "</table>\n",
       "</div>"
      ],
      "text/plain": [
       "   Ozone  Solar.R  Wind  Temp  Month  Day\n",
       "1   41.0    190.0   7.4    67      5    1\n",
       "2   36.0    118.0   8.0    72      5    2\n",
       "3   12.0    149.0  12.6    74      5    3\n",
       "4   18.0    313.0  11.5    62      5    4\n",
       "5    NaN      NaN  14.3    56      5    5"
      ]
     },
     "execution_count": 3,
     "metadata": {},
     "output_type": "execute_result"
    }
   ],
   "source": [
    "df.head()"
   ]
  },
  {
   "cell_type": "code",
   "execution_count": 4,
   "id": "8171a9b3",
   "metadata": {},
   "outputs": [],
   "source": [
    "df.rename(columns={'Solar.R': 'Solar_R'}, inplace=True)"
   ]
  },
  {
   "cell_type": "code",
   "execution_count": 5,
   "id": "a65c4567",
   "metadata": {},
   "outputs": [
    {
     "data": {
      "text/plain": [
       "(153, 6)"
      ]
     },
     "execution_count": 5,
     "metadata": {},
     "output_type": "execute_result"
    }
   ],
   "source": [
    "df.shape"
   ]
  },
  {
   "cell_type": "code",
   "execution_count": 6,
   "id": "a5b6b151",
   "metadata": {},
   "outputs": [
    {
     "name": "stdout",
     "output_type": "stream",
     "text": [
      "<class 'pandas.core.frame.DataFrame'>\n",
      "Index: 153 entries, 1 to 153\n",
      "Data columns (total 6 columns):\n",
      " #   Column   Non-Null Count  Dtype  \n",
      "---  ------   --------------  -----  \n",
      " 0   Ozone    116 non-null    float64\n",
      " 1   Solar_R  146 non-null    float64\n",
      " 2   Wind     153 non-null    float64\n",
      " 3   Temp     153 non-null    int64  \n",
      " 4   Month    153 non-null    int64  \n",
      " 5   Day      153 non-null    int64  \n",
      "dtypes: float64(3), int64(3)\n",
      "memory usage: 8.4 KB\n"
     ]
    }
   ],
   "source": [
    "df.info()"
   ]
  },
  {
   "cell_type": "code",
   "execution_count": 7,
   "id": "a413b7a7",
   "metadata": {},
   "outputs": [
    {
     "data": {
      "text/plain": [
       "Ozone       True\n",
       "Solar_R     True\n",
       "Wind       False\n",
       "Temp       False\n",
       "Month      False\n",
       "Day        False\n",
       "dtype: bool"
      ]
     },
     "execution_count": 7,
     "metadata": {},
     "output_type": "execute_result"
    }
   ],
   "source": [
    "df.isna().any()"
   ]
  },
  {
   "cell_type": "code",
   "execution_count": 8,
   "id": "0ea87647",
   "metadata": {},
   "outputs": [],
   "source": [
    "df = df.dropna()"
   ]
  },
  {
   "cell_type": "code",
   "execution_count": 9,
   "id": "a9267a49",
   "metadata": {},
   "outputs": [
    {
     "data": {
      "text/plain": [
       "(111, 6)"
      ]
     },
     "execution_count": 9,
     "metadata": {},
     "output_type": "execute_result"
    }
   ],
   "source": [
    "df.shape"
   ]
  },
  {
   "cell_type": "code",
   "execution_count": 10,
   "id": "7d0e03d3",
   "metadata": {},
   "outputs": [],
   "source": [
    "def t(data):\n",
    "    \"\"\"\n",
    "    The estimator.\n",
    "    \"\"\"\n",
    "    return data.corr().loc['Temp', 'Ozone']"
   ]
  },
  {
   "cell_type": "code",
   "execution_count": 11,
   "id": "07063c26",
   "metadata": {},
   "outputs": [],
   "source": [
    "def bootstrap(data, n):\n",
    "    # Initialize an empty array to store the bs estimates\n",
    "    bs_estimates = np.zeros(n)\n",
    "    \n",
    "    # Generate n bs samples\n",
    "    n_rows = data.shape[0]\n",
    "    for i in range(n):\n",
    "        # Bootstrap sample\n",
    "        sample_indices = np.random.choice(a=n_rows, size=n_rows, replace=True)\n",
    "        \n",
    "        # Compute the bs estimate from the bs sample, and store it\n",
    "        bs_estimates[i] = t(data.iloc[sample_indices])\n",
    "    \n",
    "    return bs_estimates"
   ]
  },
  {
   "cell_type": "code",
   "execution_count": 21,
   "id": "a3af6da5",
   "metadata": {},
   "outputs": [],
   "source": [
    "bs_corr = bootstrap(df, n=10000)"
   ]
  },
  {
   "cell_type": "markdown",
   "id": "dfecd114",
   "metadata": {},
   "source": [
    "- `bs_corr` contains 10000 bootstrap estimates.\n",
    "- A statistic calculated from the `bs_corr` array represents a bootstrap **estimator**,because it approximates the sampling distribution of the original estimator.\n",
    "- In bootstrap methodology, `bs_corr`, which is a collection of bootstrap estimates, is referred to as bootstrap **distribution**."
   ]
  },
  {
   "cell_type": "code",
   "execution_count": 29,
   "id": "d5f8d83e",
   "metadata": {},
   "outputs": [
    {
     "data": {
      "text/plain": [
       "np.float64(0.7023390900729177)"
      ]
     },
     "execution_count": 29,
     "metadata": {},
     "output_type": "execute_result"
    }
   ],
   "source": [
    "# The bootstrap estimator\n",
    "np.mean(bs_corr)"
   ]
  },
  {
   "cell_type": "code",
   "execution_count": 31,
   "id": "9a9c72bd",
   "metadata": {},
   "outputs": [
    {
     "data": {
      "text/plain": [
       "np.float64(0.04804826190914116)"
      ]
     },
     "execution_count": 31,
     "metadata": {},
     "output_type": "execute_result"
    }
   ],
   "source": [
    "np.std(bs_corr)"
   ]
  },
  {
   "cell_type": "code",
   "execution_count": 30,
   "id": "e601c2bd",
   "metadata": {},
   "outputs": [
    {
     "data": {
      "text/plain": [
       "np.float64(0.6985414096486392)"
      ]
     },
     "execution_count": 30,
     "metadata": {},
     "output_type": "execute_result"
    }
   ],
   "source": [
    "# The original estimator\n",
    "t(df)"
   ]
  },
  {
   "cell_type": "code",
   "execution_count": 23,
   "id": "e21fe5b4",
   "metadata": {},
   "outputs": [
    {
     "data": {
      "image/png": "[encoded data removed]",
      "text/plain": [
       "<Figure size 640x480 with 1 Axes>"
      ]
     },
     "metadata": {},
     "output_type": "display_data"
    }
   ],
   "source": [
    "plt.hist(bs_corr, bins=30, edgecolor='black');"
   ]
  },
  {
   "cell_type": "code",
   "execution_count": 24,
   "id": "fdfd5791",
   "metadata": {},
   "outputs": [],
   "source": [
    "# Estimate the bias of the estimator\n",
    "bias = np.mean(bs_corr) - t(df)"
   ]
  },
  {
   "cell_type": "code",
   "execution_count": 25,
   "id": "e3e461a0",
   "metadata": {},
   "outputs": [
    {
     "data": {
      "text/plain": [
       "np.float64(0.0037976804242785267)"
      ]
     },
     "execution_count": 25,
     "metadata": {},
     "output_type": "execute_result"
    }
   ],
   "source": [
    "bias"
   ]
  },
  {
   "cell_type": "code",
   "execution_count": 26,
   "id": "267f9ddd",
   "metadata": {},
   "outputs": [
    {
     "data": {
      "text/plain": [
       "np.float64(0.6947437292243607)"
      ]
     },
     "execution_count": 26,
     "metadata": {},
     "output_type": "execute_result"
    }
   ],
   "source": [
    "# Harhakorjattu estimaatti\n",
    "t(df) - bias"
   ]
  }
 ],
 "metadata": {
  "kernelspec": {
   "display_name": "Python 3 (ipykernel)",
   "language": "python",
   "name": "python3"
  },
  "language_info": {
   "codemirror_mode": {
    "name": "ipython",
    "version": 3
   },
   "file_extension": ".py",
   "mimetype": "text/x-python",
   "name": "python",
   "nbconvert_exporter": "python",
   "pygments_lexer": "ipython3",
   "version": "3.13.1"
  }
 },
 "nbformat": 4,
 "nbformat_minor": 5
}
