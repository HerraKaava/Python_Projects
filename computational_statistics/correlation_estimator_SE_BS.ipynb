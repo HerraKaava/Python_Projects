{
 "cells": [
  {
   "cell_type": "markdown",
   "id": "3144ee04",
   "metadata": {},
   "source": [
    "<h2>Task 3</h2>"
   ]
  },
  {
   "cell_type": "markdown",
   "id": "e834197b",
   "metadata": {},
   "source": [
    "Olkoon meillä otos piste**pareja** \n",
    "\n",
    "$$ (x_i) = (24,23,21,23,23,24,27,23,23,23,25,23,23,23,22,24,26,25,24,24) $$\n",
    "\n",
    "$$ (y_i) = (58,55,40,41,39,52,56,57,57,54,45,50,46,41,53,49,57,62,47,45) $$\n",
    "\n",
    "tuntemattomasta kaksiulotteisesta jakaumasta. Voimme estimoida pisteparien korrelaation R:ssä koodilla cor(x, y), joka antaa tulokseksi 0.4211695. \n",
    "\n",
    "Määritä saapasremmillä (bootstrap) kuinka suuri keskivirhe (eli estimaattorin keskihajonta) on tässä korrelaation estimaattorissa ja syötä tuloksesi kahden desimaalin tarkkuudella:"
   ]
  },
  {
   "cell_type": "code",
   "execution_count": 1,
   "id": "bcd83ac5",
   "metadata": {},
   "outputs": [],
   "source": [
    "import numpy as np"
   ]
  },
  {
   "cell_type": "code",
   "execution_count": 2,
   "id": "5e06c2e2",
   "metadata": {},
   "outputs": [],
   "source": [
    "x = np.array([24,23,21,23,23,24,27,23,23,23,25,23,23,23,22,24,26,25,24,24])\n",
    "y = np.array([58,55,40,41,39,52,56,57,57,54,45,50,46,41,53,49,57,62,47,45])"
   ]
  },
  {
   "cell_type": "code",
   "execution_count": 3,
   "id": "9281f818",
   "metadata": {},
   "outputs": [
    {
     "data": {
      "text/plain": [
       "array([[1.        , 0.42116953],\n",
       "       [0.42116953, 1.        ]])"
      ]
     },
     "execution_count": 3,
     "metadata": {},
     "output_type": "execute_result"
    }
   ],
   "source": [
    "np.corrcoef(x, y)"
   ]
  },
  {
   "cell_type": "code",
   "execution_count": 4,
   "id": "00c3dd5f",
   "metadata": {},
   "outputs": [],
   "source": [
    "def corr(x, y):\n",
    "    return np.corrcoef(x, y)[0, 1]"
   ]
  },
  {
   "cell_type": "code",
   "execution_count": 5,
   "id": "c6399b89",
   "metadata": {},
   "outputs": [],
   "source": [
    "def bootstrap(x, y, m, T):\n",
    "    bs_estimates = np.zeros(m)\n",
    "    n = len(x)\n",
    "    for i in range(m):\n",
    "        sample_indices = np.random.choice(a=n, size=n, replace=True)\n",
    "        x_bs = x[sample_indices]    # Use the same indices for x_bs and y_bs\n",
    "        y_bs = y[sample_indices]    # Use the same indices for x_bs and y_bs\n",
    "        bs_estimates[i] = T(x_bs, y_bs)    # Calculate the ith bootstrap estimate\n",
    "    return np.std(bs_estimates, ddof=1)    # The standard error of the original estimator T = corr(x, y) \n",
    "                                           # can be approximated by the (sample) SD of the bootstrap estimates"
   ]
  },
  {
   "cell_type": "code",
   "execution_count": 6,
   "id": "f49eb9a7",
   "metadata": {},
   "outputs": [
    {
     "data": {
      "text/plain": [
       "0.17402732482264913"
      ]
     },
     "execution_count": 6,
     "metadata": {},
     "output_type": "execute_result"
    }
   ],
   "source": [
    "bootstrap(x, y, m=100000, T=corr)"
   ]
  },
  {
   "cell_type": "markdown",
   "id": "6cab58ca",
   "metadata": {},
   "source": [
    "Note that $\\, x_i \\,$ and $\\, y_i \\,$ are **PAIRED** data points. This means that in order to preserve the *dependency structure* between $\\, x_i \\,$ and $\\, y_i \\,$, we need to use the same indices for both `x_bs` and `y_bs` when drawing the bootstrap samples inside the loop.\n",
    "\n",
    "For each bootstrap iteration, one should sample **n pairs** $\\, (x_i, y_i) \\,$ **with replacement** from the original data. This means that one is drawing **n indices** randomly (with replacement), and using those indices to form a new bootstrap sample of $\\, (x, y) \\,$ pairs. This ensures that the dependency structure between $\\, x_i \\,$ and $\\, y_i \\,$ is preserved in each resampled dataset."
   ]
  }
 ],
 "metadata": {
  "kernelspec": {
   "display_name": "Python 3 (ipykernel)",
   "language": "python",
   "name": "python3"
  },
  "language_info": {
   "codemirror_mode": {
    "name": "ipython",
    "version": 3
   },
   "file_extension": ".py",
   "mimetype": "text/x-python",
   "name": "python",
   "nbconvert_exporter": "python",
   "pygments_lexer": "ipython3",
   "version": "3.11.0"
  }
 },
 "nbformat": 4,
 "nbformat_minor": 5
}
