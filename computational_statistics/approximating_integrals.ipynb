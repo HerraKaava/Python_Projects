{
 "cells": [
  {
   "cell_type": "code",
   "execution_count": 1,
   "id": "ebcc9ecf",
   "metadata": {},
   "outputs": [],
   "source": [
    "import numpy as np\n",
    "import matplotlib.pyplot as plt\n",
    "from scipy.integrate import quad"
   ]
  },
  {
   "cell_type": "markdown",
   "id": "19ac508c",
   "metadata": {},
   "source": [
    "<h3>Monte Carlo integration</h3>\n",
    "\n",
    "The average value of a (continuous) function $\\, f(x) \\,$ can be written as\n",
    "\n",
    "\\begin{align*}\n",
    "    \\bar{f} &= \\frac{1}{b - a} \\int_{a}^{b} f(x) \\, dx \\\\\n",
    "    (b - a) \\bar{f} &= \\int_{a}^{b} f(x) \\, dx \\\\\n",
    "    (b - a) \\frac{1}{n} \\sum_{i=1}^{n} f(U_i) &\\approx \\int_{a}^{b} f(x) \\, dx, \n",
    "\\end{align*}\n",
    "\n",
    "where $\\, U_i, \\, \\, i=1,...,n, \\,$ are random samples from $\\, \\text{Uniform}(a,b). \\,$ This is the key idea behind Monte Carlo integration. This approximation works due to the **law of large numbers**; the sample mean of converges to the true mean as $\\, n \\rightarrow \\infty. \\,$"
   ]
  },
  {
   "cell_type": "markdown",
   "id": "ae621fc2",
   "metadata": {},
   "source": [
    "<br>"
   ]
  },
  {
   "cell_type": "markdown",
   "id": "bde6ca9d",
   "metadata": {},
   "source": [
    "$\\large\\int_{0}^{1} e^{e^x} dx \\approx \\frac{1}{n} \\sum_{i=1}^{n} f(U_i)$"
   ]
  },
  {
   "cell_type": "code",
   "execution_count": 2,
   "id": "8e41fc53",
   "metadata": {},
   "outputs": [],
   "source": [
    "def f1(x):\n",
    "    return np.exp(np.exp(x))"
   ]
  },
  {
   "cell_type": "code",
   "execution_count": 4,
   "id": "f8cb5b65",
   "metadata": {},
   "outputs": [],
   "source": [
    "def eval_f(f, a, b):\n",
    "    result, error = quad(f, a, b)\n",
    "    return result, error"
   ]
  },
  {
   "cell_type": "code",
   "execution_count": 8,
   "id": "3a49a356",
   "metadata": {},
   "outputs": [],
   "source": [
    "def MC(n, a, b, f):\n",
    "    u = np.random.uniform(low=a, high=b, size=n)\n",
    "    fu = f(u)\n",
    "    return (b - a) * np.mean(fu)"
   ]
  },
  {
   "cell_type": "code",
   "execution_count": 11,
   "id": "c64de586",
   "metadata": {},
   "outputs": [
    {
     "data": {
      "text/plain": [
       "np.float64(6.316675305781307)"
      ]
     },
     "execution_count": 11,
     "metadata": {},
     "output_type": "execute_result"
    }
   ],
   "source": [
    "MC(n=1000000, a=0.0, b=1.0, f=f1)"
   ]
  },
  {
   "cell_type": "code",
   "execution_count": 12,
   "id": "1058af30",
   "metadata": {},
   "outputs": [
    {
     "data": {
      "text/plain": [
       "(6.31656383902768, 7.012794610603201e-14)"
      ]
     },
     "execution_count": 12,
     "metadata": {},
     "output_type": "execute_result"
    }
   ],
   "source": [
    "eval_f(f=f1, a=0, b=1)"
   ]
  },
  {
   "cell_type": "markdown",
   "id": "5ff00979",
   "metadata": {},
   "source": [
    "<br>"
   ]
  },
  {
   "cell_type": "markdown",
   "id": "d55c310f",
   "metadata": {},
   "source": [
    "$\\large\\int_{0}^{1} \\left(1 - x^2 \\right)^{3/2} dx \\approx \\frac{1}{n} \\sum_{i=1}^{n} f(U_i)$"
   ]
  },
  {
   "cell_type": "code",
   "execution_count": 13,
   "id": "52b23334",
   "metadata": {},
   "outputs": [],
   "source": [
    "def f2(x):\n",
    "    return (1 - x**2)**(3/2)"
   ]
  },
  {
   "cell_type": "code",
   "execution_count": 14,
   "id": "6d9a7c59",
   "metadata": {},
   "outputs": [
    {
     "data": {
      "text/plain": [
       "np.float64(0.5891017794884327)"
      ]
     },
     "execution_count": 14,
     "metadata": {},
     "output_type": "execute_result"
    }
   ],
   "source": [
    "MC(n=1000000, a=0.0, b=1.0, f=f2)"
   ]
  },
  {
   "cell_type": "code",
   "execution_count": 15,
   "id": "316bb8ff",
   "metadata": {},
   "outputs": [
    {
     "data": {
      "text/plain": [
       "(0.5890486225402516, 8.292821331765004e-09)"
      ]
     },
     "execution_count": 15,
     "metadata": {},
     "output_type": "execute_result"
    }
   ],
   "source": [
    "eval_f(f=f2, a=0, b=1)"
   ]
  },
  {
   "cell_type": "markdown",
   "id": "53ec0237",
   "metadata": {},
   "source": [
    "<br>"
   ]
  },
  {
   "cell_type": "markdown",
   "id": "af98d2a2",
   "metadata": {},
   "source": [
    "$\\large\\int_{-2}^{2} e^{x + x^2} dx \\approx \\frac{(2 - (-2))}{n} \\sum_{i=1}^{n} f(U_i)$"
   ]
  },
  {
   "cell_type": "code",
   "execution_count": 16,
   "id": "3dad56b0",
   "metadata": {},
   "outputs": [],
   "source": [
    "def f3(x):\n",
    "    return np.exp(x + x**2)"
   ]
  },
  {
   "cell_type": "code",
   "execution_count": 35,
   "id": "b5babe0b",
   "metadata": {},
   "outputs": [
    {
     "data": {
      "text/plain": [
       "np.float64(93.1652950432215)"
      ]
     },
     "execution_count": 35,
     "metadata": {},
     "output_type": "execute_result"
    }
   ],
   "source": [
    "MC(n=1000000, a=-2.0, b=2.0, f=f3)"
   ]
  },
  {
   "cell_type": "code",
   "execution_count": 20,
   "id": "9de50cea",
   "metadata": {},
   "outputs": [
    {
     "data": {
      "text/plain": [
       "(93.16275329244199, 1.6178564393124623e-09)"
      ]
     },
     "execution_count": 20,
     "metadata": {},
     "output_type": "execute_result"
    }
   ],
   "source": [
    "eval_f(f=f3, a=-2, b=2)"
   ]
  },
  {
   "cell_type": "markdown",
   "id": "aaba5609",
   "metadata": {},
   "source": [
    "<br>"
   ]
  },
  {
   "cell_type": "markdown",
   "id": "3426cde5",
   "metadata": {},
   "source": [
    "$\\large\\int_{0}^{\\infty} x(1 + x^2)^{-2} \\, dx$\n",
    "\n",
    "We'll first note a common trick for transforming improper integrals over infinite intervals like $\\, \\int_{0}^{\\infty} g(x) \\, dx \\,$ into integrals over the finite interval $\\, [0,1]. \\,$\n",
    "\n",
    "We need a function that maps x to 0 and 1. Let \n",
    "\n",
    "$$ y = \\frac{1}{x + 1} \\quad \\Leftrightarrow \\quad x = \\frac{1 - y}{y}. $$\n",
    "\n",
    "Then we'll see that\n",
    "\n",
    "$$\n",
    "\\begin{cases} \n",
    "x = 0 \\quad \\Rightarrow \\quad y = 1 \\\\\n",
    "x \\rightarrow \\infty \\quad \\Rightarrow \\quad y \\rightarrow 0\n",
    "\\end{cases}\n",
    "$$\n",
    "\n",
    "Hence, $\\, x \\in [0, \\infty) \\quad \\Rightarrow \\quad y \\in (0, 1].$\n",
    "\n",
    "Applying the substitution we get\n",
    "\n",
    "\\begin{align*}\n",
    "    y &= \\frac{1}{x + 1} \\\\\n",
    "    \\frac{dy}{dx} &= \\frac{-1}{(x+1)^2} \\\\\n",
    "    dy &= \\frac{-1}{(x+1)^2} \\, dx \\\\\n",
    "    dx &= -(x+1)^2 dy = \\frac{-1}{y^2}\n",
    "\\end{align*}\n",
    "\n",
    "So we finally obtain\n",
    "\n",
    "$$ \\int_{0}^{\\infty} g(x) \\, dx = \\int_{1}^{0} h(y) \\, dy =  - \\int_{0}^{1} h(y) \\, dy = - \\int_{0}^{1} g \\left(\\frac{1 - y}{y} \\right) \\left(\\frac{-1}{y^2} \\right) dy = \\int_{0}^{1} g \\left(\\frac{1 - y}{y} \\right) \\left(\\frac{1}{y^2} \\right) dy $$\n",
    "\n",
    "So we see that\n",
    "\n",
    "$$ h(y) = g \\left(\\frac{1 - y}{y} \\right) \\left(\\frac{1}{y^2} \\right) $$"
   ]
  },
  {
   "cell_type": "code",
   "execution_count": 2,
   "id": "ead4d014",
   "metadata": {},
   "outputs": [],
   "source": [
    "def g(x):\n",
    "    return x * (1 + x**2)**(-2)"
   ]
  },
  {
   "cell_type": "code",
   "execution_count": 5,
   "id": "bc967cc9",
   "metadata": {},
   "outputs": [
    {
     "data": {
      "text/plain": [
       "(0.5, 3.2613911324190503e-09)"
      ]
     },
     "execution_count": 5,
     "metadata": {},
     "output_type": "execute_result"
    }
   ],
   "source": [
    "eval_f(f=g, a=0, b=np.inf)"
   ]
  },
  {
   "cell_type": "code",
   "execution_count": 6,
   "id": "8f7f3247",
   "metadata": {},
   "outputs": [],
   "source": [
    "def h(y):\n",
    "    return g((1 - y) / y) * (1 / y**2)"
   ]
  },
  {
   "cell_type": "code",
   "execution_count": 14,
   "id": "ce69aaf8",
   "metadata": {},
   "outputs": [
    {
     "data": {
      "text/plain": [
       "np.float64(0.5002585955493984)"
      ]
     },
     "execution_count": 14,
     "metadata": {},
     "output_type": "execute_result"
    }
   ],
   "source": [
    "MC(n=1000000, a=0, b=1, f=h)"
   ]
  }
 ],
 "metadata": {
  "kernelspec": {
   "display_name": "Python 3 (ipykernel)",
   "language": "python",
   "name": "python3"
  },
  "language_info": {
   "codemirror_mode": {
    "name": "ipython",
    "version": 3
   },
   "file_extension": ".py",
   "mimetype": "text/x-python",
   "name": "python",
   "nbconvert_exporter": "python",
   "pygments_lexer": "ipython3",
   "version": "3.13.2"
  }
 },
 "nbformat": 4,
 "nbformat_minor": 5
}
