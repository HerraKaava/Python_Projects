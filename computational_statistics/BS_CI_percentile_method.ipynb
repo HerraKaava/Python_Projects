{
 "cells": [
  {
   "cell_type": "code",
   "execution_count": 1,
   "id": "c27cfde5",
   "metadata": {},
   "outputs": [],
   "source": [
    "import numpy as np\n",
    "import pandas as pd\n",
    "import seaborn as sns\n",
    "import matplotlib.pyplot as plt\n",
    "from scipy.stats import ttest_ind"
   ]
  },
  {
   "cell_type": "code",
   "execution_count": 2,
   "id": "62fdf196",
   "metadata": {},
   "outputs": [],
   "source": [
    "df = pd.read_csv('/Users/herrakaava/Documents/school/intro_comp_stats/data/MustangPrice.csv', index_col=0)"
   ]
  },
  {
   "cell_type": "code",
   "execution_count": 5,
   "id": "b5f35894",
   "metadata": {},
   "outputs": [
    {
     "data": {
      "text/html": [
       "<div>\n",
       "<style scoped>\n",
       "    .dataframe tbody tr th:only-of-type {\n",
       "        vertical-align: middle;\n",
       "    }\n",
       "\n",
       "    .dataframe tbody tr th {\n",
       "        vertical-align: top;\n",
       "    }\n",
       "\n",
       "    .dataframe thead th {\n",
       "        text-align: right;\n",
       "    }\n",
       "</style>\n",
       "<table border=\"1\" class=\"dataframe\">\n",
       "  <thead>\n",
       "    <tr style=\"text-align: right;\">\n",
       "      <th></th>\n",
       "      <th>Age</th>\n",
       "      <th>Miles</th>\n",
       "      <th>Price</th>\n",
       "    </tr>\n",
       "  </thead>\n",
       "  <tbody>\n",
       "    <tr>\n",
       "      <th>1</th>\n",
       "      <td>6</td>\n",
       "      <td>8.5</td>\n",
       "      <td>32.0</td>\n",
       "    </tr>\n",
       "    <tr>\n",
       "      <th>2</th>\n",
       "      <td>7</td>\n",
       "      <td>33.0</td>\n",
       "      <td>45.0</td>\n",
       "    </tr>\n",
       "    <tr>\n",
       "      <th>3</th>\n",
       "      <td>9</td>\n",
       "      <td>82.8</td>\n",
       "      <td>11.9</td>\n",
       "    </tr>\n",
       "    <tr>\n",
       "      <th>4</th>\n",
       "      <td>2</td>\n",
       "      <td>7.0</td>\n",
       "      <td>24.8</td>\n",
       "    </tr>\n",
       "    <tr>\n",
       "      <th>5</th>\n",
       "      <td>3</td>\n",
       "      <td>23.0</td>\n",
       "      <td>22.0</td>\n",
       "    </tr>\n",
       "    <tr>\n",
       "      <th>6</th>\n",
       "      <td>15</td>\n",
       "      <td>111.0</td>\n",
       "      <td>10.0</td>\n",
       "    </tr>\n",
       "    <tr>\n",
       "      <th>7</th>\n",
       "      <td>10</td>\n",
       "      <td>136.2</td>\n",
       "      <td>5.0</td>\n",
       "    </tr>\n",
       "    <tr>\n",
       "      <th>8</th>\n",
       "      <td>9</td>\n",
       "      <td>78.2</td>\n",
       "      <td>9.0</td>\n",
       "    </tr>\n",
       "    <tr>\n",
       "      <th>9</th>\n",
       "      <td>1</td>\n",
       "      <td>26.1</td>\n",
       "      <td>23.0</td>\n",
       "    </tr>\n",
       "    <tr>\n",
       "      <th>10</th>\n",
       "      <td>1</td>\n",
       "      <td>1.1</td>\n",
       "      <td>37.9</td>\n",
       "    </tr>\n",
       "    <tr>\n",
       "      <th>11</th>\n",
       "      <td>4</td>\n",
       "      <td>18.2</td>\n",
       "      <td>32.5</td>\n",
       "    </tr>\n",
       "    <tr>\n",
       "      <th>12</th>\n",
       "      <td>14</td>\n",
       "      <td>144.9</td>\n",
       "      <td>3.0</td>\n",
       "    </tr>\n",
       "    <tr>\n",
       "      <th>13</th>\n",
       "      <td>8</td>\n",
       "      <td>100.8</td>\n",
       "      <td>9.0</td>\n",
       "    </tr>\n",
       "    <tr>\n",
       "      <th>14</th>\n",
       "      <td>10</td>\n",
       "      <td>51.4</td>\n",
       "      <td>13.0</td>\n",
       "    </tr>\n",
       "    <tr>\n",
       "      <th>15</th>\n",
       "      <td>5</td>\n",
       "      <td>38.5</td>\n",
       "      <td>14.9</td>\n",
       "    </tr>\n",
       "    <tr>\n",
       "      <th>16</th>\n",
       "      <td>9</td>\n",
       "      <td>61.9</td>\n",
       "      <td>7.0</td>\n",
       "    </tr>\n",
       "    <tr>\n",
       "      <th>17</th>\n",
       "      <td>6</td>\n",
       "      <td>71.2</td>\n",
       "      <td>16.0</td>\n",
       "    </tr>\n",
       "    <tr>\n",
       "      <th>18</th>\n",
       "      <td>1</td>\n",
       "      <td>26.4</td>\n",
       "      <td>21.0</td>\n",
       "    </tr>\n",
       "    <tr>\n",
       "      <th>19</th>\n",
       "      <td>12</td>\n",
       "      <td>117.4</td>\n",
       "      <td>7.0</td>\n",
       "    </tr>\n",
       "    <tr>\n",
       "      <th>20</th>\n",
       "      <td>14</td>\n",
       "      <td>102.0</td>\n",
       "      <td>8.2</td>\n",
       "    </tr>\n",
       "    <tr>\n",
       "      <th>21</th>\n",
       "      <td>10</td>\n",
       "      <td>86.4</td>\n",
       "      <td>9.7</td>\n",
       "    </tr>\n",
       "    <tr>\n",
       "      <th>22</th>\n",
       "      <td>13</td>\n",
       "      <td>72.7</td>\n",
       "      <td>8.0</td>\n",
       "    </tr>\n",
       "    <tr>\n",
       "      <th>23</th>\n",
       "      <td>13</td>\n",
       "      <td>71.8</td>\n",
       "      <td>11.8</td>\n",
       "    </tr>\n",
       "    <tr>\n",
       "      <th>24</th>\n",
       "      <td>12</td>\n",
       "      <td>72.9</td>\n",
       "      <td>12.9</td>\n",
       "    </tr>\n",
       "    <tr>\n",
       "      <th>25</th>\n",
       "      <td>14</td>\n",
       "      <td>115.1</td>\n",
       "      <td>4.9</td>\n",
       "    </tr>\n",
       "  </tbody>\n",
       "</table>\n",
       "</div>"
      ],
      "text/plain": [
       "    Age  Miles  Price\n",
       "1     6    8.5   32.0\n",
       "2     7   33.0   45.0\n",
       "3     9   82.8   11.9\n",
       "4     2    7.0   24.8\n",
       "5     3   23.0   22.0\n",
       "6    15  111.0   10.0\n",
       "7    10  136.2    5.0\n",
       "8     9   78.2    9.0\n",
       "9     1   26.1   23.0\n",
       "10    1    1.1   37.9\n",
       "11    4   18.2   32.5\n",
       "12   14  144.9    3.0\n",
       "13    8  100.8    9.0\n",
       "14   10   51.4   13.0\n",
       "15    5   38.5   14.9\n",
       "16    9   61.9    7.0\n",
       "17    6   71.2   16.0\n",
       "18    1   26.4   21.0\n",
       "19   12  117.4    7.0\n",
       "20   14  102.0    8.2\n",
       "21   10   86.4    9.7\n",
       "22   13   72.7    8.0\n",
       "23   13   71.8   11.8\n",
       "24   12   72.9   12.9\n",
       "25   14  115.1    4.9"
      ]
     },
     "execution_count": 5,
     "metadata": {},
     "output_type": "execute_result"
    }
   ],
   "source": [
    "df"
   ]
  },
  {
   "cell_type": "code",
   "execution_count": 6,
   "id": "165194a4",
   "metadata": {},
   "outputs": [],
   "source": [
    "def t(data):\n",
    "    \"\"\"\n",
    "    The estimator.\n",
    "    \"\"\"\n",
    "    return np.mean(data)"
   ]
  },
  {
   "cell_type": "code",
   "execution_count": 16,
   "id": "794f9d6f",
   "metadata": {},
   "outputs": [],
   "source": [
    "def bootstrap(data, n):\n",
    "    # Initialize an empty array to store the bs estimates\n",
    "    bs_estimates = np.zeros(n)\n",
    "    \n",
    "    # Generate n bs samples,\n",
    "    # Calculate the bs estimate from each bs sample,\n",
    "    # store each bs estimate\n",
    "    for i in range(n):\n",
    "        sample_indices = np.random.choice(a=data.shape[0], size=data.shape[0], replace=True)\n",
    "        bs_estimates[i] = t(data[sample_indices])\n",
    "        \n",
    "    return bs_estimates"
   ]
  },
  {
   "cell_type": "code",
   "execution_count": 17,
   "id": "b4a32e5f",
   "metadata": {},
   "outputs": [],
   "source": [
    "bs_mean = bootstrap(df['Price'].values, n=10000)"
   ]
  },
  {
   "cell_type": "code",
   "execution_count": 20,
   "id": "9c76a4b8",
   "metadata": {},
   "outputs": [
    {
     "data": {
      "text/plain": [
       "np.float64(15.98)"
      ]
     },
     "execution_count": 20,
     "metadata": {},
     "output_type": "execute_result"
    }
   ],
   "source": [
    "# The original estimator\n",
    "np.mean(df['Price'].mean())"
   ]
  },
  {
   "cell_type": "code",
   "execution_count": 21,
   "id": "a940eaca",
   "metadata": {},
   "outputs": [
    {
     "data": {
      "text/plain": [
       "np.float64(15.9718992)"
      ]
     },
     "execution_count": 21,
     "metadata": {},
     "output_type": "execute_result"
    }
   ],
   "source": [
    "# The bootstrap estimator\n",
    "np.mean(bs_mean)"
   ]
  },
  {
   "cell_type": "markdown",
   "id": "acf3183a",
   "metadata": {},
   "source": [
    "The *q*th percentile is the value below which at least q% of the data falls, including the values that are equal to it. This means that we can construct confidence intervals using bootstrapping and percentiles. The confidence interval for the bootstrapped mean is the middle 95% values (i.e., excluding the 2.5% in the left tail and 2.5% in the right tail)."
   ]
  },
  {
   "cell_type": "code",
   "execution_count": 23,
   "id": "3d66d9a8",
   "metadata": {},
   "outputs": [],
   "source": [
    "lower_bound, upper_bound = np.percentile(bs_mean, q=[2.5, 97.5])"
   ]
  },
  {
   "cell_type": "code",
   "execution_count": 25,
   "id": "06fb49f8",
   "metadata": {},
   "outputs": [
    {
     "name": "stdout",
     "output_type": "stream",
     "text": [
      "95% confidence interval for the mean: [11.976, 20.448]\n"
     ]
    }
   ],
   "source": [
    "print(f'95% confidence interval for the mean: [{lower_bound:.3f}, {upper_bound:.3f}]')"
   ]
  }
 ],
 "metadata": {
  "kernelspec": {
   "display_name": "Python 3 (ipykernel)",
   "language": "python",
   "name": "python3"
  },
  "language_info": {
   "codemirror_mode": {
    "name": "ipython",
    "version": 3
   },
   "file_extension": ".py",
   "mimetype": "text/x-python",
   "name": "python",
   "nbconvert_exporter": "python",
   "pygments_lexer": "ipython3",
   "version": "3.13.1"
  }
 },
 "nbformat": 4,
 "nbformat_minor": 5
}
