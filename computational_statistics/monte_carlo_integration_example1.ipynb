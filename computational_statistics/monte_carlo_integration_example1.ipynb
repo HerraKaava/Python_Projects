{
 "cells": [
  {
   "cell_type": "markdown",
   "id": "3d775f49",
   "metadata": {},
   "source": [
    "<h2>Monte Carlo integration</h2>\n",
    "\n",
    "The average value of a (continuous) function $\\, f(x) \\,$ can be written as\n",
    "\n",
    "\\begin{align*}\n",
    "    \\bar{f} &= \\frac{1}{b - a} \\int_{a}^{b} f(x) \\, dx \\\\\n",
    "    (b - a) \\bar{f} &= \\int_{a}^{b} f(x) \\, dx \\\\\n",
    "    (b - a) \\frac{1}{n} \\sum_{i=1}^{n} f(x_i) &\\approx \\int_{a}^{b} f(x) \\, dx\n",
    "\\end{align*}\n",
    "\n",
    "Note that the notation $\\, \\bar{f} \\,$ refers to the average value of the function $\\, f(x) \\,$ over the interval $\\, [a,b], \\,$ which is a constant value (NOT a function of x). It represents the average height of the function of $\\, f(x) \\,$ over the interval $\\, [a,b].\\,$ The dependence on x is integrated out when computing the average. Therefore it is not appropriate to write $\\, \\bar{f}(x), \\,$ as this would imply that $\\, \\bar{f} \\,$ is a function of x, which it is not.\n",
    "\n",
    "Note that in the Monte Carlo approx, in the sum $\\, \\sum_{i=1}^{n} f(x_i) \\,$ each of the $\\, x_i, \\, \\, i=1,...,n \\,$ are random numbers sampled from the interval $\\, [a,b]. \\,$ This is the idea behind Monte Carlo integration.\n",
    "\n",
    "So Monte Carlo integration says that the integral $\\, \\int_{a}^{b} f(x) \\, dx \\,$ can be approximated as $\\, (b - a) \\frac{1}{n} \\sum_{i=1}^{n} f(x_i), \\,$ where each of the $\\, x_i \\,$ are random samples drawn from a uniform distribution over $\\, [a,b]. \\,$\n",
    "\n",
    "This approximation works because the sum $\\, (b - a) \\frac{1}{n} \\sum_{i=1}^{n} f(x_i) \\,$ is the sample mean of $\\, f(x), \\,$ and it converges to the true mean as $\\, n \\rightarrow \\infty. \\,$"
   ]
  },
  {
   "cell_type": "markdown",
   "id": "4a9858e0",
   "metadata": {},
   "source": [
    "<h3>Example 1</h3>"
   ]
  },
  {
   "cell_type": "markdown",
   "id": "10c81413",
   "metadata": {},
   "source": [
    "We're going to use Monte Carlo integration to approximate the integral\n",
    "\n",
    "$$ \\int_{0}^{\\pi} sin(x) \\, dx = \\Big|_0^{\\pi}-cos(x) = -cos(\\pi) - (-cos(0)) = 2.$$\n",
    "\n",
    "Let's see how close we can get."
   ]
  },
  {
   "cell_type": "code",
   "execution_count": 1,
   "id": "042420a3",
   "metadata": {},
   "outputs": [],
   "source": [
    "import numpy as np\n",
    "import matplotlib.pyplot as plt"
   ]
  },
  {
   "cell_type": "code",
   "execution_count": 2,
   "id": "e7186229",
   "metadata": {},
   "outputs": [],
   "source": [
    "def f(x):\n",
    "    \"\"\"\n",
    "    The function to integrate\n",
    "    (i.e., the function for which we want to approximate the area under its curve).\n",
    "    \"\"\"\n",
    "    return np.sin(x)"
   ]
  },
  {
   "cell_type": "markdown",
   "id": "925f2e6e",
   "metadata": {},
   "source": [
    "- We want to evaluate `f` at the random points `xrand`.\n",
    "- The final result will then be multiplied with the constant $\\, (a - b) \\frac{1}{n}. \\,$"
   ]
  },
  {
   "cell_type": "code",
   "execution_count": 5,
   "id": "31f2ba65",
   "metadata": {},
   "outputs": [],
   "source": [
    "def monte_carlo_intgr(a, b, n):\n",
    "    \"\"\"\n",
    "    Args:\n",
    "        a: lower limit of integration\n",
    "        b: upper limit of integration\n",
    "        n: the number of random points to generate from U(a,b)\n",
    "        \n",
    "    Returns:\n",
    "        An approximation of the integral introduced in Example 1.\n",
    "    \"\"\"\n",
    "    # An array of n random numbers inside the integration limits\n",
    "    xrand = np.random.uniform(low=a, high=b, size=n)\n",
    "    result = 0\n",
    "    for i in range(n):\n",
    "        result += f(xrand[i])\n",
    "    return (b-a) * (1/n) * result"
   ]
  },
  {
   "cell_type": "code",
   "execution_count": 6,
   "id": "8accec79",
   "metadata": {},
   "outputs": [],
   "source": [
    "integral_approximations = []\n",
    "for i in range(1000):\n",
    "    approx_integral = monte_carlo_intgr(a=0.0, b=np.pi, n=1000)\n",
    "    integral_approximations.append(approx_integral)"
   ]
  },
  {
   "cell_type": "code",
   "execution_count": 7,
   "id": "04285a64",
   "metadata": {},
   "outputs": [
    {
     "data": {
      "image/png": "[encoded data removed]",
      "text/plain": [
       "<Figure size 640x480 with 1 Axes>"
      ]
     },
     "metadata": {},
     "output_type": "display_data"
    }
   ],
   "source": [
    "plt.hist(integral_approximations, bins=20, edgecolor='black');"
   ]
  },
  {
   "cell_type": "markdown",
   "id": "68704ad3",
   "metadata": {},
   "source": [
    "- This histogram shows 1000 approximations of the integral $\\, \\int_{0}^{\\pi} sin(x) \\, dx. \\,$"
   ]
  },
  {
   "cell_type": "markdown",
   "id": "27ec984a",
   "metadata": {},
   "source": [
    "When we let $\\, n \\rightarrow \\infty, \\,$ the distribution should become narrower and approach the true value."
   ]
  },
  {
   "cell_type": "code",
   "execution_count": 10,
   "id": "9f9ee3c6",
   "metadata": {},
   "outputs": [],
   "source": [
    "integral_approximations = []\n",
    "for i in range(1000):\n",
    "    approx_integral = monte_carlo_intgr(a=0.0, b=np.pi, n=100000)\n",
    "    integral_approximations.append(approx_integral)"
   ]
  },
  {
   "cell_type": "code",
   "execution_count": 11,
   "id": "d9386182",
   "metadata": {},
   "outputs": [
    {
     "data": {
      "image/png": "[encoded data removed]",
      "text/plain": [
       "<Figure size 640x480 with 1 Axes>"
      ]
     },
     "metadata": {},
     "output_type": "display_data"
    }
   ],
   "source": [
    "plt.hist(integral_approximations, bins=20, edgecolor='black');"
   ]
  }
 ],
 "metadata": {
  "kernelspec": {
   "display_name": "Python 3 (ipykernel)",
   "language": "python",
   "name": "python3"
  },
  "language_info": {
   "codemirror_mode": {
    "name": "ipython",
    "version": 3
   },
   "file_extension": ".py",
   "mimetype": "text/x-python",
   "name": "python",
   "nbconvert_exporter": "python",
   "pygments_lexer": "ipython3",
   "version": "3.13.1"
  }
 },
 "nbformat": 4,
 "nbformat_minor": 5
}
