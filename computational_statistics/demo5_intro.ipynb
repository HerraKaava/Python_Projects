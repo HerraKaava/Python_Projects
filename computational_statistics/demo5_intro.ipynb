{
 "cells": [
  {
   "cell_type": "code",
   "execution_count": 1,
   "id": "827c68bb",
   "metadata": {},
   "outputs": [],
   "source": [
    "import numpy as np"
   ]
  },
  {
   "cell_type": "markdown",
   "id": "0c1b1b90",
   "metadata": {},
   "source": [
    "<h2>Task 1</h2>"
   ]
  },
  {
   "cell_type": "code",
   "execution_count": 2,
   "id": "2305ee94",
   "metadata": {},
   "outputs": [],
   "source": [
    "X = np.array([4.17, 5.58, 5.18, 6.11, 4.5, 4.61, 5.17, 4.53, 5.33, 5.14])"
   ]
  },
  {
   "cell_type": "code",
   "execution_count": 2,
   "id": "faaef0ac",
   "metadata": {},
   "outputs": [],
   "source": [
    "def biased_var(x):\n",
    "    return np.mean(x**2) - np.mean(x)**2"
   ]
  },
  {
   "cell_type": "code",
   "execution_count": 3,
   "id": "580b0bda",
   "metadata": {},
   "outputs": [],
   "source": [
    "def biased_sd(x):\n",
    "    return np.sqrt(biased_var(x))"
   ]
  },
  {
   "cell_type": "code",
   "execution_count": 4,
   "id": "41d1f856",
   "metadata": {},
   "outputs": [],
   "source": [
    "def sample_var(x):\n",
    "    return np.var(x, ddof=1)"
   ]
  },
  {
   "cell_type": "code",
   "execution_count": 5,
   "id": "ad5a9cb2",
   "metadata": {},
   "outputs": [],
   "source": [
    "def sample_sd(x):\n",
    "    return np.sqrt(sample_var(x))"
   ]
  },
  {
   "cell_type": "markdown",
   "id": "caedd541",
   "metadata": {},
   "source": [
    "**a)**"
   ]
  },
  {
   "cell_type": "code",
   "execution_count": 7,
   "id": "e8e79939",
   "metadata": {},
   "outputs": [
    {
     "name": "stdout",
     "output_type": "stream",
     "text": [
      "Biased estimate of population variance: 0.305996\n",
      "Biased estimate of population SD: 0.553169\n",
      "\n",
      "Sample variance (unbiased estimate of the population variance): 0.339996\n",
      "Sample SD (unbiased estimate of the population SD): 0.583091\n"
     ]
    }
   ],
   "source": [
    "print(f'Biased estimate of population variance: {biased_var(X):.6f}')\n",
    "print(f'Biased estimate of population SD: {biased_sd(X):.6f}')\n",
    "print()\n",
    "print(f'Sample variance (unbiased estimate of the population variance): {sample_var(X):.6f}')\n",
    "print(f'Sample SD (unbiased estimate of the population SD): {sample_sd(X):.6f}')"
   ]
  },
  {
   "cell_type": "markdown",
   "id": "eaabd274",
   "metadata": {},
   "source": [
    "**b)**"
   ]
  },
  {
   "cell_type": "code",
   "execution_count": 6,
   "id": "5657c836",
   "metadata": {},
   "outputs": [],
   "source": [
    "def jackknife(X, T, print_results=False, return_estimates=False):\n",
    "    # The number of data points\n",
    "    n = X.shape[0]\n",
    "    \n",
    "    # Estimator for the original sample\n",
    "    T_hat = T(X)\n",
    "    \n",
    "    # (\\hat{T}^{j}, j=1,...,n)\n",
    "    # Remove the jth observation, and compute the estimator with the subset\n",
    "    loo_estimates = np.array([T(np.delete(X, j)) for j in range(n)])\n",
    "    \n",
    "    # Pseudo values\n",
    "    pv = n * T_hat - (n - 1) * loo_estimates\n",
    "    \n",
    "    # The jackknife estimator is the mean of the pseudo values\n",
    "    jack_est = np.mean(pv)\n",
    "    \n",
    "    # The jackknife estimate of the standard error of the jackknife estimator\n",
    "    jack_est_se = np.std(pv, ddof=1) / np.sqrt(n)\n",
    "    \n",
    "    if print_results:\n",
    "        print(f'The estimator for the original sample: {T_hat:.6f}')\n",
    "        print(f'Jackknife estimator: {jack_est:.6f}')\n",
    "        print(f'The jackknife estimate of the SE of the jackknife estimator: {jack_est_se:.6f}')\n",
    "        \n",
    "    if return_estimates:\n",
    "        return jack_est, jack_est_se"
   ]
  },
  {
   "cell_type": "code",
   "execution_count": 9,
   "id": "52dca0cf",
   "metadata": {},
   "outputs": [
    {
     "name": "stdout",
     "output_type": "stream",
     "text": [
      "biased_var\n",
      "The estimator for the original sample: 0.305996\n",
      "Jackknife estimator: 0.339996\n",
      "The jackknife estimate of the SE of the jackknife estimator: 0.130452\n",
      "\n",
      "biased_sd\n",
      "The estimator for the original sample: 0.553169\n",
      "Jackknife estimator: 0.598540\n",
      "The jackknife estimate of the SE of the jackknife estimator: 0.126360\n",
      "\n",
      "sample_var\n",
      "The estimator for the original sample: 0.339996\n",
      "Jackknife estimator: 0.339996\n",
      "The jackknife estimate of the SE of the jackknife estimator: 0.146758\n",
      "\n",
      "sample_sd\n",
      "The estimator for the original sample: 0.583091\n",
      "Jackknife estimator: 0.598517\n",
      "The jackknife estimate of the SE of the jackknife estimator: 0.134025\n",
      "\n"
     ]
    }
   ],
   "source": [
    "for f in [biased_var, biased_sd, sample_var, sample_sd]:\n",
    "    print(f.__name__)\n",
    "    jackknife(X, T=f, print_results=True)\n",
    "    print()"
   ]
  },
  {
   "cell_type": "markdown",
   "id": "d7c73238",
   "metadata": {},
   "source": [
    "<h2>Task 2</h2>"
   ]
  },
  {
   "cell_type": "code",
   "execution_count": 7,
   "id": "1d2a67a4",
   "metadata": {},
   "outputs": [],
   "source": [
    "def simulation_experiment(n, m, T):\n",
    "    \"\"\"\n",
    "    Args:\n",
    "        n: the number of rando samples to draw from N(0,1)\n",
    "        m: the number of simulations\n",
    "        T: the estimator whose behaviour one wishes to investigate\n",
    "    \"\"\"\n",
    "    orig_estimates = np.zeros(m)\n",
    "    jack_estimates = np.zeros(m)\n",
    "    jack_estimate_ses = np.zeros(m)\n",
    "    \n",
    "    for i in range(m):\n",
    "        # Draw random samples from N(0,1)\n",
    "        X = np.random.normal(loc=0.0, scale=1.0, size=n)\n",
    "        \n",
    "        # Compute the value of the original estimator with the current sample X\n",
    "        T_hat = T(X)\n",
    "        orig_estimates[i] = T_hat\n",
    "        \n",
    "        # Jackknife\n",
    "        jack_est, jack_est_se = jackknife(X, T=T, return_estimates=True)\n",
    "        jack_estimates[i] = jack_est\n",
    "        jack_estimate_ses[i] = jack_est_se\n",
    "        \n",
    "    # Calculate biases and standard errors\n",
    "    # Note that since we are drawing samples from N(0,1),\n",
    "    # the true value of T is 1.\n",
    "    bias_orig = np.mean(orig_estimates) - 1.0\n",
    "    se_orig = np.std(orig_estimates, ddof=1)\n",
    "    bias_jack = np.mean(jack_estimates) - 1.0\n",
    "    se_jack = np.std(jack_estimates, ddof=1)\n",
    "    mean_jack_se = np.mean(jack_estimate_ses)\n",
    "    \n",
    "    print(f'Original estimator: bias={bias_orig:.4f}, SE={se_orig:.4f}')\n",
    "    print(f'Jackknife estimator: bias={bias_jack:.4f}, SE={se_jack:.4f}')\n",
    "    print(f'Mean of the jackknife SE estimates: {mean_jack_se:.4f}')"
   ]
  },
  {
   "cell_type": "code",
   "execution_count": 8,
   "id": "508b69ba",
   "metadata": {},
   "outputs": [
    {
     "name": "stdout",
     "output_type": "stream",
     "text": [
      "##### biased_var #####\n",
      "Original estimator: bias=-0.0115, SE=0.1405\n",
      "Jackknife estimator: bias=-0.0015, SE=0.1419\n",
      "Mean of the jackknife SE estimates: 0.1389\n",
      "\n",
      "##### biased_sd #####\n",
      "Original estimator: bias=-0.0063, SE=0.0713\n",
      "Jackknife estimator: bias=0.0012, SE=0.0718\n",
      "Mean of the jackknife SE estimates: 0.0706\n",
      "\n",
      "##### sample_var #####\n",
      "Original estimator: bias=0.0001, SE=0.1421\n",
      "Jackknife estimator: bias=0.0001, SE=0.1421\n",
      "Mean of the jackknife SE estimates: 0.1407\n",
      "\n",
      "##### sample_sd #####\n",
      "Original estimator: bias=-0.0013, SE=0.0711\n",
      "Jackknife estimator: bias=0.0012, SE=0.0712\n",
      "Mean of the jackknife SE estimates: 0.0707\n",
      "\n"
     ]
    }
   ],
   "source": [
    "for f in [biased_var, biased_sd, sample_var, sample_sd]:\n",
    "    print(f'##### {f.__name__} #####')\n",
    "    simulation_experiment(n=100, m=10000, T=f)\n",
    "    print()"
   ]
  },
  {
   "cell_type": "markdown",
   "id": "127628f8",
   "metadata": {},
   "source": [
    "- `sample_var` is the only unbiased estimator."
   ]
  }
 ],
 "metadata": {
  "kernelspec": {
   "display_name": "Python 3 (ipykernel)",
   "language": "python",
   "name": "python3"
  },
  "language_info": {
   "codemirror_mode": {
    "name": "ipython",
    "version": 3
   },
   "file_extension": ".py",
   "mimetype": "text/x-python",
   "name": "python",
   "nbconvert_exporter": "python",
   "pygments_lexer": "ipython3",
   "version": "3.13.1"
  }
 },
 "nbformat": 4,
 "nbformat_minor": 5
}
