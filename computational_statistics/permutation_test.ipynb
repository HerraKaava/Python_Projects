{
 "cells": [
  {
   "cell_type": "code",
   "execution_count": 1,
   "id": "9588c91e",
   "metadata": {},
   "outputs": [],
   "source": [
    "import numpy as np\n",
    "import pandas as pd\n",
    "import seaborn as sns\n",
    "import matplotlib.pyplot as plt\n",
    "from scipy.stats import ttest_ind"
   ]
  },
  {
   "cell_type": "code",
   "execution_count": 2,
   "id": "faae7864",
   "metadata": {},
   "outputs": [],
   "source": [
    "sleep = pd.read_csv('/Users/herrakaava/Documents/school/intro_comp_stats/data/sleep.csv', index_col=0)"
   ]
  },
  {
   "cell_type": "code",
   "execution_count": 3,
   "id": "0b2171ba",
   "metadata": {},
   "outputs": [
    {
     "data": {
      "text/html": [
       "<div>\n",
       "<style scoped>\n",
       "    .dataframe tbody tr th:only-of-type {\n",
       "        vertical-align: middle;\n",
       "    }\n",
       "\n",
       "    .dataframe tbody tr th {\n",
       "        vertical-align: top;\n",
       "    }\n",
       "\n",
       "    .dataframe thead th {\n",
       "        text-align: right;\n",
       "    }\n",
       "</style>\n",
       "<table border=\"1\" class=\"dataframe\">\n",
       "  <thead>\n",
       "    <tr style=\"text-align: right;\">\n",
       "      <th></th>\n",
       "      <th>extra</th>\n",
       "      <th>group</th>\n",
       "      <th>ID</th>\n",
       "    </tr>\n",
       "  </thead>\n",
       "  <tbody>\n",
       "    <tr>\n",
       "      <th>1</th>\n",
       "      <td>0.7</td>\n",
       "      <td>1</td>\n",
       "      <td>1</td>\n",
       "    </tr>\n",
       "    <tr>\n",
       "      <th>2</th>\n",
       "      <td>-1.6</td>\n",
       "      <td>1</td>\n",
       "      <td>2</td>\n",
       "    </tr>\n",
       "    <tr>\n",
       "      <th>3</th>\n",
       "      <td>-0.2</td>\n",
       "      <td>1</td>\n",
       "      <td>3</td>\n",
       "    </tr>\n",
       "    <tr>\n",
       "      <th>4</th>\n",
       "      <td>-1.2</td>\n",
       "      <td>1</td>\n",
       "      <td>4</td>\n",
       "    </tr>\n",
       "    <tr>\n",
       "      <th>5</th>\n",
       "      <td>-0.1</td>\n",
       "      <td>1</td>\n",
       "      <td>5</td>\n",
       "    </tr>\n",
       "    <tr>\n",
       "      <th>6</th>\n",
       "      <td>3.4</td>\n",
       "      <td>1</td>\n",
       "      <td>6</td>\n",
       "    </tr>\n",
       "    <tr>\n",
       "      <th>7</th>\n",
       "      <td>3.7</td>\n",
       "      <td>1</td>\n",
       "      <td>7</td>\n",
       "    </tr>\n",
       "    <tr>\n",
       "      <th>8</th>\n",
       "      <td>0.8</td>\n",
       "      <td>1</td>\n",
       "      <td>8</td>\n",
       "    </tr>\n",
       "    <tr>\n",
       "      <th>9</th>\n",
       "      <td>0.0</td>\n",
       "      <td>1</td>\n",
       "      <td>9</td>\n",
       "    </tr>\n",
       "    <tr>\n",
       "      <th>10</th>\n",
       "      <td>2.0</td>\n",
       "      <td>1</td>\n",
       "      <td>10</td>\n",
       "    </tr>\n",
       "    <tr>\n",
       "      <th>11</th>\n",
       "      <td>1.9</td>\n",
       "      <td>2</td>\n",
       "      <td>1</td>\n",
       "    </tr>\n",
       "    <tr>\n",
       "      <th>12</th>\n",
       "      <td>0.8</td>\n",
       "      <td>2</td>\n",
       "      <td>2</td>\n",
       "    </tr>\n",
       "    <tr>\n",
       "      <th>13</th>\n",
       "      <td>1.1</td>\n",
       "      <td>2</td>\n",
       "      <td>3</td>\n",
       "    </tr>\n",
       "    <tr>\n",
       "      <th>14</th>\n",
       "      <td>0.1</td>\n",
       "      <td>2</td>\n",
       "      <td>4</td>\n",
       "    </tr>\n",
       "    <tr>\n",
       "      <th>15</th>\n",
       "      <td>-0.1</td>\n",
       "      <td>2</td>\n",
       "      <td>5</td>\n",
       "    </tr>\n",
       "    <tr>\n",
       "      <th>16</th>\n",
       "      <td>4.4</td>\n",
       "      <td>2</td>\n",
       "      <td>6</td>\n",
       "    </tr>\n",
       "    <tr>\n",
       "      <th>17</th>\n",
       "      <td>5.5</td>\n",
       "      <td>2</td>\n",
       "      <td>7</td>\n",
       "    </tr>\n",
       "    <tr>\n",
       "      <th>18</th>\n",
       "      <td>1.6</td>\n",
       "      <td>2</td>\n",
       "      <td>8</td>\n",
       "    </tr>\n",
       "    <tr>\n",
       "      <th>19</th>\n",
       "      <td>4.6</td>\n",
       "      <td>2</td>\n",
       "      <td>9</td>\n",
       "    </tr>\n",
       "    <tr>\n",
       "      <th>20</th>\n",
       "      <td>3.4</td>\n",
       "      <td>2</td>\n",
       "      <td>10</td>\n",
       "    </tr>\n",
       "  </tbody>\n",
       "</table>\n",
       "</div>"
      ],
      "text/plain": [
       "    extra  group  ID\n",
       "1     0.7      1   1\n",
       "2    -1.6      1   2\n",
       "3    -0.2      1   3\n",
       "4    -1.2      1   4\n",
       "5    -0.1      1   5\n",
       "6     3.4      1   6\n",
       "7     3.7      1   7\n",
       "8     0.8      1   8\n",
       "9     0.0      1   9\n",
       "10    2.0      1  10\n",
       "11    1.9      2   1\n",
       "12    0.8      2   2\n",
       "13    1.1      2   3\n",
       "14    0.1      2   4\n",
       "15   -0.1      2   5\n",
       "16    4.4      2   6\n",
       "17    5.5      2   7\n",
       "18    1.6      2   8\n",
       "19    4.6      2   9\n",
       "20    3.4      2  10"
      ]
     },
     "execution_count": 3,
     "metadata": {},
     "output_type": "execute_result"
    }
   ],
   "source": [
    "sleep"
   ]
  },
  {
   "cell_type": "markdown",
   "id": "bddf3899",
   "metadata": {},
   "source": [
    "- Tarkastellaan aineistoa, jossa on kirjattuna kahden eri lääkkeen vaikutus yöunen määrän lisääntymiseen. \n",
    "- Tarkastellaan permutaatiotestillä nollahypoteesiä, että ryhmien keskiarvoissa ei ole eroa, ja lasketaan p-arvot kun vaihtoehtoinen hypoteesi on, että 1-ryhmässä keskiarvo on pienempi tai että ryhmien keskiarvot ylipäänsä poikkeavat toisistaan."
   ]
  },
  {
   "cell_type": "markdown",
   "id": "2a3deb58",
   "metadata": {},
   "source": [
    "<h3>One-sided test</h3>"
   ]
  },
  {
   "cell_type": "markdown",
   "id": "c0c8354b",
   "metadata": {},
   "source": [
    "$$\n",
    "\\begin{aligned}\n",
    "\\text{H}_0 &: \\mu_1 = \\mu_2 \\quad \\text{(Ei eroa keskiarvoissa)} \\\\\n",
    "\\text{H}_1 &: \\mu_1 < \\mu_2 \\quad \\text{(Ryhmässä 1 keskiarvo on pienempi)}\n",
    "\\end{aligned}\n",
    "$$"
   ]
  },
  {
   "cell_type": "code",
   "execution_count": 4,
   "id": "77f7f1e5",
   "metadata": {},
   "outputs": [
    {
     "data": {
      "image/png": "[encoded data removed]",
      "text/plain": [
       "<Figure size 640x480 with 1 Axes>"
      ]
     },
     "metadata": {},
     "output_type": "display_data"
    }
   ],
   "source": [
    "sns.boxplot(x='group', y='extra', data=sleep);"
   ]
  },
  {
   "cell_type": "code",
   "execution_count": 5,
   "id": "d3b2a70e",
   "metadata": {},
   "outputs": [],
   "source": [
    "x1 = sleep[sleep['group'] == 1]['extra']\n",
    "x2 = sleep[sleep['group'] == 2]['extra']"
   ]
  },
  {
   "cell_type": "markdown",
   "id": "7b6d0a74",
   "metadata": {},
   "source": [
    "\\begin{equation*}\n",
    "    \\large t = \\frac{\\bar{x}_1 - \\bar{x}_2}{\\sqrt{\\frac{s_1^2}{n_1} + \\frac{s_2^2}{n_2}}}\n",
    "\\end{equation*}"
   ]
  },
  {
   "cell_type": "code",
   "execution_count": 6,
   "id": "51a8a150",
   "metadata": {},
   "outputs": [],
   "source": [
    "def t_statistic(x1, x2):\n",
    "    x1_mean = np.mean(x1)\n",
    "    x1_var = np.var(x1)\n",
    "    n1 = x1.shape[0]\n",
    "    x2_mean = np.mean(x2)\n",
    "    x2_var = np.var(x2)\n",
    "    n2 = x2.shape[0]\n",
    "    return (x1_mean - x2_mean) / np.sqrt((x1_var / n1) + (x2_var / n2))"
   ]
  },
  {
   "cell_type": "code",
   "execution_count": 7,
   "id": "b292051d",
   "metadata": {},
   "outputs": [],
   "source": [
    "def permute(n, x, y):\n",
    "    xy = np.concatenate([x,y], axis=0)\n",
    "    n1 = x.shape[0]\n",
    "    n12 = xy.shape[0]\n",
    "    \n",
    "    test_statistics = []\n",
    "    for i in range(n):\n",
    "        xy_permuted = np.random.permutation(xy)\n",
    "        x1 = xy_permuted[:n1]\n",
    "        x2 = xy_permuted[n1:n12]\n",
    "        stat = t_statistic(x1=x1, x2=x2)\n",
    "        test_statistics.append(stat)\n",
    "    return test_statistics"
   ]
  },
  {
   "cell_type": "code",
   "execution_count": 15,
   "id": "51544f94",
   "metadata": {},
   "outputs": [],
   "source": [
    "stat_sample = permute(n=10000, x=x1, y=x2)"
   ]
  },
  {
   "cell_type": "code",
   "execution_count": 23,
   "id": "eead3a32",
   "metadata": {},
   "outputs": [
    {
     "name": "stdout",
     "output_type": "stream",
     "text": [
      "0.039697070093679114\n"
     ]
    }
   ],
   "source": [
    "# SciPy\n",
    "t_stat, p_val = ttest_ind(x1, x2, alternative='less', equal_var=False)\n",
    "print(p_val)"
   ]
  },
  {
   "cell_type": "code",
   "execution_count": 22,
   "id": "8552c347",
   "metadata": {},
   "outputs": [
    {
     "name": "stdout",
     "output_type": "stream",
     "text": [
      "P-value: 0.0409\n"
     ]
    }
   ],
   "source": [
    "print(f'P-value: {np.mean(stat_sample <= t_statistic(x1, x2))}')"
   ]
  },
  {
   "cell_type": "code",
   "execution_count": 18,
   "id": "cf1510de",
   "metadata": {},
   "outputs": [
    {
     "data": {
      "image/png": "[encoded data removed]",
      "text/plain": [
       "<Figure size 640x480 with 1 Axes>"
      ]
     },
     "metadata": {},
     "output_type": "display_data"
    }
   ],
   "source": [
    "plt.hist(stat_sample, bins=20, edgecolor='black');"
   ]
  },
  {
   "cell_type": "markdown",
   "id": "de5bae75",
   "metadata": {},
   "source": [
    "<h3>Two-sided test</h3>"
   ]
  },
  {
   "cell_type": "markdown",
   "id": "af76b6e0",
   "metadata": {},
   "source": [
    "$$\n",
    "\\begin{aligned}\n",
    "\\text{H}_0 &: \\mu_1 = \\mu_2 \\\\\n",
    "\\text{H}_1 &: \\mu_1 \\ne \\mu_2\n",
    "\\end{aligned}\n",
    "$$"
   ]
  },
  {
   "cell_type": "code",
   "execution_count": 24,
   "id": "907e7bda",
   "metadata": {},
   "outputs": [
    {
     "data": {
      "text/plain": [
       "TtestResult(statistic=np.float64(-1.8608134674868526), pvalue=np.float64(0.07939414018735823), df=np.float64(17.776473516178488))"
      ]
     },
     "execution_count": 24,
     "metadata": {},
     "output_type": "execute_result"
    }
   ],
   "source": [
    "ttest_ind(x1, x2, alternative='two-sided', equal_var=False)"
   ]
  },
  {
   "cell_type": "code",
   "execution_count": 28,
   "id": "0182497a",
   "metadata": {},
   "outputs": [
    {
     "name": "stdout",
     "output_type": "stream",
     "text": [
      "P-value: 0.0817\n"
     ]
    }
   ],
   "source": [
    "print(f'P-value: {np.mean(np.abs(stat_sample) >= np.abs(t_statistic(x1, x2)))}')"
   ]
  }
 ],
 "metadata": {
  "kernelspec": {
   "display_name": "Python 3 (ipykernel)",
   "language": "python",
   "name": "python3"
  },
  "language_info": {
   "codemirror_mode": {
    "name": "ipython",
    "version": 3
   },
   "file_extension": ".py",
   "mimetype": "text/x-python",
   "name": "python",
   "nbconvert_exporter": "python",
   "pygments_lexer": "ipython3",
   "version": "3.13.1"
  }
 },
 "nbformat": 4,
 "nbformat_minor": 5
}
