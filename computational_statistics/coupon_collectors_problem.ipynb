{
 "cells": [
  {
   "cell_type": "markdown",
   "id": "ad57dcce",
   "metadata": {},
   "source": [
    "Heität kuusisivuista noppaa (pisteluvut $\\,1,...,6)\\,$ niin monta kertaa, että olet saanut jokaisen pisteluvun vähintään yhden kerran ja lasket kaikkien heittojen pisteluvut yhteen. Määritä näin saamasi **summan odotusarvo** vähintään yhden prosentin tarkkuudella ja **summan varianssi** vähintään 5 prosentin tarkkuudella.\n",
    "\n",
    "[Coupon collector's problem](https://en.wikipedia.org/wiki/Coupon_collector%27s_problem)"
   ]
  },
  {
   "cell_type": "code",
   "execution_count": 1,
   "id": "23c2fd20",
   "metadata": {},
   "outputs": [],
   "source": [
    "import numpy as np"
   ]
  },
  {
   "cell_type": "code",
   "execution_count": 33,
   "id": "42784988",
   "metadata": {},
   "outputs": [],
   "source": [
    "def coupon_collector(m):\n",
    "    \"\"\"\n",
    "    Args:\n",
    "        m: the number of simulations (i.e., the number of times we conduct the coupon collector experiment)\n",
    "    \"\"\"\n",
    "    # Initialize an array to store the sum of the throws until we had collected all of the eye numbers\n",
    "    sum_counts = np.zeros(m)\n",
    "    \n",
    "    # The \"coupons\" (eye numbers) we are trying to collect\n",
    "    eye_nums = np.arange(1, 7)\n",
    "    \n",
    "    for i in range(m):\n",
    "        # Initialize a 6 dimensional zero vector where to collect the \"coupons\" (eye numbers)\n",
    "        coupons = np.zeros(6)\n",
    "        \n",
    "        # An array to store the individual die throws\n",
    "        throws = []\n",
    "\n",
    "        while True:\n",
    "            eye = np.random.choice(a=eye_nums, size=1)    # \"Throw\" the dice\n",
    "            throws.append(eye)                            # Store the eye number we got\n",
    "            if eye not in coupons:\n",
    "                coupons[eye - 1] = eye\n",
    "            if (coupons == eye_nums).all():\n",
    "                sum_counts[i] = np.sum(throws)            # Store the sum of the throws\n",
    "                break\n",
    "                \n",
    "    print(f'Summan odotusarvo: {np.mean(sum_counts):.4f}')\n",
    "    print(f'Summan varianssi: {np.var(sum_counts):.4f}')"
   ]
  },
  {
   "cell_type": "code",
   "execution_count": 52,
   "id": "60612d87",
   "metadata": {},
   "outputs": [
    {
     "name": "stdout",
     "output_type": "stream",
     "text": [
      "Summan odotusarvo: 51.4509\n",
      "Summan varianssi: 520.1620\n"
     ]
    }
   ],
   "source": [
    "coupon_collector(m=100000)"
   ]
  },
  {
   "cell_type": "markdown",
   "id": "5805dc51",
   "metadata": {},
   "source": [
    "- Tää tehtävä oli *Johdatus laskennalliseen tilastotieteeseen* -kurssin harjoitustentistä.\n",
    "- Näillä arvoilla sai täydet pisteet tehtävästä."
   ]
  }
 ],
 "metadata": {
  "kernelspec": {
   "display_name": "Python 3 (ipykernel)",
   "language": "python",
   "name": "python3"
  },
  "language_info": {
   "codemirror_mode": {
    "name": "ipython",
    "version": 3
   },
   "file_extension": ".py",
   "mimetype": "text/x-python",
   "name": "python",
   "nbconvert_exporter": "python",
   "pygments_lexer": "ipython3",
   "version": "3.13.1"
  }
 },
 "nbformat": 4,
 "nbformat_minor": 5
}
