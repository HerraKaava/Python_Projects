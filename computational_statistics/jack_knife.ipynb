{
 "cells": [
  {
   "cell_type": "markdown",
   "id": "d34f8554",
   "metadata": {},
   "source": [
    "The [Jackknife](https://en.wikipedia.org/wiki/Jackknife_resampling) is a *cross-validation* technique, and hence a resampling technique. It is especially useful for [bias](https://en.wikipedia.org/wiki/Bias_of_an_estimator) and [variance](https://en.wikipedia.org/wiki/Variance) estimation.\n",
    "\n",
    "<h3>General Jackknife process</h3>\n",
    "\n",
    "For a given statistic $\\, \\theta \\,$ (e.g., mean, variance, correlation, regression coefficient, etc.):\n",
    "\n",
    "1. Compute the statistic using the **full sample**. Note that with jackknife, we can estimate the same same statistic, or we can use *jackknife replicates* to estimate the properties of this statistic, such as variance, bias, or standard error. For example, if the original estimator T(X) is biased, then its jackknife estimate can reduce its bias (bias correction).\n",
    "2. Compute **leave-one-out** estimates: remove one observation at a time and recompute the statistic.\n",
    "3. Use these **jackknife replicates** to estimate for example the variance, standard error, or bias."
   ]
  },
  {
   "cell_type": "markdown",
   "id": "ca358bf6",
   "metadata": {},
   "source": [
    "<h3>Estimating variance with Jackknife</h3>"
   ]
  },
  {
   "cell_type": "code",
   "execution_count": 16,
   "id": "01938038",
   "metadata": {},
   "outputs": [],
   "source": [
    "import numpy as np"
   ]
  },
  {
   "cell_type": "code",
   "execution_count": 17,
   "id": "2feebd0f",
   "metadata": {},
   "outputs": [],
   "source": [
    "X = np.array([4.17, 5.58, 5.18, 6.11, 4.5, 4.61, 5.17, 4.53, 5.33, 5.14])"
   ]
  },
  {
   "cell_type": "code",
   "execution_count": 18,
   "id": "acc84145",
   "metadata": {},
   "outputs": [],
   "source": [
    "# The number of samples\n",
    "n = X.shape[0]"
   ]
  },
  {
   "cell_type": "code",
   "execution_count": 19,
   "id": "35e0c82c",
   "metadata": {},
   "outputs": [],
   "source": [
    "# (\\hat{T})\n",
    "orig_estimator = np.mean(X)\n",
    "\n",
    "# (\\hat{T}^{j})\n",
    "# Remove the jth observation, and compute the statistic with the subset\n",
    "loo_estimates = np.array([np.mean(np.delete(X, j)) for j in range(n)])\n",
    "\n",
    "# Pseudo values\n",
    "pv = orig_estimator + (n - 1) * (orig_estimator - loo_estimates)\n",
    "\n",
    "# The jackknife estimator is the mean of the pseudo values\n",
    "jackknife_estimator = np.mean(pv)"
   ]
  },
  {
   "cell_type": "code",
   "execution_count": 20,
   "id": "5b1af296",
   "metadata": {},
   "outputs": [
    {
     "data": {
      "text/plain": [
       "np.float64(5.031999999999993)"
      ]
     },
     "execution_count": 20,
     "metadata": {},
     "output_type": "execute_result"
    }
   ],
   "source": [
    "jackknife_estimator"
   ]
  },
  {
   "cell_type": "code",
   "execution_count": 21,
   "id": "ae2ad849",
   "metadata": {},
   "outputs": [
    {
     "data": {
      "text/plain": [
       "np.float64(5.031999999999999)"
      ]
     },
     "execution_count": 21,
     "metadata": {},
     "output_type": "execute_result"
    }
   ],
   "source": [
    "np.mean(X)"
   ]
  }
 ],
 "metadata": {
  "kernelspec": {
   "display_name": "Python 3 (ipykernel)",
   "language": "python",
   "name": "python3"
  },
  "language_info": {
   "codemirror_mode": {
    "name": "ipython",
    "version": 3
   },
   "file_extension": ".py",
   "mimetype": "text/x-python",
   "name": "python",
   "nbconvert_exporter": "python",
   "pygments_lexer": "ipython3",
   "version": "3.13.1"
  }
 },
 "nbformat": 4,
 "nbformat_minor": 5
}
