{
 "cells": [
  {
   "cell_type": "code",
   "execution_count": 1,
   "id": "22278b16",
   "metadata": {},
   "outputs": [],
   "source": [
    "import numpy as np\n",
    "import matplotlib.pyplot as plt"
   ]
  },
  {
   "cell_type": "markdown",
   "id": "9e5f5f9d",
   "metadata": {},
   "source": [
    "<h2>Task 1</h2>"
   ]
  },
  {
   "cell_type": "markdown",
   "id": "3a0a65ec",
   "metadata": {},
   "source": [
    "**(a)**\n",
    "\n",
    "**Condition 1**\n",
    "\n",
    "If a Markov chain is *reversible* (detailed balance) with respect to a distribution $\\, \\pi, \\,$ then $\\, \\pi \\,$ is the *stationary distribution* of the Markov chain. Proof. $\\, \\forall y \\in \\mathbb{S}, \\,$\n",
    "\n",
    "$$ (\\pi P)(y) = \\sum_{x \\in \\mathbb{S}} \\pi (x) P(x, y) = \\sum_{x \\in \\mathbb{S}} \\pi (y) P(y, x) = \\pi (y) \\sum_{x \\in \\mathbb{S}} P(y,x) = \\pi (y). $$\n",
    "\n",
    "This is the definition of a **stationary distribution.**\n",
    "\n",
    "**Condition 2**\n",
    "\n",
    "A Markov chain is said to be (time) reversible with respect to the distribution $\\, \\pi, \\,$ if the following holds\n",
    "\n",
    "$$ \\pi(x) P(x,y) = \\pi(y) P(y,x), $$\n",
    "\n",
    "where $\\, P(x,y) \\,$ is the transition matrix of the Markov chain. This is called the **detailed balance condition** (aikakääntyvä, yksityiskohtainen tasapaino).\n",
    "\n",
    "It is easy to see that condition 2 implies condition 1. However, it does not hold the other way around (condition 1 does not imply condition 2).\n",
    "\n",
    "**(b)**\n",
    "\n",
    "- $\\, \\mathbb{S} = \\mathbb{Z}. \\,$\n",
    "\n",
    "- Since we are given that $\\, P(x,y) = 0, \\,$ when $\\, |x - y| \\ge 2, \\,$ we are dealing with a so-called nearest neigbor constraint; we can only move from state $\\, x \\,$ to either state $\\, x - 1 \\,$ or state $\\, x + 1 \\,$ (or stay in the current state $\\, x).$\n",
    "\n",
    "- $\\, \\pi(x) = \\frac{2^{-|x|}}{3}, \\, \\, x \\in \\mathbb{Z}. \\,$\n",
    "\n",
    "As mentioned in **(a),** if a Markov chain is (time) reversible with respect to $\\, \\pi \\,$\n",
    "\n",
    "$$ \\pi(x) P(x,y) = \\pi(y) P(y,x) \\quad \\forall x, y \\in \\mathbb{S}, $$\n",
    "\n",
    "then it follows that the $\\, \\pi \\,$ is the stationary distribution of the Markov chain.\n",
    "\n",
    "The Markov chain proposes moves as follows. From any current state $\\, x, \\,$\n",
    "- Move to $\\, x + 1 \\,$ with a probability of $\\, 1/2 \\,$\n",
    "- Move to $\\, x - 1 \\,$ with a probability of $\\, 1/2 \\,$\n",
    "\n",
    "Note that even though we can also stay in the current state $\\, x, \\,$ this is not a move that is included in the proposal distribution. We'll denote the proposal distribution with $\\, q(y | x). \\,$ We then have\n",
    "\n",
    "$$ q(y = x + 1 | x) = q(y = x - 1 | x) = 1/2 $$\n",
    "\n",
    "i.e., the proposal distribution is symmetric $\\, \\rightarrow \\,$ *Metropolis* algorithm (instead of *Metropolis-Hastings*) (see lecture notes p. 44). The acceptance probability in the Metropolis algorithm is\n",
    "\n",
    "$$ A(x \\rightarrow y) = \\text{min} \\left(1, \\frac{\\pi(y)}{\\pi(x)} \\right). $$\n",
    "\n",
    "In other words\n",
    "\n",
    "- If $\\, p(y) \\ge p(x), \\,$ we accept the move with probability $\\, 1 \\,$\n",
    "- If $\\, p(y) < p(x), \\,$ we reject the move with some probability (note that we can still accept the move in this case as well)\n",
    "\n",
    "Hence, the probability of moving from $\\, x \\,$ to $\\, y \\,$ is the probability of *proposing* $\\, y, \\,$ given the current state $\\, x, \\,$ times the probability of accepting the move. Mathematically described:\n",
    "\n",
    "$$ P(x,y) = q(y|x) \\, A(x \\rightarrow y). $$\n",
    "\n",
    "From this it follows that the probability of staying at the current state $\\, x \\,$ is $\\, 1 \\,$ minus the probability that we move to either direction. In other words\n",
    "\n",
    "\\begin{align*}\n",
    "    P(x,x) &= 1 - q(x+1|x) \\, A(x \\rightarrow x+1) - q(x-1|x) \\, A(x \\rightarrow x-1) \\\\\n",
    "    &= 1 - \\sum_{x \\ne y} P(x,y)\n",
    "\\end{align*}"
   ]
  },
  {
   "cell_type": "code",
   "execution_count": 2,
   "id": "a7ef6596",
   "metadata": {},
   "outputs": [],
   "source": [
    "def p(x):\n",
    "    \"\"\"\n",
    "    The target distribution that we want our Markov chain to converge to.\n",
    "    We denote this by pi(x) in the notes above.\n",
    "    \"\"\"\n",
    "    return 2.0**(-np.abs(x)) / 3"
   ]
  },
  {
   "cell_type": "code",
   "execution_count": 3,
   "id": "5e791eee",
   "metadata": {},
   "outputs": [],
   "source": [
    "def metropolis_algo(x):\n",
    "    \"\"\"\n",
    "    Implement one step of the Metropolis algorithm.\n",
    "    \n",
    "    Notes:\n",
    "        - y ~ q(y|x) is sampled from the proposal distribution\n",
    "          (the proposal distribution is used to suggest new candidates, \n",
    "          given the current state x).\n",
    "        - p is the target probability distribution (note that it might be unnormalized\n",
    "          since it is sufficient for us to know the nominator of the PDF).\n",
    "    \"\"\"\n",
    "    # Proposing a move y=x+1 or y=x-1 with equal probabilities\n",
    "    y = x + np.random.choice(a=[-1, 1], size=1, p=[1/2, 1/2]).item()\n",
    "    \n",
    "    # Acceptance probability\n",
    "    A = min(1, p(y) / p(x))\n",
    "    \n",
    "    # Simulate U ~ Uniform(0,1)\n",
    "    u = np.random.uniform()\n",
    "    \n",
    "    # If U <= A, we accept the move, otherwise we reject it (stay in the current state)\n",
    "    if u <= A:\n",
    "        return y\n",
    "    else:\n",
    "        return x"
   ]
  },
  {
   "cell_type": "code",
   "execution_count": 4,
   "id": "a76f5096",
   "metadata": {},
   "outputs": [],
   "source": [
    "n = 100000    # Number of Metropolis steps to take\n",
    "x = 0         # Initial state\n",
    "\n",
    "states = []\n",
    "for _ in range(n):\n",
    "    x = metropolis_algo(x)\n",
    "    states.append(x)"
   ]
  },
  {
   "cell_type": "code",
   "execution_count": 34,
   "id": "b5422c33",
   "metadata": {},
   "outputs": [
    {
     "name": "stdout",
     "output_type": "stream",
     "text": [
      "The number of times state -15 got visited: 2\n",
      "The number of times state -14 got visited: 4\n",
      "The number of times state -13 got visited: 4\n",
      "The number of times state -12 got visited: 4\n",
      "The number of times state -11 got visited: 15\n",
      "The number of times state -10 got visited: 27\n",
      "The number of times state -9 got visited: 53\n",
      "The number of times state -8 got visited: 105\n",
      "The number of times state -7 got visited: 220\n",
      "The number of times state -6 got visited: 446\n",
      "The number of times state -5 got visited: 926\n",
      "The number of times state -4 got visited: 1964\n",
      "The number of times state -3 got visited: 4067\n",
      "The number of times state -2 got visited: 8235\n",
      "The number of times state -1 got visited: 16789\n",
      "The number of times state 0 got visited: 33508\n",
      "The number of times state 1 got visited: 16727\n",
      "The number of times state 2 got visited: 8387\n",
      "The number of times state 3 got visited: 4169\n",
      "The number of times state 4 got visited: 2233\n",
      "The number of times state 5 got visited: 1107\n",
      "The number of times state 6 got visited: 541\n",
      "The number of times state 7 got visited: 240\n",
      "The number of times state 8 got visited: 110\n",
      "The number of times state 9 got visited: 56\n",
      "The number of times state 10 got visited: 42\n",
      "The number of times state 11 got visited: 15\n",
      "The number of times state 12 got visited: 3\n",
      "The number of times state 13 got visited: 1\n"
     ]
    }
   ],
   "source": [
    "dummy = np.unique(states, return_counts=True)\n",
    "for state, count in zip(dummy[0], dummy[1]):\n",
    "    print(f'The number of times state {state} got visited: {count}')"
   ]
  },
  {
   "cell_type": "code",
   "execution_count": 28,
   "id": "61e04506",
   "metadata": {},
   "outputs": [],
   "source": [
    "# The empirical distribution\n",
    "# (i.e., the proportions how often the Markov chain visited each state)\n",
    "empirical_distribution = np.unique(states, return_counts=True)[1] / len(states)"
   ]
  },
  {
   "cell_type": "code",
   "execution_count": 29,
   "id": "ddd14601",
   "metadata": {},
   "outputs": [
    {
     "data": {
      "text/plain": [
       "array([0.   , 0.   , 0.   , 0.   , 0.   , 0.   , 0.001, 0.001, 0.002,\n",
       "       0.004, 0.009, 0.02 , 0.041, 0.082, 0.168, 0.335, 0.167, 0.084,\n",
       "       0.042, 0.022, 0.011, 0.005, 0.002, 0.001, 0.001, 0.   , 0.   ,\n",
       "       0.   , 0.   ])"
      ]
     },
     "execution_count": 29,
     "metadata": {},
     "output_type": "execute_result"
    }
   ],
   "source": [
    "empirical_distribution.round(3)"
   ]
  },
  {
   "cell_type": "code",
   "execution_count": 30,
   "id": "e32a1bfa",
   "metadata": {},
   "outputs": [],
   "source": [
    "# The unique states that our simulated Markov chain visited\n",
    "unique_states = np.unique(states)\n",
    "\n",
    "# The theoretical probabilities we expect our Markov chain to converge to\n",
    "theoretical_distr = np.array([p(state) for state in unique_states])\n",
    "\n",
    "# Since the state space is Z (all integers), we have to normalize\n",
    "# the theoretical distribution to match the empirical distribution\n",
    "theoretical_distr_normalized = theoretical_distr / np.sum(theoretical_distr)"
   ]
  },
  {
   "cell_type": "code",
   "execution_count": 31,
   "id": "4e4836af",
   "metadata": {},
   "outputs": [
    {
     "data": {
      "text/plain": [
       "array([0.   , 0.   , 0.   , 0.   , 0.   , 0.   , 0.001, 0.001, 0.003,\n",
       "       0.005, 0.01 , 0.021, 0.042, 0.083, 0.167, 0.333, 0.167, 0.083,\n",
       "       0.042, 0.021, 0.01 , 0.005, 0.003, 0.001, 0.001, 0.   , 0.   ,\n",
       "       0.   , 0.   ])"
      ]
     },
     "execution_count": 31,
     "metadata": {},
     "output_type": "execute_result"
    }
   ],
   "source": [
    "theoretical_distr_normalized.round(3)"
   ]
  },
  {
   "cell_type": "markdown",
   "id": "e80a6c58",
   "metadata": {},
   "source": [
    "- As can be seen, the theoretical distribution is pretty close to the empirical distribution."
   ]
  },
  {
   "cell_type": "code",
   "execution_count": 41,
   "id": "e954374b",
   "metadata": {},
   "outputs": [
    {
     "data": {
      "image/png": "[encoded data removed]",
      "text/plain": [
       "<Figure size 800x600 with 1 Axes>"
      ]
     },
     "metadata": {},
     "output_type": "display_data"
    }
   ],
   "source": [
    "fig, ax = plt.subplots(figsize=(8,6))\n",
    "ax.bar(unique_states, \n",
    "       empirical_distribution, \n",
    "       zorder=2, \n",
    "       label='Empirical distribution')\n",
    "ax.plot(unique_states, \n",
    "        theoretical_distr_normalized, \n",
    "        color='red', \n",
    "        zorder=3, \n",
    "        label='(theoretical) Stationary distribution')\n",
    "ax.grid(True, alpha=0.3, zorder=1)\n",
    "ax.legend();"
   ]
  },
  {
   "cell_type": "markdown",
   "id": "781eb2a0",
   "metadata": {},
   "source": [
    "<h2>Task 2</h2>"
   ]
  },
  {
   "cell_type": "markdown",
   "id": "4bba6935",
   "metadata": {},
   "source": [
    "**(a)**\n",
    "\n",
    "A Markov chain is said to be reversible with respect to a distribution $\\, \\pi \\,$ if the detail balanced condition holds\n",
    "\n",
    "$$ \\pi(x) \\, P(x \\rightarrow y) = \\pi(y) \\, P(y \\rightarrow x). $$\n",
    "\n",
    "In the *Metropolis-Hastings* algorithm, \n",
    "\n",
    "$$\\, P(x \\rightarrow y) = q(y|x) \\, \\alpha(x \\rightarrow y), \\,$$ \n",
    "\n",
    "where $\\, q(y|x) \\,$ is the probability of proposing $\\, y, \\,$ given $\\, x, \\,$ and $\\, \\alpha(x \\rightarrow y) \\,$ is the probability of accepting the proposed move from $\\, x \\,$ to $\\, y. \\,$ Hence, the detailed balanced condition in the *Metropolis-Hastings* algorithm is\n",
    "\n",
    "\\begin{align*}\n",
    "    \\pi(x) \\, P(x \\rightarrow y) &= \\pi(y) \\, P(y \\rightarrow x) \\\\\n",
    "    \\pi(x) \\, q(y|x) \\, \\alpha(x \\rightarrow y) &= \\pi(y) \\, q(x|y) \\, \\alpha(y \\rightarrow x) \\tag{1}\n",
    "\\end{align*}\n",
    "\n",
    "$\\, \\forall x, y \\in \\mathbb{S}, x \\ne y. \\,$\n",
    "\n",
    "Rearranging equation $\\, (1) \\,$ above we get\n",
    "\n",
    "$$ \\frac{\\alpha(x \\rightarrow y)}{\\alpha(y \\rightarrow x)} = \\frac{\\pi(y) \\, q(x|y)}{\\pi(x) \\, q(y|x)} \\tag{2} $$\n",
    "\n",
    "Equation $\\, (2) \\,$ is useful in part **(b).**\n",
    "\n",
    "**(b)**\n",
    "\n",
    "Don't really understand why the acceptance probability is missing the minimum argument. Anyway, let\n",
    "\n",
    "$$ r(x,y) = \\frac{\\alpha(x \\rightarrow y)}{\\alpha(y \\rightarrow x)} = \\frac{\\pi(y) \\, q(x|y)}{\\pi(x) \\, q(y|x)} \\tag{3} $$\n",
    "\n",
    "Then, the acceptance probability is\n",
    "\n",
    "$$ \\alpha(x \\rightarrow y) = \\text{min}(1, r(x,y)). $$\n",
    "\n",
    "There are two cases to check ([ref](https://www.youtube.com/watch?v=yCv2N7wGDCw)).\n",
    "\n",
    "Case 1: $\\, r(x,y) < 1 \\,$\n",
    "\n",
    "- $\\, \\alpha(x\\rightarrow y) = r(x,y) \\,$\n",
    "- $\\, \\alpha(y\\rightarrow x) = 1 \\,$ (look at equation $\\, (3) \\,$ to understand why)\n",
    "\n",
    "Hence, we get\n",
    "\n",
    "\\begin{align*}\n",
    "    \\pi(x) \\, P(x \\rightarrow y) &= \\pi(x) \\, q(y|x) \\, \\alpha(x \\rightarrow y) \\\\\n",
    "    &= \\pi(x) \\, q(y|x) \\, r(x,y) \\\\\n",
    "    &= \\pi(x) \\, q(y|x) \\, \\frac{\\pi(y) \\, q(x|y)}{\\pi(x) \\, q(y|x)} \\\\\n",
    "    &= \\pi(y) \\, q(x|y) \\\\\n",
    "    &= \\pi(y) \\, q(x|y) \\, \\alpha(y\\rightarrow x) \\\\\n",
    "    &= \\pi(y) \\, P(y \\rightarrow x)\n",
    "\\end{align*}\n",
    "\n",
    "So the detailed balanced condition holds.\n",
    "\n",
    "Case 2: $\\, r(x,y) \\ge 1 \\,$\n",
    "\n",
    "- $\\, \\alpha(x\\rightarrow y) = 1 \\,$\n",
    "- $\\, \\alpha(y \\rightarrow x) = \\large \\frac{1}{r(x,y)} \\,$\n",
    "\n",
    "Hence, we get\n",
    "\n",
    "\\begin{align*}\n",
    "    \\pi(y) \\, P(y \\rightarrow x) &= \\pi(y) \\, q(x|y) \\, \\alpha(y \\rightarrow x) \\\\\n",
    "    &= \\pi(y) \\, q(x|y) \\, \\frac{1}{r(x,y)} \\\\\n",
    "    &= \\pi(y) \\, q(x|y) \\, \\frac{\\pi(x) \\, q(y|x)}{\\pi(y) \\, q(x|y)} \\\\\n",
    "    &= \\pi(x) \\, q(y|x) \\\\\n",
    "    &= \\pi(x) \\, q(y|x) \\, \\alpha(x\\rightarrow y) \\\\\n",
    "    &= \\pi(x) \\, P(x \\rightarrow y)\n",
    "\\end{align*}\n",
    "\n",
    "So the detailed balanced condition holds.\n",
    "\n",
    "The deriation above proves that formula **2** is in fact correct. It turns out that formula **3** is correct as well, and the derivation is similar. Formula **3** is called the [Baker's](https://arxiv.org/pdf/1709.07710) acceptance probability (see page 3 on the link)."
   ]
  }
 ],
 "metadata": {
  "kernelspec": {
   "display_name": "Python 3 (ipykernel)",
   "language": "python",
   "name": "python3"
  },
  "language_info": {
   "codemirror_mode": {
    "name": "ipython",
    "version": 3
   },
   "file_extension": ".py",
   "mimetype": "text/x-python",
   "name": "python",
   "nbconvert_exporter": "python",
   "pygments_lexer": "ipython3",
   "version": "3.13.1"
  }
 },
 "nbformat": 4,
 "nbformat_minor": 5
}
